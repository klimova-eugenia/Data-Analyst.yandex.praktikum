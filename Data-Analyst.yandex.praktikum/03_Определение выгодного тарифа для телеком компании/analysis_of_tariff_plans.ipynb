{
 "cells": [
  {
   "cell_type": "markdown",
   "metadata": {},
   "source": [
    "## Исследование двух тарифных планов \"Смарт\" и \"Ультра\" для оператора сотовой связи"
   ]
  },
  {
   "cell_type": "markdown",
   "metadata": {},
   "source": [
    "    Вы аналитик компании «Мегалайн» — федерального оператора сотовой связи.\n",
    "    Клиентам предлагают два тарифных плана: «Смарт» и «Ультра».\n",
    "    Чтобы скорректировать рекламный бюджет, коммерческий департамент хочет понять,\n",
    "    какой тариф приносит больше денег. Нужно проанализировать поведение клиентов и\n",
    "    сделать вывод - какой тариф лучше."
   ]
  },
  {
   "cell_type": "markdown",
   "metadata": {},
   "source": [
    "**Описание тарифов**\n",
    "\n",
    "***Тариф «Смарт»***\n",
    "\n",
    "    Ежемесячная плата: 550 рублей\n",
    "    Включено 500 минут разговора, 50 сообщений и 15 Гб интернет-трафика\n",
    "    Стоимость услуг сверх тарифного пакета:\n",
    "\n",
    "    минута разговора: 3 рубля\n",
    "    сообщение: 3 рубля\n",
    "    1 Гб интернет-трафика: 200 рублей\n",
    "    \n",
    "***Тариф «Ультра»***\n",
    "\n",
    "    Ежемесячная плата: 1950 рублей\n",
    "    Включено 3000 минут разговора, 1000 сообщений и 30 Гб интернет-трафика\n",
    "    Стоимость услуг сверх тарифного пакета:\n",
    "\n",
    "    минута разговора: 1 рубль\n",
    "    сообщение: 1 рубль\n",
    "    1 Гб интернет-трафика: 150 рублей\n",
    "\n",
    "    «Мегалайн» всегда округляет вверх значения минут и мегабайтов.\n",
    "    Если пользователь проговорил всего 1 секунду, в тарифе засчитывается целая минута."
   ]
  },
  {
   "cell_type": "markdown",
   "metadata": {},
   "source": [
    "## Содержание:\n",
    "* [Шаг 1. Общая информация](#1-bullet)\n",
    "* [Шаг 2. Предобработка данных](#2-bullet)\n",
    "* 2.1. [Приведение данных к нужным типам](#2-1-bullet)\n",
    "* 2.2. [Работа с пропусками](#2-2-bullet)\n",
    "* 2.3. [Поиск дубликатов](#2-3-bullet)\n",
    "* 2.4. [Количество отправленных сообщений по месяцам](#2-4-bullet)\n",
    "* 2.5. [Объем израсходованного интернет-трафика  по месяцам](#2-5-bullet)\n",
    "* 2.6. [Доля абонентов тарифов smart и ultra  в выборке](#2-6-bullet)\n",
    "* 2.7. [Помесячная выручка с каждого пользователя](#2-7-bullet)\n",
    "* [Шаг 3. Анализ данных](#3-bullet)\n",
    "* 3.1. [Сколько минут разговора требуется пользователем каждого тарифа в месяц](#3-1-bullet)\n",
    "* 3.2. [Сколько сообщений требуется пользователем каждого тарифа в месяц](#3-2-bullet)\n",
    "* 3.3. [Какой объем интернет-трафика требуется пользователем каждого тарифа в месяц](#3-3-bullet)\n",
    "* [Шаг 4. Проверка гипотез](#4-bullet)\n",
    "* 4.1. [Средняя выручка пользователей тарифов \"Ультра\" и \"Смарт\" различается](#4-1-bullet)\n",
    "* 4.2.[Средняя выручка пользователей из Москвы отличается от выручки пользователей из других регионов](#4-2-bullet)\n",
    "* [Шаг 5. Общий вывод](#5-bullet)"
   ]
  },
  {
   "cell_type": "markdown",
   "metadata": {},
   "source": [
    "### Шаг 1. Общая информация<a class=\"anchor\" id=\"1-bullet\"></a>"
   ]
  },
  {
   "cell_type": "code",
   "execution_count": 1,
   "metadata": {},
   "outputs": [],
   "source": [
    "import pandas as pd\n",
    "import matplotlib.pyplot as plt\n",
    "import numpy as np\n",
    "import math"
   ]
  },
  {
   "cell_type": "code",
   "execution_count": 2,
   "metadata": {},
   "outputs": [
    {
     "data": {
      "text/html": [
       "<div>\n",
       "<style scoped>\n",
       "    .dataframe tbody tr th:only-of-type {\n",
       "        vertical-align: middle;\n",
       "    }\n",
       "\n",
       "    .dataframe tbody tr th {\n",
       "        vertical-align: top;\n",
       "    }\n",
       "\n",
       "    .dataframe thead th {\n",
       "        text-align: right;\n",
       "    }\n",
       "</style>\n",
       "<table border=\"1\" class=\"dataframe\">\n",
       "  <thead>\n",
       "    <tr style=\"text-align: right;\">\n",
       "      <th></th>\n",
       "      <th>user_id</th>\n",
       "      <th>age</th>\n",
       "      <th>churn_date</th>\n",
       "      <th>city</th>\n",
       "      <th>first_name</th>\n",
       "      <th>last_name</th>\n",
       "      <th>reg_date</th>\n",
       "      <th>tariff</th>\n",
       "    </tr>\n",
       "  </thead>\n",
       "  <tbody>\n",
       "    <tr>\n",
       "      <td>0</td>\n",
       "      <td>1000</td>\n",
       "      <td>52</td>\n",
       "      <td>NaN</td>\n",
       "      <td>Краснодар</td>\n",
       "      <td>Рафаил</td>\n",
       "      <td>Верещагин</td>\n",
       "      <td>2018-05-25</td>\n",
       "      <td>ultra</td>\n",
       "    </tr>\n",
       "    <tr>\n",
       "      <td>1</td>\n",
       "      <td>1001</td>\n",
       "      <td>41</td>\n",
       "      <td>NaN</td>\n",
       "      <td>Москва</td>\n",
       "      <td>Иван</td>\n",
       "      <td>Ежов</td>\n",
       "      <td>2018-11-01</td>\n",
       "      <td>smart</td>\n",
       "    </tr>\n",
       "    <tr>\n",
       "      <td>2</td>\n",
       "      <td>1002</td>\n",
       "      <td>59</td>\n",
       "      <td>NaN</td>\n",
       "      <td>Стерлитамак</td>\n",
       "      <td>Евгений</td>\n",
       "      <td>Абрамович</td>\n",
       "      <td>2018-06-17</td>\n",
       "      <td>smart</td>\n",
       "    </tr>\n",
       "    <tr>\n",
       "      <td>3</td>\n",
       "      <td>1003</td>\n",
       "      <td>23</td>\n",
       "      <td>NaN</td>\n",
       "      <td>Москва</td>\n",
       "      <td>Белла</td>\n",
       "      <td>Белякова</td>\n",
       "      <td>2018-08-17</td>\n",
       "      <td>ultra</td>\n",
       "    </tr>\n",
       "    <tr>\n",
       "      <td>4</td>\n",
       "      <td>1004</td>\n",
       "      <td>68</td>\n",
       "      <td>NaN</td>\n",
       "      <td>Новокузнецк</td>\n",
       "      <td>Татьяна</td>\n",
       "      <td>Авдеенко</td>\n",
       "      <td>2018-05-14</td>\n",
       "      <td>ultra</td>\n",
       "    </tr>\n",
       "  </tbody>\n",
       "</table>\n",
       "</div>"
      ],
      "text/plain": [
       "   user_id  age churn_date         city first_name  last_name    reg_date  \\\n",
       "0     1000   52        NaN    Краснодар     Рафаил  Верещагин  2018-05-25   \n",
       "1     1001   41        NaN       Москва       Иван       Ежов  2018-11-01   \n",
       "2     1002   59        NaN  Стерлитамак    Евгений  Абрамович  2018-06-17   \n",
       "3     1003   23        NaN       Москва      Белла   Белякова  2018-08-17   \n",
       "4     1004   68        NaN  Новокузнецк    Татьяна   Авдеенко  2018-05-14   \n",
       "\n",
       "  tariff  \n",
       "0  ultra  \n",
       "1  smart  \n",
       "2  smart  \n",
       "3  ultra  \n",
       "4  ultra  "
      ]
     },
     "execution_count": 2,
     "metadata": {},
     "output_type": "execute_result"
    }
   ],
   "source": [
    "users = pd.read_csv('/datasets/users.csv')\n",
    "users.head(5)"
   ]
  },
  {
   "cell_type": "markdown",
   "metadata": {},
   "source": [
    "**Описание данных**: \n",
    "***Таблица users (информация о пользователях)***\n",
    "\n",
    "* user_id — уникальный идентификатор пользователя\n",
    "* first_name — имя пользователя\n",
    "* last_name — фамилия пользователя\n",
    "* age — возраст пользователя (годы)\n",
    "* reg_date — дата подключения тарифа (день, месяц, год)\n",
    "* churn_date — дата прекращения пользования тарифом (если значение пропущено, то тариф ещё действовал на момент выгрузки данных)\n",
    "* city — город проживания пользователя\n",
    "* tariff — название тарифного плана"
   ]
  },
  {
   "cell_type": "code",
   "execution_count": 3,
   "metadata": {},
   "outputs": [
    {
     "name": "stdout",
     "output_type": "stream",
     "text": [
      "<class 'pandas.core.frame.DataFrame'>\n",
      "RangeIndex: 500 entries, 0 to 499\n",
      "Data columns (total 8 columns):\n",
      "user_id       500 non-null int64\n",
      "age           500 non-null int64\n",
      "churn_date    38 non-null object\n",
      "city          500 non-null object\n",
      "first_name    500 non-null object\n",
      "last_name     500 non-null object\n",
      "reg_date      500 non-null object\n",
      "tariff        500 non-null object\n",
      "dtypes: int64(2), object(6)\n",
      "memory usage: 31.4+ KB\n"
     ]
    }
   ],
   "source": [
    "users.info()"
   ]
  },
  {
   "cell_type": "code",
   "execution_count": 4,
   "metadata": {},
   "outputs": [
    {
     "data": {
      "text/plain": [
       "0"
      ]
     },
     "execution_count": 4,
     "metadata": {},
     "output_type": "execute_result"
    }
   ],
   "source": [
    " users['user_id'].duplicated().sum()"
   ]
  },
  {
   "cell_type": "code",
   "execution_count": 5,
   "metadata": {},
   "outputs": [
    {
     "data": {
      "text/plain": [
       "array(['Краснодар', 'Москва', 'Стерлитамак', 'Новокузнецк',\n",
       "       'Набережные Челны', 'Ульяновск', 'Челябинск', 'Пермь', 'Тюмень',\n",
       "       'Самара', 'Санкт-Петербург', 'Иваново', 'Чебоксары', 'Омск', 'Уфа',\n",
       "       'Томск', 'Чита', 'Мурманск', 'Петрозаводск', 'Тверь',\n",
       "       'Екатеринбург', 'Махачкала', 'Вологда', 'Череповец', 'Ярославль',\n",
       "       'Сочи', 'Хабаровск', 'Ставрополь', 'Рязань', 'Улан-Удэ', 'Тула',\n",
       "       'Саратов', 'Ростов-на-Дону', 'Казань', 'Иркутск', 'Курск',\n",
       "       'Калуга', 'Якутск', 'Астрахань', 'Химки', 'Владикавказ',\n",
       "       'Волгоград', 'Саранск', 'Ижевск', 'Новосибирск', 'Брянск',\n",
       "       'Тольятти', 'Нижний Тагил', 'Орёл', 'Белгород', 'Воронеж',\n",
       "       'Волжский', 'Курган', 'Барнаул', 'Красноярск', 'Архангельск',\n",
       "       'Липецк', 'Кемерово', 'Киров', 'Сургут', 'Пенза', 'Магнитогорск',\n",
       "       'Нижний Новгород', 'Кострома', 'Владивосток', 'Тамбов', 'Балашиха',\n",
       "       'Севастополь', 'Калининград', 'Оренбург', 'Смоленск',\n",
       "       'Нижневартовск', 'Владимир', 'Новороссийск', 'Грозный', 'Подольск'],\n",
       "      dtype=object)"
      ]
     },
     "execution_count": 5,
     "metadata": {},
     "output_type": "execute_result"
    }
   ],
   "source": [
    "users['city'].unique()"
   ]
  },
  {
   "cell_type": "markdown",
   "metadata": {},
   "source": [
    "* в таблице 'users' 8 колонок и 500 строк.\n",
    "* в колонке ['churn_date'] есть пропущенные значения. Если значение пропущено, то тариф еще действовал на момент выгрузки данных. Таким образом, 462 тарифа действовали на момент выгрузки данных, 38  не действовали. Пропуски будут оставлены, так как для решения поставленных задач, данные в этой колонке не нужны. \n",
    "- в колонке ['churn_date'] и ['reg_date'] - необходимо перевести значения из строки в дату.\n",
    "- в колонке ['user_id'] все пользователи уникальные, дубликатов нет.\n",
    "- так как далее в иследовании необходимо будет группировать выборку по регионам (\"Москва\" и \"другие регионы\", убедилась, что в колонке ['city'] нет разных вариантов написания города \"Москва\"."
   ]
  },
  {
   "cell_type": "code",
   "execution_count": 6,
   "metadata": {},
   "outputs": [
    {
     "data": {
      "text/html": [
       "<div>\n",
       "<style scoped>\n",
       "    .dataframe tbody tr th:only-of-type {\n",
       "        vertical-align: middle;\n",
       "    }\n",
       "\n",
       "    .dataframe tbody tr th {\n",
       "        vertical-align: top;\n",
       "    }\n",
       "\n",
       "    .dataframe thead th {\n",
       "        text-align: right;\n",
       "    }\n",
       "</style>\n",
       "<table border=\"1\" class=\"dataframe\">\n",
       "  <thead>\n",
       "    <tr style=\"text-align: right;\">\n",
       "      <th></th>\n",
       "      <th>id</th>\n",
       "      <th>call_date</th>\n",
       "      <th>duration</th>\n",
       "      <th>user_id</th>\n",
       "    </tr>\n",
       "  </thead>\n",
       "  <tbody>\n",
       "    <tr>\n",
       "      <td>0</td>\n",
       "      <td>1000_0</td>\n",
       "      <td>2018-07-25</td>\n",
       "      <td>0.00</td>\n",
       "      <td>1000</td>\n",
       "    </tr>\n",
       "    <tr>\n",
       "      <td>1</td>\n",
       "      <td>1000_1</td>\n",
       "      <td>2018-08-17</td>\n",
       "      <td>0.00</td>\n",
       "      <td>1000</td>\n",
       "    </tr>\n",
       "    <tr>\n",
       "      <td>2</td>\n",
       "      <td>1000_2</td>\n",
       "      <td>2018-06-11</td>\n",
       "      <td>2.85</td>\n",
       "      <td>1000</td>\n",
       "    </tr>\n",
       "    <tr>\n",
       "      <td>3</td>\n",
       "      <td>1000_3</td>\n",
       "      <td>2018-09-21</td>\n",
       "      <td>13.80</td>\n",
       "      <td>1000</td>\n",
       "    </tr>\n",
       "    <tr>\n",
       "      <td>4</td>\n",
       "      <td>1000_4</td>\n",
       "      <td>2018-12-15</td>\n",
       "      <td>5.18</td>\n",
       "      <td>1000</td>\n",
       "    </tr>\n",
       "  </tbody>\n",
       "</table>\n",
       "</div>"
      ],
      "text/plain": [
       "       id   call_date  duration  user_id\n",
       "0  1000_0  2018-07-25      0.00     1000\n",
       "1  1000_1  2018-08-17      0.00     1000\n",
       "2  1000_2  2018-06-11      2.85     1000\n",
       "3  1000_3  2018-09-21     13.80     1000\n",
       "4  1000_4  2018-12-15      5.18     1000"
      ]
     },
     "execution_count": 6,
     "metadata": {},
     "output_type": "execute_result"
    }
   ],
   "source": [
    "calls = pd.read_csv('/datasets/calls.csv')\n",
    "calls.head(5)"
   ]
  },
  {
   "cell_type": "markdown",
   "metadata": {},
   "source": [
    "**Описание данных**: ***Таблица calls (информация о звонках)***\n",
    "\n",
    "* id — уникальный номер звонка\n",
    "* call_date — дата звонка\n",
    "* duration — длительность звонка в минутах\n",
    "* user_id — идентификатор пользователя, сделавшего звонок"
   ]
  },
  {
   "cell_type": "code",
   "execution_count": 7,
   "metadata": {},
   "outputs": [
    {
     "name": "stdout",
     "output_type": "stream",
     "text": [
      "<class 'pandas.core.frame.DataFrame'>\n",
      "RangeIndex: 202607 entries, 0 to 202606\n",
      "Data columns (total 4 columns):\n",
      "id           202607 non-null object\n",
      "call_date    202607 non-null object\n",
      "duration     202607 non-null float64\n",
      "user_id      202607 non-null int64\n",
      "dtypes: float64(1), int64(1), object(2)\n",
      "memory usage: 6.2+ MB\n"
     ]
    }
   ],
   "source": [
    "calls.info()"
   ]
  },
  {
   "cell_type": "markdown",
   "metadata": {},
   "source": [
    "* в таблице 'calls' 4 колонки и 202607 строк\n",
    "* в колонках отсутствуют пропущенные значения\n",
    "* в колонке ['call_date'] - необходимо перевести значения из строки в дату. "
   ]
  },
  {
   "cell_type": "code",
   "execution_count": 8,
   "metadata": {},
   "outputs": [
    {
     "data": {
      "text/html": [
       "<div>\n",
       "<style scoped>\n",
       "    .dataframe tbody tr th:only-of-type {\n",
       "        vertical-align: middle;\n",
       "    }\n",
       "\n",
       "    .dataframe tbody tr th {\n",
       "        vertical-align: top;\n",
       "    }\n",
       "\n",
       "    .dataframe thead th {\n",
       "        text-align: right;\n",
       "    }\n",
       "</style>\n",
       "<table border=\"1\" class=\"dataframe\">\n",
       "  <thead>\n",
       "    <tr style=\"text-align: right;\">\n",
       "      <th></th>\n",
       "      <th>id</th>\n",
       "      <th>message_date</th>\n",
       "      <th>user_id</th>\n",
       "    </tr>\n",
       "  </thead>\n",
       "  <tbody>\n",
       "    <tr>\n",
       "      <td>0</td>\n",
       "      <td>1000_0</td>\n",
       "      <td>2018-06-27</td>\n",
       "      <td>1000</td>\n",
       "    </tr>\n",
       "    <tr>\n",
       "      <td>1</td>\n",
       "      <td>1000_1</td>\n",
       "      <td>2018-10-08</td>\n",
       "      <td>1000</td>\n",
       "    </tr>\n",
       "    <tr>\n",
       "      <td>2</td>\n",
       "      <td>1000_2</td>\n",
       "      <td>2018-08-04</td>\n",
       "      <td>1000</td>\n",
       "    </tr>\n",
       "    <tr>\n",
       "      <td>3</td>\n",
       "      <td>1000_3</td>\n",
       "      <td>2018-06-16</td>\n",
       "      <td>1000</td>\n",
       "    </tr>\n",
       "    <tr>\n",
       "      <td>4</td>\n",
       "      <td>1000_4</td>\n",
       "      <td>2018-12-05</td>\n",
       "      <td>1000</td>\n",
       "    </tr>\n",
       "  </tbody>\n",
       "</table>\n",
       "</div>"
      ],
      "text/plain": [
       "       id message_date  user_id\n",
       "0  1000_0   2018-06-27     1000\n",
       "1  1000_1   2018-10-08     1000\n",
       "2  1000_2   2018-08-04     1000\n",
       "3  1000_3   2018-06-16     1000\n",
       "4  1000_4   2018-12-05     1000"
      ]
     },
     "execution_count": 8,
     "metadata": {},
     "output_type": "execute_result"
    }
   ],
   "source": [
    "messages = pd.read_csv('/datasets/messages.csv')\n",
    "messages.head(5)"
   ]
  },
  {
   "cell_type": "markdown",
   "metadata": {},
   "source": [
    "**Описание данных**: ***Таблица messages (информация о сообщениях)***\n",
    "\n",
    "* id — уникальный номер сообщения\n",
    "* message_date — дата сообщения\n",
    "* user_id — идентификатор пользователя, отправившего сообщение"
   ]
  },
  {
   "cell_type": "code",
   "execution_count": 9,
   "metadata": {},
   "outputs": [
    {
     "name": "stdout",
     "output_type": "stream",
     "text": [
      "<class 'pandas.core.frame.DataFrame'>\n",
      "RangeIndex: 123036 entries, 0 to 123035\n",
      "Data columns (total 3 columns):\n",
      "id              123036 non-null object\n",
      "message_date    123036 non-null object\n",
      "user_id         123036 non-null int64\n",
      "dtypes: int64(1), object(2)\n",
      "memory usage: 2.8+ MB\n"
     ]
    }
   ],
   "source": [
    "messages.info()"
   ]
  },
  {
   "cell_type": "markdown",
   "metadata": {},
   "source": [
    "  \n",
    "* в таблице 'messages' 3 колонки и 123036 строк\n",
    "* в колонках отсутствуют пропущенные значения\n",
    "* в колонке ['message_date'] необходимо перевести значения из строки в дату."
   ]
  },
  {
   "cell_type": "code",
   "execution_count": 10,
   "metadata": {},
   "outputs": [
    {
     "data": {
      "text/html": [
       "<div>\n",
       "<style scoped>\n",
       "    .dataframe tbody tr th:only-of-type {\n",
       "        vertical-align: middle;\n",
       "    }\n",
       "\n",
       "    .dataframe tbody tr th {\n",
       "        vertical-align: top;\n",
       "    }\n",
       "\n",
       "    .dataframe thead th {\n",
       "        text-align: right;\n",
       "    }\n",
       "</style>\n",
       "<table border=\"1\" class=\"dataframe\">\n",
       "  <thead>\n",
       "    <tr style=\"text-align: right;\">\n",
       "      <th></th>\n",
       "      <th>Unnamed: 0</th>\n",
       "      <th>id</th>\n",
       "      <th>mb_used</th>\n",
       "      <th>session_date</th>\n",
       "      <th>user_id</th>\n",
       "    </tr>\n",
       "  </thead>\n",
       "  <tbody>\n",
       "    <tr>\n",
       "      <td>0</td>\n",
       "      <td>0</td>\n",
       "      <td>1000_0</td>\n",
       "      <td>112.95</td>\n",
       "      <td>2018-11-25</td>\n",
       "      <td>1000</td>\n",
       "    </tr>\n",
       "    <tr>\n",
       "      <td>1</td>\n",
       "      <td>1</td>\n",
       "      <td>1000_1</td>\n",
       "      <td>1052.81</td>\n",
       "      <td>2018-09-07</td>\n",
       "      <td>1000</td>\n",
       "    </tr>\n",
       "    <tr>\n",
       "      <td>2</td>\n",
       "      <td>2</td>\n",
       "      <td>1000_2</td>\n",
       "      <td>1197.26</td>\n",
       "      <td>2018-06-25</td>\n",
       "      <td>1000</td>\n",
       "    </tr>\n",
       "    <tr>\n",
       "      <td>3</td>\n",
       "      <td>3</td>\n",
       "      <td>1000_3</td>\n",
       "      <td>550.27</td>\n",
       "      <td>2018-08-22</td>\n",
       "      <td>1000</td>\n",
       "    </tr>\n",
       "    <tr>\n",
       "      <td>4</td>\n",
       "      <td>4</td>\n",
       "      <td>1000_4</td>\n",
       "      <td>302.56</td>\n",
       "      <td>2018-09-24</td>\n",
       "      <td>1000</td>\n",
       "    </tr>\n",
       "  </tbody>\n",
       "</table>\n",
       "</div>"
      ],
      "text/plain": [
       "   Unnamed: 0      id  mb_used session_date  user_id\n",
       "0           0  1000_0   112.95   2018-11-25     1000\n",
       "1           1  1000_1  1052.81   2018-09-07     1000\n",
       "2           2  1000_2  1197.26   2018-06-25     1000\n",
       "3           3  1000_3   550.27   2018-08-22     1000\n",
       "4           4  1000_4   302.56   2018-09-24     1000"
      ]
     },
     "execution_count": 10,
     "metadata": {},
     "output_type": "execute_result"
    }
   ],
   "source": [
    "internet = pd.read_csv('/datasets/internet.csv')\n",
    "internet.head(5)"
   ]
  },
  {
   "cell_type": "markdown",
   "metadata": {},
   "source": [
    "**Описание данных**: ***Таблица internet (информация об интернет-сессиях)***\n",
    "\n",
    "* id — уникальный номер сессии\n",
    "* mb_used — объём потраченного за сессию интернет-трафика (в мегабайтах)\n",
    "* session_date — дата интернет-сессии\n",
    "* user_id — идентификатор пользователя"
   ]
  },
  {
   "cell_type": "code",
   "execution_count": 11,
   "metadata": {},
   "outputs": [
    {
     "name": "stdout",
     "output_type": "stream",
     "text": [
      "<class 'pandas.core.frame.DataFrame'>\n",
      "RangeIndex: 149396 entries, 0 to 149395\n",
      "Data columns (total 5 columns):\n",
      "Unnamed: 0      149396 non-null int64\n",
      "id              149396 non-null object\n",
      "mb_used         149396 non-null float64\n",
      "session_date    149396 non-null object\n",
      "user_id         149396 non-null int64\n",
      "dtypes: float64(1), int64(2), object(2)\n",
      "memory usage: 5.7+ MB\n"
     ]
    }
   ],
   "source": [
    "internet.info()"
   ]
  },
  {
   "cell_type": "markdown",
   "metadata": {},
   "source": [
    "* в таблице 'internet' 4 колонки и 149396 строк\n",
    "* в колонках отсутствуют пропущенные значения\n",
    "* в колонке ['session_date'] необходимо перевести значения из строки в дату."
   ]
  },
  {
   "cell_type": "code",
   "execution_count": 12,
   "metadata": {},
   "outputs": [
    {
     "data": {
      "text/html": [
       "<div>\n",
       "<style scoped>\n",
       "    .dataframe tbody tr th:only-of-type {\n",
       "        vertical-align: middle;\n",
       "    }\n",
       "\n",
       "    .dataframe tbody tr th {\n",
       "        vertical-align: top;\n",
       "    }\n",
       "\n",
       "    .dataframe thead th {\n",
       "        text-align: right;\n",
       "    }\n",
       "</style>\n",
       "<table border=\"1\" class=\"dataframe\">\n",
       "  <thead>\n",
       "    <tr style=\"text-align: right;\">\n",
       "      <th></th>\n",
       "      <th>messages_included</th>\n",
       "      <th>mb_per_month_included</th>\n",
       "      <th>minutes_included</th>\n",
       "      <th>rub_monthly_fee</th>\n",
       "      <th>rub_per_gb</th>\n",
       "      <th>rub_per_message</th>\n",
       "      <th>rub_per_minute</th>\n",
       "      <th>tariff_name</th>\n",
       "    </tr>\n",
       "  </thead>\n",
       "  <tbody>\n",
       "    <tr>\n",
       "      <td>0</td>\n",
       "      <td>50</td>\n",
       "      <td>15360</td>\n",
       "      <td>500</td>\n",
       "      <td>550</td>\n",
       "      <td>200</td>\n",
       "      <td>3</td>\n",
       "      <td>3</td>\n",
       "      <td>smart</td>\n",
       "    </tr>\n",
       "    <tr>\n",
       "      <td>1</td>\n",
       "      <td>1000</td>\n",
       "      <td>30720</td>\n",
       "      <td>3000</td>\n",
       "      <td>1950</td>\n",
       "      <td>150</td>\n",
       "      <td>1</td>\n",
       "      <td>1</td>\n",
       "      <td>ultra</td>\n",
       "    </tr>\n",
       "  </tbody>\n",
       "</table>\n",
       "</div>"
      ],
      "text/plain": [
       "   messages_included  mb_per_month_included  minutes_included  \\\n",
       "0                 50                  15360               500   \n",
       "1               1000                  30720              3000   \n",
       "\n",
       "   rub_monthly_fee  rub_per_gb  rub_per_message  rub_per_minute tariff_name  \n",
       "0              550         200                3               3       smart  \n",
       "1             1950         150                1               1       ultra  "
      ]
     },
     "execution_count": 12,
     "metadata": {},
     "output_type": "execute_result"
    }
   ],
   "source": [
    "tariffs = pd.read_csv('/datasets/tariffs.csv')\n",
    "tariffs.head(5)"
   ]
  },
  {
   "cell_type": "markdown",
   "metadata": {},
   "source": [
    "**Описание данных**: ***Таблица tariffs (информация о тарифах)***\n",
    "\n",
    "* tariff_name — название тарифа\n",
    "* rub_monthly_fee — ежемесячная абонентская плата в рублях\n",
    "* minutes_included — количество минут разговора в месяц, включённых в абонентскую плату\n",
    "* messages_included — количество сообщений в месяц, включённых в абонентскую плату\n",
    "* mb_per_month_included — объём интернет-трафика, включённого в абонентскую плату (в мегабайтах)\n",
    "* rub_per_minute — стоимость минуты разговора сверх тарифного пакета (например, если в тарифе 100 минут разговора в месяц, то со 101 минуты будет взиматься плата)\n",
    "* rub_per_message — стоимость отправки сообщения сверх тарифного пакета\n",
    "* rub_per_gb — стоимость дополнительного гигабайта интернет-трафика сверх тарифного пакета (1 гигабайт = 1024 мегабайта)"
   ]
  },
  {
   "cell_type": "code",
   "execution_count": 13,
   "metadata": {},
   "outputs": [
    {
     "name": "stdout",
     "output_type": "stream",
     "text": [
      "<class 'pandas.core.frame.DataFrame'>\n",
      "RangeIndex: 2 entries, 0 to 1\n",
      "Data columns (total 8 columns):\n",
      "messages_included        2 non-null int64\n",
      "mb_per_month_included    2 non-null int64\n",
      "minutes_included         2 non-null int64\n",
      "rub_monthly_fee          2 non-null int64\n",
      "rub_per_gb               2 non-null int64\n",
      "rub_per_message          2 non-null int64\n",
      "rub_per_minute           2 non-null int64\n",
      "tariff_name              2 non-null object\n",
      "dtypes: int64(7), object(1)\n",
      "memory usage: 256.0+ bytes\n"
     ]
    }
   ],
   "source": [
    "tariffs.info()"
   ]
  },
  {
   "cell_type": "markdown",
   "metadata": {},
   "source": [
    "* в таблице 'tariffs' 8 колонок и 2 строчки\n",
    "* в колонках отсутствуют пропущенные значения\n",
    "* в таблице нет колонок, которые нужно приводить к другому типу данных"
   ]
  },
  {
   "cell_type": "markdown",
   "metadata": {},
   "source": [
    "## Шаг 2. Предобработка данных<a class=\"anchor\" id=\"2-bullet\"></a>"
   ]
  },
  {
   "cell_type": "markdown",
   "metadata": {},
   "source": [
    "### 2.1. Приведение данных к нужным типам<a class=\"anchor\" id=\"2-1-bullet\"></a>"
   ]
  },
  {
   "cell_type": "markdown",
   "metadata": {},
   "source": [
    "#### Таблица users"
   ]
  },
  {
   "cell_type": "code",
   "execution_count": 14,
   "metadata": {},
   "outputs": [],
   "source": [
    "users['churn_date'] = pd.to_datetime(users['churn_date'], format='%Y-%m-%d')"
   ]
  },
  {
   "cell_type": "code",
   "execution_count": 15,
   "metadata": {},
   "outputs": [],
   "source": [
    "users['reg_date'] = pd.to_datetime(users['reg_date'], format='%Y-%m-%d')"
   ]
  },
  {
   "cell_type": "code",
   "execution_count": 16,
   "metadata": {},
   "outputs": [
    {
     "name": "stdout",
     "output_type": "stream",
     "text": [
      "<class 'pandas.core.frame.DataFrame'>\n",
      "RangeIndex: 500 entries, 0 to 499\n",
      "Data columns (total 8 columns):\n",
      "user_id       500 non-null int64\n",
      "age           500 non-null int64\n",
      "churn_date    38 non-null datetime64[ns]\n",
      "city          500 non-null object\n",
      "first_name    500 non-null object\n",
      "last_name     500 non-null object\n",
      "reg_date      500 non-null datetime64[ns]\n",
      "tariff        500 non-null object\n",
      "dtypes: datetime64[ns](2), int64(2), object(4)\n",
      "memory usage: 31.4+ KB\n"
     ]
    }
   ],
   "source": [
    "users.info()"
   ]
  },
  {
   "cell_type": "markdown",
   "metadata": {},
   "source": [
    "  \n",
    "    В колонках ['churn_date'] и ['reg_date'] переведены значения из строки в дату."
   ]
  },
  {
   "cell_type": "markdown",
   "metadata": {},
   "source": [
    "#### Таблица calls"
   ]
  },
  {
   "cell_type": "code",
   "execution_count": 17,
   "metadata": {},
   "outputs": [],
   "source": [
    "calls['call_date'] = pd.to_datetime(calls['call_date'], format='%Y-%m-%d')"
   ]
  },
  {
   "cell_type": "code",
   "execution_count": 18,
   "metadata": {},
   "outputs": [
    {
     "name": "stdout",
     "output_type": "stream",
     "text": [
      "<class 'pandas.core.frame.DataFrame'>\n",
      "RangeIndex: 202607 entries, 0 to 202606\n",
      "Data columns (total 4 columns):\n",
      "id           202607 non-null object\n",
      "call_date    202607 non-null datetime64[ns]\n",
      "duration     202607 non-null float64\n",
      "user_id      202607 non-null int64\n",
      "dtypes: datetime64[ns](1), float64(1), int64(1), object(1)\n",
      "memory usage: 6.2+ MB\n"
     ]
    }
   ],
   "source": [
    "calls.info()"
   ]
  },
  {
   "cell_type": "markdown",
   "metadata": {},
   "source": [
    "    В колонке ['call_date'] переведены значения из строки в дату."
   ]
  },
  {
   "cell_type": "markdown",
   "metadata": {},
   "source": [
    "####  Таблица messages"
   ]
  },
  {
   "cell_type": "code",
   "execution_count": 19,
   "metadata": {},
   "outputs": [],
   "source": [
    "messages['message_date'] = pd.to_datetime(messages['message_date'], format='%Y-%m-%d')"
   ]
  },
  {
   "cell_type": "code",
   "execution_count": 20,
   "metadata": {},
   "outputs": [
    {
     "name": "stdout",
     "output_type": "stream",
     "text": [
      "<class 'pandas.core.frame.DataFrame'>\n",
      "RangeIndex: 123036 entries, 0 to 123035\n",
      "Data columns (total 3 columns):\n",
      "id              123036 non-null object\n",
      "message_date    123036 non-null datetime64[ns]\n",
      "user_id         123036 non-null int64\n",
      "dtypes: datetime64[ns](1), int64(1), object(1)\n",
      "memory usage: 2.8+ MB\n"
     ]
    }
   ],
   "source": [
    "messages.info()"
   ]
  },
  {
   "cell_type": "markdown",
   "metadata": {},
   "source": [
    "\n",
    "    В колонке ['message_date'] переведены значения из строки в дату. "
   ]
  },
  {
   "cell_type": "markdown",
   "metadata": {},
   "source": [
    "####  Таблица internet"
   ]
  },
  {
   "cell_type": "code",
   "execution_count": 21,
   "metadata": {},
   "outputs": [],
   "source": [
    "internet['session_date'] = pd.to_datetime(internet['session_date'], format='%Y-%m-%d')"
   ]
  },
  {
   "cell_type": "code",
   "execution_count": 22,
   "metadata": {},
   "outputs": [
    {
     "name": "stdout",
     "output_type": "stream",
     "text": [
      "<class 'pandas.core.frame.DataFrame'>\n",
      "RangeIndex: 149396 entries, 0 to 149395\n",
      "Data columns (total 5 columns):\n",
      "Unnamed: 0      149396 non-null int64\n",
      "id              149396 non-null object\n",
      "mb_used         149396 non-null float64\n",
      "session_date    149396 non-null datetime64[ns]\n",
      "user_id         149396 non-null int64\n",
      "dtypes: datetime64[ns](1), float64(1), int64(2), object(1)\n",
      "memory usage: 5.7+ MB\n"
     ]
    }
   ],
   "source": [
    "internet.info()"
   ]
  },
  {
   "cell_type": "markdown",
   "metadata": {},
   "source": [
    "\n",
    "    В колонке ['session_date'] переведены значения из строки в дату. "
   ]
  },
  {
   "cell_type": "markdown",
   "metadata": {},
   "source": [
    "### 2.2. Поиск ошибок в данных: длительность звонков и объем трафика<a class=\"anchor\" id=\"2-2-bullet\"></a>"
   ]
  },
  {
   "cell_type": "markdown",
   "metadata": {},
   "source": [
    " Рассмотрим данные в таблице calls в колонке ['duration']"
   ]
  },
  {
   "cell_type": "code",
   "execution_count": 23,
   "metadata": {},
   "outputs": [
    {
     "data": {
      "text/plain": [
       "count    202607.000000\n",
       "mean          6.755887\n",
       "std           5.843365\n",
       "min           0.000000\n",
       "25%           1.300000\n",
       "50%           6.000000\n",
       "75%          10.700000\n",
       "max          38.000000\n",
       "Name: duration, dtype: float64"
      ]
     },
     "execution_count": 23,
     "metadata": {},
     "output_type": "execute_result"
    }
   ],
   "source": [
    "calls['duration'].describe()"
   ]
  },
  {
   "cell_type": "code",
   "execution_count": 24,
   "metadata": {},
   "outputs": [
    {
     "data": {
      "text/plain": [
       "Text(0.5, 0, 'длительность звонка в минутах')"
      ]
     },
     "execution_count": 24,
     "metadata": {},
     "output_type": "execute_result"
    },
    {
     "data": {
      "image/png": "[encoded data removed]",
      "text/plain": [
       "<Figure size 432x288 with 1 Axes>"
      ]
     },
     "metadata": {
      "needs_background": "light"
     },
     "output_type": "display_data"
    }
   ],
   "source": [
    "calls['duration'].plot(kind='hist', grid=True, bins=30)\n",
    "plt.xlabel(\"длительность звонка в минутах\")"
   ]
  },
  {
   "cell_type": "markdown",
   "metadata": {},
   "source": [
    "\n",
    "    В данных присутствуют звонки с продолжительностью 0 минут.\n",
    "    Выясним точное количество таких звонков в выборке."
   ]
  },
  {
   "cell_type": "code",
   "execution_count": 25,
   "metadata": {},
   "outputs": [
    {
     "data": {
      "text/plain": [
       "0.19551644316336553"
      ]
     },
     "execution_count": 25,
     "metadata": {},
     "output_type": "execute_result"
    }
   ],
   "source": [
    "len(calls[(calls['duration']==0)]) / len(calls)"
   ]
  },
  {
   "cell_type": "code",
   "execution_count": 26,
   "metadata": {},
   "outputs": [
    {
     "data": {
      "text/plain": [
       "39613"
      ]
     },
     "execution_count": 26,
     "metadata": {},
     "output_type": "execute_result"
    }
   ],
   "source": [
    "min_duration = calls[(calls['duration']==0)]\n",
    "len(min_duration)"
   ]
  },
  {
   "cell_type": "markdown",
   "metadata": {},
   "source": [
    "\n",
    "    Таким образом, в выборке  39613 шт. звонков, длительность которых была 0 минут.\n",
    "    Звонки с нулевой продолжительностью составляют 19,5% от общего числа звонков.\n",
    "    \n",
    "    Данные выглядят подозрительно, так как оператор сотовой связи всегда округляет вверх\n",
    "    значения минут и мегабайтов. Если пользователь проговорил всего 1 секунду, в тарифе\n",
    "    должна засчитываться целая минута.\n",
    "\n",
    "    Проверим, к какому тарифу относятся такие звонки. Для этого объединим две таблицы\n",
    "    calls и users."
   ]
  },
  {
   "cell_type": "code",
   "execution_count": 27,
   "metadata": {},
   "outputs": [
    {
     "data": {
      "text/html": [
       "<div>\n",
       "<style scoped>\n",
       "    .dataframe tbody tr th:only-of-type {\n",
       "        vertical-align: middle;\n",
       "    }\n",
       "\n",
       "    .dataframe tbody tr th {\n",
       "        vertical-align: top;\n",
       "    }\n",
       "\n",
       "    .dataframe thead th {\n",
       "        text-align: right;\n",
       "    }\n",
       "</style>\n",
       "<table border=\"1\" class=\"dataframe\">\n",
       "  <thead>\n",
       "    <tr style=\"text-align: right;\">\n",
       "      <th></th>\n",
       "      <th>id</th>\n",
       "      <th>call_date</th>\n",
       "      <th>duration</th>\n",
       "      <th>user_id</th>\n",
       "      <th>age</th>\n",
       "      <th>churn_date</th>\n",
       "      <th>city</th>\n",
       "      <th>first_name</th>\n",
       "      <th>last_name</th>\n",
       "      <th>reg_date</th>\n",
       "      <th>tariff</th>\n",
       "    </tr>\n",
       "  </thead>\n",
       "  <tbody>\n",
       "    <tr>\n",
       "      <td>0</td>\n",
       "      <td>1000_0</td>\n",
       "      <td>2018-07-25</td>\n",
       "      <td>0.00</td>\n",
       "      <td>1000</td>\n",
       "      <td>52</td>\n",
       "      <td>NaT</td>\n",
       "      <td>Краснодар</td>\n",
       "      <td>Рафаил</td>\n",
       "      <td>Верещагин</td>\n",
       "      <td>2018-05-25</td>\n",
       "      <td>ultra</td>\n",
       "    </tr>\n",
       "    <tr>\n",
       "      <td>1</td>\n",
       "      <td>1000_1</td>\n",
       "      <td>2018-08-17</td>\n",
       "      <td>0.00</td>\n",
       "      <td>1000</td>\n",
       "      <td>52</td>\n",
       "      <td>NaT</td>\n",
       "      <td>Краснодар</td>\n",
       "      <td>Рафаил</td>\n",
       "      <td>Верещагин</td>\n",
       "      <td>2018-05-25</td>\n",
       "      <td>ultra</td>\n",
       "    </tr>\n",
       "    <tr>\n",
       "      <td>2</td>\n",
       "      <td>1000_2</td>\n",
       "      <td>2018-06-11</td>\n",
       "      <td>2.85</td>\n",
       "      <td>1000</td>\n",
       "      <td>52</td>\n",
       "      <td>NaT</td>\n",
       "      <td>Краснодар</td>\n",
       "      <td>Рафаил</td>\n",
       "      <td>Верещагин</td>\n",
       "      <td>2018-05-25</td>\n",
       "      <td>ultra</td>\n",
       "    </tr>\n",
       "    <tr>\n",
       "      <td>3</td>\n",
       "      <td>1000_3</td>\n",
       "      <td>2018-09-21</td>\n",
       "      <td>13.80</td>\n",
       "      <td>1000</td>\n",
       "      <td>52</td>\n",
       "      <td>NaT</td>\n",
       "      <td>Краснодар</td>\n",
       "      <td>Рафаил</td>\n",
       "      <td>Верещагин</td>\n",
       "      <td>2018-05-25</td>\n",
       "      <td>ultra</td>\n",
       "    </tr>\n",
       "    <tr>\n",
       "      <td>4</td>\n",
       "      <td>1000_4</td>\n",
       "      <td>2018-12-15</td>\n",
       "      <td>5.18</td>\n",
       "      <td>1000</td>\n",
       "      <td>52</td>\n",
       "      <td>NaT</td>\n",
       "      <td>Краснодар</td>\n",
       "      <td>Рафаил</td>\n",
       "      <td>Верещагин</td>\n",
       "      <td>2018-05-25</td>\n",
       "      <td>ultra</td>\n",
       "    </tr>\n",
       "  </tbody>\n",
       "</table>\n",
       "</div>"
      ],
      "text/plain": [
       "       id  call_date  duration  user_id  age churn_date       city first_name  \\\n",
       "0  1000_0 2018-07-25      0.00     1000   52        NaT  Краснодар     Рафаил   \n",
       "1  1000_1 2018-08-17      0.00     1000   52        NaT  Краснодар     Рафаил   \n",
       "2  1000_2 2018-06-11      2.85     1000   52        NaT  Краснодар     Рафаил   \n",
       "3  1000_3 2018-09-21     13.80     1000   52        NaT  Краснодар     Рафаил   \n",
       "4  1000_4 2018-12-15      5.18     1000   52        NaT  Краснодар     Рафаил   \n",
       "\n",
       "   last_name   reg_date tariff  \n",
       "0  Верещагин 2018-05-25  ultra  \n",
       "1  Верещагин 2018-05-25  ultra  \n",
       "2  Верещагин 2018-05-25  ultra  \n",
       "3  Верещагин 2018-05-25  ultra  \n",
       "4  Верещагин 2018-05-25  ultra  "
      ]
     },
     "execution_count": 27,
     "metadata": {},
     "output_type": "execute_result"
    }
   ],
   "source": [
    "calls_tariffs = calls.merge(users, on='user_id', how='left')\n",
    "calls_tariffs.head()"
   ]
  },
  {
   "cell_type": "code",
   "execution_count": 28,
   "metadata": {},
   "outputs": [
    {
     "data": {
      "text/html": [
       "<div>\n",
       "<style scoped>\n",
       "    .dataframe tbody tr th:only-of-type {\n",
       "        vertical-align: middle;\n",
       "    }\n",
       "\n",
       "    .dataframe tbody tr th {\n",
       "        vertical-align: top;\n",
       "    }\n",
       "\n",
       "    .dataframe thead th {\n",
       "        text-align: right;\n",
       "    }\n",
       "</style>\n",
       "<table border=\"1\" class=\"dataframe\">\n",
       "  <thead>\n",
       "    <tr style=\"text-align: right;\">\n",
       "      <th></th>\n",
       "      <th>duration</th>\n",
       "    </tr>\n",
       "    <tr>\n",
       "      <th>tariff</th>\n",
       "      <th></th>\n",
       "    </tr>\n",
       "  </thead>\n",
       "  <tbody>\n",
       "    <tr>\n",
       "      <td>smart</td>\n",
       "      <td>25669</td>\n",
       "    </tr>\n",
       "    <tr>\n",
       "      <td>ultra</td>\n",
       "      <td>13944</td>\n",
       "    </tr>\n",
       "  </tbody>\n",
       "</table>\n",
       "</div>"
      ],
      "text/plain": [
       "        duration\n",
       "tariff          \n",
       "smart      25669\n",
       "ultra      13944"
      ]
     },
     "execution_count": 28,
     "metadata": {},
     "output_type": "execute_result"
    }
   ],
   "source": [
    "calls_tariffs.query('duration == 0.00').pivot_table(index='tariff', values='duration', aggfunc='count')"
   ]
  },
  {
   "cell_type": "markdown",
   "metadata": {},
   "source": [
    "    \n",
    "    Звонки с продолжительносью 0 минут есть в обоих тарифах:\n",
    "    в тарифе smart - 25669 звонков, в тарифе ultra - 13944 шт.\n",
    "\n",
    "    Таким образом, нельзя предположить, что в каком-то тарифе произошла ошибка при округлении\n",
    "    и из-за этого появились нулевые значения.\n",
    "\n",
    "    Можно предположить, что в датасет попали исходящие звонки, на которые не ответили по\n",
    "    какой-то причине: сбросили, второй абонент был не доступен, звонок был отклонен. Т.е.\n",
    "    исходящий звонок был, а продолжительность разговора составила 0 минут.  Такие звонки\n",
    "    не вычетают минуты из пакета и не приносит прибыль оператору, их нет смысла рассматривать\n",
    "    для решения поставленных задач. По этой причине удалю все звонки с нулевой\n",
    "    продолжительностью. "
   ]
  },
  {
   "cell_type": "code",
   "execution_count": 29,
   "metadata": {},
   "outputs": [],
   "source": [
    "calls['duration'] = calls['duration'].replace(0, np.NaN)\n",
    "calls = calls.dropna()"
   ]
  },
  {
   "cell_type": "code",
   "execution_count": 30,
   "metadata": {},
   "outputs": [
    {
     "data": {
      "text/plain": [
       "count    162994.000000\n",
       "mean          8.397794\n",
       "std           5.353022\n",
       "min           0.010000\n",
       "25%           4.170000\n",
       "50%           7.740000\n",
       "75%          11.850000\n",
       "max          38.000000\n",
       "Name: duration, dtype: float64"
      ]
     },
     "execution_count": 30,
     "metadata": {},
     "output_type": "execute_result"
    }
   ],
   "source": [
    "calls['duration'].describe()"
   ]
  },
  {
   "cell_type": "markdown",
   "metadata": {},
   "source": [
    "\n",
    "    Видим, что минимальное значение изменилось с 0 на 0,01.\n",
    "    Так как стоимости в тарифах определяются за минуту разговора, а  оператор сотовой связи\n",
    "    всегда округляет вверх значения до целой минуты,  округляем значения c помощью np.ceil"
   ]
  },
  {
   "cell_type": "code",
   "execution_count": 31,
   "metadata": {},
   "outputs": [],
   "source": [
    "calls['duration'] = calls['duration'].apply(np.ceil)"
   ]
  },
  {
   "cell_type": "code",
   "execution_count": 32,
   "metadata": {},
   "outputs": [
    {
     "data": {
      "text/plain": [
       "count    162994.000000\n",
       "mean          8.897880\n",
       "std           5.353761\n",
       "min           1.000000\n",
       "25%           5.000000\n",
       "50%           8.000000\n",
       "75%          12.000000\n",
       "max          38.000000\n",
       "Name: duration, dtype: float64"
      ]
     },
     "execution_count": 32,
     "metadata": {},
     "output_type": "execute_result"
    }
   ],
   "source": [
    "calls['duration'].describe()"
   ]
  },
  {
   "cell_type": "code",
   "execution_count": 33,
   "metadata": {},
   "outputs": [
    {
     "data": {
      "text/plain": [
       "Text(0.5, 0, 'длительность звонка в минутах')"
      ]
     },
     "execution_count": 33,
     "metadata": {},
     "output_type": "execute_result"
    },
    {
     "data": {
      "image/png": "[encoded data removed]",
      "text/plain": [
       "<Figure size 432x288 with 1 Axes>"
      ]
     },
     "metadata": {
      "needs_background": "light"
     },
     "output_type": "display_data"
    }
   ],
   "source": [
    "calls['duration'].plot(kind='hist', grid=True, bins=38)\n",
    "plt.xlabel(\"длительность звонка в минутах\")"
   ]
  },
  {
   "cell_type": "markdown",
   "metadata": {},
   "source": [
    "    \n",
    "    В колонке ['duration'] теперь отстутствуют разговоры с продолжтьельностью 0 минут.\n",
    "    Минимальная продолжительность разговора - 1 минута. Все длительности разговоров\n",
    "    округлены до целой минуты.\n",
    "    \n",
    "    Рассмотрим таблицу internet и значения в колонке ['mb_used'] "
   ]
  },
  {
   "cell_type": "code",
   "execution_count": 34,
   "metadata": {},
   "outputs": [
    {
     "data": {
      "text/plain": [
       "count    149396.000000\n",
       "mean        370.192426\n",
       "std         278.300951\n",
       "min           0.000000\n",
       "25%         138.187500\n",
       "50%         348.015000\n",
       "75%         559.552500\n",
       "max        1724.830000\n",
       "Name: mb_used, dtype: float64"
      ]
     },
     "execution_count": 34,
     "metadata": {},
     "output_type": "execute_result"
    }
   ],
   "source": [
    "internet['mb_used'].describe()"
   ]
  },
  {
   "cell_type": "code",
   "execution_count": 35,
   "metadata": {},
   "outputs": [
    {
     "data": {
      "text/plain": [
       "Text(0.5, 0, 'объем интернет-трафика, МБ')"
      ]
     },
     "execution_count": 35,
     "metadata": {},
     "output_type": "execute_result"
    },
    {
     "data": {
      "image/png": "[encoded data removed]",
      "text/plain": [
       "<Figure size 432x288 with 1 Axes>"
      ]
     },
     "metadata": {
      "needs_background": "light"
     },
     "output_type": "display_data"
    }
   ],
   "source": [
    "internet['mb_used'].plot(kind='hist', grid=True, bins=30)\n",
    "plt.xlabel(\"объем интернет-трафика, МБ\")"
   ]
  },
  {
   "cell_type": "markdown",
   "metadata": {},
   "source": [
    "   \n",
    "    В данных присутствуют сессии с потраченным интернет-трафиком 0 мегабайт.\n",
    "    Выясним точное количество таких сессий в выборке."
   ]
  },
  {
   "cell_type": "code",
   "execution_count": 36,
   "metadata": {},
   "outputs": [
    {
     "data": {
      "text/plain": [
       "13.118155773916303"
      ]
     },
     "execution_count": 36,
     "metadata": {},
     "output_type": "execute_result"
    }
   ],
   "source": [
    "len(internet[(internet['mb_used']==0)]) / len(internet)*100"
   ]
  },
  {
   "cell_type": "code",
   "execution_count": 37,
   "metadata": {},
   "outputs": [
    {
     "data": {
      "text/plain": [
       "19598"
      ]
     },
     "execution_count": 37,
     "metadata": {},
     "output_type": "execute_result"
    }
   ],
   "source": [
    "min_mb_used = internet[(internet['mb_used']==0)]\n",
    "len(min_mb_used)"
   ]
  },
  {
   "cell_type": "markdown",
   "metadata": {},
   "source": [
    "    Таким образом, 0 мегабайт было потрачено во время 19598 сессий.\n",
    "    Сессии с потраченными трафиком 0 мегабайт составляют 13,1% от общего числа сессий.\n",
    "    Данные выглядят подозрительно, так как оператор сотовой связи всегда округляет вверх\n",
    "    значения до целого мегабайта. \n",
    "\n",
    "    Международная организации «Ookla» изучила четыре основных сотовых оператора России:\n",
    "    МТС, Билайн, Мегафон и теле2. По данным за первое полугодие 2019г:\n",
    "    -  средняя скорость загрузки от 7,93 МБ в секунду  до 11,88 Мб в секунду\n",
    "    - средняя скорость скачивания от 14,51 МБ в секунду  до 27,31 МБ в секунду\n",
    "\n",
    "    Предположим, что сессия была меньше секунды и никакой операции не было выполнено.\n",
    "    Например, сайт не загрузился, произошла ошибка в соединении, произошед сбой и т.д.\n",
    "    Таким образом, мегабайты не были потрачены и не вычитаются из пакета абонента. Сессии\n",
    "    с потраченными трафиком 0 мегабайт не нужны для решения поставленных задач и будут удалены."
   ]
  },
  {
   "cell_type": "code",
   "execution_count": 38,
   "metadata": {},
   "outputs": [],
   "source": [
    "internet['mb_used'] = internet['mb_used'].replace(0, np.NaN)\n",
    "internet = internet.dropna()"
   ]
  },
  {
   "cell_type": "code",
   "execution_count": 39,
   "metadata": {},
   "outputs": [
    {
     "data": {
      "text/plain": [
       "count    129798.000000\n",
       "mean        426.087210\n",
       "std         255.596447\n",
       "min           0.030000\n",
       "25%         227.460000\n",
       "50%         400.540000\n",
       "75%         592.947500\n",
       "max        1724.830000\n",
       "Name: mb_used, dtype: float64"
      ]
     },
     "execution_count": 39,
     "metadata": {},
     "output_type": "execute_result"
    }
   ],
   "source": [
    "internet['mb_used'].describe()"
   ]
  },
  {
   "cell_type": "markdown",
   "metadata": {},
   "source": [
    "     Минимальное значение измелось с 0 на 0,03 Мб.\n",
    "     Так как стоимости в тарифах определяются за целый Мб, округляем значения c помощью np.ceil"
   ]
  },
  {
   "cell_type": "code",
   "execution_count": 40,
   "metadata": {},
   "outputs": [],
   "source": [
    "internet['mb_used'] = internet['mb_used'].apply(np.ceil)"
   ]
  },
  {
   "cell_type": "code",
   "execution_count": 41,
   "metadata": {},
   "outputs": [
    {
     "data": {
      "text/plain": [
       "count    129798.000000\n",
       "mean        426.581758\n",
       "std         255.596114\n",
       "min           1.000000\n",
       "25%         228.000000\n",
       "50%         401.000000\n",
       "75%         593.000000\n",
       "max        1725.000000\n",
       "Name: mb_used, dtype: float64"
      ]
     },
     "execution_count": 41,
     "metadata": {},
     "output_type": "execute_result"
    }
   ],
   "source": [
    "internet['mb_used'].describe()"
   ]
  },
  {
   "cell_type": "code",
   "execution_count": 42,
   "metadata": {},
   "outputs": [
    {
     "data": {
      "text/plain": [
       "Text(0.5, 0, 'объем интернет-трафика, МБ')"
      ]
     },
     "execution_count": 42,
     "metadata": {},
     "output_type": "execute_result"
    },
    {
     "data": {
      "image/png": "[encoded data removed]",
      "text/plain": [
       "<Figure size 432x288 with 1 Axes>"
      ]
     },
     "metadata": {
      "needs_background": "light"
     },
     "output_type": "display_data"
    }
   ],
   "source": [
    "internet['mb_used'].plot(kind='hist', grid=True, bins=70)\n",
    "plt.xlabel(\"объем интернет-трафика, МБ\")"
   ]
  },
  {
   "cell_type": "markdown",
   "metadata": {},
   "source": [
    "    В колонке ['mb_used'] теперь отстутствуют сессии с потраченными трафиком 0 мегабайт.\n",
    "    Минимальное значение изменилось с \"0\" на \"1\" МБ.\n",
    "    Весь потраченный трафик округлен до  целого МБ."
   ]
  },
  {
   "cell_type": "markdown",
   "metadata": {},
   "source": [
    "### 2.3. Количество звонков и израсходаванных минут разговоров по месяцам<a class=\"anchor\" id=\"2-3-bullet\"></a>"
   ]
  },
  {
   "cell_type": "markdown",
   "metadata": {},
   "source": [
    "  \n",
    "    Добавим новую колонку ['month'] в таблицу calls"
   ]
  },
  {
   "cell_type": "code",
   "execution_count": 43,
   "metadata": {},
   "outputs": [],
   "source": [
    "calls['month'] = calls['call_date'].dt.month"
   ]
  },
  {
   "cell_type": "code",
   "execution_count": 44,
   "metadata": {},
   "outputs": [
    {
     "data": {
      "text/html": [
       "<div>\n",
       "<style scoped>\n",
       "    .dataframe tbody tr th:only-of-type {\n",
       "        vertical-align: middle;\n",
       "    }\n",
       "\n",
       "    .dataframe tbody tr th {\n",
       "        vertical-align: top;\n",
       "    }\n",
       "\n",
       "    .dataframe thead th {\n",
       "        text-align: right;\n",
       "    }\n",
       "</style>\n",
       "<table border=\"1\" class=\"dataframe\">\n",
       "  <thead>\n",
       "    <tr style=\"text-align: right;\">\n",
       "      <th></th>\n",
       "      <th>id</th>\n",
       "      <th>call_date</th>\n",
       "      <th>duration</th>\n",
       "      <th>user_id</th>\n",
       "      <th>month</th>\n",
       "    </tr>\n",
       "  </thead>\n",
       "  <tbody>\n",
       "    <tr>\n",
       "      <td>2</td>\n",
       "      <td>1000_2</td>\n",
       "      <td>2018-06-11</td>\n",
       "      <td>3.0</td>\n",
       "      <td>1000</td>\n",
       "      <td>6</td>\n",
       "    </tr>\n",
       "    <tr>\n",
       "      <td>3</td>\n",
       "      <td>1000_3</td>\n",
       "      <td>2018-09-21</td>\n",
       "      <td>14.0</td>\n",
       "      <td>1000</td>\n",
       "      <td>9</td>\n",
       "    </tr>\n",
       "    <tr>\n",
       "      <td>4</td>\n",
       "      <td>1000_4</td>\n",
       "      <td>2018-12-15</td>\n",
       "      <td>6.0</td>\n",
       "      <td>1000</td>\n",
       "      <td>12</td>\n",
       "    </tr>\n",
       "    <tr>\n",
       "      <td>7</td>\n",
       "      <td>1000_7</td>\n",
       "      <td>2018-08-22</td>\n",
       "      <td>19.0</td>\n",
       "      <td>1000</td>\n",
       "      <td>8</td>\n",
       "    </tr>\n",
       "    <tr>\n",
       "      <td>8</td>\n",
       "      <td>1000_8</td>\n",
       "      <td>2018-09-15</td>\n",
       "      <td>19.0</td>\n",
       "      <td>1000</td>\n",
       "      <td>9</td>\n",
       "    </tr>\n",
       "  </tbody>\n",
       "</table>\n",
       "</div>"
      ],
      "text/plain": [
       "       id  call_date  duration  user_id  month\n",
       "2  1000_2 2018-06-11       3.0     1000      6\n",
       "3  1000_3 2018-09-21      14.0     1000      9\n",
       "4  1000_4 2018-12-15       6.0     1000     12\n",
       "7  1000_7 2018-08-22      19.0     1000      8\n",
       "8  1000_8 2018-09-15      19.0     1000      9"
      ]
     },
     "execution_count": 44,
     "metadata": {},
     "output_type": "execute_result"
    }
   ],
   "source": [
    "calls.head()"
   ]
  },
  {
   "cell_type": "code",
   "execution_count": 45,
   "metadata": {},
   "outputs": [
    {
     "data": {
      "text/html": [
       "<div>\n",
       "<style scoped>\n",
       "    .dataframe tbody tr th:only-of-type {\n",
       "        vertical-align: middle;\n",
       "    }\n",
       "\n",
       "    .dataframe tbody tr th {\n",
       "        vertical-align: top;\n",
       "    }\n",
       "\n",
       "    .dataframe thead th {\n",
       "        text-align: right;\n",
       "    }\n",
       "</style>\n",
       "<table border=\"1\" class=\"dataframe\">\n",
       "  <thead>\n",
       "    <tr style=\"text-align: right;\">\n",
       "      <th></th>\n",
       "      <th>month</th>\n",
       "      <th>qty_calls</th>\n",
       "      <th>duration_per_month</th>\n",
       "    </tr>\n",
       "  </thead>\n",
       "  <tbody>\n",
       "    <tr>\n",
       "      <td>0</td>\n",
       "      <td>1</td>\n",
       "      <td>1164</td>\n",
       "      <td>10784.0</td>\n",
       "    </tr>\n",
       "    <tr>\n",
       "      <td>1</td>\n",
       "      <td>2</td>\n",
       "      <td>2705</td>\n",
       "      <td>24455.0</td>\n",
       "    </tr>\n",
       "    <tr>\n",
       "      <td>2</td>\n",
       "      <td>3</td>\n",
       "      <td>5383</td>\n",
       "      <td>48151.0</td>\n",
       "    </tr>\n",
       "    <tr>\n",
       "      <td>3</td>\n",
       "      <td>4</td>\n",
       "      <td>7504</td>\n",
       "      <td>66310.0</td>\n",
       "    </tr>\n",
       "    <tr>\n",
       "      <td>4</td>\n",
       "      <td>5</td>\n",
       "      <td>10116</td>\n",
       "      <td>88810.0</td>\n",
       "    </tr>\n",
       "    <tr>\n",
       "      <td>5</td>\n",
       "      <td>6</td>\n",
       "      <td>11833</td>\n",
       "      <td>105180.0</td>\n",
       "    </tr>\n",
       "    <tr>\n",
       "      <td>6</td>\n",
       "      <td>7</td>\n",
       "      <td>14780</td>\n",
       "      <td>131746.0</td>\n",
       "    </tr>\n",
       "    <tr>\n",
       "      <td>7</td>\n",
       "      <td>8</td>\n",
       "      <td>17257</td>\n",
       "      <td>153698.0</td>\n",
       "    </tr>\n",
       "    <tr>\n",
       "      <td>8</td>\n",
       "      <td>9</td>\n",
       "      <td>19446</td>\n",
       "      <td>173475.0</td>\n",
       "    </tr>\n",
       "    <tr>\n",
       "      <td>9</td>\n",
       "      <td>10</td>\n",
       "      <td>21757</td>\n",
       "      <td>193928.0</td>\n",
       "    </tr>\n",
       "    <tr>\n",
       "      <td>10</td>\n",
       "      <td>11</td>\n",
       "      <td>23664</td>\n",
       "      <td>210089.0</td>\n",
       "    </tr>\n",
       "    <tr>\n",
       "      <td>11</td>\n",
       "      <td>12</td>\n",
       "      <td>27385</td>\n",
       "      <td>243675.0</td>\n",
       "    </tr>\n",
       "  </tbody>\n",
       "</table>\n",
       "</div>"
      ],
      "text/plain": [
       "    month  qty_calls  duration_per_month\n",
       "0       1       1164             10784.0\n",
       "1       2       2705             24455.0\n",
       "2       3       5383             48151.0\n",
       "3       4       7504             66310.0\n",
       "4       5      10116             88810.0\n",
       "5       6      11833            105180.0\n",
       "6       7      14780            131746.0\n",
       "7       8      17257            153698.0\n",
       "8       9      19446            173475.0\n",
       "9      10      21757            193928.0\n",
       "10     11      23664            210089.0\n",
       "11     12      27385            243675.0"
      ]
     },
     "execution_count": 45,
     "metadata": {},
     "output_type": "execute_result"
    }
   ],
   "source": [
    "calls_by_month = calls.groupby('month').agg({'id':'nunique', 'duration':'sum'}).reset_index()\n",
    "calls_by_month.columns = ['month', 'qty_calls', 'duration_per_month']\n",
    "calls_by_month"
   ]
  },
  {
   "cell_type": "code",
   "execution_count": 46,
   "metadata": {},
   "outputs": [
    {
     "data": {
      "text/plain": [
       "Text(0.5, 1.0, 'Количество звонков и израсходаванных минут разговоров по месяцам')"
      ]
     },
     "execution_count": 46,
     "metadata": {},
     "output_type": "execute_result"
    },
    {
     "data": {
      "image/png": "[encoded data removed]",
      "text/plain": [
       "<Figure size 432x432 with 1 Axes>"
      ]
     },
     "metadata": {
      "needs_background": "light"
     },
     "output_type": "display_data"
    }
   ],
   "source": [
    "calls.pivot_table(index='month', values='duration', aggfunc=('count','sum')).plot(kind='bar', grid=True, figsize=(6, 6))\n",
    "plt.title('Количество звонков и израсходаванных минут разговоров по месяцам')"
   ]
  },
  {
   "cell_type": "markdown",
   "metadata": {},
   "source": [
    "    1. Мы видим зависимость, чем больше звонков сделано в месяц, тем больше израсходованных\n",
    "    минут в месяц.\n",
    "    \n",
    "    2. Количество звонков и израсходованных минут увеличиваются с января по декабрь.\n",
    "    В каждом месяце происходит прирост. Такое может быть, например, если тарифы запускались\n",
    "    в январе, и с каждым месяцем прибавлялось число абонентов."
   ]
  },
  {
   "cell_type": "markdown",
   "metadata": {},
   "source": [
    "### 2.4. Количество отправленных сообщений по месяцам<a class=\"anchor\" id=\"2-4-bullet\"></a>"
   ]
  },
  {
   "cell_type": "code",
   "execution_count": 47,
   "metadata": {},
   "outputs": [],
   "source": [
    "messages['month'] = messages['message_date'].dt.month"
   ]
  },
  {
   "cell_type": "code",
   "execution_count": 48,
   "metadata": {},
   "outputs": [
    {
     "data": {
      "text/html": [
       "<div>\n",
       "<style scoped>\n",
       "    .dataframe tbody tr th:only-of-type {\n",
       "        vertical-align: middle;\n",
       "    }\n",
       "\n",
       "    .dataframe tbody tr th {\n",
       "        vertical-align: top;\n",
       "    }\n",
       "\n",
       "    .dataframe thead th {\n",
       "        text-align: right;\n",
       "    }\n",
       "</style>\n",
       "<table border=\"1\" class=\"dataframe\">\n",
       "  <thead>\n",
       "    <tr style=\"text-align: right;\">\n",
       "      <th></th>\n",
       "      <th>id</th>\n",
       "      <th>message_date</th>\n",
       "      <th>user_id</th>\n",
       "      <th>month</th>\n",
       "    </tr>\n",
       "  </thead>\n",
       "  <tbody>\n",
       "    <tr>\n",
       "      <td>0</td>\n",
       "      <td>1000_0</td>\n",
       "      <td>2018-06-27</td>\n",
       "      <td>1000</td>\n",
       "      <td>6</td>\n",
       "    </tr>\n",
       "    <tr>\n",
       "      <td>1</td>\n",
       "      <td>1000_1</td>\n",
       "      <td>2018-10-08</td>\n",
       "      <td>1000</td>\n",
       "      <td>10</td>\n",
       "    </tr>\n",
       "    <tr>\n",
       "      <td>2</td>\n",
       "      <td>1000_2</td>\n",
       "      <td>2018-08-04</td>\n",
       "      <td>1000</td>\n",
       "      <td>8</td>\n",
       "    </tr>\n",
       "    <tr>\n",
       "      <td>3</td>\n",
       "      <td>1000_3</td>\n",
       "      <td>2018-06-16</td>\n",
       "      <td>1000</td>\n",
       "      <td>6</td>\n",
       "    </tr>\n",
       "    <tr>\n",
       "      <td>4</td>\n",
       "      <td>1000_4</td>\n",
       "      <td>2018-12-05</td>\n",
       "      <td>1000</td>\n",
       "      <td>12</td>\n",
       "    </tr>\n",
       "  </tbody>\n",
       "</table>\n",
       "</div>"
      ],
      "text/plain": [
       "       id message_date  user_id  month\n",
       "0  1000_0   2018-06-27     1000      6\n",
       "1  1000_1   2018-10-08     1000     10\n",
       "2  1000_2   2018-08-04     1000      8\n",
       "3  1000_3   2018-06-16     1000      6\n",
       "4  1000_4   2018-12-05     1000     12"
      ]
     },
     "execution_count": 48,
     "metadata": {},
     "output_type": "execute_result"
    }
   ],
   "source": [
    "messages.head()"
   ]
  },
  {
   "cell_type": "code",
   "execution_count": 49,
   "metadata": {},
   "outputs": [
    {
     "data": {
      "text/html": [
       "<div>\n",
       "<style scoped>\n",
       "    .dataframe tbody tr th:only-of-type {\n",
       "        vertical-align: middle;\n",
       "    }\n",
       "\n",
       "    .dataframe tbody tr th {\n",
       "        vertical-align: top;\n",
       "    }\n",
       "\n",
       "    .dataframe thead th {\n",
       "        text-align: right;\n",
       "    }\n",
       "</style>\n",
       "<table border=\"1\" class=\"dataframe\">\n",
       "  <thead>\n",
       "    <tr style=\"text-align: right;\">\n",
       "      <th></th>\n",
       "      <th>id</th>\n",
       "    </tr>\n",
       "    <tr>\n",
       "      <th>month</th>\n",
       "      <th></th>\n",
       "    </tr>\n",
       "  </thead>\n",
       "  <tbody>\n",
       "    <tr>\n",
       "      <td>1</td>\n",
       "      <td>924</td>\n",
       "    </tr>\n",
       "    <tr>\n",
       "      <td>2</td>\n",
       "      <td>1924</td>\n",
       "    </tr>\n",
       "    <tr>\n",
       "      <td>3</td>\n",
       "      <td>3648</td>\n",
       "    </tr>\n",
       "    <tr>\n",
       "      <td>4</td>\n",
       "      <td>5179</td>\n",
       "    </tr>\n",
       "    <tr>\n",
       "      <td>5</td>\n",
       "      <td>7298</td>\n",
       "    </tr>\n",
       "    <tr>\n",
       "      <td>6</td>\n",
       "      <td>8983</td>\n",
       "    </tr>\n",
       "    <tr>\n",
       "      <td>7</td>\n",
       "      <td>11320</td>\n",
       "    </tr>\n",
       "    <tr>\n",
       "      <td>8</td>\n",
       "      <td>13088</td>\n",
       "    </tr>\n",
       "    <tr>\n",
       "      <td>9</td>\n",
       "      <td>14759</td>\n",
       "    </tr>\n",
       "    <tr>\n",
       "      <td>10</td>\n",
       "      <td>17114</td>\n",
       "    </tr>\n",
       "    <tr>\n",
       "      <td>11</td>\n",
       "      <td>18244</td>\n",
       "    </tr>\n",
       "    <tr>\n",
       "      <td>12</td>\n",
       "      <td>20555</td>\n",
       "    </tr>\n",
       "  </tbody>\n",
       "</table>\n",
       "</div>"
      ],
      "text/plain": [
       "          id\n",
       "month       \n",
       "1        924\n",
       "2       1924\n",
       "3       3648\n",
       "4       5179\n",
       "5       7298\n",
       "6       8983\n",
       "7      11320\n",
       "8      13088\n",
       "9      14759\n",
       "10     17114\n",
       "11     18244\n",
       "12     20555"
      ]
     },
     "execution_count": 49,
     "metadata": {},
     "output_type": "execute_result"
    }
   ],
   "source": [
    "messages.pivot_table(index='month', values='id', aggfunc='count')"
   ]
  },
  {
   "cell_type": "code",
   "execution_count": 50,
   "metadata": {},
   "outputs": [
    {
     "data": {
      "text/plain": [
       "Text(0.5, 1.0, 'Количество отправленных сообщений по месяцам')"
      ]
     },
     "execution_count": 50,
     "metadata": {},
     "output_type": "execute_result"
    },
    {
     "data": {
      "image/png": "[encoded data removed]",
      "text/plain": [
       "<Figure size 432x432 with 1 Axes>"
      ]
     },
     "metadata": {
      "needs_background": "light"
     },
     "output_type": "display_data"
    }
   ],
   "source": [
    "messages.pivot_table(index='month', values='id', aggfunc='count').plot(kind='bar', grid=True, figsize=(6, 6))\n",
    "plt.title('Количество отправленных сообщений по месяцам')"
   ]
  },
  {
   "cell_type": "markdown",
   "metadata": {},
   "source": [
    "    Количество отправленных сообщей увеличивается каждый месяц с января по декабрь.\n",
    "    В каждом месяце происходит прирост. График выглядит аналогично предыдущему графику\n",
    "    (количество звонков и израсходаванные минуты)."
   ]
  },
  {
   "cell_type": "markdown",
   "metadata": {},
   "source": [
    "### 2.5. Объем израсходованного интернет-трафика  по месяцам<a class=\"anchor\" id=\"2-5-bullet\"></a>"
   ]
  },
  {
   "cell_type": "code",
   "execution_count": 51,
   "metadata": {},
   "outputs": [],
   "source": [
    "internet['month'] = internet['session_date'].dt.month"
   ]
  },
  {
   "cell_type": "code",
   "execution_count": 52,
   "metadata": {},
   "outputs": [
    {
     "data": {
      "text/html": [
       "<div>\n",
       "<style scoped>\n",
       "    .dataframe tbody tr th:only-of-type {\n",
       "        vertical-align: middle;\n",
       "    }\n",
       "\n",
       "    .dataframe tbody tr th {\n",
       "        vertical-align: top;\n",
       "    }\n",
       "\n",
       "    .dataframe thead th {\n",
       "        text-align: right;\n",
       "    }\n",
       "</style>\n",
       "<table border=\"1\" class=\"dataframe\">\n",
       "  <thead>\n",
       "    <tr style=\"text-align: right;\">\n",
       "      <th></th>\n",
       "      <th>Unnamed: 0</th>\n",
       "      <th>id</th>\n",
       "      <th>mb_used</th>\n",
       "      <th>session_date</th>\n",
       "      <th>user_id</th>\n",
       "      <th>month</th>\n",
       "    </tr>\n",
       "  </thead>\n",
       "  <tbody>\n",
       "    <tr>\n",
       "      <td>0</td>\n",
       "      <td>0</td>\n",
       "      <td>1000_0</td>\n",
       "      <td>113.0</td>\n",
       "      <td>2018-11-25</td>\n",
       "      <td>1000</td>\n",
       "      <td>11</td>\n",
       "    </tr>\n",
       "    <tr>\n",
       "      <td>1</td>\n",
       "      <td>1</td>\n",
       "      <td>1000_1</td>\n",
       "      <td>1053.0</td>\n",
       "      <td>2018-09-07</td>\n",
       "      <td>1000</td>\n",
       "      <td>9</td>\n",
       "    </tr>\n",
       "    <tr>\n",
       "      <td>2</td>\n",
       "      <td>2</td>\n",
       "      <td>1000_2</td>\n",
       "      <td>1198.0</td>\n",
       "      <td>2018-06-25</td>\n",
       "      <td>1000</td>\n",
       "      <td>6</td>\n",
       "    </tr>\n",
       "    <tr>\n",
       "      <td>3</td>\n",
       "      <td>3</td>\n",
       "      <td>1000_3</td>\n",
       "      <td>551.0</td>\n",
       "      <td>2018-08-22</td>\n",
       "      <td>1000</td>\n",
       "      <td>8</td>\n",
       "    </tr>\n",
       "    <tr>\n",
       "      <td>4</td>\n",
       "      <td>4</td>\n",
       "      <td>1000_4</td>\n",
       "      <td>303.0</td>\n",
       "      <td>2018-09-24</td>\n",
       "      <td>1000</td>\n",
       "      <td>9</td>\n",
       "    </tr>\n",
       "  </tbody>\n",
       "</table>\n",
       "</div>"
      ],
      "text/plain": [
       "   Unnamed: 0      id  mb_used session_date  user_id  month\n",
       "0           0  1000_0    113.0   2018-11-25     1000     11\n",
       "1           1  1000_1   1053.0   2018-09-07     1000      9\n",
       "2           2  1000_2   1198.0   2018-06-25     1000      6\n",
       "3           3  1000_3    551.0   2018-08-22     1000      8\n",
       "4           4  1000_4    303.0   2018-09-24     1000      9"
      ]
     },
     "execution_count": 52,
     "metadata": {},
     "output_type": "execute_result"
    }
   ],
   "source": [
    "internet.head()"
   ]
  },
  {
   "cell_type": "code",
   "execution_count": 53,
   "metadata": {},
   "outputs": [
    {
     "data": {
      "text/html": [
       "<div>\n",
       "<style scoped>\n",
       "    .dataframe tbody tr th:only-of-type {\n",
       "        vertical-align: middle;\n",
       "    }\n",
       "\n",
       "    .dataframe tbody tr th {\n",
       "        vertical-align: top;\n",
       "    }\n",
       "\n",
       "    .dataframe thead th {\n",
       "        text-align: right;\n",
       "    }\n",
       "</style>\n",
       "<table border=\"1\" class=\"dataframe\">\n",
       "  <thead>\n",
       "    <tr style=\"text-align: right;\">\n",
       "      <th></th>\n",
       "      <th>month</th>\n",
       "      <th>qty_session</th>\n",
       "      <th>mb_used_per_month</th>\n",
       "    </tr>\n",
       "  </thead>\n",
       "  <tbody>\n",
       "    <tr>\n",
       "      <td>0</td>\n",
       "      <td>1</td>\n",
       "      <td>966</td>\n",
       "      <td>408213.0</td>\n",
       "    </tr>\n",
       "    <tr>\n",
       "      <td>1</td>\n",
       "      <td>2</td>\n",
       "      <td>2263</td>\n",
       "      <td>956348.0</td>\n",
       "    </tr>\n",
       "    <tr>\n",
       "      <td>2</td>\n",
       "      <td>3</td>\n",
       "      <td>4262</td>\n",
       "      <td>1813960.0</td>\n",
       "    </tr>\n",
       "    <tr>\n",
       "      <td>3</td>\n",
       "      <td>4</td>\n",
       "      <td>5692</td>\n",
       "      <td>2436111.0</td>\n",
       "    </tr>\n",
       "    <tr>\n",
       "      <td>4</td>\n",
       "      <td>5</td>\n",
       "      <td>8209</td>\n",
       "      <td>3529893.0</td>\n",
       "    </tr>\n",
       "    <tr>\n",
       "      <td>5</td>\n",
       "      <td>6</td>\n",
       "      <td>9656</td>\n",
       "      <td>4184770.0</td>\n",
       "    </tr>\n",
       "    <tr>\n",
       "      <td>6</td>\n",
       "      <td>7</td>\n",
       "      <td>11788</td>\n",
       "      <td>5035299.0</td>\n",
       "    </tr>\n",
       "    <tr>\n",
       "      <td>7</td>\n",
       "      <td>8</td>\n",
       "      <td>14009</td>\n",
       "      <td>6005126.0</td>\n",
       "    </tr>\n",
       "    <tr>\n",
       "      <td>8</td>\n",
       "      <td>9</td>\n",
       "      <td>15198</td>\n",
       "      <td>6454931.0</td>\n",
       "    </tr>\n",
       "    <tr>\n",
       "      <td>9</td>\n",
       "      <td>10</td>\n",
       "      <td>17367</td>\n",
       "      <td>7400754.0</td>\n",
       "    </tr>\n",
       "    <tr>\n",
       "      <td>10</td>\n",
       "      <td>11</td>\n",
       "      <td>18910</td>\n",
       "      <td>7999852.0</td>\n",
       "    </tr>\n",
       "    <tr>\n",
       "      <td>11</td>\n",
       "      <td>12</td>\n",
       "      <td>21478</td>\n",
       "      <td>9144202.0</td>\n",
       "    </tr>\n",
       "  </tbody>\n",
       "</table>\n",
       "</div>"
      ],
      "text/plain": [
       "    month  qty_session  mb_used_per_month\n",
       "0       1          966           408213.0\n",
       "1       2         2263           956348.0\n",
       "2       3         4262          1813960.0\n",
       "3       4         5692          2436111.0\n",
       "4       5         8209          3529893.0\n",
       "5       6         9656          4184770.0\n",
       "6       7        11788          5035299.0\n",
       "7       8        14009          6005126.0\n",
       "8       9        15198          6454931.0\n",
       "9      10        17367          7400754.0\n",
       "10     11        18910          7999852.0\n",
       "11     12        21478          9144202.0"
      ]
     },
     "execution_count": 53,
     "metadata": {},
     "output_type": "execute_result"
    }
   ],
   "source": [
    "internet_by_month = internet.groupby('month').agg({'id':'nunique', 'mb_used':'sum'}).reset_index()\n",
    "internet_by_month.columns = ['month', 'qty_session', 'mb_used_per_month']\n",
    "internet_by_month"
   ]
  },
  {
   "cell_type": "code",
   "execution_count": 54,
   "metadata": {},
   "outputs": [
    {
     "data": {
      "text/plain": [
       "Text(0.5, 1.0, 'Объем израсходованного интернет-трафика  по месяцам')"
      ]
     },
     "execution_count": 54,
     "metadata": {},
     "output_type": "execute_result"
    },
    {
     "data": {
      "image/png": "[encoded data removed]",
      "text/plain": [
       "<Figure size 432x432 with 1 Axes>"
      ]
     },
     "metadata": {
      "needs_background": "light"
     },
     "output_type": "display_data"
    }
   ],
   "source": [
    "internet.pivot_table(index='month', values='mb_used', aggfunc='sum').plot(kind='bar', grid=True, figsize=(6, 6))\n",
    "plt.title('Объем израсходованного интернет-трафика  по месяцам')"
   ]
  },
  {
   "cell_type": "markdown",
   "metadata": {},
   "source": [
    "    Объем израсходованного интернет-трафика увеличивается каждый месяц с января по декабрь.\n",
    "    В каждом месяце происходит прирост. График выглядит аналогично предыдущим двум\n",
    "    (количество звонков и сообщений)."
   ]
  },
  {
   "cell_type": "markdown",
   "metadata": {},
   "source": [
    "###  2.6 Доля абонентов тарифов smart и ultra  в выборке<a class=\"anchor\" id=\"2-6-bullet\"></a>"
   ]
  },
  {
   "cell_type": "markdown",
   "metadata": {},
   "source": [
    "    Для рассчета необходимо объединить данные из несколько таблиц"
   ]
  },
  {
   "cell_type": "code",
   "execution_count": 55,
   "metadata": {},
   "outputs": [],
   "source": [
    "inf_from_calls = calls.groupby(['user_id', 'month'])['duration'].sum()"
   ]
  },
  {
   "cell_type": "code",
   "execution_count": 56,
   "metadata": {},
   "outputs": [],
   "source": [
    "inf_from_messages = messages.groupby(['user_id', 'month'])['id'].count()"
   ]
  },
  {
   "cell_type": "code",
   "execution_count": 57,
   "metadata": {},
   "outputs": [],
   "source": [
    "inf_from_internet = internet.groupby(['user_id', 'month'])['mb_used'].sum()"
   ]
  },
  {
   "cell_type": "code",
   "execution_count": 58,
   "metadata": {},
   "outputs": [
    {
     "data": {
      "text/html": [
       "<div>\n",
       "<style scoped>\n",
       "    .dataframe tbody tr th:only-of-type {\n",
       "        vertical-align: middle;\n",
       "    }\n",
       "\n",
       "    .dataframe tbody tr th {\n",
       "        vertical-align: top;\n",
       "    }\n",
       "\n",
       "    .dataframe thead th {\n",
       "        text-align: right;\n",
       "    }\n",
       "</style>\n",
       "<table border=\"1\" class=\"dataframe\">\n",
       "  <thead>\n",
       "    <tr style=\"text-align: right;\">\n",
       "      <th></th>\n",
       "      <th>user_id</th>\n",
       "      <th>month</th>\n",
       "      <th>call_duration</th>\n",
       "      <th>amount_message</th>\n",
       "      <th>internet_mb_used</th>\n",
       "    </tr>\n",
       "  </thead>\n",
       "  <tbody>\n",
       "    <tr>\n",
       "      <td>0</td>\n",
       "      <td>1000</td>\n",
       "      <td>5</td>\n",
       "      <td>159.0</td>\n",
       "      <td>22.0</td>\n",
       "      <td>2256.0</td>\n",
       "    </tr>\n",
       "    <tr>\n",
       "      <td>1</td>\n",
       "      <td>1000</td>\n",
       "      <td>6</td>\n",
       "      <td>172.0</td>\n",
       "      <td>60.0</td>\n",
       "      <td>23257.0</td>\n",
       "    </tr>\n",
       "    <tr>\n",
       "      <td>2</td>\n",
       "      <td>1000</td>\n",
       "      <td>7</td>\n",
       "      <td>340.0</td>\n",
       "      <td>75.0</td>\n",
       "      <td>14016.0</td>\n",
       "    </tr>\n",
       "    <tr>\n",
       "      <td>3</td>\n",
       "      <td>1000</td>\n",
       "      <td>8</td>\n",
       "      <td>408.0</td>\n",
       "      <td>81.0</td>\n",
       "      <td>14070.0</td>\n",
       "    </tr>\n",
       "    <tr>\n",
       "      <td>4</td>\n",
       "      <td>1000</td>\n",
       "      <td>9</td>\n",
       "      <td>466.0</td>\n",
       "      <td>57.0</td>\n",
       "      <td>14581.0</td>\n",
       "    </tr>\n",
       "  </tbody>\n",
       "</table>\n",
       "</div>"
      ],
      "text/plain": [
       "   user_id  month  call_duration  amount_message  internet_mb_used\n",
       "0     1000      5          159.0            22.0            2256.0\n",
       "1     1000      6          172.0            60.0           23257.0\n",
       "2     1000      7          340.0            75.0           14016.0\n",
       "3     1000      8          408.0            81.0           14070.0\n",
       "4     1000      9          466.0            57.0           14581.0"
      ]
     },
     "execution_count": 58,
     "metadata": {},
     "output_type": "execute_result"
    }
   ],
   "source": [
    "common_table = pd.concat([inf_from_calls, inf_from_messages, inf_from_internet], axis=1)\n",
    "common_table = common_table.reset_index()\n",
    "common_table.columns = ['user_id', 'month', 'call_duration', 'amount_message', \n",
    "                            'internet_mb_used']\n",
    "common_table.head()"
   ]
  },
  {
   "cell_type": "markdown",
   "metadata": {},
   "source": [
    "Добавим в таблицу данные о пользователях из таблицы users"
   ]
  },
  {
   "cell_type": "code",
   "execution_count": 59,
   "metadata": {},
   "outputs": [
    {
     "data": {
      "text/html": [
       "<div>\n",
       "<style scoped>\n",
       "    .dataframe tbody tr th:only-of-type {\n",
       "        vertical-align: middle;\n",
       "    }\n",
       "\n",
       "    .dataframe tbody tr th {\n",
       "        vertical-align: top;\n",
       "    }\n",
       "\n",
       "    .dataframe thead th {\n",
       "        text-align: right;\n",
       "    }\n",
       "</style>\n",
       "<table border=\"1\" class=\"dataframe\">\n",
       "  <thead>\n",
       "    <tr style=\"text-align: right;\">\n",
       "      <th></th>\n",
       "      <th>user_id</th>\n",
       "      <th>month</th>\n",
       "      <th>call_duration</th>\n",
       "      <th>amount_message</th>\n",
       "      <th>internet_mb_used</th>\n",
       "      <th>age</th>\n",
       "      <th>churn_date</th>\n",
       "      <th>city</th>\n",
       "      <th>first_name</th>\n",
       "      <th>last_name</th>\n",
       "      <th>reg_date</th>\n",
       "      <th>tariff</th>\n",
       "    </tr>\n",
       "  </thead>\n",
       "  <tbody>\n",
       "    <tr>\n",
       "      <td>0</td>\n",
       "      <td>1000</td>\n",
       "      <td>5</td>\n",
       "      <td>159.0</td>\n",
       "      <td>22.0</td>\n",
       "      <td>2256.0</td>\n",
       "      <td>52</td>\n",
       "      <td>NaT</td>\n",
       "      <td>Краснодар</td>\n",
       "      <td>Рафаил</td>\n",
       "      <td>Верещагин</td>\n",
       "      <td>2018-05-25</td>\n",
       "      <td>ultra</td>\n",
       "    </tr>\n",
       "    <tr>\n",
       "      <td>1</td>\n",
       "      <td>1000</td>\n",
       "      <td>6</td>\n",
       "      <td>172.0</td>\n",
       "      <td>60.0</td>\n",
       "      <td>23257.0</td>\n",
       "      <td>52</td>\n",
       "      <td>NaT</td>\n",
       "      <td>Краснодар</td>\n",
       "      <td>Рафаил</td>\n",
       "      <td>Верещагин</td>\n",
       "      <td>2018-05-25</td>\n",
       "      <td>ultra</td>\n",
       "    </tr>\n",
       "    <tr>\n",
       "      <td>2</td>\n",
       "      <td>1000</td>\n",
       "      <td>7</td>\n",
       "      <td>340.0</td>\n",
       "      <td>75.0</td>\n",
       "      <td>14016.0</td>\n",
       "      <td>52</td>\n",
       "      <td>NaT</td>\n",
       "      <td>Краснодар</td>\n",
       "      <td>Рафаил</td>\n",
       "      <td>Верещагин</td>\n",
       "      <td>2018-05-25</td>\n",
       "      <td>ultra</td>\n",
       "    </tr>\n",
       "    <tr>\n",
       "      <td>3</td>\n",
       "      <td>1000</td>\n",
       "      <td>8</td>\n",
       "      <td>408.0</td>\n",
       "      <td>81.0</td>\n",
       "      <td>14070.0</td>\n",
       "      <td>52</td>\n",
       "      <td>NaT</td>\n",
       "      <td>Краснодар</td>\n",
       "      <td>Рафаил</td>\n",
       "      <td>Верещагин</td>\n",
       "      <td>2018-05-25</td>\n",
       "      <td>ultra</td>\n",
       "    </tr>\n",
       "    <tr>\n",
       "      <td>4</td>\n",
       "      <td>1000</td>\n",
       "      <td>9</td>\n",
       "      <td>466.0</td>\n",
       "      <td>57.0</td>\n",
       "      <td>14581.0</td>\n",
       "      <td>52</td>\n",
       "      <td>NaT</td>\n",
       "      <td>Краснодар</td>\n",
       "      <td>Рафаил</td>\n",
       "      <td>Верещагин</td>\n",
       "      <td>2018-05-25</td>\n",
       "      <td>ultra</td>\n",
       "    </tr>\n",
       "  </tbody>\n",
       "</table>\n",
       "</div>"
      ],
      "text/plain": [
       "   user_id  month  call_duration  amount_message  internet_mb_used  age  \\\n",
       "0     1000      5          159.0            22.0            2256.0   52   \n",
       "1     1000      6          172.0            60.0           23257.0   52   \n",
       "2     1000      7          340.0            75.0           14016.0   52   \n",
       "3     1000      8          408.0            81.0           14070.0   52   \n",
       "4     1000      9          466.0            57.0           14581.0   52   \n",
       "\n",
       "  churn_date       city first_name  last_name   reg_date tariff  \n",
       "0        NaT  Краснодар     Рафаил  Верещагин 2018-05-25  ultra  \n",
       "1        NaT  Краснодар     Рафаил  Верещагин 2018-05-25  ultra  \n",
       "2        NaT  Краснодар     Рафаил  Верещагин 2018-05-25  ultra  \n",
       "3        NaT  Краснодар     Рафаил  Верещагин 2018-05-25  ultra  \n",
       "4        NaT  Краснодар     Рафаил  Верещагин 2018-05-25  ultra  "
      ]
     },
     "execution_count": 59,
     "metadata": {},
     "output_type": "execute_result"
    }
   ],
   "source": [
    "common_table = common_table.merge(users, on='user_id', how='left')\n",
    "common_table.head()"
   ]
  },
  {
   "cell_type": "markdown",
   "metadata": {},
   "source": [
    "    Так как в тарифах стоимость взимается за гигабайты, переведем мегабайты в гигабайты.\n",
    "    Далле округлим значения до целого числа в большую сторону."
   ]
  },
  {
   "cell_type": "code",
   "execution_count": 60,
   "metadata": {},
   "outputs": [],
   "source": [
    "common_table['internet_gb_used'] = common_table['internet_mb_used'] / 1024 "
   ]
  },
  {
   "cell_type": "code",
   "execution_count": 61,
   "metadata": {},
   "outputs": [],
   "source": [
    "common_table['internet_gb_used'] = common_table['internet_gb_used'].apply(np.ceil)"
   ]
  },
  {
   "cell_type": "code",
   "execution_count": 62,
   "metadata": {},
   "outputs": [
    {
     "data": {
      "text/plain": [
       "count    3201.000000\n",
       "mean       17.400187\n",
       "std         7.343968\n",
       "min         1.000000\n",
       "25%        13.000000\n",
       "50%        17.000000\n",
       "75%        21.000000\n",
       "max        49.000000\n",
       "Name: internet_gb_used, dtype: float64"
      ]
     },
     "execution_count": 62,
     "metadata": {},
     "output_type": "execute_result"
    }
   ],
   "source": [
    "common_table['internet_gb_used'].describe()"
   ]
  },
  {
   "cell_type": "markdown",
   "metadata": {},
   "source": [
    "    Проверим предпочтения абонементов в зависимости от тарифа.\n",
    "    Для начала выясним сколько абонентов выбрали тариф SMART, а сколько абонентов тариф ULTRA."
   ]
  },
  {
   "cell_type": "code",
   "execution_count": 63,
   "metadata": {},
   "outputs": [
    {
     "data": {
      "text/plain": [
       "smart    2229\n",
       "ultra     985\n",
       "Name: tariff, dtype: int64"
      ]
     },
     "execution_count": 63,
     "metadata": {},
     "output_type": "execute_result"
    }
   ],
   "source": [
    "common_table['tariff'].value_counts()"
   ]
  },
  {
   "cell_type": "code",
   "execution_count": 64,
   "metadata": {},
   "outputs": [
    {
     "data": {
      "text/plain": [
       "Text(0.5, 1.0, 'Соотношение клиентов с тарифами SMART и ULTRA')"
      ]
     },
     "execution_count": 64,
     "metadata": {},
     "output_type": "execute_result"
    },
    {
     "data": {
      "image/png": "[encoded data removed]",
      "text/plain": [
       "<Figure size 432x288 with 1 Axes>"
      ]
     },
     "metadata": {},
     "output_type": "display_data"
    }
   ],
   "source": [
    "common_table['tariff'].value_counts().plot(y='tariff', kind='pie')\n",
    "plt.title('Соотношение клиентов с тарифами SMART и ULTRA')"
   ]
  },
  {
   "cell_type": "markdown",
   "metadata": {},
   "source": [
    "    Абоненты с тарифом SMART составляют 69.35 % от общей выборки.    \n",
    "    Абоненты с тарифом ULTRA составляют 30.65 % от общей выборки.\n",
    "\n",
    "    Посмторим на показатели абонентов двух тарифов:\n",
    "    длительность звонков, количество сообщений, объем интернет-тарифка."
   ]
  },
  {
   "cell_type": "code",
   "execution_count": 65,
   "metadata": {},
   "outputs": [
    {
     "data": {
      "text/html": [
       "<div>\n",
       "<style scoped>\n",
       "    .dataframe tbody tr th:only-of-type {\n",
       "        vertical-align: middle;\n",
       "    }\n",
       "\n",
       "    .dataframe tbody tr th {\n",
       "        vertical-align: top;\n",
       "    }\n",
       "\n",
       "    .dataframe thead tr th {\n",
       "        text-align: left;\n",
       "    }\n",
       "</style>\n",
       "<table border=\"1\" class=\"dataframe\">\n",
       "  <thead>\n",
       "    <tr>\n",
       "      <th></th>\n",
       "      <th>tariff</th>\n",
       "      <th>amount_message</th>\n",
       "      <th colspan=\"2\" halign=\"left\">call_duration</th>\n",
       "      <th colspan=\"2\" halign=\"left\">internet_gb_used</th>\n",
       "    </tr>\n",
       "    <tr>\n",
       "      <th></th>\n",
       "      <th></th>\n",
       "      <th>sum</th>\n",
       "      <th>count</th>\n",
       "      <th>sum</th>\n",
       "      <th>count</th>\n",
       "      <th>sum</th>\n",
       "    </tr>\n",
       "  </thead>\n",
       "  <tbody>\n",
       "    <tr>\n",
       "      <td>0</td>\n",
       "      <td>smart</td>\n",
       "      <td>74413.0</td>\n",
       "      <td>2221</td>\n",
       "      <td>931577.0</td>\n",
       "      <td>2227</td>\n",
       "      <td>36465.0</td>\n",
       "    </tr>\n",
       "    <tr>\n",
       "      <td>1</td>\n",
       "      <td>ultra</td>\n",
       "      <td>48623.0</td>\n",
       "      <td>947</td>\n",
       "      <td>518724.0</td>\n",
       "      <td>974</td>\n",
       "      <td>19233.0</td>\n",
       "    </tr>\n",
       "  </tbody>\n",
       "</table>\n",
       "</div>"
      ],
      "text/plain": [
       "  tariff amount_message call_duration           internet_gb_used         \n",
       "                    sum         count       sum            count      sum\n",
       "0  smart        74413.0          2221  931577.0             2227  36465.0\n",
       "1  ultra        48623.0           947  518724.0              974  19233.0"
      ]
     },
     "execution_count": 65,
     "metadata": {},
     "output_type": "execute_result"
    }
   ],
   "source": [
    "tariff_table = common_table.groupby('tariff').agg({'amount_message':'sum', 'call_duration':['count','sum'], 'internet_gb_used':['count','sum']}).reset_index()\n",
    "tariff_table"
   ]
  },
  {
   "cell_type": "markdown",
   "metadata": {},
   "source": [
    "    Так как абонентов, принадлежащих к тарифу SMART  больше, то и их доля в звонках,\n",
    "    сообщениях, интернет-трафике больше. Построим графики для каждого из показателей."
   ]
  },
  {
   "cell_type": "code",
   "execution_count": 146,
   "metadata": {},
   "outputs": [
    {
     "data": {
      "text/plain": [
       "Text(0.5, 1.0, 'Количество отправленных сообщений')"
      ]
     },
     "execution_count": 146,
     "metadata": {},
     "output_type": "execute_result"
    },
    {
     "data": {
      "image/png": "[encoded data removed]",
      "text/plain": [
       "<Figure size 1080x288 with 3 Axes>"
      ]
     },
     "metadata": {
      "needs_background": "light"
     },
     "output_type": "display_data"
    }
   ],
   "source": [
    "fig, axes = plt.subplots(1, 3, figsize=(15,4))\n",
    "common_table.pivot_table(index='tariff', values='call_duration', aggfunc='sum').plot(kind='bar', grid=True, ax=axes[0])\n",
    "common_table.pivot_table(index='tariff', values='internet_gb_used', aggfunc='sum').plot(kind='bar', grid=True, ax=axes[1], color='teal')\n",
    "common_table.pivot_table(index='tariff', values='amount_message', aggfunc='sum').plot(kind='bar', grid=True, ax=axes[2], color='slateblue')\n",
    "axes[0].set_title('Длительность звонков в мин.')\n",
    "axes[1].set_title('Объём потраченного интернет-трафика')\n",
    "axes[2].set_title('Количество отправленных сообщений')"
   ]
  },
  {
   "cell_type": "markdown",
   "metadata": {},
   "source": [
    "    То что, абонентов тарифа SMART больше, чем абонентов ULTRA, и они проявляют больше\n",
    "    активностей, не значит, что тариф SMART выгоднее для сотового оператора. Необходимо\n",
    "    проверить помесячную выручку с каждого пользователя"
   ]
  },
  {
   "cell_type": "markdown",
   "metadata": {},
   "source": [
    "###  2.7. Помесячная выручка с каждого пользователя<a class=\"anchor\" id=\"2-7-bullet\"></a>"
   ]
  },
  {
   "cell_type": "markdown",
   "metadata": {},
   "source": [
    "    Создадим новую колонку, в которой вычтем бесплатный лимит минут из суммарного\n",
    "    количества звонков за месяц."
   ]
  },
  {
   "cell_type": "code",
   "execution_count": 70,
   "metadata": {},
   "outputs": [],
   "source": [
    "def calls_over_tariff(row):\n",
    "    if row['tariff'] == 'smart':\n",
    "        result = row['call_duration'] - 500\n",
    "        return np.where(result > 0, result, 0)\n",
    "    else:\n",
    "        result = row['call_duration'] - 3000\n",
    "        return np.where(result > 0, result, 0)"
   ]
  },
  {
   "cell_type": "code",
   "execution_count": 71,
   "metadata": {},
   "outputs": [],
   "source": [
    "common_table['extra_minutes'] = common_table.apply(calls_over_tariff, axis=1)"
   ]
  },
  {
   "cell_type": "markdown",
   "metadata": {},
   "source": [
    "    Создадим новую колонку, в которой вычтем бесплатный лимит сообщений из суммарного\n",
    "    количества сообщений за месяц."
   ]
  },
  {
   "cell_type": "code",
   "execution_count": 72,
   "metadata": {},
   "outputs": [],
   "source": [
    "def message_over_tariff(row):\n",
    "    if row['tariff'] == 'smart':\n",
    "        result = row['amount_message'] - 50\n",
    "        return np.where(result > 0, result, 0)\n",
    "    else:\n",
    "        result =  row['amount_message'] - 1000\n",
    "        return np.where(result > 0, result, 0)"
   ]
  },
  {
   "cell_type": "code",
   "execution_count": 73,
   "metadata": {},
   "outputs": [],
   "source": [
    "common_table['extra_message'] = common_table.apply(message_over_tariff, axis=1)"
   ]
  },
  {
   "cell_type": "markdown",
   "metadata": {},
   "source": [
    "    Создадим новую колонку, в которой вычтем бесплатный лимит интернет-трафика из\n",
    "    потраченного трафика за месяц."
   ]
  },
  {
   "cell_type": "code",
   "execution_count": 74,
   "metadata": {},
   "outputs": [],
   "source": [
    "def internet_over_tariff(row):\n",
    "    if row['tariff'] == 'smart':\n",
    "        result = row['internet_gb_used'] - 15\n",
    "        return np.where(result > 0, result, 0)\n",
    "    else:\n",
    "        result = row['internet_gb_used'] - 30 \n",
    "        return np.where(result > 0, result, 0)"
   ]
  },
  {
   "cell_type": "code",
   "execution_count": 75,
   "metadata": {},
   "outputs": [],
   "source": [
    "common_table['extra_internet'] = common_table.apply(internet_over_tariff, axis=1)"
   ]
  },
  {
   "cell_type": "code",
   "execution_count": 76,
   "metadata": {},
   "outputs": [
    {
     "data": {
      "text/html": [
       "<div>\n",
       "<style scoped>\n",
       "    .dataframe tbody tr th:only-of-type {\n",
       "        vertical-align: middle;\n",
       "    }\n",
       "\n",
       "    .dataframe tbody tr th {\n",
       "        vertical-align: top;\n",
       "    }\n",
       "\n",
       "    .dataframe thead th {\n",
       "        text-align: right;\n",
       "    }\n",
       "</style>\n",
       "<table border=\"1\" class=\"dataframe\">\n",
       "  <thead>\n",
       "    <tr style=\"text-align: right;\">\n",
       "      <th></th>\n",
       "      <th>user_id</th>\n",
       "      <th>month</th>\n",
       "      <th>call_duration</th>\n",
       "      <th>amount_message</th>\n",
       "      <th>internet_mb_used</th>\n",
       "      <th>age</th>\n",
       "      <th>churn_date</th>\n",
       "      <th>city</th>\n",
       "      <th>first_name</th>\n",
       "      <th>last_name</th>\n",
       "      <th>reg_date</th>\n",
       "      <th>tariff</th>\n",
       "      <th>internet_gb_used</th>\n",
       "      <th>extra_minutes</th>\n",
       "      <th>extra_message</th>\n",
       "      <th>extra_internet</th>\n",
       "    </tr>\n",
       "  </thead>\n",
       "  <tbody>\n",
       "    <tr>\n",
       "      <td>0</td>\n",
       "      <td>1000</td>\n",
       "      <td>5</td>\n",
       "      <td>159.0</td>\n",
       "      <td>22.0</td>\n",
       "      <td>2256.0</td>\n",
       "      <td>52</td>\n",
       "      <td>NaT</td>\n",
       "      <td>Краснодар</td>\n",
       "      <td>Рафаил</td>\n",
       "      <td>Верещагин</td>\n",
       "      <td>2018-05-25</td>\n",
       "      <td>ultra</td>\n",
       "      <td>3.0</td>\n",
       "      <td>0.0</td>\n",
       "      <td>0.0</td>\n",
       "      <td>0.0</td>\n",
       "    </tr>\n",
       "    <tr>\n",
       "      <td>1</td>\n",
       "      <td>1000</td>\n",
       "      <td>6</td>\n",
       "      <td>172.0</td>\n",
       "      <td>60.0</td>\n",
       "      <td>23257.0</td>\n",
       "      <td>52</td>\n",
       "      <td>NaT</td>\n",
       "      <td>Краснодар</td>\n",
       "      <td>Рафаил</td>\n",
       "      <td>Верещагин</td>\n",
       "      <td>2018-05-25</td>\n",
       "      <td>ultra</td>\n",
       "      <td>23.0</td>\n",
       "      <td>0.0</td>\n",
       "      <td>0.0</td>\n",
       "      <td>0.0</td>\n",
       "    </tr>\n",
       "    <tr>\n",
       "      <td>2</td>\n",
       "      <td>1000</td>\n",
       "      <td>7</td>\n",
       "      <td>340.0</td>\n",
       "      <td>75.0</td>\n",
       "      <td>14016.0</td>\n",
       "      <td>52</td>\n",
       "      <td>NaT</td>\n",
       "      <td>Краснодар</td>\n",
       "      <td>Рафаил</td>\n",
       "      <td>Верещагин</td>\n",
       "      <td>2018-05-25</td>\n",
       "      <td>ultra</td>\n",
       "      <td>14.0</td>\n",
       "      <td>0.0</td>\n",
       "      <td>0.0</td>\n",
       "      <td>0.0</td>\n",
       "    </tr>\n",
       "    <tr>\n",
       "      <td>3</td>\n",
       "      <td>1000</td>\n",
       "      <td>8</td>\n",
       "      <td>408.0</td>\n",
       "      <td>81.0</td>\n",
       "      <td>14070.0</td>\n",
       "      <td>52</td>\n",
       "      <td>NaT</td>\n",
       "      <td>Краснодар</td>\n",
       "      <td>Рафаил</td>\n",
       "      <td>Верещагин</td>\n",
       "      <td>2018-05-25</td>\n",
       "      <td>ultra</td>\n",
       "      <td>14.0</td>\n",
       "      <td>0.0</td>\n",
       "      <td>0.0</td>\n",
       "      <td>0.0</td>\n",
       "    </tr>\n",
       "    <tr>\n",
       "      <td>4</td>\n",
       "      <td>1000</td>\n",
       "      <td>9</td>\n",
       "      <td>466.0</td>\n",
       "      <td>57.0</td>\n",
       "      <td>14581.0</td>\n",
       "      <td>52</td>\n",
       "      <td>NaT</td>\n",
       "      <td>Краснодар</td>\n",
       "      <td>Рафаил</td>\n",
       "      <td>Верещагин</td>\n",
       "      <td>2018-05-25</td>\n",
       "      <td>ultra</td>\n",
       "      <td>15.0</td>\n",
       "      <td>0.0</td>\n",
       "      <td>0.0</td>\n",
       "      <td>0.0</td>\n",
       "    </tr>\n",
       "  </tbody>\n",
       "</table>\n",
       "</div>"
      ],
      "text/plain": [
       "   user_id  month  call_duration  amount_message  internet_mb_used  age  \\\n",
       "0     1000      5          159.0            22.0            2256.0   52   \n",
       "1     1000      6          172.0            60.0           23257.0   52   \n",
       "2     1000      7          340.0            75.0           14016.0   52   \n",
       "3     1000      8          408.0            81.0           14070.0   52   \n",
       "4     1000      9          466.0            57.0           14581.0   52   \n",
       "\n",
       "  churn_date       city first_name  last_name   reg_date tariff  \\\n",
       "0        NaT  Краснодар     Рафаил  Верещагин 2018-05-25  ultra   \n",
       "1        NaT  Краснодар     Рафаил  Верещагин 2018-05-25  ultra   \n",
       "2        NaT  Краснодар     Рафаил  Верещагин 2018-05-25  ultra   \n",
       "3        NaT  Краснодар     Рафаил  Верещагин 2018-05-25  ultra   \n",
       "4        NaT  Краснодар     Рафаил  Верещагин 2018-05-25  ultra   \n",
       "\n",
       "   internet_gb_used extra_minutes extra_message extra_internet  \n",
       "0               3.0           0.0           0.0            0.0  \n",
       "1              23.0           0.0           0.0            0.0  \n",
       "2              14.0           0.0           0.0            0.0  \n",
       "3              14.0           0.0           0.0            0.0  \n",
       "4              15.0           0.0           0.0            0.0  "
      ]
     },
     "execution_count": 76,
     "metadata": {},
     "output_type": "execute_result"
    }
   ],
   "source": [
    "common_table.head() "
   ]
  },
  {
   "cell_type": "markdown",
   "metadata": {},
   "source": [
    "Получившейся остаток умножим на значения из тарифного плана:"
   ]
  },
  {
   "cell_type": "code",
   "execution_count": 77,
   "metadata": {},
   "outputs": [],
   "source": [
    "def income_calls(row):\n",
    "    if row['tariff'] == 'smart':\n",
    "        result = row['extra_minutes'] * 3\n",
    "        return result\n",
    "    else:\n",
    "        result = row['extra_minutes'] * 1\n",
    "        return result"
   ]
  },
  {
   "cell_type": "code",
   "execution_count": 78,
   "metadata": {},
   "outputs": [],
   "source": [
    "common_table['income_calls'] = common_table.apply(income_calls, axis=1)"
   ]
  },
  {
   "cell_type": "code",
   "execution_count": 79,
   "metadata": {},
   "outputs": [],
   "source": [
    "def income_message(row):\n",
    "    if row['tariff'] == 'smart':\n",
    "        result = row['extra_message'] * 3\n",
    "        return result\n",
    "    else:\n",
    "        result = row['extra_message'] * 1\n",
    "        return result"
   ]
  },
  {
   "cell_type": "code",
   "execution_count": 80,
   "metadata": {},
   "outputs": [],
   "source": [
    "common_table['income_message'] = common_table.apply(income_message, axis=1)"
   ]
  },
  {
   "cell_type": "code",
   "execution_count": 81,
   "metadata": {},
   "outputs": [],
   "source": [
    "def income_internet(row):\n",
    "    if row['tariff'] == 'smart':\n",
    "        result = row['extra_internet'] * 200\n",
    "        return result\n",
    "    else:\n",
    "        result = row['extra_internet'] * 150\n",
    "        return result"
   ]
  },
  {
   "cell_type": "code",
   "execution_count": 82,
   "metadata": {},
   "outputs": [],
   "source": [
    "common_table['income_internet'] = common_table.apply(income_internet, axis=1)"
   ]
  },
  {
   "cell_type": "markdown",
   "metadata": {},
   "source": [
    "    Посмотрим на сколько превысили лимит базового пакета абоненты двух тарифов.\n",
    "    За что пришлось доплачивать и сколько."
   ]
  },
  {
   "cell_type": "code",
   "execution_count": 83,
   "metadata": {},
   "outputs": [
    {
     "data": {
      "text/html": [
       "<div>\n",
       "<style scoped>\n",
       "    .dataframe tbody tr th:only-of-type {\n",
       "        vertical-align: middle;\n",
       "    }\n",
       "\n",
       "    .dataframe tbody tr th {\n",
       "        vertical-align: top;\n",
       "    }\n",
       "\n",
       "    .dataframe thead th {\n",
       "        text-align: right;\n",
       "    }\n",
       "</style>\n",
       "<table border=\"1\" class=\"dataframe\">\n",
       "  <thead>\n",
       "    <tr style=\"text-align: right;\">\n",
       "      <th></th>\n",
       "      <th>income_calls</th>\n",
       "      <th>income_internet</th>\n",
       "      <th>income_message</th>\n",
       "    </tr>\n",
       "    <tr>\n",
       "      <th>tariff</th>\n",
       "      <th></th>\n",
       "      <th></th>\n",
       "      <th></th>\n",
       "    </tr>\n",
       "  </thead>\n",
       "  <tbody>\n",
       "    <tr>\n",
       "      <td>smart</td>\n",
       "      <td>278217.0</td>\n",
       "      <td>1342800.0</td>\n",
       "      <td>38784.0</td>\n",
       "    </tr>\n",
       "    <tr>\n",
       "      <td>ultra</td>\n",
       "      <td>0.0</td>\n",
       "      <td>119250.0</td>\n",
       "      <td>0.0</td>\n",
       "    </tr>\n",
       "  </tbody>\n",
       "</table>\n",
       "</div>"
      ],
      "text/plain": [
       "        income_calls  income_internet  income_message\n",
       "tariff                                               \n",
       "smart       278217.0        1342800.0         38784.0\n",
       "ultra            0.0         119250.0             0.0"
      ]
     },
     "execution_count": 83,
     "metadata": {},
     "output_type": "execute_result"
    }
   ],
   "source": [
    "common_table.pivot_table(index='tariff', values=('income_calls', 'income_message', 'income_internet'), aggfunc='sum')"
   ]
  },
  {
   "cell_type": "markdown",
   "metadata": {},
   "source": [
    "    Из таблицы выше мы видим, что абоненты с тарифом SMART  превышают свой лимит во всех\n",
    "    категориях: звонки, сообщения, интернет-трафик. По каждой категории абоненты производят\n",
    "    дополнительную плату к абонентской плате. \n",
    "    Самые большие переплаты за трафик - 1 млн 342 тыс.,\n",
    "    далее звонки - 278 тыс,\n",
    "    и на последнем месте доплаты за сообщения - 38 тыс.\n",
    "\n",
    "    Абоненты с тарифом ULTRA превышают свой лимит только в интернет-трафике.\n",
    "    Оплачивают дополнительно только за доп.трафик. Сумма составляет 119 тыс., что составляет\n",
    "    всего 8,88% от суммы переплат за трафик у абонентов SMART.\n",
    "\n",
    "    Сложим все доп.затраты в одной колонке ['total_income']."
   ]
  },
  {
   "cell_type": "code",
   "execution_count": 84,
   "metadata": {},
   "outputs": [],
   "source": [
    "common_table['total_income'] = common_table['income_calls'] + common_table['income_message'] + common_table['income_internet']    "
   ]
  },
  {
   "cell_type": "markdown",
   "metadata": {},
   "source": [
    "    К получившемуся результату прибавим абонентскую плату"
   ]
  },
  {
   "cell_type": "code",
   "execution_count": 85,
   "metadata": {},
   "outputs": [],
   "source": [
    "def revenue(row):\n",
    "    if row['tariff'] == 'smart':\n",
    "        result = row['total_income'] + 550\n",
    "        return result\n",
    "    else:\n",
    "        result = row['total_income'] + 1950\n",
    "        return result"
   ]
  },
  {
   "cell_type": "code",
   "execution_count": 86,
   "metadata": {},
   "outputs": [],
   "source": [
    "common_table['revenue'] = common_table.apply(revenue, axis=1)"
   ]
  },
  {
   "cell_type": "code",
   "execution_count": 87,
   "metadata": {},
   "outputs": [
    {
     "data": {
      "text/html": [
       "<div>\n",
       "<style scoped>\n",
       "    .dataframe tbody tr th:only-of-type {\n",
       "        vertical-align: middle;\n",
       "    }\n",
       "\n",
       "    .dataframe tbody tr th {\n",
       "        vertical-align: top;\n",
       "    }\n",
       "\n",
       "    .dataframe thead th {\n",
       "        text-align: right;\n",
       "    }\n",
       "</style>\n",
       "<table border=\"1\" class=\"dataframe\">\n",
       "  <thead>\n",
       "    <tr style=\"text-align: right;\">\n",
       "      <th></th>\n",
       "      <th>mean</th>\n",
       "      <th>median</th>\n",
       "      <th>sum</th>\n",
       "    </tr>\n",
       "    <tr>\n",
       "      <th>tariff</th>\n",
       "      <th></th>\n",
       "      <th></th>\n",
       "      <th></th>\n",
       "    </tr>\n",
       "  </thead>\n",
       "  <tbody>\n",
       "    <tr>\n",
       "      <td>smart</td>\n",
       "      <td>1294.63930</td>\n",
       "      <td>1038.0</td>\n",
       "      <td>2885751.0</td>\n",
       "    </tr>\n",
       "    <tr>\n",
       "      <td>ultra</td>\n",
       "      <td>2071.06599</td>\n",
       "      <td>1950.0</td>\n",
       "      <td>2040000.0</td>\n",
       "    </tr>\n",
       "  </tbody>\n",
       "</table>\n",
       "</div>"
      ],
      "text/plain": [
       "              mean  median        sum\n",
       "tariff                               \n",
       "smart   1294.63930  1038.0  2885751.0\n",
       "ultra   2071.06599  1950.0  2040000.0"
      ]
     },
     "execution_count": 87,
     "metadata": {},
     "output_type": "execute_result"
    }
   ],
   "source": [
    "common_table.pivot_table(index='tariff', values='revenue', aggfunc=('sum', 'mean', 'median'))"
   ]
  },
  {
   "cell_type": "markdown",
   "metadata": {},
   "source": [
    "    Сравнивать только общую сумму выручки по тарифам не корректно.\n",
    "    Мы знаем, что абонентов с тарифом SMART больше, чем абонентов с тарифом ULTRA почти в 2 раза.\n",
    "    Соответственно и общая выручка будет больше. Необходимо сравнивать сколько в среднем приносит\n",
    "    выручки один пользователь одного и другого тарифа. \n",
    "\n",
    "    Как мы видим выше:\n",
    "    - средняя выручка на одного пользователя тарифа SMART - 1295 руб. (медиана - 1038 руб.)\n",
    "    - средняя выручка на одного пользователя тарифа ULTRA - 2071 руб. (медиана - 1950 руб.)\n",
    "\n",
    "    Тариф ULTRA больше приносит выручки, чем тариф SMART. Оператору необходимо скорректировать\n",
    "    рекламный бюджет в пользу тарифа ULTRA. Это утверждение будет проверено далее при анализе.  \n",
    "\n",
    "    Добавим колонку \"абонентская плата\", чтобы проанализировать выручку по каждому тарифу:\n",
    "    что приносит больше дохода ежемесячная плата за пакет услуг или дополнительная плата за\n",
    "    \"экстра\" услуги."
   ]
  },
  {
   "cell_type": "code",
   "execution_count": 88,
   "metadata": {},
   "outputs": [
    {
     "data": {
      "text/html": [
       "<div>\n",
       "<style scoped>\n",
       "    .dataframe tbody tr th:only-of-type {\n",
       "        vertical-align: middle;\n",
       "    }\n",
       "\n",
       "    .dataframe tbody tr th {\n",
       "        vertical-align: top;\n",
       "    }\n",
       "\n",
       "    .dataframe thead th {\n",
       "        text-align: right;\n",
       "    }\n",
       "</style>\n",
       "<table border=\"1\" class=\"dataframe\">\n",
       "  <thead>\n",
       "    <tr style=\"text-align: right;\">\n",
       "      <th></th>\n",
       "      <th>user_id</th>\n",
       "      <th>month</th>\n",
       "      <th>call_duration</th>\n",
       "      <th>amount_message</th>\n",
       "      <th>internet_mb_used</th>\n",
       "      <th>age</th>\n",
       "      <th>churn_date</th>\n",
       "      <th>city</th>\n",
       "      <th>first_name</th>\n",
       "      <th>last_name</th>\n",
       "      <th>reg_date</th>\n",
       "      <th>tariff</th>\n",
       "      <th>internet_gb_used</th>\n",
       "      <th>extra_minutes</th>\n",
       "      <th>extra_message</th>\n",
       "      <th>extra_internet</th>\n",
       "      <th>income_calls</th>\n",
       "      <th>income_message</th>\n",
       "      <th>income_internet</th>\n",
       "      <th>total_income</th>\n",
       "      <th>revenue</th>\n",
       "      <th>rub_monthly_fee</th>\n",
       "    </tr>\n",
       "  </thead>\n",
       "  <tbody>\n",
       "    <tr>\n",
       "      <td>0</td>\n",
       "      <td>1000</td>\n",
       "      <td>5</td>\n",
       "      <td>159.0</td>\n",
       "      <td>22.0</td>\n",
       "      <td>2256.0</td>\n",
       "      <td>52</td>\n",
       "      <td>NaT</td>\n",
       "      <td>Краснодар</td>\n",
       "      <td>Рафаил</td>\n",
       "      <td>Верещагин</td>\n",
       "      <td>2018-05-25</td>\n",
       "      <td>ultra</td>\n",
       "      <td>3.0</td>\n",
       "      <td>0.0</td>\n",
       "      <td>0.0</td>\n",
       "      <td>0.0</td>\n",
       "      <td>0.0</td>\n",
       "      <td>0.0</td>\n",
       "      <td>0.0</td>\n",
       "      <td>0.0</td>\n",
       "      <td>1950.0</td>\n",
       "      <td>1950</td>\n",
       "    </tr>\n",
       "    <tr>\n",
       "      <td>1</td>\n",
       "      <td>1000</td>\n",
       "      <td>6</td>\n",
       "      <td>172.0</td>\n",
       "      <td>60.0</td>\n",
       "      <td>23257.0</td>\n",
       "      <td>52</td>\n",
       "      <td>NaT</td>\n",
       "      <td>Краснодар</td>\n",
       "      <td>Рафаил</td>\n",
       "      <td>Верещагин</td>\n",
       "      <td>2018-05-25</td>\n",
       "      <td>ultra</td>\n",
       "      <td>23.0</td>\n",
       "      <td>0.0</td>\n",
       "      <td>0.0</td>\n",
       "      <td>0.0</td>\n",
       "      <td>0.0</td>\n",
       "      <td>0.0</td>\n",
       "      <td>0.0</td>\n",
       "      <td>0.0</td>\n",
       "      <td>1950.0</td>\n",
       "      <td>1950</td>\n",
       "    </tr>\n",
       "    <tr>\n",
       "      <td>2</td>\n",
       "      <td>1000</td>\n",
       "      <td>7</td>\n",
       "      <td>340.0</td>\n",
       "      <td>75.0</td>\n",
       "      <td>14016.0</td>\n",
       "      <td>52</td>\n",
       "      <td>NaT</td>\n",
       "      <td>Краснодар</td>\n",
       "      <td>Рафаил</td>\n",
       "      <td>Верещагин</td>\n",
       "      <td>2018-05-25</td>\n",
       "      <td>ultra</td>\n",
       "      <td>14.0</td>\n",
       "      <td>0.0</td>\n",
       "      <td>0.0</td>\n",
       "      <td>0.0</td>\n",
       "      <td>0.0</td>\n",
       "      <td>0.0</td>\n",
       "      <td>0.0</td>\n",
       "      <td>0.0</td>\n",
       "      <td>1950.0</td>\n",
       "      <td>1950</td>\n",
       "    </tr>\n",
       "    <tr>\n",
       "      <td>3</td>\n",
       "      <td>1000</td>\n",
       "      <td>8</td>\n",
       "      <td>408.0</td>\n",
       "      <td>81.0</td>\n",
       "      <td>14070.0</td>\n",
       "      <td>52</td>\n",
       "      <td>NaT</td>\n",
       "      <td>Краснодар</td>\n",
       "      <td>Рафаил</td>\n",
       "      <td>Верещагин</td>\n",
       "      <td>2018-05-25</td>\n",
       "      <td>ultra</td>\n",
       "      <td>14.0</td>\n",
       "      <td>0.0</td>\n",
       "      <td>0.0</td>\n",
       "      <td>0.0</td>\n",
       "      <td>0.0</td>\n",
       "      <td>0.0</td>\n",
       "      <td>0.0</td>\n",
       "      <td>0.0</td>\n",
       "      <td>1950.0</td>\n",
       "      <td>1950</td>\n",
       "    </tr>\n",
       "    <tr>\n",
       "      <td>4</td>\n",
       "      <td>1000</td>\n",
       "      <td>9</td>\n",
       "      <td>466.0</td>\n",
       "      <td>57.0</td>\n",
       "      <td>14581.0</td>\n",
       "      <td>52</td>\n",
       "      <td>NaT</td>\n",
       "      <td>Краснодар</td>\n",
       "      <td>Рафаил</td>\n",
       "      <td>Верещагин</td>\n",
       "      <td>2018-05-25</td>\n",
       "      <td>ultra</td>\n",
       "      <td>15.0</td>\n",
       "      <td>0.0</td>\n",
       "      <td>0.0</td>\n",
       "      <td>0.0</td>\n",
       "      <td>0.0</td>\n",
       "      <td>0.0</td>\n",
       "      <td>0.0</td>\n",
       "      <td>0.0</td>\n",
       "      <td>1950.0</td>\n",
       "      <td>1950</td>\n",
       "    </tr>\n",
       "  </tbody>\n",
       "</table>\n",
       "</div>"
      ],
      "text/plain": [
       "   user_id  month  call_duration  amount_message  internet_mb_used  age  \\\n",
       "0     1000      5          159.0            22.0            2256.0   52   \n",
       "1     1000      6          172.0            60.0           23257.0   52   \n",
       "2     1000      7          340.0            75.0           14016.0   52   \n",
       "3     1000      8          408.0            81.0           14070.0   52   \n",
       "4     1000      9          466.0            57.0           14581.0   52   \n",
       "\n",
       "  churn_date       city first_name  last_name   reg_date tariff  \\\n",
       "0        NaT  Краснодар     Рафаил  Верещагин 2018-05-25  ultra   \n",
       "1        NaT  Краснодар     Рафаил  Верещагин 2018-05-25  ultra   \n",
       "2        NaT  Краснодар     Рафаил  Верещагин 2018-05-25  ultra   \n",
       "3        NaT  Краснодар     Рафаил  Верещагин 2018-05-25  ultra   \n",
       "4        NaT  Краснодар     Рафаил  Верещагин 2018-05-25  ultra   \n",
       "\n",
       "   internet_gb_used extra_minutes extra_message extra_internet  income_calls  \\\n",
       "0               3.0           0.0           0.0            0.0           0.0   \n",
       "1              23.0           0.0           0.0            0.0           0.0   \n",
       "2              14.0           0.0           0.0            0.0           0.0   \n",
       "3              14.0           0.0           0.0            0.0           0.0   \n",
       "4              15.0           0.0           0.0            0.0           0.0   \n",
       "\n",
       "   income_message  income_internet  total_income  revenue rub_monthly_fee  \n",
       "0             0.0              0.0           0.0   1950.0            1950  \n",
       "1             0.0              0.0           0.0   1950.0            1950  \n",
       "2             0.0              0.0           0.0   1950.0            1950  \n",
       "3             0.0              0.0           0.0   1950.0            1950  \n",
       "4             0.0              0.0           0.0   1950.0            1950  "
      ]
     },
     "execution_count": 88,
     "metadata": {},
     "output_type": "execute_result"
    }
   ],
   "source": [
    "def rub_monthly_fee_groups(row):\n",
    "    if row['tariff'] == 'smart':\n",
    "        return '550'\n",
    "    else:\n",
    "        return '1950'\n",
    " \n",
    "common_table['rub_monthly_fee'] = common_table.apply(rub_monthly_fee_groups, axis=1)\n",
    "pd.set_option('display.max_columns', None)\n",
    "common_table.head()"
   ]
  },
  {
   "cell_type": "code",
   "execution_count": 89,
   "metadata": {},
   "outputs": [],
   "source": [
    "common_table['rub_monthly_fee'] = pd.to_numeric(common_table['rub_monthly_fee'], errors='coerce')\n",
    "common_table['rub_monthly_fee'] = round(common_table['rub_monthly_fee'])"
   ]
  },
  {
   "cell_type": "code",
   "execution_count": 90,
   "metadata": {},
   "outputs": [
    {
     "data": {
      "text/plain": [
       "count    3214.000000\n",
       "mean      979.060361\n",
       "std       645.539596\n",
       "min       550.000000\n",
       "25%       550.000000\n",
       "50%       550.000000\n",
       "75%      1950.000000\n",
       "max      1950.000000\n",
       "Name: rub_monthly_fee, dtype: float64"
      ]
     },
     "execution_count": 90,
     "metadata": {},
     "output_type": "execute_result"
    }
   ],
   "source": [
    "common_table['rub_monthly_fee'].describe()"
   ]
  },
  {
   "cell_type": "markdown",
   "metadata": {},
   "source": [
    "    Сравним соотношение абонентской платы к доп.услугам по каждому тарифу"
   ]
  },
  {
   "cell_type": "code",
   "execution_count": 91,
   "metadata": {},
   "outputs": [
    {
     "data": {
      "text/html": [
       "<div>\n",
       "<style scoped>\n",
       "    .dataframe tbody tr th:only-of-type {\n",
       "        vertical-align: middle;\n",
       "    }\n",
       "\n",
       "    .dataframe tbody tr th {\n",
       "        vertical-align: top;\n",
       "    }\n",
       "\n",
       "    .dataframe thead th {\n",
       "        text-align: right;\n",
       "    }\n",
       "</style>\n",
       "<table border=\"1\" class=\"dataframe\">\n",
       "  <thead>\n",
       "    <tr style=\"text-align: right;\">\n",
       "      <th></th>\n",
       "      <th>rub_monthly_fee</th>\n",
       "      <th>total_income</th>\n",
       "    </tr>\n",
       "    <tr>\n",
       "      <th>tariff</th>\n",
       "      <th></th>\n",
       "      <th></th>\n",
       "    </tr>\n",
       "  </thead>\n",
       "  <tbody>\n",
       "    <tr>\n",
       "      <td>smart</td>\n",
       "      <td>1225950</td>\n",
       "      <td>1659801.0</td>\n",
       "    </tr>\n",
       "    <tr>\n",
       "      <td>ultra</td>\n",
       "      <td>1920750</td>\n",
       "      <td>119250.0</td>\n",
       "    </tr>\n",
       "  </tbody>\n",
       "</table>\n",
       "</div>"
      ],
      "text/plain": [
       "        rub_monthly_fee  total_income\n",
       "tariff                               \n",
       "smart           1225950     1659801.0\n",
       "ultra           1920750      119250.0"
      ]
     },
     "execution_count": 91,
     "metadata": {},
     "output_type": "execute_result"
    }
   ],
   "source": [
    "common_table.pivot_table(index='tariff', values=('rub_monthly_fee', 'total_income'), aggfunc='sum')"
   ]
  },
  {
   "cell_type": "code",
   "execution_count": 148,
   "metadata": {},
   "outputs": [
    {
     "data": {
      "text/plain": [
       "<matplotlib.axes._subplots.AxesSubplot at 0x7f0931543ad0>"
      ]
     },
     "execution_count": 148,
     "metadata": {},
     "output_type": "execute_result"
    },
    {
     "data": {
      "image/png": "[encoded data removed]",
      "text/plain": [
       "<Figure size 360x360 with 1 Axes>"
      ]
     },
     "metadata": {
      "needs_background": "light"
     },
     "output_type": "display_data"
    }
   ],
   "source": [
    "common_table.pivot_table(index='tariff', values=('rub_monthly_fee', 'total_income'), aggfunc='sum').plot(kind='bar', grid=True, figsize=(5, 5))"
   ]
  },
  {
   "cell_type": "markdown",
   "metadata": {},
   "source": [
    "    В тарифе SMART большую часть дохода составляют доп.платы эа \"экстра\" услуги,\n",
    "    когда абоненты превышают свой пакетный лимит.\n",
    "    Такие доп.платы составляют 57,5% от общей выручки по тарифу.\n",
    "    Абонентская плата составляет - 42,5%.\n",
    "    Ниже рассмотрим соотношение доп.оплат за \"экстра\" услуги по трем категориям:\n",
    "    звонки, сообщения, интерент-тарфик относительно абонентской платы.\n",
    "\n",
    "    В тарифе ULTRA основную часть дохода составляет абонентская плата - 94,2%.\n",
    "    Доп.платы эа \"экстра\" услуги составляют всего 5,8%.\n",
    "    Как ранее было выяснено, абоненты тарифа за год ни разу не превысили лимит по звонкам и\n",
    "    сообщениям. Все доп.платы производились за дополнительный объем интернет-трафика. "
   ]
  },
  {
   "cell_type": "code",
   "execution_count": 93,
   "metadata": {},
   "outputs": [
    {
     "data": {
      "text/html": [
       "<div>\n",
       "<style scoped>\n",
       "    .dataframe tbody tr th:only-of-type {\n",
       "        vertical-align: middle;\n",
       "    }\n",
       "\n",
       "    .dataframe tbody tr th {\n",
       "        vertical-align: top;\n",
       "    }\n",
       "\n",
       "    .dataframe thead th {\n",
       "        text-align: right;\n",
       "    }\n",
       "</style>\n",
       "<table border=\"1\" class=\"dataframe\">\n",
       "  <thead>\n",
       "    <tr style=\"text-align: right;\">\n",
       "      <th></th>\n",
       "      <th>income_calls</th>\n",
       "      <th>income_internet</th>\n",
       "      <th>income_message</th>\n",
       "      <th>rub_monthly_fee</th>\n",
       "    </tr>\n",
       "    <tr>\n",
       "      <th>tariff</th>\n",
       "      <th></th>\n",
       "      <th></th>\n",
       "      <th></th>\n",
       "      <th></th>\n",
       "    </tr>\n",
       "  </thead>\n",
       "  <tbody>\n",
       "    <tr>\n",
       "      <td>smart</td>\n",
       "      <td>278217.0</td>\n",
       "      <td>1342800.0</td>\n",
       "      <td>38784.0</td>\n",
       "      <td>1225950</td>\n",
       "    </tr>\n",
       "  </tbody>\n",
       "</table>\n",
       "</div>"
      ],
      "text/plain": [
       "        income_calls  income_internet  income_message  rub_monthly_fee\n",
       "tariff                                                                \n",
       "smart       278217.0        1342800.0         38784.0          1225950"
      ]
     },
     "execution_count": 93,
     "metadata": {},
     "output_type": "execute_result"
    }
   ],
   "source": [
    "common_table.query('tariff == \"smart\"').pivot_table(index='tariff', values=('income_calls', 'income_message', 'income_internet', 'rub_monthly_fee'), aggfunc='sum')"
   ]
  },
  {
   "cell_type": "code",
   "execution_count": 151,
   "metadata": {},
   "outputs": [
    {
     "data": {
      "text/plain": [
       "Text(0.5, 1.0, 'Доход в тарифе SMART по категориям: абонентская плата, звонки, интернет, сообщения')"
      ]
     },
     "execution_count": 151,
     "metadata": {},
     "output_type": "execute_result"
    },
    {
     "data": {
      "image/png": "[encoded data removed]",
      "text/plain": [
       "<Figure size 504x360 with 1 Axes>"
      ]
     },
     "metadata": {
      "needs_background": "light"
     },
     "output_type": "display_data"
    }
   ],
   "source": [
    "common_table.query('tariff == \"smart\"').pivot_table(index='tariff', values=('income_internet', 'rub_monthly_fee', 'income_calls', 'income_message'), aggfunc='sum').plot(kind='bar', grid=True, color = ('darkslategrey', 'c', 'darkblue', 'skyblue'), figsize=(7, 5))\n",
    "plt.title('Доход в тарифе SMART по категориям: абонентская плата, звонки, интернет, сообщения')"
   ]
  },
  {
   "cell_type": "markdown",
   "metadata": {},
   "source": [
    "    Абоненты тарифа SMART в основном доплачивают за доп.объем интернет-тарифка.\n",
    "    Эта сумма превышает абонентсую плату на 9,5%. \n",
    "\n",
    "    Выручка тарифа SMART выглядит следующим образом:\n",
    "    - доп.платы за интернет - тарифк = 46,5%\n",
    "    - абонентская плата - 42,5 %\n",
    "    - доп.плата за минуты разговора - 9,6%\n",
    "    - доп.плата за сообщения - 1,4%"
   ]
  },
  {
   "cell_type": "markdown",
   "metadata": {},
   "source": [
    "## Шаг 3. Анализ данных<a class=\"anchor\" id=\"3-bullet\"></a>"
   ]
  },
  {
   "cell_type": "markdown",
   "metadata": {},
   "source": [
    "### 3.1. Сколько минут разговора требуется пользователем каждого тарифа в месяц<a class=\"anchor\" id=\"3-1-bullet\"></a>"
   ]
  },
  {
   "cell_type": "markdown",
   "metadata": {},
   "source": [
    "    Построим диаграммы размаха для обоих тарифов, чтобы сравнить медианы и межквартальный размах."
   ]
  },
  {
   "cell_type": "code",
   "execution_count": 95,
   "metadata": {},
   "outputs": [
    {
     "data": {
      "text/plain": [
       "(-10, 1450)"
      ]
     },
     "execution_count": 95,
     "metadata": {},
     "output_type": "execute_result"
    },
    {
     "data": {
      "image/png": "[encoded data removed]",
      "text/plain": [
       "<Figure size 432x288 with 1 Axes>"
      ]
     },
     "metadata": {
      "needs_background": "light"
     },
     "output_type": "display_data"
    }
   ],
   "source": [
    "import seaborn as sns\n",
    "sns.boxplot(x=\"tariff\", y=\"call_duration\", data=common_table, palette='rainbow')\n",
    "plt.ylim(-10, 1450)"
   ]
  },
  {
   "cell_type": "markdown",
   "metadata": {},
   "source": [
    "    Видим, что медиана и межквартальный размах у тарифа ULTRA больше, чем у тарифа SMART.\n",
    "    Это значит, что абоненты с тарифом ULTRA в среднем используют минуты разговора  больше,\n",
    "    чем абоненты с тарифом SMART. Так же видим, что у тарифа ULTRA датасет сильнее скошен\n",
    "    вправо (правый ус длинне). Через этот канал приходят те, кто тратит минуты разговора больше \n",
    "    медианного значения. \n",
    "\n",
    "    Построим отдельно диаграммы размаха для тарифов, чтобы точнее определить выбросы и убрать их\n",
    "    при дальнейшем анализе данных."
   ]
  },
  {
   "cell_type": "code",
   "execution_count": 96,
   "metadata": {},
   "outputs": [
    {
     "data": {
      "text/plain": [
       "(-10, 940)"
      ]
     },
     "execution_count": 96,
     "metadata": {},
     "output_type": "execute_result"
    },
    {
     "data": {
      "image/png": "[encoded data removed]",
      "text/plain": [
       "<Figure size 360x360 with 1 Axes>"
      ]
     },
     "metadata": {
      "needs_background": "light"
     },
     "output_type": "display_data"
    }
   ],
   "source": [
    "common_table.query('tariff == \"smart\"')['call_duration'].plot.box(figsize=(5,5))\n",
    "plt.ylim(-10, 940)"
   ]
  },
  {
   "cell_type": "code",
   "execution_count": 97,
   "metadata": {},
   "outputs": [
    {
     "data": {
      "text/plain": [
       "(-10, 1415)"
      ]
     },
     "execution_count": 97,
     "metadata": {},
     "output_type": "execute_result"
    },
    {
     "data": {
      "image/png": "[encoded data removed]",
      "text/plain": [
       "<Figure size 360x360 with 1 Axes>"
      ]
     },
     "metadata": {
      "needs_background": "light"
     },
     "output_type": "display_data"
    }
   ],
   "source": [
    "common_table.query('tariff == \"ultra\"')['call_duration'].plot.box(figsize=(5,5))\n",
    "plt.ylim(-10, 1415)"
   ]
  },
  {
   "cell_type": "markdown",
   "metadata": {},
   "source": [
    "    Создадим таблицы по каждому тарифу без выбросов.\n",
    "    Посчитаем среднее значение, медиану, дисперсию и стандартное отклонение."
   ]
  },
  {
   "cell_type": "code",
   "execution_count": 98,
   "metadata": {},
   "outputs": [],
   "source": [
    "smart_call_duration = common_table[(common_table['tariff'] == 'smart') & (common_table['call_duration'] < 940)]\n",
    "ultra_call_duration = common_table[(common_table['tariff'] == 'ultra') & (common_table['call_duration'] < 1415)]"
   ]
  },
  {
   "cell_type": "code",
   "execution_count": 99,
   "metadata": {},
   "outputs": [
    {
     "name": "stdout",
     "output_type": "stream",
     "text": [
      "- - - - - - - - - - - - - - - - - - - - - - - - - - - - - - - - - - - -\n",
      "Среднее значение длительности разговоров в месяц, тариф ultra 545 минут\n",
      "Среднее значение длительности разговоров в месяц, тариф smart 417 минут\n",
      "- - - - - - - - - - - - - - - - - - - - - - - - - - - - - - - - - - - -\n",
      "Медиана длительности разговоров в месяц, тариф ultra 528 минут\n",
      "Медиана длительности разговоров в месяц, тариф smart 421 минут\n",
      "- - - - - - - - - - - - - - - - - - - - - - - - - - - - - - - - - - - -\n",
      "Дисперсия - разговоры в месяц, тариф ultra: 90996\n",
      "Дисперсия - разговоры в месяц, тариф smart: 33947\n",
      "- - - - - - - - - - - - - - - - - - - - - - - - - - - - - - - - - - - -\n",
      "Стандартное отклонение - разговоры в месяц, тариф ultra: 302\n",
      "Стандартное отклонение - разговоры в месяц, тариф smart: 184\n"
     ]
    }
   ],
   "source": [
    "mean_calls_ultra = ultra_call_duration['call_duration'].mean()\n",
    "mean_calls_smart = smart_call_duration['call_duration'].mean()\n",
    "median_calls_ultra = ultra_call_duration['call_duration'].median()\n",
    "median_calls_smart = smart_call_duration['call_duration'].median()\n",
    "dispersion_ultra_calls = ultra_call_duration['call_duration'].var()\n",
    "dispersion_smart_calls = smart_call_duration['call_duration'].var()\n",
    "std_ultra_calls = ultra_call_duration['call_duration'].std()\n",
    "std_smart_calls = smart_call_duration['call_duration'].std()\n",
    "print('- - - - - - - - - - - - - - - - - - - - - - - - - - - - - - - - - - - -')\n",
    "print('Среднее значение длительности разговоров в месяц, тариф ultra {:.0f}'.format(mean_calls_ultra), 'минут')\n",
    "print('Среднее значение длительности разговоров в месяц, тариф smart {:.0f}'.format(mean_calls_smart), 'минут')\n",
    "print('- - - - - - - - - - - - - - - - - - - - - - - - - - - - - - - - - - - -')\n",
    "print('Медиана длительности разговоров в месяц, тариф ultra {:.0f}'.format(median_calls_ultra), 'минут')\n",
    "print('Медиана длительности разговоров в месяц, тариф smart {:.0f}'.format(median_calls_smart), 'минут')\n",
    "print('- - - - - - - - - - - - - - - - - - - - - - - - - - - - - - - - - - - -')\n",
    "print('Дисперсия - разговоры в месяц, тариф ultra: {:.0f}'.format(dispersion_ultra_calls))\n",
    "print('Дисперсия - разговоры в месяц, тариф smart: {:.0f}'.format(dispersion_smart_calls))\n",
    "print('- - - - - - - - - - - - - - - - - - - - - - - - - - - - - - - - - - - -')\n",
    "print('Стандартное отклонение - разговоры в месяц, тариф ultra: {:.0f}'.format(std_ultra_calls))\n",
    "print('Стандартное отклонение - разговоры в месяц, тариф smart: {:.0f}'.format(std_smart_calls))"
   ]
  },
  {
   "cell_type": "markdown",
   "metadata": {},
   "source": [
    "    Построим одновременно гистограмму и график плотности распределения для обоих тарифов"
   ]
  },
  {
   "cell_type": "code",
   "execution_count": 170,
   "metadata": {},
   "outputs": [
    {
     "data": {
      "text/plain": [
       "Text(0.5, 1.0, 'Минуты разговора, ULTRA')"
      ]
     },
     "execution_count": 170,
     "metadata": {},
     "output_type": "execute_result"
    },
    {
     "data": {
      "image/png": "[encoded data removed]",
      "text/plain": [
       "<Figure size 864x288 with 2 Axes>"
      ]
     },
     "metadata": {
      "needs_background": "light"
     },
     "output_type": "display_data"
    }
   ],
   "source": [
    "fig, axes = plt.subplots(1, 2, figsize=(12,4))\n",
    "sns.distplot(smart_call_duration['call_duration'], ax=axes[0])\n",
    "sns.distplot(ultra_call_duration['call_duration'], bins=10, ax=axes[1])\n",
    "axes[0].set_title('Минуты разговора, SMART')\n",
    "axes[1].set_title('Минуты разговора, ULTRA')"
   ]
  },
  {
   "cell_type": "markdown",
   "metadata": {},
   "source": [
    " \n",
    "**Вывод:**\n",
    "\n",
    "    1) Абоненты с тарифом SMART в среднем используют 417 минуту разговора в месяц.\n",
    "    В тарифе включено 500 минут разговора.\n",
    "\n",
    "    2) Абоненты с тарифом ULTRA в среднем используют 545 минуту разговора в месяц.\n",
    "    В тариф включено 3000 минут разговора, т.е. почти в 5 раз больше, чем нужно \n",
    "    в среднем абоненту.\n",
    "    Таким образом, абоненты переплачивают за минуты разговора и не используют их, что\n",
    "    выгодно оператору. Как мы выяснили выше, ни один из абонентов не превысил свой лимит\n",
    "    в этой категории."
   ]
  },
  {
   "cell_type": "markdown",
   "metadata": {},
   "source": [
    "  \n",
    "    Посмотрим, скольким абонентам тарифа SMART хотя бы один раз не хватило пакетного лимита\n",
    "    в 500 минут разговора."
   ]
  },
  {
   "cell_type": "code",
   "execution_count": 102,
   "metadata": {},
   "outputs": [
    {
     "data": {
      "text/plain": [
       "744"
      ]
     },
     "execution_count": 102,
     "metadata": {},
     "output_type": "execute_result"
    }
   ],
   "source": [
    "smart_call_duration.query('extra_minutes > 0')['user_id'].count()"
   ]
  },
  {
   "cell_type": "markdown",
   "metadata": {},
   "source": [
    "    744 абонента хотя бы 1 раз превышали лимит в 500 минут разговора,\n",
    "    это 33,4% абонентов от общего количества пользователей тарифа SMART.\n",
    "    Посмотрим поведение абонентов, превыщающих свой лимит, по месяцам."
   ]
  },
  {
   "cell_type": "code",
   "execution_count": 103,
   "metadata": {},
   "outputs": [
    {
     "data": {
      "text/html": [
       "<div>\n",
       "<style scoped>\n",
       "    .dataframe tbody tr th:only-of-type {\n",
       "        vertical-align: middle;\n",
       "    }\n",
       "\n",
       "    .dataframe tbody tr th {\n",
       "        vertical-align: top;\n",
       "    }\n",
       "\n",
       "    .dataframe thead th {\n",
       "        text-align: right;\n",
       "    }\n",
       "</style>\n",
       "<table border=\"1\" class=\"dataframe\">\n",
       "  <thead>\n",
       "    <tr style=\"text-align: right;\">\n",
       "      <th></th>\n",
       "      <th>user_id</th>\n",
       "    </tr>\n",
       "    <tr>\n",
       "      <th>month</th>\n",
       "      <th></th>\n",
       "    </tr>\n",
       "  </thead>\n",
       "  <tbody>\n",
       "    <tr>\n",
       "      <td>1</td>\n",
       "      <td>1</td>\n",
       "    </tr>\n",
       "    <tr>\n",
       "      <td>2</td>\n",
       "      <td>11</td>\n",
       "    </tr>\n",
       "    <tr>\n",
       "      <td>3</td>\n",
       "      <td>23</td>\n",
       "    </tr>\n",
       "    <tr>\n",
       "      <td>4</td>\n",
       "      <td>28</td>\n",
       "    </tr>\n",
       "    <tr>\n",
       "      <td>5</td>\n",
       "      <td>40</td>\n",
       "    </tr>\n",
       "    <tr>\n",
       "      <td>6</td>\n",
       "      <td>50</td>\n",
       "    </tr>\n",
       "    <tr>\n",
       "      <td>7</td>\n",
       "      <td>69</td>\n",
       "    </tr>\n",
       "    <tr>\n",
       "      <td>8</td>\n",
       "      <td>76</td>\n",
       "    </tr>\n",
       "    <tr>\n",
       "      <td>9</td>\n",
       "      <td>95</td>\n",
       "    </tr>\n",
       "    <tr>\n",
       "      <td>10</td>\n",
       "      <td>100</td>\n",
       "    </tr>\n",
       "    <tr>\n",
       "      <td>11</td>\n",
       "      <td>113</td>\n",
       "    </tr>\n",
       "    <tr>\n",
       "      <td>12</td>\n",
       "      <td>138</td>\n",
       "    </tr>\n",
       "  </tbody>\n",
       "</table>\n",
       "</div>"
      ],
      "text/plain": [
       "       user_id\n",
       "month         \n",
       "1            1\n",
       "2           11\n",
       "3           23\n",
       "4           28\n",
       "5           40\n",
       "6           50\n",
       "7           69\n",
       "8           76\n",
       "9           95\n",
       "10         100\n",
       "11         113\n",
       "12         138"
      ]
     },
     "execution_count": 103,
     "metadata": {},
     "output_type": "execute_result"
    }
   ],
   "source": [
    "smart_call_duration.query('extra_minutes > 0').pivot_table(index='month', values='user_id', aggfunc='count')"
   ]
  },
  {
   "cell_type": "code",
   "execution_count": 104,
   "metadata": {},
   "outputs": [
    {
     "data": {
      "text/plain": [
       "Text(0.5, 1.0, 'Количество абонентов превысивших лимит минут, тариф SMART')"
      ]
     },
     "execution_count": 104,
     "metadata": {},
     "output_type": "execute_result"
    },
    {
     "data": {
      "image/png": "[encoded data removed]",
      "text/plain": [
       "<Figure size 432x432 with 1 Axes>"
      ]
     },
     "metadata": {
      "needs_background": "light"
     },
     "output_type": "display_data"
    }
   ],
   "source": [
    "smart_call_duration.query('extra_minutes > 0').pivot_table(index='month', values='user_id', aggfunc='count').plot(kind='bar', grid=True, figsize=(6, 6))\n",
    "plt.title('Количество абонентов превысивших лимит минут, тариф SMART')"
   ]
  },
  {
   "cell_type": "markdown",
   "metadata": {},
   "source": [
    "    Количество абонентов SMART, превышающих лимит, растет каждый месяц от января к декабрю. Если\n",
    "    в январе всего 1 абонет превысил лимит, то в декабре максимальное число - 138 абонентов. \n",
    "    Это составляет всего 6,2 % от общего числа абонентов. Т.е. в декабре, месяце в котором было\n",
    "    больше всего использовано минут разговоров, 93,8 % абонентов хватило лимита в 500 минут."
   ]
  },
  {
   "cell_type": "markdown",
   "metadata": {},
   "source": [
    "### 3.2. Сколько сообщений требуется пользователем каждого тарифа в месяц<a class=\"anchor\" id=\"3-2-bullet\"></a>"
   ]
  },
  {
   "cell_type": "markdown",
   "metadata": {},
   "source": [
    "    Построим диаграммы размаха для обоих тарифов, чтобы сравнить медианы и\n",
    "    межквартальный размах."
   ]
  },
  {
   "cell_type": "code",
   "execution_count": 105,
   "metadata": {},
   "outputs": [
    {
     "data": {
      "text/plain": [
       "(-10, 200)"
      ]
     },
     "execution_count": 105,
     "metadata": {},
     "output_type": "execute_result"
    },
    {
     "data": {
      "image/png": "[encoded data removed]",
      "text/plain": [
       "<Figure size 432x288 with 1 Axes>"
      ]
     },
     "metadata": {
      "needs_background": "light"
     },
     "output_type": "display_data"
    }
   ],
   "source": [
    "sns.boxplot(x=\"tariff\", y=\"amount_message\", data=common_table, palette='rainbow')\n",
    "plt.ylim(-10, 200)"
   ]
  },
  {
   "cell_type": "markdown",
   "metadata": {},
   "source": [
    "    Видим, что медиана и межквартальный размах у тарифа ULTRA больше, чем у тарифа SMART. Это значит, что абоненты\n",
    "    с тарифом ULTRA в среднем отпраляют сообщений  больше, чем абоненты с тарифом SMART. Так же видим, что у тарифа\n",
    "    ULTRA датасет сильнее скошен вправо (правый ус длинне). Через этот канал приходят те, кто отправляет сообщения\n",
    "    больше медианного значения.\n",
    "\n",
    "    Построим отдельно диаграммы размаха для тарифов, чтобы точнее определить выбросы и убрать их при дальнейшем \n",
    "    анализе данных."
   ]
  },
  {
   "cell_type": "code",
   "execution_count": 106,
   "metadata": {},
   "outputs": [
    {
     "data": {
      "text/plain": [
       "(0, 115)"
      ]
     },
     "execution_count": 106,
     "metadata": {},
     "output_type": "execute_result"
    },
    {
     "data": {
      "image/png": "[encoded data removed]",
      "text/plain": [
       "<Figure size 360x360 with 1 Axes>"
      ]
     },
     "metadata": {
      "needs_background": "light"
     },
     "output_type": "display_data"
    }
   ],
   "source": [
    "common_table.query('tariff == \"smart\"')['amount_message'].plot.box(figsize=(5,5))\n",
    "plt.ylim(0, 115)"
   ]
  },
  {
   "cell_type": "code",
   "execution_count": 107,
   "metadata": {},
   "outputs": [
    {
     "data": {
      "text/plain": [
       "(0, 184)"
      ]
     },
     "execution_count": 107,
     "metadata": {},
     "output_type": "execute_result"
    },
    {
     "data": {
      "image/png": "[encoded data removed]",
      "text/plain": [
       "<Figure size 360x360 with 1 Axes>"
      ]
     },
     "metadata": {
      "needs_background": "light"
     },
     "output_type": "display_data"
    }
   ],
   "source": [
    "common_table.query('tariff == \"ultra\"')['amount_message'].plot.box(figsize=(5,5))\n",
    "plt.ylim(0, 184)"
   ]
  },
  {
   "cell_type": "code",
   "execution_count": 108,
   "metadata": {},
   "outputs": [],
   "source": [
    "smart_message = common_table[(common_table['tariff'] == 'smart') & (common_table['amount_message'] < 113)]\n",
    "ultra_message = common_table[(common_table['tariff'] == 'ultra') & (common_table['amount_message'] < 183)]"
   ]
  },
  {
   "cell_type": "code",
   "execution_count": 109,
   "metadata": {},
   "outputs": [
    {
     "name": "stdout",
     "output_type": "stream",
     "text": [
      "- - - - - - - - - - - - - - - - - - - - - - - - - - - - - - - -\n",
      "Среднее количество сообщений в месяц, тариф ultra 59 шт.\n",
      "Среднее количество сообщений в месяц, тариф smart 38 шт.\n",
      "- - - - - - - - - - - - - - - - - - - - - - - - - - - - - - - -\n",
      "Медиана количества сообщений в месяц, тариф ultra 50 шт.\n",
      "Медиана количества сообщений в месяц, тариф smart 33 шт.\n",
      "- - - - - - - - - - - - - - - - - - - - - - - - - - - - - - - -\n",
      "Дисперсия - количество сообщений, тариф ultra: 1868\n",
      "Дисперсия - количество сообщений, тариф smart: 663\n",
      "- - - - - - - - - - - - - - - - - - - - - - - - - - - - - - - -\n",
      "Стандартное отклонение - количество сообщений, тариф ultra: 43\n",
      "Стандартное отклонение - количество сообщений, тариф smart: 26\n",
      "- - - - - - - - - - - - - - - - - - - - - - - - - - - - - - - -\n"
     ]
    }
   ],
   "source": [
    "mean_ultra_message = ultra_message['amount_message'].mean()\n",
    "mean_smart_message = smart_message['amount_message'].mean()\n",
    "median_ultra_message = ultra_message['amount_message'].median()\n",
    "median_smart_message = smart_message['amount_message'].median()\n",
    "dispersion_ultra_message = ultra_message['amount_message'].var()\n",
    "dispersion_smart_calls = smart_message['amount_message'].var()\n",
    "std_ultra_message = ultra_message['amount_message'].std()\n",
    "std_smart_message = smart_message['amount_message'].std()\n",
    "print('- - - - - - - - - - - - - - - - - - - - - - - - - - - - - - - -')\n",
    "print('Среднее количество сообщений в месяц, тариф ultra {:.0f}'.format(mean_ultra_message), 'шт.')\n",
    "print('Среднее количество сообщений в месяц, тариф smart {:.0f}'.format(mean_smart_message), 'шт.')\n",
    "print('- - - - - - - - - - - - - - - - - - - - - - - - - - - - - - - -')\n",
    "print('Медиана количества сообщений в месяц, тариф ultra {:.0f}'.format(median_ultra_message), 'шт.')\n",
    "print('Медиана количества сообщений в месяц, тариф smart {:.0f}'.format(median_smart_message), 'шт.')\n",
    "print('- - - - - - - - - - - - - - - - - - - - - - - - - - - - - - - -')\n",
    "print('Дисперсия - количество сообщений, тариф ultra: {:.0f}'.format(dispersion_ultra_message))\n",
    "print('Дисперсия - количество сообщений, тариф smart: {:.0f}'.format(dispersion_smart_calls))\n",
    "print('- - - - - - - - - - - - - - - - - - - - - - - - - - - - - - - -')\n",
    "print('Стандартное отклонение - количество сообщений, тариф ultra: {:.0f}'.format(std_ultra_message))\n",
    "print('Стандартное отклонение - количество сообщений, тариф smart: {:.0f}'.format(std_smart_message))\n",
    "print('- - - - - - - - - - - - - - - - - - - - - - - - - - - - - - - -')"
   ]
  },
  {
   "cell_type": "markdown",
   "metadata": {},
   "source": [
    "    Построим гистограммы и график плотности распределения для обоих тарифов"
   ]
  },
  {
   "cell_type": "code",
   "execution_count": 169,
   "metadata": {},
   "outputs": [
    {
     "data": {
      "text/plain": [
       "Text(0.5, 1.0, 'Количество сообщений, ULTRA')"
      ]
     },
     "execution_count": 169,
     "metadata": {},
     "output_type": "execute_result"
    },
    {
     "data": {
      "image/png": "[encoded data removed]",
      "text/plain": [
       "<Figure size 864x288 with 2 Axes>"
      ]
     },
     "metadata": {
      "needs_background": "light"
     },
     "output_type": "display_data"
    }
   ],
   "source": [
    "fig, axes = plt.subplots(1, 2, figsize=(12,4))\n",
    "sns.distplot(smart_message['amount_message'], bins=10, ax=axes[0])\n",
    "sns.distplot(ultra_message['amount_message'], bins=10, ax=axes[1])\n",
    "axes[0].set_title('Количество сообщений, SMART')\n",
    "axes[1].set_title('Количество сообщений, ULTRA')"
   ]
  },
  {
   "cell_type": "markdown",
   "metadata": {},
   "source": [
    "**Вывод:**\n",
    "\n",
    "    1) Абоненты с тарифом SMART в среднем отправляют 38 сообщений в месяц.\n",
    "    В тариф включено 50 сообщений в месяц.\n",
    "\n",
    "    2) Абоненты с тарифом ULTRA в среднем отправляют 59 сообщений в месяц.\n",
    "    В тариф включено 1000 сообщений, т.е. почти в 17 раз больше, чем нужно в среднем абоненту.\n",
    "    Таким образом, абоненты переплачивают за сообщения и не используют их, что выгодно оператору.\n",
    "    Как мы выяснили выше, ни один из абонентов не превысил свой лимит в этой категории."
   ]
  },
  {
   "cell_type": "markdown",
   "metadata": {},
   "source": [
    "      Посмотрим, скольким абонентам тарифа SMART хотя бы один раз не хватило пакетного лимита в 500 минут разговора."
   ]
  },
  {
   "cell_type": "code",
   "execution_count": 112,
   "metadata": {},
   "outputs": [
    {
     "data": {
      "text/plain": [
       "550"
      ]
     },
     "execution_count": 112,
     "metadata": {},
     "output_type": "execute_result"
    }
   ],
   "source": [
    "smart_message.query('extra_message > 0')['user_id'].count()"
   ]
  },
  {
   "cell_type": "markdown",
   "metadata": {},
   "source": [
    "    550 абонентов хотя бы 1 раз превышали лимит в 50 сообщений в месяц, это 24,7% абонентов от общего количества \n",
    "    пользователей тарифа SMART. Посмотрим поведение абонентов, превыщающих свой лимит, по месяцам."
   ]
  },
  {
   "cell_type": "code",
   "execution_count": 113,
   "metadata": {},
   "outputs": [
    {
     "data": {
      "text/html": [
       "<div>\n",
       "<style scoped>\n",
       "    .dataframe tbody tr th:only-of-type {\n",
       "        vertical-align: middle;\n",
       "    }\n",
       "\n",
       "    .dataframe tbody tr th {\n",
       "        vertical-align: top;\n",
       "    }\n",
       "\n",
       "    .dataframe thead th {\n",
       "        text-align: right;\n",
       "    }\n",
       "</style>\n",
       "<table border=\"1\" class=\"dataframe\">\n",
       "  <thead>\n",
       "    <tr style=\"text-align: right;\">\n",
       "      <th></th>\n",
       "      <th>user_id</th>\n",
       "    </tr>\n",
       "    <tr>\n",
       "      <th>month</th>\n",
       "      <th></th>\n",
       "    </tr>\n",
       "  </thead>\n",
       "  <tbody>\n",
       "    <tr>\n",
       "      <td>1</td>\n",
       "      <td>1</td>\n",
       "    </tr>\n",
       "    <tr>\n",
       "      <td>2</td>\n",
       "      <td>6</td>\n",
       "    </tr>\n",
       "    <tr>\n",
       "      <td>3</td>\n",
       "      <td>19</td>\n",
       "    </tr>\n",
       "    <tr>\n",
       "      <td>4</td>\n",
       "      <td>22</td>\n",
       "    </tr>\n",
       "    <tr>\n",
       "      <td>5</td>\n",
       "      <td>35</td>\n",
       "    </tr>\n",
       "    <tr>\n",
       "      <td>6</td>\n",
       "      <td>42</td>\n",
       "    </tr>\n",
       "    <tr>\n",
       "      <td>7</td>\n",
       "      <td>52</td>\n",
       "    </tr>\n",
       "    <tr>\n",
       "      <td>8</td>\n",
       "      <td>60</td>\n",
       "    </tr>\n",
       "    <tr>\n",
       "      <td>9</td>\n",
       "      <td>63</td>\n",
       "    </tr>\n",
       "    <tr>\n",
       "      <td>10</td>\n",
       "      <td>74</td>\n",
       "    </tr>\n",
       "    <tr>\n",
       "      <td>11</td>\n",
       "      <td>81</td>\n",
       "    </tr>\n",
       "    <tr>\n",
       "      <td>12</td>\n",
       "      <td>95</td>\n",
       "    </tr>\n",
       "  </tbody>\n",
       "</table>\n",
       "</div>"
      ],
      "text/plain": [
       "       user_id\n",
       "month         \n",
       "1            1\n",
       "2            6\n",
       "3           19\n",
       "4           22\n",
       "5           35\n",
       "6           42\n",
       "7           52\n",
       "8           60\n",
       "9           63\n",
       "10          74\n",
       "11          81\n",
       "12          95"
      ]
     },
     "execution_count": 113,
     "metadata": {},
     "output_type": "execute_result"
    }
   ],
   "source": [
    "smart_message.query('extra_message > 0').pivot_table(index='month', values='user_id', aggfunc='count')"
   ]
  },
  {
   "cell_type": "code",
   "execution_count": 114,
   "metadata": {},
   "outputs": [
    {
     "data": {
      "text/plain": [
       "Text(0.5, 1.0, 'Количество абонентов превысивших лимит по сообщениям, тариф SMART')"
      ]
     },
     "execution_count": 114,
     "metadata": {},
     "output_type": "execute_result"
    },
    {
     "data": {
      "image/png": "[encoded data removed]",
      "text/plain": [
       "<Figure size 432x432 with 1 Axes>"
      ]
     },
     "metadata": {
      "needs_background": "light"
     },
     "output_type": "display_data"
    }
   ],
   "source": [
    "smart_message.query('extra_message > 0').pivot_table(index='month', values='user_id', aggfunc='count').plot(kind='bar', grid=True, figsize=(6, 6))\n",
    "plt.title('Количество абонентов превысивших лимит по сообщениям, тариф SMART')"
   ]
  },
  {
   "cell_type": "markdown",
   "metadata": {},
   "source": [
    "    Количество абонентов SMART, превышающих лимит по сообщениям, растет каждый месяц от января к декабрю.\n",
    "    Если в январе всего 1 абонет превысил лимит, то в декабре максимальное число - 95 абонентов. Это составляет\n",
    "    всего 4,3 % от общего числа абонентов. Т.е. в декабре, месяце в котором было больше всего отправлено сообщений,\n",
    "    95,7 % абонентов хватило лимита в 50 сообщений."
   ]
  },
  {
   "cell_type": "markdown",
   "metadata": {},
   "source": [
    "### 3.3. Какой объем интернет-трафика требуется пользователем каждого тарифа в месяц<a class=\"anchor\" id=\"3-3-bullet\"></a>"
   ]
  },
  {
   "cell_type": "markdown",
   "metadata": {},
   "source": [
    "    Построим диаграммы размаха для обоих тарифов, чтобы сравнить медианы и межквартальный размах."
   ]
  },
  {
   "cell_type": "code",
   "execution_count": 115,
   "metadata": {},
   "outputs": [
    {
     "data": {
      "text/plain": [
       "<matplotlib.axes._subplots.AxesSubplot at 0x7f0931d43990>"
      ]
     },
     "execution_count": 115,
     "metadata": {},
     "output_type": "execute_result"
    },
    {
     "data": {
      "image/png": "[encoded data removed]",
      "text/plain": [
       "<Figure size 432x288 with 1 Axes>"
      ]
     },
     "metadata": {
      "needs_background": "light"
     },
     "output_type": "display_data"
    }
   ],
   "source": [
    "sns.boxplot(x=\"tariff\", y=\"internet_gb_used\", data=common_table, palette='rainbow')"
   ]
  },
  {
   "cell_type": "markdown",
   "metadata": {},
   "source": [
    "    Видим, что медиана и межквартальный размах у тарифа ULTRA больше, чем у тарифа SMART. Это значит, что абоненты\n",
    "    с тарифом ULTRA в среднем тратят интернет-трафик  больше, чем абоненты с тарифом SMART. Так же видим, что у\n",
    "    тарифа ULTRA датасет сильнее скошен вправо (правый ус длинне). Через этот канал приходят те, кто тратит\n",
    "    интернет-трафик, больше медианного значения.\n",
    "\n",
    "    Построим отдельно диаграммы размаха для тарифов, чтобы точнее определить выбросы и убрать их при дальнейшем\n",
    "    анализе данных."
   ]
  },
  {
   "cell_type": "code",
   "execution_count": 116,
   "metadata": {},
   "outputs": [
    {
     "data": {
      "text/plain": [
       "(0, 50)"
      ]
     },
     "execution_count": 116,
     "metadata": {},
     "output_type": "execute_result"
    },
    {
     "data": {
      "image/png": "[encoded data removed]",
      "text/plain": [
       "<Figure size 360x360 with 1 Axes>"
      ]
     },
     "metadata": {
      "needs_background": "light"
     },
     "output_type": "display_data"
    }
   ],
   "source": [
    "common_table.query('tariff == \"ultra\"')['internet_gb_used'].plot.box(figsize=(5,5))\n",
    "plt.ylim(0, 50)"
   ]
  },
  {
   "cell_type": "code",
   "execution_count": 117,
   "metadata": {},
   "outputs": [
    {
     "data": {
      "text/plain": [
       "(0, 31)"
      ]
     },
     "execution_count": 117,
     "metadata": {},
     "output_type": "execute_result"
    },
    {
     "data": {
      "image/png": "[encoded data removed]",
      "text/plain": [
       "<Figure size 360x360 with 1 Axes>"
      ]
     },
     "metadata": {
      "needs_background": "light"
     },
     "output_type": "display_data"
    }
   ],
   "source": [
    "common_table.query('tariff == \"smart\"')['internet_gb_used'].plot.box(figsize=(5,5))\n",
    "plt.ylim(0, 31)"
   ]
  },
  {
   "cell_type": "code",
   "execution_count": 118,
   "metadata": {},
   "outputs": [],
   "source": [
    "smart_internet = common_table[(common_table['tariff'] == 'smart') & (common_table['internet_gb_used'] < 31)]\n",
    "ultra_internet = common_table[(common_table['tariff'] == 'ultra') & (common_table['internet_gb_used'] < 50)]"
   ]
  },
  {
   "cell_type": "code",
   "execution_count": 119,
   "metadata": {},
   "outputs": [
    {
     "name": "stdout",
     "output_type": "stream",
     "text": [
      "- - - - - - - - - - - - - - - - - - - - - - - - - - - - - - - - -\n",
      "Средний объем интернет-трафика в месяц, тариф ultra 20 ГБ.\n",
      "Среднее объем интернет-трафика в месяц, тариф smart 16 ГБ.\n",
      "- - - - - - - - - - - - - - - - - - - - - - - - - - - - - - - - -\n",
      "Медиана объема интернет-трафика в месяц, тариф ultra 19 ГБ.\n",
      "Медиана объема интернет-трафика в месяц, тариф smart 33 ГБ.\n",
      "- - - - - - - - - - - - - - - - - - - - - - - - - - - - - - - - -\n",
      "Дисперсия - объем интернет-трафика, тариф ultra: 94\n",
      "Дисперсия - объем интернет-трафика, тариф smart: 31\n",
      "- - - - - - - - - - - - - - - - - - - - - - - - - - - - - - - - -\n",
      "Стандартное отклонение - объем интернет-трафика, тариф ultra: 10\n",
      "Стандартное отклонение - объем интернет-трафика, тариф smart: 6\n",
      "- - - - - - - - - - - - - - - - - - - - - - - - - - - - - - - - -\n"
     ]
    }
   ],
   "source": [
    "mean_ultra_internet = ultra_internet['internet_gb_used'].mean()\n",
    "mean_smart_internet = smart_internet['internet_gb_used'].mean()\n",
    "median_ultra_internet = ultra_internet['internet_gb_used'].median()\n",
    "median_smart_internet = smart_internet['internet_gb_used'].median()\n",
    "dispersion_ultra_internet = ultra_internet['internet_gb_used'].var()\n",
    "dispersion_smart_internet = smart_internet['internet_gb_used'].var()\n",
    "std_ultra_internet = ultra_internet['internet_gb_used'].std()\n",
    "std_smart_internet = smart_internet['internet_gb_used'].std()\n",
    "print('- - - - - - - - - - - - - - - - - - - - - - - - - - - - - - - - -')\n",
    "print('Средний объем интернет-трафика в месяц, тариф ultra {:.0f}'.format(mean_ultra_internet), 'ГБ.')\n",
    "print('Среднее объем интернет-трафика в месяц, тариф smart {:.0f}'.format(mean_smart_internet), 'ГБ.')\n",
    "print('- - - - - - - - - - - - - - - - - - - - - - - - - - - - - - - - -')\n",
    "print('Медиана объема интернет-трафика в месяц, тариф ultra {:.0f}'.format(median_ultra_internet), 'ГБ.')\n",
    "print('Медиана объема интернет-трафика в месяц, тариф smart {:.0f}'.format(median_smart_message), 'ГБ.')\n",
    "print('- - - - - - - - - - - - - - - - - - - - - - - - - - - - - - - - -')\n",
    "print('Дисперсия - объем интернет-трафика, тариф ultra: {:.0f}'.format(dispersion_ultra_internet))\n",
    "print('Дисперсия - объем интернет-трафика, тариф smart: {:.0f}'.format(dispersion_smart_internet))\n",
    "print('- - - - - - - - - - - - - - - - - - - - - - - - - - - - - - - - -')\n",
    "print('Стандартное отклонение - объем интернет-трафика, тариф ultra: {:.0f}'.format(std_ultra_internet))\n",
    "print('Стандартное отклонение - объем интернет-трафика, тариф smart: {:.0f}'.format(std_smart_internet))\n",
    "print('- - - - - - - - - - - - - - - - - - - - - - - - - - - - - - - - -')"
   ]
  },
  {
   "cell_type": "markdown",
   "metadata": {},
   "source": [
    "    Построим одновременно гистограмму и график плотности распределения для обоих тарифов"
   ]
  },
  {
   "cell_type": "code",
   "execution_count": 168,
   "metadata": {},
   "outputs": [
    {
     "data": {
      "text/plain": [
       "Text(0.5, 1.0, 'Объем интернет-трафика, ULTRA')"
      ]
     },
     "execution_count": 168,
     "metadata": {},
     "output_type": "execute_result"
    },
    {
     "data": {
      "image/png": "[encoded data removed]",
      "text/plain": [
       "<Figure size 864x288 with 2 Axes>"
      ]
     },
     "metadata": {
      "needs_background": "light"
     },
     "output_type": "display_data"
    }
   ],
   "source": [
    "fig, axes = plt.subplots(1, 2, figsize=(12,4))\n",
    "sns.distplot(ultra_internet['internet_gb_used'], bins=50, ax=axes[0])\n",
    "sns.distplot(smart_internet['internet_gb_used'], bins=30, ax=axes[1])\n",
    "axes[0].set_title('Объем интернет-трафика, SMART')\n",
    "axes[1].set_title('Объем интернет-трафика, ULTRA')"
   ]
  },
  {
   "cell_type": "markdown",
   "metadata": {},
   "source": [
    " \n",
    "***Вывод:***\n",
    "\n",
    "    1) Абонентам с тарифом SMART в среднем требуется 16 ГБ объема интернет-трафика.\n",
    "    В тариф включено 15 ГБ интернет-трафика.\n",
    "\n",
    "    2) Абоненты с тарифом ULTRA в среднем требуется 20 ГБ объема интернет-трафика.\n",
    "    В тариф включено 30 ГБ интернет-трафика, т.е. в 1,5 раз больше, чем нужно в среднем абоненту.\n",
    "    Таким образом, абоненты переплачивают за интернет-трафик и не используют его полностью, что выгодно оператору.\n",
    "    Как мы выяснили выше, это единственная категория, в которой абоненты превышают лимит и она приносит всего 5,8%\n",
    "    от общей выручки.\n",
    "\n",
    "    Посмотрим, скольким абонентам тарифа SMART и ULTRA хотя бы один раз не хватило их пакетного лимита."
   ]
  },
  {
   "cell_type": "code",
   "execution_count": 122,
   "metadata": {},
   "outputs": [
    {
     "data": {
      "text/plain": [
       "1291"
      ]
     },
     "execution_count": 122,
     "metadata": {},
     "output_type": "execute_result"
    }
   ],
   "source": [
    "smart_internet.query('extra_internet > 0')['user_id'].count()\n"
   ]
  },
  {
   "cell_type": "code",
   "execution_count": 123,
   "metadata": {},
   "outputs": [
    {
     "data": {
      "text/plain": [
       "134"
      ]
     },
     "execution_count": 123,
     "metadata": {},
     "output_type": "execute_result"
    }
   ],
   "source": [
    "ultra_internet.query('extra_internet > 0')['user_id'].count()\n"
   ]
  },
  {
   "cell_type": "markdown",
   "metadata": {},
   "source": [
    "    1291 абонентов тарифа SMART хотя бы 1 раз превышали лимит 15ГБ в месяц,\n",
    "    это 57,9% абонентов от общего количества пользователей тарифа SMART. \n",
    "\n",
    "    134 абонентов тарифа ULTRA хотя бы 1 раз превышали лимит 30ГБ в месяц,\n",
    "    это 13,6% абонентов от общего количества пользователей тарифа ULTRA.\n",
    "\n",
    "    Посмотрим поведение абонентов, превыщающих свой лимит, по месяцам."
   ]
  },
  {
   "cell_type": "code",
   "execution_count": 124,
   "metadata": {},
   "outputs": [
    {
     "data": {
      "text/html": [
       "<div>\n",
       "<style scoped>\n",
       "    .dataframe tbody tr th:only-of-type {\n",
       "        vertical-align: middle;\n",
       "    }\n",
       "\n",
       "    .dataframe tbody tr th {\n",
       "        vertical-align: top;\n",
       "    }\n",
       "\n",
       "    .dataframe thead th {\n",
       "        text-align: right;\n",
       "    }\n",
       "</style>\n",
       "<table border=\"1\" class=\"dataframe\">\n",
       "  <thead>\n",
       "    <tr style=\"text-align: right;\">\n",
       "      <th></th>\n",
       "      <th>user_id</th>\n",
       "    </tr>\n",
       "    <tr>\n",
       "      <th>month</th>\n",
       "      <th></th>\n",
       "    </tr>\n",
       "  </thead>\n",
       "  <tbody>\n",
       "    <tr>\n",
       "      <td>1</td>\n",
       "      <td>7</td>\n",
       "    </tr>\n",
       "    <tr>\n",
       "      <td>2</td>\n",
       "      <td>14</td>\n",
       "    </tr>\n",
       "    <tr>\n",
       "      <td>3</td>\n",
       "      <td>40</td>\n",
       "    </tr>\n",
       "    <tr>\n",
       "      <td>4</td>\n",
       "      <td>45</td>\n",
       "    </tr>\n",
       "    <tr>\n",
       "      <td>5</td>\n",
       "      <td>78</td>\n",
       "    </tr>\n",
       "    <tr>\n",
       "      <td>6</td>\n",
       "      <td>90</td>\n",
       "    </tr>\n",
       "    <tr>\n",
       "      <td>7</td>\n",
       "      <td>112</td>\n",
       "    </tr>\n",
       "    <tr>\n",
       "      <td>8</td>\n",
       "      <td>145</td>\n",
       "    </tr>\n",
       "    <tr>\n",
       "      <td>9</td>\n",
       "      <td>149</td>\n",
       "    </tr>\n",
       "    <tr>\n",
       "      <td>10</td>\n",
       "      <td>177</td>\n",
       "    </tr>\n",
       "    <tr>\n",
       "      <td>11</td>\n",
       "      <td>202</td>\n",
       "    </tr>\n",
       "    <tr>\n",
       "      <td>12</td>\n",
       "      <td>232</td>\n",
       "    </tr>\n",
       "  </tbody>\n",
       "</table>\n",
       "</div>"
      ],
      "text/plain": [
       "       user_id\n",
       "month         \n",
       "1            7\n",
       "2           14\n",
       "3           40\n",
       "4           45\n",
       "5           78\n",
       "6           90\n",
       "7          112\n",
       "8          145\n",
       "9          149\n",
       "10         177\n",
       "11         202\n",
       "12         232"
      ]
     },
     "execution_count": 124,
     "metadata": {},
     "output_type": "execute_result"
    }
   ],
   "source": [
    "smart_internet.query('extra_internet > 0').pivot_table(index='month', values='user_id', aggfunc='count')"
   ]
  },
  {
   "cell_type": "code",
   "execution_count": 125,
   "metadata": {},
   "outputs": [
    {
     "data": {
      "text/html": [
       "<div>\n",
       "<style scoped>\n",
       "    .dataframe tbody tr th:only-of-type {\n",
       "        vertical-align: middle;\n",
       "    }\n",
       "\n",
       "    .dataframe tbody tr th {\n",
       "        vertical-align: top;\n",
       "    }\n",
       "\n",
       "    .dataframe thead th {\n",
       "        text-align: right;\n",
       "    }\n",
       "</style>\n",
       "<table border=\"1\" class=\"dataframe\">\n",
       "  <thead>\n",
       "    <tr style=\"text-align: right;\">\n",
       "      <th></th>\n",
       "      <th>user_id</th>\n",
       "    </tr>\n",
       "    <tr>\n",
       "      <th>month</th>\n",
       "      <th></th>\n",
       "    </tr>\n",
       "  </thead>\n",
       "  <tbody>\n",
       "    <tr>\n",
       "      <td>2</td>\n",
       "      <td>2</td>\n",
       "    </tr>\n",
       "    <tr>\n",
       "      <td>3</td>\n",
       "      <td>5</td>\n",
       "    </tr>\n",
       "    <tr>\n",
       "      <td>4</td>\n",
       "      <td>5</td>\n",
       "    </tr>\n",
       "    <tr>\n",
       "      <td>5</td>\n",
       "      <td>6</td>\n",
       "    </tr>\n",
       "    <tr>\n",
       "      <td>6</td>\n",
       "      <td>9</td>\n",
       "    </tr>\n",
       "    <tr>\n",
       "      <td>7</td>\n",
       "      <td>14</td>\n",
       "    </tr>\n",
       "    <tr>\n",
       "      <td>8</td>\n",
       "      <td>17</td>\n",
       "    </tr>\n",
       "    <tr>\n",
       "      <td>9</td>\n",
       "      <td>14</td>\n",
       "    </tr>\n",
       "    <tr>\n",
       "      <td>10</td>\n",
       "      <td>17</td>\n",
       "    </tr>\n",
       "    <tr>\n",
       "      <td>11</td>\n",
       "      <td>21</td>\n",
       "    </tr>\n",
       "    <tr>\n",
       "      <td>12</td>\n",
       "      <td>24</td>\n",
       "    </tr>\n",
       "  </tbody>\n",
       "</table>\n",
       "</div>"
      ],
      "text/plain": [
       "       user_id\n",
       "month         \n",
       "2            2\n",
       "3            5\n",
       "4            5\n",
       "5            6\n",
       "6            9\n",
       "7           14\n",
       "8           17\n",
       "9           14\n",
       "10          17\n",
       "11          21\n",
       "12          24"
      ]
     },
     "execution_count": 125,
     "metadata": {},
     "output_type": "execute_result"
    }
   ],
   "source": [
    "ultra_internet.query('extra_internet > 0').pivot_table(index='month', values='user_id', aggfunc='count')"
   ]
  },
  {
   "cell_type": "code",
   "execution_count": 172,
   "metadata": {},
   "outputs": [
    {
     "data": {
      "text/plain": [
       "Text(0.5, 1.0, 'Количество абонентов превысивших лимит по интернет-трафику, тариф SMART и ULTRA')"
      ]
     },
     "execution_count": 172,
     "metadata": {},
     "output_type": "execute_result"
    },
    {
     "data": {
      "image/png": "[encoded data removed]",
      "text/plain": [
       "<Figure size 432x432 with 1 Axes>"
      ]
     },
     "metadata": {
      "needs_background": "light"
     },
     "output_type": "display_data"
    }
   ],
   "source": [
    "ax = smart_internet.query('extra_internet > 0').pivot_table(index='month', values='user_id', aggfunc='count').plot(kind='bar', grid=True, color = 'cadetblue', figsize=(6, 6))\n",
    "ultra_internet.query('extra_internet > 0').pivot_table(index='month', values='user_id', aggfunc='count').plot(ax=ax, kind='bar', grid=True, color = 'darkblue', figsize=(6, 6))\n",
    "plt.title('Количество абонентов превысивших лимит по интернет-трафику, тариф SMART и ULTRA')"
   ]
  },
  {
   "cell_type": "markdown",
   "metadata": {},
   "source": [
    "    Количество абонентов SMART, превышающих лимит по интернет-трафику, растет каждый месяц от января к декабрю.\n",
    "    Если в январе всего 7 абонет превысил лимит, то в декабре максимальное число - 232 абонента. Это составляет\n",
    "    10,4 % от общего числа абонентов. Т.е. в декабре, месяце в котором было больше всего потрачено интернет-трафика,\n",
    "    89,6 % абонентов хватило лимита в 15ГБ.\n",
    "\n",
    "    Количество абонентов ULTRA, превышающих лимит по интернет-трафику, растет каждый месяц от января к декабрю.\n",
    "    Если в январе всего 2 абонет превысил лимит, то в декабре максимальное число - 24 абонента. Это составляет\n",
    "    2.4 % от общего числа абонентов. Т.е. в декабре, месяце в котором было больше всего потрачено интернет-трафика,\n",
    "    97.6 % абонентов хватило лимита в 30ГБ."
   ]
  },
  {
   "cell_type": "markdown",
   "metadata": {},
   "source": [
    "## Шаг 4. Проверка гипотез<a class=\"anchor\" id=\"4-bullet\"></a>"
   ]
  },
  {
   "cell_type": "markdown",
   "metadata": {},
   "source": [
    "### 4.1. Средняя выручка пользователей тарифов \"Ультра\" и \"Смарт\" различается <a class=\"anchor\" id=\"4-1-bullet\"></a>"
   ]
  },
  {
   "cell_type": "markdown",
   "metadata": {},
   "source": [
    "\n",
    "    \n",
    "*H0 (нулевая гипотеза)* - средняя выручка пользователей тарифа ***smart*** не отличается от средней выручки пользователей тарифа ***ultra***.\n",
    "\n",
    "*H1 (альтернативная гипотеза)* - средняя выручка пользователей тарифа ***smart*** отличается от средней выручки пользователей тарифа ***ultra***."
   ]
  },
  {
   "cell_type": "code",
   "execution_count": 127,
   "metadata": {},
   "outputs": [],
   "source": [
    "from scipy import stats as st"
   ]
  },
  {
   "cell_type": "markdown",
   "metadata": {},
   "source": [
    "\n",
    "    Создадим две отдельные выборки по тарифам, чтобы потом сравнить средние выручки"
   ]
  },
  {
   "cell_type": "code",
   "execution_count": 128,
   "metadata": {},
   "outputs": [],
   "source": [
    "pd.set_option('mode.chained_assignment', None)\n",
    "smart_tariff = common_table[(common_table['tariff'] == 'smart')]\n",
    "ultra_tariff = common_table[(common_table['tariff'] == 'ultra')]"
   ]
  },
  {
   "cell_type": "code",
   "execution_count": 129,
   "metadata": {},
   "outputs": [
    {
     "name": "stdout",
     "output_type": "stream",
     "text": [
      "p-значение: 2.9776448000521676e-158\n",
      "отвергаем гипотезу\n"
     ]
    }
   ],
   "source": [
    "alpha = 0.05\n",
    "results = st.ttest_ind(smart_tariff['revenue'], ultra_tariff['revenue'], equal_var = True)\n",
    "\n",
    "print('p-значение:', results.pvalue)\n",
    "\n",
    "if (results.pvalue < alpha):\n",
    "    print ('отвергаем гипотезу')\n",
    "else:\n",
    "    print ('не получилось отвергнуть гипотезу')"
   ]
  },
  {
   "cell_type": "markdown",
   "metadata": {},
   "source": [
    " \n",
    "Таким образом, средняя выручка пользователей тарифа ***smart*** отличается от средней выручки пользователей тарифа ***ultra***."
   ]
  },
  {
   "cell_type": "markdown",
   "metadata": {},
   "source": [
    "### 4.2. Средняя выручка пользователей из Москвы отличается от выручки пользователей из других регионов<a class=\"anchor\" id=\"4-2-bullet\"></a>"
   ]
  },
  {
   "cell_type": "markdown",
   "metadata": {},
   "source": [
    "Так как выше мы выяснили, что средняя выручка двух тарифов разная, при анализе выручки по разным регионам будет не корректно объединять две эти группы. Так как показатели абонентов ***ultra*** в регионах могут сильно влиять на показатели абонентов тарифа ***smart***.\n",
    "Проверим гипотезу для обоих тарифов.\n",
    "\n",
    "***Тариф smart :*** \n",
    "\n",
    "*H0 (нулевая гипотеза)* - средняя выручка пользователей из Москвы не отличается от выручки пользователей из других регионов тарифа ***smart***.\n",
    "\n",
    "*H1 (альтернативная гипотеза)* - средняя выручка пользователей из Москвы отличается от выручки пользователей из других регионов тарифа ***smart***.\n",
    "\n",
    "***Тариф ultra :*** \n",
    "\n",
    "*H0 (нулевая гипотеза)* - средняя выручка пользователей из Москвы не отличается от выручки пользователей из других регионов тарифа ***ultra***.\n",
    "\n",
    "*H1 (альтернативная гипотеза)* - средняя выручка пользователей из Москвы отличается от выручки пользователей из других регионов тарифа ***ultra***."
   ]
  },
  {
   "cell_type": "code",
   "execution_count": 130,
   "metadata": {},
   "outputs": [],
   "source": [
    "def region_groups(row):\n",
    "    if row['city'] == 'Москва':\n",
    "        return 'Москва'\n",
    "    else:\n",
    "        return 'другой регион'\n",
    "\n",
    "smart_tariff['region_groups'] = smart_tariff.apply(region_groups, axis=1)\n",
    "ultra_tariff['region_groups'] = ultra_tariff.apply(region_groups, axis=1)"
   ]
  },
  {
   "cell_type": "code",
   "execution_count": 131,
   "metadata": {},
   "outputs": [
    {
     "data": {
      "text/html": [
       "<div>\n",
       "<style scoped>\n",
       "    .dataframe tbody tr th:only-of-type {\n",
       "        vertical-align: middle;\n",
       "    }\n",
       "\n",
       "    .dataframe tbody tr th {\n",
       "        vertical-align: top;\n",
       "    }\n",
       "\n",
       "    .dataframe thead th {\n",
       "        text-align: right;\n",
       "    }\n",
       "</style>\n",
       "<table border=\"1\" class=\"dataframe\">\n",
       "  <thead>\n",
       "    <tr style=\"text-align: right;\">\n",
       "      <th></th>\n",
       "      <th>user_id</th>\n",
       "      <th>month</th>\n",
       "      <th>call_duration</th>\n",
       "      <th>amount_message</th>\n",
       "      <th>internet_mb_used</th>\n",
       "      <th>age</th>\n",
       "      <th>churn_date</th>\n",
       "      <th>city</th>\n",
       "      <th>first_name</th>\n",
       "      <th>last_name</th>\n",
       "      <th>reg_date</th>\n",
       "      <th>tariff</th>\n",
       "      <th>internet_gb_used</th>\n",
       "      <th>extra_minutes</th>\n",
       "      <th>extra_message</th>\n",
       "      <th>extra_internet</th>\n",
       "      <th>income_calls</th>\n",
       "      <th>income_message</th>\n",
       "      <th>income_internet</th>\n",
       "      <th>total_income</th>\n",
       "      <th>revenue</th>\n",
       "      <th>rub_monthly_fee</th>\n",
       "      <th>region_groups</th>\n",
       "    </tr>\n",
       "  </thead>\n",
       "  <tbody>\n",
       "    <tr>\n",
       "      <td>8</td>\n",
       "      <td>1001</td>\n",
       "      <td>11</td>\n",
       "      <td>430.0</td>\n",
       "      <td>NaN</td>\n",
       "      <td>18452.0</td>\n",
       "      <td>41</td>\n",
       "      <td>NaT</td>\n",
       "      <td>Москва</td>\n",
       "      <td>Иван</td>\n",
       "      <td>Ежов</td>\n",
       "      <td>2018-11-01</td>\n",
       "      <td>smart</td>\n",
       "      <td>19.0</td>\n",
       "      <td>0.0</td>\n",
       "      <td>0.0</td>\n",
       "      <td>4.0</td>\n",
       "      <td>0.0</td>\n",
       "      <td>0.0</td>\n",
       "      <td>800.0</td>\n",
       "      <td>800.0</td>\n",
       "      <td>1350.0</td>\n",
       "      <td>550</td>\n",
       "      <td>Москва</td>\n",
       "    </tr>\n",
       "    <tr>\n",
       "      <td>9</td>\n",
       "      <td>1001</td>\n",
       "      <td>12</td>\n",
       "      <td>414.0</td>\n",
       "      <td>NaN</td>\n",
       "      <td>14053.0</td>\n",
       "      <td>41</td>\n",
       "      <td>NaT</td>\n",
       "      <td>Москва</td>\n",
       "      <td>Иван</td>\n",
       "      <td>Ежов</td>\n",
       "      <td>2018-11-01</td>\n",
       "      <td>smart</td>\n",
       "      <td>14.0</td>\n",
       "      <td>0.0</td>\n",
       "      <td>0.0</td>\n",
       "      <td>0.0</td>\n",
       "      <td>0.0</td>\n",
       "      <td>0.0</td>\n",
       "      <td>0.0</td>\n",
       "      <td>0.0</td>\n",
       "      <td>550.0</td>\n",
       "      <td>550</td>\n",
       "      <td>Москва</td>\n",
       "    </tr>\n",
       "    <tr>\n",
       "      <td>10</td>\n",
       "      <td>1002</td>\n",
       "      <td>6</td>\n",
       "      <td>117.0</td>\n",
       "      <td>4.0</td>\n",
       "      <td>10871.0</td>\n",
       "      <td>59</td>\n",
       "      <td>NaT</td>\n",
       "      <td>Стерлитамак</td>\n",
       "      <td>Евгений</td>\n",
       "      <td>Абрамович</td>\n",
       "      <td>2018-06-17</td>\n",
       "      <td>smart</td>\n",
       "      <td>11.0</td>\n",
       "      <td>0.0</td>\n",
       "      <td>0.0</td>\n",
       "      <td>0.0</td>\n",
       "      <td>0.0</td>\n",
       "      <td>0.0</td>\n",
       "      <td>0.0</td>\n",
       "      <td>0.0</td>\n",
       "      <td>550.0</td>\n",
       "      <td>550</td>\n",
       "      <td>другой регион</td>\n",
       "    </tr>\n",
       "    <tr>\n",
       "      <td>11</td>\n",
       "      <td>1002</td>\n",
       "      <td>7</td>\n",
       "      <td>214.0</td>\n",
       "      <td>11.0</td>\n",
       "      <td>17601.0</td>\n",
       "      <td>59</td>\n",
       "      <td>NaT</td>\n",
       "      <td>Стерлитамак</td>\n",
       "      <td>Евгений</td>\n",
       "      <td>Абрамович</td>\n",
       "      <td>2018-06-17</td>\n",
       "      <td>smart</td>\n",
       "      <td>18.0</td>\n",
       "      <td>0.0</td>\n",
       "      <td>0.0</td>\n",
       "      <td>3.0</td>\n",
       "      <td>0.0</td>\n",
       "      <td>0.0</td>\n",
       "      <td>600.0</td>\n",
       "      <td>600.0</td>\n",
       "      <td>1150.0</td>\n",
       "      <td>550</td>\n",
       "      <td>другой регион</td>\n",
       "    </tr>\n",
       "  </tbody>\n",
       "</table>\n",
       "</div>"
      ],
      "text/plain": [
       "    user_id  month  call_duration  amount_message  internet_mb_used  age  \\\n",
       "8      1001     11          430.0             NaN           18452.0   41   \n",
       "9      1001     12          414.0             NaN           14053.0   41   \n",
       "10     1002      6          117.0             4.0           10871.0   59   \n",
       "11     1002      7          214.0            11.0           17601.0   59   \n",
       "\n",
       "   churn_date         city first_name  last_name   reg_date tariff  \\\n",
       "8         NaT       Москва       Иван       Ежов 2018-11-01  smart   \n",
       "9         NaT       Москва       Иван       Ежов 2018-11-01  smart   \n",
       "10        NaT  Стерлитамак    Евгений  Абрамович 2018-06-17  smart   \n",
       "11        NaT  Стерлитамак    Евгений  Абрамович 2018-06-17  smart   \n",
       "\n",
       "    internet_gb_used extra_minutes extra_message extra_internet  income_calls  \\\n",
       "8               19.0           0.0           0.0            4.0           0.0   \n",
       "9               14.0           0.0           0.0            0.0           0.0   \n",
       "10              11.0           0.0           0.0            0.0           0.0   \n",
       "11              18.0           0.0           0.0            3.0           0.0   \n",
       "\n",
       "    income_message  income_internet  total_income  revenue  rub_monthly_fee  \\\n",
       "8              0.0            800.0         800.0   1350.0              550   \n",
       "9              0.0              0.0           0.0    550.0              550   \n",
       "10             0.0              0.0           0.0    550.0              550   \n",
       "11             0.0            600.0         600.0   1150.0              550   \n",
       "\n",
       "    region_groups  \n",
       "8          Москва  \n",
       "9          Москва  \n",
       "10  другой регион  \n",
       "11  другой регион  "
      ]
     },
     "execution_count": 131,
     "metadata": {},
     "output_type": "execute_result"
    }
   ],
   "source": [
    "smart_tariff.head(4)"
   ]
  },
  {
   "cell_type": "code",
   "execution_count": 132,
   "metadata": {},
   "outputs": [
    {
     "data": {
      "text/html": [
       "<div>\n",
       "<style scoped>\n",
       "    .dataframe tbody tr th:only-of-type {\n",
       "        vertical-align: middle;\n",
       "    }\n",
       "\n",
       "    .dataframe tbody tr th {\n",
       "        vertical-align: top;\n",
       "    }\n",
       "\n",
       "    .dataframe thead th {\n",
       "        text-align: right;\n",
       "    }\n",
       "</style>\n",
       "<table border=\"1\" class=\"dataframe\">\n",
       "  <thead>\n",
       "    <tr style=\"text-align: right;\">\n",
       "      <th></th>\n",
       "      <th>user_id</th>\n",
       "      <th>month</th>\n",
       "      <th>call_duration</th>\n",
       "      <th>amount_message</th>\n",
       "      <th>internet_mb_used</th>\n",
       "      <th>age</th>\n",
       "      <th>churn_date</th>\n",
       "      <th>city</th>\n",
       "      <th>first_name</th>\n",
       "      <th>last_name</th>\n",
       "      <th>reg_date</th>\n",
       "      <th>tariff</th>\n",
       "      <th>internet_gb_used</th>\n",
       "      <th>extra_minutes</th>\n",
       "      <th>extra_message</th>\n",
       "      <th>extra_internet</th>\n",
       "      <th>income_calls</th>\n",
       "      <th>income_message</th>\n",
       "      <th>income_internet</th>\n",
       "      <th>total_income</th>\n",
       "      <th>revenue</th>\n",
       "      <th>rub_monthly_fee</th>\n",
       "      <th>region_groups</th>\n",
       "    </tr>\n",
       "  </thead>\n",
       "  <tbody>\n",
       "    <tr>\n",
       "      <td>0</td>\n",
       "      <td>1000</td>\n",
       "      <td>5</td>\n",
       "      <td>159.0</td>\n",
       "      <td>22.0</td>\n",
       "      <td>2256.0</td>\n",
       "      <td>52</td>\n",
       "      <td>NaT</td>\n",
       "      <td>Краснодар</td>\n",
       "      <td>Рафаил</td>\n",
       "      <td>Верещагин</td>\n",
       "      <td>2018-05-25</td>\n",
       "      <td>ultra</td>\n",
       "      <td>3.0</td>\n",
       "      <td>0.0</td>\n",
       "      <td>0.0</td>\n",
       "      <td>0.0</td>\n",
       "      <td>0.0</td>\n",
       "      <td>0.0</td>\n",
       "      <td>0.0</td>\n",
       "      <td>0.0</td>\n",
       "      <td>1950.0</td>\n",
       "      <td>1950</td>\n",
       "      <td>другой регион</td>\n",
       "    </tr>\n",
       "    <tr>\n",
       "      <td>1</td>\n",
       "      <td>1000</td>\n",
       "      <td>6</td>\n",
       "      <td>172.0</td>\n",
       "      <td>60.0</td>\n",
       "      <td>23257.0</td>\n",
       "      <td>52</td>\n",
       "      <td>NaT</td>\n",
       "      <td>Краснодар</td>\n",
       "      <td>Рафаил</td>\n",
       "      <td>Верещагин</td>\n",
       "      <td>2018-05-25</td>\n",
       "      <td>ultra</td>\n",
       "      <td>23.0</td>\n",
       "      <td>0.0</td>\n",
       "      <td>0.0</td>\n",
       "      <td>0.0</td>\n",
       "      <td>0.0</td>\n",
       "      <td>0.0</td>\n",
       "      <td>0.0</td>\n",
       "      <td>0.0</td>\n",
       "      <td>1950.0</td>\n",
       "      <td>1950</td>\n",
       "      <td>другой регион</td>\n",
       "    </tr>\n",
       "    <tr>\n",
       "      <td>2</td>\n",
       "      <td>1000</td>\n",
       "      <td>7</td>\n",
       "      <td>340.0</td>\n",
       "      <td>75.0</td>\n",
       "      <td>14016.0</td>\n",
       "      <td>52</td>\n",
       "      <td>NaT</td>\n",
       "      <td>Краснодар</td>\n",
       "      <td>Рафаил</td>\n",
       "      <td>Верещагин</td>\n",
       "      <td>2018-05-25</td>\n",
       "      <td>ultra</td>\n",
       "      <td>14.0</td>\n",
       "      <td>0.0</td>\n",
       "      <td>0.0</td>\n",
       "      <td>0.0</td>\n",
       "      <td>0.0</td>\n",
       "      <td>0.0</td>\n",
       "      <td>0.0</td>\n",
       "      <td>0.0</td>\n",
       "      <td>1950.0</td>\n",
       "      <td>1950</td>\n",
       "      <td>другой регион</td>\n",
       "    </tr>\n",
       "    <tr>\n",
       "      <td>3</td>\n",
       "      <td>1000</td>\n",
       "      <td>8</td>\n",
       "      <td>408.0</td>\n",
       "      <td>81.0</td>\n",
       "      <td>14070.0</td>\n",
       "      <td>52</td>\n",
       "      <td>NaT</td>\n",
       "      <td>Краснодар</td>\n",
       "      <td>Рафаил</td>\n",
       "      <td>Верещагин</td>\n",
       "      <td>2018-05-25</td>\n",
       "      <td>ultra</td>\n",
       "      <td>14.0</td>\n",
       "      <td>0.0</td>\n",
       "      <td>0.0</td>\n",
       "      <td>0.0</td>\n",
       "      <td>0.0</td>\n",
       "      <td>0.0</td>\n",
       "      <td>0.0</td>\n",
       "      <td>0.0</td>\n",
       "      <td>1950.0</td>\n",
       "      <td>1950</td>\n",
       "      <td>другой регион</td>\n",
       "    </tr>\n",
       "  </tbody>\n",
       "</table>\n",
       "</div>"
      ],
      "text/plain": [
       "   user_id  month  call_duration  amount_message  internet_mb_used  age  \\\n",
       "0     1000      5          159.0            22.0            2256.0   52   \n",
       "1     1000      6          172.0            60.0           23257.0   52   \n",
       "2     1000      7          340.0            75.0           14016.0   52   \n",
       "3     1000      8          408.0            81.0           14070.0   52   \n",
       "\n",
       "  churn_date       city first_name  last_name   reg_date tariff  \\\n",
       "0        NaT  Краснодар     Рафаил  Верещагин 2018-05-25  ultra   \n",
       "1        NaT  Краснодар     Рафаил  Верещагин 2018-05-25  ultra   \n",
       "2        NaT  Краснодар     Рафаил  Верещагин 2018-05-25  ultra   \n",
       "3        NaT  Краснодар     Рафаил  Верещагин 2018-05-25  ultra   \n",
       "\n",
       "   internet_gb_used extra_minutes extra_message extra_internet  income_calls  \\\n",
       "0               3.0           0.0           0.0            0.0           0.0   \n",
       "1              23.0           0.0           0.0            0.0           0.0   \n",
       "2              14.0           0.0           0.0            0.0           0.0   \n",
       "3              14.0           0.0           0.0            0.0           0.0   \n",
       "\n",
       "   income_message  income_internet  total_income  revenue  rub_monthly_fee  \\\n",
       "0             0.0              0.0           0.0   1950.0             1950   \n",
       "1             0.0              0.0           0.0   1950.0             1950   \n",
       "2             0.0              0.0           0.0   1950.0             1950   \n",
       "3             0.0              0.0           0.0   1950.0             1950   \n",
       "\n",
       "   region_groups  \n",
       "0  другой регион  \n",
       "1  другой регион  \n",
       "2  другой регион  \n",
       "3  другой регион  "
      ]
     },
     "execution_count": 132,
     "metadata": {},
     "output_type": "execute_result"
    }
   ],
   "source": [
    "ultra_tariff.head(4)"
   ]
  },
  {
   "cell_type": "markdown",
   "metadata": {},
   "source": [
    "     Количество обонентов из Москвы и из других регионов, тариф SMART:"
   ]
  },
  {
   "cell_type": "code",
   "execution_count": 133,
   "metadata": {},
   "outputs": [
    {
     "data": {
      "text/plain": [
       "другой регион    1843\n",
       "Москва            386\n",
       "Name: region_groups, dtype: int64"
      ]
     },
     "execution_count": 133,
     "metadata": {},
     "output_type": "execute_result"
    }
   ],
   "source": [
    "smart_tariff['region_groups'].value_counts()"
   ]
  },
  {
   "cell_type": "markdown",
   "metadata": {},
   "source": [
    "    Количество обонентов из Москвы и из других регионов, тариф ULTRA:"
   ]
  },
  {
   "cell_type": "code",
   "execution_count": 134,
   "metadata": {},
   "outputs": [
    {
     "data": {
      "text/plain": [
       "другой регион    760\n",
       "Москва           225\n",
       "Name: region_groups, dtype: int64"
      ]
     },
     "execution_count": 134,
     "metadata": {},
     "output_type": "execute_result"
    }
   ],
   "source": [
    "ultra_tariff['region_groups'].value_counts()"
   ]
  },
  {
   "cell_type": "markdown",
   "metadata": {},
   "source": [
    "    Разделим датасет ТАРИФ SMART на две выборки в зависимости от региона, чтобы сравнить среднюю выручку"
   ]
  },
  {
   "cell_type": "code",
   "execution_count": 135,
   "metadata": {},
   "outputs": [],
   "source": [
    "pd.set_option('mode.chained_assignment', None)\n",
    "smart_tariff_moscow = smart_tariff[(smart_tariff['region_groups'] == 'Москва')]\n",
    "smart_tariff_region = smart_tariff[(smart_tariff['region_groups'] == 'другой регион')]"
   ]
  },
  {
   "cell_type": "code",
   "execution_count": 136,
   "metadata": {},
   "outputs": [
    {
     "name": "stdout",
     "output_type": "stream",
     "text": [
      "p-значение: 0.1642380351651886\n",
      "не получилось отвергнуть гипотезу\n"
     ]
    }
   ],
   "source": [
    "from scipy import stats as st\n",
    "alpha = 0.05\n",
    "results = st.ttest_ind(smart_tariff_moscow['revenue'], smart_tariff_region['revenue'], equal_var = False)\n",
    "\n",
    "print('p-значение:', results.pvalue)\n",
    "\n",
    "if (results.pvalue < alpha):\n",
    "    print ('отвергаем гипотезу')\n",
    "else:\n",
    "    print ('не получилось отвергнуть гипотезу')"
   ]
  },
  {
   "cell_type": "markdown",
   "metadata": {},
   "source": [
    "    Таким образом, средняя выручка пользователей из Москвы не отличается от выручки пользователей из других\n",
    "    регионов тарифа SMART."
   ]
  },
  {
   "cell_type": "code",
   "execution_count": 137,
   "metadata": {},
   "outputs": [
    {
     "name": "stdout",
     "output_type": "stream",
     "text": [
      "- - - - - - - - - - - - - - - - - - - - - - - - - - - - - - - - - - - - - -\n",
      "Средняя выручка пользователей из Москвы в месяц, тариф smart 1245 руб.\n",
      "- - - - - - - - - - - - - - - - - - - - - - - - - - - - - - - - - - - - - -\n",
      "Средняя выручка пользователей из др.регионов в месяц, тариф smart 1305 руб.\n",
      "- - - - - - - - - - - - - - - - - - - - - - - - - - - - - - - - - - - - - -\n"
     ]
    }
   ],
   "source": [
    "mean_income_smart_moscow = smart_tariff_moscow['revenue'].mean()\n",
    "mean_income_smart_region = smart_tariff_region['revenue'].mean()\n",
    "print('- - - - - - - - - - - - - - - - - - - - - - - - - - - - - - - - - - - - - -')\n",
    "print('Средняя выручка пользователей из Москвы в месяц, тариф smart {:.0f}'.format(mean_income_smart_moscow), 'руб.')\n",
    "print('- - - - - - - - - - - - - - - - - - - - - - - - - - - - - - - - - - - - - -')\n",
    "print('Средняя выручка пользователей из др.регионов в месяц, тариф smart {:.0f}'.format(mean_income_smart_region), 'руб.')\n",
    "print('- - - - - - - - - - - - - - - - - - - - - - - - - - - - - - - - - - - - - -')"
   ]
  },
  {
   "cell_type": "markdown",
   "metadata": {},
   "source": [
    "    Разделим датасет ТАРИФ ULTRA на две выборки в зависимости от региона, чтобы сравнить среднюю выручку"
   ]
  },
  {
   "cell_type": "code",
   "execution_count": 138,
   "metadata": {},
   "outputs": [],
   "source": [
    "pd.set_option('mode.chained_assignment', None)\n",
    "ultra_tariff_moscow = ultra_tariff[(ultra_tariff['region_groups'] == 'Москва')]\n",
    "ultra_tariff_region = ultra_tariff[(ultra_tariff['region_groups'] == 'другой регион')]"
   ]
  },
  {
   "cell_type": "code",
   "execution_count": 139,
   "metadata": {},
   "outputs": [
    {
     "name": "stdout",
     "output_type": "stream",
     "text": [
      "p-значение: 0.8400933420531973\n",
      "не получилось отвергнуть гипотезу\n"
     ]
    }
   ],
   "source": [
    "from scipy import stats as st\n",
    "alpha = 0.05\n",
    "results = st.ttest_ind(ultra_tariff_region['revenue'], ultra_tariff_moscow['revenue'], equal_var = False)\n",
    "\n",
    "print('p-значение:', results.pvalue)\n",
    "\n",
    "if (results.pvalue < alpha):\n",
    "    print ('отвергаем гипотезу')\n",
    "else:\n",
    "    print ('не получилось отвергнуть гипотезу')"
   ]
  },
  {
   "cell_type": "markdown",
   "metadata": {},
   "source": [
    "    Таким образом, средняя выручка пользователей из Москвы не отличается от выручки пользователей из других\n",
    "    регионов тарифа ULTRA. "
   ]
  },
  {
   "cell_type": "code",
   "execution_count": 140,
   "metadata": {},
   "outputs": [
    {
     "name": "stdout",
     "output_type": "stream",
     "text": [
      "- - - - - - - - - - - - - - - - - - - - - - - - - - - - - - - - - - - - - -\n",
      "Средняя выручка пользователей из Москвы в месяц, тариф ultra 2075 руб.\n",
      "- - - - - - - - - - - - - - - - - - - - - - - - - - - - - - - - - - - - - -\n",
      "Средняя выручка пользователей из др.регионов в месяц, тариф ultra 2070 руб.\n",
      "- - - - - - - - - - - - - - - - - - - - - - - - - - - - - - - - - - - - - -\n"
     ]
    }
   ],
   "source": [
    "mean_income_ultra_moscow = ultra_tariff_moscow['revenue'].mean()\n",
    "mean_income_ultra_region = ultra_tariff_region['revenue'].mean()\n",
    "print('- - - - - - - - - - - - - - - - - - - - - - - - - - - - - - - - - - - - - -')\n",
    "print('Средняя выручка пользователей из Москвы в месяц, тариф ultra {:.0f}'.format(mean_income_ultra_moscow), 'руб.')\n",
    "print('- - - - - - - - - - - - - - - - - - - - - - - - - - - - - - - - - - - - - -')\n",
    "print('Средняя выручка пользователей из др.регионов в месяц, тариф ultra {:.0f}'.format(mean_income_ultra_region), 'руб.')\n",
    "print('- - - - - - - - - - - - - - - - - - - - - - - - - - - - - - - - - - - - - -')"
   ]
  },
  {
   "cell_type": "markdown",
   "metadata": {},
   "source": [
    "    Средняя выручка абонентов в Москве и в регионах не отличаются друг от друга в тарифе ULTRA, так как в основном\n",
    "    абоненты оплачивают только абонентскую плату, которая у всех одинаковая. И только 5,8% суммы приходится на \n",
    "    доп.платы за интернет-трафик. Ранее мы выяснили, что всего 13,6% абонентов от общего числа превышали лимит\n",
    "    по трафику. Посмотрим, откуда эти абоненты. "
   ]
  },
  {
   "cell_type": "code",
   "execution_count": 141,
   "metadata": {},
   "outputs": [
    {
     "data": {
      "text/html": [
       "<div>\n",
       "<style scoped>\n",
       "    .dataframe tbody tr th:only-of-type {\n",
       "        vertical-align: middle;\n",
       "    }\n",
       "\n",
       "    .dataframe tbody tr th {\n",
       "        vertical-align: top;\n",
       "    }\n",
       "\n",
       "    .dataframe thead th {\n",
       "        text-align: right;\n",
       "    }\n",
       "</style>\n",
       "<table border=\"1\" class=\"dataframe\">\n",
       "  <thead>\n",
       "    <tr style=\"text-align: right;\">\n",
       "      <th></th>\n",
       "      <th>count</th>\n",
       "      <th>sum</th>\n",
       "    </tr>\n",
       "    <tr>\n",
       "      <th>region_groups</th>\n",
       "      <th></th>\n",
       "      <th></th>\n",
       "    </tr>\n",
       "  </thead>\n",
       "  <tbody>\n",
       "    <tr>\n",
       "      <td>Москва</td>\n",
       "      <td>37</td>\n",
       "      <td>28200.0</td>\n",
       "    </tr>\n",
       "    <tr>\n",
       "      <td>другой регион</td>\n",
       "      <td>97</td>\n",
       "      <td>91050.0</td>\n",
       "    </tr>\n",
       "  </tbody>\n",
       "</table>\n",
       "</div>"
      ],
      "text/plain": [
       "               count      sum\n",
       "region_groups                \n",
       "Москва            37  28200.0\n",
       "другой регион     97  91050.0"
      ]
     },
     "execution_count": 141,
     "metadata": {},
     "output_type": "execute_result"
    }
   ],
   "source": [
    "ultra_tariff.query('extra_internet > 0').pivot_table(index='region_groups', values=('income_internet'), aggfunc=('count', 'sum'))"
   ]
  },
  {
   "cell_type": "markdown",
   "metadata": {},
   "source": [
    "    Абоненты, превысившие лимит в трафике, есть как Москве, так и в регионах.\n",
    "    \n",
    "    В регионах: 97 абонентов превысили трафик и в сумме они заплатили - 91 050 руб.(4,4% от общей выручки).\n",
    "    В Москве: 37 абонентов превысили трафик и в сумме они заплотили - 28 200 руб.(1,4% от общей выручки).\n",
    "\n",
    "    Для общего датасета разница может быть не столь значительной, чтобы быть статистически значимой."
   ]
  },
  {
   "cell_type": "markdown",
   "metadata": {},
   "source": [
    "## Шаг 5. Общий вывод<a class=\"anchor\" id=\"5-bullet\"></a>"
   ]
  },
  {
   "cell_type": "markdown",
   "metadata": {},
   "source": [
    "   \n",
    "Было проанализировано поведение клиентов двух тарифных планов ***smart***  и  ***ultra***.\n",
    "Тарифом, приносящим больше выручки, является тариф ***ultra***. Необходимо скорректировать рекламный бюджет исходя из данной информации.\n",
    "\n",
    "* средняя выручка на одного пользователя тарифа smart (в данной выборке) - 1294.64 руб.\n",
    "* средняя выручка на одного пользователя тарифа ultra (в данной выборке)- 2071.07 руб.\n",
    "\n",
    "Далее была проверена гипотеза, что в генеральной совокупности средняя выручка пользователей тарифа ***smart*** отличается от средней выручки пользователей тарифа ***ultra***. Оснований отвергнуть данную гипотезу - нет. \n",
    "\n",
    "***Тариф  SMART***\n",
    "\n",
    "1. Количество абонентов в выборке - 2229 человек, что составляет 69.35% от общей выборки.\n",
    "\n",
    "\n",
    "2. Абоненты превышают свой лимит во всех категориях: звонки, сообщения, интернет-трафик. Т.е. по каждой категории абоненты производят дополнительную плату к абонентской. Большую часть дохода составляют доп.платы эа \"экстра\" услуги - ***57,5%*** от общей выручки по тарифу.\n",
    "Абонентская плата составляет - ***42,5%***.\n",
    "\n",
    "Выручка тарифа ***smart*** выглядит следующим образом:\n",
    "* доп.платы за интернет - тарифк = 46,5%\n",
    "* абонентская плата - 42,5 %\n",
    "* доп.плата за минуты разговора - 9,6%\n",
    "* доп.плата за сообщения - 1,4%\n",
    "\n",
    "\n",
    "3. Абоненты в среднем используют 417 минуту разговора в месяц.\n",
    "В тариф включено 500 минут разговора.\n",
    "Количество абонентов, превышающих лимит минут разговора, растет каждый месяц от января к декабрю. Если в январе всего 1 абонет превысил лимит, то в декабре максимальное число - 138 абонентов. Это составляет всего 6,2 % от общего числа абонентов. Т.е. в декабре, месяце в котором было больше всего использовано минут разговоров, ***93,8 %*** абонентов хватило лимита в 500 минут.\n",
    "\n",
    "\n",
    "4. Абоненты в среднем отправляют 38 сообщений в месяц.\n",
    "В тариф включено 50 сообщений в месяц.\n",
    "Количество абонентов, превышающих лимит по сообщениям, растет каждый месяц от января к декабрю. Если в январе всего 1 абонет превысил лимит, то в декабре максимальное число - 95 абонентов. Это составляет всего 4,3 % от общего числа абонентов. Т.е. в декабре, месяце в котором было больше всего отправлено сообщений, ***95,7 %*** абонентов хватило лимита в 50 сообщений.\n",
    "\n",
    "\n",
    "5. Абонентам в среднем требуется 16 ГБ объема интернет-трафика.\n",
    "В тариф включено 15 ГБ интернет-трафика, т.е. в среднем абонентам не хватает 1ГБ в месяц.\n",
    "Количество абонентов, превышающих лимит по интернет-трафику, растет каждый месяц от января к декабрю. Если в январе всего 7 абонет превысил лимит, то в декабре максимальное число - 232 абонента. Это составляет 10,4 % от общего числа абонентов. Т.е. в декабре, месяце в котором было больше всего потрачено интернет-трафика, ***89,6 %*** абонентов хватило лимита в 15ГБ.\n",
    "\n",
    "\n",
    "6. Была проверена гипотеза, что в генеральной совокупности средняя выручка пользователей из Москвы не отличается от выручки пользователей из других регионов тарифа ***smart***. Данные подтвердили данную гипотезу, нет оснований ее отвергнуть. \n",
    "\n",
    "\n",
    "* Средняя выручка пользователей из Москвы в месяц (в данной выборке) - 1245 руб.\n",
    "* Средняя выручка пользователей из др.регионов в месяц (в данной выборке) - 1305 руб\n",
    "\n",
    "\n",
    "***Тариф  ULTRA***\n",
    "\n",
    "1. Количество абонентов в выборке - 985 человек, что составляет 30,65% от общей выборки.\n",
    "\n",
    "\n",
    "2. Абоненты тарифа за год ни разу не превысили лимит по звонкам и сообщениям. Абоненты превышают свой лимит только в интернет-трафике. \n",
    "Основную часть дохода составляет абонентская плата - ***94,2%***. Доп.платы эа интернет-трафик составляют всего 5,8%.\n",
    "\n",
    "\n",
    "3. Абоненты в среднем используют 545 минуту разговора в месяц.\n",
    "В тариф включено 3000 минут разговора, т.е. почти в 5 раз больше, чем нужно в среднем абоненту.\n",
    "Таким образом, абоненты переплачивают за минуты разговора и не используют их, что выгодно оператору. Как мы выяснили выше, ни один из абонентов не превысил свой лимит в этой категории.\n",
    "\n",
    "\n",
    "4. Абоненты в среднем отправляют 59 сообщений в месяц.\n",
    "В тариф включено 1000 сообщений, т.е. почти в 17 раз больше, чем нужно в среднем абоненту.\n",
    "Таким образом, абоненты переплачивают за сообщения и не используют их, что выгодно оператору. Как мы выяснили выше, ни один из абонентов не превысил свой лимит в этой категории.\n",
    "\n",
    "\n",
    "5. Абоненты в среднем требуется 20 ГБ объема интернет-трафика.\n",
    "В тариф включено 30 ГБ интернет-трафика, т.е. в 1,5 раз больше, чем нужно в среднем абоненту.\n",
    "Таким образом, абоненты переплачивают за интернет-трафик и не используют его полностью, что выгодно оператору.\n",
    "Количество абонентов ***ultra***, превышающих лимит по интернет-трафику, растет каждый месяц от января к декабрю. Если в январе всего 2 абонет превысил лимит, то в декабре максимальное число - 24 абонента. Это составляет 2.4 % от общего числа абонентов. Т.е. в декабре, месяце в котором было больше всего потрачено интернет-трафика, ***97.6 %*** абонентов хватило лимита в 30ГБ.\n",
    "\n",
    "\n",
    "6. У нас нет оснований отвергать гипотезу, что средняя выручка пользователей из Москвы не отличается от выручки пользователей из других регионов тарифа ***ultra***. \n",
    "В основном абоненты оплачивают только абонентскую плату, которая у всех одинаковая. И только 5,8% суммы выручки приходится на доп.платы за интернет-трафик. Мы выяснили, что всего 13,6% абонентов от общего числа превышали лимит по трафику. В эту группу входят как абоненты из Москвы, так и абоненты из регионов."
   ]
  }
 ],
 "metadata": {
  "kernelspec": {
   "display_name": "Python 3",
   "language": "python",
   "name": "python3"
  },
  "language_info": {
   "codemirror_mode": {
    "name": "ipython",
    "version": 3
   },
   "file_extension": ".py",
   "mimetype": "text/x-python",
   "name": "python",
   "nbconvert_exporter": "python",
   "pygments_lexer": "ipython3",
   "version": "3.7.6"
  }
 },
 "nbformat": 4,
 "nbformat_minor": 2
}
