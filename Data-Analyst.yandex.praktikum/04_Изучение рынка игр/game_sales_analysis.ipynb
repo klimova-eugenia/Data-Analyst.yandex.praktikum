{
 "cells": [
  {
   "cell_type": "markdown",
   "metadata": {},
   "source": [
    "# Анализ продаж компьютерных игр для интернет-магазина "
   ]
  },
  {
   "cell_type": "markdown",
   "metadata": {},
   "source": [
    "Вы работаете в интернет-магазине «Стримчик», который продаёт по всему миру компьютерные игры. Из открытых источников доступны исторические данные о продажах игр, оценки пользователей и экспертов, жанры и платформы (например, Xbox или PlayStation). Вам нужно выявить определяющие успешность игры закономерности. Это позволит сделать ставку на потенциально популярный продукт и спланировать рекламные кампании.\n",
    "\n",
    "Данные предоставлены по 2016 года. По легенде планируем кампанию на 2017-й. "
   ]
  },
  {
   "cell_type": "markdown",
   "metadata": {},
   "source": [
    "## Содержание:\n",
    "* [Шаг 1. Общая информация](#1-bullet)\n",
    "* [Шаг 2. Предобработка данных](#2-bullet)\n",
    "* 2.1. [Замена названий столбцов](#2-1-bullet)\n",
    "* 2.2. [Преобразование данных в нужные типы](#2-2-bullet)\n",
    "* 2.3. [Обработка пропусков](#2-3-bullet)\n",
    "* 2.4. [Поиск дубликатов](#2-4-bullet)\n",
    "* 2.5. [Cуммарные продажи во всех регионах](#2-5-bullet)\n",
    "* [Шаг 3. Исследовательский анализ данных](#3-bullet)\n",
    "* 3.1. [Количество игр, выпущенные в разные годы](#3-1-bullet)\n",
    "* 3.2. [Платформы](#3-2-bullet)\n",
    "* 3.3. [Boxplot  по глобальным продажам игр и разбивкой по платформам](#3-3-bullet)\n",
    "* 3.4. [Влияние отзывов пользователей и критиков на продажи](#3-4-bullet)\n",
    "* 3.5. [Pаспределение игр по жанрам](#3-5-bullet)\n",
    "* [Шаг 4. Портрет пользователя каждого региона](#4-bullet)\n",
    "* 4.1. [Самые популярные жанры (топ-5) каждого региона](#4-1-bullet)\n",
    "* 4.2.[Самые популярные платформы (топ-5) каждого региона](#4-2-bullet)\n",
    "* 4.3.[Влияние рейтинга ESRB на продажи](#4-3-bullet)\n",
    "* [Шаг 5. Проверка гипотез](#5-bullet)\n",
    "* 5.1. [Средние пользовательские рейтинги платформ Xbox One и PC одинаковые](#5-1-bullet)\n",
    "* 5.2. [Средние пользовательские рейтинги жанров Action  и Sports  разные](#5-2-bullet)\n",
    "* [Шаг 6. Общий вывод](#6-bullet)"
   ]
  },
  {
   "cell_type": "markdown",
   "metadata": {},
   "source": [
    "## Шаг 1. Общая информация<a class=\"anchor\" id=\"1-bullet\"></a>"
   ]
  },
  {
   "cell_type": "code",
   "execution_count": 1,
   "metadata": {},
   "outputs": [
    {
     "data": {
      "text/html": [
       "<div>\n",
       "<style scoped>\n",
       "    .dataframe tbody tr th:only-of-type {\n",
       "        vertical-align: middle;\n",
       "    }\n",
       "\n",
       "    .dataframe tbody tr th {\n",
       "        vertical-align: top;\n",
       "    }\n",
       "\n",
       "    .dataframe thead th {\n",
       "        text-align: right;\n",
       "    }\n",
       "</style>\n",
       "<table border=\"1\" class=\"dataframe\">\n",
       "  <thead>\n",
       "    <tr style=\"text-align: right;\">\n",
       "      <th></th>\n",
       "      <th>Name</th>\n",
       "      <th>Platform</th>\n",
       "      <th>Year_of_Release</th>\n",
       "      <th>Genre</th>\n",
       "      <th>NA_sales</th>\n",
       "      <th>EU_sales</th>\n",
       "      <th>JP_sales</th>\n",
       "      <th>Other_sales</th>\n",
       "      <th>Critic_Score</th>\n",
       "      <th>User_Score</th>\n",
       "      <th>Rating</th>\n",
       "    </tr>\n",
       "  </thead>\n",
       "  <tbody>\n",
       "    <tr>\n",
       "      <td>0</td>\n",
       "      <td>Wii Sports</td>\n",
       "      <td>Wii</td>\n",
       "      <td>2006.0</td>\n",
       "      <td>Sports</td>\n",
       "      <td>41.36</td>\n",
       "      <td>28.96</td>\n",
       "      <td>3.77</td>\n",
       "      <td>8.45</td>\n",
       "      <td>76.0</td>\n",
       "      <td>8</td>\n",
       "      <td>E</td>\n",
       "    </tr>\n",
       "    <tr>\n",
       "      <td>1</td>\n",
       "      <td>Super Mario Bros.</td>\n",
       "      <td>NES</td>\n",
       "      <td>1985.0</td>\n",
       "      <td>Platform</td>\n",
       "      <td>29.08</td>\n",
       "      <td>3.58</td>\n",
       "      <td>6.81</td>\n",
       "      <td>0.77</td>\n",
       "      <td>NaN</td>\n",
       "      <td>NaN</td>\n",
       "      <td>NaN</td>\n",
       "    </tr>\n",
       "    <tr>\n",
       "      <td>2</td>\n",
       "      <td>Mario Kart Wii</td>\n",
       "      <td>Wii</td>\n",
       "      <td>2008.0</td>\n",
       "      <td>Racing</td>\n",
       "      <td>15.68</td>\n",
       "      <td>12.76</td>\n",
       "      <td>3.79</td>\n",
       "      <td>3.29</td>\n",
       "      <td>82.0</td>\n",
       "      <td>8.3</td>\n",
       "      <td>E</td>\n",
       "    </tr>\n",
       "    <tr>\n",
       "      <td>3</td>\n",
       "      <td>Wii Sports Resort</td>\n",
       "      <td>Wii</td>\n",
       "      <td>2009.0</td>\n",
       "      <td>Sports</td>\n",
       "      <td>15.61</td>\n",
       "      <td>10.93</td>\n",
       "      <td>3.28</td>\n",
       "      <td>2.95</td>\n",
       "      <td>80.0</td>\n",
       "      <td>8</td>\n",
       "      <td>E</td>\n",
       "    </tr>\n",
       "    <tr>\n",
       "      <td>4</td>\n",
       "      <td>Pokemon Red/Pokemon Blue</td>\n",
       "      <td>GB</td>\n",
       "      <td>1996.0</td>\n",
       "      <td>Role-Playing</td>\n",
       "      <td>11.27</td>\n",
       "      <td>8.89</td>\n",
       "      <td>10.22</td>\n",
       "      <td>1.00</td>\n",
       "      <td>NaN</td>\n",
       "      <td>NaN</td>\n",
       "      <td>NaN</td>\n",
       "    </tr>\n",
       "  </tbody>\n",
       "</table>\n",
       "</div>"
      ],
      "text/plain": [
       "                       Name Platform  Year_of_Release         Genre  NA_sales  \\\n",
       "0                Wii Sports      Wii           2006.0        Sports     41.36   \n",
       "1         Super Mario Bros.      NES           1985.0      Platform     29.08   \n",
       "2            Mario Kart Wii      Wii           2008.0        Racing     15.68   \n",
       "3         Wii Sports Resort      Wii           2009.0        Sports     15.61   \n",
       "4  Pokemon Red/Pokemon Blue       GB           1996.0  Role-Playing     11.27   \n",
       "\n",
       "   EU_sales  JP_sales  Other_sales  Critic_Score User_Score Rating  \n",
       "0     28.96      3.77         8.45          76.0          8      E  \n",
       "1      3.58      6.81         0.77           NaN        NaN    NaN  \n",
       "2     12.76      3.79         3.29          82.0        8.3      E  \n",
       "3     10.93      3.28         2.95          80.0          8      E  \n",
       "4      8.89     10.22         1.00           NaN        NaN    NaN  "
      ]
     },
     "execution_count": 1,
     "metadata": {},
     "output_type": "execute_result"
    }
   ],
   "source": [
    "import pandas as pd\n",
    "import matplotlib.pyplot as plt\n",
    "import numpy as np\n",
    "df = pd.read_csv('/datasets/games.csv')\n",
    "df.head()"
   ]
  },
  {
   "cell_type": "markdown",
   "metadata": {},
   "source": [
    "**Описание данных**\n",
    "\n",
    "* Name — название игры\n",
    "* Platform — платформа\n",
    "* Year_of_Release — год выпуска\n",
    "* Genre — жанр игры\n",
    "* NA_sales — продажи в Северной Америке (миллионы проданных копий)\n",
    "* EU_sales — продажи в Европе (миллионы проданных копий)\n",
    "* JP_sales — продажи в Японии (миллионы проданных копий)\n",
    "* Other_sales — продажи в других странах (миллионы проданных копий)\n",
    "* Critic_Score — оценка критиков (максимум 100)\n",
    "* User_Score — оценка пользователей (максимум 10)\n",
    "* Rating — рейтинг от организации ESRB (англ. Entertainment Software Rating Board). Эта ассоциация определяет рейтинг компьютерных игр и присваивает им подходящую возрастную категорию."
   ]
  },
  {
   "cell_type": "code",
   "execution_count": 2,
   "metadata": {},
   "outputs": [
    {
     "name": "stdout",
     "output_type": "stream",
     "text": [
      "<class 'pandas.core.frame.DataFrame'>\n",
      "RangeIndex: 16715 entries, 0 to 16714\n",
      "Data columns (total 11 columns):\n",
      "Name               16713 non-null object\n",
      "Platform           16715 non-null object\n",
      "Year_of_Release    16446 non-null float64\n",
      "Genre              16713 non-null object\n",
      "NA_sales           16715 non-null float64\n",
      "EU_sales           16715 non-null float64\n",
      "JP_sales           16715 non-null float64\n",
      "Other_sales        16715 non-null float64\n",
      "Critic_Score       8137 non-null float64\n",
      "User_Score         10014 non-null object\n",
      "Rating             9949 non-null object\n",
      "dtypes: float64(6), object(5)\n",
      "memory usage: 1.4+ MB\n"
     ]
    }
   ],
   "source": [
    "df.info()"
   ]
  },
  {
   "cell_type": "markdown",
   "metadata": {},
   "source": [
    "   \n",
    "* в таблице 11 колонок и 16715 строк.\n",
    "* в колонке ['Name'] пропущено 2 значения\n",
    "* в колонке ['Year_of_Release'] пропущено 269 значений. Необходимо перевести значения из строки в дату.\n",
    "* в колонке ['Genre'] пропущено 2 значения\n",
    "* в колонке ['Critic_Score'] пропущено 8578 значений\n",
    "* в колонке ['User_Score'] пропущено 6701 значение. Необходимо перевести значения из строкового типа в числа.\n",
    "* в колонке ['Rating'] пропущено 6766 значение.\n",
    "* необходимо заменить названия колонок (привести к нижнему регистру)\n"
   ]
  },
  {
   "cell_type": "markdown",
   "metadata": {},
   "source": [
    "## Шаг 2. Предобработка данных<a class=\"anchor\" id=\"2-bullet\"></a>"
   ]
  },
  {
   "cell_type": "markdown",
   "metadata": {},
   "source": [
    "### 2.1. Замена названий столбцов (приведение к нижнему регистру)<a class=\"anchor\" id=\"2-1-bullet\"></a>"
   ]
  },
  {
   "cell_type": "code",
   "execution_count": 3,
   "metadata": {},
   "outputs": [],
   "source": [
    "df.columns = df.columns.str.lower()"
   ]
  },
  {
   "cell_type": "code",
   "execution_count": 4,
   "metadata": {},
   "outputs": [
    {
     "data": {
      "text/plain": [
       "Index(['name', 'platform', 'year_of_release', 'genre', 'na_sales', 'eu_sales',\n",
       "       'jp_sales', 'other_sales', 'critic_score', 'user_score', 'rating'],\n",
       "      dtype='object')"
      ]
     },
     "execution_count": 4,
     "metadata": {},
     "output_type": "execute_result"
    }
   ],
   "source": [
    "df.columns"
   ]
  },
  {
   "cell_type": "markdown",
   "metadata": {},
   "source": [
    "### 2.2. Преобразование данных в нужные типы<a class=\"anchor\" id=\"2-2-bullet\"></a>"
   ]
  },
  {
   "cell_type": "code",
   "execution_count": 5,
   "metadata": {},
   "outputs": [
    {
     "data": {
      "text/plain": [
       "tbd    2424\n",
       "7.8     324\n",
       "8       290\n",
       "8.2     282\n",
       "8.3     254\n",
       "       ... \n",
       "1.9       2\n",
       "2.3       2\n",
       "1         2\n",
       "9.7       1\n",
       "0         1\n",
       "Name: user_score, Length: 96, dtype: int64"
      ]
     },
     "execution_count": 5,
     "metadata": {},
     "output_type": "execute_result"
    }
   ],
   "source": [
    "df['user_score'].value_counts()"
   ]
  },
  {
   "cell_type": "markdown",
   "metadata": {},
   "source": [
    "    В оценках пользователей давольно часто (2424 раз) встречается аббревиатура tbd -\n",
    "    \"To Be Determined\". Что означает \"будет определено позже\", оценки пользователя на\n",
    "    данный момент нет. Заменим аббревиатура tbd на NaN (отсутствующее число в ячейке, \n",
    "    тип данных float) и переведем значения из строкового типа в числа."
   ]
  },
  {
   "cell_type": "code",
   "execution_count": 6,
   "metadata": {},
   "outputs": [],
   "source": [
    "df['user_score'] = df['user_score'].replace('tbd', np.NaN)"
   ]
  },
  {
   "cell_type": "code",
   "execution_count": 7,
   "metadata": {},
   "outputs": [],
   "source": [
    "df['user_score'] = pd.to_numeric(df['user_score'], errors='coerce')"
   ]
  },
  {
   "cell_type": "markdown",
   "metadata": {},
   "source": [
    "   \n",
    "     В колонке ['Year_of_Release'] необходимо перевести значения из строки в дату."
   ]
  },
  {
   "cell_type": "code",
   "execution_count": 8,
   "metadata": {},
   "outputs": [],
   "source": [
    "df['year_of_release'] = pd.to_datetime(df['year_of_release'], format='%Y')\n",
    "df['year'] = df['year_of_release'].dt.year"
   ]
  },
  {
   "cell_type": "code",
   "execution_count": 9,
   "metadata": {},
   "outputs": [
    {
     "name": "stdout",
     "output_type": "stream",
     "text": [
      "<class 'pandas.core.frame.DataFrame'>\n",
      "RangeIndex: 16715 entries, 0 to 16714\n",
      "Data columns (total 12 columns):\n",
      "name               16713 non-null object\n",
      "platform           16715 non-null object\n",
      "year_of_release    16446 non-null datetime64[ns]\n",
      "genre              16713 non-null object\n",
      "na_sales           16715 non-null float64\n",
      "eu_sales           16715 non-null float64\n",
      "jp_sales           16715 non-null float64\n",
      "other_sales        16715 non-null float64\n",
      "critic_score       8137 non-null float64\n",
      "user_score         7590 non-null float64\n",
      "rating             9949 non-null object\n",
      "year               16446 non-null float64\n",
      "dtypes: datetime64[ns](1), float64(7), object(4)\n",
      "memory usage: 1.5+ MB\n"
     ]
    }
   ],
   "source": [
    "df.info()"
   ]
  },
  {
   "cell_type": "markdown",
   "metadata": {},
   "source": [
    "\n",
    "* в колонке ['Year_of_Release'] переведены значения из строки в дату. \n",
    "* в колонке ['User_Score'] переведены значения из строкового типа в числа. Увеличились пропуски на 2424 шт., так как аббревиатура tbd была заменена на NaN.\n"
   ]
  },
  {
   "cell_type": "markdown",
   "metadata": {},
   "source": [
    "### 2.3. Обработка пропусков<a class=\"anchor\" id=\"2-3-bullet\"></a>"
   ]
  },
  {
   "cell_type": "markdown",
   "metadata": {},
   "source": [
    "   \n",
    "    В колонке ['Name'] и ['Genre'] пропущено 2 значения.\n",
    "    Для этих пропущенных значений сложно предположить логичную замену.\n",
    "    Посмотрим на строки"
   ]
  },
  {
   "cell_type": "code",
   "execution_count": 10,
   "metadata": {},
   "outputs": [
    {
     "data": {
      "text/html": [
       "<div>\n",
       "<style scoped>\n",
       "    .dataframe tbody tr th:only-of-type {\n",
       "        vertical-align: middle;\n",
       "    }\n",
       "\n",
       "    .dataframe tbody tr th {\n",
       "        vertical-align: top;\n",
       "    }\n",
       "\n",
       "    .dataframe thead th {\n",
       "        text-align: right;\n",
       "    }\n",
       "</style>\n",
       "<table border=\"1\" class=\"dataframe\">\n",
       "  <thead>\n",
       "    <tr style=\"text-align: right;\">\n",
       "      <th></th>\n",
       "      <th>name</th>\n",
       "      <th>platform</th>\n",
       "      <th>year_of_release</th>\n",
       "      <th>genre</th>\n",
       "      <th>na_sales</th>\n",
       "      <th>eu_sales</th>\n",
       "      <th>jp_sales</th>\n",
       "      <th>other_sales</th>\n",
       "      <th>critic_score</th>\n",
       "      <th>user_score</th>\n",
       "      <th>rating</th>\n",
       "      <th>year</th>\n",
       "    </tr>\n",
       "  </thead>\n",
       "  <tbody>\n",
       "    <tr>\n",
       "      <td>659</td>\n",
       "      <td>NaN</td>\n",
       "      <td>GEN</td>\n",
       "      <td>1993-01-01</td>\n",
       "      <td>NaN</td>\n",
       "      <td>1.78</td>\n",
       "      <td>0.53</td>\n",
       "      <td>0.00</td>\n",
       "      <td>0.08</td>\n",
       "      <td>NaN</td>\n",
       "      <td>NaN</td>\n",
       "      <td>NaN</td>\n",
       "      <td>1993.0</td>\n",
       "    </tr>\n",
       "    <tr>\n",
       "      <td>14244</td>\n",
       "      <td>NaN</td>\n",
       "      <td>GEN</td>\n",
       "      <td>1993-01-01</td>\n",
       "      <td>NaN</td>\n",
       "      <td>0.00</td>\n",
       "      <td>0.00</td>\n",
       "      <td>0.03</td>\n",
       "      <td>0.00</td>\n",
       "      <td>NaN</td>\n",
       "      <td>NaN</td>\n",
       "      <td>NaN</td>\n",
       "      <td>1993.0</td>\n",
       "    </tr>\n",
       "  </tbody>\n",
       "</table>\n",
       "</div>"
      ],
      "text/plain": [
       "      name platform year_of_release genre  na_sales  eu_sales  jp_sales  \\\n",
       "659    NaN      GEN      1993-01-01   NaN      1.78      0.53      0.00   \n",
       "14244  NaN      GEN      1993-01-01   NaN      0.00      0.00      0.03   \n",
       "\n",
       "       other_sales  critic_score  user_score rating    year  \n",
       "659           0.08           NaN         NaN    NaN  1993.0  \n",
       "14244         0.00           NaN         NaN    NaN  1993.0  "
      ]
     },
     "execution_count": 10,
     "metadata": {},
     "output_type": "execute_result"
    }
   ],
   "source": [
    "df.query('name.isnull() & genre.isnull()')"
   ]
  },
  {
   "cell_type": "markdown",
   "metadata": {},
   "source": [
    "    Пропуски по двум колонкам совпадают. В этих двух строчках нам известна только платформа,\n",
    "    год и сумма продаж. Так как эти игры были выпущены еще в 1993 году, данные вероятно не\n",
    "    актуальны для планирования рекламных компаний 2017 года. Удалим эти строки, так как они \n",
    "    не несут полезной информации для анализа.\n"
   ]
  },
  {
   "cell_type": "code",
   "execution_count": 11,
   "metadata": {},
   "outputs": [],
   "source": [
    "df.dropna(subset = ['name'], inplace = True)"
   ]
  },
  {
   "cell_type": "code",
   "execution_count": 12,
   "metadata": {},
   "outputs": [
    {
     "name": "stdout",
     "output_type": "stream",
     "text": [
      "<class 'pandas.core.frame.DataFrame'>\n",
      "Int64Index: 16713 entries, 0 to 16714\n",
      "Data columns (total 12 columns):\n",
      "name               16713 non-null object\n",
      "platform           16713 non-null object\n",
      "year_of_release    16444 non-null datetime64[ns]\n",
      "genre              16713 non-null object\n",
      "na_sales           16713 non-null float64\n",
      "eu_sales           16713 non-null float64\n",
      "jp_sales           16713 non-null float64\n",
      "other_sales        16713 non-null float64\n",
      "critic_score       8137 non-null float64\n",
      "user_score         7590 non-null float64\n",
      "rating             9949 non-null object\n",
      "year               16444 non-null float64\n",
      "dtypes: datetime64[ns](1), float64(7), object(4)\n",
      "memory usage: 1.7+ MB\n"
     ]
    }
   ],
   "source": [
    "df.info()"
   ]
  },
  {
   "cell_type": "markdown",
   "metadata": {},
   "source": [
    "\n",
    "\n",
    "    * в колонке ['year_of_release'] пропущено 269 значений, это 1,6% от общего объема данных.\n",
    "    Заполнение средним значением или медианой будет не корректно, предположить логическую \n",
    "    замену не возможно.\n",
    "\n",
    "    * в колонке ['critic_score'] и ['user_score'] большой объем пропущенных значений. Это \n",
    "    значит, что рейтинга от критиков или пользователей нет. Заполнение средним значением \n",
    "    или медианой будет не корректно, предположить логическую замену не возможно. Но так как \n",
    "    пропущенных значений много, есть риск, что значения NaN могут привести к некорректным \n",
    "    результатам при группировке данных и рассчетах. Данные пропуски будут заполнены значением\n",
    "    \"-1\", чтобы не спутать с реальными данными.\n",
    "\n",
    "    * в колонке ['rating'] пропущено 6764 значения. Пропущенные значения означают, что\n",
    "    международная ассоциация не определила рейтинг компьютерных игр и не присвоила им подходящую\n",
    "    возрастную категорию. Либо, что эти данные не были занесены. В любом случае, логически\n",
    "    данные пропуски не заполнить. Можно заменить пропущенные данные на \"no rating\"."
   ]
  },
  {
   "cell_type": "code",
   "execution_count": 13,
   "metadata": {},
   "outputs": [],
   "source": [
    "df['critic_score'] = df['critic_score'].fillna(-1)\n",
    "df['user_score'] = df['user_score'].fillna(-1)\n",
    "df['rating'] = df['rating'].fillna('no rating')"
   ]
  },
  {
   "cell_type": "code",
   "execution_count": 14,
   "metadata": {},
   "outputs": [
    {
     "name": "stdout",
     "output_type": "stream",
     "text": [
      "<class 'pandas.core.frame.DataFrame'>\n",
      "Int64Index: 16713 entries, 0 to 16714\n",
      "Data columns (total 12 columns):\n",
      "name               16713 non-null object\n",
      "platform           16713 non-null object\n",
      "year_of_release    16444 non-null datetime64[ns]\n",
      "genre              16713 non-null object\n",
      "na_sales           16713 non-null float64\n",
      "eu_sales           16713 non-null float64\n",
      "jp_sales           16713 non-null float64\n",
      "other_sales        16713 non-null float64\n",
      "critic_score       16713 non-null float64\n",
      "user_score         16713 non-null float64\n",
      "rating             16713 non-null object\n",
      "year               16444 non-null float64\n",
      "dtypes: datetime64[ns](1), float64(7), object(4)\n",
      "memory usage: 1.7+ MB\n"
     ]
    }
   ],
   "source": [
    "df.info()"
   ]
  },
  {
   "cell_type": "markdown",
   "metadata": {},
   "source": [
    "    Пропуски остались в одной колонке ['year'] - 1.6%"
   ]
  },
  {
   "cell_type": "markdown",
   "metadata": {},
   "source": [
    "### 2.4. Поиск дубликатов<a class=\"anchor\" id=\"2-4-bullet\"></a>"
   ]
  },
  {
   "cell_type": "code",
   "execution_count": 15,
   "metadata": {},
   "outputs": [
    {
     "data": {
      "text/plain": [
       "0"
      ]
     },
     "execution_count": 15,
     "metadata": {},
     "output_type": "execute_result"
    }
   ],
   "source": [
    "df.duplicated().sum()"
   ]
  },
  {
   "cell_type": "code",
   "execution_count": 16,
   "metadata": {},
   "outputs": [
    {
     "data": {
      "text/plain": [
       "array(['Wii', 'NES', 'GB', 'DS', 'X360', 'PS3', 'PS2', 'SNES', 'GBA',\n",
       "       'PS4', '3DS', 'N64', 'PS', 'XB', 'PC', '2600', 'PSP', 'XOne',\n",
       "       'WiiU', 'GC', 'GEN', 'DC', 'PSV', 'SAT', 'SCD', 'WS', 'NG', 'TG16',\n",
       "       '3DO', 'GG', 'PCFX'], dtype=object)"
      ]
     },
     "execution_count": 16,
     "metadata": {},
     "output_type": "execute_result"
    }
   ],
   "source": [
    "df['platform'].unique()"
   ]
  },
  {
   "cell_type": "code",
   "execution_count": 17,
   "metadata": {},
   "outputs": [
    {
     "data": {
      "text/plain": [
       "array(['Sports', 'Platform', 'Racing', 'Role-Playing', 'Puzzle', 'Misc',\n",
       "       'Shooter', 'Simulation', 'Action', 'Fighting', 'Adventure',\n",
       "       'Strategy'], dtype=object)"
      ]
     },
     "execution_count": 17,
     "metadata": {},
     "output_type": "execute_result"
    }
   ],
   "source": [
    "df['genre'].unique()"
   ]
  },
  {
   "cell_type": "code",
   "execution_count": 18,
   "metadata": {},
   "outputs": [
    {
     "data": {
      "text/plain": [
       "array(['E', 'no rating', 'M', 'T', 'E10+', 'K-A', 'AO', 'EC', 'RP'],\n",
       "      dtype=object)"
      ]
     },
     "execution_count": 18,
     "metadata": {},
     "output_type": "execute_result"
    }
   ],
   "source": [
    "df['rating'].unique()"
   ]
  },
  {
   "cell_type": "markdown",
   "metadata": {},
   "source": [
    "    В датасете не обнаружены полные дубликаты, а также скрытые дубликаты в категориальных\n",
    "    значениях.\n",
    "\n",
    "    Далее в колонке ['rating'] будут объедены категории «E» и «K-A», так как они обозначают\n",
    "    одно и тоже \"игры для всех\". "
   ]
  },
  {
   "cell_type": "markdown",
   "metadata": {},
   "source": [
    "### 2.5. Cуммарные продажи во всех регионах<a class=\"anchor\" id=\"2-5-bullet\"></a>"
   ]
  },
  {
   "cell_type": "code",
   "execution_count": 19,
   "metadata": {},
   "outputs": [
    {
     "data": {
      "text/html": [
       "<div>\n",
       "<style scoped>\n",
       "    .dataframe tbody tr th:only-of-type {\n",
       "        vertical-align: middle;\n",
       "    }\n",
       "\n",
       "    .dataframe tbody tr th {\n",
       "        vertical-align: top;\n",
       "    }\n",
       "\n",
       "    .dataframe thead th {\n",
       "        text-align: right;\n",
       "    }\n",
       "</style>\n",
       "<table border=\"1\" class=\"dataframe\">\n",
       "  <thead>\n",
       "    <tr style=\"text-align: right;\">\n",
       "      <th></th>\n",
       "      <th>name</th>\n",
       "      <th>platform</th>\n",
       "      <th>year_of_release</th>\n",
       "      <th>genre</th>\n",
       "      <th>na_sales</th>\n",
       "      <th>eu_sales</th>\n",
       "      <th>jp_sales</th>\n",
       "      <th>other_sales</th>\n",
       "      <th>critic_score</th>\n",
       "      <th>user_score</th>\n",
       "      <th>rating</th>\n",
       "      <th>year</th>\n",
       "      <th>total_sales</th>\n",
       "    </tr>\n",
       "  </thead>\n",
       "  <tbody>\n",
       "    <tr>\n",
       "      <td>0</td>\n",
       "      <td>Wii Sports</td>\n",
       "      <td>Wii</td>\n",
       "      <td>2006-01-01</td>\n",
       "      <td>Sports</td>\n",
       "      <td>41.36</td>\n",
       "      <td>28.96</td>\n",
       "      <td>3.77</td>\n",
       "      <td>8.45</td>\n",
       "      <td>76.0</td>\n",
       "      <td>8.0</td>\n",
       "      <td>E</td>\n",
       "      <td>2006.0</td>\n",
       "      <td>82.54</td>\n",
       "    </tr>\n",
       "    <tr>\n",
       "      <td>1</td>\n",
       "      <td>Super Mario Bros.</td>\n",
       "      <td>NES</td>\n",
       "      <td>1985-01-01</td>\n",
       "      <td>Platform</td>\n",
       "      <td>29.08</td>\n",
       "      <td>3.58</td>\n",
       "      <td>6.81</td>\n",
       "      <td>0.77</td>\n",
       "      <td>-1.0</td>\n",
       "      <td>-1.0</td>\n",
       "      <td>no rating</td>\n",
       "      <td>1985.0</td>\n",
       "      <td>40.24</td>\n",
       "    </tr>\n",
       "    <tr>\n",
       "      <td>2</td>\n",
       "      <td>Mario Kart Wii</td>\n",
       "      <td>Wii</td>\n",
       "      <td>2008-01-01</td>\n",
       "      <td>Racing</td>\n",
       "      <td>15.68</td>\n",
       "      <td>12.76</td>\n",
       "      <td>3.79</td>\n",
       "      <td>3.29</td>\n",
       "      <td>82.0</td>\n",
       "      <td>8.3</td>\n",
       "      <td>E</td>\n",
       "      <td>2008.0</td>\n",
       "      <td>35.52</td>\n",
       "    </tr>\n",
       "    <tr>\n",
       "      <td>3</td>\n",
       "      <td>Wii Sports Resort</td>\n",
       "      <td>Wii</td>\n",
       "      <td>2009-01-01</td>\n",
       "      <td>Sports</td>\n",
       "      <td>15.61</td>\n",
       "      <td>10.93</td>\n",
       "      <td>3.28</td>\n",
       "      <td>2.95</td>\n",
       "      <td>80.0</td>\n",
       "      <td>8.0</td>\n",
       "      <td>E</td>\n",
       "      <td>2009.0</td>\n",
       "      <td>32.77</td>\n",
       "    </tr>\n",
       "    <tr>\n",
       "      <td>4</td>\n",
       "      <td>Pokemon Red/Pokemon Blue</td>\n",
       "      <td>GB</td>\n",
       "      <td>1996-01-01</td>\n",
       "      <td>Role-Playing</td>\n",
       "      <td>11.27</td>\n",
       "      <td>8.89</td>\n",
       "      <td>10.22</td>\n",
       "      <td>1.00</td>\n",
       "      <td>-1.0</td>\n",
       "      <td>-1.0</td>\n",
       "      <td>no rating</td>\n",
       "      <td>1996.0</td>\n",
       "      <td>31.38</td>\n",
       "    </tr>\n",
       "  </tbody>\n",
       "</table>\n",
       "</div>"
      ],
      "text/plain": [
       "                       name platform year_of_release         genre  na_sales  \\\n",
       "0                Wii Sports      Wii      2006-01-01        Sports     41.36   \n",
       "1         Super Mario Bros.      NES      1985-01-01      Platform     29.08   \n",
       "2            Mario Kart Wii      Wii      2008-01-01        Racing     15.68   \n",
       "3         Wii Sports Resort      Wii      2009-01-01        Sports     15.61   \n",
       "4  Pokemon Red/Pokemon Blue       GB      1996-01-01  Role-Playing     11.27   \n",
       "\n",
       "   eu_sales  jp_sales  other_sales  critic_score  user_score     rating  \\\n",
       "0     28.96      3.77         8.45          76.0         8.0          E   \n",
       "1      3.58      6.81         0.77          -1.0        -1.0  no rating   \n",
       "2     12.76      3.79         3.29          82.0         8.3          E   \n",
       "3     10.93      3.28         2.95          80.0         8.0          E   \n",
       "4      8.89     10.22         1.00          -1.0        -1.0  no rating   \n",
       "\n",
       "     year  total_sales  \n",
       "0  2006.0        82.54  \n",
       "1  1985.0        40.24  \n",
       "2  2008.0        35.52  \n",
       "3  2009.0        32.77  \n",
       "4  1996.0        31.38  "
      ]
     },
     "execution_count": 19,
     "metadata": {},
     "output_type": "execute_result"
    }
   ],
   "source": [
    "df['total_sales'] = df['na_sales'] + df['eu_sales'] + df['jp_sales'] + df['other_sales']\n",
    "df.head()"
   ]
  },
  {
   "cell_type": "code",
   "execution_count": 20,
   "metadata": {},
   "outputs": [
    {
     "data": {
      "text/plain": [
       "Text(0.5, 1.0, 'Cуммарные продажи игр по годам')"
      ]
     },
     "execution_count": 20,
     "metadata": {},
     "output_type": "execute_result"
    },
    {
     "data": {
      "image/png": "[encoded data removed]",
      "text/plain": [
       "<Figure size 720x432 with 1 Axes>"
      ]
     },
     "metadata": {
      "needs_background": "light"
     },
     "output_type": "display_data"
    }
   ],
   "source": [
    "df.pivot_table(index='year', values='total_sales', aggfunc='sum').plot(kind='bar', grid=True, figsize=(10, 6))\n",
    "plt.title('Cуммарные продажи игр по годам')"
   ]
  },
  {
   "cell_type": "markdown",
   "metadata": {},
   "source": [
    "   \n",
    "    Посмотрим на распределение сумм продаж по годам. Мы видим низкие продажи до 100 млн $\n",
    "    в период с 1980г по 1995 год. Далее начинается рост. Пик продаж с 2007 по 2008 год.\n",
    "    Даллее начинается спад. Это может быть связано с тем, что мобильные игры вытесняют \n",
    "    консольные и компьютерные. 51% всей прибыли в игровой индустрии приходиться как раз-таки\n",
    "    на игры для мобильных устройств. Согласно аналитическим данным Newzoo, отрыв мобильных \n",
    "    игр от консольных, браузерных и компьютерных будет только увеличиваться с каждым годом."
   ]
  },
  {
   "cell_type": "markdown",
   "metadata": {},
   "source": [
    "## Шаг 3. Исследовательский анализ данных<a class=\"anchor\" id=\"3-bullet\"></a>"
   ]
  },
  {
   "cell_type": "markdown",
   "metadata": {},
   "source": [
    "### 3.1. Количество игр, выпущенные в разные годы <a class=\"anchor\" id=\"3-1-bullet\"></a> "
   ]
  },
  {
   "cell_type": "code",
   "execution_count": 57,
   "metadata": {},
   "outputs": [
    {
     "data": {
      "text/plain": [
       "Text(0.5, 1.0, 'Количество игр, выпущенные в разные годы')"
      ]
     },
     "execution_count": 57,
     "metadata": {},
     "output_type": "execute_result"
    },
    {
     "data": {
      "image/png": "[encoded data removed]",
      "text/plain": [
       "<Figure size 720x432 with 1 Axes>"
      ]
     },
     "metadata": {
      "needs_background": "light"
     },
     "output_type": "display_data"
    }
   ],
   "source": [
    "df.pivot_table(index='year', values='name', aggfunc='count').plot(kind='bar', grid=True, figsize=(10, 6))\n",
    "plt.title('Количество игр, выпущенные в разные годы')"
   ]
  },
  {
   "cell_type": "code",
   "execution_count": 22,
   "metadata": {},
   "outputs": [
    {
     "data": {
      "text/html": [
       "<div>\n",
       "<style scoped>\n",
       "    .dataframe tbody tr th:only-of-type {\n",
       "        vertical-align: middle;\n",
       "    }\n",
       "\n",
       "    .dataframe tbody tr th {\n",
       "        vertical-align: top;\n",
       "    }\n",
       "\n",
       "    .dataframe thead th {\n",
       "        text-align: right;\n",
       "    }\n",
       "</style>\n",
       "<table border=\"1\" class=\"dataframe\">\n",
       "  <thead>\n",
       "    <tr style=\"text-align: right;\">\n",
       "      <th></th>\n",
       "      <th>count</th>\n",
       "    </tr>\n",
       "    <tr>\n",
       "      <th>year</th>\n",
       "      <th></th>\n",
       "    </tr>\n",
       "  </thead>\n",
       "  <tbody>\n",
       "    <tr>\n",
       "      <td>2008.0</td>\n",
       "      <td>1427</td>\n",
       "    </tr>\n",
       "    <tr>\n",
       "      <td>2009.0</td>\n",
       "      <td>1426</td>\n",
       "    </tr>\n",
       "    <tr>\n",
       "      <td>2010.0</td>\n",
       "      <td>1255</td>\n",
       "    </tr>\n",
       "    <tr>\n",
       "      <td>2007.0</td>\n",
       "      <td>1197</td>\n",
       "    </tr>\n",
       "    <tr>\n",
       "      <td>2011.0</td>\n",
       "      <td>1136</td>\n",
       "    </tr>\n",
       "    <tr>\n",
       "      <td>2006.0</td>\n",
       "      <td>1006</td>\n",
       "    </tr>\n",
       "    <tr>\n",
       "      <td>2005.0</td>\n",
       "      <td>939</td>\n",
       "    </tr>\n",
       "    <tr>\n",
       "      <td>2002.0</td>\n",
       "      <td>829</td>\n",
       "    </tr>\n",
       "    <tr>\n",
       "      <td>2003.0</td>\n",
       "      <td>775</td>\n",
       "    </tr>\n",
       "    <tr>\n",
       "      <td>2004.0</td>\n",
       "      <td>762</td>\n",
       "    </tr>\n",
       "    <tr>\n",
       "      <td>2012.0</td>\n",
       "      <td>653</td>\n",
       "    </tr>\n",
       "    <tr>\n",
       "      <td>2015.0</td>\n",
       "      <td>606</td>\n",
       "    </tr>\n",
       "    <tr>\n",
       "      <td>2014.0</td>\n",
       "      <td>581</td>\n",
       "    </tr>\n",
       "    <tr>\n",
       "      <td>2013.0</td>\n",
       "      <td>544</td>\n",
       "    </tr>\n",
       "    <tr>\n",
       "      <td>2016.0</td>\n",
       "      <td>502</td>\n",
       "    </tr>\n",
       "  </tbody>\n",
       "</table>\n",
       "</div>"
      ],
      "text/plain": [
       "        count\n",
       "year         \n",
       "2008.0   1427\n",
       "2009.0   1426\n",
       "2010.0   1255\n",
       "2007.0   1197\n",
       "2011.0   1136\n",
       "2006.0   1006\n",
       "2005.0    939\n",
       "2002.0    829\n",
       "2003.0    775\n",
       "2004.0    762\n",
       "2012.0    653\n",
       "2015.0    606\n",
       "2014.0    581\n",
       "2013.0    544\n",
       "2016.0    502"
      ]
     },
     "execution_count": 22,
     "metadata": {},
     "output_type": "execute_result"
    }
   ],
   "source": [
    "df.groupby('year')['name'].agg(['count']).sort_values('count',ascending=False).head(15)"
   ]
  },
  {
   "cell_type": "markdown",
   "metadata": {},
   "source": [
    "    Посмотрим на количество игр, выпущенные в разные года.\n",
    "    Самое низкое количество игр было выпущено в период с 1980г по 1994 год.\n",
    "    Далее начинается рост. Резкий скачок в 2002 году. Пик выпуска игр с 2008 по 2009 год.\n",
    "    Даллее начинается спад. Как было сказано выше, спад связан с развитием мобильных игр."
   ]
  },
  {
   "cell_type": "markdown",
   "metadata": {},
   "source": [
    "### 3.2. Платформы<a class=\"anchor\" id=\"3-2-bullet\"></a>"
   ]
  },
  {
   "cell_type": "code",
   "execution_count": 58,
   "metadata": {},
   "outputs": [
    {
     "data": {
      "text/plain": [
       "Text(0.5, 1.0, 'Количество игр, выпущенные на разных платформах. ')"
      ]
     },
     "execution_count": 58,
     "metadata": {},
     "output_type": "execute_result"
    },
    {
     "data": {
      "image/png": "[encoded data removed]",
      "text/plain": [
       "<Figure size 576x288 with 1 Axes>"
      ]
     },
     "metadata": {
      "needs_background": "light"
     },
     "output_type": "display_data"
    }
   ],
   "source": [
    "df.groupby('platform')['total_sales'].agg(['sum']).sort_values('sum',ascending=False).plot(kind='bar', grid=True, figsize=(8, 4))\n",
    "plt.title('Количество игр, выпущенные на разных платформах. ')"
   ]
  },
  {
   "cell_type": "code",
   "execution_count": 24,
   "metadata": {},
   "outputs": [
    {
     "data": {
      "text/html": [
       "<div>\n",
       "<style scoped>\n",
       "    .dataframe tbody tr th:only-of-type {\n",
       "        vertical-align: middle;\n",
       "    }\n",
       "\n",
       "    .dataframe tbody tr th {\n",
       "        vertical-align: top;\n",
       "    }\n",
       "\n",
       "    .dataframe thead th {\n",
       "        text-align: right;\n",
       "    }\n",
       "</style>\n",
       "<table border=\"1\" class=\"dataframe\">\n",
       "  <thead>\n",
       "    <tr style=\"text-align: right;\">\n",
       "      <th></th>\n",
       "      <th>sum</th>\n",
       "    </tr>\n",
       "    <tr>\n",
       "      <th>platform</th>\n",
       "      <th></th>\n",
       "    </tr>\n",
       "  </thead>\n",
       "  <tbody>\n",
       "    <tr>\n",
       "      <td>PS2</td>\n",
       "      <td>1255.77</td>\n",
       "    </tr>\n",
       "    <tr>\n",
       "      <td>X360</td>\n",
       "      <td>971.42</td>\n",
       "    </tr>\n",
       "    <tr>\n",
       "      <td>PS3</td>\n",
       "      <td>939.65</td>\n",
       "    </tr>\n",
       "    <tr>\n",
       "      <td>Wii</td>\n",
       "      <td>907.51</td>\n",
       "    </tr>\n",
       "    <tr>\n",
       "      <td>DS</td>\n",
       "      <td>806.12</td>\n",
       "    </tr>\n",
       "    <tr>\n",
       "      <td>PS</td>\n",
       "      <td>730.86</td>\n",
       "    </tr>\n",
       "  </tbody>\n",
       "</table>\n",
       "</div>"
      ],
      "text/plain": [
       "              sum\n",
       "platform         \n",
       "PS2       1255.77\n",
       "X360       971.42\n",
       "PS3        939.65\n",
       "Wii        907.51\n",
       "DS         806.12\n",
       "PS         730.86"
      ]
     },
     "execution_count": 24,
     "metadata": {},
     "output_type": "execute_result"
    }
   ],
   "source": [
    "df.groupby('platform')['total_sales'].agg(['sum']).sort_values('sum',ascending=False).head(6)"
   ]
  },
  {
   "cell_type": "markdown",
   "metadata": {},
   "source": [
    "Проанализируем 6 самых продаваемых платформ: PS2, X360, PS3, Wii, DS, PS."
   ]
  },
  {
   "cell_type": "code",
   "execution_count": 25,
   "metadata": {},
   "outputs": [],
   "source": [
    "platform_list = ['PS2', 'X360', 'PS3', 'Wii', 'DS', 'PS']"
   ]
  },
  {
   "cell_type": "code",
   "execution_count": 26,
   "metadata": {},
   "outputs": [
    {
     "data": {
      "text/plain": [
       "<matplotlib.axes._subplots.AxesSubplot at 0x7f020c4c5690>"
      ]
     },
     "execution_count": 26,
     "metadata": {},
     "output_type": "execute_result"
    },
    {
     "data": {
      "image/png": "[encoded data removed]",
      "text/plain": [
       "<Figure size 1440x432 with 1 Axes>"
      ]
     },
     "metadata": {
      "needs_background": "light"
     },
     "output_type": "display_data"
    }
   ],
   "source": [
    "df.query('platform == @platform_list').pivot_table(index='year', columns='platform', values='total_sales', aggfunc='sum').plot(style='o-', grid=True, figsize=(20, 6))\n"
   ]
  },
  {
   "cell_type": "code",
   "execution_count": 27,
   "metadata": {},
   "outputs": [
    {
     "data": {
      "text/html": [
       "<div>\n",
       "<style scoped>\n",
       "    .dataframe tbody tr th:only-of-type {\n",
       "        vertical-align: middle;\n",
       "    }\n",
       "\n",
       "    .dataframe tbody tr th {\n",
       "        vertical-align: top;\n",
       "    }\n",
       "\n",
       "    .dataframe thead th {\n",
       "        text-align: right;\n",
       "    }\n",
       "</style>\n",
       "<table border=\"1\" class=\"dataframe\">\n",
       "  <thead>\n",
       "    <tr style=\"text-align: right;\">\n",
       "      <th>platform</th>\n",
       "      <th>DS</th>\n",
       "      <th>PS</th>\n",
       "      <th>PS2</th>\n",
       "      <th>PS3</th>\n",
       "      <th>Wii</th>\n",
       "      <th>X360</th>\n",
       "    </tr>\n",
       "    <tr>\n",
       "      <th>year</th>\n",
       "      <th></th>\n",
       "      <th></th>\n",
       "      <th></th>\n",
       "      <th></th>\n",
       "      <th></th>\n",
       "      <th></th>\n",
       "    </tr>\n",
       "  </thead>\n",
       "  <tbody>\n",
       "    <tr>\n",
       "      <td>1985.0</td>\n",
       "      <td>0.02</td>\n",
       "      <td>NaN</td>\n",
       "      <td>NaN</td>\n",
       "      <td>NaN</td>\n",
       "      <td>NaN</td>\n",
       "      <td>NaN</td>\n",
       "    </tr>\n",
       "    <tr>\n",
       "      <td>1994.0</td>\n",
       "      <td>NaN</td>\n",
       "      <td>6.03</td>\n",
       "      <td>NaN</td>\n",
       "      <td>NaN</td>\n",
       "      <td>NaN</td>\n",
       "      <td>NaN</td>\n",
       "    </tr>\n",
       "    <tr>\n",
       "      <td>1995.0</td>\n",
       "      <td>NaN</td>\n",
       "      <td>35.96</td>\n",
       "      <td>NaN</td>\n",
       "      <td>NaN</td>\n",
       "      <td>NaN</td>\n",
       "      <td>NaN</td>\n",
       "    </tr>\n",
       "    <tr>\n",
       "      <td>1996.0</td>\n",
       "      <td>NaN</td>\n",
       "      <td>94.70</td>\n",
       "      <td>NaN</td>\n",
       "      <td>NaN</td>\n",
       "      <td>NaN</td>\n",
       "      <td>NaN</td>\n",
       "    </tr>\n",
       "    <tr>\n",
       "      <td>1997.0</td>\n",
       "      <td>NaN</td>\n",
       "      <td>136.17</td>\n",
       "      <td>NaN</td>\n",
       "      <td>NaN</td>\n",
       "      <td>NaN</td>\n",
       "      <td>NaN</td>\n",
       "    </tr>\n",
       "    <tr>\n",
       "      <td>1998.0</td>\n",
       "      <td>NaN</td>\n",
       "      <td>169.49</td>\n",
       "      <td>NaN</td>\n",
       "      <td>NaN</td>\n",
       "      <td>NaN</td>\n",
       "      <td>NaN</td>\n",
       "    </tr>\n",
       "    <tr>\n",
       "      <td>1999.0</td>\n",
       "      <td>NaN</td>\n",
       "      <td>144.53</td>\n",
       "      <td>NaN</td>\n",
       "      <td>NaN</td>\n",
       "      <td>NaN</td>\n",
       "      <td>NaN</td>\n",
       "    </tr>\n",
       "    <tr>\n",
       "      <td>2000.0</td>\n",
       "      <td>NaN</td>\n",
       "      <td>96.37</td>\n",
       "      <td>39.17</td>\n",
       "      <td>NaN</td>\n",
       "      <td>NaN</td>\n",
       "      <td>NaN</td>\n",
       "    </tr>\n",
       "    <tr>\n",
       "      <td>2001.0</td>\n",
       "      <td>NaN</td>\n",
       "      <td>35.59</td>\n",
       "      <td>166.43</td>\n",
       "      <td>NaN</td>\n",
       "      <td>NaN</td>\n",
       "      <td>NaN</td>\n",
       "    </tr>\n",
       "    <tr>\n",
       "      <td>2002.0</td>\n",
       "      <td>NaN</td>\n",
       "      <td>6.67</td>\n",
       "      <td>205.38</td>\n",
       "      <td>NaN</td>\n",
       "      <td>NaN</td>\n",
       "      <td>NaN</td>\n",
       "    </tr>\n",
       "    <tr>\n",
       "      <td>2003.0</td>\n",
       "      <td>NaN</td>\n",
       "      <td>2.07</td>\n",
       "      <td>184.31</td>\n",
       "      <td>NaN</td>\n",
       "      <td>NaN</td>\n",
       "      <td>NaN</td>\n",
       "    </tr>\n",
       "    <tr>\n",
       "      <td>2004.0</td>\n",
       "      <td>17.27</td>\n",
       "      <td>NaN</td>\n",
       "      <td>211.81</td>\n",
       "      <td>NaN</td>\n",
       "      <td>NaN</td>\n",
       "      <td>NaN</td>\n",
       "    </tr>\n",
       "    <tr>\n",
       "      <td>2005.0</td>\n",
       "      <td>130.14</td>\n",
       "      <td>NaN</td>\n",
       "      <td>160.66</td>\n",
       "      <td>NaN</td>\n",
       "      <td>NaN</td>\n",
       "      <td>8.25</td>\n",
       "    </tr>\n",
       "    <tr>\n",
       "      <td>2006.0</td>\n",
       "      <td>119.81</td>\n",
       "      <td>NaN</td>\n",
       "      <td>103.42</td>\n",
       "      <td>20.96</td>\n",
       "      <td>137.15</td>\n",
       "      <td>51.62</td>\n",
       "    </tr>\n",
       "    <tr>\n",
       "      <td>2007.0</td>\n",
       "      <td>146.94</td>\n",
       "      <td>NaN</td>\n",
       "      <td>75.99</td>\n",
       "      <td>73.19</td>\n",
       "      <td>152.77</td>\n",
       "      <td>95.41</td>\n",
       "    </tr>\n",
       "    <tr>\n",
       "      <td>2008.0</td>\n",
       "      <td>145.31</td>\n",
       "      <td>NaN</td>\n",
       "      <td>53.90</td>\n",
       "      <td>118.52</td>\n",
       "      <td>171.32</td>\n",
       "      <td>135.26</td>\n",
       "    </tr>\n",
       "    <tr>\n",
       "      <td>2009.0</td>\n",
       "      <td>119.54</td>\n",
       "      <td>NaN</td>\n",
       "      <td>26.40</td>\n",
       "      <td>130.93</td>\n",
       "      <td>206.97</td>\n",
       "      <td>120.29</td>\n",
       "    </tr>\n",
       "    <tr>\n",
       "      <td>2010.0</td>\n",
       "      <td>85.02</td>\n",
       "      <td>NaN</td>\n",
       "      <td>5.64</td>\n",
       "      <td>142.17</td>\n",
       "      <td>127.95</td>\n",
       "      <td>170.03</td>\n",
       "    </tr>\n",
       "    <tr>\n",
       "      <td>2011.0</td>\n",
       "      <td>26.18</td>\n",
       "      <td>NaN</td>\n",
       "      <td>0.45</td>\n",
       "      <td>156.78</td>\n",
       "      <td>59.65</td>\n",
       "      <td>143.84</td>\n",
       "    </tr>\n",
       "    <tr>\n",
       "      <td>2012.0</td>\n",
       "      <td>11.01</td>\n",
       "      <td>NaN</td>\n",
       "      <td>NaN</td>\n",
       "      <td>107.36</td>\n",
       "      <td>21.71</td>\n",
       "      <td>99.74</td>\n",
       "    </tr>\n",
       "    <tr>\n",
       "      <td>2013.0</td>\n",
       "      <td>1.54</td>\n",
       "      <td>NaN</td>\n",
       "      <td>NaN</td>\n",
       "      <td>113.25</td>\n",
       "      <td>8.59</td>\n",
       "      <td>88.58</td>\n",
       "    </tr>\n",
       "    <tr>\n",
       "      <td>2014.0</td>\n",
       "      <td>NaN</td>\n",
       "      <td>NaN</td>\n",
       "      <td>NaN</td>\n",
       "      <td>47.76</td>\n",
       "      <td>3.75</td>\n",
       "      <td>34.74</td>\n",
       "    </tr>\n",
       "    <tr>\n",
       "      <td>2015.0</td>\n",
       "      <td>NaN</td>\n",
       "      <td>NaN</td>\n",
       "      <td>NaN</td>\n",
       "      <td>16.82</td>\n",
       "      <td>1.14</td>\n",
       "      <td>11.96</td>\n",
       "    </tr>\n",
       "    <tr>\n",
       "      <td>2016.0</td>\n",
       "      <td>NaN</td>\n",
       "      <td>NaN</td>\n",
       "      <td>NaN</td>\n",
       "      <td>3.60</td>\n",
       "      <td>0.18</td>\n",
       "      <td>1.52</td>\n",
       "    </tr>\n",
       "  </tbody>\n",
       "</table>\n",
       "</div>"
      ],
      "text/plain": [
       "platform      DS      PS     PS2     PS3     Wii    X360\n",
       "year                                                    \n",
       "1985.0      0.02     NaN     NaN     NaN     NaN     NaN\n",
       "1994.0       NaN    6.03     NaN     NaN     NaN     NaN\n",
       "1995.0       NaN   35.96     NaN     NaN     NaN     NaN\n",
       "1996.0       NaN   94.70     NaN     NaN     NaN     NaN\n",
       "1997.0       NaN  136.17     NaN     NaN     NaN     NaN\n",
       "1998.0       NaN  169.49     NaN     NaN     NaN     NaN\n",
       "1999.0       NaN  144.53     NaN     NaN     NaN     NaN\n",
       "2000.0       NaN   96.37   39.17     NaN     NaN     NaN\n",
       "2001.0       NaN   35.59  166.43     NaN     NaN     NaN\n",
       "2002.0       NaN    6.67  205.38     NaN     NaN     NaN\n",
       "2003.0       NaN    2.07  184.31     NaN     NaN     NaN\n",
       "2004.0     17.27     NaN  211.81     NaN     NaN     NaN\n",
       "2005.0    130.14     NaN  160.66     NaN     NaN    8.25\n",
       "2006.0    119.81     NaN  103.42   20.96  137.15   51.62\n",
       "2007.0    146.94     NaN   75.99   73.19  152.77   95.41\n",
       "2008.0    145.31     NaN   53.90  118.52  171.32  135.26\n",
       "2009.0    119.54     NaN   26.40  130.93  206.97  120.29\n",
       "2010.0     85.02     NaN    5.64  142.17  127.95  170.03\n",
       "2011.0     26.18     NaN    0.45  156.78   59.65  143.84\n",
       "2012.0     11.01     NaN     NaN  107.36   21.71   99.74\n",
       "2013.0      1.54     NaN     NaN  113.25    8.59   88.58\n",
       "2014.0       NaN     NaN     NaN   47.76    3.75   34.74\n",
       "2015.0       NaN     NaN     NaN   16.82    1.14   11.96\n",
       "2016.0       NaN     NaN     NaN    3.60    0.18    1.52"
      ]
     },
     "execution_count": 27,
     "metadata": {},
     "output_type": "execute_result"
    }
   ],
   "source": [
    "df.query('platform == @platform_list').pivot_table(index='year', columns='platform', values='total_sales', aggfunc='sum')"
   ]
  },
  {
   "cell_type": "markdown",
   "metadata": {},
   "source": [
    "\n",
    "\n",
    "Проанализируем 6 самых продаваемых платформ\n",
    "* 1994 - 2003 год, платформа ***PS***, продолжительность продаж 10 лет.\n",
    "* 2000 - 2011 год, платформа ***PS2***, продолжительность продаж 12 лет.\n",
    "* 2004 - 2013 год, платформа ***DS***, продолжительность продаж 10 лет.\n",
    "* 2005 - 2016 год, платформа ***X360***, продолжительность продаж 12 лет.\n",
    "* 2006 - 2016 год, платформа ***PS3***, продолжительность продаж 11 лет.\n",
    "* 2006 - 2016 год, платформа ***Wii***, продолжительность продаж 11 лет.\n",
    "\n",
    "Платформы исчезают за 10-12 лет. 3 платформы, по которым еще есть продажи в 2016 год, приносят малленькую прибыль 3.60 - 0.18 млн $. Это значит, что в ближайшее время платформы пропадут. Необходимо найти платформы, вышедшие 5-6 лет назад, с макисмальной прибылью за последние годы."
   ]
  },
  {
   "cell_type": "code",
   "execution_count": 62,
   "metadata": {},
   "outputs": [
    {
     "data": {
      "text/plain": [
       "Text(0.5, 1.0, 'Продажи по платформам, появившимся после 2010')"
      ]
     },
     "execution_count": 62,
     "metadata": {},
     "output_type": "execute_result"
    },
    {
     "data": {
      "image/png": "[encoded data removed]",
      "text/plain": [
       "<Figure size 720x360 with 1 Axes>"
      ]
     },
     "metadata": {
      "needs_background": "light"
     },
     "output_type": "display_data"
    }
   ],
   "source": [
    "df.query('year > 2010').pivot_table(index='platform', values='total_sales', aggfunc='sum').plot(kind='bar', grid=True, figsize=(10, 5))\n",
    "plt.title('Продажи по платформам, появившимся после 2010')"
   ]
  },
  {
   "cell_type": "code",
   "execution_count": 29,
   "metadata": {},
   "outputs": [
    {
     "data": {
      "text/html": [
       "<div>\n",
       "<style scoped>\n",
       "    .dataframe tbody tr th:only-of-type {\n",
       "        vertical-align: middle;\n",
       "    }\n",
       "\n",
       "    .dataframe tbody tr th {\n",
       "        vertical-align: top;\n",
       "    }\n",
       "\n",
       "    .dataframe thead th {\n",
       "        text-align: right;\n",
       "    }\n",
       "</style>\n",
       "<table border=\"1\" class=\"dataframe\">\n",
       "  <thead>\n",
       "    <tr style=\"text-align: right;\">\n",
       "      <th>year</th>\n",
       "      <th>2011.0</th>\n",
       "      <th>2012.0</th>\n",
       "      <th>2013.0</th>\n",
       "      <th>2014.0</th>\n",
       "      <th>2015.0</th>\n",
       "      <th>2016.0</th>\n",
       "    </tr>\n",
       "    <tr>\n",
       "      <th>platform</th>\n",
       "      <th></th>\n",
       "      <th></th>\n",
       "      <th></th>\n",
       "      <th></th>\n",
       "      <th></th>\n",
       "      <th></th>\n",
       "    </tr>\n",
       "  </thead>\n",
       "  <tbody>\n",
       "    <tr>\n",
       "      <td>3DS</td>\n",
       "      <td>63.20</td>\n",
       "      <td>51.36</td>\n",
       "      <td>56.57</td>\n",
       "      <td>43.76</td>\n",
       "      <td>27.78</td>\n",
       "      <td>15.14</td>\n",
       "    </tr>\n",
       "    <tr>\n",
       "      <td>DS</td>\n",
       "      <td>26.18</td>\n",
       "      <td>11.01</td>\n",
       "      <td>1.54</td>\n",
       "      <td>NaN</td>\n",
       "      <td>NaN</td>\n",
       "      <td>NaN</td>\n",
       "    </tr>\n",
       "    <tr>\n",
       "      <td>PC</td>\n",
       "      <td>35.03</td>\n",
       "      <td>23.22</td>\n",
       "      <td>12.38</td>\n",
       "      <td>13.28</td>\n",
       "      <td>8.52</td>\n",
       "      <td>5.25</td>\n",
       "    </tr>\n",
       "    <tr>\n",
       "      <td>PS2</td>\n",
       "      <td>0.45</td>\n",
       "      <td>NaN</td>\n",
       "      <td>NaN</td>\n",
       "      <td>NaN</td>\n",
       "      <td>NaN</td>\n",
       "      <td>NaN</td>\n",
       "    </tr>\n",
       "    <tr>\n",
       "      <td>PS3</td>\n",
       "      <td>156.78</td>\n",
       "      <td>107.36</td>\n",
       "      <td>113.25</td>\n",
       "      <td>47.76</td>\n",
       "      <td>16.82</td>\n",
       "      <td>3.60</td>\n",
       "    </tr>\n",
       "    <tr>\n",
       "      <td>PS4</td>\n",
       "      <td>NaN</td>\n",
       "      <td>NaN</td>\n",
       "      <td>25.99</td>\n",
       "      <td>100.00</td>\n",
       "      <td>118.90</td>\n",
       "      <td>69.25</td>\n",
       "    </tr>\n",
       "    <tr>\n",
       "      <td>PSP</td>\n",
       "      <td>17.82</td>\n",
       "      <td>7.69</td>\n",
       "      <td>3.14</td>\n",
       "      <td>0.24</td>\n",
       "      <td>0.12</td>\n",
       "      <td>NaN</td>\n",
       "    </tr>\n",
       "    <tr>\n",
       "      <td>PSV</td>\n",
       "      <td>4.63</td>\n",
       "      <td>16.19</td>\n",
       "      <td>10.59</td>\n",
       "      <td>11.90</td>\n",
       "      <td>6.25</td>\n",
       "      <td>4.25</td>\n",
       "    </tr>\n",
       "    <tr>\n",
       "      <td>Wii</td>\n",
       "      <td>59.65</td>\n",
       "      <td>21.71</td>\n",
       "      <td>8.59</td>\n",
       "      <td>3.75</td>\n",
       "      <td>1.14</td>\n",
       "      <td>0.18</td>\n",
       "    </tr>\n",
       "    <tr>\n",
       "      <td>WiiU</td>\n",
       "      <td>NaN</td>\n",
       "      <td>17.56</td>\n",
       "      <td>21.65</td>\n",
       "      <td>22.03</td>\n",
       "      <td>16.35</td>\n",
       "      <td>4.60</td>\n",
       "    </tr>\n",
       "    <tr>\n",
       "      <td>X360</td>\n",
       "      <td>143.84</td>\n",
       "      <td>99.74</td>\n",
       "      <td>88.58</td>\n",
       "      <td>34.74</td>\n",
       "      <td>11.96</td>\n",
       "      <td>1.52</td>\n",
       "    </tr>\n",
       "    <tr>\n",
       "      <td>XOne</td>\n",
       "      <td>NaN</td>\n",
       "      <td>NaN</td>\n",
       "      <td>18.96</td>\n",
       "      <td>54.07</td>\n",
       "      <td>60.14</td>\n",
       "      <td>26.15</td>\n",
       "    </tr>\n",
       "  </tbody>\n",
       "</table>\n",
       "</div>"
      ],
      "text/plain": [
       "year      2011.0  2012.0  2013.0  2014.0  2015.0  2016.0\n",
       "platform                                                \n",
       "3DS        63.20   51.36   56.57   43.76   27.78   15.14\n",
       "DS         26.18   11.01    1.54     NaN     NaN     NaN\n",
       "PC         35.03   23.22   12.38   13.28    8.52    5.25\n",
       "PS2         0.45     NaN     NaN     NaN     NaN     NaN\n",
       "PS3       156.78  107.36  113.25   47.76   16.82    3.60\n",
       "PS4          NaN     NaN   25.99  100.00  118.90   69.25\n",
       "PSP        17.82    7.69    3.14    0.24    0.12     NaN\n",
       "PSV         4.63   16.19   10.59   11.90    6.25    4.25\n",
       "Wii        59.65   21.71    8.59    3.75    1.14    0.18\n",
       "WiiU         NaN   17.56   21.65   22.03   16.35    4.60\n",
       "X360      143.84   99.74   88.58   34.74   11.96    1.52\n",
       "XOne         NaN     NaN   18.96   54.07   60.14   26.15"
      ]
     },
     "execution_count": 29,
     "metadata": {},
     "output_type": "execute_result"
    }
   ],
   "source": [
    "df.query('year > 2010').pivot_table(index='platform', columns='year', values='total_sales', aggfunc='sum')"
   ]
  },
  {
   "cell_type": "markdown",
   "metadata": {},
   "source": [
    "    C 2011 по 2016 год пятерка лидеров продаж выглядит так:\n",
    "    PS3, X360, PS4, 3DS, XOne.\n",
    "\n",
    "    Необходимо проанализировать продажи по годам, чтобы проследить тенденцию.\n",
    "    У каких платформ идет рост продаж, у каких спад."
   ]
  },
  {
   "cell_type": "code",
   "execution_count": 30,
   "metadata": {},
   "outputs": [
    {
     "data": {
      "text/plain": [
       "<matplotlib.axes._subplots.AxesSubplot at 0x7f020993e4d0>"
      ]
     },
     "execution_count": 30,
     "metadata": {},
     "output_type": "execute_result"
    },
    {
     "data": {
      "image/png": "[encoded data removed]",
      "text/plain": [
       "<Figure size 1440x576 with 1 Axes>"
      ]
     },
     "metadata": {
      "needs_background": "light"
     },
     "output_type": "display_data"
    }
   ],
   "source": [
    "df.query('year > 2010').pivot_table(index='year', columns='platform', values='total_sales', aggfunc='sum').plot(kind='bar', grid=True, figsize=(20, 8))\n"
   ]
  },
  {
   "cell_type": "code",
   "execution_count": 31,
   "metadata": {},
   "outputs": [],
   "source": [
    "platform_list_new = ['3DS', 'PS4', 'WiiU', 'XOne']"
   ]
  },
  {
   "cell_type": "code",
   "execution_count": 32,
   "metadata": {},
   "outputs": [
    {
     "data": {
      "text/html": [
       "<div>\n",
       "<style scoped>\n",
       "    .dataframe tbody tr th:only-of-type {\n",
       "        vertical-align: middle;\n",
       "    }\n",
       "\n",
       "    .dataframe tbody tr th {\n",
       "        vertical-align: top;\n",
       "    }\n",
       "\n",
       "    .dataframe thead th {\n",
       "        text-align: right;\n",
       "    }\n",
       "</style>\n",
       "<table border=\"1\" class=\"dataframe\">\n",
       "  <thead>\n",
       "    <tr style=\"text-align: right;\">\n",
       "      <th>platform</th>\n",
       "      <th>3DS</th>\n",
       "      <th>PS4</th>\n",
       "      <th>WiiU</th>\n",
       "      <th>XOne</th>\n",
       "    </tr>\n",
       "    <tr>\n",
       "      <th>year</th>\n",
       "      <th></th>\n",
       "      <th></th>\n",
       "      <th></th>\n",
       "      <th></th>\n",
       "    </tr>\n",
       "  </thead>\n",
       "  <tbody>\n",
       "    <tr>\n",
       "      <td>2011.0</td>\n",
       "      <td>63.20</td>\n",
       "      <td>NaN</td>\n",
       "      <td>NaN</td>\n",
       "      <td>NaN</td>\n",
       "    </tr>\n",
       "    <tr>\n",
       "      <td>2012.0</td>\n",
       "      <td>51.36</td>\n",
       "      <td>NaN</td>\n",
       "      <td>17.56</td>\n",
       "      <td>NaN</td>\n",
       "    </tr>\n",
       "    <tr>\n",
       "      <td>2013.0</td>\n",
       "      <td>56.57</td>\n",
       "      <td>25.99</td>\n",
       "      <td>21.65</td>\n",
       "      <td>18.96</td>\n",
       "    </tr>\n",
       "    <tr>\n",
       "      <td>2014.0</td>\n",
       "      <td>43.76</td>\n",
       "      <td>100.00</td>\n",
       "      <td>22.03</td>\n",
       "      <td>54.07</td>\n",
       "    </tr>\n",
       "    <tr>\n",
       "      <td>2015.0</td>\n",
       "      <td>27.78</td>\n",
       "      <td>118.90</td>\n",
       "      <td>16.35</td>\n",
       "      <td>60.14</td>\n",
       "    </tr>\n",
       "    <tr>\n",
       "      <td>2016.0</td>\n",
       "      <td>15.14</td>\n",
       "      <td>69.25</td>\n",
       "      <td>4.60</td>\n",
       "      <td>26.15</td>\n",
       "    </tr>\n",
       "  </tbody>\n",
       "</table>\n",
       "</div>"
      ],
      "text/plain": [
       "platform    3DS     PS4   WiiU   XOne\n",
       "year                                 \n",
       "2011.0    63.20     NaN    NaN    NaN\n",
       "2012.0    51.36     NaN  17.56    NaN\n",
       "2013.0    56.57   25.99  21.65  18.96\n",
       "2014.0    43.76  100.00  22.03  54.07\n",
       "2015.0    27.78  118.90  16.35  60.14\n",
       "2016.0    15.14   69.25   4.60  26.15"
      ]
     },
     "execution_count": 32,
     "metadata": {},
     "output_type": "execute_result"
    }
   ],
   "source": [
    "df.query('platform == @platform_list_new & year > 2010').pivot_table(index='year', columns='platform', values='total_sales', aggfunc='sum')"
   ]
  },
  {
   "cell_type": "markdown",
   "metadata": {},
   "source": [
    "\n",
    "    \n",
    "Платформы, на которые нужно сделать акцент в следующем году:\n",
    "* ***PS4*** - год выпуска 2011г., в продаже 7 лет, наибольшая прибыль за последние 3 года (2014-2016)\n",
    "* ***XOne*** - год выпуска 2013., в продаже 5 лет, находится на втором месте по прибыли за последние 3 года (2014-2016)\n",
    "* ***3DS*** - год выпуска 2011г., в продаже 7 лет, находится на третьем месте по прибыли за последние 3 года (2014-2016)\n",
    "\n",
    "***WiiU*** хоть и относительно молодая платформа (6 лет в продажах), но прибыль по ней уменьшается с каждым годом. Остальные платформы в продажах 10 и более лет.\n",
    "\n",
    "Возьмем актуальный период с 2011 по 2016 год. В этот год выпускаются 2 новых платформы, 3ья выпускается позже в 2013г. Три года данные платформы конкурировали и боролись с текущими лидерами, с 2014 года вышли на лидирующие позиции. Так как с 2010 года начинается спад по количеству выпускаемых игр и по общим продажам, в этом периоде остаются платформы, которые могут конкурировать на рынке."
   ]
  },
  {
   "cell_type": "markdown",
   "metadata": {},
   "source": [
    "### 3.3 Boxplot  по глобальным продажам игры и разбивкой по платформам<a class=\"anchor\" id=\"3-3-bullet\"></a>"
   ]
  },
  {
   "cell_type": "markdown",
   "metadata": {},
   "source": [
    "    \n",
    "    Построим график «ящик с усами» по глобальным продажам каждой игры, а затем  с разбивкой\n",
    "    по платформам. Сравним результаты."
   ]
  },
  {
   "cell_type": "code",
   "execution_count": 33,
   "metadata": {},
   "outputs": [
    {
     "data": {
      "text/plain": [
       "(-0.1, 1.1)"
      ]
     },
     "execution_count": 33,
     "metadata": {},
     "output_type": "execute_result"
    },
    {
     "data": {
      "image/png": "[encoded data removed]",
      "text/plain": [
       "<Figure size 360x360 with 1 Axes>"
      ]
     },
     "metadata": {
      "needs_background": "light"
     },
     "output_type": "display_data"
    }
   ],
   "source": [
    "df['total_sales'].plot.box(figsize=(5,5))\n",
    "plt.ylim(-0.1, 1.10)"
   ]
  },
  {
   "cell_type": "code",
   "execution_count": 34,
   "metadata": {},
   "outputs": [
    {
     "data": {
      "text/plain": [
       "count    16713.000000\n",
       "mean         0.533315\n",
       "std          1.548282\n",
       "min          0.000000\n",
       "25%          0.060000\n",
       "50%          0.170000\n",
       "75%          0.470000\n",
       "max         82.540000\n",
       "Name: total_sales, dtype: float64"
      ]
     },
     "execution_count": 34,
     "metadata": {},
     "output_type": "execute_result"
    }
   ],
   "source": [
    "df['total_sales'].describe()"
   ]
  },
  {
   "cell_type": "markdown",
   "metadata": {},
   "source": [
    "    Продажи игр достигают до 1,1 млн долларов. Медиана - 0,17 млн $."
   ]
  },
  {
   "cell_type": "markdown",
   "metadata": {},
   "source": [
    "    \n",
    "***Boxplot по наиболее популярным на конец 2016 года платформам***"
   ]
  },
  {
   "cell_type": "code",
   "execution_count": 63,
   "metadata": {},
   "outputs": [
    {
     "data": {
      "text/plain": [
       "(-0.25, 1.8)"
      ]
     },
     "execution_count": 63,
     "metadata": {},
     "output_type": "execute_result"
    },
    {
     "data": {
      "image/png": "[encoded data removed]",
      "text/plain": [
       "<Figure size 432x288 with 1 Axes>"
      ]
     },
     "metadata": {
      "needs_background": "light"
     },
     "output_type": "display_data"
    }
   ],
   "source": [
    "column_list1 = ['PS4', 'XOne', '3DS']\n",
    "df_1 = df.query('platform == @column_list1')\n",
    "import seaborn as sns\n",
    "sns.boxplot(x=\"platform\", y=\"total_sales\", data=df_1, palette='rainbow')\n",
    "plt.ylim(-0.25, 1.8)\n"
   ]
  },
  {
   "cell_type": "code",
   "execution_count": 36,
   "metadata": {},
   "outputs": [
    {
     "data": {
      "text/html": [
       "<div>\n",
       "<style scoped>\n",
       "    .dataframe tbody tr th:only-of-type {\n",
       "        vertical-align: middle;\n",
       "    }\n",
       "\n",
       "    .dataframe tbody tr th {\n",
       "        vertical-align: top;\n",
       "    }\n",
       "\n",
       "    .dataframe thead th {\n",
       "        text-align: right;\n",
       "    }\n",
       "</style>\n",
       "<table border=\"1\" class=\"dataframe\">\n",
       "  <thead>\n",
       "    <tr style=\"text-align: right;\">\n",
       "      <th></th>\n",
       "      <th>mean</th>\n",
       "      <th>median</th>\n",
       "    </tr>\n",
       "    <tr>\n",
       "      <th>platform</th>\n",
       "      <th></th>\n",
       "      <th></th>\n",
       "    </tr>\n",
       "  </thead>\n",
       "  <tbody>\n",
       "    <tr>\n",
       "      <td>3DS</td>\n",
       "      <td>0.498077</td>\n",
       "      <td>0.12</td>\n",
       "    </tr>\n",
       "    <tr>\n",
       "      <td>PS4</td>\n",
       "      <td>0.801378</td>\n",
       "      <td>0.20</td>\n",
       "    </tr>\n",
       "    <tr>\n",
       "      <td>XOne</td>\n",
       "      <td>0.645020</td>\n",
       "      <td>0.22</td>\n",
       "    </tr>\n",
       "  </tbody>\n",
       "</table>\n",
       "</div>"
      ],
      "text/plain": [
       "              mean  median\n",
       "platform                  \n",
       "3DS       0.498077    0.12\n",
       "PS4       0.801378    0.20\n",
       "XOne      0.645020    0.22"
      ]
     },
     "execution_count": 36,
     "metadata": {},
     "output_type": "execute_result"
    }
   ],
   "source": [
    "df.query('platform == @column_list1').pivot_table(index='platform', values='total_sales', aggfunc=('median', 'mean'))"
   ]
  },
  {
   "cell_type": "markdown",
   "metadata": {},
   "source": [
    "    \n",
    "- ***PS4*** - продажи достигают до 1,75 млн долларов. Межквартальный размах больше, чем у платформ 3DS и XOne. Так же видим, что у платформы PS4 датасет сильнее скошен вправо. Через этот канал приходят те, кто тратит на игры, больше медианного значения. Поэтому среднее значение у данной платформы самое большое - 0,8 млн доллоров, медиана 0,2 млн доллоров.\n",
    "\n",
    "- ***XOne*** - продажи достигают до 1,58 млн доллоров. Межквартальный размах меньше, чем у платформы PS4. Датасет скошен вправо, но меньше, чем у платформы PS4.  Среднее значение у данной платформы ниже, чем у  PS4 - 0,65 млн доллоров, а медиана больше - 0,22 млн доллоров.\n",
    "\n",
    "- на третьем месте платформа ***3DS***. Продажи достигают до 0,75 млн доллоров. Среднее значение - 0,49 млн доллоров, медиана 0,12 млн доллоров.\n",
    "\n",
    "Результаты по платформам ***PS4***  и ***XOne*** превышают показатели по глобальным продажам каждой игры . Результаты по  платформе ***3DS*** ниже, чем показатели по глобальным продажам каждой игры. "
   ]
  },
  {
   "cell_type": "markdown",
   "metadata": {},
   "source": [
    "### 3.4. Влияние отзывов пользователей и критиков на продажи<a class=\"anchor\" id=\"3-4-bullet\"></a>"
   ]
  },
  {
   "cell_type": "markdown",
   "metadata": {},
   "source": [
    "\n",
    "**Влияние отзывов критиков на продажи внутри одной популярной платформы PS4**"
   ]
  },
  {
   "cell_type": "code",
   "execution_count": 37,
   "metadata": {},
   "outputs": [
    {
     "data": {
      "text/plain": [
       "<matplotlib.axes._subplots.AxesSubplot at 0x7f01e5cfa0d0>"
      ]
     },
     "execution_count": 37,
     "metadata": {},
     "output_type": "execute_result"
    },
    {
     "data": {
      "image/png": "[encoded data removed]",
      "text/plain": [
       "<Figure size 432x288 with 1 Axes>"
      ]
     },
     "metadata": {
      "needs_background": "light"
     },
     "output_type": "display_data"
    }
   ],
   "source": [
    "df_PS4 = df.query('platform == \"PS4\"')\n",
    "sns.regplot(x='critic_score', y='total_sales',data=df_PS4, x_bins=20, scatter_kws={'s':15})"
   ]
  },
  {
   "cell_type": "code",
   "execution_count": 38,
   "metadata": {},
   "outputs": [
    {
     "data": {
      "text/plain": [
       "0.22652606614612347"
      ]
     },
     "execution_count": 38,
     "metadata": {},
     "output_type": "execute_result"
    }
   ],
   "source": [
    "df_PS4['critic_score'].corr(df_PS4['total_sales'])"
   ]
  },
  {
   "cell_type": "markdown",
   "metadata": {},
   "source": [
    "    На графике мы видим зависимость: с ростом первой величины (отзыв критиков) \n",
    "    растет вторая величина (продажи). Т.е., чем выше отзывы критиков, тем больше продажи.\n",
    "\n",
    "    Коэффициент Пирсона равен 0,23. Чем ближе коэффициент Пирсона к значению 1, тем\n",
    "    сильнее взамосвязь."
   ]
  },
  {
   "cell_type": "markdown",
   "metadata": {},
   "source": [
    "\n",
    "**Влияние отзывов пользователей на продажи внутри одной популярной платформы PS4**"
   ]
  },
  {
   "cell_type": "code",
   "execution_count": 39,
   "metadata": {},
   "outputs": [
    {
     "data": {
      "text/plain": [
       "<matplotlib.axes._subplots.AxesSubplot at 0x7f01e5c43950>"
      ]
     },
     "execution_count": 39,
     "metadata": {},
     "output_type": "execute_result"
    },
    {
     "data": {
      "image/png": "[encoded data removed]",
      "text/plain": [
       "<Figure size 432x288 with 1 Axes>"
      ]
     },
     "metadata": {
      "needs_background": "light"
     },
     "output_type": "display_data"
    }
   ],
   "source": [
    "sns.regplot(x='user_score', y='total_sales',data=df_PS4, x_bins=20, scatter_kws={'s':15})"
   ]
  },
  {
   "cell_type": "code",
   "execution_count": 40,
   "metadata": {},
   "outputs": [
    {
     "data": {
      "text/plain": [
       "0.1159614931286009"
      ]
     },
     "execution_count": 40,
     "metadata": {},
     "output_type": "execute_result"
    }
   ],
   "source": [
    "df_PS4['user_score'].corr(df_PS4['total_sales'])"
   ]
  },
  {
   "cell_type": "markdown",
   "metadata": {},
   "source": [
    "\n",
    "    На графике мы видим зависимость: с ростом первой величины (отзыв пользователей)\n",
    "    растет вторая величина (продажи). Т.е., чем выше отзывы пользователей, тем больше продажи.\n",
    "\n",
    "    Коэффициент Пирсона равен 0,12. Чем ближе коэффициент Пирсона к значению 1, \n",
    "    тем сильнее взамосвязь.\n",
    "\n",
    "    Оценка пользователей оказывает меньше влияния на продажи, чем оценка критиков."
   ]
  },
  {
   "cell_type": "markdown",
   "metadata": {},
   "source": [
    "**Влияние отзывов критиков на продажи по всем платформам за актуальный период**"
   ]
  },
  {
   "cell_type": "code",
   "execution_count": 41,
   "metadata": {},
   "outputs": [
    {
     "data": {
      "text/plain": [
       "<matplotlib.axes._subplots.AxesSubplot at 0x7f01e5b60250>"
      ]
     },
     "execution_count": 41,
     "metadata": {},
     "output_type": "execute_result"
    },
    {
     "data": {
      "image/png": "[encoded data removed]",
      "text/plain": [
       "<Figure size 432x288 with 1 Axes>"
      ]
     },
     "metadata": {
      "needs_background": "light"
     },
     "output_type": "display_data"
    }
   ],
   "source": [
    "data_2011 = df.query('year > 2010')\n",
    "sns.regplot(x='critic_score', y='total_sales',data=data_2011, x_bins=20, scatter_kws={'s':15})"
   ]
  },
  {
   "cell_type": "code",
   "execution_count": 42,
   "metadata": {},
   "outputs": [
    {
     "data": {
      "text/plain": [
       "0.2736884811636506"
      ]
     },
     "execution_count": 42,
     "metadata": {},
     "output_type": "execute_result"
    }
   ],
   "source": [
    "data_2011['critic_score'].corr(data_2011['total_sales'])"
   ]
  },
  {
   "cell_type": "markdown",
   "metadata": {},
   "source": [
    "\n",
    "    Когда мы берем информацию по всем платформам, то взаимосвязь между отзывами критиков\n",
    "    и продажами усиливается.\n",
    "\n",
    "    Коэффициент Пирсона увеличился с 0,23 до  0,27."
   ]
  },
  {
   "cell_type": "markdown",
   "metadata": {},
   "source": [
    "\n",
    "**Влияние отзывов пользователей на продажи по всем платформам за актуальный период**"
   ]
  },
  {
   "cell_type": "code",
   "execution_count": 43,
   "metadata": {},
   "outputs": [
    {
     "data": {
      "text/plain": [
       "<matplotlib.axes._subplots.AxesSubplot at 0x7f01e5af1610>"
      ]
     },
     "execution_count": 43,
     "metadata": {},
     "output_type": "execute_result"
    },
    {
     "data": {
      "image/png": "[encoded data removed]",
      "text/plain": [
       "<Figure size 432x288 with 1 Axes>"
      ]
     },
     "metadata": {
      "needs_background": "light"
     },
     "output_type": "display_data"
    }
   ],
   "source": [
    "data_2011 = df.query('year > 2010')\n",
    "sns.regplot(x='user_score', y='total_sales',data=data_2011, x_bins=20, scatter_kws={'s':15})"
   ]
  },
  {
   "cell_type": "code",
   "execution_count": 44,
   "metadata": {},
   "outputs": [
    {
     "data": {
      "text/plain": [
       "0.20781653635258424"
      ]
     },
     "execution_count": 44,
     "metadata": {},
     "output_type": "execute_result"
    }
   ],
   "source": [
    "data_2011['user_score'].corr(data_2011['total_sales'])"
   ]
  },
  {
   "cell_type": "markdown",
   "metadata": {},
   "source": [
    "\n",
    "    Когда мы берем информацию по всем платформам, то взаимосвязь между отзывами пользователей\n",
    "    и продажами усиливается.\n",
    "\n",
    "    Коэффициент Пирсона увеличился с 0,12 до  0,21.\n",
    "\n",
    "    Оценка пользователей оказывает меньше влияния на продажи, чем оценка критиков.\n",
    "    Но в общем датасете разница между этими двумя показателями сокращается."
   ]
  },
  {
   "cell_type": "markdown",
   "metadata": {},
   "source": [
    "### 3.5. Pаспределение игр по жанрам<a class=\"anchor\" id=\"3-5-bullet\"></a>"
   ]
  },
  {
   "cell_type": "code",
   "execution_count": 65,
   "metadata": {},
   "outputs": [
    {
     "data": {
      "text/plain": [
       "Text(0.5, 1.0, 'Количество выпущенных игр по жанрам')"
      ]
     },
     "execution_count": 65,
     "metadata": {},
     "output_type": "execute_result"
    },
    {
     "data": {
      "image/png": "[encoded data removed]",
      "text/plain": [
       "<Figure size 576x288 with 1 Axes>"
      ]
     },
     "metadata": {
      "needs_background": "light"
     },
     "output_type": "display_data"
    }
   ],
   "source": [
    "data_2011.groupby('genre')['name'].agg(['count']).sort_values('count',ascending=False).plot(kind='bar', grid=True, figsize=(8, 4))\n",
    "plt.title('Количество выпущенных игр по жанрам')"
   ]
  },
  {
   "cell_type": "markdown",
   "metadata": {},
   "source": [
    "    Больше всего выпускается игр жанра Action.\n",
    "    Число игр с этим жанром сильно превышает остальные.\n",
    "\n",
    "    На втором месте по количеству игр жанры:\n",
    "    Role-Playing, Adventure, Sports, Misc и Shooter.\n",
    "\n",
    "    На третьем месте по количеству игр жанры:\n",
    "    Racing, Fighting, Simulation, Platform, Strategy, Puzzle "
   ]
  },
  {
   "cell_type": "code",
   "execution_count": 66,
   "metadata": {},
   "outputs": [
    {
     "data": {
      "text/plain": [
       "Text(0.5, 1.0, 'Суммы продаж по жанрам')"
      ]
     },
     "execution_count": 66,
     "metadata": {},
     "output_type": "execute_result"
    },
    {
     "data": {
      "image/png": "[encoded data removed]",
      "text/plain": [
       "<Figure size 576x288 with 1 Axes>"
      ]
     },
     "metadata": {
      "needs_background": "light"
     },
     "output_type": "display_data"
    }
   ],
   "source": [
    "data_2011.groupby('genre')['total_sales'].agg(['sum']).sort_values('sum',ascending=False).plot(kind='bar', grid=True, figsize=(8, 4))\n",
    "plt.title('Суммы продаж по жанрам')"
   ]
  },
  {
   "cell_type": "markdown",
   "metadata": {},
   "source": [
    "   \n",
    "    Жанры с высокими продажами:\n",
    "    Action, Shooter, Role-Playing, Sports.\n",
    "\n",
    "    Жанры с  низкими продажами:\n",
    "    Misc, Platform, Racing, Fighting, Simulation, Adventure, Strategy, Puzzle \n",
    "\n",
    "    Таким образом, в жанре Action выпускается больше всего игр и они приносят больше\n",
    "    всего дохода."
   ]
  },
  {
   "cell_type": "markdown",
   "metadata": {},
   "source": [
    "Посмотрим сколько в среднем стоит игра каждого жанра"
   ]
  },
  {
   "cell_type": "code",
   "execution_count": 47,
   "metadata": {},
   "outputs": [
    {
     "data": {
      "text/plain": [
       "<matplotlib.axes._subplots.AxesSubplot at 0x7f01e593a950>"
      ]
     },
     "execution_count": 47,
     "metadata": {},
     "output_type": "execute_result"
    },
    {
     "data": {
      "image/png": "[encoded data removed]",
      "text/plain": [
       "<Figure size 576x288 with 1 Axes>"
      ]
     },
     "metadata": {
      "needs_background": "light"
     },
     "output_type": "display_data"
    }
   ],
   "source": [
    "data_2011.groupby('genre')['total_sales'].agg(['median']).sort_values('median',ascending=False).plot(kind='bar', grid=True, figsize=(8, 4))"
   ]
  },
  {
   "cell_type": "markdown",
   "metadata": {},
   "source": [
    "    Самыми дорогими играми оказались игры жанра Shooter - 0.4 млн доллара, это в два раза\n",
    "    больше, чем у ближайшего приследователя - игр жанра Sports (0.2 млн доллара).\n",
    "    \n",
    "    У лидера продаж игр жанра Action стоимость 1 игры - 0,13 млн доллара"
   ]
  },
  {
   "cell_type": "markdown",
   "metadata": {},
   "source": [
    "### Шаг 4. Портрет пользователя каждого региона<a class=\"anchor\" id=\"4-bullet\"></a>"
   ]
  },
  {
   "cell_type": "markdown",
   "metadata": {},
   "source": [
    "### 4.1. Самые популярные жанры (топ-5) каждого региона<a class=\"anchor\" id=\"4-1-bullet\"></a>"
   ]
  },
  {
   "cell_type": "code",
   "execution_count": 48,
   "metadata": {},
   "outputs": [
    {
     "data": {
      "text/plain": [
       "Text(0.5, 1.0, 'Japan Sales')"
      ]
     },
     "execution_count": 48,
     "metadata": {},
     "output_type": "execute_result"
    },
    {
     "data": {
      "image/png": "[encoded data removed]",
      "text/plain": [
       "<Figure size 1080x432 with 3 Axes>"
      ]
     },
     "metadata": {
      "needs_background": "light"
     },
     "output_type": "display_data"
    }
   ],
   "source": [
    "fig, axes = plt.subplots(1, 3, figsize=(15,6))\n",
    "data_2011.groupby('genre')['na_sales'].agg(['sum']).sort_values('sum',ascending=False).head().plot(kind='bar', grid=True, ax=axes[0], )\n",
    "data_2011.groupby('genre')['eu_sales'].agg(['sum']).sort_values('sum',ascending=False).head().plot(kind='bar', grid=True, ax=axes[1], color='teal')\n",
    "data_2011.groupby('genre')['jp_sales'].agg(['sum']).sort_values('sum',ascending=False).head().plot(kind='bar', grid=True, ax=axes[2], color='slateblue')\n",
    "axes[0].set_title('North America Sales')\n",
    "axes[1].set_title('Europe Sales')\n",
    "axes[2].set_title('Japan Sales')"
   ]
  },
  {
   "cell_type": "markdown",
   "metadata": {},
   "source": [
    "  \n",
    "    Четыре самых популярных жанров в С.Америке полностью совпали с популярнами жанрами в Европе.\n",
    "    В порядке уменьшения: Action, Shooter, Sports, Role-Playing.\n",
    "    Отличие только в 5 месте: в С.Америке это - Misc (смешанный жанр), в Европе  - это Racing.\n",
    "\n",
    "    Совсем по другому выглядят предпочтения в Японии.\n",
    "    На первом месте - Role-Playing, на втором - Action, остальные три жанра сильно отстают от\n",
    "    лидеров."
   ]
  },
  {
   "cell_type": "markdown",
   "metadata": {},
   "source": [
    "### 4.2. Самые популярные платформы (топ-5) каждого региона<a class=\"anchor\" id=\"4-2-bullet\"></a>"
   ]
  },
  {
   "cell_type": "code",
   "execution_count": 49,
   "metadata": {},
   "outputs": [
    {
     "data": {
      "text/plain": [
       "Text(0.5, 1.0, 'Japan Sales')"
      ]
     },
     "execution_count": 49,
     "metadata": {},
     "output_type": "execute_result"
    },
    {
     "data": {
      "image/png": "[encoded data removed]",
      "text/plain": [
       "<Figure size 1080x432 with 3 Axes>"
      ]
     },
     "metadata": {
      "needs_background": "light"
     },
     "output_type": "display_data"
    }
   ],
   "source": [
    "fig, axes = plt.subplots(1, 3, figsize=(15,6))\n",
    "data_2011.groupby('platform')['na_sales'].agg(['sum']).sort_values('sum',ascending=False).head().plot(kind='bar', grid=True, ax=axes[0], )\n",
    "data_2011.groupby('platform')['eu_sales'].agg(['sum']).sort_values('sum',ascending=False).head().plot(kind='bar', grid=True, ax=axes[1], color='teal')\n",
    "data_2011.groupby('platform')['jp_sales'].agg(['sum']).sort_values('sum',ascending=False).head().plot(kind='bar', grid=True, ax=axes[2], color='slateblue')\n",
    "axes[0].set_title('North America Sales')\n",
    "axes[1].set_title('Europe Sales')\n",
    "axes[2].set_title('Japan Sales')"
   ]
  },
  {
   "cell_type": "markdown",
   "metadata": {},
   "source": [
    "    В С.Америке на первом месте платформа - Х360 (выпуск с 2005 года, в продаже 12 лет)\n",
    "    В Европе на первом месте платформа - PS3 (выпуск с 2006 года, в продаже 11 лет)\n",
    "    В Японии один явный лидер - платформа 3DS, которая в С.Америке и Европе занимает 4 и 5\n",
    "    место соответственно.(выпуск с 2011 года, в продаже 7лет)"
   ]
  },
  {
   "cell_type": "markdown",
   "metadata": {},
   "source": [
    "### 4.3. Влияние рейтинга ESRB на продажи<a class=\"anchor\" id=\"4-3-bullet\"></a>"
   ]
  },
  {
   "cell_type": "markdown",
   "metadata": {},
   "source": [
    "       \n",
    "**Расшифровка рейтинга ESRB**\n",
    "    \n",
    "- «E» (Everyone) — Для всех\n",
    "- «E10+» («Everyone 10 and older») — Для всех старше 10 лет\n",
    "- «T» (Teen) — Подросткам 13—19 лет\n",
    "- «M» (Mature) — От 17 лет\n",
    "- «K-A» (Kids to Adults)— Для детей и взрослых, т.е. это аналог «E» \n",
    "- «AO» (Adults Only 18+) — Только для взрослых\n",
    "- «EC» (early childhood) – игра предназначена специально для детей младшего возраста (от 3 лет),\n",
    "- «RP» (Rating Pending)- Рейтинг ожидается\n",
    "\n",
    "объединим категории «E» и «K-A»"
   ]
  },
  {
   "cell_type": "code",
   "execution_count": 50,
   "metadata": {},
   "outputs": [
    {
     "data": {
      "text/plain": [
       "no rating    1708\n",
       "M             622\n",
       "E             618\n",
       "T             616\n",
       "E10+          456\n",
       "EC              1\n",
       "RP              1\n",
       "Name: rating, dtype: int64"
      ]
     },
     "execution_count": 50,
     "metadata": {},
     "output_type": "execute_result"
    }
   ],
   "source": [
    "data_2011['rating'].replace('K-A', 'E').value_counts()"
   ]
  },
  {
   "cell_type": "code",
   "execution_count": 51,
   "metadata": {},
   "outputs": [
    {
     "data": {
      "text/plain": [
       "Text(0.5, 1.0, 'Japan Sales')"
      ]
     },
     "execution_count": 51,
     "metadata": {},
     "output_type": "execute_result"
    },
    {
     "data": {
      "image/png": "[encoded data removed]",
      "text/plain": [
       "<Figure size 1080x432 with 3 Axes>"
      ]
     },
     "metadata": {
      "needs_background": "light"
     },
     "output_type": "display_data"
    }
   ],
   "source": [
    "fig, axes = plt.subplots(1, 3, figsize=(15,6))\n",
    "data_2011.groupby('rating')['na_sales'].agg(['sum']).sort_values('sum',ascending=False).head().plot(kind='bar', grid=True, ax=axes[0], )\n",
    "data_2011.groupby('rating')['eu_sales'].agg(['sum']).sort_values('sum',ascending=False).head().plot(kind='bar', grid=True, ax=axes[1], color='teal')\n",
    "data_2011.groupby('rating')['jp_sales'].agg(['sum']).sort_values('sum',ascending=False).head().plot(kind='bar', grid=True, ax=axes[2], color='slateblue')\n",
    "axes[0].set_title('North America Sales')\n",
    "axes[1].set_title('Europe Sales')\n",
    "axes[2].set_title('Japan Sales')"
   ]
  },
  {
   "cell_type": "markdown",
   "metadata": {},
   "source": [
    "    Графики с рейтингами С.Америки и Европы очень похожи. Совпали первые три позиции.\n",
    "    В обоих регионам отдают предпочтения играм с категорией «M» (Mature) — От 17 лет.\n",
    "    На втором месте игры с категорией «E», т.е. для всех.\n",
    "    На третье место попали игры, у которых рейтинг не определен.\n",
    "    На четвертом и пятом месте игры  \"Для всех старше 10 лет\" и для \"Подростков 13—19 лет\".\n",
    "    И в том и другом графике разница между двумя этими категориями не значительная.\n",
    "\n",
    "    В Японии самые популярные игры, у которых рейтинг не определен.\n",
    "    Это могло произойти из-за того, что ESRB — негосударственная организация, основное\n",
    "    направление деятельности которой — принятие и определение рейтингов для компьютерных\n",
    "    видеоигр и другого развлекательного программного обеспечения в США и Канаде.\n",
    "    Это организация может быть не знакома с продуктами из Японии. "
   ]
  },
  {
   "cell_type": "markdown",
   "metadata": {},
   "source": [
    "### Шаг 5. Проверка гипотез<a class=\"anchor\" id=\"5-bullet\"></a>"
   ]
  },
  {
   "cell_type": "markdown",
   "metadata": {},
   "source": [
    "### 5.1. Средние пользовательские рейтинги платформ Xbox One и PC одинаковые<a class=\"anchor\" id=\"5-1-bullet\"></a>"
   ]
  },
  {
   "cell_type": "markdown",
   "metadata": {},
   "source": [
    "*H0 (нулевая гипотеза)* - cредние пользовательские рейтинги платформ ***Xbox One*** и ***PC*** одинаковые.\n",
    "\n",
    "*H1 (альтернативная гипотеза)* - cредний пользовательский рейтинг платформы ***Xbox One*** отличается от cреднего пользовательского рейтинга платформы ***PC***.\n",
    "\n",
    "пороговое значение alpha = 0.05"
   ]
  },
  {
   "cell_type": "code",
   "execution_count": 52,
   "metadata": {},
   "outputs": [],
   "source": [
    "from scipy import stats as st"
   ]
  },
  {
   "cell_type": "code",
   "execution_count": 53,
   "metadata": {},
   "outputs": [],
   "source": [
    "data_XOne = data_2011[(data_2011['platform'] == 'XOne')]\n",
    "data_PC = data_2011[(data_2011['platform'] == 'PC')]"
   ]
  },
  {
   "cell_type": "code",
   "execution_count": 54,
   "metadata": {},
   "outputs": [
    {
     "name": "stdout",
     "output_type": "stream",
     "text": [
      "p-значение: 3.102478340371612e-10\n",
      "отвергаем гипотезу\n"
     ]
    }
   ],
   "source": [
    "alpha = 0.05\n",
    "results = st.ttest_ind(data_XOne['total_sales'], data_PC['total_sales'], equal_var = True)\n",
    "\n",
    "print('p-значение:', results.pvalue)\n",
    "\n",
    "if (results.pvalue < alpha):\n",
    "    print ('отвергаем гипотезу')\n",
    "else:\n",
    "    print ('не получилось отвергнуть гипотезу')"
   ]
  },
  {
   "cell_type": "markdown",
   "metadata": {},
   "source": [
    "    Гипотеза не подтвердилась, у нас есть основания ее отвергнуть.\n",
    "    Таким образом, cредний пользовательский рейтинг платформы Xbox One отличается от cреднего\n",
    "    пользовательского рейтинга платформы PC.\n"
   ]
  },
  {
   "cell_type": "markdown",
   "metadata": {},
   "source": [
    "### 5.2. Средние пользовательские рейтинги жанров Action  и Sports  разные <a class=\"anchor\" id=\"5-2-bullet\"></a>"
   ]
  },
  {
   "cell_type": "markdown",
   "metadata": {},
   "source": [
    "\n",
    "*H0 (нулевая гипотеза)* - cредние пользовательские рейтинги жанров ***Action*** и ***Sports*** одинаковые.\n",
    "\n",
    "*H1 (альтернативная гипотеза)* - cредний пользовательский рейтинг жанра ***Action*** отличается от cреднего пользовательского рейтинга жанров ***Sports***"
   ]
  },
  {
   "cell_type": "code",
   "execution_count": 55,
   "metadata": {},
   "outputs": [],
   "source": [
    "data_аction = data_2011[(data_2011['genre'] == 'Action')]\n",
    "data_sports = data_2011[(data_2011['genre'] == 'Sports')]"
   ]
  },
  {
   "cell_type": "code",
   "execution_count": 56,
   "metadata": {},
   "outputs": [
    {
     "name": "stdout",
     "output_type": "stream",
     "text": [
      "p-значение: 0.5428125413900603\n",
      "не получилось отвергнуть гипотезу\n"
     ]
    }
   ],
   "source": [
    "alpha = 0.05\n",
    "results = st.ttest_ind(data_аction['user_score'], data_sports['user_score'], equal_var = True)\n",
    "\n",
    "print('p-значение:', results.pvalue)\n",
    "\n",
    "if (results.pvalue < alpha):\n",
    "    print ('отвергаем гипотезу')\n",
    "else:\n",
    "    print ('не получилось отвергнуть гипотезу')"
   ]
  },
  {
   "cell_type": "markdown",
   "metadata": {},
   "source": [
    "    Оснований, чтобы отвергнуть нулевую гипотезу нет.\n",
    "    Средние пользовательские рейтинги жанров Action и Sports одинаковые."
   ]
  },
  {
   "cell_type": "markdown",
   "metadata": {},
   "source": [
    "### Шаг 6. Общий вывод <a class=\"anchor\" id=\"6-bullet\"></a>"
   ]
  },
  {
   "cell_type": "markdown",
   "metadata": {},
   "source": [
    "        \n",
    "С 2010 года начинается спад по количеству выпускаемых игр в год и по общим продажам. Это может быть связано с тем, что мобильные игры вытесняют консольные и компьютерные. 51% всей прибыли в игровой индустрии приходиться как раз-таки на игры для мобильных устройств. Согласно аналитическим данным Newzoo, отрыв мобильных игр от консольных, браузерных и компьютерных будет только увеличиваться с каждым годом.     \n",
    "_____________________________________________________________________________________________\n",
    "\n",
    "В среднем платформы исчезают через 10-12 лет после выпуска.\n",
    "Платформы, на которые нужно сделать акцент в следующем году:\n",
    "\n",
    "- PS4 - год выпуска 2011г., в продаже 7 лет, наибольшая прибыль за последние 3 года (2014-2016) - 288,15 млн доллоров\n",
    "- XOne - год выпуска 2013., в продаже 5 лет, находится на втором месте по прибыли за последние 3 года (2014-2016) - 140,36 млн доллоров\n",
    "- 3DS - год выпуска 2011г., в продаже 7 лет, находится на третьем месте по прибыли за последние 3 года (2014-2016) -  86,68 млн доллоров\n",
    "___________________________________________________________________________________________________\n",
    "\n",
    "Оценка критиков оказывает больше влияния на продажи, чем оценка пользователей.\n",
    "___________________________________________________________________________________________________\n",
    "\n",
    "- Жанры с высокими продажами: Action, Shooter, Role-Playing, Sports.\n",
    "- Больше всего выпускается игр жанра Action. Число игр с этим жанром сильно превышает остальные.\n",
    "- самыми дорогими играми оказались игры жанра Shooter - 0.4 млн доллара, это в два раза больше, чем у ближайшего приследователя - игр жанра Sports (0.2 млн доллара). У лидера продаж игр жанра Action стоимость - 0,13 млн доллара\n",
    "***************************************************************************************************\n",
    "Если смотреть портрет пользователя по регионам, то предпочтения в С.Америке очень близки к предпочтеним в Европе. Резко от них отличаются данные по предпочтениям в Японии.\n",
    "\n",
    "Топ-3 жанров в С.Америке и Европе одинаковый:\n",
    "Action, Shooter, Sports.\n",
    "\n",
    "В Японии на первом месте - Role-Playing, на втором - Action, остальные три жанра сильно отстают от лидера.\n",
    "\n",
    "Разными оказались в регионах предпочтения по платформам:\n",
    "* В С.Америке на первом месте платформа - Х360 (выпуск с 2005 года, в продаже 12 лет)\n",
    "* В Европе на первом месте платформа - PS3 (выпуск с 2006 года, в продаже 11 лет)\n",
    "* В Японии один явный лидер - платформа 3DS, которая в С.Америке и Европе занимает 4 и 5 место соответственно.(выпуск с 2011 года, в продаже 7лет)\n",
    "\n",
    "Топ-3 категорий игр по рейтингу ESRB в С.Америке и Европе одинаковый: первое место - «M» (от 17 лет), второе место - «E» (для всех), на тертьем месте игры, у которых рейтинг не определн.\n",
    "\n",
    "В Японии самые популярные игры, у которых рейтинг не определен. Это могло произойти из-за того, что ***ESRB*** — негосударственная организация, определяющая рейтинги для компьютерных видеоигр и другого развлекательного программного обеспечения в США и Канаде. Это организация может быть не знакома с продуктами из Японии."
   ]
  }
 ],
 "metadata": {
  "kernelspec": {
   "display_name": "Python 3",
   "language": "python",
   "name": "python3"
  },
  "language_info": {
   "codemirror_mode": {
    "name": "ipython",
    "version": 3
   },
   "file_extension": ".py",
   "mimetype": "text/x-python",
   "name": "python",
   "nbconvert_exporter": "python",
   "pygments_lexer": "ipython3",
   "version": "3.7.6"
  }
 },
 "nbformat": 4,
 "nbformat_minor": 2
}
