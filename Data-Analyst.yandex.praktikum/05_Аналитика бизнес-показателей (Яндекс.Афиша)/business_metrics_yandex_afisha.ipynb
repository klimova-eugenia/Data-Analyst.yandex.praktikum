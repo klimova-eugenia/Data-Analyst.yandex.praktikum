{
 "cells": [
  {
   "cell_type": "markdown",
   "metadata": {},
   "source": [
    "# Аналитика бизнес-показателей в Яндекс.Афише"
   ]
  },
  {
   "cell_type": "markdown",
   "metadata": {},
   "source": [
    "    Аннализ данных от Яндекс.Афиши с июня 2017 по конец мая 2018 года.\n",
    "    Цель: помочь маркетологам оптимизировать маркетинговые затраты.\n",
    "    Найти оптимальные источники/платформы."
   ]
  },
  {
   "cell_type": "markdown",
   "metadata": {},
   "source": [
    "## Содержание:\n",
    "* [Шаг 1. Общая информация](#1-bullet)\n",
    "* [Шаг 2. Предобработка данных](#2-bullet)\n",
    "* 2.1. [Переименование столбцов](#2-1-bullet)\n",
    "* 2.2. [Изменение типов данных](#2-2-bullet)\n",
    "* [Шаг 3. Построение отчетов и расчет метрик](#3-bullet)\n",
    "* 3.1. [Продукт](#3-1-bullet)\n",
    "* [DAU, WAU, MAU](#3-1-1-bullet)\n",
    "* [Sticky factor](#3-1-2-bullet)\n",
    "* [ASL или средняя продолжительность сессии](#3-1-3-bullet)\n",
    "* [Retention Rate по визитам](#3-1-4-bullet)\n",
    "* 3.2. [Продажи](#3-2-bullet)\n",
    "* [Через какое время совершается покупка](#3-2-1-bullet)\n",
    "* [Сколько раз покупают за период](#3-2-2-bullet)\n",
    "* [Средний чек в когортах по месяцам](#3-2-3-bullet)\n",
    "* [Retention rate по покупкам](#3-2-4-bullet)\n",
    "* [Экономика одного покупателя LTV, CAC, ROMI](#3-2-5-bullet)\n",
    "* 3.3. [Маркетинг](#3-3-bullet)\n",
    "* [Затраты на рекламные источники](#3-3-1-bullet)\n",
    "* [Стоимость привлечения 1 покупателя](#3-3-2-bullet)\n",
    "* [ROMI, окупаемость расходов на рекламу](#3-3-3-bullet)\n",
    "* [Анализ посещаемости ресурса по типу устройства](#3-3-4-bullet)\n",
    "* [Шаг 4. Общий вывод](#4-bullet)"
   ]
  },
  {
   "cell_type": "markdown",
   "metadata": {},
   "source": [
    "## Шаг 1. Общая информация <a class=\"anchor\" id=\"1-bullet\"></a>"
   ]
  },
  {
   "cell_type": "code",
   "execution_count": 1,
   "metadata": {},
   "outputs": [],
   "source": [
    "import pandas as pd\n",
    "import numpy as np\n",
    "import matplotlib.pyplot as plt\n",
    "import seaborn as sns\n",
    "from matplotlib import pyplot as plt\n",
    "from matplotlib.ticker import FuncFormatter  \n"
   ]
  },
  {
   "cell_type": "code",
   "execution_count": 2,
   "metadata": {},
   "outputs": [
    {
     "data": {
      "text/html": [
       "<div>\n",
       "<style scoped>\n",
       "    .dataframe tbody tr th:only-of-type {\n",
       "        vertical-align: middle;\n",
       "    }\n",
       "\n",
       "    .dataframe tbody tr th {\n",
       "        vertical-align: top;\n",
       "    }\n",
       "\n",
       "    .dataframe thead th {\n",
       "        text-align: right;\n",
       "    }\n",
       "</style>\n",
       "<table border=\"1\" class=\"dataframe\">\n",
       "  <thead>\n",
       "    <tr style=\"text-align: right;\">\n",
       "      <th></th>\n",
       "      <th>Device</th>\n",
       "      <th>End Ts</th>\n",
       "      <th>Source Id</th>\n",
       "      <th>Start Ts</th>\n",
       "      <th>Uid</th>\n",
       "    </tr>\n",
       "  </thead>\n",
       "  <tbody>\n",
       "    <tr>\n",
       "      <td>0</td>\n",
       "      <td>touch</td>\n",
       "      <td>2017-12-20 17:38:00</td>\n",
       "      <td>4</td>\n",
       "      <td>2017-12-20 17:20:00</td>\n",
       "      <td>16879256277535980062</td>\n",
       "    </tr>\n",
       "    <tr>\n",
       "      <td>1</td>\n",
       "      <td>desktop</td>\n",
       "      <td>2018-02-19 17:21:00</td>\n",
       "      <td>2</td>\n",
       "      <td>2018-02-19 16:53:00</td>\n",
       "      <td>104060357244891740</td>\n",
       "    </tr>\n",
       "    <tr>\n",
       "      <td>2</td>\n",
       "      <td>touch</td>\n",
       "      <td>2017-07-01 01:54:00</td>\n",
       "      <td>5</td>\n",
       "      <td>2017-07-01 01:54:00</td>\n",
       "      <td>7459035603376831527</td>\n",
       "    </tr>\n",
       "    <tr>\n",
       "      <td>3</td>\n",
       "      <td>desktop</td>\n",
       "      <td>2018-05-20 11:23:00</td>\n",
       "      <td>9</td>\n",
       "      <td>2018-05-20 10:59:00</td>\n",
       "      <td>16174680259334210214</td>\n",
       "    </tr>\n",
       "    <tr>\n",
       "      <td>4</td>\n",
       "      <td>desktop</td>\n",
       "      <td>2017-12-27 14:06:00</td>\n",
       "      <td>3</td>\n",
       "      <td>2017-12-27 14:06:00</td>\n",
       "      <td>9969694820036681168</td>\n",
       "    </tr>\n",
       "    <tr>\n",
       "      <td>5</td>\n",
       "      <td>desktop</td>\n",
       "      <td>2017-09-03 21:36:00</td>\n",
       "      <td>5</td>\n",
       "      <td>2017-09-03 21:35:00</td>\n",
       "      <td>16007536194108375387</td>\n",
       "    </tr>\n",
       "    <tr>\n",
       "      <td>6</td>\n",
       "      <td>desktop</td>\n",
       "      <td>2018-01-30 12:09:00</td>\n",
       "      <td>1</td>\n",
       "      <td>2018-01-30 11:13:00</td>\n",
       "      <td>6661610529277171451</td>\n",
       "    </tr>\n",
       "  </tbody>\n",
       "</table>\n",
       "</div>"
      ],
      "text/plain": [
       "    Device               End Ts  Source Id             Start Ts  \\\n",
       "0    touch  2017-12-20 17:38:00          4  2017-12-20 17:20:00   \n",
       "1  desktop  2018-02-19 17:21:00          2  2018-02-19 16:53:00   \n",
       "2    touch  2017-07-01 01:54:00          5  2017-07-01 01:54:00   \n",
       "3  desktop  2018-05-20 11:23:00          9  2018-05-20 10:59:00   \n",
       "4  desktop  2017-12-27 14:06:00          3  2017-12-27 14:06:00   \n",
       "5  desktop  2017-09-03 21:36:00          5  2017-09-03 21:35:00   \n",
       "6  desktop  2018-01-30 12:09:00          1  2018-01-30 11:13:00   \n",
       "\n",
       "                    Uid  \n",
       "0  16879256277535980062  \n",
       "1    104060357244891740  \n",
       "2   7459035603376831527  \n",
       "3  16174680259334210214  \n",
       "4   9969694820036681168  \n",
       "5  16007536194108375387  \n",
       "6   6661610529277171451  "
      ]
     },
     "execution_count": 2,
     "metadata": {},
     "output_type": "execute_result"
    }
   ],
   "source": [
    "visits = pd.read_csv('/datasets/visits_log.csv')\n",
    "visits.head(7)"
   ]
  },
  {
   "cell_type": "markdown",
   "metadata": {},
   "source": [
    "***Таблица visits (лог сервера с информацией о посещениях сайта):***\n",
    "\n",
    "* Uid — уникальный идентификатор пользователя\n",
    "* Device — категория устройства пользователя\n",
    "* Start Ts — дата и время начала сессии\n",
    "* End Ts — дата и время окончания сессии\n",
    "* Source Id — идентификатор рекламного источника, из которого пришел пользователь"
   ]
  },
  {
   "cell_type": "code",
   "execution_count": 3,
   "metadata": {},
   "outputs": [
    {
     "name": "stdout",
     "output_type": "stream",
     "text": [
      "<class 'pandas.core.frame.DataFrame'>\n",
      "RangeIndex: 359400 entries, 0 to 359399\n",
      "Data columns (total 5 columns):\n",
      "Device       359400 non-null object\n",
      "End Ts       359400 non-null object\n",
      "Source Id    359400 non-null int64\n",
      "Start Ts     359400 non-null object\n",
      "Uid          359400 non-null uint64\n",
      "dtypes: int64(1), object(3), uint64(1)\n",
      "memory usage: 13.7+ MB\n"
     ]
    }
   ],
   "source": [
    "visits.info()"
   ]
  },
  {
   "cell_type": "markdown",
   "metadata": {},
   "source": [
    "   \n",
    "    В таблице visits 359 400 строк, пропущенные значения отсутствуют.\n",
    "    В колонках ['End Ts'] и ['Start Ts'] необходимо изменить тип данных на datetime.    \n",
    "    Для удобства в работе необходимо переименовать столбцы и привезти наименование к\n",
    "    нижнему регистру."
   ]
  },
  {
   "cell_type": "code",
   "execution_count": 4,
   "metadata": {},
   "outputs": [
    {
     "data": {
      "text/html": [
       "<div>\n",
       "<style scoped>\n",
       "    .dataframe tbody tr th:only-of-type {\n",
       "        vertical-align: middle;\n",
       "    }\n",
       "\n",
       "    .dataframe tbody tr th {\n",
       "        vertical-align: top;\n",
       "    }\n",
       "\n",
       "    .dataframe thead th {\n",
       "        text-align: right;\n",
       "    }\n",
       "</style>\n",
       "<table border=\"1\" class=\"dataframe\">\n",
       "  <thead>\n",
       "    <tr style=\"text-align: right;\">\n",
       "      <th></th>\n",
       "      <th>Buy Ts</th>\n",
       "      <th>Revenue</th>\n",
       "      <th>Uid</th>\n",
       "    </tr>\n",
       "  </thead>\n",
       "  <tbody>\n",
       "    <tr>\n",
       "      <td>0</td>\n",
       "      <td>2017-06-01 00:10:00</td>\n",
       "      <td>17.00</td>\n",
       "      <td>10329302124590727494</td>\n",
       "    </tr>\n",
       "    <tr>\n",
       "      <td>1</td>\n",
       "      <td>2017-06-01 00:25:00</td>\n",
       "      <td>0.55</td>\n",
       "      <td>11627257723692907447</td>\n",
       "    </tr>\n",
       "    <tr>\n",
       "      <td>2</td>\n",
       "      <td>2017-06-01 00:27:00</td>\n",
       "      <td>0.37</td>\n",
       "      <td>17903680561304213844</td>\n",
       "    </tr>\n",
       "    <tr>\n",
       "      <td>3</td>\n",
       "      <td>2017-06-01 00:29:00</td>\n",
       "      <td>0.55</td>\n",
       "      <td>16109239769442553005</td>\n",
       "    </tr>\n",
       "    <tr>\n",
       "      <td>4</td>\n",
       "      <td>2017-06-01 07:58:00</td>\n",
       "      <td>0.37</td>\n",
       "      <td>14200605875248379450</td>\n",
       "    </tr>\n",
       "    <tr>\n",
       "      <td>5</td>\n",
       "      <td>2017-06-01 08:43:00</td>\n",
       "      <td>0.18</td>\n",
       "      <td>10402394430196413321</td>\n",
       "    </tr>\n",
       "    <tr>\n",
       "      <td>6</td>\n",
       "      <td>2017-06-01 08:54:00</td>\n",
       "      <td>1.83</td>\n",
       "      <td>12464626743129688638</td>\n",
       "    </tr>\n",
       "  </tbody>\n",
       "</table>\n",
       "</div>"
      ],
      "text/plain": [
       "                Buy Ts  Revenue                   Uid\n",
       "0  2017-06-01 00:10:00    17.00  10329302124590727494\n",
       "1  2017-06-01 00:25:00     0.55  11627257723692907447\n",
       "2  2017-06-01 00:27:00     0.37  17903680561304213844\n",
       "3  2017-06-01 00:29:00     0.55  16109239769442553005\n",
       "4  2017-06-01 07:58:00     0.37  14200605875248379450\n",
       "5  2017-06-01 08:43:00     0.18  10402394430196413321\n",
       "6  2017-06-01 08:54:00     1.83  12464626743129688638"
      ]
     },
     "execution_count": 4,
     "metadata": {},
     "output_type": "execute_result"
    }
   ],
   "source": [
    "orders = pd.read_csv('/datasets/orders_log.csv')\n",
    "orders.head(7)"
   ]
  },
  {
   "cell_type": "markdown",
   "metadata": {},
   "source": [
    "***Таблица orders (информация о заказах):***\n",
    "\n",
    "* Uid — уникальный id пользователя, который сделал заказ\n",
    "* Buy Ts — дата и время заказа\n",
    "* Revenue — выручка Яндекс.Афиши с этого заказа"
   ]
  },
  {
   "cell_type": "code",
   "execution_count": 5,
   "metadata": {},
   "outputs": [
    {
     "name": "stdout",
     "output_type": "stream",
     "text": [
      "<class 'pandas.core.frame.DataFrame'>\n",
      "RangeIndex: 50415 entries, 0 to 50414\n",
      "Data columns (total 3 columns):\n",
      "Buy Ts     50415 non-null object\n",
      "Revenue    50415 non-null float64\n",
      "Uid        50415 non-null uint64\n",
      "dtypes: float64(1), object(1), uint64(1)\n",
      "memory usage: 1.2+ MB\n"
     ]
    }
   ],
   "source": [
    "orders.info()"
   ]
  },
  {
   "cell_type": "markdown",
   "metadata": {},
   "source": [
    "    В таблице orders 50415 строк, пропушенные значения отсутствуют.\n",
    "    В колонке ['Buy Ts'] необходимо изменить тип данных на datetime.\n",
    "    Для удобства в работе необходимо переименовать столбцы и привезти наименование\n",
    "    к нижнему регистру."
   ]
  },
  {
   "cell_type": "code",
   "execution_count": 6,
   "metadata": {},
   "outputs": [
    {
     "data": {
      "text/html": [
       "<div>\n",
       "<style scoped>\n",
       "    .dataframe tbody tr th:only-of-type {\n",
       "        vertical-align: middle;\n",
       "    }\n",
       "\n",
       "    .dataframe tbody tr th {\n",
       "        vertical-align: top;\n",
       "    }\n",
       "\n",
       "    .dataframe thead th {\n",
       "        text-align: right;\n",
       "    }\n",
       "</style>\n",
       "<table border=\"1\" class=\"dataframe\">\n",
       "  <thead>\n",
       "    <tr style=\"text-align: right;\">\n",
       "      <th></th>\n",
       "      <th>source_id</th>\n",
       "      <th>dt</th>\n",
       "      <th>costs</th>\n",
       "    </tr>\n",
       "  </thead>\n",
       "  <tbody>\n",
       "    <tr>\n",
       "      <td>0</td>\n",
       "      <td>1</td>\n",
       "      <td>2017-06-01</td>\n",
       "      <td>75.20</td>\n",
       "    </tr>\n",
       "    <tr>\n",
       "      <td>1</td>\n",
       "      <td>1</td>\n",
       "      <td>2017-06-02</td>\n",
       "      <td>62.25</td>\n",
       "    </tr>\n",
       "    <tr>\n",
       "      <td>2</td>\n",
       "      <td>1</td>\n",
       "      <td>2017-06-03</td>\n",
       "      <td>36.53</td>\n",
       "    </tr>\n",
       "    <tr>\n",
       "      <td>3</td>\n",
       "      <td>1</td>\n",
       "      <td>2017-06-04</td>\n",
       "      <td>55.00</td>\n",
       "    </tr>\n",
       "    <tr>\n",
       "      <td>4</td>\n",
       "      <td>1</td>\n",
       "      <td>2017-06-05</td>\n",
       "      <td>57.08</td>\n",
       "    </tr>\n",
       "    <tr>\n",
       "      <td>5</td>\n",
       "      <td>1</td>\n",
       "      <td>2017-06-06</td>\n",
       "      <td>40.39</td>\n",
       "    </tr>\n",
       "    <tr>\n",
       "      <td>6</td>\n",
       "      <td>1</td>\n",
       "      <td>2017-06-07</td>\n",
       "      <td>40.59</td>\n",
       "    </tr>\n",
       "  </tbody>\n",
       "</table>\n",
       "</div>"
      ],
      "text/plain": [
       "   source_id          dt  costs\n",
       "0          1  2017-06-01  75.20\n",
       "1          1  2017-06-02  62.25\n",
       "2          1  2017-06-03  36.53\n",
       "3          1  2017-06-04  55.00\n",
       "4          1  2017-06-05  57.08\n",
       "5          1  2017-06-06  40.39\n",
       "6          1  2017-06-07  40.59"
      ]
     },
     "execution_count": 6,
     "metadata": {},
     "output_type": "execute_result"
    }
   ],
   "source": [
    "costs = pd.read_csv('/datasets/costs.csv')\n",
    "costs.head(7)"
   ]
  },
  {
   "cell_type": "markdown",
   "metadata": {},
   "source": [
    "***Таблица costs (информация о затратах на маркетинг):***\n",
    "\n",
    "* source_id — идентификатор рекламного источника\n",
    "* dt — дата\n",
    "* costs — затраты на этот рекламный источник в этот день"
   ]
  },
  {
   "cell_type": "code",
   "execution_count": 7,
   "metadata": {},
   "outputs": [
    {
     "data": {
      "text/plain": [
       "array([ 1,  2,  3,  4,  5,  9, 10])"
      ]
     },
     "execution_count": 7,
     "metadata": {},
     "output_type": "execute_result"
    }
   ],
   "source": [
    "costs['source_id'].unique()"
   ]
  },
  {
   "cell_type": "code",
   "execution_count": 8,
   "metadata": {},
   "outputs": [
    {
     "name": "stdout",
     "output_type": "stream",
     "text": [
      "<class 'pandas.core.frame.DataFrame'>\n",
      "RangeIndex: 2542 entries, 0 to 2541\n",
      "Data columns (total 3 columns):\n",
      "source_id    2542 non-null int64\n",
      "dt           2542 non-null object\n",
      "costs        2542 non-null float64\n",
      "dtypes: float64(1), int64(1), object(1)\n",
      "memory usage: 59.7+ KB\n"
     ]
    }
   ],
   "source": [
    "costs.info()"
   ]
  },
  {
   "cell_type": "markdown",
   "metadata": {},
   "source": [
    "    В таблице 2542 строки, пропущенные значения отсутствуют.\n",
    "    В колонке ['dt'] необходимо изменить тип данных на datetime и переимовать столбец.\n"
   ]
  },
  {
   "cell_type": "markdown",
   "metadata": {},
   "source": [
    "### 2. Предобработка данных<a class=\"anchor\" id=\"2-bullet\"></a>"
   ]
  },
  {
   "cell_type": "markdown",
   "metadata": {},
   "source": [
    "### 2.1 Переименование столбцов<a class=\"anchor\" id=\"2-1-bullet\"></a>"
   ]
  },
  {
   "cell_type": "code",
   "execution_count": 9,
   "metadata": {},
   "outputs": [
    {
     "data": {
      "text/html": [
       "<div>\n",
       "<style scoped>\n",
       "    .dataframe tbody tr th:only-of-type {\n",
       "        vertical-align: middle;\n",
       "    }\n",
       "\n",
       "    .dataframe tbody tr th {\n",
       "        vertical-align: top;\n",
       "    }\n",
       "\n",
       "    .dataframe thead th {\n",
       "        text-align: right;\n",
       "    }\n",
       "</style>\n",
       "<table border=\"1\" class=\"dataframe\">\n",
       "  <thead>\n",
       "    <tr style=\"text-align: right;\">\n",
       "      <th></th>\n",
       "      <th>device</th>\n",
       "      <th>session_end_t</th>\n",
       "      <th>source_id</th>\n",
       "      <th>session_start_t</th>\n",
       "      <th>uid</th>\n",
       "    </tr>\n",
       "  </thead>\n",
       "  <tbody>\n",
       "    <tr>\n",
       "      <td>0</td>\n",
       "      <td>touch</td>\n",
       "      <td>2017-12-20 17:38:00</td>\n",
       "      <td>4</td>\n",
       "      <td>2017-12-20 17:20:00</td>\n",
       "      <td>16879256277535980062</td>\n",
       "    </tr>\n",
       "    <tr>\n",
       "      <td>1</td>\n",
       "      <td>desktop</td>\n",
       "      <td>2018-02-19 17:21:00</td>\n",
       "      <td>2</td>\n",
       "      <td>2018-02-19 16:53:00</td>\n",
       "      <td>104060357244891740</td>\n",
       "    </tr>\n",
       "    <tr>\n",
       "      <td>2</td>\n",
       "      <td>touch</td>\n",
       "      <td>2017-07-01 01:54:00</td>\n",
       "      <td>5</td>\n",
       "      <td>2017-07-01 01:54:00</td>\n",
       "      <td>7459035603376831527</td>\n",
       "    </tr>\n",
       "    <tr>\n",
       "      <td>3</td>\n",
       "      <td>desktop</td>\n",
       "      <td>2018-05-20 11:23:00</td>\n",
       "      <td>9</td>\n",
       "      <td>2018-05-20 10:59:00</td>\n",
       "      <td>16174680259334210214</td>\n",
       "    </tr>\n",
       "    <tr>\n",
       "      <td>4</td>\n",
       "      <td>desktop</td>\n",
       "      <td>2017-12-27 14:06:00</td>\n",
       "      <td>3</td>\n",
       "      <td>2017-12-27 14:06:00</td>\n",
       "      <td>9969694820036681168</td>\n",
       "    </tr>\n",
       "  </tbody>\n",
       "</table>\n",
       "</div>"
      ],
      "text/plain": [
       "    device        session_end_t  source_id      session_start_t  \\\n",
       "0    touch  2017-12-20 17:38:00          4  2017-12-20 17:20:00   \n",
       "1  desktop  2018-02-19 17:21:00          2  2018-02-19 16:53:00   \n",
       "2    touch  2017-07-01 01:54:00          5  2017-07-01 01:54:00   \n",
       "3  desktop  2018-05-20 11:23:00          9  2018-05-20 10:59:00   \n",
       "4  desktop  2017-12-27 14:06:00          3  2017-12-27 14:06:00   \n",
       "\n",
       "                    uid  \n",
       "0  16879256277535980062  \n",
       "1    104060357244891740  \n",
       "2   7459035603376831527  \n",
       "3  16174680259334210214  \n",
       "4   9969694820036681168  "
      ]
     },
     "execution_count": 9,
     "metadata": {},
     "output_type": "execute_result"
    }
   ],
   "source": [
    "visits.columns = ['device','session_end_t', 'source_id', 'session_start_t', 'uid']\n",
    "visits.head()"
   ]
  },
  {
   "cell_type": "code",
   "execution_count": 10,
   "metadata": {},
   "outputs": [
    {
     "data": {
      "text/html": [
       "<div>\n",
       "<style scoped>\n",
       "    .dataframe tbody tr th:only-of-type {\n",
       "        vertical-align: middle;\n",
       "    }\n",
       "\n",
       "    .dataframe tbody tr th {\n",
       "        vertical-align: top;\n",
       "    }\n",
       "\n",
       "    .dataframe thead th {\n",
       "        text-align: right;\n",
       "    }\n",
       "</style>\n",
       "<table border=\"1\" class=\"dataframe\">\n",
       "  <thead>\n",
       "    <tr style=\"text-align: right;\">\n",
       "      <th></th>\n",
       "      <th>order_date_t</th>\n",
       "      <th>revenue</th>\n",
       "      <th>uid</th>\n",
       "    </tr>\n",
       "  </thead>\n",
       "  <tbody>\n",
       "    <tr>\n",
       "      <td>0</td>\n",
       "      <td>2017-06-01 00:10:00</td>\n",
       "      <td>17.00</td>\n",
       "      <td>10329302124590727494</td>\n",
       "    </tr>\n",
       "    <tr>\n",
       "      <td>1</td>\n",
       "      <td>2017-06-01 00:25:00</td>\n",
       "      <td>0.55</td>\n",
       "      <td>11627257723692907447</td>\n",
       "    </tr>\n",
       "    <tr>\n",
       "      <td>2</td>\n",
       "      <td>2017-06-01 00:27:00</td>\n",
       "      <td>0.37</td>\n",
       "      <td>17903680561304213844</td>\n",
       "    </tr>\n",
       "    <tr>\n",
       "      <td>3</td>\n",
       "      <td>2017-06-01 00:29:00</td>\n",
       "      <td>0.55</td>\n",
       "      <td>16109239769442553005</td>\n",
       "    </tr>\n",
       "    <tr>\n",
       "      <td>4</td>\n",
       "      <td>2017-06-01 07:58:00</td>\n",
       "      <td>0.37</td>\n",
       "      <td>14200605875248379450</td>\n",
       "    </tr>\n",
       "  </tbody>\n",
       "</table>\n",
       "</div>"
      ],
      "text/plain": [
       "          order_date_t  revenue                   uid\n",
       "0  2017-06-01 00:10:00    17.00  10329302124590727494\n",
       "1  2017-06-01 00:25:00     0.55  11627257723692907447\n",
       "2  2017-06-01 00:27:00     0.37  17903680561304213844\n",
       "3  2017-06-01 00:29:00     0.55  16109239769442553005\n",
       "4  2017-06-01 07:58:00     0.37  14200605875248379450"
      ]
     },
     "execution_count": 10,
     "metadata": {},
     "output_type": "execute_result"
    }
   ],
   "source": [
    "orders.rename(columns={'Buy Ts': 'order_date_t', 'Revenue': 'revenue', 'Uid': 'uid'}, inplace=True)\n",
    "orders.head()"
   ]
  },
  {
   "cell_type": "code",
   "execution_count": 11,
   "metadata": {},
   "outputs": [
    {
     "data": {
      "text/html": [
       "<div>\n",
       "<style scoped>\n",
       "    .dataframe tbody tr th:only-of-type {\n",
       "        vertical-align: middle;\n",
       "    }\n",
       "\n",
       "    .dataframe tbody tr th {\n",
       "        vertical-align: top;\n",
       "    }\n",
       "\n",
       "    .dataframe thead th {\n",
       "        text-align: right;\n",
       "    }\n",
       "</style>\n",
       "<table border=\"1\" class=\"dataframe\">\n",
       "  <thead>\n",
       "    <tr style=\"text-align: right;\">\n",
       "      <th></th>\n",
       "      <th>source_id</th>\n",
       "      <th>date</th>\n",
       "      <th>costs</th>\n",
       "    </tr>\n",
       "  </thead>\n",
       "  <tbody>\n",
       "    <tr>\n",
       "      <td>0</td>\n",
       "      <td>1</td>\n",
       "      <td>2017-06-01</td>\n",
       "      <td>75.20</td>\n",
       "    </tr>\n",
       "    <tr>\n",
       "      <td>1</td>\n",
       "      <td>1</td>\n",
       "      <td>2017-06-02</td>\n",
       "      <td>62.25</td>\n",
       "    </tr>\n",
       "    <tr>\n",
       "      <td>2</td>\n",
       "      <td>1</td>\n",
       "      <td>2017-06-03</td>\n",
       "      <td>36.53</td>\n",
       "    </tr>\n",
       "    <tr>\n",
       "      <td>3</td>\n",
       "      <td>1</td>\n",
       "      <td>2017-06-04</td>\n",
       "      <td>55.00</td>\n",
       "    </tr>\n",
       "    <tr>\n",
       "      <td>4</td>\n",
       "      <td>1</td>\n",
       "      <td>2017-06-05</td>\n",
       "      <td>57.08</td>\n",
       "    </tr>\n",
       "  </tbody>\n",
       "</table>\n",
       "</div>"
      ],
      "text/plain": [
       "   source_id        date  costs\n",
       "0          1  2017-06-01  75.20\n",
       "1          1  2017-06-02  62.25\n",
       "2          1  2017-06-03  36.53\n",
       "3          1  2017-06-04  55.00\n",
       "4          1  2017-06-05  57.08"
      ]
     },
     "execution_count": 11,
     "metadata": {},
     "output_type": "execute_result"
    }
   ],
   "source": [
    "costs.rename(columns={'dt': 'date'}, inplace=True)\n",
    "costs.head()"
   ]
  },
  {
   "cell_type": "markdown",
   "metadata": {},
   "source": [
    "### 2.2 Изменение типов данных<a class=\"anchor\" id=\"2-2-bullet\"></a>"
   ]
  },
  {
   "cell_type": "code",
   "execution_count": 12,
   "metadata": {},
   "outputs": [
    {
     "name": "stdout",
     "output_type": "stream",
     "text": [
      "<class 'pandas.core.frame.DataFrame'>\n",
      "RangeIndex: 359400 entries, 0 to 359399\n",
      "Data columns (total 5 columns):\n",
      "device             359400 non-null object\n",
      "session_end_t      359400 non-null datetime64[ns]\n",
      "source_id          359400 non-null int64\n",
      "session_start_t    359400 non-null datetime64[ns]\n",
      "uid                359400 non-null uint64\n",
      "dtypes: datetime64[ns](2), int64(1), object(1), uint64(1)\n",
      "memory usage: 13.7+ MB\n"
     ]
    }
   ],
   "source": [
    "visits['session_end_t'] = pd.to_datetime(visits['session_end_t'])\n",
    "\n",
    "visits['session_start_t'] = pd.to_datetime(visits['session_start_t'])\n",
    "\n",
    "visits.info()"
   ]
  },
  {
   "cell_type": "code",
   "execution_count": 13,
   "metadata": {},
   "outputs": [
    {
     "data": {
      "text/html": [
       "<div>\n",
       "<style scoped>\n",
       "    .dataframe tbody tr th:only-of-type {\n",
       "        vertical-align: middle;\n",
       "    }\n",
       "\n",
       "    .dataframe tbody tr th {\n",
       "        vertical-align: top;\n",
       "    }\n",
       "\n",
       "    .dataframe thead th {\n",
       "        text-align: right;\n",
       "    }\n",
       "</style>\n",
       "<table border=\"1\" class=\"dataframe\">\n",
       "  <thead>\n",
       "    <tr style=\"text-align: right;\">\n",
       "      <th></th>\n",
       "      <th>device</th>\n",
       "      <th>session_end_t</th>\n",
       "      <th>source_id</th>\n",
       "      <th>session_start_t</th>\n",
       "      <th>uid</th>\n",
       "    </tr>\n",
       "  </thead>\n",
       "  <tbody>\n",
       "    <tr>\n",
       "      <td>0</td>\n",
       "      <td>touch</td>\n",
       "      <td>2017-12-20 17:38:00</td>\n",
       "      <td>4</td>\n",
       "      <td>2017-12-20 17:20:00</td>\n",
       "      <td>16879256277535980062</td>\n",
       "    </tr>\n",
       "    <tr>\n",
       "      <td>1</td>\n",
       "      <td>desktop</td>\n",
       "      <td>2018-02-19 17:21:00</td>\n",
       "      <td>2</td>\n",
       "      <td>2018-02-19 16:53:00</td>\n",
       "      <td>104060357244891740</td>\n",
       "    </tr>\n",
       "    <tr>\n",
       "      <td>2</td>\n",
       "      <td>touch</td>\n",
       "      <td>2017-07-01 01:54:00</td>\n",
       "      <td>5</td>\n",
       "      <td>2017-07-01 01:54:00</td>\n",
       "      <td>7459035603376831527</td>\n",
       "    </tr>\n",
       "    <tr>\n",
       "      <td>3</td>\n",
       "      <td>desktop</td>\n",
       "      <td>2018-05-20 11:23:00</td>\n",
       "      <td>9</td>\n",
       "      <td>2018-05-20 10:59:00</td>\n",
       "      <td>16174680259334210214</td>\n",
       "    </tr>\n",
       "    <tr>\n",
       "      <td>4</td>\n",
       "      <td>desktop</td>\n",
       "      <td>2017-12-27 14:06:00</td>\n",
       "      <td>3</td>\n",
       "      <td>2017-12-27 14:06:00</td>\n",
       "      <td>9969694820036681168</td>\n",
       "    </tr>\n",
       "  </tbody>\n",
       "</table>\n",
       "</div>"
      ],
      "text/plain": [
       "    device       session_end_t  source_id     session_start_t  \\\n",
       "0    touch 2017-12-20 17:38:00          4 2017-12-20 17:20:00   \n",
       "1  desktop 2018-02-19 17:21:00          2 2018-02-19 16:53:00   \n",
       "2    touch 2017-07-01 01:54:00          5 2017-07-01 01:54:00   \n",
       "3  desktop 2018-05-20 11:23:00          9 2018-05-20 10:59:00   \n",
       "4  desktop 2017-12-27 14:06:00          3 2017-12-27 14:06:00   \n",
       "\n",
       "                    uid  \n",
       "0  16879256277535980062  \n",
       "1    104060357244891740  \n",
       "2   7459035603376831527  \n",
       "3  16174680259334210214  \n",
       "4   9969694820036681168  "
      ]
     },
     "execution_count": 13,
     "metadata": {},
     "output_type": "execute_result"
    }
   ],
   "source": [
    "visits.head()"
   ]
  },
  {
   "cell_type": "code",
   "execution_count": 14,
   "metadata": {},
   "outputs": [
    {
     "name": "stdout",
     "output_type": "stream",
     "text": [
      "<class 'pandas.core.frame.DataFrame'>\n",
      "RangeIndex: 50415 entries, 0 to 50414\n",
      "Data columns (total 3 columns):\n",
      "order_date_t    50415 non-null datetime64[ns]\n",
      "revenue         50415 non-null float64\n",
      "uid             50415 non-null uint64\n",
      "dtypes: datetime64[ns](1), float64(1), uint64(1)\n",
      "memory usage: 1.2 MB\n"
     ]
    }
   ],
   "source": [
    "orders['order_date_t'] = pd.to_datetime(orders['order_date_t'])\n",
    "\n",
    "orders.info()"
   ]
  },
  {
   "cell_type": "code",
   "execution_count": 15,
   "metadata": {},
   "outputs": [
    {
     "data": {
      "text/html": [
       "<div>\n",
       "<style scoped>\n",
       "    .dataframe tbody tr th:only-of-type {\n",
       "        vertical-align: middle;\n",
       "    }\n",
       "\n",
       "    .dataframe tbody tr th {\n",
       "        vertical-align: top;\n",
       "    }\n",
       "\n",
       "    .dataframe thead th {\n",
       "        text-align: right;\n",
       "    }\n",
       "</style>\n",
       "<table border=\"1\" class=\"dataframe\">\n",
       "  <thead>\n",
       "    <tr style=\"text-align: right;\">\n",
       "      <th></th>\n",
       "      <th>order_date_t</th>\n",
       "      <th>revenue</th>\n",
       "      <th>uid</th>\n",
       "    </tr>\n",
       "  </thead>\n",
       "  <tbody>\n",
       "    <tr>\n",
       "      <td>0</td>\n",
       "      <td>2017-06-01 00:10:00</td>\n",
       "      <td>17.00</td>\n",
       "      <td>10329302124590727494</td>\n",
       "    </tr>\n",
       "    <tr>\n",
       "      <td>1</td>\n",
       "      <td>2017-06-01 00:25:00</td>\n",
       "      <td>0.55</td>\n",
       "      <td>11627257723692907447</td>\n",
       "    </tr>\n",
       "    <tr>\n",
       "      <td>2</td>\n",
       "      <td>2017-06-01 00:27:00</td>\n",
       "      <td>0.37</td>\n",
       "      <td>17903680561304213844</td>\n",
       "    </tr>\n",
       "    <tr>\n",
       "      <td>3</td>\n",
       "      <td>2017-06-01 00:29:00</td>\n",
       "      <td>0.55</td>\n",
       "      <td>16109239769442553005</td>\n",
       "    </tr>\n",
       "    <tr>\n",
       "      <td>4</td>\n",
       "      <td>2017-06-01 07:58:00</td>\n",
       "      <td>0.37</td>\n",
       "      <td>14200605875248379450</td>\n",
       "    </tr>\n",
       "  </tbody>\n",
       "</table>\n",
       "</div>"
      ],
      "text/plain": [
       "         order_date_t  revenue                   uid\n",
       "0 2017-06-01 00:10:00    17.00  10329302124590727494\n",
       "1 2017-06-01 00:25:00     0.55  11627257723692907447\n",
       "2 2017-06-01 00:27:00     0.37  17903680561304213844\n",
       "3 2017-06-01 00:29:00     0.55  16109239769442553005\n",
       "4 2017-06-01 07:58:00     0.37  14200605875248379450"
      ]
     },
     "execution_count": 15,
     "metadata": {},
     "output_type": "execute_result"
    }
   ],
   "source": [
    "orders.head()"
   ]
  },
  {
   "cell_type": "code",
   "execution_count": 16,
   "metadata": {},
   "outputs": [
    {
     "name": "stdout",
     "output_type": "stream",
     "text": [
      "<class 'pandas.core.frame.DataFrame'>\n",
      "RangeIndex: 2542 entries, 0 to 2541\n",
      "Data columns (total 3 columns):\n",
      "source_id    2542 non-null int64\n",
      "date         2542 non-null datetime64[ns]\n",
      "costs        2542 non-null float64\n",
      "dtypes: datetime64[ns](1), float64(1), int64(1)\n",
      "memory usage: 59.7 KB\n"
     ]
    }
   ],
   "source": [
    "costs['date'] = pd.to_datetime(costs['date'])\n",
    "costs.info()"
   ]
  },
  {
   "cell_type": "markdown",
   "metadata": {},
   "source": [
    "## Шаг 3. Построение отчётов и расчет метрик<a class=\"anchor\" id=\"3-bullet\"></a>"
   ]
  },
  {
   "cell_type": "markdown",
   "metadata": {},
   "source": [
    "### 3.1. Продукт<a class=\"anchor\" id=\"3-1-bullet\"></a>"
   ]
  },
  {
   "cell_type": "markdown",
   "metadata": {},
   "source": [
    "### Сколько людей пользуются Яндекс.Афише в день, неделю, месяц?"
   ]
  },
  {
   "cell_type": "code",
   "execution_count": 17,
   "metadata": {},
   "outputs": [],
   "source": [
    "visits['day'] = visits['session_start_t'].dt.date\n",
    "visits['week'] = visits['session_start_t'].dt.week \n",
    "visits['month'] = visits['session_start_t'].dt.month\n",
    "visits['year']  = visits['session_start_t'].dt.year\n"
   ]
  },
  {
   "cell_type": "code",
   "execution_count": 18,
   "metadata": {},
   "outputs": [
    {
     "data": {
      "text/html": [
       "<div>\n",
       "<style scoped>\n",
       "    .dataframe tbody tr th:only-of-type {\n",
       "        vertical-align: middle;\n",
       "    }\n",
       "\n",
       "    .dataframe tbody tr th {\n",
       "        vertical-align: top;\n",
       "    }\n",
       "\n",
       "    .dataframe thead th {\n",
       "        text-align: right;\n",
       "    }\n",
       "</style>\n",
       "<table border=\"1\" class=\"dataframe\">\n",
       "  <thead>\n",
       "    <tr style=\"text-align: right;\">\n",
       "      <th></th>\n",
       "      <th>device</th>\n",
       "      <th>session_end_t</th>\n",
       "      <th>source_id</th>\n",
       "      <th>session_start_t</th>\n",
       "      <th>uid</th>\n",
       "      <th>day</th>\n",
       "      <th>week</th>\n",
       "      <th>month</th>\n",
       "      <th>year</th>\n",
       "    </tr>\n",
       "  </thead>\n",
       "  <tbody>\n",
       "    <tr>\n",
       "      <td>0</td>\n",
       "      <td>touch</td>\n",
       "      <td>2017-12-20 17:38:00</td>\n",
       "      <td>4</td>\n",
       "      <td>2017-12-20 17:20:00</td>\n",
       "      <td>16879256277535980062</td>\n",
       "      <td>2017-12-20</td>\n",
       "      <td>51</td>\n",
       "      <td>12</td>\n",
       "      <td>2017</td>\n",
       "    </tr>\n",
       "    <tr>\n",
       "      <td>1</td>\n",
       "      <td>desktop</td>\n",
       "      <td>2018-02-19 17:21:00</td>\n",
       "      <td>2</td>\n",
       "      <td>2018-02-19 16:53:00</td>\n",
       "      <td>104060357244891740</td>\n",
       "      <td>2018-02-19</td>\n",
       "      <td>8</td>\n",
       "      <td>2</td>\n",
       "      <td>2018</td>\n",
       "    </tr>\n",
       "    <tr>\n",
       "      <td>2</td>\n",
       "      <td>touch</td>\n",
       "      <td>2017-07-01 01:54:00</td>\n",
       "      <td>5</td>\n",
       "      <td>2017-07-01 01:54:00</td>\n",
       "      <td>7459035603376831527</td>\n",
       "      <td>2017-07-01</td>\n",
       "      <td>26</td>\n",
       "      <td>7</td>\n",
       "      <td>2017</td>\n",
       "    </tr>\n",
       "    <tr>\n",
       "      <td>3</td>\n",
       "      <td>desktop</td>\n",
       "      <td>2018-05-20 11:23:00</td>\n",
       "      <td>9</td>\n",
       "      <td>2018-05-20 10:59:00</td>\n",
       "      <td>16174680259334210214</td>\n",
       "      <td>2018-05-20</td>\n",
       "      <td>20</td>\n",
       "      <td>5</td>\n",
       "      <td>2018</td>\n",
       "    </tr>\n",
       "    <tr>\n",
       "      <td>4</td>\n",
       "      <td>desktop</td>\n",
       "      <td>2017-12-27 14:06:00</td>\n",
       "      <td>3</td>\n",
       "      <td>2017-12-27 14:06:00</td>\n",
       "      <td>9969694820036681168</td>\n",
       "      <td>2017-12-27</td>\n",
       "      <td>52</td>\n",
       "      <td>12</td>\n",
       "      <td>2017</td>\n",
       "    </tr>\n",
       "  </tbody>\n",
       "</table>\n",
       "</div>"
      ],
      "text/plain": [
       "    device       session_end_t  source_id     session_start_t  \\\n",
       "0    touch 2017-12-20 17:38:00          4 2017-12-20 17:20:00   \n",
       "1  desktop 2018-02-19 17:21:00          2 2018-02-19 16:53:00   \n",
       "2    touch 2017-07-01 01:54:00          5 2017-07-01 01:54:00   \n",
       "3  desktop 2018-05-20 11:23:00          9 2018-05-20 10:59:00   \n",
       "4  desktop 2017-12-27 14:06:00          3 2017-12-27 14:06:00   \n",
       "\n",
       "                    uid         day  week  month  year  \n",
       "0  16879256277535980062  2017-12-20    51     12  2017  \n",
       "1    104060357244891740  2018-02-19     8      2  2018  \n",
       "2   7459035603376831527  2017-07-01    26      7  2017  \n",
       "3  16174680259334210214  2018-05-20    20      5  2018  \n",
       "4   9969694820036681168  2017-12-27    52     12  2017  "
      ]
     },
     "execution_count": 18,
     "metadata": {},
     "output_type": "execute_result"
    }
   ],
   "source": [
    "visits.head(5)"
   ]
  },
  {
   "cell_type": "code",
   "execution_count": 19,
   "metadata": {},
   "outputs": [],
   "source": [
    "visits['day'] = pd.to_datetime(visits['day'])"
   ]
  },
  {
   "cell_type": "code",
   "execution_count": 20,
   "metadata": {},
   "outputs": [
    {
     "name": "stdout",
     "output_type": "stream",
     "text": [
      "<class 'pandas.core.frame.DataFrame'>\n",
      "RangeIndex: 359400 entries, 0 to 359399\n",
      "Data columns (total 9 columns):\n",
      "device             359400 non-null object\n",
      "session_end_t      359400 non-null datetime64[ns]\n",
      "source_id          359400 non-null int64\n",
      "session_start_t    359400 non-null datetime64[ns]\n",
      "uid                359400 non-null uint64\n",
      "day                359400 non-null datetime64[ns]\n",
      "week               359400 non-null int64\n",
      "month              359400 non-null int64\n",
      "year               359400 non-null int64\n",
      "dtypes: datetime64[ns](3), int64(4), object(1), uint64(1)\n",
      "memory usage: 24.7+ MB\n"
     ]
    }
   ],
   "source": [
    "visits.info()"
   ]
  },
  {
   "cell_type": "markdown",
   "metadata": {},
   "source": [
    "### Рассчитаем DAU, WAU, MAU<a class=\"anchor\" id=\"3-1-1-bullet\"></a>"
   ]
  },
  {
   "cell_type": "code",
   "execution_count": 21,
   "metadata": {},
   "outputs": [
    {
     "name": "stdout",
     "output_type": "stream",
     "text": [
      "DAU, количество уникальных пользователей в день: uid    908.0\n",
      "dtype: float64\n"
     ]
    }
   ],
   "source": [
    "dau_total = visits.groupby('day').agg({'uid': 'nunique'}).mean()\n",
    "dau_total = dau_total.round()\n",
    "print('DAU, количество уникальных пользователей в день:', dau_total)"
   ]
  },
  {
   "cell_type": "code",
   "execution_count": 22,
   "metadata": {},
   "outputs": [
    {
     "name": "stdout",
     "output_type": "stream",
     "text": [
      "WAU, количество уникальных пользователей в неделю: uid    5716.0\n",
      "dtype: float64\n"
     ]
    }
   ],
   "source": [
    "wau_total = visits.groupby(['year', 'week']).agg({'uid': 'nunique'}).mean()\n",
    "wau_total = wau_total.round()\n",
    "print('WAU, количество уникальных пользователей в неделю:', wau_total)"
   ]
  },
  {
   "cell_type": "code",
   "execution_count": 23,
   "metadata": {},
   "outputs": [
    {
     "name": "stdout",
     "output_type": "stream",
     "text": [
      "MAU, количество уникальных пользователей в месяц: uid    23228.0\n",
      "dtype: float64\n"
     ]
    }
   ],
   "source": [
    "mau_total = visits.groupby(['year', 'month']).agg({'uid': 'nunique'}).mean()\n",
    "mau_total = mau_total.round()\n",
    "print('MAU, количество уникальных пользователей в месяц:', mau_total)"
   ]
  },
  {
   "cell_type": "markdown",
   "metadata": {},
   "source": [
    "   \n",
    "**Посмотрим динамику изменения количества уникальных пользователей в месяц MAU**"
   ]
  },
  {
   "cell_type": "code",
   "execution_count": 24,
   "metadata": {},
   "outputs": [
    {
     "data": {
      "text/html": [
       "<div>\n",
       "<style scoped>\n",
       "    .dataframe tbody tr th:only-of-type {\n",
       "        vertical-align: middle;\n",
       "    }\n",
       "\n",
       "    .dataframe tbody tr th {\n",
       "        vertical-align: top;\n",
       "    }\n",
       "\n",
       "    .dataframe thead th {\n",
       "        text-align: right;\n",
       "    }\n",
       "</style>\n",
       "<table border=\"1\" class=\"dataframe\">\n",
       "  <thead>\n",
       "    <tr style=\"text-align: right;\">\n",
       "      <th></th>\n",
       "      <th></th>\n",
       "      <th>uid</th>\n",
       "    </tr>\n",
       "    <tr>\n",
       "      <th>year</th>\n",
       "      <th>month</th>\n",
       "      <th></th>\n",
       "    </tr>\n",
       "  </thead>\n",
       "  <tbody>\n",
       "    <tr>\n",
       "      <td rowspan=\"7\" valign=\"top\">2017</td>\n",
       "      <td>6</td>\n",
       "      <td>13259</td>\n",
       "    </tr>\n",
       "    <tr>\n",
       "      <td>7</td>\n",
       "      <td>14183</td>\n",
       "    </tr>\n",
       "    <tr>\n",
       "      <td>8</td>\n",
       "      <td>11631</td>\n",
       "    </tr>\n",
       "    <tr>\n",
       "      <td>9</td>\n",
       "      <td>18975</td>\n",
       "    </tr>\n",
       "    <tr>\n",
       "      <td>10</td>\n",
       "      <td>29692</td>\n",
       "    </tr>\n",
       "    <tr>\n",
       "      <td>11</td>\n",
       "      <td>32797</td>\n",
       "    </tr>\n",
       "    <tr>\n",
       "      <td>12</td>\n",
       "      <td>31557</td>\n",
       "    </tr>\n",
       "    <tr>\n",
       "      <td rowspan=\"5\" valign=\"top\">2018</td>\n",
       "      <td>1</td>\n",
       "      <td>28716</td>\n",
       "    </tr>\n",
       "    <tr>\n",
       "      <td>2</td>\n",
       "      <td>28749</td>\n",
       "    </tr>\n",
       "    <tr>\n",
       "      <td>3</td>\n",
       "      <td>27473</td>\n",
       "    </tr>\n",
       "    <tr>\n",
       "      <td>4</td>\n",
       "      <td>21008</td>\n",
       "    </tr>\n",
       "    <tr>\n",
       "      <td>5</td>\n",
       "      <td>20701</td>\n",
       "    </tr>\n",
       "  </tbody>\n",
       "</table>\n",
       "</div>"
      ],
      "text/plain": [
       "              uid\n",
       "year month       \n",
       "2017 6      13259\n",
       "     7      14183\n",
       "     8      11631\n",
       "     9      18975\n",
       "     10     29692\n",
       "     11     32797\n",
       "     12     31557\n",
       "2018 1      28716\n",
       "     2      28749\n",
       "     3      27473\n",
       "     4      21008\n",
       "     5      20701"
      ]
     },
     "execution_count": 24,
     "metadata": {},
     "output_type": "execute_result"
    }
   ],
   "source": [
    "dynamics_mau_total = visits.groupby(['year', 'month']).agg({'uid': 'nunique'}).round()\n",
    "dynamics_mau_total.head(15)"
   ]
  },
  {
   "cell_type": "code",
   "execution_count": 25,
   "metadata": {},
   "outputs": [
    {
     "data": {
      "text/plain": [
       "Text(0.5, 1.0, 'Количества уникальных пользователей в месяц')"
      ]
     },
     "execution_count": 25,
     "metadata": {},
     "output_type": "execute_result"
    },
    {
     "data": {
      "image/png": "[encoded data removed]",
      "text/plain": [
       "<Figure size 360x360 with 1 Axes>"
      ]
     },
     "metadata": {
      "needs_background": "light"
     },
     "output_type": "display_data"
    }
   ],
   "source": [
    "dynamics_mau_total = visits.groupby(['year', 'month']).agg({'uid': 'nunique'}).plot(kind='bar', grid=True, figsize=(5, 5))\n",
    "plt.title('Количества уникальных пользователей в месяц')"
   ]
  },
  {
   "cell_type": "markdown",
   "metadata": {},
   "source": [
    "По Динамике:\n",
    "* июнь, июль, август 2017 - среднее количество уникальных пользователей в месяц не превышает 14200 человек.\n",
    "* рост количества начинается с сентября 2017.\n",
    "* максимально количество уникальных пользователей в день приходится на ноябрь 2017 год (32797 человек).\n",
    "* спад начинается в апреле, мае 2019"
   ]
  },
  {
   "cell_type": "markdown",
   "metadata": {},
   "source": [
    "### Sticky factor, частота и регулярность использования приложения<a class=\"anchor\" id=\"3-1-2-bullet\"></a>"
   ]
  },
  {
   "cell_type": "code",
   "execution_count": 26,
   "metadata": {},
   "outputs": [
    {
     "name": "stdout",
     "output_type": "stream",
     "text": [
      "Sticky Factor (недельный) uid    15.9\n",
      "dtype: float64\n",
      "Sticky Factor (месячный) uid    3.9\n",
      "dtype: float64\n"
     ]
    }
   ],
   "source": [
    "sticky_mau = dau_total / mau_total * 100\n",
    "sticky_wau = dau_total / wau_total * 100\n",
    "print('Sticky Factor (недельный)', sticky_wau.round(1))\n",
    "print('Sticky Factor (месячный)', sticky_mau.round(1))"
   ]
  },
  {
   "cell_type": "markdown",
   "metadata": {},
   "source": [
    "    Sticky factor - показатель лояльности аудитории к сервису.\n",
    "    Показывает частоту и регулярность использования сервиса в течении недели или месяца.\n",
    "    \n",
    "    Нормальным считается показатель Sticky factor месячный - порядка 18%.\n",
    "    В данном случае 3,9%. Если каждый пользователь в течение месяца заходил лишь один раз\n",
    "    показатель равен 3,3%. Чем выше этот показатель, тем регулярнее пользователи заходят в\n",
    "    приложение."
   ]
  },
  {
   "cell_type": "markdown",
   "metadata": {},
   "source": [
    "### Средняя продолжительность сессии или ASL<a class=\"anchor\" id=\"3-1-3-bullet\"></a>"
   ]
  },
  {
   "cell_type": "code",
   "execution_count": 27,
   "metadata": {},
   "outputs": [
    {
     "name": "stdout",
     "output_type": "stream",
     "text": [
      "643.51\n"
     ]
    }
   ],
   "source": [
    "visits['session_duration_sec'] = (visits['session_end_t'] - visits['session_start_t']).dt.seconds\n",
    "print(visits['session_duration_sec'].mean().round(2))"
   ]
  },
  {
   "cell_type": "code",
   "execution_count": 28,
   "metadata": {},
   "outputs": [
    {
     "data": {
      "text/plain": [
       "<matplotlib.axes._subplots.AxesSubplot at 0x7f808dcebc50>"
      ]
     },
     "execution_count": 28,
     "metadata": {},
     "output_type": "execute_result"
    },
    {
     "data": {
      "image/png": "[encoded data removed]",
      "text/plain": [
       "<Figure size 432x288 with 1 Axes>"
      ]
     },
     "metadata": {
      "needs_background": "light"
     },
     "output_type": "display_data"
    }
   ],
   "source": [
    "visits['session_duration_sec'].hist(bins=30)"
   ]
  },
  {
   "cell_type": "markdown",
   "metadata": {},
   "source": [
    "    Когда распределение близко к нормальному или нормальное — можно смотреть на среднюю\n",
    "    или медиану. Но данное распределение не является нормальным, поэтому рассчитаем моду\n",
    "    (значение в выборке, которое встречается чаще всего):"
   ]
  },
  {
   "cell_type": "code",
   "execution_count": 29,
   "metadata": {},
   "outputs": [
    {
     "name": "stdout",
     "output_type": "stream",
     "text": [
      "0    60\n",
      "dtype: int64\n"
     ]
    }
   ],
   "source": [
    "print(visits['session_duration_sec'].mode())"
   ]
  },
  {
   "cell_type": "markdown",
   "metadata": {},
   "source": [
    "    Средняя продолжительность сессии длится - 60 секунд\n",
    "    \n",
    "    \n",
    "\n"
   ]
  },
  {
   "cell_type": "markdown",
   "metadata": {},
   "source": [
    "### Сколько сессий в день?"
   ]
  },
  {
   "cell_type": "code",
   "execution_count": 30,
   "metadata": {},
   "outputs": [
    {
     "name": "stdout",
     "output_type": "stream",
     "text": [
      "uid  count      987.0\n",
      "     nunique    908.0\n",
      "dtype: float64\n"
     ]
    }
   ],
   "source": [
    "sessions_per_user = visits.groupby(['year', 'day']).agg({'uid': ['count','nunique']}).mean()\n",
    "print(sessions_per_user.round())"
   ]
  },
  {
   "cell_type": "markdown",
   "metadata": {},
   "source": [
    "    В среднем в день совершается 985 сессий. Из них 906 сессий от уникальных пользователей.\n"
   ]
  },
  {
   "cell_type": "markdown",
   "metadata": {},
   "source": [
    "    \n",
    "**Посмотрим на динамику совершаемых сессий в день**\n",
    "    "
   ]
  },
  {
   "cell_type": "code",
   "execution_count": 31,
   "metadata": {},
   "outputs": [],
   "source": [
    "sessions_per_user_1 = visits.groupby(['year', 'month', 'day']).agg({'uid':['count', 'nunique']})"
   ]
  },
  {
   "cell_type": "code",
   "execution_count": 32,
   "metadata": {},
   "outputs": [],
   "source": [
    "sessions_per_user_1.columns = ['count', 'n_sessions_per_day']"
   ]
  },
  {
   "cell_type": "code",
   "execution_count": 33,
   "metadata": {},
   "outputs": [
    {
     "data": {
      "text/html": [
       "<div>\n",
       "<style scoped>\n",
       "    .dataframe tbody tr th:only-of-type {\n",
       "        vertical-align: middle;\n",
       "    }\n",
       "\n",
       "    .dataframe tbody tr th {\n",
       "        vertical-align: top;\n",
       "    }\n",
       "\n",
       "    .dataframe thead th {\n",
       "        text-align: right;\n",
       "    }\n",
       "</style>\n",
       "<table border=\"1\" class=\"dataframe\">\n",
       "  <thead>\n",
       "    <tr style=\"text-align: right;\">\n",
       "      <th></th>\n",
       "      <th></th>\n",
       "      <th>n_sessions_per_day</th>\n",
       "    </tr>\n",
       "    <tr>\n",
       "      <th>year</th>\n",
       "      <th>month</th>\n",
       "      <th></th>\n",
       "    </tr>\n",
       "  </thead>\n",
       "  <tbody>\n",
       "    <tr>\n",
       "      <td rowspan=\"7\" valign=\"top\">2017</td>\n",
       "      <td>6</td>\n",
       "      <td>511.0</td>\n",
       "    </tr>\n",
       "    <tr>\n",
       "      <td>7</td>\n",
       "      <td>532.0</td>\n",
       "    </tr>\n",
       "    <tr>\n",
       "      <td>8</td>\n",
       "      <td>433.0</td>\n",
       "    </tr>\n",
       "    <tr>\n",
       "      <td>9</td>\n",
       "      <td>739.0</td>\n",
       "    </tr>\n",
       "    <tr>\n",
       "      <td>10</td>\n",
       "      <td>1133.0</td>\n",
       "    </tr>\n",
       "    <tr>\n",
       "      <td>11</td>\n",
       "      <td>1329.0</td>\n",
       "    </tr>\n",
       "    <tr>\n",
       "      <td>12</td>\n",
       "      <td>1241.0</td>\n",
       "    </tr>\n",
       "    <tr>\n",
       "      <td rowspan=\"5\" valign=\"top\">2018</td>\n",
       "      <td>1</td>\n",
       "      <td>1097.0</td>\n",
       "    </tr>\n",
       "    <tr>\n",
       "      <td>2</td>\n",
       "      <td>1217.0</td>\n",
       "    </tr>\n",
       "    <tr>\n",
       "      <td>3</td>\n",
       "      <td>1053.0</td>\n",
       "    </tr>\n",
       "    <tr>\n",
       "      <td>4</td>\n",
       "      <td>846.0</td>\n",
       "    </tr>\n",
       "    <tr>\n",
       "      <td>5</td>\n",
       "      <td>786.0</td>\n",
       "    </tr>\n",
       "  </tbody>\n",
       "</table>\n",
       "</div>"
      ],
      "text/plain": [
       "            n_sessions_per_day\n",
       "year month                    \n",
       "2017 6                   511.0\n",
       "     7                   532.0\n",
       "     8                   433.0\n",
       "     9                   739.0\n",
       "     10                 1133.0\n",
       "     11                 1329.0\n",
       "     12                 1241.0\n",
       "2018 1                  1097.0\n",
       "     2                  1217.0\n",
       "     3                  1053.0\n",
       "     4                   846.0\n",
       "     5                   786.0"
      ]
     },
     "execution_count": 33,
     "metadata": {},
     "output_type": "execute_result"
    }
   ],
   "source": [
    "sessions_per_user_1.groupby(['year', 'month']).agg({'n_sessions_per_day':'mean'}).round()"
   ]
  },
  {
   "cell_type": "code",
   "execution_count": 34,
   "metadata": {},
   "outputs": [
    {
     "data": {
      "text/plain": [
       "Text(0.5, 1.0, 'Количество сессий в день')"
      ]
     },
     "execution_count": 34,
     "metadata": {},
     "output_type": "execute_result"
    },
    {
     "data": {
      "image/png": "[encoded data removed]",
      "text/plain": [
       "<Figure size 432x432 with 1 Axes>"
      ]
     },
     "metadata": {
      "needs_background": "light"
     },
     "output_type": "display_data"
    }
   ],
   "source": [
    "sessions_per_user_1.groupby(['year', 'month']).agg({'n_sessions_per_day':'mean'}).plot(kind='bar', grid=True, figsize=(6, 6))\n",
    "plt.title('Количество сессий в день')"
   ]
  },
  {
   "cell_type": "markdown",
   "metadata": {},
   "source": [
    "   \n",
    "    По динамике сессий в день:\n",
    "    * июнь, июль, август 2017 - среднее количество сессий в день не превышает 550 шт.\n",
    "    * рост количества начинается с сентября 2017.\n",
    "    * максимально количество сессий в день приходится на ноябрь 2017 год (1329 шт в среднем).\n",
    "    * заметный спад начинается в апреле, мае 2019"
   ]
  },
  {
   "cell_type": "markdown",
   "metadata": {},
   "source": [
    "### Как часто люди возвращаются?"
   ]
  },
  {
   "cell_type": "code",
   "execution_count": 35,
   "metadata": {},
   "outputs": [],
   "source": [
    "visits['session_end_wt'] = pd.to_datetime(visits['session_end_t']).dt.normalize()\n",
    "visits['session_start_wt'] = pd.to_datetime(visits['session_start_t']).dt.normalize()"
   ]
  },
  {
   "cell_type": "code",
   "execution_count": 36,
   "metadata": {},
   "outputs": [
    {
     "data": {
      "text/html": [
       "<div>\n",
       "<style scoped>\n",
       "    .dataframe tbody tr th:only-of-type {\n",
       "        vertical-align: middle;\n",
       "    }\n",
       "\n",
       "    .dataframe tbody tr th {\n",
       "        vertical-align: top;\n",
       "    }\n",
       "\n",
       "    .dataframe thead th {\n",
       "        text-align: right;\n",
       "    }\n",
       "</style>\n",
       "<table border=\"1\" class=\"dataframe\">\n",
       "  <thead>\n",
       "    <tr style=\"text-align: right;\">\n",
       "      <th></th>\n",
       "      <th>device</th>\n",
       "      <th>session_end_t</th>\n",
       "      <th>source_id</th>\n",
       "      <th>session_start_t</th>\n",
       "      <th>uid</th>\n",
       "      <th>day</th>\n",
       "      <th>week</th>\n",
       "      <th>month</th>\n",
       "      <th>year</th>\n",
       "      <th>session_duration_sec</th>\n",
       "      <th>session_end_wt</th>\n",
       "      <th>session_start_wt</th>\n",
       "      <th>first_visit_date</th>\n",
       "    </tr>\n",
       "  </thead>\n",
       "  <tbody>\n",
       "    <tr>\n",
       "      <td>0</td>\n",
       "      <td>touch</td>\n",
       "      <td>2017-12-20 17:38:00</td>\n",
       "      <td>4</td>\n",
       "      <td>2017-12-20 17:20:00</td>\n",
       "      <td>16879256277535980062</td>\n",
       "      <td>2017-12-20</td>\n",
       "      <td>51</td>\n",
       "      <td>12</td>\n",
       "      <td>2017</td>\n",
       "      <td>1080</td>\n",
       "      <td>2017-12-20</td>\n",
       "      <td>2017-12-20</td>\n",
       "      <td>2017-12-20</td>\n",
       "    </tr>\n",
       "    <tr>\n",
       "      <td>1</td>\n",
       "      <td>desktop</td>\n",
       "      <td>2018-02-19 17:21:00</td>\n",
       "      <td>2</td>\n",
       "      <td>2018-02-19 16:53:00</td>\n",
       "      <td>104060357244891740</td>\n",
       "      <td>2018-02-19</td>\n",
       "      <td>8</td>\n",
       "      <td>2</td>\n",
       "      <td>2018</td>\n",
       "      <td>1680</td>\n",
       "      <td>2018-02-19</td>\n",
       "      <td>2018-02-19</td>\n",
       "      <td>2018-02-19</td>\n",
       "    </tr>\n",
       "    <tr>\n",
       "      <td>2</td>\n",
       "      <td>touch</td>\n",
       "      <td>2017-07-01 01:54:00</td>\n",
       "      <td>5</td>\n",
       "      <td>2017-07-01 01:54:00</td>\n",
       "      <td>7459035603376831527</td>\n",
       "      <td>2017-07-01</td>\n",
       "      <td>26</td>\n",
       "      <td>7</td>\n",
       "      <td>2017</td>\n",
       "      <td>0</td>\n",
       "      <td>2017-07-01</td>\n",
       "      <td>2017-07-01</td>\n",
       "      <td>2017-07-01</td>\n",
       "    </tr>\n",
       "    <tr>\n",
       "      <td>3</td>\n",
       "      <td>desktop</td>\n",
       "      <td>2018-05-20 11:23:00</td>\n",
       "      <td>9</td>\n",
       "      <td>2018-05-20 10:59:00</td>\n",
       "      <td>16174680259334210214</td>\n",
       "      <td>2018-05-20</td>\n",
       "      <td>20</td>\n",
       "      <td>5</td>\n",
       "      <td>2018</td>\n",
       "      <td>1440</td>\n",
       "      <td>2018-05-20</td>\n",
       "      <td>2018-05-20</td>\n",
       "      <td>2018-03-09</td>\n",
       "    </tr>\n",
       "    <tr>\n",
       "      <td>4</td>\n",
       "      <td>desktop</td>\n",
       "      <td>2017-12-27 14:06:00</td>\n",
       "      <td>3</td>\n",
       "      <td>2017-12-27 14:06:00</td>\n",
       "      <td>9969694820036681168</td>\n",
       "      <td>2017-12-27</td>\n",
       "      <td>52</td>\n",
       "      <td>12</td>\n",
       "      <td>2017</td>\n",
       "      <td>0</td>\n",
       "      <td>2017-12-27</td>\n",
       "      <td>2017-12-27</td>\n",
       "      <td>2017-12-27</td>\n",
       "    </tr>\n",
       "  </tbody>\n",
       "</table>\n",
       "</div>"
      ],
      "text/plain": [
       "    device       session_end_t  source_id     session_start_t  \\\n",
       "0    touch 2017-12-20 17:38:00          4 2017-12-20 17:20:00   \n",
       "1  desktop 2018-02-19 17:21:00          2 2018-02-19 16:53:00   \n",
       "2    touch 2017-07-01 01:54:00          5 2017-07-01 01:54:00   \n",
       "3  desktop 2018-05-20 11:23:00          9 2018-05-20 10:59:00   \n",
       "4  desktop 2017-12-27 14:06:00          3 2017-12-27 14:06:00   \n",
       "\n",
       "                    uid        day  week  month  year  session_duration_sec  \\\n",
       "0  16879256277535980062 2017-12-20    51     12  2017                  1080   \n",
       "1    104060357244891740 2018-02-19     8      2  2018                  1680   \n",
       "2   7459035603376831527 2017-07-01    26      7  2017                     0   \n",
       "3  16174680259334210214 2018-05-20    20      5  2018                  1440   \n",
       "4   9969694820036681168 2017-12-27    52     12  2017                     0   \n",
       "\n",
       "  session_end_wt session_start_wt first_visit_date  \n",
       "0     2017-12-20       2017-12-20       2017-12-20  \n",
       "1     2018-02-19       2018-02-19       2018-02-19  \n",
       "2     2017-07-01       2017-07-01       2017-07-01  \n",
       "3     2018-05-20       2018-05-20       2018-03-09  \n",
       "4     2017-12-27       2017-12-27       2017-12-27  "
      ]
     },
     "execution_count": 36,
     "metadata": {},
     "output_type": "execute_result"
    }
   ],
   "source": [
    "first_visit_date = visits.groupby(['uid'])['session_start_wt'].min()\n",
    "first_visit_date.name = 'first_visit_date'\n",
    "visits = visits.join(first_visit_date,on='uid')\n",
    "visits.head()"
   ]
  },
  {
   "cell_type": "code",
   "execution_count": 37,
   "metadata": {},
   "outputs": [],
   "source": [
    "visits['activity_montn'] = visits['session_start_wt'].astype('datetime64[M]')\n",
    "visits['first_activity_month'] = visits['first_visit_date'].astype('datetime64[M]')"
   ]
  },
  {
   "cell_type": "code",
   "execution_count": 38,
   "metadata": {},
   "outputs": [
    {
     "name": "stdout",
     "output_type": "stream",
     "text": [
      "<class 'pandas.core.frame.DataFrame'>\n",
      "RangeIndex: 359400 entries, 0 to 359399\n",
      "Data columns (total 15 columns):\n",
      "device                  359400 non-null object\n",
      "session_end_t           359400 non-null datetime64[ns]\n",
      "source_id               359400 non-null int64\n",
      "session_start_t         359400 non-null datetime64[ns]\n",
      "uid                     359400 non-null uint64\n",
      "day                     359400 non-null datetime64[ns]\n",
      "week                    359400 non-null int64\n",
      "month                   359400 non-null int64\n",
      "year                    359400 non-null int64\n",
      "session_duration_sec    359400 non-null int64\n",
      "session_end_wt          359400 non-null datetime64[ns]\n",
      "session_start_wt        359400 non-null datetime64[ns]\n",
      "first_visit_date        359400 non-null datetime64[ns]\n",
      "activity_montn          359400 non-null datetime64[ns]\n",
      "first_activity_month    359400 non-null datetime64[ns]\n",
      "dtypes: datetime64[ns](8), int64(5), object(1), uint64(1)\n",
      "memory usage: 41.1+ MB\n"
     ]
    }
   ],
   "source": [
    "visits.info()"
   ]
  },
  {
   "cell_type": "markdown",
   "metadata": {},
   "source": [
    "   \n",
    "**Посмортим число пользователей в каждой когорте**"
   ]
  },
  {
   "cell_type": "code",
   "execution_count": 39,
   "metadata": {},
   "outputs": [
    {
     "data": {
      "text/html": [
       "<div>\n",
       "<style scoped>\n",
       "    .dataframe tbody tr th:only-of-type {\n",
       "        vertical-align: middle;\n",
       "    }\n",
       "\n",
       "    .dataframe tbody tr th {\n",
       "        vertical-align: top;\n",
       "    }\n",
       "\n",
       "    .dataframe thead th {\n",
       "        text-align: right;\n",
       "    }\n",
       "</style>\n",
       "<table border=\"1\" class=\"dataframe\">\n",
       "  <thead>\n",
       "    <tr style=\"text-align: right;\">\n",
       "      <th></th>\n",
       "      <th>cohort</th>\n",
       "      <th>qty_users</th>\n",
       "      <th>qty_sessions</th>\n",
       "    </tr>\n",
       "  </thead>\n",
       "  <tbody>\n",
       "    <tr>\n",
       "      <td>0</td>\n",
       "      <td>2017-06-01</td>\n",
       "      <td>13259</td>\n",
       "      <td>40863</td>\n",
       "    </tr>\n",
       "    <tr>\n",
       "      <td>1</td>\n",
       "      <td>2017-07-01</td>\n",
       "      <td>13140</td>\n",
       "      <td>25370</td>\n",
       "    </tr>\n",
       "    <tr>\n",
       "      <td>2</td>\n",
       "      <td>2017-08-01</td>\n",
       "      <td>10181</td>\n",
       "      <td>18671</td>\n",
       "    </tr>\n",
       "    <tr>\n",
       "      <td>3</td>\n",
       "      <td>2017-09-01</td>\n",
       "      <td>16704</td>\n",
       "      <td>28795</td>\n",
       "    </tr>\n",
       "    <tr>\n",
       "      <td>4</td>\n",
       "      <td>2017-10-01</td>\n",
       "      <td>25977</td>\n",
       "      <td>41682</td>\n",
       "    </tr>\n",
       "    <tr>\n",
       "      <td>5</td>\n",
       "      <td>2017-11-01</td>\n",
       "      <td>27248</td>\n",
       "      <td>44383</td>\n",
       "    </tr>\n",
       "    <tr>\n",
       "      <td>6</td>\n",
       "      <td>2017-12-01</td>\n",
       "      <td>25268</td>\n",
       "      <td>36258</td>\n",
       "    </tr>\n",
       "    <tr>\n",
       "      <td>7</td>\n",
       "      <td>2018-01-01</td>\n",
       "      <td>22624</td>\n",
       "      <td>31189</td>\n",
       "    </tr>\n",
       "    <tr>\n",
       "      <td>8</td>\n",
       "      <td>2018-02-01</td>\n",
       "      <td>22197</td>\n",
       "      <td>29099</td>\n",
       "    </tr>\n",
       "    <tr>\n",
       "      <td>9</td>\n",
       "      <td>2018-03-01</td>\n",
       "      <td>20589</td>\n",
       "      <td>26269</td>\n",
       "    </tr>\n",
       "    <tr>\n",
       "      <td>10</td>\n",
       "      <td>2018-04-01</td>\n",
       "      <td>15709</td>\n",
       "      <td>19360</td>\n",
       "    </tr>\n",
       "    <tr>\n",
       "      <td>11</td>\n",
       "      <td>2018-05-01</td>\n",
       "      <td>15273</td>\n",
       "      <td>17461</td>\n",
       "    </tr>\n",
       "  </tbody>\n",
       "</table>\n",
       "</div>"
      ],
      "text/plain": [
       "       cohort  qty_users  qty_sessions\n",
       "0  2017-06-01      13259         40863\n",
       "1  2017-07-01      13140         25370\n",
       "2  2017-08-01      10181         18671\n",
       "3  2017-09-01      16704         28795\n",
       "4  2017-10-01      25977         41682\n",
       "5  2017-11-01      27248         44383\n",
       "6  2017-12-01      25268         36258\n",
       "7  2018-01-01      22624         31189\n",
       "8  2018-02-01      22197         29099\n",
       "9  2018-03-01      20589         26269\n",
       "10 2018-04-01      15709         19360\n",
       "11 2018-05-01      15273         17461"
      ]
     },
     "execution_count": 39,
     "metadata": {},
     "output_type": "execute_result"
    }
   ],
   "source": [
    "cohort_grouped = visits.groupby('first_activity_month').agg({'uid':'nunique','session_start_wt':'count'}).reset_index()\n",
    "cohort_grouped.columns = ['cohort', 'qty_users', 'qty_sessions']\n",
    "cohort_grouped.head(15)"
   ]
  },
  {
   "cell_type": "markdown",
   "metadata": {},
   "source": [
    "    С декабря 2017 число пользователей в каждой следующей когорте падает.\n",
    "    Значит, в Яндекс.Афиша со временем приходит всё меньше и меньше новых пользователей. \n",
    "\n",
    "    Пик посещений приходится на когорты октября и ноября. Далее количество посещений по каждой следующей когорте\n",
    "    меньше предыдущей. Это логично, ведь более старые когорты существуют дольше, и пользователи из них совершали\n",
    "    посещения в течение большего времени.\n"
   ]
  },
  {
   "cell_type": "markdown",
   "metadata": {},
   "source": [
    "**Посмотрим на количество посещений пользователей в каждой когорте по месяцам**"
   ]
  },
  {
   "cell_type": "code",
   "execution_count": 40,
   "metadata": {},
   "outputs": [
    {
     "data": {
      "text/html": [
       "<div>\n",
       "<style scoped>\n",
       "    .dataframe tbody tr th:only-of-type {\n",
       "        vertical-align: middle;\n",
       "    }\n",
       "\n",
       "    .dataframe tbody tr th {\n",
       "        vertical-align: top;\n",
       "    }\n",
       "\n",
       "    .dataframe thead th {\n",
       "        text-align: right;\n",
       "    }\n",
       "</style>\n",
       "<table border=\"1\" class=\"dataframe\">\n",
       "  <thead>\n",
       "    <tr style=\"text-align: right;\">\n",
       "      <th>activity_montn</th>\n",
       "      <th>2017-06-01</th>\n",
       "      <th>2017-07-01</th>\n",
       "      <th>2017-08-01</th>\n",
       "      <th>2017-09-01</th>\n",
       "      <th>2017-10-01</th>\n",
       "      <th>2017-11-01</th>\n",
       "      <th>2017-12-01</th>\n",
       "      <th>2018-01-01</th>\n",
       "      <th>2018-02-01</th>\n",
       "      <th>2018-03-01</th>\n",
       "      <th>2018-04-01</th>\n",
       "      <th>2018-05-01</th>\n",
       "    </tr>\n",
       "    <tr>\n",
       "      <th>first_activity_month</th>\n",
       "      <th></th>\n",
       "      <th></th>\n",
       "      <th></th>\n",
       "      <th></th>\n",
       "      <th></th>\n",
       "      <th></th>\n",
       "      <th></th>\n",
       "      <th></th>\n",
       "      <th></th>\n",
       "      <th></th>\n",
       "      <th></th>\n",
       "      <th></th>\n",
       "    </tr>\n",
       "  </thead>\n",
       "  <tbody>\n",
       "    <tr>\n",
       "      <td>2017-06-01</td>\n",
       "      <td>13259.0</td>\n",
       "      <td>1043.0</td>\n",
       "      <td>713.0</td>\n",
       "      <td>814.0</td>\n",
       "      <td>909.0</td>\n",
       "      <td>947.0</td>\n",
       "      <td>809.0</td>\n",
       "      <td>766.0</td>\n",
       "      <td>694.0</td>\n",
       "      <td>674.0</td>\n",
       "      <td>539.0</td>\n",
       "      <td>596.0</td>\n",
       "    </tr>\n",
       "    <tr>\n",
       "      <td>2017-07-01</td>\n",
       "      <td>NaN</td>\n",
       "      <td>13140.0</td>\n",
       "      <td>737.0</td>\n",
       "      <td>674.0</td>\n",
       "      <td>738.0</td>\n",
       "      <td>765.0</td>\n",
       "      <td>633.0</td>\n",
       "      <td>596.0</td>\n",
       "      <td>601.0</td>\n",
       "      <td>510.0</td>\n",
       "      <td>376.0</td>\n",
       "      <td>361.0</td>\n",
       "    </tr>\n",
       "    <tr>\n",
       "      <td>2017-08-01</td>\n",
       "      <td>NaN</td>\n",
       "      <td>NaN</td>\n",
       "      <td>10181.0</td>\n",
       "      <td>783.0</td>\n",
       "      <td>640.0</td>\n",
       "      <td>639.0</td>\n",
       "      <td>510.0</td>\n",
       "      <td>448.0</td>\n",
       "      <td>370.0</td>\n",
       "      <td>402.0</td>\n",
       "      <td>284.0</td>\n",
       "      <td>265.0</td>\n",
       "    </tr>\n",
       "    <tr>\n",
       "      <td>2017-09-01</td>\n",
       "      <td>NaN</td>\n",
       "      <td>NaN</td>\n",
       "      <td>NaN</td>\n",
       "      <td>16704.0</td>\n",
       "      <td>1428.0</td>\n",
       "      <td>1156.0</td>\n",
       "      <td>847.0</td>\n",
       "      <td>658.0</td>\n",
       "      <td>632.0</td>\n",
       "      <td>599.0</td>\n",
       "      <td>404.0</td>\n",
       "      <td>381.0</td>\n",
       "    </tr>\n",
       "    <tr>\n",
       "      <td>2017-10-01</td>\n",
       "      <td>NaN</td>\n",
       "      <td>NaN</td>\n",
       "      <td>NaN</td>\n",
       "      <td>NaN</td>\n",
       "      <td>25977.0</td>\n",
       "      <td>2042.0</td>\n",
       "      <td>1357.0</td>\n",
       "      <td>1012.0</td>\n",
       "      <td>890.0</td>\n",
       "      <td>837.0</td>\n",
       "      <td>555.0</td>\n",
       "      <td>529.0</td>\n",
       "    </tr>\n",
       "    <tr>\n",
       "      <td>2017-11-01</td>\n",
       "      <td>NaN</td>\n",
       "      <td>NaN</td>\n",
       "      <td>NaN</td>\n",
       "      <td>NaN</td>\n",
       "      <td>NaN</td>\n",
       "      <td>27248.0</td>\n",
       "      <td>2133.0</td>\n",
       "      <td>1202.0</td>\n",
       "      <td>1054.0</td>\n",
       "      <td>919.0</td>\n",
       "      <td>638.0</td>\n",
       "      <td>594.0</td>\n",
       "    </tr>\n",
       "    <tr>\n",
       "      <td>2017-12-01</td>\n",
       "      <td>NaN</td>\n",
       "      <td>NaN</td>\n",
       "      <td>NaN</td>\n",
       "      <td>NaN</td>\n",
       "      <td>NaN</td>\n",
       "      <td>NaN</td>\n",
       "      <td>25268.0</td>\n",
       "      <td>1410.0</td>\n",
       "      <td>960.0</td>\n",
       "      <td>786.0</td>\n",
       "      <td>512.0</td>\n",
       "      <td>481.0</td>\n",
       "    </tr>\n",
       "    <tr>\n",
       "      <td>2018-01-01</td>\n",
       "      <td>NaN</td>\n",
       "      <td>NaN</td>\n",
       "      <td>NaN</td>\n",
       "      <td>NaN</td>\n",
       "      <td>NaN</td>\n",
       "      <td>NaN</td>\n",
       "      <td>NaN</td>\n",
       "      <td>22624.0</td>\n",
       "      <td>1351.0</td>\n",
       "      <td>890.0</td>\n",
       "      <td>565.0</td>\n",
       "      <td>458.0</td>\n",
       "    </tr>\n",
       "    <tr>\n",
       "      <td>2018-02-01</td>\n",
       "      <td>NaN</td>\n",
       "      <td>NaN</td>\n",
       "      <td>NaN</td>\n",
       "      <td>NaN</td>\n",
       "      <td>NaN</td>\n",
       "      <td>NaN</td>\n",
       "      <td>NaN</td>\n",
       "      <td>NaN</td>\n",
       "      <td>22197.0</td>\n",
       "      <td>1267.0</td>\n",
       "      <td>565.0</td>\n",
       "      <td>446.0</td>\n",
       "    </tr>\n",
       "    <tr>\n",
       "      <td>2018-03-01</td>\n",
       "      <td>NaN</td>\n",
       "      <td>NaN</td>\n",
       "      <td>NaN</td>\n",
       "      <td>NaN</td>\n",
       "      <td>NaN</td>\n",
       "      <td>NaN</td>\n",
       "      <td>NaN</td>\n",
       "      <td>NaN</td>\n",
       "      <td>NaN</td>\n",
       "      <td>20589.0</td>\n",
       "      <td>861.0</td>\n",
       "      <td>557.0</td>\n",
       "    </tr>\n",
       "    <tr>\n",
       "      <td>2018-04-01</td>\n",
       "      <td>NaN</td>\n",
       "      <td>NaN</td>\n",
       "      <td>NaN</td>\n",
       "      <td>NaN</td>\n",
       "      <td>NaN</td>\n",
       "      <td>NaN</td>\n",
       "      <td>NaN</td>\n",
       "      <td>NaN</td>\n",
       "      <td>NaN</td>\n",
       "      <td>NaN</td>\n",
       "      <td>15709.0</td>\n",
       "      <td>760.0</td>\n",
       "    </tr>\n",
       "    <tr>\n",
       "      <td>2018-05-01</td>\n",
       "      <td>NaN</td>\n",
       "      <td>NaN</td>\n",
       "      <td>NaN</td>\n",
       "      <td>NaN</td>\n",
       "      <td>NaN</td>\n",
       "      <td>NaN</td>\n",
       "      <td>NaN</td>\n",
       "      <td>NaN</td>\n",
       "      <td>NaN</td>\n",
       "      <td>NaN</td>\n",
       "      <td>NaN</td>\n",
       "      <td>15273.0</td>\n",
       "    </tr>\n",
       "  </tbody>\n",
       "</table>\n",
       "</div>"
      ],
      "text/plain": [
       "activity_montn        2017-06-01  2017-07-01  2017-08-01  2017-09-01  \\\n",
       "first_activity_month                                                   \n",
       "2017-06-01               13259.0      1043.0       713.0       814.0   \n",
       "2017-07-01                   NaN     13140.0       737.0       674.0   \n",
       "2017-08-01                   NaN         NaN     10181.0       783.0   \n",
       "2017-09-01                   NaN         NaN         NaN     16704.0   \n",
       "2017-10-01                   NaN         NaN         NaN         NaN   \n",
       "2017-11-01                   NaN         NaN         NaN         NaN   \n",
       "2017-12-01                   NaN         NaN         NaN         NaN   \n",
       "2018-01-01                   NaN         NaN         NaN         NaN   \n",
       "2018-02-01                   NaN         NaN         NaN         NaN   \n",
       "2018-03-01                   NaN         NaN         NaN         NaN   \n",
       "2018-04-01                   NaN         NaN         NaN         NaN   \n",
       "2018-05-01                   NaN         NaN         NaN         NaN   \n",
       "\n",
       "activity_montn        2017-10-01  2017-11-01  2017-12-01  2018-01-01  \\\n",
       "first_activity_month                                                   \n",
       "2017-06-01                 909.0       947.0       809.0       766.0   \n",
       "2017-07-01                 738.0       765.0       633.0       596.0   \n",
       "2017-08-01                 640.0       639.0       510.0       448.0   \n",
       "2017-09-01                1428.0      1156.0       847.0       658.0   \n",
       "2017-10-01               25977.0      2042.0      1357.0      1012.0   \n",
       "2017-11-01                   NaN     27248.0      2133.0      1202.0   \n",
       "2017-12-01                   NaN         NaN     25268.0      1410.0   \n",
       "2018-01-01                   NaN         NaN         NaN     22624.0   \n",
       "2018-02-01                   NaN         NaN         NaN         NaN   \n",
       "2018-03-01                   NaN         NaN         NaN         NaN   \n",
       "2018-04-01                   NaN         NaN         NaN         NaN   \n",
       "2018-05-01                   NaN         NaN         NaN         NaN   \n",
       "\n",
       "activity_montn        2018-02-01  2018-03-01  2018-04-01  2018-05-01  \n",
       "first_activity_month                                                  \n",
       "2017-06-01                 694.0       674.0       539.0       596.0  \n",
       "2017-07-01                 601.0       510.0       376.0       361.0  \n",
       "2017-08-01                 370.0       402.0       284.0       265.0  \n",
       "2017-09-01                 632.0       599.0       404.0       381.0  \n",
       "2017-10-01                 890.0       837.0       555.0       529.0  \n",
       "2017-11-01                1054.0       919.0       638.0       594.0  \n",
       "2017-12-01                 960.0       786.0       512.0       481.0  \n",
       "2018-01-01                1351.0       890.0       565.0       458.0  \n",
       "2018-02-01               22197.0      1267.0       565.0       446.0  \n",
       "2018-03-01                   NaN     20589.0       861.0       557.0  \n",
       "2018-04-01                   NaN         NaN     15709.0       760.0  \n",
       "2018-05-01                   NaN         NaN         NaN     15273.0  "
      ]
     },
     "execution_count": 40,
     "metadata": {},
     "output_type": "execute_result"
    }
   ],
   "source": [
    "visits.pivot_table(index='first_activity_month', columns='activity_montn', values='uid', aggfunc='nunique')"
   ]
  },
  {
   "cell_type": "markdown",
   "metadata": {},
   "source": [
    "   \n",
    "    * После первого месяца количество посетителей в когорте сильно снижается. \n",
    "    * В когортах октября и ноября самое большое количество посителей за месяц и далее кличество сокращается\n",
    "    по месяцам меньше, чем в других когортах.\n",
    "    * В когорте июня 2017 примерно такое же количество посещений, что и в \"максимальных\" когортах октября и ноября 2017"
   ]
  },
  {
   "cell_type": "markdown",
   "metadata": {},
   "source": [
    "\n",
    "\n",
    "***RETENTION RATE*** **по количеству визитов пользователей** <a class=\"anchor\" id=\"3-1-4-bullet\"></a>"
   ]
  },
  {
   "cell_type": "code",
   "execution_count": 41,
   "metadata": {},
   "outputs": [],
   "source": [
    "visits['activity_montn'] = visits['session_start_wt'].astype('datetime64[M]')\n",
    "visits['first_activity_month'] = visits['first_visit_date'].astype('datetime64[M]')"
   ]
  },
  {
   "cell_type": "code",
   "execution_count": 42,
   "metadata": {},
   "outputs": [],
   "source": [
    "visits['cohort_lifetime'] = visits['activity_montn'] - visits['first_activity_month']"
   ]
  },
  {
   "cell_type": "code",
   "execution_count": 43,
   "metadata": {},
   "outputs": [],
   "source": [
    "visits['cohort_lifetime'] = visits['cohort_lifetime'] / np.timedelta64(1,'M')\n",
    "visits['cohort_lifetime'] = visits['cohort_lifetime'].round().astype(int)"
   ]
  },
  {
   "cell_type": "code",
   "execution_count": 44,
   "metadata": {},
   "outputs": [],
   "source": [
    "visits_cohorts = visits.groupby(['first_activity_month','cohort_lifetime']).agg({'uid':'nunique'}).reset_index()"
   ]
  },
  {
   "cell_type": "code",
   "execution_count": 45,
   "metadata": {},
   "outputs": [],
   "source": [
    "visits_inital_users_count = visits_cohorts[visits_cohorts['cohort_lifetime'] == 0][['first_activity_month','uid']]"
   ]
  },
  {
   "cell_type": "code",
   "execution_count": 46,
   "metadata": {},
   "outputs": [],
   "source": [
    "visits_inital_users_count = visits_inital_users_count.rename(columns={'uid':'cohort_users'})"
   ]
  },
  {
   "cell_type": "code",
   "execution_count": 47,
   "metadata": {},
   "outputs": [],
   "source": [
    "visits_cohorts = visits_cohorts.merge(visits_inital_users_count,on='first_activity_month')"
   ]
  },
  {
   "cell_type": "code",
   "execution_count": 48,
   "metadata": {},
   "outputs": [],
   "source": [
    "visits_cohorts['retention'] = visits_cohorts['uid']/visits_cohorts['cohort_users']"
   ]
  },
  {
   "cell_type": "code",
   "execution_count": 49,
   "metadata": {},
   "outputs": [],
   "source": [
    "visits_retention_pivot = visits_cohorts.pivot_table(index='first_activity_month',columns='cohort_lifetime',values='retention',aggfunc='sum')"
   ]
  },
  {
   "cell_type": "code",
   "execution_count": 50,
   "metadata": {},
   "outputs": [
    {
     "data": {
      "image/png": "[encoded data removed]",
      "text/plain": [
       "<Figure size 936x648 with 2 Axes>"
      ]
     },
     "metadata": {},
     "output_type": "display_data"
    }
   ],
   "source": [
    "sns.set(style='white')\n",
    "plt.figure(figsize=(13, 9))\n",
    "plt.title('Cohorts: visits Retention')\n",
    "fmt = lambda x,pos: '{:.0%}'.format(x) \n",
    "heatmap = sns.heatmap(visits_retention_pivot, annot=True, fmt='.1%', linewidths=1, linecolor='gray', vmax=0.09,\n",
    "            cbar_kws={'format': FuncFormatter(fmt)})\n",
    "\n",
    "y_labels = heatmap.set_yticklabels(visits_retention_pivot.index.date)  "
   ]
  },
  {
   "cell_type": "markdown",
   "metadata": {},
   "source": [
    "    В первый месяц мы видим низкий коэфициет удержания:\n",
    "    * до декабря 2017 - от 7,7% до 8,5% (исключение составляет июль 2017 - 5,6%)\n",
    "    * с декабря 2017 - от 6 % до 4,2%\n",
    "\n",
    "    Это важный сигнал того, что нужно сосредоточиться на удержании покупателей в первый месяц, ведь большая часть\n",
    "    активных покупателей отказывается от сервиса именно в этот период. \n",
    "    \n",
    "    Самый высокий Retention Rate в первый месяц в когорте сентября 2017 года (8,5%). \n",
    "  \n",
    "    В 7 когортах каждый месяц последовательно происходит снижение коэфициента удержания (это когорты с сентября 2017\n",
    "    по март 2018). Апрель не берем в рассчет, так как когорте 1 месяц.\n",
    "    \n",
    "    В 3 когортах после падения был рост. Необходимо дополнительно изучить, что привело к увеличению визитов в эти месяцы.\n",
    "\n",
    "    * июнь 2017 - рост на 3,4 и 5 месяце жизни\n",
    "    * июль 2017 - рост на 3,4 и 7 месяце жизни\n",
    "    * август 2017 - рост на 7 месяце жизни\n",
    "    \n",
    "    У первый когорты самый высокий коэфициент удержания даже спустя год жизни - 4,5%"
   ]
  },
  {
   "cell_type": "markdown",
   "metadata": {},
   "source": [
    "### 3.2. Продажи <a class=\"anchor\" id=\"3-2-bullet\"></a>"
   ]
  },
  {
   "cell_type": "markdown",
   "metadata": {},
   "source": [
    "### Через какое время совершается покупка?<a class=\"anchor\" id=\"3-2-1-bullet\"></a>"
   ]
  },
  {
   "cell_type": "code",
   "execution_count": 51,
   "metadata": {},
   "outputs": [],
   "source": [
    "pd.to_datetime(orders['order_date_t'], format='%Y.%m.%d')\n",
    "orders['date'] = pd.to_datetime(orders['order_date_t']).dt.normalize()"
   ]
  },
  {
   "cell_type": "code",
   "execution_count": 52,
   "metadata": {},
   "outputs": [],
   "source": [
    "first_order_date_by_customers = orders.groupby('uid')['date'].min()\n",
    "first_order_date_by_customers.name = 'first_order_date'\n",
    "orders = orders.join(first_order_date_by_customers,on='uid')"
   ]
  },
  {
   "cell_type": "code",
   "execution_count": 53,
   "metadata": {},
   "outputs": [
    {
     "data": {
      "text/html": [
       "<div>\n",
       "<style scoped>\n",
       "    .dataframe tbody tr th:only-of-type {\n",
       "        vertical-align: middle;\n",
       "    }\n",
       "\n",
       "    .dataframe tbody tr th {\n",
       "        vertical-align: top;\n",
       "    }\n",
       "\n",
       "    .dataframe thead th {\n",
       "        text-align: right;\n",
       "    }\n",
       "</style>\n",
       "<table border=\"1\" class=\"dataframe\">\n",
       "  <thead>\n",
       "    <tr style=\"text-align: right;\">\n",
       "      <th></th>\n",
       "      <th>order_date_t</th>\n",
       "      <th>revenue</th>\n",
       "      <th>uid</th>\n",
       "      <th>date</th>\n",
       "      <th>first_order_date</th>\n",
       "    </tr>\n",
       "  </thead>\n",
       "  <tbody>\n",
       "    <tr>\n",
       "      <td>0</td>\n",
       "      <td>2017-06-01 00:10:00</td>\n",
       "      <td>17.00</td>\n",
       "      <td>10329302124590727494</td>\n",
       "      <td>2017-06-01</td>\n",
       "      <td>2017-06-01</td>\n",
       "    </tr>\n",
       "    <tr>\n",
       "      <td>1</td>\n",
       "      <td>2017-06-01 00:25:00</td>\n",
       "      <td>0.55</td>\n",
       "      <td>11627257723692907447</td>\n",
       "      <td>2017-06-01</td>\n",
       "      <td>2017-06-01</td>\n",
       "    </tr>\n",
       "    <tr>\n",
       "      <td>2</td>\n",
       "      <td>2017-06-01 00:27:00</td>\n",
       "      <td>0.37</td>\n",
       "      <td>17903680561304213844</td>\n",
       "      <td>2017-06-01</td>\n",
       "      <td>2017-06-01</td>\n",
       "    </tr>\n",
       "    <tr>\n",
       "      <td>3</td>\n",
       "      <td>2017-06-01 00:29:00</td>\n",
       "      <td>0.55</td>\n",
       "      <td>16109239769442553005</td>\n",
       "      <td>2017-06-01</td>\n",
       "      <td>2017-06-01</td>\n",
       "    </tr>\n",
       "    <tr>\n",
       "      <td>4</td>\n",
       "      <td>2017-06-01 07:58:00</td>\n",
       "      <td>0.37</td>\n",
       "      <td>14200605875248379450</td>\n",
       "      <td>2017-06-01</td>\n",
       "      <td>2017-06-01</td>\n",
       "    </tr>\n",
       "  </tbody>\n",
       "</table>\n",
       "</div>"
      ],
      "text/plain": [
       "         order_date_t  revenue                   uid       date  \\\n",
       "0 2017-06-01 00:10:00    17.00  10329302124590727494 2017-06-01   \n",
       "1 2017-06-01 00:25:00     0.55  11627257723692907447 2017-06-01   \n",
       "2 2017-06-01 00:27:00     0.37  17903680561304213844 2017-06-01   \n",
       "3 2017-06-01 00:29:00     0.55  16109239769442553005 2017-06-01   \n",
       "4 2017-06-01 07:58:00     0.37  14200605875248379450 2017-06-01   \n",
       "\n",
       "  first_order_date  \n",
       "0       2017-06-01  \n",
       "1       2017-06-01  \n",
       "2       2017-06-01  \n",
       "3       2017-06-01  \n",
       "4       2017-06-01  "
      ]
     },
     "execution_count": 53,
     "metadata": {},
     "output_type": "execute_result"
    }
   ],
   "source": [
    "orders.head()"
   ]
  },
  {
   "cell_type": "code",
   "execution_count": 54,
   "metadata": {},
   "outputs": [
    {
     "data": {
      "text/html": [
       "<div>\n",
       "<style scoped>\n",
       "    .dataframe tbody tr th:only-of-type {\n",
       "        vertical-align: middle;\n",
       "    }\n",
       "\n",
       "    .dataframe tbody tr th {\n",
       "        vertical-align: top;\n",
       "    }\n",
       "\n",
       "    .dataframe thead th {\n",
       "        text-align: right;\n",
       "    }\n",
       "</style>\n",
       "<table border=\"1\" class=\"dataframe\">\n",
       "  <thead>\n",
       "    <tr style=\"text-align: right;\">\n",
       "      <th></th>\n",
       "      <th>order_date_t</th>\n",
       "      <th>revenue</th>\n",
       "      <th>uid</th>\n",
       "      <th>date</th>\n",
       "      <th>first_order_date</th>\n",
       "      <th>device</th>\n",
       "      <th>session_end_t</th>\n",
       "      <th>source_id</th>\n",
       "      <th>session_start_t</th>\n",
       "      <th>day</th>\n",
       "      <th>week</th>\n",
       "      <th>month</th>\n",
       "      <th>year</th>\n",
       "      <th>session_duration_sec</th>\n",
       "      <th>session_end_wt</th>\n",
       "      <th>session_start_wt</th>\n",
       "      <th>first_visit_date</th>\n",
       "      <th>activity_montn</th>\n",
       "      <th>first_activity_month</th>\n",
       "      <th>cohort_lifetime</th>\n",
       "    </tr>\n",
       "  </thead>\n",
       "  <tbody>\n",
       "    <tr>\n",
       "      <td>0</td>\n",
       "      <td>2017-06-01 00:10:00</td>\n",
       "      <td>17.00</td>\n",
       "      <td>10329302124590727494</td>\n",
       "      <td>2017-06-01</td>\n",
       "      <td>2017-06-01</td>\n",
       "      <td>desktop</td>\n",
       "      <td>2017-06-01 00:11:00</td>\n",
       "      <td>1</td>\n",
       "      <td>2017-06-01 00:09:00</td>\n",
       "      <td>2017-06-01</td>\n",
       "      <td>22</td>\n",
       "      <td>6</td>\n",
       "      <td>2017</td>\n",
       "      <td>120</td>\n",
       "      <td>2017-06-01</td>\n",
       "      <td>2017-06-01</td>\n",
       "      <td>2017-06-01</td>\n",
       "      <td>2017-06-01</td>\n",
       "      <td>2017-06-01</td>\n",
       "      <td>0</td>\n",
       "    </tr>\n",
       "    <tr>\n",
       "      <td>1</td>\n",
       "      <td>2017-06-01 00:25:00</td>\n",
       "      <td>0.55</td>\n",
       "      <td>11627257723692907447</td>\n",
       "      <td>2017-06-01</td>\n",
       "      <td>2017-06-01</td>\n",
       "      <td>desktop</td>\n",
       "      <td>2017-06-01 00:25:00</td>\n",
       "      <td>2</td>\n",
       "      <td>2017-06-01 00:14:00</td>\n",
       "      <td>2017-06-01</td>\n",
       "      <td>22</td>\n",
       "      <td>6</td>\n",
       "      <td>2017</td>\n",
       "      <td>660</td>\n",
       "      <td>2017-06-01</td>\n",
       "      <td>2017-06-01</td>\n",
       "      <td>2017-06-01</td>\n",
       "      <td>2017-06-01</td>\n",
       "      <td>2017-06-01</td>\n",
       "      <td>0</td>\n",
       "    </tr>\n",
       "    <tr>\n",
       "      <td>2</td>\n",
       "      <td>2017-06-01 00:27:00</td>\n",
       "      <td>0.37</td>\n",
       "      <td>17903680561304213844</td>\n",
       "      <td>2017-06-01</td>\n",
       "      <td>2017-06-01</td>\n",
       "      <td>desktop</td>\n",
       "      <td>2017-06-01 00:34:00</td>\n",
       "      <td>2</td>\n",
       "      <td>2017-06-01 00:25:00</td>\n",
       "      <td>2017-06-01</td>\n",
       "      <td>22</td>\n",
       "      <td>6</td>\n",
       "      <td>2017</td>\n",
       "      <td>540</td>\n",
       "      <td>2017-06-01</td>\n",
       "      <td>2017-06-01</td>\n",
       "      <td>2017-06-01</td>\n",
       "      <td>2017-06-01</td>\n",
       "      <td>2017-06-01</td>\n",
       "      <td>0</td>\n",
       "    </tr>\n",
       "    <tr>\n",
       "      <td>3</td>\n",
       "      <td>2017-06-01 00:29:00</td>\n",
       "      <td>0.55</td>\n",
       "      <td>16109239769442553005</td>\n",
       "      <td>2017-06-01</td>\n",
       "      <td>2017-06-01</td>\n",
       "      <td>desktop</td>\n",
       "      <td>2017-06-01 00:33:00</td>\n",
       "      <td>2</td>\n",
       "      <td>2017-06-01 00:14:00</td>\n",
       "      <td>2017-06-01</td>\n",
       "      <td>22</td>\n",
       "      <td>6</td>\n",
       "      <td>2017</td>\n",
       "      <td>1140</td>\n",
       "      <td>2017-06-01</td>\n",
       "      <td>2017-06-01</td>\n",
       "      <td>2017-06-01</td>\n",
       "      <td>2017-06-01</td>\n",
       "      <td>2017-06-01</td>\n",
       "      <td>0</td>\n",
       "    </tr>\n",
       "    <tr>\n",
       "      <td>4</td>\n",
       "      <td>2017-06-01 07:58:00</td>\n",
       "      <td>0.37</td>\n",
       "      <td>14200605875248379450</td>\n",
       "      <td>2017-06-01</td>\n",
       "      <td>2017-06-01</td>\n",
       "      <td>desktop</td>\n",
       "      <td>2017-06-01 07:59:00</td>\n",
       "      <td>3</td>\n",
       "      <td>2017-06-01 07:31:00</td>\n",
       "      <td>2017-06-01</td>\n",
       "      <td>22</td>\n",
       "      <td>6</td>\n",
       "      <td>2017</td>\n",
       "      <td>1680</td>\n",
       "      <td>2017-06-01</td>\n",
       "      <td>2017-06-01</td>\n",
       "      <td>2017-06-01</td>\n",
       "      <td>2017-06-01</td>\n",
       "      <td>2017-06-01</td>\n",
       "      <td>0</td>\n",
       "    </tr>\n",
       "  </tbody>\n",
       "</table>\n",
       "</div>"
      ],
      "text/plain": [
       "         order_date_t  revenue                   uid       date  \\\n",
       "0 2017-06-01 00:10:00    17.00  10329302124590727494 2017-06-01   \n",
       "1 2017-06-01 00:25:00     0.55  11627257723692907447 2017-06-01   \n",
       "2 2017-06-01 00:27:00     0.37  17903680561304213844 2017-06-01   \n",
       "3 2017-06-01 00:29:00     0.55  16109239769442553005 2017-06-01   \n",
       "4 2017-06-01 07:58:00     0.37  14200605875248379450 2017-06-01   \n",
       "\n",
       "  first_order_date   device       session_end_t  source_id  \\\n",
       "0       2017-06-01  desktop 2017-06-01 00:11:00          1   \n",
       "1       2017-06-01  desktop 2017-06-01 00:25:00          2   \n",
       "2       2017-06-01  desktop 2017-06-01 00:34:00          2   \n",
       "3       2017-06-01  desktop 2017-06-01 00:33:00          2   \n",
       "4       2017-06-01  desktop 2017-06-01 07:59:00          3   \n",
       "\n",
       "      session_start_t        day  week  month  year  session_duration_sec  \\\n",
       "0 2017-06-01 00:09:00 2017-06-01    22      6  2017                   120   \n",
       "1 2017-06-01 00:14:00 2017-06-01    22      6  2017                   660   \n",
       "2 2017-06-01 00:25:00 2017-06-01    22      6  2017                   540   \n",
       "3 2017-06-01 00:14:00 2017-06-01    22      6  2017                  1140   \n",
       "4 2017-06-01 07:31:00 2017-06-01    22      6  2017                  1680   \n",
       "\n",
       "  session_end_wt session_start_wt first_visit_date activity_montn  \\\n",
       "0     2017-06-01       2017-06-01       2017-06-01     2017-06-01   \n",
       "1     2017-06-01       2017-06-01       2017-06-01     2017-06-01   \n",
       "2     2017-06-01       2017-06-01       2017-06-01     2017-06-01   \n",
       "3     2017-06-01       2017-06-01       2017-06-01     2017-06-01   \n",
       "4     2017-06-01       2017-06-01       2017-06-01     2017-06-01   \n",
       "\n",
       "  first_activity_month  cohort_lifetime  \n",
       "0           2017-06-01                0  \n",
       "1           2017-06-01                0  \n",
       "2           2017-06-01                0  \n",
       "3           2017-06-01                0  \n",
       "4           2017-06-01                0  "
      ]
     },
     "execution_count": 54,
     "metadata": {},
     "output_type": "execute_result"
    }
   ],
   "source": [
    "sales = orders.merge(visits, on='uid', how='left')\n",
    "sales.head()"
   ]
  },
  {
   "cell_type": "code",
   "execution_count": 55,
   "metadata": {},
   "outputs": [],
   "source": [
    "new_sales = sales[(sales['session_end_t'] >= sales['order_date_t']) &\n",
    "(sales['session_start_t'] <= sales ['order_date_t'])]"
   ]
  },
  {
   "cell_type": "code",
   "execution_count": 56,
   "metadata": {},
   "outputs": [
    {
     "name": "stdout",
     "output_type": "stream",
     "text": [
      "<class 'pandas.core.frame.DataFrame'>\n",
      "Int64Index: 35927 entries, 0 to 761806\n",
      "Data columns (total 20 columns):\n",
      "order_date_t            35927 non-null datetime64[ns]\n",
      "revenue                 35927 non-null float64\n",
      "uid                     35927 non-null uint64\n",
      "date                    35927 non-null datetime64[ns]\n",
      "first_order_date        35927 non-null datetime64[ns]\n",
      "device                  35927 non-null object\n",
      "session_end_t           35927 non-null datetime64[ns]\n",
      "source_id               35927 non-null int64\n",
      "session_start_t         35927 non-null datetime64[ns]\n",
      "day                     35927 non-null datetime64[ns]\n",
      "week                    35927 non-null int64\n",
      "month                   35927 non-null int64\n",
      "year                    35927 non-null int64\n",
      "session_duration_sec    35927 non-null int64\n",
      "session_end_wt          35927 non-null datetime64[ns]\n",
      "session_start_wt        35927 non-null datetime64[ns]\n",
      "first_visit_date        35927 non-null datetime64[ns]\n",
      "activity_montn          35927 non-null datetime64[ns]\n",
      "first_activity_month    35927 non-null datetime64[ns]\n",
      "cohort_lifetime         35927 non-null int64\n",
      "dtypes: datetime64[ns](11), float64(1), int64(6), object(1), uint64(1)\n",
      "memory usage: 5.8+ MB\n"
     ]
    }
   ],
   "source": [
    "new_sales.info()"
   ]
  },
  {
   "cell_type": "code",
   "execution_count": 57,
   "metadata": {},
   "outputs": [],
   "source": [
    "sales['order_duration_day'] = (sales['order_date_t'] - sales['session_start_t'])"
   ]
  },
  {
   "cell_type": "code",
   "execution_count": 58,
   "metadata": {},
   "outputs": [
    {
     "name": "stdout",
     "output_type": "stream",
     "text": [
      "0   00:01:00\n",
      "dtype: timedelta64[ns]\n"
     ]
    }
   ],
   "source": [
    "print(sales['order_duration_day'].mode())"
   ]
  },
  {
   "cell_type": "markdown",
   "metadata": {},
   "source": [
    "    В среднем пользователи начинают покупать через минуту после начала сессии. Т.е. пользователи знают точно,\n",
    "    что они хотят приобрести. Как мы выяснили ранее продолжительность сессии в среднем 60 сек.\n",
    "    "
   ]
  },
  {
   "cell_type": "markdown",
   "metadata": {},
   "source": [
    "### Сколько раз покупают за период?<a class=\"anchor\" id=\"3-2-2-bullet\"></a>"
   ]
  },
  {
   "cell_type": "code",
   "execution_count": 59,
   "metadata": {},
   "outputs": [],
   "source": [
    "orders['first_order_month'] = orders['first_order_date'].astype('datetime64[M]')\n",
    "orders['order_month'] = orders['date'].astype('datetime64[M]')"
   ]
  },
  {
   "cell_type": "code",
   "execution_count": 60,
   "metadata": {},
   "outputs": [
    {
     "data": {
      "text/html": [
       "<div>\n",
       "<style scoped>\n",
       "    .dataframe tbody tr th:only-of-type {\n",
       "        vertical-align: middle;\n",
       "    }\n",
       "\n",
       "    .dataframe tbody tr th {\n",
       "        vertical-align: top;\n",
       "    }\n",
       "\n",
       "    .dataframe thead th {\n",
       "        text-align: right;\n",
       "    }\n",
       "</style>\n",
       "<table border=\"1\" class=\"dataframe\">\n",
       "  <thead>\n",
       "    <tr style=\"text-align: right;\">\n",
       "      <th></th>\n",
       "      <th>cohort</th>\n",
       "      <th>qty_buyers</th>\n",
       "      <th>total_revenue</th>\n",
       "    </tr>\n",
       "  </thead>\n",
       "  <tbody>\n",
       "    <tr>\n",
       "      <td>0</td>\n",
       "      <td>2017-06-01</td>\n",
       "      <td>2923</td>\n",
       "      <td>3929833.0</td>\n",
       "    </tr>\n",
       "    <tr>\n",
       "      <td>1</td>\n",
       "      <td>2017-07-01</td>\n",
       "      <td>2458</td>\n",
       "      <td>168692.0</td>\n",
       "    </tr>\n",
       "    <tr>\n",
       "      <td>2</td>\n",
       "      <td>2017-08-01</td>\n",
       "      <td>1721</td>\n",
       "      <td>544189.0</td>\n",
       "    </tr>\n",
       "    <tr>\n",
       "      <td>3</td>\n",
       "      <td>2017-09-01</td>\n",
       "      <td>3058</td>\n",
       "      <td>1229545.0</td>\n",
       "    </tr>\n",
       "    <tr>\n",
       "      <td>4</td>\n",
       "      <td>2017-10-01</td>\n",
       "      <td>4678</td>\n",
       "      <td>171036.0</td>\n",
       "    </tr>\n",
       "    <tr>\n",
       "      <td>5</td>\n",
       "      <td>2017-11-01</td>\n",
       "      <td>4262</td>\n",
       "      <td>247140.0</td>\n",
       "    </tr>\n",
       "    <tr>\n",
       "      <td>6</td>\n",
       "      <td>2017-12-01</td>\n",
       "      <td>4074</td>\n",
       "      <td>217507.0</td>\n",
       "    </tr>\n",
       "    <tr>\n",
       "      <td>7</td>\n",
       "      <td>2018-01-01</td>\n",
       "      <td>3119</td>\n",
       "      <td>134109.0</td>\n",
       "    </tr>\n",
       "    <tr>\n",
       "      <td>8</td>\n",
       "      <td>2018-02-01</td>\n",
       "      <td>3186</td>\n",
       "      <td>81970.0</td>\n",
       "    </tr>\n",
       "    <tr>\n",
       "      <td>9</td>\n",
       "      <td>2018-03-01</td>\n",
       "      <td>2838</td>\n",
       "      <td>145269.0</td>\n",
       "    </tr>\n",
       "    <tr>\n",
       "      <td>10</td>\n",
       "      <td>2018-04-01</td>\n",
       "      <td>1890</td>\n",
       "      <td>76867.0</td>\n",
       "    </tr>\n",
       "    <tr>\n",
       "      <td>11</td>\n",
       "      <td>2018-05-01</td>\n",
       "      <td>2316</td>\n",
       "      <td>16049.0</td>\n",
       "    </tr>\n",
       "  </tbody>\n",
       "</table>\n",
       "</div>"
      ],
      "text/plain": [
       "       cohort  qty_buyers  total_revenue\n",
       "0  2017-06-01        2923      3929833.0\n",
       "1  2017-07-01        2458       168692.0\n",
       "2  2017-08-01        1721       544189.0\n",
       "3  2017-09-01        3058      1229545.0\n",
       "4  2017-10-01        4678       171036.0\n",
       "5  2017-11-01        4262       247140.0\n",
       "6  2017-12-01        4074       217507.0\n",
       "7  2018-01-01        3119       134109.0\n",
       "8  2018-02-01        3186        81970.0\n",
       "9  2018-03-01        2838       145269.0\n",
       "10 2018-04-01        1890        76867.0\n",
       "11 2018-05-01        2316        16049.0"
      ]
     },
     "execution_count": 60,
     "metadata": {},
     "output_type": "execute_result"
    }
   ],
   "source": [
    "sales_cohort_grouped = sales.groupby('first_activity_month').agg({'uid':'nunique','revenue':'sum'}).round().reset_index()\n",
    "sales_cohort_grouped.columns = ['cohort', 'qty_buyers', 'total_revenue']\n",
    "sales_cohort_grouped"
   ]
  },
  {
   "cell_type": "markdown",
   "metadata": {},
   "source": [
    "    С декабря 2017 число покупателей в каждой следующей кагорте падает.\n",
    "    Значит, в Яндекс.Афиша со временем приходит всё меньше и меньше новых покупателей. \n",
    "\n",
    "    Самая большая сумма продаж в когорте 2017-06-01. Это логично, ведь более старая когорта существует дольше,\n",
    "    и пользователи из них совершали покупки в течение большего времени.\n",
    "    \n",
    "    Так же сильно выделяется когорта 2017-09-01 по сумме продаж, она находится на втором месте.\n",
    "    Обратим внимание и на когорту 2018-03-01, она обогнала по сумме продаж более старые когорты 2018-02-01 и 2018-01-01\n"
   ]
  },
  {
   "cell_type": "markdown",
   "metadata": {},
   "source": [
    "**Посмотрим на продажи в каждой когорте по месяцам**"
   ]
  },
  {
   "cell_type": "code",
   "execution_count": 61,
   "metadata": {},
   "outputs": [
    {
     "data": {
      "text/html": [
       "<div>\n",
       "<style scoped>\n",
       "    .dataframe tbody tr th:only-of-type {\n",
       "        vertical-align: middle;\n",
       "    }\n",
       "\n",
       "    .dataframe tbody tr th {\n",
       "        vertical-align: top;\n",
       "    }\n",
       "\n",
       "    .dataframe thead th {\n",
       "        text-align: right;\n",
       "    }\n",
       "</style>\n",
       "<table border=\"1\" class=\"dataframe\">\n",
       "  <thead>\n",
       "    <tr style=\"text-align: right;\">\n",
       "      <th>activity_montn</th>\n",
       "      <th>2017-06-01</th>\n",
       "      <th>2017-07-01</th>\n",
       "      <th>2017-08-01</th>\n",
       "      <th>2017-09-01</th>\n",
       "      <th>2017-10-01</th>\n",
       "      <th>2017-11-01</th>\n",
       "      <th>2017-12-01</th>\n",
       "      <th>2018-01-01</th>\n",
       "      <th>2018-02-01</th>\n",
       "      <th>2018-03-01</th>\n",
       "      <th>2018-04-01</th>\n",
       "      <th>2018-05-01</th>\n",
       "    </tr>\n",
       "    <tr>\n",
       "      <th>first_activity_month</th>\n",
       "      <th></th>\n",
       "      <th></th>\n",
       "      <th></th>\n",
       "      <th></th>\n",
       "      <th></th>\n",
       "      <th></th>\n",
       "      <th></th>\n",
       "      <th></th>\n",
       "      <th></th>\n",
       "      <th></th>\n",
       "      <th></th>\n",
       "      <th></th>\n",
       "    </tr>\n",
       "  </thead>\n",
       "  <tbody>\n",
       "    <tr>\n",
       "      <td>2017-06-01</td>\n",
       "      <td>253324.55</td>\n",
       "      <td>190867.58</td>\n",
       "      <td>184169.16</td>\n",
       "      <td>340679.26</td>\n",
       "      <td>410873.97</td>\n",
       "      <td>434235.59</td>\n",
       "      <td>506566.74</td>\n",
       "      <td>370934.66</td>\n",
       "      <td>340889.52</td>\n",
       "      <td>354163.37</td>\n",
       "      <td>259974.11</td>\n",
       "      <td>283154.87</td>\n",
       "    </tr>\n",
       "    <tr>\n",
       "      <td>2017-07-01</td>\n",
       "      <td>NaN</td>\n",
       "      <td>33063.40</td>\n",
       "      <td>11643.67</td>\n",
       "      <td>17275.44</td>\n",
       "      <td>18595.50</td>\n",
       "      <td>18754.31</td>\n",
       "      <td>14325.42</td>\n",
       "      <td>10864.65</td>\n",
       "      <td>7524.36</td>\n",
       "      <td>8122.87</td>\n",
       "      <td>19561.99</td>\n",
       "      <td>8960.75</td>\n",
       "    </tr>\n",
       "    <tr>\n",
       "      <td>2017-08-01</td>\n",
       "      <td>NaN</td>\n",
       "      <td>NaN</td>\n",
       "      <td>32645.36</td>\n",
       "      <td>55625.03</td>\n",
       "      <td>40025.20</td>\n",
       "      <td>67131.85</td>\n",
       "      <td>51500.21</td>\n",
       "      <td>33253.72</td>\n",
       "      <td>29229.54</td>\n",
       "      <td>63822.36</td>\n",
       "      <td>80888.14</td>\n",
       "      <td>90068.00</td>\n",
       "    </tr>\n",
       "    <tr>\n",
       "      <td>2017-09-01</td>\n",
       "      <td>NaN</td>\n",
       "      <td>NaN</td>\n",
       "      <td>NaN</td>\n",
       "      <td>276332.49</td>\n",
       "      <td>65806.59</td>\n",
       "      <td>130026.74</td>\n",
       "      <td>391614.48</td>\n",
       "      <td>63855.00</td>\n",
       "      <td>170666.63</td>\n",
       "      <td>69010.89</td>\n",
       "      <td>52765.57</td>\n",
       "      <td>9466.58</td>\n",
       "    </tr>\n",
       "    <tr>\n",
       "      <td>2017-10-01</td>\n",
       "      <td>NaN</td>\n",
       "      <td>NaN</td>\n",
       "      <td>NaN</td>\n",
       "      <td>NaN</td>\n",
       "      <td>61675.65</td>\n",
       "      <td>31435.79</td>\n",
       "      <td>13267.23</td>\n",
       "      <td>13754.39</td>\n",
       "      <td>13146.93</td>\n",
       "      <td>9304.25</td>\n",
       "      <td>7605.05</td>\n",
       "      <td>20846.85</td>\n",
       "    </tr>\n",
       "    <tr>\n",
       "      <td>2017-11-01</td>\n",
       "      <td>NaN</td>\n",
       "      <td>NaN</td>\n",
       "      <td>NaN</td>\n",
       "      <td>NaN</td>\n",
       "      <td>NaN</td>\n",
       "      <td>52090.09</td>\n",
       "      <td>53138.31</td>\n",
       "      <td>38698.74</td>\n",
       "      <td>52499.23</td>\n",
       "      <td>31983.23</td>\n",
       "      <td>9721.91</td>\n",
       "      <td>9008.82</td>\n",
       "    </tr>\n",
       "    <tr>\n",
       "      <td>2017-12-01</td>\n",
       "      <td>NaN</td>\n",
       "      <td>NaN</td>\n",
       "      <td>NaN</td>\n",
       "      <td>NaN</td>\n",
       "      <td>NaN</td>\n",
       "      <td>NaN</td>\n",
       "      <td>61403.61</td>\n",
       "      <td>46009.04</td>\n",
       "      <td>25787.09</td>\n",
       "      <td>65573.87</td>\n",
       "      <td>9485.87</td>\n",
       "      <td>9247.20</td>\n",
       "    </tr>\n",
       "    <tr>\n",
       "      <td>2018-01-01</td>\n",
       "      <td>NaN</td>\n",
       "      <td>NaN</td>\n",
       "      <td>NaN</td>\n",
       "      <td>NaN</td>\n",
       "      <td>NaN</td>\n",
       "      <td>NaN</td>\n",
       "      <td>NaN</td>\n",
       "      <td>31549.91</td>\n",
       "      <td>49106.70</td>\n",
       "      <td>25602.59</td>\n",
       "      <td>14017.83</td>\n",
       "      <td>13832.10</td>\n",
       "    </tr>\n",
       "    <tr>\n",
       "      <td>2018-02-01</td>\n",
       "      <td>NaN</td>\n",
       "      <td>NaN</td>\n",
       "      <td>NaN</td>\n",
       "      <td>NaN</td>\n",
       "      <td>NaN</td>\n",
       "      <td>NaN</td>\n",
       "      <td>NaN</td>\n",
       "      <td>NaN</td>\n",
       "      <td>38028.37</td>\n",
       "      <td>23648.52</td>\n",
       "      <td>8756.85</td>\n",
       "      <td>11536.37</td>\n",
       "    </tr>\n",
       "    <tr>\n",
       "      <td>2018-03-01</td>\n",
       "      <td>NaN</td>\n",
       "      <td>NaN</td>\n",
       "      <td>NaN</td>\n",
       "      <td>NaN</td>\n",
       "      <td>NaN</td>\n",
       "      <td>NaN</td>\n",
       "      <td>NaN</td>\n",
       "      <td>NaN</td>\n",
       "      <td>NaN</td>\n",
       "      <td>30394.95</td>\n",
       "      <td>45685.01</td>\n",
       "      <td>69189.45</td>\n",
       "    </tr>\n",
       "    <tr>\n",
       "      <td>2018-04-01</td>\n",
       "      <td>NaN</td>\n",
       "      <td>NaN</td>\n",
       "      <td>NaN</td>\n",
       "      <td>NaN</td>\n",
       "      <td>NaN</td>\n",
       "      <td>NaN</td>\n",
       "      <td>NaN</td>\n",
       "      <td>NaN</td>\n",
       "      <td>NaN</td>\n",
       "      <td>NaN</td>\n",
       "      <td>41163.35</td>\n",
       "      <td>35703.27</td>\n",
       "    </tr>\n",
       "    <tr>\n",
       "      <td>2018-05-01</td>\n",
       "      <td>NaN</td>\n",
       "      <td>NaN</td>\n",
       "      <td>NaN</td>\n",
       "      <td>NaN</td>\n",
       "      <td>NaN</td>\n",
       "      <td>NaN</td>\n",
       "      <td>NaN</td>\n",
       "      <td>NaN</td>\n",
       "      <td>NaN</td>\n",
       "      <td>NaN</td>\n",
       "      <td>NaN</td>\n",
       "      <td>16048.81</td>\n",
       "    </tr>\n",
       "  </tbody>\n",
       "</table>\n",
       "</div>"
      ],
      "text/plain": [
       "activity_montn        2017-06-01  2017-07-01  2017-08-01  2017-09-01  \\\n",
       "first_activity_month                                                   \n",
       "2017-06-01             253324.55   190867.58   184169.16   340679.26   \n",
       "2017-07-01                   NaN    33063.40    11643.67    17275.44   \n",
       "2017-08-01                   NaN         NaN    32645.36    55625.03   \n",
       "2017-09-01                   NaN         NaN         NaN   276332.49   \n",
       "2017-10-01                   NaN         NaN         NaN         NaN   \n",
       "2017-11-01                   NaN         NaN         NaN         NaN   \n",
       "2017-12-01                   NaN         NaN         NaN         NaN   \n",
       "2018-01-01                   NaN         NaN         NaN         NaN   \n",
       "2018-02-01                   NaN         NaN         NaN         NaN   \n",
       "2018-03-01                   NaN         NaN         NaN         NaN   \n",
       "2018-04-01                   NaN         NaN         NaN         NaN   \n",
       "2018-05-01                   NaN         NaN         NaN         NaN   \n",
       "\n",
       "activity_montn        2017-10-01  2017-11-01  2017-12-01  2018-01-01  \\\n",
       "first_activity_month                                                   \n",
       "2017-06-01             410873.97   434235.59   506566.74   370934.66   \n",
       "2017-07-01              18595.50    18754.31    14325.42    10864.65   \n",
       "2017-08-01              40025.20    67131.85    51500.21    33253.72   \n",
       "2017-09-01              65806.59   130026.74   391614.48    63855.00   \n",
       "2017-10-01              61675.65    31435.79    13267.23    13754.39   \n",
       "2017-11-01                   NaN    52090.09    53138.31    38698.74   \n",
       "2017-12-01                   NaN         NaN    61403.61    46009.04   \n",
       "2018-01-01                   NaN         NaN         NaN    31549.91   \n",
       "2018-02-01                   NaN         NaN         NaN         NaN   \n",
       "2018-03-01                   NaN         NaN         NaN         NaN   \n",
       "2018-04-01                   NaN         NaN         NaN         NaN   \n",
       "2018-05-01                   NaN         NaN         NaN         NaN   \n",
       "\n",
       "activity_montn        2018-02-01  2018-03-01  2018-04-01  2018-05-01  \n",
       "first_activity_month                                                  \n",
       "2017-06-01             340889.52   354163.37   259974.11   283154.87  \n",
       "2017-07-01               7524.36     8122.87    19561.99     8960.75  \n",
       "2017-08-01              29229.54    63822.36    80888.14    90068.00  \n",
       "2017-09-01             170666.63    69010.89    52765.57     9466.58  \n",
       "2017-10-01              13146.93     9304.25     7605.05    20846.85  \n",
       "2017-11-01              52499.23    31983.23     9721.91     9008.82  \n",
       "2017-12-01              25787.09    65573.87     9485.87     9247.20  \n",
       "2018-01-01              49106.70    25602.59    14017.83    13832.10  \n",
       "2018-02-01              38028.37    23648.52     8756.85    11536.37  \n",
       "2018-03-01                   NaN    30394.95    45685.01    69189.45  \n",
       "2018-04-01                   NaN         NaN    41163.35    35703.27  \n",
       "2018-05-01                   NaN         NaN         NaN    16048.81  "
      ]
     },
     "execution_count": 61,
     "metadata": {},
     "output_type": "execute_result"
    }
   ],
   "source": [
    "sales.pivot_table(index='first_activity_month', columns='activity_montn', values='revenue', aggfunc='sum')"
   ]
  },
  {
   "cell_type": "markdown",
   "metadata": {},
   "source": [
    "    \n",
    "    * После первого месяца количество покупок в когорте снижается. Исключения составляют три когорты, в которых на\n",
    "    следующий месяц после первого месяца произошел рост: 2017-08-01, 2018-01-01, 2018-03-01.\n",
    "    \n",
    "    * Первая когорта приносит больше всего денег даже после года существования когорты.\n",
    "    \n",
    "    * Необходимо обратить внимание на когорту 2017-09-01. В первый месяц сущестования в данной когорте максимальная\n",
    "    сумма продаж. Даже в первой когорте сумма продаж меньше за первый месяц. Был сильный рост в 3,4,5 месяцы.       \n"
   ]
  },
  {
   "cell_type": "markdown",
   "metadata": {},
   "source": [
    "    \n",
    "**Посмотрим количество покупок на пользователя в динамике по месяцам**"
   ]
  },
  {
   "cell_type": "code",
   "execution_count": 62,
   "metadata": {},
   "outputs": [
    {
     "data": {
      "text/html": [
       "<div>\n",
       "<style scoped>\n",
       "    .dataframe tbody tr th:only-of-type {\n",
       "        vertical-align: middle;\n",
       "    }\n",
       "\n",
       "    .dataframe tbody tr th {\n",
       "        vertical-align: top;\n",
       "    }\n",
       "\n",
       "    .dataframe thead th {\n",
       "        text-align: right;\n",
       "    }\n",
       "</style>\n",
       "<table border=\"1\" class=\"dataframe\">\n",
       "  <thead>\n",
       "    <tr style=\"text-align: right;\">\n",
       "      <th></th>\n",
       "      <th></th>\n",
       "      <th>uid</th>\n",
       "      <th>n_orders_per_month</th>\n",
       "    </tr>\n",
       "    <tr>\n",
       "      <th>year</th>\n",
       "      <th>month</th>\n",
       "      <th></th>\n",
       "      <th></th>\n",
       "    </tr>\n",
       "  </thead>\n",
       "  <tbody>\n",
       "    <tr>\n",
       "      <td rowspan=\"7\" valign=\"top\">2017</td>\n",
       "      <td>6</td>\n",
       "      <td>2923</td>\n",
       "      <td>25988</td>\n",
       "    </tr>\n",
       "    <tr>\n",
       "      <td>7</td>\n",
       "      <td>2893</td>\n",
       "      <td>28986</td>\n",
       "    </tr>\n",
       "    <tr>\n",
       "      <td>8</td>\n",
       "      <td>2282</td>\n",
       "      <td>32564</td>\n",
       "    </tr>\n",
       "    <tr>\n",
       "      <td>9</td>\n",
       "      <td>3960</td>\n",
       "      <td>60757</td>\n",
       "    </tr>\n",
       "    <tr>\n",
       "      <td>10</td>\n",
       "      <td>6251</td>\n",
       "      <td>71483</td>\n",
       "    </tr>\n",
       "    <tr>\n",
       "      <td>11</td>\n",
       "      <td>6471</td>\n",
       "      <td>72420</td>\n",
       "    </tr>\n",
       "    <tr>\n",
       "      <td>12</td>\n",
       "      <td>6629</td>\n",
       "      <td>102912</td>\n",
       "    </tr>\n",
       "    <tr>\n",
       "      <td rowspan=\"5\" valign=\"top\">2018</td>\n",
       "      <td>1</td>\n",
       "      <td>5504</td>\n",
       "      <td>77651</td>\n",
       "    </tr>\n",
       "    <tr>\n",
       "      <td>2</td>\n",
       "      <td>5687</td>\n",
       "      <td>82787</td>\n",
       "    </tr>\n",
       "    <tr>\n",
       "      <td>3</td>\n",
       "      <td>5458</td>\n",
       "      <td>75988</td>\n",
       "    </tr>\n",
       "    <tr>\n",
       "      <td>4</td>\n",
       "      <td>3857</td>\n",
       "      <td>60157</td>\n",
       "    </tr>\n",
       "    <tr>\n",
       "      <td>5</td>\n",
       "      <td>4328</td>\n",
       "      <td>70114</td>\n",
       "    </tr>\n",
       "  </tbody>\n",
       "</table>\n",
       "</div>"
      ],
      "text/plain": [
       "             uid  n_orders_per_month\n",
       "year month                          \n",
       "2017 6      2923               25988\n",
       "     7      2893               28986\n",
       "     8      2282               32564\n",
       "     9      3960               60757\n",
       "     10     6251               71483\n",
       "     11     6471               72420\n",
       "     12     6629              102912\n",
       "2018 1      5504               77651\n",
       "     2      5687               82787\n",
       "     3      5458               75988\n",
       "     4      3857               60157\n",
       "     5      4328               70114"
      ]
     },
     "execution_count": 62,
     "metadata": {},
     "output_type": "execute_result"
    }
   ],
   "source": [
    "orders_per_user = sales.groupby(['year', 'month']).agg({'uid':'nunique', 'order_date_t':'count'})\n",
    "orders_per_user.columns = ['uid', 'n_orders_per_month']\n",
    "orders_per_user.round()"
   ]
  },
  {
   "cell_type": "code",
   "execution_count": 63,
   "metadata": {},
   "outputs": [
    {
     "data": {
      "text/html": [
       "<div>\n",
       "<style scoped>\n",
       "    .dataframe tbody tr th:only-of-type {\n",
       "        vertical-align: middle;\n",
       "    }\n",
       "\n",
       "    .dataframe tbody tr th {\n",
       "        vertical-align: top;\n",
       "    }\n",
       "\n",
       "    .dataframe thead th {\n",
       "        text-align: right;\n",
       "    }\n",
       "</style>\n",
       "<table border=\"1\" class=\"dataframe\">\n",
       "  <thead>\n",
       "    <tr style=\"text-align: right;\">\n",
       "      <th></th>\n",
       "      <th></th>\n",
       "      <th>uid</th>\n",
       "      <th>n_orders_per_month</th>\n",
       "      <th>orders_per_user_mean</th>\n",
       "    </tr>\n",
       "    <tr>\n",
       "      <th>year</th>\n",
       "      <th>month</th>\n",
       "      <th></th>\n",
       "      <th></th>\n",
       "      <th></th>\n",
       "    </tr>\n",
       "  </thead>\n",
       "  <tbody>\n",
       "    <tr>\n",
       "      <td rowspan=\"7\" valign=\"top\">2017</td>\n",
       "      <td>6</td>\n",
       "      <td>2923</td>\n",
       "      <td>25988</td>\n",
       "      <td>9.0</td>\n",
       "    </tr>\n",
       "    <tr>\n",
       "      <td>7</td>\n",
       "      <td>2893</td>\n",
       "      <td>28986</td>\n",
       "      <td>10.0</td>\n",
       "    </tr>\n",
       "    <tr>\n",
       "      <td>8</td>\n",
       "      <td>2282</td>\n",
       "      <td>32564</td>\n",
       "      <td>14.0</td>\n",
       "    </tr>\n",
       "    <tr>\n",
       "      <td>9</td>\n",
       "      <td>3960</td>\n",
       "      <td>60757</td>\n",
       "      <td>15.0</td>\n",
       "    </tr>\n",
       "    <tr>\n",
       "      <td>10</td>\n",
       "      <td>6251</td>\n",
       "      <td>71483</td>\n",
       "      <td>11.0</td>\n",
       "    </tr>\n",
       "    <tr>\n",
       "      <td>11</td>\n",
       "      <td>6471</td>\n",
       "      <td>72420</td>\n",
       "      <td>11.0</td>\n",
       "    </tr>\n",
       "    <tr>\n",
       "      <td>12</td>\n",
       "      <td>6629</td>\n",
       "      <td>102912</td>\n",
       "      <td>16.0</td>\n",
       "    </tr>\n",
       "    <tr>\n",
       "      <td rowspan=\"5\" valign=\"top\">2018</td>\n",
       "      <td>1</td>\n",
       "      <td>5504</td>\n",
       "      <td>77651</td>\n",
       "      <td>14.0</td>\n",
       "    </tr>\n",
       "    <tr>\n",
       "      <td>2</td>\n",
       "      <td>5687</td>\n",
       "      <td>82787</td>\n",
       "      <td>15.0</td>\n",
       "    </tr>\n",
       "    <tr>\n",
       "      <td>3</td>\n",
       "      <td>5458</td>\n",
       "      <td>75988</td>\n",
       "      <td>14.0</td>\n",
       "    </tr>\n",
       "    <tr>\n",
       "      <td>4</td>\n",
       "      <td>3857</td>\n",
       "      <td>60157</td>\n",
       "      <td>16.0</td>\n",
       "    </tr>\n",
       "    <tr>\n",
       "      <td>5</td>\n",
       "      <td>4328</td>\n",
       "      <td>70114</td>\n",
       "      <td>16.0</td>\n",
       "    </tr>\n",
       "  </tbody>\n",
       "</table>\n",
       "</div>"
      ],
      "text/plain": [
       "             uid  n_orders_per_month  orders_per_user_mean\n",
       "year month                                                \n",
       "2017 6      2923               25988                   9.0\n",
       "     7      2893               28986                  10.0\n",
       "     8      2282               32564                  14.0\n",
       "     9      3960               60757                  15.0\n",
       "     10     6251               71483                  11.0\n",
       "     11     6471               72420                  11.0\n",
       "     12     6629              102912                  16.0\n",
       "2018 1      5504               77651                  14.0\n",
       "     2      5687               82787                  15.0\n",
       "     3      5458               75988                  14.0\n",
       "     4      3857               60157                  16.0\n",
       "     5      4328               70114                  16.0"
      ]
     },
     "execution_count": 63,
     "metadata": {},
     "output_type": "execute_result"
    }
   ],
   "source": [
    "orders_per_user['orders_per_user_mean'] = (orders_per_user['n_orders_per_month']/orders_per_user['uid']).round()\n",
    "orders_per_user"
   ]
  },
  {
   "cell_type": "markdown",
   "metadata": {},
   "source": [
    "\n",
    "    Покупатели в среднем делают от 9 до 16 заказов\n"
   ]
  },
  {
   "cell_type": "markdown",
   "metadata": {},
   "source": [
    "### Какой средний чек?"
   ]
  },
  {
   "cell_type": "code",
   "execution_count": 64,
   "metadata": {},
   "outputs": [],
   "source": [
    "orders_grouped_by_cohorts = orders.groupby(['first_order_month','order_month']).agg({'revenue':'sum','uid':'nunique'})\n"
   ]
  },
  {
   "cell_type": "markdown",
   "metadata": {},
   "source": [
    "    Найдем средний чек покупателя"
   ]
  },
  {
   "cell_type": "code",
   "execution_count": 65,
   "metadata": {},
   "outputs": [],
   "source": [
    "orders_grouped_by_cohorts['revenue_per_user'] = orders_grouped_by_cohorts['revenue'] / orders_grouped_by_cohorts['uid']"
   ]
  },
  {
   "cell_type": "code",
   "execution_count": 66,
   "metadata": {},
   "outputs": [
    {
     "data": {
      "text/plain": [
       "14.73"
      ]
     },
     "execution_count": 66,
     "metadata": {},
     "output_type": "execute_result"
    }
   ],
   "source": [
    "orders_grouped_by_cohorts['revenue_per_user'].mean().round(2)"
   ]
  },
  {
   "cell_type": "markdown",
   "metadata": {},
   "source": [
    "\n",
    "    Средний чек по всему датасету равен  14,73 у.е."
   ]
  },
  {
   "cell_type": "markdown",
   "metadata": {},
   "source": [
    "### Сколько денег приносят пользователи? (средний чек в каждой когорте по месяцам) <a class=\"anchor\" id=\"3-2-3-bullet\"></a>"
   ]
  },
  {
   "cell_type": "markdown",
   "metadata": {},
   "source": [
    "**Найдём lifetime когорты**"
   ]
  },
  {
   "cell_type": "code",
   "execution_count": 67,
   "metadata": {},
   "outputs": [],
   "source": [
    "orders_grouped_by_cohorts = orders_grouped_by_cohorts.reset_index()\n",
    "orders_grouped_by_cohorts['cohort_lifetime'] = orders_grouped_by_cohorts['order_month'] - orders_grouped_by_cohorts['first_order_month']"
   ]
  },
  {
   "cell_type": "code",
   "execution_count": 68,
   "metadata": {},
   "outputs": [],
   "source": [
    "orders_grouped_by_cohorts['cohort_lifetime'] = orders_grouped_by_cohorts['cohort_lifetime'] / np.timedelta64(1,'M')\n"
   ]
  },
  {
   "cell_type": "code",
   "execution_count": 69,
   "metadata": {},
   "outputs": [],
   "source": [
    "orders_grouped_by_cohorts['cohort_lifetime'] = orders_grouped_by_cohorts['cohort_lifetime'].round().astype('int')"
   ]
  },
  {
   "cell_type": "code",
   "execution_count": 70,
   "metadata": {},
   "outputs": [],
   "source": [
    "orders_grouped_by_cohorts['first_order_month'].dt.strftime('%d.%m.%Y')\n",
    "orders_grouped_by_cohorts['first_order_month'] = orders_grouped_by_cohorts['first_order_month'].dt.strftime('%Y-%m')"
   ]
  },
  {
   "cell_type": "markdown",
   "metadata": {},
   "source": [
    "    Построим сводную таблицу изменения среднего чека, где в столбцах будет lifetime, а строках — когорты:"
   ]
  },
  {
   "cell_type": "code",
   "execution_count": 71,
   "metadata": {},
   "outputs": [
    {
     "data": {
      "text/html": [
       "<div>\n",
       "<style scoped>\n",
       "    .dataframe tbody tr th:only-of-type {\n",
       "        vertical-align: middle;\n",
       "    }\n",
       "\n",
       "    .dataframe tbody tr th {\n",
       "        vertical-align: top;\n",
       "    }\n",
       "\n",
       "    .dataframe thead th {\n",
       "        text-align: right;\n",
       "    }\n",
       "</style>\n",
       "<table border=\"1\" class=\"dataframe\">\n",
       "  <thead>\n",
       "    <tr style=\"text-align: right;\">\n",
       "      <th>cohort_lifetime</th>\n",
       "      <th>0</th>\n",
       "      <th>1</th>\n",
       "      <th>2</th>\n",
       "      <th>3</th>\n",
       "      <th>4</th>\n",
       "      <th>5</th>\n",
       "      <th>6</th>\n",
       "      <th>7</th>\n",
       "      <th>8</th>\n",
       "      <th>9</th>\n",
       "      <th>10</th>\n",
       "      <th>11</th>\n",
       "    </tr>\n",
       "    <tr>\n",
       "      <th>first_order_month</th>\n",
       "      <th></th>\n",
       "      <th></th>\n",
       "      <th></th>\n",
       "      <th></th>\n",
       "      <th></th>\n",
       "      <th></th>\n",
       "      <th></th>\n",
       "      <th></th>\n",
       "      <th></th>\n",
       "      <th></th>\n",
       "      <th></th>\n",
       "      <th></th>\n",
       "    </tr>\n",
       "  </thead>\n",
       "  <tbody>\n",
       "    <tr>\n",
       "      <td>2017-06</td>\n",
       "      <td>4.7</td>\n",
       "      <td>16.1</td>\n",
       "      <td>17.7</td>\n",
       "      <td>35.8</td>\n",
       "      <td>23.5</td>\n",
       "      <td>22.2</td>\n",
       "      <td>31.0</td>\n",
       "      <td>25.0</td>\n",
       "      <td>19.3</td>\n",
       "      <td>27.2</td>\n",
       "      <td>25.7</td>\n",
       "      <td>9.8</td>\n",
       "    </tr>\n",
       "    <tr>\n",
       "      <td>2017-07</td>\n",
       "      <td>6.0</td>\n",
       "      <td>12.4</td>\n",
       "      <td>21.0</td>\n",
       "      <td>10.8</td>\n",
       "      <td>6.9</td>\n",
       "      <td>7.9</td>\n",
       "      <td>6.4</td>\n",
       "      <td>7.0</td>\n",
       "      <td>7.4</td>\n",
       "      <td>12.9</td>\n",
       "      <td>11.5</td>\n",
       "      <td>NaN</td>\n",
       "    </tr>\n",
       "    <tr>\n",
       "      <td>2017-08</td>\n",
       "      <td>5.3</td>\n",
       "      <td>11.1</td>\n",
       "      <td>11.9</td>\n",
       "      <td>12.2</td>\n",
       "      <td>16.9</td>\n",
       "      <td>12.1</td>\n",
       "      <td>9.6</td>\n",
       "      <td>12.6</td>\n",
       "      <td>21.1</td>\n",
       "      <td>8.3</td>\n",
       "      <td>NaN</td>\n",
       "      <td>NaN</td>\n",
       "    </tr>\n",
       "    <tr>\n",
       "      <td>2017-09</td>\n",
       "      <td>5.6</td>\n",
       "      <td>22.2</td>\n",
       "      <td>13.4</td>\n",
       "      <td>138.7</td>\n",
       "      <td>19.9</td>\n",
       "      <td>26.1</td>\n",
       "      <td>27.4</td>\n",
       "      <td>17.0</td>\n",
       "      <td>11.0</td>\n",
       "      <td>NaN</td>\n",
       "      <td>NaN</td>\n",
       "      <td>NaN</td>\n",
       "    </tr>\n",
       "    <tr>\n",
       "      <td>2017-10</td>\n",
       "      <td>5.0</td>\n",
       "      <td>11.3</td>\n",
       "      <td>6.8</td>\n",
       "      <td>7.4</td>\n",
       "      <td>7.1</td>\n",
       "      <td>7.3</td>\n",
       "      <td>6.6</td>\n",
       "      <td>7.5</td>\n",
       "      <td>NaN</td>\n",
       "      <td>NaN</td>\n",
       "      <td>NaN</td>\n",
       "      <td>NaN</td>\n",
       "    </tr>\n",
       "    <tr>\n",
       "      <td>2017-11</td>\n",
       "      <td>5.2</td>\n",
       "      <td>7.3</td>\n",
       "      <td>6.8</td>\n",
       "      <td>12.5</td>\n",
       "      <td>7.5</td>\n",
       "      <td>4.6</td>\n",
       "      <td>7.6</td>\n",
       "      <td>NaN</td>\n",
       "      <td>NaN</td>\n",
       "      <td>NaN</td>\n",
       "      <td>NaN</td>\n",
       "      <td>NaN</td>\n",
       "    </tr>\n",
       "    <tr>\n",
       "      <td>2017-12</td>\n",
       "      <td>4.7</td>\n",
       "      <td>7.8</td>\n",
       "      <td>39.4</td>\n",
       "      <td>48.1</td>\n",
       "      <td>27.4</td>\n",
       "      <td>23.5</td>\n",
       "      <td>NaN</td>\n",
       "      <td>NaN</td>\n",
       "      <td>NaN</td>\n",
       "      <td>NaN</td>\n",
       "      <td>NaN</td>\n",
       "      <td>NaN</td>\n",
       "    </tr>\n",
       "    <tr>\n",
       "      <td>2018-01</td>\n",
       "      <td>4.1</td>\n",
       "      <td>8.7</td>\n",
       "      <td>12.4</td>\n",
       "      <td>11.2</td>\n",
       "      <td>4.7</td>\n",
       "      <td>NaN</td>\n",
       "      <td>NaN</td>\n",
       "      <td>NaN</td>\n",
       "      <td>NaN</td>\n",
       "      <td>NaN</td>\n",
       "      <td>NaN</td>\n",
       "      <td>NaN</td>\n",
       "    </tr>\n",
       "    <tr>\n",
       "      <td>2018-02</td>\n",
       "      <td>4.2</td>\n",
       "      <td>8.6</td>\n",
       "      <td>4.9</td>\n",
       "      <td>6.9</td>\n",
       "      <td>NaN</td>\n",
       "      <td>NaN</td>\n",
       "      <td>NaN</td>\n",
       "      <td>NaN</td>\n",
       "      <td>NaN</td>\n",
       "      <td>NaN</td>\n",
       "      <td>NaN</td>\n",
       "      <td>NaN</td>\n",
       "    </tr>\n",
       "    <tr>\n",
       "      <td>2018-03</td>\n",
       "      <td>4.8</td>\n",
       "      <td>11.8</td>\n",
       "      <td>19.2</td>\n",
       "      <td>NaN</td>\n",
       "      <td>NaN</td>\n",
       "      <td>NaN</td>\n",
       "      <td>NaN</td>\n",
       "      <td>NaN</td>\n",
       "      <td>NaN</td>\n",
       "      <td>NaN</td>\n",
       "      <td>NaN</td>\n",
       "      <td>NaN</td>\n",
       "    </tr>\n",
       "    <tr>\n",
       "      <td>2018-04</td>\n",
       "      <td>4.7</td>\n",
       "      <td>17.5</td>\n",
       "      <td>NaN</td>\n",
       "      <td>NaN</td>\n",
       "      <td>NaN</td>\n",
       "      <td>NaN</td>\n",
       "      <td>NaN</td>\n",
       "      <td>NaN</td>\n",
       "      <td>NaN</td>\n",
       "      <td>NaN</td>\n",
       "      <td>NaN</td>\n",
       "      <td>NaN</td>\n",
       "    </tr>\n",
       "    <tr>\n",
       "      <td>2018-05</td>\n",
       "      <td>4.7</td>\n",
       "      <td>NaN</td>\n",
       "      <td>NaN</td>\n",
       "      <td>NaN</td>\n",
       "      <td>NaN</td>\n",
       "      <td>NaN</td>\n",
       "      <td>NaN</td>\n",
       "      <td>NaN</td>\n",
       "      <td>NaN</td>\n",
       "      <td>NaN</td>\n",
       "      <td>NaN</td>\n",
       "      <td>NaN</td>\n",
       "    </tr>\n",
       "    <tr>\n",
       "      <td>2018-06</td>\n",
       "      <td>3.4</td>\n",
       "      <td>NaN</td>\n",
       "      <td>NaN</td>\n",
       "      <td>NaN</td>\n",
       "      <td>NaN</td>\n",
       "      <td>NaN</td>\n",
       "      <td>NaN</td>\n",
       "      <td>NaN</td>\n",
       "      <td>NaN</td>\n",
       "      <td>NaN</td>\n",
       "      <td>NaN</td>\n",
       "      <td>NaN</td>\n",
       "    </tr>\n",
       "  </tbody>\n",
       "</table>\n",
       "</div>"
      ],
      "text/plain": [
       "cohort_lifetime     0     1     2      3     4     5     6     7     8     9   \\\n",
       "first_order_month                                                               \n",
       "2017-06            4.7  16.1  17.7   35.8  23.5  22.2  31.0  25.0  19.3  27.2   \n",
       "2017-07            6.0  12.4  21.0   10.8   6.9   7.9   6.4   7.0   7.4  12.9   \n",
       "2017-08            5.3  11.1  11.9   12.2  16.9  12.1   9.6  12.6  21.1   8.3   \n",
       "2017-09            5.6  22.2  13.4  138.7  19.9  26.1  27.4  17.0  11.0   NaN   \n",
       "2017-10            5.0  11.3   6.8    7.4   7.1   7.3   6.6   7.5   NaN   NaN   \n",
       "2017-11            5.2   7.3   6.8   12.5   7.5   4.6   7.6   NaN   NaN   NaN   \n",
       "2017-12            4.7   7.8  39.4   48.1  27.4  23.5   NaN   NaN   NaN   NaN   \n",
       "2018-01            4.1   8.7  12.4   11.2   4.7   NaN   NaN   NaN   NaN   NaN   \n",
       "2018-02            4.2   8.6   4.9    6.9   NaN   NaN   NaN   NaN   NaN   NaN   \n",
       "2018-03            4.8  11.8  19.2    NaN   NaN   NaN   NaN   NaN   NaN   NaN   \n",
       "2018-04            4.7  17.5   NaN    NaN   NaN   NaN   NaN   NaN   NaN   NaN   \n",
       "2018-05            4.7   NaN   NaN    NaN   NaN   NaN   NaN   NaN   NaN   NaN   \n",
       "2018-06            3.4   NaN   NaN    NaN   NaN   NaN   NaN   NaN   NaN   NaN   \n",
       "\n",
       "cohort_lifetime      10   11  \n",
       "first_order_month             \n",
       "2017-06            25.7  9.8  \n",
       "2017-07            11.5  NaN  \n",
       "2017-08             NaN  NaN  \n",
       "2017-09             NaN  NaN  \n",
       "2017-10             NaN  NaN  \n",
       "2017-11             NaN  NaN  \n",
       "2017-12             NaN  NaN  \n",
       "2018-01             NaN  NaN  \n",
       "2018-02             NaN  NaN  \n",
       "2018-03             NaN  NaN  \n",
       "2018-04             NaN  NaN  \n",
       "2018-05             NaN  NaN  \n",
       "2018-06             NaN  NaN  "
      ]
     },
     "execution_count": 71,
     "metadata": {},
     "output_type": "execute_result"
    }
   ],
   "source": [
    "revenue_per_user_pivot = orders_grouped_by_cohorts.pivot_table(index='first_order_month',columns='cohort_lifetime',values='revenue_per_user',aggfunc='mean').round(1)\n",
    "revenue_per_user_pivot.head(14)"
   ]
  },
  {
   "cell_type": "code",
   "execution_count": 72,
   "metadata": {},
   "outputs": [
    {
     "data": {
      "text/plain": [
       "<matplotlib.axes._subplots.AxesSubplot at 0x7f808db6b190>"
      ]
     },
     "execution_count": 72,
     "metadata": {},
     "output_type": "execute_result"
    },
    {
     "data": {
      "image/png": "[encoded data removed]",
      "text/plain": [
       "<Figure size 936x648 with 2 Axes>"
      ]
     },
     "metadata": {},
     "output_type": "display_data"
    }
   ],
   "source": [
    "revenue_per_user_pivot = revenue_per_user_pivot\n",
    "\n",
    "plt.figure(figsize=(13, 9))\n",
    "plt.title('Средний чек покупателей')\n",
    "sns.heatmap(revenue_per_user_pivot, annot=True, fmt='.2f', linewidths=1, linecolor='gray')"
   ]
  },
  {
   "cell_type": "markdown",
   "metadata": {},
   "source": [
    "  \n",
    "    * Видно, что во всех когортах средний чек пользователей возрастает на следующий месяц после месяца первой покупки.\n",
    "    Кроме когорты мая 2018 года, на следующий месяц после месяца первой покупки - покупки не состоялось.\n",
    "    \n",
    "    * В когортах \"2018-03\" средний чек растёт с течением времени. В остальных когортах средний чек варьируется, то\n",
    "    идет рост, потом спад и далее опять рост.\n",
    "    \n",
    "    * В когорте \"2017-09\" есть анамально высокое значение среднего чека - 138.7\n"
   ]
  },
  {
   "cell_type": "markdown",
   "metadata": {},
   "source": [
    "### Расчёт Retention Rate (Клиенты, совершившие покупки) <a class=\"anchor\" id=\"3-2-4-bullet\"></a>\n",
    "#### сколько клиентов совершили повторные покупки за определенный период времени?"
   ]
  },
  {
   "cell_type": "code",
   "execution_count": 73,
   "metadata": {},
   "outputs": [],
   "source": [
    "orders['cohort_lifetime'] = orders['order_month'] - orders['first_order_month']"
   ]
  },
  {
   "cell_type": "code",
   "execution_count": 74,
   "metadata": {},
   "outputs": [],
   "source": [
    "orders['cohort_lifetime'] = orders['cohort_lifetime'] / np.timedelta64(1,'M')"
   ]
  },
  {
   "cell_type": "code",
   "execution_count": 75,
   "metadata": {},
   "outputs": [],
   "source": [
    "orders['cohort_lifetime'] = orders['cohort_lifetime'].round().astype('int')"
   ]
  },
  {
   "cell_type": "code",
   "execution_count": 76,
   "metadata": {},
   "outputs": [],
   "source": [
    "orders['first_order_month'].dt.strftime('%d.%m.%Y')\n",
    "orders['first_order_month'] = orders['first_order_month'].dt.strftime('%Y-%m')"
   ]
  },
  {
   "cell_type": "code",
   "execution_count": 77,
   "metadata": {},
   "outputs": [],
   "source": [
    "rate_cohorts = orders.groupby(['first_order_month','cohort_lifetime']).agg({'uid':'nunique'}).reset_index()"
   ]
  },
  {
   "cell_type": "code",
   "execution_count": 78,
   "metadata": {},
   "outputs": [],
   "source": [
    "inital_users_count = rate_cohorts[rate_cohorts['cohort_lifetime'] == 0][['first_order_month','uid']]\n"
   ]
  },
  {
   "cell_type": "code",
   "execution_count": 79,
   "metadata": {},
   "outputs": [
    {
     "data": {
      "text/html": [
       "<div>\n",
       "<style scoped>\n",
       "    .dataframe tbody tr th:only-of-type {\n",
       "        vertical-align: middle;\n",
       "    }\n",
       "\n",
       "    .dataframe tbody tr th {\n",
       "        vertical-align: top;\n",
       "    }\n",
       "\n",
       "    .dataframe thead th {\n",
       "        text-align: right;\n",
       "    }\n",
       "</style>\n",
       "<table border=\"1\" class=\"dataframe\">\n",
       "  <thead>\n",
       "    <tr style=\"text-align: right;\">\n",
       "      <th></th>\n",
       "      <th>first_order_month</th>\n",
       "      <th>cohort_users</th>\n",
       "    </tr>\n",
       "  </thead>\n",
       "  <tbody>\n",
       "    <tr>\n",
       "      <td>0</td>\n",
       "      <td>2017-06</td>\n",
       "      <td>2023</td>\n",
       "    </tr>\n",
       "    <tr>\n",
       "      <td>12</td>\n",
       "      <td>2017-07</td>\n",
       "      <td>1923</td>\n",
       "    </tr>\n",
       "    <tr>\n",
       "      <td>23</td>\n",
       "      <td>2017-08</td>\n",
       "      <td>1370</td>\n",
       "    </tr>\n",
       "    <tr>\n",
       "      <td>33</td>\n",
       "      <td>2017-09</td>\n",
       "      <td>2581</td>\n",
       "    </tr>\n",
       "    <tr>\n",
       "      <td>42</td>\n",
       "      <td>2017-10</td>\n",
       "      <td>4340</td>\n",
       "    </tr>\n",
       "  </tbody>\n",
       "</table>\n",
       "</div>"
      ],
      "text/plain": [
       "   first_order_month  cohort_users\n",
       "0            2017-06          2023\n",
       "12           2017-07          1923\n",
       "23           2017-08          1370\n",
       "33           2017-09          2581\n",
       "42           2017-10          4340"
      ]
     },
     "execution_count": 79,
     "metadata": {},
     "output_type": "execute_result"
    }
   ],
   "source": [
    "inital_users_count = inital_users_count.rename(columns={'uid':'cohort_users'})\n",
    "inital_users_count.head()"
   ]
  },
  {
   "cell_type": "code",
   "execution_count": 80,
   "metadata": {},
   "outputs": [],
   "source": [
    "rate_cohorts = rate_cohorts.merge(inital_users_count,on='first_order_month')"
   ]
  },
  {
   "cell_type": "code",
   "execution_count": 81,
   "metadata": {},
   "outputs": [
    {
     "data": {
      "text/html": [
       "<div>\n",
       "<style scoped>\n",
       "    .dataframe tbody tr th:only-of-type {\n",
       "        vertical-align: middle;\n",
       "    }\n",
       "\n",
       "    .dataframe tbody tr th {\n",
       "        vertical-align: top;\n",
       "    }\n",
       "\n",
       "    .dataframe thead th {\n",
       "        text-align: right;\n",
       "    }\n",
       "</style>\n",
       "<table border=\"1\" class=\"dataframe\">\n",
       "  <thead>\n",
       "    <tr style=\"text-align: right;\">\n",
       "      <th></th>\n",
       "      <th>first_order_month</th>\n",
       "      <th>cohort_lifetime</th>\n",
       "      <th>uid</th>\n",
       "      <th>cohort_users</th>\n",
       "    </tr>\n",
       "  </thead>\n",
       "  <tbody>\n",
       "    <tr>\n",
       "      <td>0</td>\n",
       "      <td>2017-06</td>\n",
       "      <td>0</td>\n",
       "      <td>2023</td>\n",
       "      <td>2023</td>\n",
       "    </tr>\n",
       "    <tr>\n",
       "      <td>1</td>\n",
       "      <td>2017-06</td>\n",
       "      <td>1</td>\n",
       "      <td>61</td>\n",
       "      <td>2023</td>\n",
       "    </tr>\n",
       "    <tr>\n",
       "      <td>2</td>\n",
       "      <td>2017-06</td>\n",
       "      <td>2</td>\n",
       "      <td>50</td>\n",
       "      <td>2023</td>\n",
       "    </tr>\n",
       "    <tr>\n",
       "      <td>3</td>\n",
       "      <td>2017-06</td>\n",
       "      <td>3</td>\n",
       "      <td>54</td>\n",
       "      <td>2023</td>\n",
       "    </tr>\n",
       "    <tr>\n",
       "      <td>4</td>\n",
       "      <td>2017-06</td>\n",
       "      <td>4</td>\n",
       "      <td>88</td>\n",
       "      <td>2023</td>\n",
       "    </tr>\n",
       "  </tbody>\n",
       "</table>\n",
       "</div>"
      ],
      "text/plain": [
       "  first_order_month  cohort_lifetime   uid  cohort_users\n",
       "0           2017-06                0  2023          2023\n",
       "1           2017-06                1    61          2023\n",
       "2           2017-06                2    50          2023\n",
       "3           2017-06                3    54          2023\n",
       "4           2017-06                4    88          2023"
      ]
     },
     "execution_count": 81,
     "metadata": {},
     "output_type": "execute_result"
    }
   ],
   "source": [
    "rate_cohorts.head()"
   ]
  },
  {
   "cell_type": "code",
   "execution_count": 82,
   "metadata": {},
   "outputs": [
    {
     "name": "stdout",
     "output_type": "stream",
     "text": [
      "0.1854200310092229\n"
     ]
    }
   ],
   "source": [
    "rate_cohorts['retention'] = rate_cohorts['uid']/rate_cohorts['cohort_users']\n",
    "print(rate_cohorts['retention'].mean())"
   ]
  },
  {
   "cell_type": "code",
   "execution_count": 83,
   "metadata": {},
   "outputs": [
    {
     "data": {
      "text/html": [
       "<div>\n",
       "<style scoped>\n",
       "    .dataframe tbody tr th:only-of-type {\n",
       "        vertical-align: middle;\n",
       "    }\n",
       "\n",
       "    .dataframe tbody tr th {\n",
       "        vertical-align: top;\n",
       "    }\n",
       "\n",
       "    .dataframe thead th {\n",
       "        text-align: right;\n",
       "    }\n",
       "</style>\n",
       "<table border=\"1\" class=\"dataframe\">\n",
       "  <thead>\n",
       "    <tr style=\"text-align: right;\">\n",
       "      <th>cohort_lifetime</th>\n",
       "      <th>0</th>\n",
       "      <th>1</th>\n",
       "      <th>2</th>\n",
       "      <th>3</th>\n",
       "      <th>4</th>\n",
       "      <th>5</th>\n",
       "      <th>6</th>\n",
       "      <th>7</th>\n",
       "      <th>8</th>\n",
       "      <th>9</th>\n",
       "      <th>10</th>\n",
       "      <th>11</th>\n",
       "    </tr>\n",
       "    <tr>\n",
       "      <th>first_order_month</th>\n",
       "      <th></th>\n",
       "      <th></th>\n",
       "      <th></th>\n",
       "      <th></th>\n",
       "      <th></th>\n",
       "      <th></th>\n",
       "      <th></th>\n",
       "      <th></th>\n",
       "      <th></th>\n",
       "      <th></th>\n",
       "      <th></th>\n",
       "      <th></th>\n",
       "    </tr>\n",
       "  </thead>\n",
       "  <tbody>\n",
       "    <tr>\n",
       "      <td>2017-06</td>\n",
       "      <td>1.0</td>\n",
       "      <td>0.030153</td>\n",
       "      <td>0.024716</td>\n",
       "      <td>0.026693</td>\n",
       "      <td>0.043500</td>\n",
       "      <td>0.033119</td>\n",
       "      <td>0.030648</td>\n",
       "      <td>0.023233</td>\n",
       "      <td>0.028670</td>\n",
       "      <td>0.022244</td>\n",
       "      <td>0.022244</td>\n",
       "      <td>0.026199</td>\n",
       "    </tr>\n",
       "    <tr>\n",
       "      <td>2017-07</td>\n",
       "      <td>1.0</td>\n",
       "      <td>0.027041</td>\n",
       "      <td>0.029641</td>\n",
       "      <td>0.033281</td>\n",
       "      <td>0.025481</td>\n",
       "      <td>0.019761</td>\n",
       "      <td>0.018721</td>\n",
       "      <td>0.020281</td>\n",
       "      <td>0.021841</td>\n",
       "      <td>0.011440</td>\n",
       "      <td>0.013521</td>\n",
       "      <td>NaN</td>\n",
       "    </tr>\n",
       "    <tr>\n",
       "      <td>2017-08</td>\n",
       "      <td>1.0</td>\n",
       "      <td>0.042336</td>\n",
       "      <td>0.038686</td>\n",
       "      <td>0.032117</td>\n",
       "      <td>0.029197</td>\n",
       "      <td>0.023358</td>\n",
       "      <td>0.021898</td>\n",
       "      <td>0.032117</td>\n",
       "      <td>0.013869</td>\n",
       "      <td>0.022628</td>\n",
       "      <td>NaN</td>\n",
       "      <td>NaN</td>\n",
       "    </tr>\n",
       "    <tr>\n",
       "      <td>2017-09</td>\n",
       "      <td>1.0</td>\n",
       "      <td>0.050368</td>\n",
       "      <td>0.038745</td>\n",
       "      <td>0.028671</td>\n",
       "      <td>0.020147</td>\n",
       "      <td>0.024797</td>\n",
       "      <td>0.025571</td>\n",
       "      <td>0.014336</td>\n",
       "      <td>0.016660</td>\n",
       "      <td>NaN</td>\n",
       "      <td>NaN</td>\n",
       "      <td>NaN</td>\n",
       "    </tr>\n",
       "    <tr>\n",
       "      <td>2017-10</td>\n",
       "      <td>1.0</td>\n",
       "      <td>0.047465</td>\n",
       "      <td>0.028341</td>\n",
       "      <td>0.021198</td>\n",
       "      <td>0.021429</td>\n",
       "      <td>0.016590</td>\n",
       "      <td>0.012903</td>\n",
       "      <td>0.015438</td>\n",
       "      <td>NaN</td>\n",
       "      <td>NaN</td>\n",
       "      <td>NaN</td>\n",
       "      <td>NaN</td>\n",
       "    </tr>\n",
       "    <tr>\n",
       "      <td>2017-11</td>\n",
       "      <td>1.0</td>\n",
       "      <td>0.054398</td>\n",
       "      <td>0.029405</td>\n",
       "      <td>0.025974</td>\n",
       "      <td>0.019848</td>\n",
       "      <td>0.011762</td>\n",
       "      <td>0.015192</td>\n",
       "      <td>NaN</td>\n",
       "      <td>NaN</td>\n",
       "      <td>NaN</td>\n",
       "      <td>NaN</td>\n",
       "      <td>NaN</td>\n",
       "    </tr>\n",
       "    <tr>\n",
       "      <td>2017-12</td>\n",
       "      <td>1.0</td>\n",
       "      <td>0.033311</td>\n",
       "      <td>0.023500</td>\n",
       "      <td>0.022131</td>\n",
       "      <td>0.011408</td>\n",
       "      <td>0.014374</td>\n",
       "      <td>NaN</td>\n",
       "      <td>NaN</td>\n",
       "      <td>NaN</td>\n",
       "      <td>NaN</td>\n",
       "      <td>NaN</td>\n",
       "      <td>NaN</td>\n",
       "    </tr>\n",
       "    <tr>\n",
       "      <td>2018-01</td>\n",
       "      <td>1.0</td>\n",
       "      <td>0.033798</td>\n",
       "      <td>0.024607</td>\n",
       "      <td>0.012748</td>\n",
       "      <td>0.013341</td>\n",
       "      <td>NaN</td>\n",
       "      <td>NaN</td>\n",
       "      <td>NaN</td>\n",
       "      <td>NaN</td>\n",
       "      <td>NaN</td>\n",
       "      <td>NaN</td>\n",
       "      <td>NaN</td>\n",
       "    </tr>\n",
       "    <tr>\n",
       "      <td>2018-02</td>\n",
       "      <td>1.0</td>\n",
       "      <td>0.032320</td>\n",
       "      <td>0.015886</td>\n",
       "      <td>0.010682</td>\n",
       "      <td>NaN</td>\n",
       "      <td>NaN</td>\n",
       "      <td>NaN</td>\n",
       "      <td>NaN</td>\n",
       "      <td>NaN</td>\n",
       "      <td>NaN</td>\n",
       "      <td>NaN</td>\n",
       "      <td>NaN</td>\n",
       "    </tr>\n",
       "    <tr>\n",
       "      <td>2018-03</td>\n",
       "      <td>1.0</td>\n",
       "      <td>0.025474</td>\n",
       "      <td>0.016417</td>\n",
       "      <td>NaN</td>\n",
       "      <td>NaN</td>\n",
       "      <td>NaN</td>\n",
       "      <td>NaN</td>\n",
       "      <td>NaN</td>\n",
       "      <td>NaN</td>\n",
       "      <td>NaN</td>\n",
       "      <td>NaN</td>\n",
       "      <td>NaN</td>\n",
       "    </tr>\n",
       "    <tr>\n",
       "      <td>2018-04</td>\n",
       "      <td>1.0</td>\n",
       "      <td>0.030316</td>\n",
       "      <td>NaN</td>\n",
       "      <td>NaN</td>\n",
       "      <td>NaN</td>\n",
       "      <td>NaN</td>\n",
       "      <td>NaN</td>\n",
       "      <td>NaN</td>\n",
       "      <td>NaN</td>\n",
       "      <td>NaN</td>\n",
       "      <td>NaN</td>\n",
       "      <td>NaN</td>\n",
       "    </tr>\n",
       "    <tr>\n",
       "      <td>2018-05</td>\n",
       "      <td>1.0</td>\n",
       "      <td>NaN</td>\n",
       "      <td>NaN</td>\n",
       "      <td>NaN</td>\n",
       "      <td>NaN</td>\n",
       "      <td>NaN</td>\n",
       "      <td>NaN</td>\n",
       "      <td>NaN</td>\n",
       "      <td>NaN</td>\n",
       "      <td>NaN</td>\n",
       "      <td>NaN</td>\n",
       "      <td>NaN</td>\n",
       "    </tr>\n",
       "    <tr>\n",
       "      <td>2018-06</td>\n",
       "      <td>1.0</td>\n",
       "      <td>NaN</td>\n",
       "      <td>NaN</td>\n",
       "      <td>NaN</td>\n",
       "      <td>NaN</td>\n",
       "      <td>NaN</td>\n",
       "      <td>NaN</td>\n",
       "      <td>NaN</td>\n",
       "      <td>NaN</td>\n",
       "      <td>NaN</td>\n",
       "      <td>NaN</td>\n",
       "      <td>NaN</td>\n",
       "    </tr>\n",
       "  </tbody>\n",
       "</table>\n",
       "</div>"
      ],
      "text/plain": [
       "cohort_lifetime     0         1         2         3         4         5   \\\n",
       "first_order_month                                                          \n",
       "2017-06            1.0  0.030153  0.024716  0.026693  0.043500  0.033119   \n",
       "2017-07            1.0  0.027041  0.029641  0.033281  0.025481  0.019761   \n",
       "2017-08            1.0  0.042336  0.038686  0.032117  0.029197  0.023358   \n",
       "2017-09            1.0  0.050368  0.038745  0.028671  0.020147  0.024797   \n",
       "2017-10            1.0  0.047465  0.028341  0.021198  0.021429  0.016590   \n",
       "2017-11            1.0  0.054398  0.029405  0.025974  0.019848  0.011762   \n",
       "2017-12            1.0  0.033311  0.023500  0.022131  0.011408  0.014374   \n",
       "2018-01            1.0  0.033798  0.024607  0.012748  0.013341       NaN   \n",
       "2018-02            1.0  0.032320  0.015886  0.010682       NaN       NaN   \n",
       "2018-03            1.0  0.025474  0.016417       NaN       NaN       NaN   \n",
       "2018-04            1.0  0.030316       NaN       NaN       NaN       NaN   \n",
       "2018-05            1.0       NaN       NaN       NaN       NaN       NaN   \n",
       "2018-06            1.0       NaN       NaN       NaN       NaN       NaN   \n",
       "\n",
       "cohort_lifetime          6         7         8         9         10        11  \n",
       "first_order_month                                                              \n",
       "2017-06            0.030648  0.023233  0.028670  0.022244  0.022244  0.026199  \n",
       "2017-07            0.018721  0.020281  0.021841  0.011440  0.013521       NaN  \n",
       "2017-08            0.021898  0.032117  0.013869  0.022628       NaN       NaN  \n",
       "2017-09            0.025571  0.014336  0.016660       NaN       NaN       NaN  \n",
       "2017-10            0.012903  0.015438       NaN       NaN       NaN       NaN  \n",
       "2017-11            0.015192       NaN       NaN       NaN       NaN       NaN  \n",
       "2017-12                 NaN       NaN       NaN       NaN       NaN       NaN  \n",
       "2018-01                 NaN       NaN       NaN       NaN       NaN       NaN  \n",
       "2018-02                 NaN       NaN       NaN       NaN       NaN       NaN  \n",
       "2018-03                 NaN       NaN       NaN       NaN       NaN       NaN  \n",
       "2018-04                 NaN       NaN       NaN       NaN       NaN       NaN  \n",
       "2018-05                 NaN       NaN       NaN       NaN       NaN       NaN  \n",
       "2018-06                 NaN       NaN       NaN       NaN       NaN       NaN  "
      ]
     },
     "execution_count": 83,
     "metadata": {},
     "output_type": "execute_result"
    }
   ],
   "source": [
    "retention_pivot = rate_cohorts.pivot_table(index='first_order_month',columns='cohort_lifetime',values='retention',aggfunc='sum')\n",
    "retention_pivot.head(15)"
   ]
  },
  {
   "cell_type": "code",
   "execution_count": 84,
   "metadata": {},
   "outputs": [
    {
     "data": {
      "image/png": "[encoded data removed]",
      "text/plain": [
       "<Figure size 936x648 with 2 Axes>"
      ]
     },
     "metadata": {},
     "output_type": "display_data"
    }
   ],
   "source": [
    "sns.set(style='white')\n",
    "plt.figure(figsize=(13, 9))\n",
    "plt.title('Cohorts: Client Retention')\n",
    "fmt = lambda x,pos: '{:.0%}'.format(x)\n",
    "heatmap = sns.heatmap(retention_pivot, annot=True, fmt='.1%', linewidths=1, linecolor='gray', vmax=0.06,\n",
    "            cbar_kws={'format': FuncFormatter(fmt)})"
   ]
  },
  {
   "cell_type": "markdown",
   "metadata": {},
   "source": [
    "    \n",
    "    RETENTION RATE (у клиентов, совершивщих покупки) в первый месяц относительно низкий. Это важный сигнал того,\n",
    "    что нужно сосредоточиться на удержании покупателей в первый месяц, ведь большая часть активных покупателей\n",
    "    отказывается от сервиса именно в этот период. \n",
    "    \n",
    "    Видим, что в первый месяц жизни у когорты 2017-11 самый высокий показатель - 5,4%\n",
    "\n",
    "    До когорты 2017-12 показатель держится в рамках от 4% до 5,4%. Начиная с когорты 2017-12 показатель держится\n",
    "    в рамках 3,5% - 2,5%. Коэффициент удержания упал. Это говорит, что с каждой новой когортой поведение покупателей \n",
    "    меняется. Возможно, были выбраны неэффективные источники рекламы.\n",
    "\n",
    "    У первый когорты 2017-06 спустя год самый высокий коэфициент на момент снятия отчета - 2,6%\n",
    "\n"
   ]
  },
  {
   "cell_type": "markdown",
   "metadata": {},
   "source": [
    "### Считаем экономику одного покупателя (LTV, CAC, ROMI) <a class=\"anchor\" id=\"3-2-5-bullet\"></a>"
   ]
  },
  {
   "cell_type": "markdown",
   "metadata": {},
   "source": [
    "**Предобработка данных**"
   ]
  },
  {
   "cell_type": "code",
   "execution_count": 85,
   "metadata": {},
   "outputs": [],
   "source": [
    "orders['date'] = orders['date'].dt.date\n",
    "orders['date'] = pd.to_datetime(orders['date'])"
   ]
  },
  {
   "cell_type": "code",
   "execution_count": 86,
   "metadata": {},
   "outputs": [
    {
     "data": {
      "text/html": [
       "<div>\n",
       "<style scoped>\n",
       "    .dataframe tbody tr th:only-of-type {\n",
       "        vertical-align: middle;\n",
       "    }\n",
       "\n",
       "    .dataframe tbody tr th {\n",
       "        vertical-align: top;\n",
       "    }\n",
       "\n",
       "    .dataframe thead th {\n",
       "        text-align: right;\n",
       "    }\n",
       "</style>\n",
       "<table border=\"1\" class=\"dataframe\">\n",
       "  <thead>\n",
       "    <tr style=\"text-align: right;\">\n",
       "      <th></th>\n",
       "      <th>order_date_t</th>\n",
       "      <th>revenue</th>\n",
       "      <th>uid</th>\n",
       "      <th>date</th>\n",
       "      <th>first_order_date</th>\n",
       "      <th>first_order_month</th>\n",
       "      <th>order_month</th>\n",
       "      <th>cohort_lifetime</th>\n",
       "      <th>source_id</th>\n",
       "      <th>costs</th>\n",
       "    </tr>\n",
       "  </thead>\n",
       "  <tbody>\n",
       "    <tr>\n",
       "      <td>0</td>\n",
       "      <td>2017-06-01 00:10:00</td>\n",
       "      <td>17.0</td>\n",
       "      <td>10329302124590727494</td>\n",
       "      <td>2017-06-01</td>\n",
       "      <td>2017-06-01</td>\n",
       "      <td>2017-06</td>\n",
       "      <td>2017-06-01</td>\n",
       "      <td>0</td>\n",
       "      <td>1</td>\n",
       "      <td>75.20</td>\n",
       "    </tr>\n",
       "    <tr>\n",
       "      <td>1</td>\n",
       "      <td>2017-06-01 00:10:00</td>\n",
       "      <td>17.0</td>\n",
       "      <td>10329302124590727494</td>\n",
       "      <td>2017-06-01</td>\n",
       "      <td>2017-06-01</td>\n",
       "      <td>2017-06</td>\n",
       "      <td>2017-06-01</td>\n",
       "      <td>0</td>\n",
       "      <td>2</td>\n",
       "      <td>132.56</td>\n",
       "    </tr>\n",
       "    <tr>\n",
       "      <td>2</td>\n",
       "      <td>2017-06-01 00:10:00</td>\n",
       "      <td>17.0</td>\n",
       "      <td>10329302124590727494</td>\n",
       "      <td>2017-06-01</td>\n",
       "      <td>2017-06-01</td>\n",
       "      <td>2017-06</td>\n",
       "      <td>2017-06-01</td>\n",
       "      <td>0</td>\n",
       "      <td>3</td>\n",
       "      <td>349.38</td>\n",
       "    </tr>\n",
       "    <tr>\n",
       "      <td>3</td>\n",
       "      <td>2017-06-01 00:10:00</td>\n",
       "      <td>17.0</td>\n",
       "      <td>10329302124590727494</td>\n",
       "      <td>2017-06-01</td>\n",
       "      <td>2017-06-01</td>\n",
       "      <td>2017-06</td>\n",
       "      <td>2017-06-01</td>\n",
       "      <td>0</td>\n",
       "      <td>4</td>\n",
       "      <td>76.74</td>\n",
       "    </tr>\n",
       "    <tr>\n",
       "      <td>4</td>\n",
       "      <td>2017-06-01 00:10:00</td>\n",
       "      <td>17.0</td>\n",
       "      <td>10329302124590727494</td>\n",
       "      <td>2017-06-01</td>\n",
       "      <td>2017-06-01</td>\n",
       "      <td>2017-06</td>\n",
       "      <td>2017-06-01</td>\n",
       "      <td>0</td>\n",
       "      <td>5</td>\n",
       "      <td>73.24</td>\n",
       "    </tr>\n",
       "  </tbody>\n",
       "</table>\n",
       "</div>"
      ],
      "text/plain": [
       "         order_date_t  revenue                   uid       date  \\\n",
       "0 2017-06-01 00:10:00     17.0  10329302124590727494 2017-06-01   \n",
       "1 2017-06-01 00:10:00     17.0  10329302124590727494 2017-06-01   \n",
       "2 2017-06-01 00:10:00     17.0  10329302124590727494 2017-06-01   \n",
       "3 2017-06-01 00:10:00     17.0  10329302124590727494 2017-06-01   \n",
       "4 2017-06-01 00:10:00     17.0  10329302124590727494 2017-06-01   \n",
       "\n",
       "  first_order_date first_order_month order_month  cohort_lifetime  source_id  \\\n",
       "0       2017-06-01           2017-06  2017-06-01                0          1   \n",
       "1       2017-06-01           2017-06  2017-06-01                0          2   \n",
       "2       2017-06-01           2017-06  2017-06-01                0          3   \n",
       "3       2017-06-01           2017-06  2017-06-01                0          4   \n",
       "4       2017-06-01           2017-06  2017-06-01                0          5   \n",
       "\n",
       "    costs  \n",
       "0   75.20  \n",
       "1  132.56  \n",
       "2  349.38  \n",
       "3   76.74  \n",
       "4   73.24  "
      ]
     },
     "execution_count": 86,
     "metadata": {},
     "output_type": "execute_result"
    }
   ],
   "source": [
    "marketing = orders.merge(costs, on='date', how='inner')\n",
    "marketing.head()"
   ]
  },
  {
   "cell_type": "code",
   "execution_count": 87,
   "metadata": {},
   "outputs": [
    {
     "name": "stdout",
     "output_type": "stream",
     "text": [
      "<class 'pandas.core.frame.DataFrame'>\n",
      "Int64Index: 352898 entries, 0 to 352897\n",
      "Data columns (total 10 columns):\n",
      "order_date_t         352898 non-null datetime64[ns]\n",
      "revenue              352898 non-null float64\n",
      "uid                  352898 non-null uint64\n",
      "date                 352898 non-null datetime64[ns]\n",
      "first_order_date     352898 non-null datetime64[ns]\n",
      "first_order_month    352898 non-null object\n",
      "order_month          352898 non-null datetime64[ns]\n",
      "cohort_lifetime      352898 non-null int64\n",
      "source_id            352898 non-null int64\n",
      "costs                352898 non-null float64\n",
      "dtypes: datetime64[ns](4), float64(2), int64(2), object(1), uint64(1)\n",
      "memory usage: 29.6+ MB\n"
     ]
    }
   ],
   "source": [
    "marketing.info()"
   ]
  },
  {
   "cell_type": "code",
   "execution_count": 88,
   "metadata": {},
   "outputs": [],
   "source": [
    "marketing['first_order_month'] = pd.to_datetime(marketing['first_order_month'])"
   ]
  },
  {
   "cell_type": "markdown",
   "metadata": {},
   "source": [
    "**Посчитаем количество новых покупателей (n_buyers) за каждый месяц**"
   ]
  },
  {
   "cell_type": "code",
   "execution_count": 89,
   "metadata": {},
   "outputs": [
    {
     "data": {
      "text/html": [
       "<div>\n",
       "<style scoped>\n",
       "    .dataframe tbody tr th:only-of-type {\n",
       "        vertical-align: middle;\n",
       "    }\n",
       "\n",
       "    .dataframe tbody tr th {\n",
       "        vertical-align: top;\n",
       "    }\n",
       "\n",
       "    .dataframe thead th {\n",
       "        text-align: right;\n",
       "    }\n",
       "</style>\n",
       "<table border=\"1\" class=\"dataframe\">\n",
       "  <thead>\n",
       "    <tr style=\"text-align: right;\">\n",
       "      <th></th>\n",
       "      <th>first_order_month</th>\n",
       "      <th>n_buyers</th>\n",
       "    </tr>\n",
       "  </thead>\n",
       "  <tbody>\n",
       "    <tr>\n",
       "      <td>0</td>\n",
       "      <td>2017-06-01</td>\n",
       "      <td>2023</td>\n",
       "    </tr>\n",
       "    <tr>\n",
       "      <td>1</td>\n",
       "      <td>2017-07-01</td>\n",
       "      <td>1923</td>\n",
       "    </tr>\n",
       "    <tr>\n",
       "      <td>2</td>\n",
       "      <td>2017-08-01</td>\n",
       "      <td>1370</td>\n",
       "    </tr>\n",
       "    <tr>\n",
       "      <td>3</td>\n",
       "      <td>2017-09-01</td>\n",
       "      <td>2581</td>\n",
       "    </tr>\n",
       "    <tr>\n",
       "      <td>4</td>\n",
       "      <td>2017-10-01</td>\n",
       "      <td>4340</td>\n",
       "    </tr>\n",
       "  </tbody>\n",
       "</table>\n",
       "</div>"
      ],
      "text/plain": [
       "  first_order_month  n_buyers\n",
       "0        2017-06-01      2023\n",
       "1        2017-07-01      1923\n",
       "2        2017-08-01      1370\n",
       "3        2017-09-01      2581\n",
       "4        2017-10-01      4340"
      ]
     },
     "execution_count": 89,
     "metadata": {},
     "output_type": "execute_result"
    }
   ],
   "source": [
    "cohort_sizes = marketing.groupby('first_order_month').agg({'uid': 'nunique'}).reset_index()\n",
    "cohort_sizes.columns = ['first_order_month', 'n_buyers']\n",
    "cohort_sizes.head()"
   ]
  },
  {
   "cell_type": "markdown",
   "metadata": {},
   "source": [
    "    Сгруппируем таблицу заказов по месяцу первой покупки и месяцу каждого заказа и сложим выручку.\n",
    "    Сбросим индекс методом reset_index():"
   ]
  },
  {
   "cell_type": "code",
   "execution_count": 90,
   "metadata": {},
   "outputs": [
    {
     "data": {
      "text/html": [
       "<div>\n",
       "<style scoped>\n",
       "    .dataframe tbody tr th:only-of-type {\n",
       "        vertical-align: middle;\n",
       "    }\n",
       "\n",
       "    .dataframe tbody tr th {\n",
       "        vertical-align: top;\n",
       "    }\n",
       "\n",
       "    .dataframe thead th {\n",
       "        text-align: right;\n",
       "    }\n",
       "</style>\n",
       "<table border=\"1\" class=\"dataframe\">\n",
       "  <thead>\n",
       "    <tr style=\"text-align: right;\">\n",
       "      <th></th>\n",
       "      <th>first_order_month</th>\n",
       "      <th>order_month</th>\n",
       "      <th>revenue</th>\n",
       "    </tr>\n",
       "  </thead>\n",
       "  <tbody>\n",
       "    <tr>\n",
       "      <td>0</td>\n",
       "      <td>2017-06-01</td>\n",
       "      <td>2017-06-01</td>\n",
       "      <td>66902.43</td>\n",
       "    </tr>\n",
       "    <tr>\n",
       "      <td>1</td>\n",
       "      <td>2017-06-01</td>\n",
       "      <td>2017-07-01</td>\n",
       "      <td>6872.74</td>\n",
       "    </tr>\n",
       "    <tr>\n",
       "      <td>2</td>\n",
       "      <td>2017-06-01</td>\n",
       "      <td>2017-08-01</td>\n",
       "      <td>6197.38</td>\n",
       "    </tr>\n",
       "    <tr>\n",
       "      <td>3</td>\n",
       "      <td>2017-06-01</td>\n",
       "      <td>2017-09-01</td>\n",
       "      <td>13519.10</td>\n",
       "    </tr>\n",
       "    <tr>\n",
       "      <td>4</td>\n",
       "      <td>2017-06-01</td>\n",
       "      <td>2017-10-01</td>\n",
       "      <td>14480.06</td>\n",
       "    </tr>\n",
       "  </tbody>\n",
       "</table>\n",
       "</div>"
      ],
      "text/plain": [
       "  first_order_month order_month   revenue\n",
       "0        2017-06-01  2017-06-01  66902.43\n",
       "1        2017-06-01  2017-07-01   6872.74\n",
       "2        2017-06-01  2017-08-01   6197.38\n",
       "3        2017-06-01  2017-09-01  13519.10\n",
       "4        2017-06-01  2017-10-01  14480.06"
      ]
     },
     "execution_count": 90,
     "metadata": {},
     "output_type": "execute_result"
    }
   ],
   "source": [
    "cohorts = marketing.groupby(['first_order_month','order_month']).agg({'revenue': 'sum'}).reset_index()\n",
    "cohorts.head()\n"
   ]
  },
  {
   "cell_type": "markdown",
   "metadata": {},
   "source": [
    "    Добавим в таблицу cohorts данные о том, сколько людей первый раз совершили покупку в каждый месяц:"
   ]
  },
  {
   "cell_type": "code",
   "execution_count": 91,
   "metadata": {},
   "outputs": [
    {
     "data": {
      "text/html": [
       "<div>\n",
       "<style scoped>\n",
       "    .dataframe tbody tr th:only-of-type {\n",
       "        vertical-align: middle;\n",
       "    }\n",
       "\n",
       "    .dataframe tbody tr th {\n",
       "        vertical-align: top;\n",
       "    }\n",
       "\n",
       "    .dataframe thead th {\n",
       "        text-align: right;\n",
       "    }\n",
       "</style>\n",
       "<table border=\"1\" class=\"dataframe\">\n",
       "  <thead>\n",
       "    <tr style=\"text-align: right;\">\n",
       "      <th></th>\n",
       "      <th>first_order_month</th>\n",
       "      <th>n_buyers</th>\n",
       "      <th>order_month</th>\n",
       "      <th>revenue</th>\n",
       "    </tr>\n",
       "  </thead>\n",
       "  <tbody>\n",
       "    <tr>\n",
       "      <td>0</td>\n",
       "      <td>2017-06-01</td>\n",
       "      <td>2023</td>\n",
       "      <td>2017-06-01</td>\n",
       "      <td>66902.43</td>\n",
       "    </tr>\n",
       "    <tr>\n",
       "      <td>1</td>\n",
       "      <td>2017-06-01</td>\n",
       "      <td>2023</td>\n",
       "      <td>2017-07-01</td>\n",
       "      <td>6872.74</td>\n",
       "    </tr>\n",
       "    <tr>\n",
       "      <td>2</td>\n",
       "      <td>2017-06-01</td>\n",
       "      <td>2023</td>\n",
       "      <td>2017-08-01</td>\n",
       "      <td>6197.38</td>\n",
       "    </tr>\n",
       "    <tr>\n",
       "      <td>3</td>\n",
       "      <td>2017-06-01</td>\n",
       "      <td>2023</td>\n",
       "      <td>2017-09-01</td>\n",
       "      <td>13519.10</td>\n",
       "    </tr>\n",
       "    <tr>\n",
       "      <td>4</td>\n",
       "      <td>2017-06-01</td>\n",
       "      <td>2023</td>\n",
       "      <td>2017-10-01</td>\n",
       "      <td>14480.06</td>\n",
       "    </tr>\n",
       "  </tbody>\n",
       "</table>\n",
       "</div>"
      ],
      "text/plain": [
       "  first_order_month  n_buyers order_month   revenue\n",
       "0        2017-06-01      2023  2017-06-01  66902.43\n",
       "1        2017-06-01      2023  2017-07-01   6872.74\n",
       "2        2017-06-01      2023  2017-08-01   6197.38\n",
       "3        2017-06-01      2023  2017-09-01  13519.10\n",
       "4        2017-06-01      2023  2017-10-01  14480.06"
      ]
     },
     "execution_count": 91,
     "metadata": {},
     "output_type": "execute_result"
    }
   ],
   "source": [
    "report = pd.merge(cohort_sizes, cohorts, on='first_order_month')\n",
    "report.head()"
   ]
  },
  {
   "cell_type": "markdown",
   "metadata": {},
   "source": [
    "    Найдем валовую прибыль, умножив выручку на маржинальность. LTV удобнее смотреть по «возрастным» когортам,\n",
    "    где в столбцах — не месяц заказа, а возраст (age) когорты."
   ]
  },
  {
   "cell_type": "code",
   "execution_count": 92,
   "metadata": {},
   "outputs": [
    {
     "data": {
      "text/html": [
       "<div>\n",
       "<style scoped>\n",
       "    .dataframe tbody tr th:only-of-type {\n",
       "        vertical-align: middle;\n",
       "    }\n",
       "\n",
       "    .dataframe tbody tr th {\n",
       "        vertical-align: top;\n",
       "    }\n",
       "\n",
       "    .dataframe thead th {\n",
       "        text-align: right;\n",
       "    }\n",
       "</style>\n",
       "<table border=\"1\" class=\"dataframe\">\n",
       "  <thead>\n",
       "    <tr style=\"text-align: right;\">\n",
       "      <th></th>\n",
       "      <th>first_order_month</th>\n",
       "      <th>n_buyers</th>\n",
       "      <th>order_month</th>\n",
       "      <th>revenue</th>\n",
       "      <th>gp</th>\n",
       "      <th>age</th>\n",
       "    </tr>\n",
       "  </thead>\n",
       "  <tbody>\n",
       "    <tr>\n",
       "      <td>0</td>\n",
       "      <td>2017-06-01</td>\n",
       "      <td>2023</td>\n",
       "      <td>2017-06-01</td>\n",
       "      <td>66902.43</td>\n",
       "      <td>33451.215</td>\n",
       "      <td>0</td>\n",
       "    </tr>\n",
       "    <tr>\n",
       "      <td>1</td>\n",
       "      <td>2017-06-01</td>\n",
       "      <td>2023</td>\n",
       "      <td>2017-07-01</td>\n",
       "      <td>6872.74</td>\n",
       "      <td>3436.370</td>\n",
       "      <td>1</td>\n",
       "    </tr>\n",
       "    <tr>\n",
       "      <td>2</td>\n",
       "      <td>2017-06-01</td>\n",
       "      <td>2023</td>\n",
       "      <td>2017-08-01</td>\n",
       "      <td>6197.38</td>\n",
       "      <td>3098.690</td>\n",
       "      <td>2</td>\n",
       "    </tr>\n",
       "    <tr>\n",
       "      <td>3</td>\n",
       "      <td>2017-06-01</td>\n",
       "      <td>2023</td>\n",
       "      <td>2017-09-01</td>\n",
       "      <td>13519.10</td>\n",
       "      <td>6759.550</td>\n",
       "      <td>3</td>\n",
       "    </tr>\n",
       "    <tr>\n",
       "      <td>4</td>\n",
       "      <td>2017-06-01</td>\n",
       "      <td>2023</td>\n",
       "      <td>2017-10-01</td>\n",
       "      <td>14480.06</td>\n",
       "      <td>7240.030</td>\n",
       "      <td>4</td>\n",
       "    </tr>\n",
       "  </tbody>\n",
       "</table>\n",
       "</div>"
      ],
      "text/plain": [
       "  first_order_month  n_buyers order_month   revenue         gp  age\n",
       "0        2017-06-01      2023  2017-06-01  66902.43  33451.215    0\n",
       "1        2017-06-01      2023  2017-07-01   6872.74   3436.370    1\n",
       "2        2017-06-01      2023  2017-08-01   6197.38   3098.690    2\n",
       "3        2017-06-01      2023  2017-09-01  13519.10   6759.550    3\n",
       "4        2017-06-01      2023  2017-10-01  14480.06   7240.030    4"
      ]
     },
     "execution_count": 92,
     "metadata": {},
     "output_type": "execute_result"
    }
   ],
   "source": [
    "margin_rate = 0.5\n",
    "    \n",
    "report['gp'] = report['revenue'] * margin_rate\n",
    "report['age'] = (report['order_month'] - report['first_order_month']) / np.timedelta64(1, 'M')\n",
    "report['age'] = report['age'].round().astype('int')\n",
    "report.head()"
   ]
  },
  {
   "cell_type": "markdown",
   "metadata": {},
   "source": [
    "    Найдём LTV. Разделим валовую прибыль когорт за каждый месяц на общее число пользователей в каждой когорте."
   ]
  },
  {
   "cell_type": "code",
   "execution_count": 93,
   "metadata": {},
   "outputs": [
    {
     "data": {
      "text/html": [
       "<div>\n",
       "<style scoped>\n",
       "    .dataframe tbody tr th:only-of-type {\n",
       "        vertical-align: middle;\n",
       "    }\n",
       "\n",
       "    .dataframe tbody tr th {\n",
       "        vertical-align: top;\n",
       "    }\n",
       "\n",
       "    .dataframe thead th {\n",
       "        text-align: right;\n",
       "    }\n",
       "</style>\n",
       "<table border=\"1\" class=\"dataframe\">\n",
       "  <thead>\n",
       "    <tr style=\"text-align: right;\">\n",
       "      <th>age</th>\n",
       "      <th>0</th>\n",
       "      <th>1</th>\n",
       "      <th>2</th>\n",
       "      <th>3</th>\n",
       "      <th>4</th>\n",
       "      <th>5</th>\n",
       "      <th>6</th>\n",
       "      <th>7</th>\n",
       "      <th>8</th>\n",
       "      <th>9</th>\n",
       "      <th>10</th>\n",
       "      <th>11</th>\n",
       "    </tr>\n",
       "    <tr>\n",
       "      <th>first_order_month</th>\n",
       "      <th></th>\n",
       "      <th></th>\n",
       "      <th></th>\n",
       "      <th></th>\n",
       "      <th></th>\n",
       "      <th></th>\n",
       "      <th></th>\n",
       "      <th></th>\n",
       "      <th></th>\n",
       "      <th></th>\n",
       "      <th></th>\n",
       "      <th></th>\n",
       "    </tr>\n",
       "  </thead>\n",
       "  <tbody>\n",
       "    <tr>\n",
       "      <td>2017-06-01</td>\n",
       "      <td>16.5</td>\n",
       "      <td>1.7</td>\n",
       "      <td>1.5</td>\n",
       "      <td>3.3</td>\n",
       "      <td>3.6</td>\n",
       "      <td>2.6</td>\n",
       "      <td>3.3</td>\n",
       "      <td>2</td>\n",
       "      <td>1.9</td>\n",
       "      <td>2.1</td>\n",
       "      <td>2</td>\n",
       "      <td>0.9</td>\n",
       "    </tr>\n",
       "    <tr>\n",
       "      <td>2017-07-01</td>\n",
       "      <td>21.0</td>\n",
       "      <td>1.2</td>\n",
       "      <td>2.2</td>\n",
       "      <td>1.3</td>\n",
       "      <td>0.6</td>\n",
       "      <td>0.5</td>\n",
       "      <td>0.4</td>\n",
       "      <td>0.5</td>\n",
       "      <td>0.6</td>\n",
       "      <td>0.5</td>\n",
       "      <td>0.5</td>\n",
       "      <td></td>\n",
       "    </tr>\n",
       "    <tr>\n",
       "      <td>2017-08-01</td>\n",
       "      <td>18.5</td>\n",
       "      <td>1.7</td>\n",
       "      <td>1.6</td>\n",
       "      <td>1.4</td>\n",
       "      <td>1.7</td>\n",
       "      <td>1</td>\n",
       "      <td>0.7</td>\n",
       "      <td>1.4</td>\n",
       "      <td>1</td>\n",
       "      <td>0.7</td>\n",
       "      <td></td>\n",
       "      <td></td>\n",
       "    </tr>\n",
       "    <tr>\n",
       "      <td>2017-09-01</td>\n",
       "      <td>19.8</td>\n",
       "      <td>3.9</td>\n",
       "      <td>1.8</td>\n",
       "      <td>13.9</td>\n",
       "      <td>1.4</td>\n",
       "      <td>2.3</td>\n",
       "      <td>2.5</td>\n",
       "      <td>0.9</td>\n",
       "      <td>0.6</td>\n",
       "      <td></td>\n",
       "      <td></td>\n",
       "      <td></td>\n",
       "    </tr>\n",
       "    <tr>\n",
       "      <td>2017-10-01</td>\n",
       "      <td>17.5</td>\n",
       "      <td>1.9</td>\n",
       "      <td>0.7</td>\n",
       "      <td>0.6</td>\n",
       "      <td>0.5</td>\n",
       "      <td>0.4</td>\n",
       "      <td>0.3</td>\n",
       "      <td>0.4</td>\n",
       "      <td></td>\n",
       "      <td></td>\n",
       "      <td></td>\n",
       "      <td></td>\n",
       "    </tr>\n",
       "    <tr>\n",
       "      <td>2017-11-01</td>\n",
       "      <td>18.0</td>\n",
       "      <td>1.4</td>\n",
       "      <td>0.7</td>\n",
       "      <td>1.1</td>\n",
       "      <td>0.5</td>\n",
       "      <td>0.2</td>\n",
       "      <td>0.4</td>\n",
       "      <td></td>\n",
       "      <td></td>\n",
       "      <td></td>\n",
       "      <td></td>\n",
       "      <td></td>\n",
       "    </tr>\n",
       "    <tr>\n",
       "      <td>2017-12-01</td>\n",
       "      <td>16.6</td>\n",
       "      <td>0.9</td>\n",
       "      <td>3.2</td>\n",
       "      <td>3.7</td>\n",
       "      <td>1.1</td>\n",
       "      <td>1.2</td>\n",
       "      <td></td>\n",
       "      <td></td>\n",
       "      <td></td>\n",
       "      <td></td>\n",
       "      <td></td>\n",
       "      <td></td>\n",
       "    </tr>\n",
       "    <tr>\n",
       "      <td>2018-01-01</td>\n",
       "      <td>14.5</td>\n",
       "      <td>1</td>\n",
       "      <td>1.1</td>\n",
       "      <td>0.5</td>\n",
       "      <td>0.2</td>\n",
       "      <td></td>\n",
       "      <td></td>\n",
       "      <td></td>\n",
       "      <td></td>\n",
       "      <td></td>\n",
       "      <td></td>\n",
       "      <td></td>\n",
       "    </tr>\n",
       "    <tr>\n",
       "      <td>2018-02-01</td>\n",
       "      <td>14.5</td>\n",
       "      <td>1</td>\n",
       "      <td>0.3</td>\n",
       "      <td>0.3</td>\n",
       "      <td></td>\n",
       "      <td></td>\n",
       "      <td></td>\n",
       "      <td></td>\n",
       "      <td></td>\n",
       "      <td></td>\n",
       "      <td></td>\n",
       "      <td></td>\n",
       "    </tr>\n",
       "    <tr>\n",
       "      <td>2018-03-01</td>\n",
       "      <td>16.9</td>\n",
       "      <td>1.1</td>\n",
       "      <td>1.1</td>\n",
       "      <td></td>\n",
       "      <td></td>\n",
       "      <td></td>\n",
       "      <td></td>\n",
       "      <td></td>\n",
       "      <td></td>\n",
       "      <td></td>\n",
       "      <td></td>\n",
       "      <td></td>\n",
       "    </tr>\n",
       "    <tr>\n",
       "      <td>2018-04-01</td>\n",
       "      <td>16.3</td>\n",
       "      <td>1.9</td>\n",
       "      <td></td>\n",
       "      <td></td>\n",
       "      <td></td>\n",
       "      <td></td>\n",
       "      <td></td>\n",
       "      <td></td>\n",
       "      <td></td>\n",
       "      <td></td>\n",
       "      <td></td>\n",
       "      <td></td>\n",
       "    </tr>\n",
       "    <tr>\n",
       "      <td>2018-05-01</td>\n",
       "      <td>16.3</td>\n",
       "      <td></td>\n",
       "      <td></td>\n",
       "      <td></td>\n",
       "      <td></td>\n",
       "      <td></td>\n",
       "      <td></td>\n",
       "      <td></td>\n",
       "      <td></td>\n",
       "      <td></td>\n",
       "      <td></td>\n",
       "      <td></td>\n",
       "    </tr>\n",
       "  </tbody>\n",
       "</table>\n",
       "</div>"
      ],
      "text/plain": [
       "age                  0    1    2     3    4    5    6    7    8    9    10  \\\n",
       "first_order_month                                                            \n",
       "2017-06-01         16.5  1.7  1.5   3.3  3.6  2.6  3.3    2  1.9  2.1    2   \n",
       "2017-07-01         21.0  1.2  2.2   1.3  0.6  0.5  0.4  0.5  0.6  0.5  0.5   \n",
       "2017-08-01         18.5  1.7  1.6   1.4  1.7    1  0.7  1.4    1  0.7        \n",
       "2017-09-01         19.8  3.9  1.8  13.9  1.4  2.3  2.5  0.9  0.6             \n",
       "2017-10-01         17.5  1.9  0.7   0.6  0.5  0.4  0.3  0.4                  \n",
       "2017-11-01         18.0  1.4  0.7   1.1  0.5  0.2  0.4                       \n",
       "2017-12-01         16.6  0.9  3.2   3.7  1.1  1.2                            \n",
       "2018-01-01         14.5    1  1.1   0.5  0.2                                 \n",
       "2018-02-01         14.5    1  0.3   0.3                                      \n",
       "2018-03-01         16.9  1.1  1.1                                            \n",
       "2018-04-01         16.3  1.9                                                 \n",
       "2018-05-01         16.3                                                      \n",
       "\n",
       "age                 11  \n",
       "first_order_month       \n",
       "2017-06-01         0.9  \n",
       "2017-07-01              \n",
       "2017-08-01              \n",
       "2017-09-01              \n",
       "2017-10-01              \n",
       "2017-11-01              \n",
       "2017-12-01              \n",
       "2018-01-01              \n",
       "2018-02-01              \n",
       "2018-03-01              \n",
       "2018-04-01              \n",
       "2018-05-01              "
      ]
     },
     "execution_count": 93,
     "metadata": {},
     "output_type": "execute_result"
    }
   ],
   "source": [
    "report['ltv'] = report['gp'] / report['n_buyers']    \n",
    "output = report.pivot_table(index='first_order_month', columns='age', values='ltv', aggfunc='mean').round(1)\n",
    "output.fillna('')"
   ]
  },
  {
   "cell_type": "markdown",
   "metadata": {},
   "source": [
    "    Посчитаем CAC каждой когорты. Сначала найдём суммарные расходы за каждый месяц,\n",
    "    а затем поделим их на количество покупателей в каждой когорте:"
   ]
  },
  {
   "cell_type": "code",
   "execution_count": 94,
   "metadata": {},
   "outputs": [
    {
     "data": {
      "text/plain": [
       "order_month\n",
       "2017-06-01    1626338.91\n",
       "2017-07-01    1603972.58\n",
       "2017-08-01     909936.61\n",
       "2017-09-01    2918340.48\n",
       "2017-10-01    6854795.46\n",
       "2017-11-01    8821592.60\n",
       "2017-12-01    7827395.31\n",
       "2018-01-01    5204014.33\n",
       "2018-02-01    6365115.43\n",
       "2018-03-01    5682217.14\n",
       "2018-04-01    2596501.06\n",
       "2018-05-01    3946823.29\n",
       "Name: costs, dtype: float64"
      ]
     },
     "execution_count": 94,
     "metadata": {},
     "output_type": "execute_result"
    }
   ],
   "source": [
    "monthly_costs = marketing.groupby('order_month')['costs'].sum()\n",
    "monthly_costs.head(15)"
   ]
  },
  {
   "cell_type": "code",
   "execution_count": 95,
   "metadata": {},
   "outputs": [
    {
     "data": {
      "text/html": [
       "<div>\n",
       "<style scoped>\n",
       "    .dataframe tbody tr th:only-of-type {\n",
       "        vertical-align: middle;\n",
       "    }\n",
       "\n",
       "    .dataframe tbody tr th {\n",
       "        vertical-align: top;\n",
       "    }\n",
       "\n",
       "    .dataframe thead th {\n",
       "        text-align: right;\n",
       "    }\n",
       "</style>\n",
       "<table border=\"1\" class=\"dataframe\">\n",
       "  <thead>\n",
       "    <tr style=\"text-align: right;\">\n",
       "      <th></th>\n",
       "      <th>first_order_month</th>\n",
       "      <th>n_buyers</th>\n",
       "      <th>order_month</th>\n",
       "      <th>revenue</th>\n",
       "      <th>gp</th>\n",
       "      <th>age</th>\n",
       "      <th>ltv</th>\n",
       "      <th>costs</th>\n",
       "      <th>cac</th>\n",
       "    </tr>\n",
       "  </thead>\n",
       "  <tbody>\n",
       "    <tr>\n",
       "      <td>0</td>\n",
       "      <td>2017-06-01</td>\n",
       "      <td>2023</td>\n",
       "      <td>2017-06-01</td>\n",
       "      <td>66902.43</td>\n",
       "      <td>33451.215</td>\n",
       "      <td>0</td>\n",
       "      <td>16.535450</td>\n",
       "      <td>1626338.91</td>\n",
       "      <td>803.924325</td>\n",
       "    </tr>\n",
       "    <tr>\n",
       "      <td>1</td>\n",
       "      <td>2017-06-01</td>\n",
       "      <td>2023</td>\n",
       "      <td>2017-07-01</td>\n",
       "      <td>6872.74</td>\n",
       "      <td>3436.370</td>\n",
       "      <td>1</td>\n",
       "      <td>1.698651</td>\n",
       "      <td>1626338.91</td>\n",
       "      <td>803.924325</td>\n",
       "    </tr>\n",
       "    <tr>\n",
       "      <td>2</td>\n",
       "      <td>2017-06-01</td>\n",
       "      <td>2023</td>\n",
       "      <td>2017-08-01</td>\n",
       "      <td>6197.38</td>\n",
       "      <td>3098.690</td>\n",
       "      <td>2</td>\n",
       "      <td>1.531730</td>\n",
       "      <td>1626338.91</td>\n",
       "      <td>803.924325</td>\n",
       "    </tr>\n",
       "    <tr>\n",
       "      <td>3</td>\n",
       "      <td>2017-06-01</td>\n",
       "      <td>2023</td>\n",
       "      <td>2017-09-01</td>\n",
       "      <td>13519.10</td>\n",
       "      <td>6759.550</td>\n",
       "      <td>3</td>\n",
       "      <td>3.341349</td>\n",
       "      <td>1626338.91</td>\n",
       "      <td>803.924325</td>\n",
       "    </tr>\n",
       "    <tr>\n",
       "      <td>4</td>\n",
       "      <td>2017-06-01</td>\n",
       "      <td>2023</td>\n",
       "      <td>2017-10-01</td>\n",
       "      <td>14480.06</td>\n",
       "      <td>7240.030</td>\n",
       "      <td>4</td>\n",
       "      <td>3.578858</td>\n",
       "      <td>1626338.91</td>\n",
       "      <td>803.924325</td>\n",
       "    </tr>\n",
       "  </tbody>\n",
       "</table>\n",
       "</div>"
      ],
      "text/plain": [
       "  first_order_month  n_buyers order_month   revenue         gp  age  \\\n",
       "0        2017-06-01      2023  2017-06-01  66902.43  33451.215    0   \n",
       "1        2017-06-01      2023  2017-07-01   6872.74   3436.370    1   \n",
       "2        2017-06-01      2023  2017-08-01   6197.38   3098.690    2   \n",
       "3        2017-06-01      2023  2017-09-01  13519.10   6759.550    3   \n",
       "4        2017-06-01      2023  2017-10-01  14480.06   7240.030    4   \n",
       "\n",
       "         ltv       costs         cac  \n",
       "0  16.535450  1626338.91  803.924325  \n",
       "1   1.698651  1626338.91  803.924325  \n",
       "2   1.531730  1626338.91  803.924325  \n",
       "3   3.341349  1626338.91  803.924325  \n",
       "4   3.578858  1626338.91  803.924325  "
      ]
     },
     "execution_count": 95,
     "metadata": {},
     "output_type": "execute_result"
    }
   ],
   "source": [
    "report_new = pd.merge(report, monthly_costs, left_on='first_order_month', right_on='order_month')\n",
    "report_new['cac'] = report_new['costs'] / report_new['n_buyers']\n",
    "report_new.head()"
   ]
  },
  {
   "cell_type": "markdown",
   "metadata": {},
   "source": [
    "\n",
    "**Рассчитаем ROMI: поделим LTV на CAC** "
   ]
  },
  {
   "cell_type": "code",
   "execution_count": 96,
   "metadata": {},
   "outputs": [
    {
     "data": {
      "text/html": [
       "<div>\n",
       "<style scoped>\n",
       "    .dataframe tbody tr th:only-of-type {\n",
       "        vertical-align: middle;\n",
       "    }\n",
       "\n",
       "    .dataframe tbody tr th {\n",
       "        vertical-align: top;\n",
       "    }\n",
       "\n",
       "    .dataframe thead th {\n",
       "        text-align: right;\n",
       "    }\n",
       "</style>\n",
       "<table border=\"1\" class=\"dataframe\">\n",
       "  <thead>\n",
       "    <tr style=\"text-align: right;\">\n",
       "      <th>age</th>\n",
       "      <th>0</th>\n",
       "      <th>1</th>\n",
       "      <th>2</th>\n",
       "      <th>3</th>\n",
       "      <th>4</th>\n",
       "      <th>5</th>\n",
       "      <th>6</th>\n",
       "      <th>7</th>\n",
       "      <th>8</th>\n",
       "      <th>9</th>\n",
       "      <th>10</th>\n",
       "      <th>11</th>\n",
       "    </tr>\n",
       "    <tr>\n",
       "      <th>first_order_month</th>\n",
       "      <th></th>\n",
       "      <th></th>\n",
       "      <th></th>\n",
       "      <th></th>\n",
       "      <th></th>\n",
       "      <th></th>\n",
       "      <th></th>\n",
       "      <th></th>\n",
       "      <th></th>\n",
       "      <th></th>\n",
       "      <th></th>\n",
       "      <th></th>\n",
       "    </tr>\n",
       "  </thead>\n",
       "  <tbody>\n",
       "    <tr>\n",
       "      <td>2017-06-01</td>\n",
       "      <td>0.02</td>\n",
       "      <td>0.02</td>\n",
       "      <td>0.02</td>\n",
       "      <td>0.03</td>\n",
       "      <td>0.03</td>\n",
       "      <td>0.04</td>\n",
       "      <td>0.04</td>\n",
       "      <td>0.04</td>\n",
       "      <td>0.05</td>\n",
       "      <td>0.05</td>\n",
       "      <td>0.05</td>\n",
       "      <td>0.05</td>\n",
       "    </tr>\n",
       "    <tr>\n",
       "      <td>2017-07-01</td>\n",
       "      <td>0.03</td>\n",
       "      <td>0.03</td>\n",
       "      <td>0.03</td>\n",
       "      <td>0.03</td>\n",
       "      <td>0.03</td>\n",
       "      <td>0.03</td>\n",
       "      <td>0.03</td>\n",
       "      <td>0.03</td>\n",
       "      <td>0.03</td>\n",
       "      <td>0.03</td>\n",
       "      <td>0.04</td>\n",
       "      <td>NaN</td>\n",
       "    </tr>\n",
       "    <tr>\n",
       "      <td>2017-08-01</td>\n",
       "      <td>0.03</td>\n",
       "      <td>0.03</td>\n",
       "      <td>0.03</td>\n",
       "      <td>0.03</td>\n",
       "      <td>0.04</td>\n",
       "      <td>0.04</td>\n",
       "      <td>0.04</td>\n",
       "      <td>0.04</td>\n",
       "      <td>0.04</td>\n",
       "      <td>0.04</td>\n",
       "      <td>NaN</td>\n",
       "      <td>NaN</td>\n",
       "    </tr>\n",
       "    <tr>\n",
       "      <td>2017-09-01</td>\n",
       "      <td>0.02</td>\n",
       "      <td>0.02</td>\n",
       "      <td>0.02</td>\n",
       "      <td>0.03</td>\n",
       "      <td>0.04</td>\n",
       "      <td>0.04</td>\n",
       "      <td>0.04</td>\n",
       "      <td>0.04</td>\n",
       "      <td>0.04</td>\n",
       "      <td>NaN</td>\n",
       "      <td>NaN</td>\n",
       "      <td>NaN</td>\n",
       "    </tr>\n",
       "    <tr>\n",
       "      <td>2017-10-01</td>\n",
       "      <td>0.01</td>\n",
       "      <td>0.01</td>\n",
       "      <td>0.01</td>\n",
       "      <td>0.01</td>\n",
       "      <td>0.01</td>\n",
       "      <td>0.01</td>\n",
       "      <td>0.01</td>\n",
       "      <td>0.01</td>\n",
       "      <td>NaN</td>\n",
       "      <td>NaN</td>\n",
       "      <td>NaN</td>\n",
       "      <td>NaN</td>\n",
       "    </tr>\n",
       "    <tr>\n",
       "      <td>2017-11-01</td>\n",
       "      <td>0.01</td>\n",
       "      <td>0.01</td>\n",
       "      <td>0.01</td>\n",
       "      <td>0.01</td>\n",
       "      <td>0.01</td>\n",
       "      <td>0.01</td>\n",
       "      <td>0.01</td>\n",
       "      <td>NaN</td>\n",
       "      <td>NaN</td>\n",
       "      <td>NaN</td>\n",
       "      <td>NaN</td>\n",
       "      <td>NaN</td>\n",
       "    </tr>\n",
       "    <tr>\n",
       "      <td>2017-12-01</td>\n",
       "      <td>0.01</td>\n",
       "      <td>0.01</td>\n",
       "      <td>0.01</td>\n",
       "      <td>0.01</td>\n",
       "      <td>0.01</td>\n",
       "      <td>0.01</td>\n",
       "      <td>NaN</td>\n",
       "      <td>NaN</td>\n",
       "      <td>NaN</td>\n",
       "      <td>NaN</td>\n",
       "      <td>NaN</td>\n",
       "      <td>NaN</td>\n",
       "    </tr>\n",
       "    <tr>\n",
       "      <td>2018-01-01</td>\n",
       "      <td>0.01</td>\n",
       "      <td>0.01</td>\n",
       "      <td>0.01</td>\n",
       "      <td>0.01</td>\n",
       "      <td>0.01</td>\n",
       "      <td>NaN</td>\n",
       "      <td>NaN</td>\n",
       "      <td>NaN</td>\n",
       "      <td>NaN</td>\n",
       "      <td>NaN</td>\n",
       "      <td>NaN</td>\n",
       "      <td>NaN</td>\n",
       "    </tr>\n",
       "    <tr>\n",
       "      <td>2018-02-01</td>\n",
       "      <td>0.01</td>\n",
       "      <td>0.01</td>\n",
       "      <td>0.01</td>\n",
       "      <td>0.01</td>\n",
       "      <td>NaN</td>\n",
       "      <td>NaN</td>\n",
       "      <td>NaN</td>\n",
       "      <td>NaN</td>\n",
       "      <td>NaN</td>\n",
       "      <td>NaN</td>\n",
       "      <td>NaN</td>\n",
       "      <td>NaN</td>\n",
       "    </tr>\n",
       "    <tr>\n",
       "      <td>2018-03-01</td>\n",
       "      <td>0.01</td>\n",
       "      <td>0.01</td>\n",
       "      <td>0.01</td>\n",
       "      <td>NaN</td>\n",
       "      <td>NaN</td>\n",
       "      <td>NaN</td>\n",
       "      <td>NaN</td>\n",
       "      <td>NaN</td>\n",
       "      <td>NaN</td>\n",
       "      <td>NaN</td>\n",
       "      <td>NaN</td>\n",
       "      <td>NaN</td>\n",
       "    </tr>\n",
       "    <tr>\n",
       "      <td>2018-04-01</td>\n",
       "      <td>0.01</td>\n",
       "      <td>0.02</td>\n",
       "      <td>NaN</td>\n",
       "      <td>NaN</td>\n",
       "      <td>NaN</td>\n",
       "      <td>NaN</td>\n",
       "      <td>NaN</td>\n",
       "      <td>NaN</td>\n",
       "      <td>NaN</td>\n",
       "      <td>NaN</td>\n",
       "      <td>NaN</td>\n",
       "      <td>NaN</td>\n",
       "    </tr>\n",
       "    <tr>\n",
       "      <td>2018-05-01</td>\n",
       "      <td>0.01</td>\n",
       "      <td>NaN</td>\n",
       "      <td>NaN</td>\n",
       "      <td>NaN</td>\n",
       "      <td>NaN</td>\n",
       "      <td>NaN</td>\n",
       "      <td>NaN</td>\n",
       "      <td>NaN</td>\n",
       "      <td>NaN</td>\n",
       "      <td>NaN</td>\n",
       "      <td>NaN</td>\n",
       "      <td>NaN</td>\n",
       "    </tr>\n",
       "  </tbody>\n",
       "</table>\n",
       "</div>"
      ],
      "text/plain": [
       "age                  0     1     2     3     4     5     6     7     8     9   \\\n",
       "first_order_month                                                               \n",
       "2017-06-01         0.02  0.02  0.02  0.03  0.03  0.04  0.04  0.04  0.05  0.05   \n",
       "2017-07-01         0.03  0.03  0.03  0.03  0.03  0.03  0.03  0.03  0.03  0.03   \n",
       "2017-08-01         0.03  0.03  0.03  0.03  0.04  0.04  0.04  0.04  0.04  0.04   \n",
       "2017-09-01         0.02  0.02  0.02  0.03  0.04  0.04  0.04  0.04  0.04   NaN   \n",
       "2017-10-01         0.01  0.01  0.01  0.01  0.01  0.01  0.01  0.01   NaN   NaN   \n",
       "2017-11-01         0.01  0.01  0.01  0.01  0.01  0.01  0.01   NaN   NaN   NaN   \n",
       "2017-12-01         0.01  0.01  0.01  0.01  0.01  0.01   NaN   NaN   NaN   NaN   \n",
       "2018-01-01         0.01  0.01  0.01  0.01  0.01   NaN   NaN   NaN   NaN   NaN   \n",
       "2018-02-01         0.01  0.01  0.01  0.01   NaN   NaN   NaN   NaN   NaN   NaN   \n",
       "2018-03-01         0.01  0.01  0.01   NaN   NaN   NaN   NaN   NaN   NaN   NaN   \n",
       "2018-04-01         0.01  0.02   NaN   NaN   NaN   NaN   NaN   NaN   NaN   NaN   \n",
       "2018-05-01         0.01   NaN   NaN   NaN   NaN   NaN   NaN   NaN   NaN   NaN   \n",
       "\n",
       "age                  10    11  \n",
       "first_order_month              \n",
       "2017-06-01         0.05  0.05  \n",
       "2017-07-01         0.04   NaN  \n",
       "2017-08-01          NaN   NaN  \n",
       "2017-09-01          NaN   NaN  \n",
       "2017-10-01          NaN   NaN  \n",
       "2017-11-01          NaN   NaN  \n",
       "2017-12-01          NaN   NaN  \n",
       "2018-01-01          NaN   NaN  \n",
       "2018-02-01          NaN   NaN  \n",
       "2018-03-01          NaN   NaN  \n",
       "2018-04-01          NaN   NaN  \n",
       "2018-05-01          NaN   NaN  "
      ]
     },
     "execution_count": 96,
     "metadata": {},
     "output_type": "execute_result"
    }
   ],
   "source": [
    "report_new['romi'] = report_new['ltv'] / report_new['cac']\n",
    "output = report_new.pivot_table(\n",
    "        index='first_order_month', \n",
    "        columns='age', \n",
    "        values='romi', \n",
    "        aggfunc='mean')\n",
    "\n",
    "output.cumsum(axis=1).round(2)"
   ]
  },
  {
   "cell_type": "markdown",
   "metadata": {},
   "source": [
    "    Видим, что не одна когорта на окупилась.\n",
    "    максимальное ROMI = 0.05 у первой когорты 2017-06-01 на 9 месяце жизни.\n",
    "    Далее идет значение ROMI = 0.04 (у трех когорт 2017-07-01, 2017-08-01, 2017-09-01)\n",
    "    У когорты 2018-04-01 на втором месяце жизни ROMI=0.02\n",
    "    У всех остальных когорт ROMI = 0.01. \n"
   ]
  },
  {
   "cell_type": "markdown",
   "metadata": {},
   "source": [
    "### 3.3. Маркетинг<a class=\"anchor\" id=\"3-3-bullet\"></a>"
   ]
  },
  {
   "cell_type": "markdown",
   "metadata": {},
   "source": [
    "### Затраты на рекламные источники\n",
    "### Всего / на каждый источник / по времени <a class=\"anchor\" id=\"3-3-1-bullet\"></a>"
   ]
  },
  {
   "cell_type": "markdown",
   "metadata": {},
   "source": [
    "    Cоздадим таблицу с затратами и выручкой, чтобы посмотреть общую выручку и общие затраты"
   ]
  },
  {
   "cell_type": "code",
   "execution_count": 97,
   "metadata": {},
   "outputs": [],
   "source": [
    "costs_copy = costs.copy()\n",
    "costs_copy['date'] = costs_copy['date'].values.astype('datetime64[M]') \n",
    "costs_grouped = costs_copy.groupby('date').agg({'costs': 'sum'})"
   ]
  },
  {
   "cell_type": "code",
   "execution_count": 98,
   "metadata": {},
   "outputs": [],
   "source": [
    "orders_grouped = orders.groupby('date').agg({'revenue': 'sum'})"
   ]
  },
  {
   "cell_type": "code",
   "execution_count": 99,
   "metadata": {},
   "outputs": [],
   "source": [
    "data = {'summary': [round(orders_grouped.sum().values[0], 2),round(costs_grouped.sum().values[0], 2)]}\n",
    "rev_costs = pd.DataFrame(data=data, index=['revenue', 'costs'])"
   ]
  },
  {
   "cell_type": "code",
   "execution_count": 100,
   "metadata": {},
   "outputs": [
    {
     "data": {
      "text/html": [
       "<div>\n",
       "<style scoped>\n",
       "    .dataframe tbody tr th:only-of-type {\n",
       "        vertical-align: middle;\n",
       "    }\n",
       "\n",
       "    .dataframe tbody tr th {\n",
       "        vertical-align: top;\n",
       "    }\n",
       "\n",
       "    .dataframe thead th {\n",
       "        text-align: right;\n",
       "    }\n",
       "</style>\n",
       "<table border=\"1\" class=\"dataframe\">\n",
       "  <thead>\n",
       "    <tr style=\"text-align: right;\">\n",
       "      <th></th>\n",
       "      <th>summary</th>\n",
       "    </tr>\n",
       "  </thead>\n",
       "  <tbody>\n",
       "    <tr>\n",
       "      <td>revenue</td>\n",
       "      <td>252057.20</td>\n",
       "    </tr>\n",
       "    <tr>\n",
       "      <td>costs</td>\n",
       "      <td>329131.62</td>\n",
       "    </tr>\n",
       "  </tbody>\n",
       "</table>\n",
       "</div>"
      ],
      "text/plain": [
       "           summary\n",
       "revenue  252057.20\n",
       "costs    329131.62"
      ]
     },
     "execution_count": 100,
     "metadata": {},
     "output_type": "execute_result"
    }
   ],
   "source": [
    "rev_costs.head()"
   ]
  },
  {
   "cell_type": "code",
   "execution_count": 101,
   "metadata": {},
   "outputs": [
    {
     "data": {
      "text/plain": [
       "<matplotlib.legend.Legend at 0x7f808ae9af90>"
      ]
     },
     "execution_count": 101,
     "metadata": {},
     "output_type": "execute_result"
    },
    {
     "data": {
      "image/png": "[encoded data removed]",
      "text/plain": [
       "<Figure size 432x288 with 1 Axes>"
      ]
     },
     "metadata": {},
     "output_type": "display_data"
    }
   ],
   "source": [
    "rev_costs.plot(kind='pie', y='summary', grid=True, figsize=(6, 4))\n",
    "plt.tight_layout(pad=1)\n",
    "plt.legend(['Выручка', 'Затраты'], bbox_to_anchor=(0.89,0.87), prop={'size':10})"
   ]
  },
  {
   "cell_type": "markdown",
   "metadata": {},
   "source": [
    "    Видим, что общая сумма затрат на рекламные источники превышает общую выручку."
   ]
  },
  {
   "cell_type": "markdown",
   "metadata": {},
   "source": [
    "\n",
    "**Сумма затрат по каждому виду рекламных источников**"
   ]
  },
  {
   "cell_type": "code",
   "execution_count": 102,
   "metadata": {},
   "outputs": [
    {
     "data": {
      "text/html": [
       "<div>\n",
       "<style scoped>\n",
       "    .dataframe tbody tr th:only-of-type {\n",
       "        vertical-align: middle;\n",
       "    }\n",
       "\n",
       "    .dataframe tbody tr th {\n",
       "        vertical-align: top;\n",
       "    }\n",
       "\n",
       "    .dataframe thead th {\n",
       "        text-align: right;\n",
       "    }\n",
       "</style>\n",
       "<table border=\"1\" class=\"dataframe\">\n",
       "  <thead>\n",
       "    <tr style=\"text-align: right;\">\n",
       "      <th></th>\n",
       "      <th>costs</th>\n",
       "    </tr>\n",
       "    <tr>\n",
       "      <th>source_id</th>\n",
       "      <th></th>\n",
       "    </tr>\n",
       "  </thead>\n",
       "  <tbody>\n",
       "    <tr>\n",
       "      <td>3</td>\n",
       "      <td>141321.63</td>\n",
       "    </tr>\n",
       "    <tr>\n",
       "      <td>4</td>\n",
       "      <td>61073.60</td>\n",
       "    </tr>\n",
       "    <tr>\n",
       "      <td>5</td>\n",
       "      <td>51757.10</td>\n",
       "    </tr>\n",
       "    <tr>\n",
       "      <td>2</td>\n",
       "      <td>42806.04</td>\n",
       "    </tr>\n",
       "    <tr>\n",
       "      <td>1</td>\n",
       "      <td>20833.27</td>\n",
       "    </tr>\n",
       "    <tr>\n",
       "      <td>10</td>\n",
       "      <td>5822.49</td>\n",
       "    </tr>\n",
       "    <tr>\n",
       "      <td>9</td>\n",
       "      <td>5517.49</td>\n",
       "    </tr>\n",
       "  </tbody>\n",
       "</table>\n",
       "</div>"
      ],
      "text/plain": [
       "               costs\n",
       "source_id           \n",
       "3          141321.63\n",
       "4           61073.60\n",
       "5           51757.10\n",
       "2           42806.04\n",
       "1           20833.27\n",
       "10           5822.49\n",
       "9            5517.49"
      ]
     },
     "execution_count": 102,
     "metadata": {},
     "output_type": "execute_result"
    }
   ],
   "source": [
    "source_id_cost = costs.groupby('source_id').agg({'costs': 'sum'}).round(2).sort_values(by='costs', ascending=False)\n",
    "source_id_cost.head(9)"
   ]
  },
  {
   "cell_type": "code",
   "execution_count": 134,
   "metadata": {},
   "outputs": [
    {
     "data": {
      "text/plain": [
       "Text(0.5, 1.0, 'Затраты по виду рекламных источников')"
      ]
     },
     "execution_count": 134,
     "metadata": {},
     "output_type": "execute_result"
    },
    {
     "data": {
      "image/png": "[encoded data removed]",
      "text/plain": [
       "<Figure size 432x288 with 1 Axes>"
      ]
     },
     "metadata": {},
     "output_type": "display_data"
    }
   ],
   "source": [
    "source_id_cost = costs.groupby('source_id').agg({'costs': 'sum'}).round(2).sort_values(by='costs', ascending=False).plot(kind='bar', grid=True, figsize=(6, 4))\n",
    "plt.title('Затраты по виду рекламных источников')"
   ]
  },
  {
   "cell_type": "markdown",
   "metadata": {},
   "source": [
    "    * Больше всего потратили на 3ий источник. \n",
    "    * Далее по суммам затрат идут 4 и 5 источник.\n",
    "    * топ-2 самых дешевых источников привлечения: 10, 9\n"
   ]
  },
  {
   "cell_type": "markdown",
   "metadata": {},
   "source": [
    "    \n",
    "**Сумма затрат на рекламные источники по времени (с разбивкой по году и месяцу)**"
   ]
  },
  {
   "cell_type": "code",
   "execution_count": 104,
   "metadata": {},
   "outputs": [],
   "source": [
    "costs['month'] = costs['date'].dt.month\n",
    "costs['year']  = costs['date'].dt.year"
   ]
  },
  {
   "cell_type": "code",
   "execution_count": 105,
   "metadata": {},
   "outputs": [
    {
     "data": {
      "text/html": [
       "<div>\n",
       "<style scoped>\n",
       "    .dataframe tbody tr th:only-of-type {\n",
       "        vertical-align: middle;\n",
       "    }\n",
       "\n",
       "    .dataframe tbody tr th {\n",
       "        vertical-align: top;\n",
       "    }\n",
       "\n",
       "    .dataframe thead th {\n",
       "        text-align: right;\n",
       "    }\n",
       "</style>\n",
       "<table border=\"1\" class=\"dataframe\">\n",
       "  <thead>\n",
       "    <tr style=\"text-align: right;\">\n",
       "      <th></th>\n",
       "      <th>costs</th>\n",
       "    </tr>\n",
       "    <tr>\n",
       "      <th>year</th>\n",
       "      <th></th>\n",
       "    </tr>\n",
       "  </thead>\n",
       "  <tbody>\n",
       "    <tr>\n",
       "      <td>2017</td>\n",
       "      <td>187961.15</td>\n",
       "    </tr>\n",
       "    <tr>\n",
       "      <td>2018</td>\n",
       "      <td>141170.47</td>\n",
       "    </tr>\n",
       "  </tbody>\n",
       "</table>\n",
       "</div>"
      ],
      "text/plain": [
       "          costs\n",
       "year           \n",
       "2017  187961.15\n",
       "2018  141170.47"
      ]
     },
     "execution_count": 105,
     "metadata": {},
     "output_type": "execute_result"
    }
   ],
   "source": [
    "year_cost = costs.groupby('year').agg({'costs': 'sum'}).round(2).sort_values(by='costs', ascending=False)\n",
    "year_cost.head(3)"
   ]
  },
  {
   "cell_type": "code",
   "execution_count": 135,
   "metadata": {},
   "outputs": [
    {
     "data": {
      "text/plain": [
       "Text(0.5, 1.0, 'Затраты на рекламу с разбивкой по годам')"
      ]
     },
     "execution_count": 135,
     "metadata": {},
     "output_type": "execute_result"
    },
    {
     "data": {
      "image/png": "[encoded data removed]",
      "text/plain": [
       "<Figure size 432x288 with 1 Axes>"
      ]
     },
     "metadata": {},
     "output_type": "display_data"
    }
   ],
   "source": [
    "year_cost = costs.groupby('year').agg({'costs': 'sum'}).sort_values(by='costs', ascending=False).plot(kind='bar', grid=True, figsize=(6, 4))\n",
    "plt.title('Затраты на рекламу с разбивкой по годам')\n"
   ]
  },
  {
   "cell_type": "markdown",
   "metadata": {},
   "source": [
    "    За отчетный период в 2017 - 7 месяцев, за отчетный период в 2018 году - 5 месяцев.\n",
    "    Логично, что в 2017 затрат на рекламные источники - больше. \n",
    "    Посмотрим на затраты в среднем по году:"
   ]
  },
  {
   "cell_type": "code",
   "execution_count": 136,
   "metadata": {},
   "outputs": [
    {
     "data": {
      "text/plain": [
       "Text(0.5, 1.0, 'Затраты на рекламу в среднем за месяц с разбивкой по годам')"
      ]
     },
     "execution_count": 136,
     "metadata": {},
     "output_type": "execute_result"
    },
    {
     "data": {
      "image/png": "[encoded data removed]",
      "text/plain": [
       "<Figure size 432x288 with 1 Axes>"
      ]
     },
     "metadata": {},
     "output_type": "display_data"
    }
   ],
   "source": [
    "year_cost_mean = costs.groupby('year').agg({'costs': 'mean'}).sort_values(by='costs', ascending=False).plot(kind='bar', grid=True, figsize=(6, 4))\n",
    "plt.title('Затраты на рекламу в среднем за месяц с разбивкой по годам')"
   ]
  },
  {
   "cell_type": "markdown",
   "metadata": {},
   "source": [
    "    Разница по затратам на рекламу в 2017 и 2018 сократилась.    \n",
    "    Посмотрим на затраты по месяцам в каждом году:"
   ]
  },
  {
   "cell_type": "code",
   "execution_count": 108,
   "metadata": {},
   "outputs": [
    {
     "data": {
      "text/html": [
       "<div>\n",
       "<style scoped>\n",
       "    .dataframe tbody tr th:only-of-type {\n",
       "        vertical-align: middle;\n",
       "    }\n",
       "\n",
       "    .dataframe tbody tr th {\n",
       "        vertical-align: top;\n",
       "    }\n",
       "\n",
       "    .dataframe thead th {\n",
       "        text-align: right;\n",
       "    }\n",
       "</style>\n",
       "<table border=\"1\" class=\"dataframe\">\n",
       "  <thead>\n",
       "    <tr style=\"text-align: right;\">\n",
       "      <th></th>\n",
       "      <th></th>\n",
       "      <th>costs</th>\n",
       "    </tr>\n",
       "    <tr>\n",
       "      <th>year</th>\n",
       "      <th>month</th>\n",
       "      <th></th>\n",
       "    </tr>\n",
       "  </thead>\n",
       "  <tbody>\n",
       "    <tr>\n",
       "      <td rowspan=\"7\" valign=\"top\">2017</td>\n",
       "      <td>6</td>\n",
       "      <td>18015.00</td>\n",
       "    </tr>\n",
       "    <tr>\n",
       "      <td>7</td>\n",
       "      <td>18240.59</td>\n",
       "    </tr>\n",
       "    <tr>\n",
       "      <td>8</td>\n",
       "      <td>14790.54</td>\n",
       "    </tr>\n",
       "    <tr>\n",
       "      <td>9</td>\n",
       "      <td>24368.91</td>\n",
       "    </tr>\n",
       "    <tr>\n",
       "      <td>10</td>\n",
       "      <td>36322.88</td>\n",
       "    </tr>\n",
       "    <tr>\n",
       "      <td>11</td>\n",
       "      <td>37907.88</td>\n",
       "    </tr>\n",
       "    <tr>\n",
       "      <td>12</td>\n",
       "      <td>38315.35</td>\n",
       "    </tr>\n",
       "    <tr>\n",
       "      <td rowspan=\"5\" valign=\"top\">2018</td>\n",
       "      <td>1</td>\n",
       "      <td>33518.52</td>\n",
       "    </tr>\n",
       "    <tr>\n",
       "      <td>2</td>\n",
       "      <td>32723.03</td>\n",
       "    </tr>\n",
       "    <tr>\n",
       "      <td>3</td>\n",
       "      <td>30415.27</td>\n",
       "    </tr>\n",
       "    <tr>\n",
       "      <td>4</td>\n",
       "      <td>22289.38</td>\n",
       "    </tr>\n",
       "    <tr>\n",
       "      <td>5</td>\n",
       "      <td>22224.27</td>\n",
       "    </tr>\n",
       "  </tbody>\n",
       "</table>\n",
       "</div>"
      ],
      "text/plain": [
       "               costs\n",
       "year month          \n",
       "2017 6      18015.00\n",
       "     7      18240.59\n",
       "     8      14790.54\n",
       "     9      24368.91\n",
       "     10     36322.88\n",
       "     11     37907.88\n",
       "     12     38315.35\n",
       "2018 1      33518.52\n",
       "     2      32723.03\n",
       "     3      30415.27\n",
       "     4      22289.38\n",
       "     5      22224.27"
      ]
     },
     "execution_count": 108,
     "metadata": {},
     "output_type": "execute_result"
    }
   ],
   "source": [
    "month_cost = costs.groupby(['year', 'month']).agg({'costs': 'sum'}).round(2)\n",
    "month_cost.head(20)"
   ]
  },
  {
   "cell_type": "code",
   "execution_count": 140,
   "metadata": {},
   "outputs": [
    {
     "data": {
      "text/plain": [
       "Text(0.5, 1.0, 'Затраты на рекламу по месяцам')"
      ]
     },
     "execution_count": 140,
     "metadata": {},
     "output_type": "execute_result"
    },
    {
     "data": {
      "image/png": "[encoded data removed]",
      "text/plain": [
       "<Figure size 720x288 with 1 Axes>"
      ]
     },
     "metadata": {},
     "output_type": "display_data"
    }
   ],
   "source": [
    "month_cost = costs.groupby(['year', 'month']).agg({'costs': 'sum'}).plot(kind='bar', grid=True, figsize=(10, 4))\n",
    "plt.title('Затраты на рекламу по месяцам')"
   ]
  },
  {
   "cell_type": "markdown",
   "metadata": {},
   "source": [
    "   \n",
    "    * Топ-3 месяцев по затратам на рекламный источник: ноябрь, декабрь, октябрь 2017 г \n",
    "    * Топ-3 месяцев по наименьшим затратам на рекламный источник: август, июль, июнь 2017 г\n",
    "    * в последние 2 месяца 2018 года (апрель, май) идет снижение затрат на рекламу по сравнению с предыдущими месяцами\n",
    "    "
   ]
  },
  {
   "cell_type": "markdown",
   "metadata": {},
   "source": [
    "   \n",
    "**Затраты по рекламным источнкам в динамике**"
   ]
  },
  {
   "cell_type": "code",
   "execution_count": 141,
   "metadata": {},
   "outputs": [
    {
     "data": {
      "text/plain": [
       "Text(0.5, 1.0, 'Затраты на рекламу с разбивкой по видам источников и месяцам')"
      ]
     },
     "execution_count": 141,
     "metadata": {},
     "output_type": "execute_result"
    },
    {
     "data": {
      "image/png": "[encoded data removed]",
      "text/plain": [
       "<Figure size 720x432 with 1 Axes>"
      ]
     },
     "metadata": {},
     "output_type": "display_data"
    }
   ],
   "source": [
    "costs.pivot_table(index=['year', 'month'], columns='source_id', values='costs', aggfunc='sum').plot(style='o-', grid=True, figsize=(10, 6))\n",
    "plt.title('Затраты на рекламу с разбивкой по видам источников и месяцам')"
   ]
  },
  {
   "cell_type": "markdown",
   "metadata": {},
   "source": [
    "    Первая группа:\n",
    "    По 10му и 9му (на графике линии совпали) источнику ровная динамика без подъемов и падений, так же мы видим,\n",
    "    что по этому источнику самый низкий уровень затрат.\n",
    "    \n",
    "    1 источник очень схож с 10 и 9 источниками, но по нему уровень затрат чуть выше. Так же небольшие изменения\n",
    "    в динамике. Есть небольшое падение 08-2017, далее начинается незначительный рост до 03-2018, затем опять падение.\n",
    "    \n",
    "    Вторая группа:\n",
    "    2,5,4 источник. По своей динамике источники очень близки друг к другу, у них совпадают рост и падение.\n",
    "    Исключение составляет 11-2017, когда по 4ому источнику произошло падение и 12-2017, когда произошел рост. \n",
    "\n",
    "    Третья группа:\n",
    "    3ий источник - самый дорогостоящий. По своей динамике отличен от остальных. После 08-2017 происходит резкое\n",
    "    увеличение затрат. Максимальная сумма затрат в сентябре 2018. Значительный спад начинается после марта 2018\n",
    "    \n",
    "    Общие тенденции:\n",
    "    У всех рекламных источников произошло сокращение затрат  - 08-2017,12-2017, 04-2018\n",
    "    У всех рекламных источников произошло увеличение затрат - 09-2017, 10-2017"
   ]
  },
  {
   "cell_type": "markdown",
   "metadata": {},
   "source": [
    "### Сколько стоило привлечение одного покупателя из каждого источника?<a class=\"anchor\" id=\"3-3-2-bullet\"></a>"
   ]
  },
  {
   "cell_type": "code",
   "execution_count": 111,
   "metadata": {},
   "outputs": [],
   "source": [
    "marketing['month'] = marketing['date'].dt.month\n",
    "marketing['year']  = marketing['date'].dt.year"
   ]
  },
  {
   "cell_type": "code",
   "execution_count": 112,
   "metadata": {},
   "outputs": [
    {
     "data": {
      "text/html": [
       "<div>\n",
       "<style scoped>\n",
       "    .dataframe tbody tr th:only-of-type {\n",
       "        vertical-align: middle;\n",
       "    }\n",
       "\n",
       "    .dataframe tbody tr th {\n",
       "        vertical-align: top;\n",
       "    }\n",
       "\n",
       "    .dataframe thead th {\n",
       "        text-align: right;\n",
       "    }\n",
       "</style>\n",
       "<table border=\"1\" class=\"dataframe\">\n",
       "  <thead>\n",
       "    <tr style=\"text-align: right;\">\n",
       "      <th></th>\n",
       "      <th>uid</th>\n",
       "      <th>costs</th>\n",
       "    </tr>\n",
       "    <tr>\n",
       "      <th>source_id</th>\n",
       "      <th></th>\n",
       "      <th></th>\n",
       "    </tr>\n",
       "  </thead>\n",
       "  <tbody>\n",
       "    <tr>\n",
       "      <td>3</td>\n",
       "      <td>36522</td>\n",
       "      <td>469.05</td>\n",
       "    </tr>\n",
       "    <tr>\n",
       "      <td>4</td>\n",
       "      <td>36522</td>\n",
       "      <td>188.89</td>\n",
       "    </tr>\n",
       "    <tr>\n",
       "      <td>5</td>\n",
       "      <td>36522</td>\n",
       "      <td>172.69</td>\n",
       "    </tr>\n",
       "    <tr>\n",
       "      <td>2</td>\n",
       "      <td>36522</td>\n",
       "      <td>141.71</td>\n",
       "    </tr>\n",
       "    <tr>\n",
       "      <td>1</td>\n",
       "      <td>36522</td>\n",
       "      <td>69.08</td>\n",
       "    </tr>\n",
       "    <tr>\n",
       "      <td>10</td>\n",
       "      <td>36522</td>\n",
       "      <td>18.94</td>\n",
       "    </tr>\n",
       "    <tr>\n",
       "      <td>9</td>\n",
       "      <td>36522</td>\n",
       "      <td>17.86</td>\n",
       "    </tr>\n",
       "  </tbody>\n",
       "</table>\n",
       "</div>"
      ],
      "text/plain": [
       "             uid   costs\n",
       "source_id               \n",
       "3          36522  469.05\n",
       "4          36522  188.89\n",
       "5          36522  172.69\n",
       "2          36522  141.71\n",
       "1          36522   69.08\n",
       "10         36522   18.94\n",
       "9          36522   17.86"
      ]
     },
     "execution_count": 112,
     "metadata": {},
     "output_type": "execute_result"
    }
   ],
   "source": [
    "cost_uid_sourse = marketing.groupby('source_id').agg({'uid':'nunique', 'costs': 'mean'}).round(2).sort_values(by='costs', ascending=False)\n",
    "cost_uid_sourse.head(10)"
   ]
  },
  {
   "cell_type": "code",
   "execution_count": 142,
   "metadata": {},
   "outputs": [
    {
     "data": {
      "text/plain": [
       "Text(0.5, 1.0, 'Стоимость привлечения 1 покупателя в разных источниках')"
      ]
     },
     "execution_count": 142,
     "metadata": {},
     "output_type": "execute_result"
    },
    {
     "data": {
      "image/png": "[encoded data removed]",
      "text/plain": [
       "<Figure size 432x288 with 1 Axes>"
      ]
     },
     "metadata": {},
     "output_type": "display_data"
    }
   ],
   "source": [
    "cost_uid_sourse = costs.groupby('source_id').agg({'costs': 'mean'}).round(2).sort_values(by='costs', ascending=False).plot(kind='bar', grid=True, figsize=(6, 4))\n",
    "plt.title('Стоимость привлечения 1 покупателя в разных источниках')"
   ]
  },
  {
   "cell_type": "markdown",
   "metadata": {},
   "source": [
    "\n",
    "    * в среднем на покупателя больше всего затрат по 3-ему источнику.\n",
    "    * На втором и третьем месте источники:4,5. \n",
    "    * в среднем на покупателя меньше всего затрат по 10 и 9 источнику"
   ]
  },
  {
   "cell_type": "markdown",
   "metadata": {},
   "source": [
    "### На сколько окупились расходы на рекламу? (ROMI по упрощённой формуле)<a class=\"anchor\" id=\"3-3-3-bullet\"></a>"
   ]
  },
  {
   "cell_type": "code",
   "execution_count": 114,
   "metadata": {},
   "outputs": [],
   "source": [
    "# покупатели по каналам\n",
    "visits_sorted = visits.sort_values(by='session_start_t')"
   ]
  },
  {
   "cell_type": "code",
   "execution_count": 115,
   "metadata": {},
   "outputs": [],
   "source": [
    "# затраты по каналам\n",
    "costs_per_source = costs.groupby('source_id').agg({'costs': 'sum'})"
   ]
  },
  {
   "cell_type": "code",
   "execution_count": 116,
   "metadata": {},
   "outputs": [],
   "source": [
    "# выручка по каналам\n",
    "first_source_per_user = visits_sorted.groupby('uid').agg({'source_id': 'first'})\n",
    "client_per_source = orders.merge(first_source_per_user, on='uid')\n",
    "client_per_source = client_per_source.groupby('source_id').agg({'uid': 'nunique'})"
   ]
  },
  {
   "cell_type": "code",
   "execution_count": 144,
   "metadata": {},
   "outputs": [
    {
     "data": {
      "text/html": [
       "<div>\n",
       "<style scoped>\n",
       "    .dataframe tbody tr th:only-of-type {\n",
       "        vertical-align: middle;\n",
       "    }\n",
       "\n",
       "    .dataframe tbody tr th {\n",
       "        vertical-align: top;\n",
       "    }\n",
       "\n",
       "    .dataframe thead th {\n",
       "        text-align: right;\n",
       "    }\n",
       "</style>\n",
       "<table border=\"1\" class=\"dataframe\">\n",
       "  <thead>\n",
       "    <tr style=\"text-align: right;\">\n",
       "      <th></th>\n",
       "      <th>source_id</th>\n",
       "      <th>costs</th>\n",
       "      <th>revenue</th>\n",
       "      <th>uid</th>\n",
       "    </tr>\n",
       "  </thead>\n",
       "  <tbody>\n",
       "    <tr>\n",
       "      <td>0</td>\n",
       "      <td>1</td>\n",
       "      <td>20833.27</td>\n",
       "      <td>31090.55</td>\n",
       "      <td>2899</td>\n",
       "    </tr>\n",
       "    <tr>\n",
       "      <td>1</td>\n",
       "      <td>2</td>\n",
       "      <td>42806.04</td>\n",
       "      <td>46923.61</td>\n",
       "      <td>3506</td>\n",
       "    </tr>\n",
       "    <tr>\n",
       "      <td>2</td>\n",
       "      <td>3</td>\n",
       "      <td>141321.63</td>\n",
       "      <td>54511.24</td>\n",
       "      <td>10473</td>\n",
       "    </tr>\n",
       "    <tr>\n",
       "      <td>3</td>\n",
       "      <td>4</td>\n",
       "      <td>61073.60</td>\n",
       "      <td>56696.83</td>\n",
       "      <td>10296</td>\n",
       "    </tr>\n",
       "    <tr>\n",
       "      <td>4</td>\n",
       "      <td>5</td>\n",
       "      <td>51757.10</td>\n",
       "      <td>52624.02</td>\n",
       "      <td>6931</td>\n",
       "    </tr>\n",
       "  </tbody>\n",
       "</table>\n",
       "</div>"
      ],
      "text/plain": [
       "   source_id      costs   revenue    uid\n",
       "0          1   20833.27  31090.55   2899\n",
       "1          2   42806.04  46923.61   3506\n",
       "2          3  141321.63  54511.24  10473\n",
       "3          4   61073.60  56696.83  10296\n",
       "4          5   51757.10  52624.02   6931"
      ]
     },
     "execution_count": 144,
     "metadata": {},
     "output_type": "execute_result"
    }
   ],
   "source": [
    "# уникальные пользователи по каналам\n",
    "uid_per_source = visits_sorted.groupby('source_id').agg({'uid': 'nunique'})\n",
    "rev_per_source = orders.merge(first_source_per_user, on='uid')\n",
    "rev_per_source = rev_per_source.groupby('source_id').agg({'revenue': 'sum'})\n",
    "rev_uid_costs_per_source = pd.concat([costs_per_source, rev_per_source, \n",
    "                                      client_per_source],axis=1).fillna(0)\n",
    "rev_uid_costs_per_source = rev_uid_costs_per_source.reset_index()\n",
    "rev_uid_costs_per_source.head()"
   ]
  },
  {
   "cell_type": "markdown",
   "metadata": {},
   "source": [
    "### LTV по каждому рекламному источнику"
   ]
  },
  {
   "cell_type": "code",
   "execution_count": 118,
   "metadata": {},
   "outputs": [
    {
     "data": {
      "text/html": [
       "<div>\n",
       "<style scoped>\n",
       "    .dataframe tbody tr th:only-of-type {\n",
       "        vertical-align: middle;\n",
       "    }\n",
       "\n",
       "    .dataframe tbody tr th {\n",
       "        vertical-align: top;\n",
       "    }\n",
       "\n",
       "    .dataframe thead th {\n",
       "        text-align: right;\n",
       "    }\n",
       "</style>\n",
       "<table border=\"1\" class=\"dataframe\">\n",
       "  <thead>\n",
       "    <tr style=\"text-align: right;\">\n",
       "      <th></th>\n",
       "      <th>source_id</th>\n",
       "      <th>costs</th>\n",
       "      <th>revenue</th>\n",
       "      <th>uid</th>\n",
       "      <th>ltv</th>\n",
       "    </tr>\n",
       "  </thead>\n",
       "  <tbody>\n",
       "    <tr>\n",
       "      <td>0</td>\n",
       "      <td>1</td>\n",
       "      <td>20833.27</td>\n",
       "      <td>31090.55</td>\n",
       "      <td>2899</td>\n",
       "      <td>10.725</td>\n",
       "    </tr>\n",
       "    <tr>\n",
       "      <td>1</td>\n",
       "      <td>2</td>\n",
       "      <td>42806.04</td>\n",
       "      <td>46923.61</td>\n",
       "      <td>3506</td>\n",
       "      <td>13.384</td>\n",
       "    </tr>\n",
       "    <tr>\n",
       "      <td>2</td>\n",
       "      <td>3</td>\n",
       "      <td>141321.63</td>\n",
       "      <td>54511.24</td>\n",
       "      <td>10473</td>\n",
       "      <td>5.205</td>\n",
       "    </tr>\n",
       "    <tr>\n",
       "      <td>3</td>\n",
       "      <td>4</td>\n",
       "      <td>61073.60</td>\n",
       "      <td>56696.83</td>\n",
       "      <td>10296</td>\n",
       "      <td>5.507</td>\n",
       "    </tr>\n",
       "    <tr>\n",
       "      <td>4</td>\n",
       "      <td>5</td>\n",
       "      <td>51757.10</td>\n",
       "      <td>52624.02</td>\n",
       "      <td>6931</td>\n",
       "      <td>7.593</td>\n",
       "    </tr>\n",
       "    <tr>\n",
       "      <td>5</td>\n",
       "      <td>7</td>\n",
       "      <td>0.00</td>\n",
       "      <td>1.22</td>\n",
       "      <td>1</td>\n",
       "      <td>1.220</td>\n",
       "    </tr>\n",
       "    <tr>\n",
       "      <td>6</td>\n",
       "      <td>9</td>\n",
       "      <td>5517.49</td>\n",
       "      <td>5759.40</td>\n",
       "      <td>1088</td>\n",
       "      <td>5.294</td>\n",
       "    </tr>\n",
       "    <tr>\n",
       "      <td>7</td>\n",
       "      <td>10</td>\n",
       "      <td>5822.49</td>\n",
       "      <td>4450.33</td>\n",
       "      <td>1329</td>\n",
       "      <td>3.349</td>\n",
       "    </tr>\n",
       "  </tbody>\n",
       "</table>\n",
       "</div>"
      ],
      "text/plain": [
       "   source_id      costs   revenue    uid     ltv\n",
       "0          1   20833.27  31090.55   2899  10.725\n",
       "1          2   42806.04  46923.61   3506  13.384\n",
       "2          3  141321.63  54511.24  10473   5.205\n",
       "3          4   61073.60  56696.83  10296   5.507\n",
       "4          5   51757.10  52624.02   6931   7.593\n",
       "5          7       0.00      1.22      1   1.220\n",
       "6          9    5517.49   5759.40   1088   5.294\n",
       "7         10    5822.49   4450.33   1329   3.349"
      ]
     },
     "execution_count": 118,
     "metadata": {},
     "output_type": "execute_result"
    }
   ],
   "source": [
    "rev_uid_costs_per_source['ltv'] = (rev_uid_costs_per_source['revenue'] / rev_uid_costs_per_source['uid']).round(3)\n",
    "rev_uid_costs_per_source.head(15)"
   ]
  },
  {
   "cell_type": "code",
   "execution_count": 119,
   "metadata": {},
   "outputs": [
    {
     "data": {
      "text/plain": [
       "<matplotlib.axes._subplots.AxesSubplot at 0x7f80846f6850>"
      ]
     },
     "execution_count": 119,
     "metadata": {},
     "output_type": "execute_result"
    },
    {
     "data": {
      "image/png": "[encoded data removed]",
      "text/plain": [
       "<Figure size 288x288 with 1 Axes>"
      ]
     },
     "metadata": {},
     "output_type": "display_data"
    }
   ],
   "source": [
    "rev_uid_costs_per_source.sort_values(by='ltv', ascending=False).plot(x='source_id', y='ltv', kind='bar', grid=True, figsize=(4, 4))"
   ]
  },
  {
   "cell_type": "markdown",
   "metadata": {},
   "source": [
    "### CAC по каждому рекламному источнику"
   ]
  },
  {
   "cell_type": "code",
   "execution_count": 120,
   "metadata": {},
   "outputs": [
    {
     "data": {
      "text/html": [
       "<div>\n",
       "<style scoped>\n",
       "    .dataframe tbody tr th:only-of-type {\n",
       "        vertical-align: middle;\n",
       "    }\n",
       "\n",
       "    .dataframe tbody tr th {\n",
       "        vertical-align: top;\n",
       "    }\n",
       "\n",
       "    .dataframe thead th {\n",
       "        text-align: right;\n",
       "    }\n",
       "</style>\n",
       "<table border=\"1\" class=\"dataframe\">\n",
       "  <thead>\n",
       "    <tr style=\"text-align: right;\">\n",
       "      <th></th>\n",
       "      <th>source_id</th>\n",
       "      <th>costs</th>\n",
       "      <th>revenue</th>\n",
       "      <th>uid</th>\n",
       "      <th>ltv</th>\n",
       "      <th>cac</th>\n",
       "    </tr>\n",
       "  </thead>\n",
       "  <tbody>\n",
       "    <tr>\n",
       "      <td>0</td>\n",
       "      <td>1</td>\n",
       "      <td>20833.27</td>\n",
       "      <td>31090.55</td>\n",
       "      <td>2899</td>\n",
       "      <td>10.725</td>\n",
       "      <td>7.2</td>\n",
       "    </tr>\n",
       "    <tr>\n",
       "      <td>1</td>\n",
       "      <td>2</td>\n",
       "      <td>42806.04</td>\n",
       "      <td>46923.61</td>\n",
       "      <td>3506</td>\n",
       "      <td>13.384</td>\n",
       "      <td>12.2</td>\n",
       "    </tr>\n",
       "    <tr>\n",
       "      <td>2</td>\n",
       "      <td>3</td>\n",
       "      <td>141321.63</td>\n",
       "      <td>54511.24</td>\n",
       "      <td>10473</td>\n",
       "      <td>5.205</td>\n",
       "      <td>13.5</td>\n",
       "    </tr>\n",
       "    <tr>\n",
       "      <td>3</td>\n",
       "      <td>4</td>\n",
       "      <td>61073.60</td>\n",
       "      <td>56696.83</td>\n",
       "      <td>10296</td>\n",
       "      <td>5.507</td>\n",
       "      <td>5.9</td>\n",
       "    </tr>\n",
       "    <tr>\n",
       "      <td>4</td>\n",
       "      <td>5</td>\n",
       "      <td>51757.10</td>\n",
       "      <td>52624.02</td>\n",
       "      <td>6931</td>\n",
       "      <td>7.593</td>\n",
       "      <td>7.5</td>\n",
       "    </tr>\n",
       "    <tr>\n",
       "      <td>5</td>\n",
       "      <td>7</td>\n",
       "      <td>0.00</td>\n",
       "      <td>1.22</td>\n",
       "      <td>1</td>\n",
       "      <td>1.220</td>\n",
       "      <td>0.0</td>\n",
       "    </tr>\n",
       "    <tr>\n",
       "      <td>6</td>\n",
       "      <td>9</td>\n",
       "      <td>5517.49</td>\n",
       "      <td>5759.40</td>\n",
       "      <td>1088</td>\n",
       "      <td>5.294</td>\n",
       "      <td>5.1</td>\n",
       "    </tr>\n",
       "    <tr>\n",
       "      <td>7</td>\n",
       "      <td>10</td>\n",
       "      <td>5822.49</td>\n",
       "      <td>4450.33</td>\n",
       "      <td>1329</td>\n",
       "      <td>3.349</td>\n",
       "      <td>4.4</td>\n",
       "    </tr>\n",
       "  </tbody>\n",
       "</table>\n",
       "</div>"
      ],
      "text/plain": [
       "   source_id      costs   revenue    uid     ltv   cac\n",
       "0          1   20833.27  31090.55   2899  10.725   7.2\n",
       "1          2   42806.04  46923.61   3506  13.384  12.2\n",
       "2          3  141321.63  54511.24  10473   5.205  13.5\n",
       "3          4   61073.60  56696.83  10296   5.507   5.9\n",
       "4          5   51757.10  52624.02   6931   7.593   7.5\n",
       "5          7       0.00      1.22      1   1.220   0.0\n",
       "6          9    5517.49   5759.40   1088   5.294   5.1\n",
       "7         10    5822.49   4450.33   1329   3.349   4.4"
      ]
     },
     "execution_count": 120,
     "metadata": {},
     "output_type": "execute_result"
    }
   ],
   "source": [
    "rev_uid_costs_per_source['cac'] = (rev_uid_costs_per_source['costs'] / rev_uid_costs_per_source['uid']).round(1)\n",
    "rev_uid_costs_per_source.head(15)"
   ]
  },
  {
   "cell_type": "code",
   "execution_count": 121,
   "metadata": {},
   "outputs": [
    {
     "data": {
      "text/plain": [
       "<matplotlib.axes._subplots.AxesSubplot at 0x7f808472e790>"
      ]
     },
     "execution_count": 121,
     "metadata": {},
     "output_type": "execute_result"
    },
    {
     "data": {
      "image/png": "[encoded data removed]",
      "text/plain": [
       "<Figure size 288x288 with 1 Axes>"
      ]
     },
     "metadata": {},
     "output_type": "display_data"
    }
   ],
   "source": [
    "rev_uid_costs_per_source.sort_values(by='cac', ascending=False).plot(x='source_id', y='cac', kind='bar', grid=True, figsize=(4, 4))"
   ]
  },
  {
   "cell_type": "markdown",
   "metadata": {},
   "source": [
    "### ROMI по каждому рекламному источнику (по упрощенной формуле)"
   ]
  },
  {
   "cell_type": "code",
   "execution_count": 122,
   "metadata": {},
   "outputs": [
    {
     "data": {
      "text/html": [
       "<div>\n",
       "<style scoped>\n",
       "    .dataframe tbody tr th:only-of-type {\n",
       "        vertical-align: middle;\n",
       "    }\n",
       "\n",
       "    .dataframe tbody tr th {\n",
       "        vertical-align: top;\n",
       "    }\n",
       "\n",
       "    .dataframe thead th {\n",
       "        text-align: right;\n",
       "    }\n",
       "</style>\n",
       "<table border=\"1\" class=\"dataframe\">\n",
       "  <thead>\n",
       "    <tr style=\"text-align: right;\">\n",
       "      <th></th>\n",
       "      <th>source_id</th>\n",
       "      <th>costs</th>\n",
       "      <th>revenue</th>\n",
       "      <th>uid</th>\n",
       "      <th>ltv</th>\n",
       "      <th>cac</th>\n",
       "      <th>romi</th>\n",
       "    </tr>\n",
       "  </thead>\n",
       "  <tbody>\n",
       "    <tr>\n",
       "      <td>0</td>\n",
       "      <td>1</td>\n",
       "      <td>20833.27</td>\n",
       "      <td>31090.55</td>\n",
       "      <td>2899</td>\n",
       "      <td>10.725</td>\n",
       "      <td>7.2</td>\n",
       "      <td>1.5</td>\n",
       "    </tr>\n",
       "    <tr>\n",
       "      <td>1</td>\n",
       "      <td>2</td>\n",
       "      <td>42806.04</td>\n",
       "      <td>46923.61</td>\n",
       "      <td>3506</td>\n",
       "      <td>13.384</td>\n",
       "      <td>12.2</td>\n",
       "      <td>1.1</td>\n",
       "    </tr>\n",
       "    <tr>\n",
       "      <td>2</td>\n",
       "      <td>3</td>\n",
       "      <td>141321.63</td>\n",
       "      <td>54511.24</td>\n",
       "      <td>10473</td>\n",
       "      <td>5.205</td>\n",
       "      <td>13.5</td>\n",
       "      <td>0.4</td>\n",
       "    </tr>\n",
       "    <tr>\n",
       "      <td>3</td>\n",
       "      <td>4</td>\n",
       "      <td>61073.60</td>\n",
       "      <td>56696.83</td>\n",
       "      <td>10296</td>\n",
       "      <td>5.507</td>\n",
       "      <td>5.9</td>\n",
       "      <td>0.9</td>\n",
       "    </tr>\n",
       "    <tr>\n",
       "      <td>4</td>\n",
       "      <td>5</td>\n",
       "      <td>51757.10</td>\n",
       "      <td>52624.02</td>\n",
       "      <td>6931</td>\n",
       "      <td>7.593</td>\n",
       "      <td>7.5</td>\n",
       "      <td>1.0</td>\n",
       "    </tr>\n",
       "    <tr>\n",
       "      <td>5</td>\n",
       "      <td>7</td>\n",
       "      <td>0.00</td>\n",
       "      <td>1.22</td>\n",
       "      <td>1</td>\n",
       "      <td>1.220</td>\n",
       "      <td>0.0</td>\n",
       "      <td>inf</td>\n",
       "    </tr>\n",
       "    <tr>\n",
       "      <td>6</td>\n",
       "      <td>9</td>\n",
       "      <td>5517.49</td>\n",
       "      <td>5759.40</td>\n",
       "      <td>1088</td>\n",
       "      <td>5.294</td>\n",
       "      <td>5.1</td>\n",
       "      <td>1.0</td>\n",
       "    </tr>\n",
       "    <tr>\n",
       "      <td>7</td>\n",
       "      <td>10</td>\n",
       "      <td>5822.49</td>\n",
       "      <td>4450.33</td>\n",
       "      <td>1329</td>\n",
       "      <td>3.349</td>\n",
       "      <td>4.4</td>\n",
       "      <td>0.8</td>\n",
       "    </tr>\n",
       "  </tbody>\n",
       "</table>\n",
       "</div>"
      ],
      "text/plain": [
       "   source_id      costs   revenue    uid     ltv   cac  romi\n",
       "0          1   20833.27  31090.55   2899  10.725   7.2   1.5\n",
       "1          2   42806.04  46923.61   3506  13.384  12.2   1.1\n",
       "2          3  141321.63  54511.24  10473   5.205  13.5   0.4\n",
       "3          4   61073.60  56696.83  10296   5.507   5.9   0.9\n",
       "4          5   51757.10  52624.02   6931   7.593   7.5   1.0\n",
       "5          7       0.00      1.22      1   1.220   0.0   inf\n",
       "6          9    5517.49   5759.40   1088   5.294   5.1   1.0\n",
       "7         10    5822.49   4450.33   1329   3.349   4.4   0.8"
      ]
     },
     "execution_count": 122,
     "metadata": {},
     "output_type": "execute_result"
    }
   ],
   "source": [
    "rev_uid_costs_per_source['romi'] = (rev_uid_costs_per_source['revenue'] / rev_uid_costs_per_source['costs']).round(1)\n",
    "rev_uid_costs_per_source.head(15)"
   ]
  },
  {
   "cell_type": "code",
   "execution_count": 123,
   "metadata": {},
   "outputs": [
    {
     "data": {
      "text/plain": [
       "<matplotlib.axes._subplots.AxesSubplot at 0x7f8084672690>"
      ]
     },
     "execution_count": 123,
     "metadata": {},
     "output_type": "execute_result"
    },
    {
     "data": {
      "image/png": "[encoded data removed]",
      "text/plain": [
       "<Figure size 288x288 with 1 Axes>"
      ]
     },
     "metadata": {},
     "output_type": "display_data"
    }
   ],
   "source": [
    "rev_uid_costs_per_source.sort_values(by='romi', ascending=False).plot(x='source_id', y='romi', kind='bar', grid=True, figsize=(4, 4))"
   ]
  },
  {
   "cell_type": "markdown",
   "metadata": {},
   "source": [
    "    Меньше всего затрат на 9 и 10 рекламный источник. Но они не приносят много выручки, поэтому источники\n",
    "    не являются оптимальными. ( По показатею ROMI 9 источник на 4ом месте, 10 источник на предпоследнем)\n",
    "    \n",
    "    ТОП-3 источников по соотношению выручки и затрат:\n",
    "    1, 2, 5 канал.\n",
    "\n",
    "    Самым неэффективным каналом оказался 3 канал. Он самый дорогостоящий и при этом по выручке занимает всего 6-ое место."
   ]
  },
  {
   "cell_type": "markdown",
   "metadata": {},
   "source": [
    "###  Анализ посещаемости ресурса по типу устройства<a class=\"anchor\" id=\"3-3-4-bullet\"></a>"
   ]
  },
  {
   "cell_type": "code",
   "execution_count": 145,
   "metadata": {},
   "outputs": [
    {
     "data": {
      "text/html": [
       "<div>\n",
       "<style scoped>\n",
       "    .dataframe tbody tr th:only-of-type {\n",
       "        vertical-align: middle;\n",
       "    }\n",
       "\n",
       "    .dataframe tbody tr th {\n",
       "        vertical-align: top;\n",
       "    }\n",
       "\n",
       "    .dataframe thead th {\n",
       "        text-align: right;\n",
       "    }\n",
       "</style>\n",
       "<table border=\"1\" class=\"dataframe\">\n",
       "  <thead>\n",
       "    <tr style=\"text-align: right;\">\n",
       "      <th></th>\n",
       "      <th>uid</th>\n",
       "    </tr>\n",
       "    <tr>\n",
       "      <th>device</th>\n",
       "      <th></th>\n",
       "    </tr>\n",
       "  </thead>\n",
       "  <tbody>\n",
       "    <tr>\n",
       "      <td>desktop</td>\n",
       "      <td>262567</td>\n",
       "    </tr>\n",
       "    <tr>\n",
       "      <td>touch</td>\n",
       "      <td>96833</td>\n",
       "    </tr>\n",
       "  </tbody>\n",
       "</table>\n",
       "</div>"
      ],
      "text/plain": [
       "            uid\n",
       "device         \n",
       "desktop  262567\n",
       "touch     96833"
      ]
     },
     "execution_count": 145,
     "metadata": {},
     "output_type": "execute_result"
    }
   ],
   "source": [
    "visits_by_device = visits.groupby('device').agg({'uid': 'count'})\n",
    "visits_by_device"
   ]
  },
  {
   "cell_type": "markdown",
   "metadata": {},
   "source": [
    "   \n",
    "Видим, что в 73,06% случаев сервис посещали с ПК и  в 26,94% случаев сайт посещали с мобильных устройсив."
   ]
  },
  {
   "cell_type": "markdown",
   "metadata": {},
   "source": [
    "**Общая выручка Яндекс.Афиши по видам устройств**"
   ]
  },
  {
   "cell_type": "code",
   "execution_count": 146,
   "metadata": {},
   "outputs": [
    {
     "data": {
      "text/html": [
       "<div>\n",
       "<style scoped>\n",
       "    .dataframe tbody tr th:only-of-type {\n",
       "        vertical-align: middle;\n",
       "    }\n",
       "\n",
       "    .dataframe tbody tr th {\n",
       "        vertical-align: top;\n",
       "    }\n",
       "\n",
       "    .dataframe thead th {\n",
       "        text-align: right;\n",
       "    }\n",
       "</style>\n",
       "<table border=\"1\" class=\"dataframe\">\n",
       "  <thead>\n",
       "    <tr style=\"text-align: right;\">\n",
       "      <th></th>\n",
       "      <th>revenue</th>\n",
       "    </tr>\n",
       "    <tr>\n",
       "      <th>device</th>\n",
       "      <th></th>\n",
       "    </tr>\n",
       "  </thead>\n",
       "  <tbody>\n",
       "    <tr>\n",
       "      <td>desktop</td>\n",
       "      <td>6447893.99</td>\n",
       "    </tr>\n",
       "    <tr>\n",
       "      <td>touch</td>\n",
       "      <td>514313.36</td>\n",
       "    </tr>\n",
       "  </tbody>\n",
       "</table>\n",
       "</div>"
      ],
      "text/plain": [
       "            revenue\n",
       "device             \n",
       "desktop  6447893.99\n",
       "touch     514313.36"
      ]
     },
     "execution_count": 146,
     "metadata": {},
     "output_type": "execute_result"
    }
   ],
   "source": [
    "sales_device = sales.groupby('device').agg({'revenue': 'sum'}).round(2)\n",
    "sales_device"
   ]
  },
  {
   "cell_type": "code",
   "execution_count": 147,
   "metadata": {},
   "outputs": [
    {
     "data": {
      "text/plain": [
       "Text(0.5, 1.0, 'Общая выручка Яндекс.Афиши по видам устройств')"
      ]
     },
     "execution_count": 147,
     "metadata": {},
     "output_type": "execute_result"
    },
    {
     "data": {
      "image/png": "[encoded data removed]",
      "text/plain": [
       "<Figure size 288x288 with 1 Axes>"
      ]
     },
     "metadata": {},
     "output_type": "display_data"
    }
   ],
   "source": [
    "sales_device = sales.groupby('device').agg({'revenue': 'sum'}).plot(kind='bar', grid=True, figsize=(4, 4))\n",
    "plt.title('Общая выручка Яндекс.Афиши по видам устройств')"
   ]
  },
  {
   "cell_type": "markdown",
   "metadata": {},
   "source": [
    "**Общая выручка Яндекс.Афиши по видам устройств с разбивкой по годам**"
   ]
  },
  {
   "cell_type": "code",
   "execution_count": 128,
   "metadata": {},
   "outputs": [
    {
     "data": {
      "text/html": [
       "<div>\n",
       "<style scoped>\n",
       "    .dataframe tbody tr th:only-of-type {\n",
       "        vertical-align: middle;\n",
       "    }\n",
       "\n",
       "    .dataframe tbody tr th {\n",
       "        vertical-align: top;\n",
       "    }\n",
       "\n",
       "    .dataframe thead th {\n",
       "        text-align: right;\n",
       "    }\n",
       "</style>\n",
       "<table border=\"1\" class=\"dataframe\">\n",
       "  <thead>\n",
       "    <tr style=\"text-align: right;\">\n",
       "      <th>device</th>\n",
       "      <th>desktop</th>\n",
       "      <th>touch</th>\n",
       "    </tr>\n",
       "    <tr>\n",
       "      <th>year</th>\n",
       "      <th></th>\n",
       "      <th></th>\n",
       "    </tr>\n",
       "  </thead>\n",
       "  <tbody>\n",
       "    <tr>\n",
       "      <td>2017</td>\n",
       "      <td>3522678.7</td>\n",
       "      <td>295414.5</td>\n",
       "    </tr>\n",
       "    <tr>\n",
       "      <td>2018</td>\n",
       "      <td>2925215.3</td>\n",
       "      <td>218898.8</td>\n",
       "    </tr>\n",
       "  </tbody>\n",
       "</table>\n",
       "</div>"
      ],
      "text/plain": [
       "device    desktop     touch\n",
       "year                       \n",
       "2017    3522678.7  295414.5\n",
       "2018    2925215.3  218898.8"
      ]
     },
     "execution_count": 128,
     "metadata": {},
     "output_type": "execute_result"
    }
   ],
   "source": [
    "sales.pivot_table(index='year', columns='device', values='revenue', aggfunc='sum').round(1)"
   ]
  },
  {
   "cell_type": "code",
   "execution_count": 148,
   "metadata": {},
   "outputs": [
    {
     "data": {
      "text/plain": [
       "Text(0.5, 1.0, 'Выручка Яндекс.Афиши по видам устройств и годам')"
      ]
     },
     "execution_count": 148,
     "metadata": {},
     "output_type": "execute_result"
    },
    {
     "data": {
      "image/png": "[encoded data removed]",
      "text/plain": [
       "<Figure size 432x288 with 1 Axes>"
      ]
     },
     "metadata": {},
     "output_type": "display_data"
    }
   ],
   "source": [
    "sales.pivot_table(index='year', columns='device', values='revenue', aggfunc='sum').plot(kind='bar', grid=True, figsize=(6, 4))\n",
    "plt.title('Выручка Яндекс.Афиши по видам устройств и годам')"
   ]
  },
  {
   "cell_type": "markdown",
   "metadata": {},
   "source": [
    "**Общая выручка Яндекс.Афиши по видам устройств с разбивкой по годам и месяцам**"
   ]
  },
  {
   "cell_type": "code",
   "execution_count": 130,
   "metadata": {},
   "outputs": [
    {
     "data": {
      "text/html": [
       "<div>\n",
       "<style scoped>\n",
       "    .dataframe tbody tr th:only-of-type {\n",
       "        vertical-align: middle;\n",
       "    }\n",
       "\n",
       "    .dataframe tbody tr th {\n",
       "        vertical-align: top;\n",
       "    }\n",
       "\n",
       "    .dataframe thead th {\n",
       "        text-align: right;\n",
       "    }\n",
       "</style>\n",
       "<table border=\"1\" class=\"dataframe\">\n",
       "  <thead>\n",
       "    <tr style=\"text-align: right;\">\n",
       "      <th></th>\n",
       "      <th>device</th>\n",
       "      <th>desktop</th>\n",
       "      <th>touch</th>\n",
       "    </tr>\n",
       "    <tr>\n",
       "      <th>year</th>\n",
       "      <th>month</th>\n",
       "      <th></th>\n",
       "      <th></th>\n",
       "    </tr>\n",
       "  </thead>\n",
       "  <tbody>\n",
       "    <tr>\n",
       "      <td rowspan=\"7\" valign=\"top\">2017</td>\n",
       "      <td>6</td>\n",
       "      <td>243927.0</td>\n",
       "      <td>9397.5</td>\n",
       "    </tr>\n",
       "    <tr>\n",
       "      <td>7</td>\n",
       "      <td>214176.8</td>\n",
       "      <td>9754.2</td>\n",
       "    </tr>\n",
       "    <tr>\n",
       "      <td>8</td>\n",
       "      <td>214823.8</td>\n",
       "      <td>13634.4</td>\n",
       "    </tr>\n",
       "    <tr>\n",
       "      <td>9</td>\n",
       "      <td>664880.9</td>\n",
       "      <td>25031.3</td>\n",
       "    </tr>\n",
       "    <tr>\n",
       "      <td>10</td>\n",
       "      <td>515669.9</td>\n",
       "      <td>81307.1</td>\n",
       "    </tr>\n",
       "    <tr>\n",
       "      <td>11</td>\n",
       "      <td>631210.6</td>\n",
       "      <td>102463.8</td>\n",
       "    </tr>\n",
       "    <tr>\n",
       "      <td>12</td>\n",
       "      <td>1037989.7</td>\n",
       "      <td>53826.3</td>\n",
       "    </tr>\n",
       "    <tr>\n",
       "      <td rowspan=\"5\" valign=\"top\">2018</td>\n",
       "      <td>1</td>\n",
       "      <td>572842.8</td>\n",
       "      <td>36077.3</td>\n",
       "    </tr>\n",
       "    <tr>\n",
       "      <td>2</td>\n",
       "      <td>694623.9</td>\n",
       "      <td>32254.5</td>\n",
       "    </tr>\n",
       "    <tr>\n",
       "      <td>3</td>\n",
       "      <td>623383.3</td>\n",
       "      <td>58243.6</td>\n",
       "    </tr>\n",
       "    <tr>\n",
       "      <td>4</td>\n",
       "      <td>511988.1</td>\n",
       "      <td>37637.6</td>\n",
       "    </tr>\n",
       "    <tr>\n",
       "      <td>5</td>\n",
       "      <td>522377.2</td>\n",
       "      <td>54685.9</td>\n",
       "    </tr>\n",
       "  </tbody>\n",
       "</table>\n",
       "</div>"
      ],
      "text/plain": [
       "device        desktop     touch\n",
       "year month                     \n",
       "2017 6       243927.0    9397.5\n",
       "     7       214176.8    9754.2\n",
       "     8       214823.8   13634.4\n",
       "     9       664880.9   25031.3\n",
       "     10      515669.9   81307.1\n",
       "     11      631210.6  102463.8\n",
       "     12     1037989.7   53826.3\n",
       "2018 1       572842.8   36077.3\n",
       "     2       694623.9   32254.5\n",
       "     3       623383.3   58243.6\n",
       "     4       511988.1   37637.6\n",
       "     5       522377.2   54685.9"
      ]
     },
     "execution_count": 130,
     "metadata": {},
     "output_type": "execute_result"
    }
   ],
   "source": [
    "sales.pivot_table(index=('year', 'month'), columns='device', values='revenue', aggfunc='sum').round(1)"
   ]
  },
  {
   "cell_type": "code",
   "execution_count": 151,
   "metadata": {},
   "outputs": [
    {
     "data": {
      "text/plain": [
       "<matplotlib.axes._subplots.AxesSubplot at 0x7f80845e7b50>"
      ]
     },
     "execution_count": 151,
     "metadata": {},
     "output_type": "execute_result"
    },
    {
     "data": {
      "image/png": "[encoded data removed]",
      "text/plain": [
       "<Figure size 720x360 with 1 Axes>"
      ]
     },
     "metadata": {},
     "output_type": "display_data"
    }
   ],
   "source": [
    "sales.pivot_table(index=('year', 'month'), columns='device', values='revenue', aggfunc='sum').plot(kind='bar', grid=True, figsize=(10, 5))"
   ]
  },
  {
   "cell_type": "markdown",
   "metadata": {},
   "source": [
    "    Мы видим, что пользователи использующие сервис Яндекс.Афиша в основном используют ПК и редко обращаются к\n",
    "    данному сервису через мобильные телефоны. Может быть мобильная версия сайта не достаточна удобна для пользователей\n",
    "    и через нее проблематичней делать заказы. Обратимся к таблице visits, чтобы посмотреть количество сессий на ПК\n",
    "    и моб.тел, а также продолжительность сессий."
   ]
  },
  {
   "cell_type": "code",
   "execution_count": 133,
   "metadata": {},
   "outputs": [
    {
     "data": {
      "text/html": [
       "<div>\n",
       "<style scoped>\n",
       "    .dataframe tbody tr th:only-of-type {\n",
       "        vertical-align: middle;\n",
       "    }\n",
       "\n",
       "    .dataframe tbody tr th {\n",
       "        vertical-align: top;\n",
       "    }\n",
       "\n",
       "    .dataframe thead th {\n",
       "        text-align: right;\n",
       "    }\n",
       "</style>\n",
       "<table border=\"1\" class=\"dataframe\">\n",
       "  <thead>\n",
       "    <tr style=\"text-align: right;\">\n",
       "      <th></th>\n",
       "      <th>session_duration_sec</th>\n",
       "      <th>session_start_t</th>\n",
       "    </tr>\n",
       "    <tr>\n",
       "      <th>device</th>\n",
       "      <th></th>\n",
       "      <th></th>\n",
       "    </tr>\n",
       "  </thead>\n",
       "  <tbody>\n",
       "    <tr>\n",
       "      <td>desktop</td>\n",
       "      <td>184833246</td>\n",
       "      <td>262567</td>\n",
       "    </tr>\n",
       "    <tr>\n",
       "      <td>touch</td>\n",
       "      <td>46442986</td>\n",
       "      <td>96833</td>\n",
       "    </tr>\n",
       "  </tbody>\n",
       "</table>\n",
       "</div>"
      ],
      "text/plain": [
       "         session_duration_sec  session_start_t\n",
       "device                                        \n",
       "desktop             184833246           262567\n",
       "touch                46442986            96833"
      ]
     },
     "execution_count": 133,
     "metadata": {},
     "output_type": "execute_result"
    }
   ],
   "source": [
    "visits.groupby('device').agg({'session_duration_sec':'sum', 'session_start_t':'count'})"
   ]
  },
  {
   "cell_type": "markdown",
   "metadata": {},
   "source": [
    "    * Количество сессий на ПК больше в 2,7 раза.\n",
    "    * Продолжительность сессий на ПК - 51342,6 часов.\n",
    "    * Продолжительность сессий на моб.телефоне - 12900,8 часов.\n",
    "    Соответственно продолжительность сессий на ПК больше в 4 раза"
   ]
  },
  {
   "cell_type": "markdown",
   "metadata": {},
   "source": [
    "## Шаг 4. Вывод<a class=\"anchor\" id=\"4-bullet\"></a>"
   ]
  },
  {
   "cell_type": "markdown",
   "metadata": {},
   "source": [
    "\n",
    "    \n",
    "Средняя продолжительность сессии длится - 60 секунд.\n",
    "В среднем пользователи начинают покупать через минуту после начала сессии. Т.е. пользователи знают точно, что они хотят приобрести. \n",
    "\n",
    "***DAU***, количество уникальных пользователей в день: 908\n",
    "    \n",
    "***WAU***, количество уникальных пользователей в неделю: 5716\n",
    "    \n",
    "***MAU***, количество уникальных пользователей в месяц: 23228\n",
    "    \n",
    "***Sticky Factor*** (месячный) - 3.9 %\n",
    "\n",
    "Нормальным считается показатель Sticky factor (месячный) - порядка 20-18%. В данном случае 3,9%, т.е. пользователи в среднем в течение месяца заходил лишь один раз.\n",
    "\n",
    "После первого месяца количество посетителей и количество покупателей в когорте сильно снижается.\n",
    "\n",
    "***Retention по визитам***. В первый месяц мы видим низкий коэфициет удержания:\n",
    "* до декабря 2017 - от 7,7% до 8,5% (исключение составляет июль 2017 - 5,6%)\n",
    "* с декабря 2017 - от 6 % до 4,2%\n",
    "\n",
    "    Это важный сигнал того, что нужно сосредоточиться на удержании покупателей в первый месяц, ведь большая часть активных покупателей отказывается от сервиса именно в этот период.\n",
    "У первый когорты самый высокий коэфициент удержания даже спустя год жизни - 4,5%\n",
    "    \n",
    "При этом во всех когортах ***средний чек*** пользователей возрастает на следующий месяц после месяца первой покупки. В когортах \"2018-03\" средний чек растёт с течением времени. В остальных когортах средний чек варьируется, то идет рост, потом спад и далее опять рост.\n",
    "    \n",
    "С декабря 2017 число покупателей в каждой следующей кагорте падает. Значит, в Яндекс.Афиша со временем приходит всё меньше и меньше новых покупателей.\n",
    "    \n",
    "***Первая когорта*** приносит больше всего денег даже после года существования когорты.\n",
    "У первый когорты спустя год самый высокий коэфициент  удержания Retention Rate. Необходимо подробнее изучить первую когорту и выявить факторы, удерживающие данную ее.\n",
    "    \n",
    "***Рекламные источники***\n",
    "    \n",
    "Топ-3 месяцев по затратам на рекламный источник: ноябрь, декабрь, октябрь 2017 г\n",
    "\n",
    "Меньше всего затрат на 9 и 10 рекламный источник. Но они не приносят много выручки, поэтому источники не являются оптимальными. ( По показатею ROMI 9 источник на 4ом месте, 10 источник на предпоследнем)\n",
    "    \n",
    "ТОП-3 источников по соотношению выручки и затрат: 1, 2, 5 канал.\n",
    "    \n",
    "Самый неэффективным каналом оказался 3 канал. Он самый дорогостоящий и при этом по выручке занимает всего 6-ое место.\n",
    "\n",
    "    \n",
    "***Устройства***\n",
    "    \n",
    "Пользователи заходят на сервис Яндекс.Афиша в основном через ПК и редко обращаются к данному сервису через мобильные устройства. Может быть мобильная версия сайта не достаточна удобна для пользователей и через нее проблематичней делать заказы.\n",
    "    \n",
    "•\tКоличество сессий на ПК больше в 2,7 раза, чем на моб.устройстве.\n",
    "•\tПродолжительность сессий на ПК больше в 4 разаб чем на моб.устройстве.\n",
    "\n",
    "\n"
   ]
  }
 ],
 "metadata": {
  "kernelspec": {
   "display_name": "Python 3",
   "language": "python",
   "name": "python3"
  },
  "language_info": {
   "codemirror_mode": {
    "name": "ipython",
    "version": 3
   },
   "file_extension": ".py",
   "mimetype": "text/x-python",
   "name": "python",
   "nbconvert_exporter": "python",
   "pygments_lexer": "ipython3",
   "version": "3.7.6"
  }
 },
 "nbformat": 4,
 "nbformat_minor": 2
}
