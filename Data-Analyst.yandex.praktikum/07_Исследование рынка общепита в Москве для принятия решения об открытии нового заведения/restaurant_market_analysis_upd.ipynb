{
 "cells": [
  {
   "cell_type": "markdown",
   "metadata": {},
   "source": [
    "# Анализ рынка заведений общественного питания Москвы"
   ]
  },
  {
   "cell_type": "markdown",
   "metadata": {},
   "source": [
    "## Описание проекта\n",
    "Вы решили открыть небольшое кафе в Москве. Оно оригинальное — гостей должны обслуживать роботы. Проект многообещающий, но дорогой. Вместе с партнёрами вы решились обратиться к инвесторам. Их интересует текущее положение дел на рынке — сможете ли вы снискать популярность на долгое время, когда все зеваки насмотрятся на роботов-официантов?\n",
    "Вы — гуру аналитики, и партнёры просят вас подготовить исследование рынка. У вас есть открытые данные о заведениях общественного питания в Москве."
   ]
  },
  {
   "cell_type": "markdown",
   "metadata": {},
   "source": [
    "## Содержание:\n",
    "* [Шаг 1. Предобработка данных](#1-bullet)\n",
    "* [Шаг 2. Анализ данных](#2-bullet)\n",
    "* 2.1. [Соотношение видов объектов общественного питания по количеству](#2-1-bullet)\n",
    "* 2.2. [Соотношение сетевых и несетевых заведений](#2-2-bullet)\n",
    "* 2.3. [Вид объекта, для которого характерно сетевое распространение](#2-3-bullet)\n",
    "* 2.4. [Сетевые заведения: взаимосвязь между количеством заведений в сети и количество посадочных мест](#2-4-bullet)\n",
    "* 2.5. [Среднее количество посадочных мест для каждого вида объекта](#2-5-bullet)\n",
    "* 2.6. [Выделение \"улиц\" из адреса в отдельный столбец](#2-6-bullet)\n",
    "* 2.7. [Топ-10 улиц по количеству объектов](#2-7-bullet)\n",
    "* 2.8. [Распределение количества посадочных мест для улиц с большим количеством объектов общественного питания](#2-8-bullet)\n",
    "* 2.9. [Районы с улицами, где находится всего одно заведение](#2-9-bullet)\n",
    "* [Шаг 3. Общий вывод](#3-bullet)"
   ]
  },
  {
   "cell_type": "markdown",
   "metadata": {},
   "source": [
    "## Шаг №1. Предобработка данных<a class=\"anchor\" id=\"1-bullet\"></a>"
   ]
  },
  {
   "cell_type": "code",
   "execution_count": 1,
   "metadata": {},
   "outputs": [],
   "source": [
    "import pandas as pd\n",
    "import matplotlib.pyplot as plt\n",
    "import seaborn as sns\n",
    "import numpy as np"
   ]
  },
  {
   "cell_type": "code",
   "execution_count": 2,
   "metadata": {},
   "outputs": [],
   "source": [
    "df_rest_data = pd.read_csv('/datasets/rest_data.csv')"
   ]
  },
  {
   "cell_type": "code",
   "execution_count": 3,
   "metadata": {},
   "outputs": [
    {
     "data": {
      "text/html": [
       "<div>\n",
       "<style scoped>\n",
       "    .dataframe tbody tr th:only-of-type {\n",
       "        vertical-align: middle;\n",
       "    }\n",
       "\n",
       "    .dataframe tbody tr th {\n",
       "        vertical-align: top;\n",
       "    }\n",
       "\n",
       "    .dataframe thead th {\n",
       "        text-align: right;\n",
       "    }\n",
       "</style>\n",
       "<table border=\"1\" class=\"dataframe\">\n",
       "  <thead>\n",
       "    <tr style=\"text-align: right;\">\n",
       "      <th></th>\n",
       "      <th>id</th>\n",
       "      <th>object_name</th>\n",
       "      <th>chain</th>\n",
       "      <th>object_type</th>\n",
       "      <th>address</th>\n",
       "      <th>number</th>\n",
       "    </tr>\n",
       "  </thead>\n",
       "  <tbody>\n",
       "    <tr>\n",
       "      <td>0</td>\n",
       "      <td>151635</td>\n",
       "      <td>СМЕТАНА</td>\n",
       "      <td>нет</td>\n",
       "      <td>кафе</td>\n",
       "      <td>город Москва, улица Егора Абакумова, дом 9</td>\n",
       "      <td>48</td>\n",
       "    </tr>\n",
       "    <tr>\n",
       "      <td>1</td>\n",
       "      <td>77874</td>\n",
       "      <td>Родник</td>\n",
       "      <td>нет</td>\n",
       "      <td>кафе</td>\n",
       "      <td>город Москва, улица Талалихина, дом 2/1, корпус 1</td>\n",
       "      <td>35</td>\n",
       "    </tr>\n",
       "    <tr>\n",
       "      <td>2</td>\n",
       "      <td>24309</td>\n",
       "      <td>Кафе «Академия»</td>\n",
       "      <td>нет</td>\n",
       "      <td>кафе</td>\n",
       "      <td>город Москва, Абельмановская улица, дом 6</td>\n",
       "      <td>95</td>\n",
       "    </tr>\n",
       "    <tr>\n",
       "      <td>3</td>\n",
       "      <td>21894</td>\n",
       "      <td>ПИЦЦЕТОРИЯ</td>\n",
       "      <td>да</td>\n",
       "      <td>кафе</td>\n",
       "      <td>город Москва, Абрамцевская улица, дом 1</td>\n",
       "      <td>40</td>\n",
       "    </tr>\n",
       "    <tr>\n",
       "      <td>4</td>\n",
       "      <td>119365</td>\n",
       "      <td>Кафе «Вишневая метель»</td>\n",
       "      <td>нет</td>\n",
       "      <td>кафе</td>\n",
       "      <td>город Москва, Абрамцевская улица, дом 9, корпус 1</td>\n",
       "      <td>50</td>\n",
       "    </tr>\n",
       "  </tbody>\n",
       "</table>\n",
       "</div>"
      ],
      "text/plain": [
       "       id             object_name chain object_type  \\\n",
       "0  151635                 СМЕТАНА   нет        кафе   \n",
       "1   77874                  Родник   нет        кафе   \n",
       "2   24309         Кафе «Академия»   нет        кафе   \n",
       "3   21894              ПИЦЦЕТОРИЯ    да        кафе   \n",
       "4  119365  Кафе «Вишневая метель»   нет        кафе   \n",
       "\n",
       "                                             address  number  \n",
       "0         город Москва, улица Егора Абакумова, дом 9      48  \n",
       "1  город Москва, улица Талалихина, дом 2/1, корпус 1      35  \n",
       "2          город Москва, Абельмановская улица, дом 6      95  \n",
       "3            город Москва, Абрамцевская улица, дом 1      40  \n",
       "4  город Москва, Абрамцевская улица, дом 9, корпус 1      50  "
      ]
     },
     "execution_count": 3,
     "metadata": {},
     "output_type": "execute_result"
    }
   ],
   "source": [
    "df_rest_data.head()"
   ]
  },
  {
   "cell_type": "markdown",
   "metadata": {},
   "source": [
    "Описание данных\n",
    "    \n",
    "***Таблица rest_data:***\n",
    "\n",
    "* object_name — название объекта общественного питания;\n",
    "* chain — сетевой ресторан;\n",
    "* object_type — тип объекта общественного питания;\n",
    "* address — адрес;\n",
    "* number — количество посадочных мест."
   ]
  },
  {
   "cell_type": "code",
   "execution_count": 4,
   "metadata": {},
   "outputs": [
    {
     "name": "stdout",
     "output_type": "stream",
     "text": [
      "<class 'pandas.core.frame.DataFrame'>\n",
      "RangeIndex: 15366 entries, 0 to 15365\n",
      "Data columns (total 6 columns):\n",
      "id             15366 non-null int64\n",
      "object_name    15366 non-null object\n",
      "chain          15366 non-null object\n",
      "object_type    15366 non-null object\n",
      "address        15366 non-null object\n",
      "number         15366 non-null int64\n",
      "dtypes: int64(2), object(4)\n",
      "memory usage: 720.4+ KB\n"
     ]
    }
   ],
   "source": [
    "df_rest_data.info()"
   ]
  },
  {
   "cell_type": "code",
   "execution_count": 5,
   "metadata": {},
   "outputs": [
    {
     "data": {
      "text/plain": [
       "0"
      ]
     },
     "execution_count": 5,
     "metadata": {},
     "output_type": "execute_result"
    }
   ],
   "source": [
    "df_rest_data.duplicated().sum()"
   ]
  },
  {
   "cell_type": "code",
   "execution_count": 6,
   "metadata": {},
   "outputs": [
    {
     "data": {
      "text/plain": [
       "0"
      ]
     },
     "execution_count": 6,
     "metadata": {},
     "output_type": "execute_result"
    }
   ],
   "source": [
    "df_rest_data['id'].duplicated().sum()"
   ]
  },
  {
   "cell_type": "markdown",
   "metadata": {},
   "source": [
    "    В таблице 15366 строк, пропущенные значения отсутствуют.\n",
    "    Тип данных в каждой колонке — правильный.\n",
    "    В таблице отсутствуют полные дубликаты, в колонке ['id'] дубликаты так же отсутствуют.\n",
    "    \n",
    "    Посмотри сколько типов объектов существует в таблице и есть ли среди них скрытые дубликаты:"
   ]
  },
  {
   "cell_type": "code",
   "execution_count": 7,
   "metadata": {},
   "outputs": [
    {
     "data": {
      "text/plain": [
       "кафе                                 6099\n",
       "столовая                             2587\n",
       "ресторан                             2285\n",
       "предприятие быстрого обслуживания    1923\n",
       "бар                                   856\n",
       "буфет                                 585\n",
       "кафетерий                             398\n",
       "закусочная                            360\n",
       "магазин (отдел кулинарии)             273\n",
       "Name: object_type, dtype: int64"
      ]
     },
     "execution_count": 7,
     "metadata": {},
     "output_type": "execute_result"
    }
   ],
   "source": [
    "df_rest_data['object_type'].value_counts()"
   ]
  },
  {
   "cell_type": "markdown",
   "metadata": {},
   "source": [
    "    Существует 9 типов объектов, среди них нет скрытых дубликатов.\n",
    "    \n",
    "    Посмотрим, сколько уникальных названий заведений есть в базе."
   ]
  },
  {
   "cell_type": "code",
   "execution_count": 8,
   "metadata": {},
   "outputs": [
    {
     "data": {
      "text/plain": [
       "Столовая             267\n",
       "Кафе                 236\n",
       "Шаурма               234\n",
       "KFC                  155\n",
       "Шоколадница          142\n",
       "                    ... \n",
       "CIAO BELLA             1\n",
       "Ресторан «БОЧКА»       1\n",
       "Кулинария Голубка      1\n",
       "Роут 66                1\n",
       "CHEESE connection      1\n",
       "Name: object_name, Length: 10393, dtype: int64"
      ]
     },
     "execution_count": 8,
     "metadata": {},
     "output_type": "execute_result"
    }
   ],
   "source": [
    "df_rest_data['object_name'].value_counts()"
   ]
  },
  {
   "cell_type": "markdown",
   "metadata": {},
   "source": [
    "    В таблице 10393 шт уникальных названий.\n",
    "    Первые три места занимают \"общие названия\" - Столовая, Кафе, Шаурма.\n",
    "    Т.е. места, у которых нет или не указано имя. \n",
    "    На 4ом м 5ом месте сети общественного питания  KFC и  Шоколадница."
   ]
  },
  {
   "cell_type": "markdown",
   "metadata": {},
   "source": [
    "## Шаг №2. Анализ данных<a class=\"anchor\" id=\"2-bullet\"></a>"
   ]
  },
  {
   "cell_type": "markdown",
   "metadata": {},
   "source": [
    "### 2.1. Cоотношение видов объектов общественного питания по количеству. <a class=\"anchor\" id=\"2-1-bullet\"></a>"
   ]
  },
  {
   "cell_type": "code",
   "execution_count": 9,
   "metadata": {},
   "outputs": [],
   "source": [
    "piebar = df_rest_data.groupby('object_type')['id'].count().reset_index().sort_values(by='id', ascending=False)   "
   ]
  },
  {
   "cell_type": "code",
   "execution_count": 10,
   "metadata": {},
   "outputs": [
    {
     "data": {
      "text/html": [
       "<div>\n",
       "<style scoped>\n",
       "    .dataframe tbody tr th:only-of-type {\n",
       "        vertical-align: middle;\n",
       "    }\n",
       "\n",
       "    .dataframe tbody tr th {\n",
       "        vertical-align: top;\n",
       "    }\n",
       "\n",
       "    .dataframe thead th {\n",
       "        text-align: right;\n",
       "    }\n",
       "</style>\n",
       "<table border=\"1\" class=\"dataframe\">\n",
       "  <thead>\n",
       "    <tr style=\"text-align: right;\">\n",
       "      <th></th>\n",
       "      <th>object_type</th>\n",
       "      <th>id</th>\n",
       "    </tr>\n",
       "  </thead>\n",
       "  <tbody>\n",
       "    <tr>\n",
       "      <td>3</td>\n",
       "      <td>кафе</td>\n",
       "      <td>6099</td>\n",
       "    </tr>\n",
       "    <tr>\n",
       "      <td>8</td>\n",
       "      <td>столовая</td>\n",
       "      <td>2587</td>\n",
       "    </tr>\n",
       "    <tr>\n",
       "      <td>7</td>\n",
       "      <td>ресторан</td>\n",
       "      <td>2285</td>\n",
       "    </tr>\n",
       "    <tr>\n",
       "      <td>6</td>\n",
       "      <td>предприятие быстрого обслуживания</td>\n",
       "      <td>1923</td>\n",
       "    </tr>\n",
       "    <tr>\n",
       "      <td>0</td>\n",
       "      <td>бар</td>\n",
       "      <td>856</td>\n",
       "    </tr>\n",
       "    <tr>\n",
       "      <td>1</td>\n",
       "      <td>буфет</td>\n",
       "      <td>585</td>\n",
       "    </tr>\n",
       "    <tr>\n",
       "      <td>4</td>\n",
       "      <td>кафетерий</td>\n",
       "      <td>398</td>\n",
       "    </tr>\n",
       "    <tr>\n",
       "      <td>2</td>\n",
       "      <td>закусочная</td>\n",
       "      <td>360</td>\n",
       "    </tr>\n",
       "    <tr>\n",
       "      <td>5</td>\n",
       "      <td>магазин (отдел кулинарии)</td>\n",
       "      <td>273</td>\n",
       "    </tr>\n",
       "  </tbody>\n",
       "</table>\n",
       "</div>"
      ],
      "text/plain": [
       "                         object_type    id\n",
       "3                               кафе  6099\n",
       "8                           столовая  2587\n",
       "7                           ресторан  2285\n",
       "6  предприятие быстрого обслуживания  1923\n",
       "0                                бар   856\n",
       "1                              буфет   585\n",
       "4                          кафетерий   398\n",
       "2                         закусочная   360\n",
       "5          магазин (отдел кулинарии)   273"
      ]
     },
     "execution_count": 10,
     "metadata": {},
     "output_type": "execute_result"
    }
   ],
   "source": [
    "piebar"
   ]
  },
  {
   "cell_type": "code",
   "execution_count": 73,
   "metadata": {},
   "outputs": [
    {
     "data": {
      "text/plain": [
       "<matplotlib.legend.Legend at 0x7f0f18e35c90>"
      ]
     },
     "execution_count": 73,
     "metadata": {},
     "output_type": "execute_result"
    },
    {
     "data": {
      "image/png": "[encoded data removed]",
      "text/plain": [
       "<Figure size 576x576 with 1 Axes>"
      ]
     },
     "metadata": {},
     "output_type": "display_data"
    }
   ],
   "source": [
    "piebar['id'].plot(y='id', kind='pie', figsize=(8, 8), wedgeprops={'lw':1, 'ls':'--','edgecolor':\"k\"}, autopct='%1.1f%%', labels=piebar['object_type'])\n",
    "\n",
    "plt.legend(loc=(01.00, 01.01))"
   ]
  },
  {
   "cell_type": "markdown",
   "metadata": {},
   "source": [
    "    Cоотношение видов объектов общественного питания по количеству:\n",
    "    * Самую большую долю занимают кафе - 39,7%\n",
    "    * На втором месте столовая - 16,8 %\n",
    "    * На третьем месте ресторан- 14,9 %\n",
    "    * На четвертом месте предприятия быстрого обслуживания - 12,5%\n",
    "    \n",
    "    Доля остальных видов объектов - меньше 6%"
   ]
  },
  {
   "cell_type": "markdown",
   "metadata": {},
   "source": [
    "### 2.2. Соотношение сетевых и несетевых заведений по количеству<a class=\"anchor\" id=\"2-2-bullet\"></a>"
   ]
  },
  {
   "cell_type": "code",
   "execution_count": 12,
   "metadata": {},
   "outputs": [
    {
     "data": {
      "text/plain": [
       "нет    12398\n",
       "да      2968\n",
       "Name: chain, dtype: int64"
      ]
     },
     "execution_count": 12,
     "metadata": {},
     "output_type": "execute_result"
    }
   ],
   "source": [
    "df_rest_data['chain'].value_counts()"
   ]
  },
  {
   "cell_type": "code",
   "execution_count": 13,
   "metadata": {},
   "outputs": [
    {
     "data": {
      "text/plain": [
       "Text(0.5, 1.0, 'Соотношение сетевых и несетевых заведений по количеству')"
      ]
     },
     "execution_count": 13,
     "metadata": {},
     "output_type": "execute_result"
    },
    {
     "data": {
      "image/png": "[encoded data removed]",
      "text/plain": [
       "<Figure size 288x288 with 1 Axes>"
      ]
     },
     "metadata": {
      "needs_background": "light"
     },
     "output_type": "display_data"
    }
   ],
   "source": [
    "df_rest_data.pivot_table(index='chain', values='id', aggfunc='nunique').plot(kind='bar', grid=True, figsize=(4, 4), color='#216353')\n",
    "plt.title('Соотношение сетевых и несетевых заведений по количеству')"
   ]
  },
  {
   "cell_type": "markdown",
   "metadata": {},
   "source": [
    "    В Москве в 4 раза больше несетевых заведений"
   ]
  },
  {
   "cell_type": "markdown",
   "metadata": {},
   "source": [
    "### 2.3. Для какого вида объекта общественного питания характерно сетевое распространение?<a class=\"anchor\" id=\"2-3-bullet\"></a>"
   ]
  },
  {
   "cell_type": "code",
   "execution_count": 15,
   "metadata": {},
   "outputs": [
    {
     "data": {
      "text/html": [
       "<div>\n",
       "<style scoped>\n",
       "    .dataframe tbody tr th:only-of-type {\n",
       "        vertical-align: middle;\n",
       "    }\n",
       "\n",
       "    .dataframe tbody tr th {\n",
       "        vertical-align: top;\n",
       "    }\n",
       "\n",
       "    .dataframe thead th {\n",
       "        text-align: right;\n",
       "    }\n",
       "</style>\n",
       "<table border=\"1\" class=\"dataframe\">\n",
       "  <thead>\n",
       "    <tr style=\"text-align: right;\">\n",
       "      <th>chain</th>\n",
       "      <th>object_type</th>\n",
       "      <th>да</th>\n",
       "      <th>нет</th>\n",
       "      <th>sum</th>\n",
       "      <th>ratio</th>\n",
       "    </tr>\n",
       "  </thead>\n",
       "  <tbody>\n",
       "    <tr>\n",
       "      <td>6</td>\n",
       "      <td>предприятие быстрого обслуживания</td>\n",
       "      <td>791</td>\n",
       "      <td>1132</td>\n",
       "      <td>1923</td>\n",
       "      <td>0.41</td>\n",
       "    </tr>\n",
       "    <tr>\n",
       "      <td>5</td>\n",
       "      <td>магазин (отдел кулинарии)</td>\n",
       "      <td>78</td>\n",
       "      <td>195</td>\n",
       "      <td>273</td>\n",
       "      <td>0.29</td>\n",
       "    </tr>\n",
       "    <tr>\n",
       "      <td>7</td>\n",
       "      <td>ресторан</td>\n",
       "      <td>544</td>\n",
       "      <td>1741</td>\n",
       "      <td>2285</td>\n",
       "      <td>0.24</td>\n",
       "    </tr>\n",
       "    <tr>\n",
       "      <td>3</td>\n",
       "      <td>кафе</td>\n",
       "      <td>1396</td>\n",
       "      <td>4703</td>\n",
       "      <td>6099</td>\n",
       "      <td>0.23</td>\n",
       "    </tr>\n",
       "    <tr>\n",
       "      <td>2</td>\n",
       "      <td>закусочная</td>\n",
       "      <td>56</td>\n",
       "      <td>304</td>\n",
       "      <td>360</td>\n",
       "      <td>0.16</td>\n",
       "    </tr>\n",
       "    <tr>\n",
       "      <td>4</td>\n",
       "      <td>кафетерий</td>\n",
       "      <td>52</td>\n",
       "      <td>346</td>\n",
       "      <td>398</td>\n",
       "      <td>0.13</td>\n",
       "    </tr>\n",
       "    <tr>\n",
       "      <td>0</td>\n",
       "      <td>бар</td>\n",
       "      <td>37</td>\n",
       "      <td>819</td>\n",
       "      <td>856</td>\n",
       "      <td>0.04</td>\n",
       "    </tr>\n",
       "    <tr>\n",
       "      <td>1</td>\n",
       "      <td>буфет</td>\n",
       "      <td>11</td>\n",
       "      <td>574</td>\n",
       "      <td>585</td>\n",
       "      <td>0.02</td>\n",
       "    </tr>\n",
       "    <tr>\n",
       "      <td>8</td>\n",
       "      <td>столовая</td>\n",
       "      <td>3</td>\n",
       "      <td>2584</td>\n",
       "      <td>2587</td>\n",
       "      <td>0.00</td>\n",
       "    </tr>\n",
       "  </tbody>\n",
       "</table>\n",
       "</div>"
      ],
      "text/plain": [
       "chain                        object_type    да   нет   sum  ratio\n",
       "6      предприятие быстрого обслуживания   791  1132  1923   0.41\n",
       "5              магазин (отдел кулинарии)    78   195   273   0.29\n",
       "7                               ресторан   544  1741  2285   0.24\n",
       "3                                   кафе  1396  4703  6099   0.23\n",
       "2                             закусочная    56   304   360   0.16\n",
       "4                              кафетерий    52   346   398   0.13\n",
       "0                                    бар    37   819   856   0.04\n",
       "1                                  буфет    11   574   585   0.02\n",
       "8                               столовая     3  2584  2587   0.00"
      ]
     },
     "execution_count": 15,
     "metadata": {},
     "output_type": "execute_result"
    }
   ],
   "source": [
    "df_chain_proportion = df_rest_data.pivot_table(index='object_type', columns='chain', values='id', aggfunc='count').reset_index()\n",
    "df_chain_proportion['sum'] = df_chain_proportion['да'] + df_chain_proportion['нет']\n",
    "df_chain_proportion['ratio'] = (df_chain_proportion['да'] / df_chain_proportion['sum']).round(2)\n",
    "df_chain_proportion.sort_values(by='ratio', ascending=False)"
   ]
  },
  {
   "cell_type": "code",
   "execution_count": 16,
   "metadata": {},
   "outputs": [
    {
     "data": {
      "text/plain": [
       "Text(0.5, 1.0, 'Доля сетевого распространения для каждого объекта общественного питания')"
      ]
     },
     "execution_count": 16,
     "metadata": {},
     "output_type": "execute_result"
    },
    {
     "data": {
      "image/png": "[encoded data removed]",
      "text/plain": [
       "<Figure size 432x288 with 1 Axes>"
      ]
     },
     "metadata": {
      "needs_background": "light"
     },
     "output_type": "display_data"
    }
   ],
   "source": [
    "fig = ax = sns.barplot(x='ratio', y='object_type', data=df_chain_proportion, color='#216353')\n",
    "plt.xticks(rotation=90)\n",
    "plt.title('Доля сетевого распространения для каждого объекта общественного питания')"
   ]
  },
  {
   "cell_type": "markdown",
   "metadata": {},
   "source": [
    "    * Сетевое распространение характерно в первую очередь для предприятий быстрого питания.\n",
    "    41% предприятий быстрого питания являются сетевыми. \n",
    "    \n",
    "    * На втором месте магазины (отдел кулинарии) - 29 % объектов являются сетевыми.\n",
    "    \n",
    "    * На третьем месте рестораны и кафе  - 24% и 23 % соответственно\n",
    "    "
   ]
  },
  {
   "cell_type": "markdown",
   "metadata": {},
   "source": [
    "### 2.4. Что характерно для сетевых заведений: много заведений с небольшим числом посадочных мест в каждом или мало заведений с большим количеством посадочных мест?<a class=\"anchor\" id=\"2-4-bullet\"></a>"
   ]
  },
  {
   "cell_type": "code",
   "execution_count": 17,
   "metadata": {},
   "outputs": [],
   "source": [
    "df_chain = df_rest_data[df_rest_data['chain'] == 'да']"
   ]
  },
  {
   "cell_type": "code",
   "execution_count": 18,
   "metadata": {},
   "outputs": [
    {
     "data": {
      "text/plain": [
       "count    2968.000000\n",
       "mean       52.919811\n",
       "std        57.140644\n",
       "min         0.000000\n",
       "25%        15.000000\n",
       "50%        40.000000\n",
       "75%        72.000000\n",
       "max       580.000000\n",
       "Name: number, dtype: float64"
      ]
     },
     "execution_count": 18,
     "metadata": {},
     "output_type": "execute_result"
    }
   ],
   "source": [
    "df_chain['number'].describe()"
   ]
  },
  {
   "cell_type": "code",
   "execution_count": 19,
   "metadata": {},
   "outputs": [
    {
     "data": {
      "text/plain": [
       "(-10, 161)"
      ]
     },
     "execution_count": 19,
     "metadata": {},
     "output_type": "execute_result"
    },
    {
     "data": {
      "image/png": "[encoded data removed]",
      "text/plain": [
       "<Figure size 432x288 with 1 Axes>"
      ]
     },
     "metadata": {
      "needs_background": "light"
     },
     "output_type": "display_data"
    }
   ],
   "source": [
    "with plt.style.context('seaborn-pastel'):\n",
    "    ax = sns.boxplot(x='number', data=df_chain)\n",
    "plt.xlim(-10, 161)"
   ]
  },
  {
   "cell_type": "code",
   "execution_count": 20,
   "metadata": {},
   "outputs": [
    {
     "data": {
      "text/plain": [
       "array([120.  , 158.65, 275.33])"
      ]
     },
     "execution_count": 20,
     "metadata": {},
     "output_type": "execute_result"
    }
   ],
   "source": [
    "np.percentile(df_chain['number'], [90, 95, 99])"
   ]
  },
  {
   "cell_type": "markdown",
   "metadata": {},
   "source": [
    "    Согласно данным в сетевых заведеняих может и не быть посадочных мест. Например,в \n",
    "    торговых центрах в фудкорах, где еть точка выдачи заказа и общий зал с посадочными местами,\n",
    "    которые не закреплены за отдельным кафе/предприятием общественного питания. Или например,\n",
    "    окно выдачи в сетях быстрого питания.\n",
    "\n",
    "    \n",
    "    У 25% сетевых заведений количество посадочных мест не превышает - 15 шт.\n",
    "    \n",
    "    Среднее количество посадочных мест для сетевых заведений - 40 шт.\n",
    "    \n",
    "    У 75% сетевых заведений количество посадочных мест не превышает - 72 шт.\n",
    "    \n",
    "    У 90% сетевых заведений количество посадочных мест не превышает - 120 шт.\n",
    "    \n",
    "    Самый большой выброс у заведения с количеством посадочных мест - 580 шт.\n",
    "   "
   ]
  },
  {
   "cell_type": "markdown",
   "metadata": {},
   "source": [
    "**Посмотрим внимательнее на заведения, у которых нет или одно посадочное место:**\n",
    "\n",
    "    "
   ]
  },
  {
   "cell_type": "code",
   "execution_count": 21,
   "metadata": {},
   "outputs": [
    {
     "data": {
      "text/html": [
       "<div>\n",
       "<style scoped>\n",
       "    .dataframe tbody tr th:only-of-type {\n",
       "        vertical-align: middle;\n",
       "    }\n",
       "\n",
       "    .dataframe tbody tr th {\n",
       "        vertical-align: top;\n",
       "    }\n",
       "\n",
       "    .dataframe thead th {\n",
       "        text-align: right;\n",
       "    }\n",
       "</style>\n",
       "<table border=\"1\" class=\"dataframe\">\n",
       "  <thead>\n",
       "    <tr style=\"text-align: right;\">\n",
       "      <th></th>\n",
       "      <th>id</th>\n",
       "      <th>object_name</th>\n",
       "      <th>chain</th>\n",
       "      <th>object_type</th>\n",
       "      <th>address</th>\n",
       "      <th>number</th>\n",
       "    </tr>\n",
       "  </thead>\n",
       "  <tbody>\n",
       "    <tr>\n",
       "      <td>290</td>\n",
       "      <td>144091</td>\n",
       "      <td>КОФЕ С СОБОЙ</td>\n",
       "      <td>да</td>\n",
       "      <td>предприятие быстрого обслуживания</td>\n",
       "      <td>город Москва, 1-я Тверская-Ямская улица, дом 1...</td>\n",
       "      <td>0</td>\n",
       "    </tr>\n",
       "    <tr>\n",
       "      <td>498</td>\n",
       "      <td>152450</td>\n",
       "      <td>Суши сет</td>\n",
       "      <td>да</td>\n",
       "      <td>предприятие быстрого обслуживания</td>\n",
       "      <td>город Москва, Краснопрудная улица, дом 22-24</td>\n",
       "      <td>0</td>\n",
       "    </tr>\n",
       "    <tr>\n",
       "      <td>504</td>\n",
       "      <td>157035</td>\n",
       "      <td>Кофе с собой</td>\n",
       "      <td>да</td>\n",
       "      <td>кафетерий</td>\n",
       "      <td>город Москва, Краснохолмская набережная, дом 1...</td>\n",
       "      <td>0</td>\n",
       "    </tr>\n",
       "    <tr>\n",
       "      <td>577</td>\n",
       "      <td>149220</td>\n",
       "      <td>Кофейня «Кофе Хаус»</td>\n",
       "      <td>да</td>\n",
       "      <td>кафе</td>\n",
       "      <td>город Москва, Павелецкая площадь, дом 1А, стро...</td>\n",
       "      <td>0</td>\n",
       "    </tr>\n",
       "    <tr>\n",
       "      <td>938</td>\n",
       "      <td>154596</td>\n",
       "      <td>СтардогS</td>\n",
       "      <td>да</td>\n",
       "      <td>предприятие быстрого обслуживания</td>\n",
       "      <td>город Москва, Профсоюзная улица, дом 2/22</td>\n",
       "      <td>0</td>\n",
       "    </tr>\n",
       "  </tbody>\n",
       "</table>\n",
       "</div>"
      ],
      "text/plain": [
       "         id          object_name chain                        object_type  \\\n",
       "290  144091         КОФЕ С СОБОЙ    да  предприятие быстрого обслуживания   \n",
       "498  152450             Суши сет    да  предприятие быстрого обслуживания   \n",
       "504  157035         Кофе с собой    да                          кафетерий   \n",
       "577  149220  Кофейня «Кофе Хаус»    да                               кафе   \n",
       "938  154596             СтардогS    да  предприятие быстрого обслуживания   \n",
       "\n",
       "                                               address  number  \n",
       "290  город Москва, 1-я Тверская-Ямская улица, дом 1...       0  \n",
       "498       город Москва, Краснопрудная улица, дом 22-24       0  \n",
       "504  город Москва, Краснохолмская набережная, дом 1...       0  \n",
       "577  город Москва, Павелецкая площадь, дом 1А, стро...       0  \n",
       "938          город Москва, Профсоюзная улица, дом 2/22       0  "
      ]
     },
     "execution_count": 21,
     "metadata": {},
     "output_type": "execute_result"
    }
   ],
   "source": [
    "number_1 = df_chain[df_chain['number'] <= 1]\n",
    "number_1.head()"
   ]
  },
  {
   "cell_type": "code",
   "execution_count": 22,
   "metadata": {},
   "outputs": [
    {
     "data": {
      "text/html": [
       "<div>\n",
       "<style scoped>\n",
       "    .dataframe tbody tr th:only-of-type {\n",
       "        vertical-align: middle;\n",
       "    }\n",
       "\n",
       "    .dataframe tbody tr th {\n",
       "        vertical-align: top;\n",
       "    }\n",
       "\n",
       "    .dataframe thead th {\n",
       "        text-align: right;\n",
       "    }\n",
       "</style>\n",
       "<table border=\"1\" class=\"dataframe\">\n",
       "  <thead>\n",
       "    <tr style=\"text-align: right;\">\n",
       "      <th></th>\n",
       "      <th>object_type</th>\n",
       "      <th>id</th>\n",
       "    </tr>\n",
       "  </thead>\n",
       "  <tbody>\n",
       "    <tr>\n",
       "      <td>6</td>\n",
       "      <td>предприятие быстрого обслуживания</td>\n",
       "      <td>130</td>\n",
       "    </tr>\n",
       "    <tr>\n",
       "      <td>3</td>\n",
       "      <td>кафе</td>\n",
       "      <td>55</td>\n",
       "    </tr>\n",
       "    <tr>\n",
       "      <td>5</td>\n",
       "      <td>магазин (отдел кулинарии)</td>\n",
       "      <td>37</td>\n",
       "    </tr>\n",
       "    <tr>\n",
       "      <td>2</td>\n",
       "      <td>закусочная</td>\n",
       "      <td>18</td>\n",
       "    </tr>\n",
       "    <tr>\n",
       "      <td>7</td>\n",
       "      <td>ресторан</td>\n",
       "      <td>18</td>\n",
       "    </tr>\n",
       "    <tr>\n",
       "      <td>4</td>\n",
       "      <td>кафетерий</td>\n",
       "      <td>16</td>\n",
       "    </tr>\n",
       "    <tr>\n",
       "      <td>1</td>\n",
       "      <td>буфет</td>\n",
       "      <td>8</td>\n",
       "    </tr>\n",
       "    <tr>\n",
       "      <td>0</td>\n",
       "      <td>бар</td>\n",
       "      <td>1</td>\n",
       "    </tr>\n",
       "  </tbody>\n",
       "</table>\n",
       "</div>"
      ],
      "text/plain": [
       "                         object_type   id\n",
       "6  предприятие быстрого обслуживания  130\n",
       "3                               кафе   55\n",
       "5          магазин (отдел кулинарии)   37\n",
       "2                         закусочная   18\n",
       "7                           ресторан   18\n",
       "4                          кафетерий   16\n",
       "1                              буфет    8\n",
       "0                                бар    1"
      ]
     },
     "execution_count": 22,
     "metadata": {},
     "output_type": "execute_result"
    }
   ],
   "source": [
    "number_1.groupby('object_type')['id'].count().reset_index().sort_values(by='id', ascending=False) "
   ]
  },
  {
   "cell_type": "markdown",
   "metadata": {},
   "source": [
    "**заведения, у которых нет или одно посадочное место:**\n",
    "    \n",
    "    В основном это предприятие быстрого обслуживания - 45,9%.\n",
    "    Они часто расположены в фудкоре - зона питания в торговом центре, аэропорту или,\n",
    "    в некоторых случаях, отдельном здании (например, \"Депо\" в г Москва), где посетителям\n",
    "    предлагают услуги сразу несколько предприятий питания, имеющих общий зал для питания.\n",
    "    \n",
    "    На втором месте кафе - 19,4 %\n",
    "    \n",
    "    На третьем месте магазины (отдел кулинарии) - 13,1% "
   ]
  },
  {
   "cell_type": "markdown",
   "metadata": {},
   "source": [
    "    Посмотрим, что характерно для сетевых заведений на примере самой крупной сети\n",
    "    в датасете - KFC"
   ]
  },
  {
   "cell_type": "code",
   "execution_count": 23,
   "metadata": {},
   "outputs": [
    {
     "data": {
      "text/html": [
       "<div>\n",
       "<style scoped>\n",
       "    .dataframe tbody tr th:only-of-type {\n",
       "        vertical-align: middle;\n",
       "    }\n",
       "\n",
       "    .dataframe tbody tr th {\n",
       "        vertical-align: top;\n",
       "    }\n",
       "\n",
       "    .dataframe thead th {\n",
       "        text-align: right;\n",
       "    }\n",
       "</style>\n",
       "<table border=\"1\" class=\"dataframe\">\n",
       "  <thead>\n",
       "    <tr style=\"text-align: right;\">\n",
       "      <th></th>\n",
       "      <th>id</th>\n",
       "      <th>object_name</th>\n",
       "      <th>chain</th>\n",
       "      <th>object_type</th>\n",
       "      <th>address</th>\n",
       "      <th>number</th>\n",
       "    </tr>\n",
       "  </thead>\n",
       "  <tbody>\n",
       "    <tr>\n",
       "      <td>142</td>\n",
       "      <td>26142</td>\n",
       "      <td>KFC</td>\n",
       "      <td>да</td>\n",
       "      <td>ресторан</td>\n",
       "      <td>город Москва, Бутырская улица, дом 89</td>\n",
       "      <td>67</td>\n",
       "    </tr>\n",
       "    <tr>\n",
       "      <td>301</td>\n",
       "      <td>24242</td>\n",
       "      <td>KFC</td>\n",
       "      <td>да</td>\n",
       "      <td>ресторан</td>\n",
       "      <td>город Москва, улица Грузинский Вал, дом 28/45</td>\n",
       "      <td>40</td>\n",
       "    </tr>\n",
       "    <tr>\n",
       "      <td>339</td>\n",
       "      <td>72728</td>\n",
       "      <td>KFC</td>\n",
       "      <td>да</td>\n",
       "      <td>ресторан</td>\n",
       "      <td>город Москва, Дубнинская улица, дом 30, корпус 1</td>\n",
       "      <td>70</td>\n",
       "    </tr>\n",
       "    <tr>\n",
       "      <td>726</td>\n",
       "      <td>69804</td>\n",
       "      <td>KFC</td>\n",
       "      <td>да</td>\n",
       "      <td>предприятие быстрого обслуживания</td>\n",
       "      <td>город Москва, Можайское шоссе, дом 39</td>\n",
       "      <td>98</td>\n",
       "    </tr>\n",
       "    <tr>\n",
       "      <td>853</td>\n",
       "      <td>143264</td>\n",
       "      <td>KFC</td>\n",
       "      <td>да</td>\n",
       "      <td>предприятие быстрого обслуживания</td>\n",
       "      <td>город Москва, 9-я Парковая улица, дом 30</td>\n",
       "      <td>44</td>\n",
       "    </tr>\n",
       "    <tr>\n",
       "      <td>...</td>\n",
       "      <td>...</td>\n",
       "      <td>...</td>\n",
       "      <td>...</td>\n",
       "      <td>...</td>\n",
       "      <td>...</td>\n",
       "      <td>...</td>\n",
       "    </tr>\n",
       "    <tr>\n",
       "      <td>15243</td>\n",
       "      <td>205439</td>\n",
       "      <td>KFC</td>\n",
       "      <td>да</td>\n",
       "      <td>предприятие быстрого обслуживания</td>\n",
       "      <td>город Москва, улица Ленинская Слобода, дом 26,...</td>\n",
       "      <td>30</td>\n",
       "    </tr>\n",
       "    <tr>\n",
       "      <td>15244</td>\n",
       "      <td>210743</td>\n",
       "      <td>KFC</td>\n",
       "      <td>да</td>\n",
       "      <td>предприятие быстрого обслуживания</td>\n",
       "      <td>город Москва, город Московский, улица Хабарова...</td>\n",
       "      <td>0</td>\n",
       "    </tr>\n",
       "    <tr>\n",
       "      <td>15245</td>\n",
       "      <td>205607</td>\n",
       "      <td>KFC</td>\n",
       "      <td>да</td>\n",
       "      <td>предприятие быстрого обслуживания</td>\n",
       "      <td>город Москва, поселение Московский, Киевское ш...</td>\n",
       "      <td>30</td>\n",
       "    </tr>\n",
       "    <tr>\n",
       "      <td>15246</td>\n",
       "      <td>214867</td>\n",
       "      <td>KFC</td>\n",
       "      <td>да</td>\n",
       "      <td>кафе</td>\n",
       "      <td>город Москва, Кутузовский проспект, дом 57</td>\n",
       "      <td>0</td>\n",
       "    </tr>\n",
       "    <tr>\n",
       "      <td>15247</td>\n",
       "      <td>212702</td>\n",
       "      <td>KFC</td>\n",
       "      <td>да</td>\n",
       "      <td>кафе</td>\n",
       "      <td>город Москва, поселение Воскресенское, Чечёрск...</td>\n",
       "      <td>8</td>\n",
       "    </tr>\n",
       "  </tbody>\n",
       "</table>\n",
       "<p>155 rows × 6 columns</p>\n",
       "</div>"
      ],
      "text/plain": [
       "           id object_name chain                        object_type  \\\n",
       "142     26142         KFC    да                           ресторан   \n",
       "301     24242         KFC    да                           ресторан   \n",
       "339     72728         KFC    да                           ресторан   \n",
       "726     69804         KFC    да  предприятие быстрого обслуживания   \n",
       "853    143264         KFC    да  предприятие быстрого обслуживания   \n",
       "...       ...         ...   ...                                ...   \n",
       "15243  205439         KFC    да  предприятие быстрого обслуживания   \n",
       "15244  210743         KFC    да  предприятие быстрого обслуживания   \n",
       "15245  205607         KFC    да  предприятие быстрого обслуживания   \n",
       "15246  214867         KFC    да                               кафе   \n",
       "15247  212702         KFC    да                               кафе   \n",
       "\n",
       "                                                 address  number  \n",
       "142                город Москва, Бутырская улица, дом 89      67  \n",
       "301        город Москва, улица Грузинский Вал, дом 28/45      40  \n",
       "339     город Москва, Дубнинская улица, дом 30, корпус 1      70  \n",
       "726                город Москва, Можайское шоссе, дом 39      98  \n",
       "853             город Москва, 9-я Парковая улица, дом 30      44  \n",
       "...                                                  ...     ...  \n",
       "15243  город Москва, улица Ленинская Слобода, дом 26,...      30  \n",
       "15244  город Москва, город Московский, улица Хабарова...       0  \n",
       "15245  город Москва, поселение Московский, Киевское ш...      30  \n",
       "15246         город Москва, Кутузовский проспект, дом 57       0  \n",
       "15247  город Москва, поселение Воскресенское, Чечёрск...       8  \n",
       "\n",
       "[155 rows x 6 columns]"
      ]
     },
     "execution_count": 23,
     "metadata": {},
     "output_type": "execute_result"
    }
   ],
   "source": [
    "df_chain_kfc = df_chain[df_chain['object_name'] == 'KFC']\n",
    "df_chain_kfc"
   ]
  },
  {
   "cell_type": "code",
   "execution_count": 24,
   "metadata": {},
   "outputs": [
    {
     "data": {
      "text/html": [
       "<div>\n",
       "<style scoped>\n",
       "    .dataframe tbody tr th:only-of-type {\n",
       "        vertical-align: middle;\n",
       "    }\n",
       "\n",
       "    .dataframe tbody tr th {\n",
       "        vertical-align: top;\n",
       "    }\n",
       "\n",
       "    .dataframe thead tr th {\n",
       "        text-align: left;\n",
       "    }\n",
       "\n",
       "    .dataframe thead tr:last-of-type th {\n",
       "        text-align: right;\n",
       "    }\n",
       "</style>\n",
       "<table border=\"1\" class=\"dataframe\">\n",
       "  <thead>\n",
       "    <tr>\n",
       "      <th></th>\n",
       "      <th>object_type</th>\n",
       "      <th>number</th>\n",
       "    </tr>\n",
       "    <tr>\n",
       "      <th></th>\n",
       "      <th>count</th>\n",
       "      <th>median</th>\n",
       "    </tr>\n",
       "    <tr>\n",
       "      <th>object_type</th>\n",
       "      <th></th>\n",
       "      <th></th>\n",
       "    </tr>\n",
       "  </thead>\n",
       "  <tbody>\n",
       "    <tr>\n",
       "      <td>кафе</td>\n",
       "      <td>26</td>\n",
       "      <td>35</td>\n",
       "    </tr>\n",
       "    <tr>\n",
       "      <td>предприятие быстрого обслуживания</td>\n",
       "      <td>99</td>\n",
       "      <td>50</td>\n",
       "    </tr>\n",
       "    <tr>\n",
       "      <td>ресторан</td>\n",
       "      <td>30</td>\n",
       "      <td>40</td>\n",
       "    </tr>\n",
       "  </tbody>\n",
       "</table>\n",
       "</div>"
      ],
      "text/plain": [
       "                                  object_type number\n",
       "                                        count median\n",
       "object_type                                         \n",
       "кафе                                       26     35\n",
       "предприятие быстрого обслуживания          99     50\n",
       "ресторан                                   30     40"
      ]
     },
     "execution_count": 24,
     "metadata": {},
     "output_type": "execute_result"
    }
   ],
   "source": [
    "df_chain_kfc.groupby('object_type').agg({'object_type':['count'], 'number':['median']})"
   ]
  },
  {
   "cell_type": "markdown",
   "metadata": {},
   "source": [
    "     Мы видим, что у одной сети может быть несколько видов объектов общественного питания.\n",
    "    \n",
    "    * Так в сети KFC 63.9% - это предприятия быстрого обслуживания со средним количеством\n",
    "    посадочных мест - 50 шт. \n",
    "    * На втором месте рестораны - 19,4% со средним количеством посадочных мест - 40 шт.\n",
    "    * И на третьем месте кафе - 16,8% со средним количеством посадочных мест - 35 шт.   \n",
    "    \n",
    "    Посмотрим, характерно ли это для других сетей, на примере второй по размерам сети -\n",
    "    \"Шоколадница\" "
   ]
  },
  {
   "cell_type": "code",
   "execution_count": 25,
   "metadata": {},
   "outputs": [
    {
     "data": {
      "text/html": [
       "<div>\n",
       "<style scoped>\n",
       "    .dataframe tbody tr th:only-of-type {\n",
       "        vertical-align: middle;\n",
       "    }\n",
       "\n",
       "    .dataframe tbody tr th {\n",
       "        vertical-align: top;\n",
       "    }\n",
       "\n",
       "    .dataframe thead tr th {\n",
       "        text-align: left;\n",
       "    }\n",
       "\n",
       "    .dataframe thead tr:last-of-type th {\n",
       "        text-align: right;\n",
       "    }\n",
       "</style>\n",
       "<table border=\"1\" class=\"dataframe\">\n",
       "  <thead>\n",
       "    <tr>\n",
       "      <th></th>\n",
       "      <th>object_type</th>\n",
       "      <th>number</th>\n",
       "    </tr>\n",
       "    <tr>\n",
       "      <th></th>\n",
       "      <th>count</th>\n",
       "      <th>median</th>\n",
       "    </tr>\n",
       "    <tr>\n",
       "      <th>object_type</th>\n",
       "      <th></th>\n",
       "      <th></th>\n",
       "    </tr>\n",
       "  </thead>\n",
       "  <tbody>\n",
       "    <tr>\n",
       "      <td>бар</td>\n",
       "      <td>1</td>\n",
       "      <td>150</td>\n",
       "    </tr>\n",
       "    <tr>\n",
       "      <td>кафе</td>\n",
       "      <td>134</td>\n",
       "      <td>50</td>\n",
       "    </tr>\n",
       "    <tr>\n",
       "      <td>предприятие быстрого обслуживания</td>\n",
       "      <td>1</td>\n",
       "      <td>40</td>\n",
       "    </tr>\n",
       "    <tr>\n",
       "      <td>ресторан</td>\n",
       "      <td>5</td>\n",
       "      <td>72</td>\n",
       "    </tr>\n",
       "  </tbody>\n",
       "</table>\n",
       "</div>"
      ],
      "text/plain": [
       "                                  object_type number\n",
       "                                        count median\n",
       "object_type                                         \n",
       "бар                                         1    150\n",
       "кафе                                      134     50\n",
       "предприятие быстрого обслуживания           1     40\n",
       "ресторан                                    5     72"
      ]
     },
     "execution_count": 25,
     "metadata": {},
     "output_type": "execute_result"
    }
   ],
   "source": [
    "df_chain_chocolate = df_chain[df_chain['object_name'] == 'Шоколадница']\n",
    "df_chain_chocolate.groupby('object_type').agg({'object_type':['count'], 'number':['median']})"
   ]
  },
  {
   "cell_type": "markdown",
   "metadata": {},
   "source": [
    "    Мы видим, что у второй сети 4 вида объектов общественного питания.\n",
    "    Основной вид кафе. От вида объекта также зависит количество посадочных мест."
   ]
  },
  {
   "cell_type": "markdown",
   "metadata": {},
   "source": [
    "**Взаимосвязь между количестовом заведений в сети и количеством посадочных мест**"
   ]
  },
  {
   "cell_type": "markdown",
   "metadata": {},
   "source": [
    "    Посмотрим есть ли взаимосвязь между количестовом заведений в сети и количеством посадочных\n",
    "    мест в этих заведениях"
   ]
  },
  {
   "cell_type": "code",
   "execution_count": 26,
   "metadata": {},
   "outputs": [],
   "source": [
    "cor_chain = df_chain.groupby('object_name').agg({'id':['count'], 'number':['median']})"
   ]
  },
  {
   "cell_type": "code",
   "execution_count": 27,
   "metadata": {},
   "outputs": [
    {
     "data": {
      "text/plain": [
       "(0, 20)"
      ]
     },
     "execution_count": 27,
     "metadata": {},
     "output_type": "execute_result"
    },
    {
     "data": {
      "image/png": "[encoded data removed]",
      "text/plain": [
       "<Figure size 432x432 with 3 Axes>"
      ]
     },
     "metadata": {
      "needs_background": "light"
     },
     "output_type": "display_data"
    }
   ],
   "source": [
    "sns.jointplot(x=\"number\", y=\"id\", data=cor_chain, kind='reg', color='#216353')\n",
    "plt.ylim(0, 20)"
   ]
  },
  {
   "cell_type": "markdown",
   "metadata": {},
   "source": [
    "    Получили отрицательную линейную корреляцию.\n",
    "    Чем меньше завидений в сети, тем больше в них посадочных мест и наоборот,\n",
    "    чем больше заведений в сети, тем меньше посадочных мест."
   ]
  },
  {
   "cell_type": "markdown",
   "metadata": {},
   "source": [
    "### 2.5.  Cреднее количество посадочных мест для каждого вида объекта общественного питания.<a class=\"anchor\" id=\"2-5-bullet\"></a>  "
   ]
  },
  {
   "cell_type": "code",
   "execution_count": 28,
   "metadata": {},
   "outputs": [
    {
     "data": {
      "text/html": [
       "<div>\n",
       "<style scoped>\n",
       "    .dataframe tbody tr th:only-of-type {\n",
       "        vertical-align: middle;\n",
       "    }\n",
       "\n",
       "    .dataframe tbody tr th {\n",
       "        vertical-align: top;\n",
       "    }\n",
       "\n",
       "    .dataframe thead th {\n",
       "        text-align: right;\n",
       "    }\n",
       "</style>\n",
       "<table border=\"1\" class=\"dataframe\">\n",
       "  <thead>\n",
       "    <tr style=\"text-align: right;\">\n",
       "      <th></th>\n",
       "      <th>number</th>\n",
       "    </tr>\n",
       "    <tr>\n",
       "      <th>object_type</th>\n",
       "      <th></th>\n",
       "    </tr>\n",
       "  </thead>\n",
       "  <tbody>\n",
       "    <tr>\n",
       "      <td>столовая</td>\n",
       "      <td>103</td>\n",
       "    </tr>\n",
       "    <tr>\n",
       "      <td>ресторан</td>\n",
       "      <td>80</td>\n",
       "    </tr>\n",
       "    <tr>\n",
       "      <td>бар</td>\n",
       "      <td>35</td>\n",
       "    </tr>\n",
       "    <tr>\n",
       "      <td>буфет</td>\n",
       "      <td>32</td>\n",
       "    </tr>\n",
       "    <tr>\n",
       "      <td>кафе</td>\n",
       "      <td>30</td>\n",
       "    </tr>\n",
       "    <tr>\n",
       "      <td>кафетерий</td>\n",
       "      <td>6</td>\n",
       "    </tr>\n",
       "    <tr>\n",
       "      <td>предприятие быстрого обслуживания</td>\n",
       "      <td>5</td>\n",
       "    </tr>\n",
       "    <tr>\n",
       "      <td>закусочная</td>\n",
       "      <td>0</td>\n",
       "    </tr>\n",
       "    <tr>\n",
       "      <td>магазин (отдел кулинарии)</td>\n",
       "      <td>0</td>\n",
       "    </tr>\n",
       "  </tbody>\n",
       "</table>\n",
       "</div>"
      ],
      "text/plain": [
       "                                   number\n",
       "object_type                              \n",
       "столовая                              103\n",
       "ресторан                               80\n",
       "бар                                    35\n",
       "буфет                                  32\n",
       "кафе                                   30\n",
       "кафетерий                               6\n",
       "предприятие быстрого обслуживания       5\n",
       "закусочная                              0\n",
       "магазин (отдел кулинарии)               0"
      ]
     },
     "execution_count": 28,
     "metadata": {},
     "output_type": "execute_result"
    }
   ],
   "source": [
    "df_rest_data.pivot_table(index='object_type', values='number', aggfunc='median').round().sort_values(by='number', ascending=False)  "
   ]
  },
  {
   "cell_type": "code",
   "execution_count": 29,
   "metadata": {},
   "outputs": [
    {
     "data": {
      "text/plain": [
       "Text(0.5, 1.0, 'Cреднее количество посадочных мест для каждого вида объекта общественного питания')"
      ]
     },
     "execution_count": 29,
     "metadata": {},
     "output_type": "execute_result"
    },
    {
     "data": {
      "image/png": "[encoded data removed]",
      "text/plain": [
       "<Figure size 720x432 with 1 Axes>"
      ]
     },
     "metadata": {
      "needs_background": "light"
     },
     "output_type": "display_data"
    }
   ],
   "source": [
    "df_rest_data.pivot_table(index='object_type', values='number', aggfunc='mean').round().sort_values(by='number', ascending=False).plot(kind='bar', grid=True, figsize=(10, 6), color='#216353')\n",
    "plt.xticks(rotation=70)\n",
    "plt.title('Cреднее количество посадочных мест для каждого вида объекта общественного питания')"
   ]
  },
  {
   "cell_type": "code",
   "execution_count": 30,
   "metadata": {},
   "outputs": [
    {
     "data": {
      "text/plain": [
       "Text(0.5, 1.0, 'Cреднее количество посадочных мест для каждого вида объекта общественного питания')"
      ]
     },
     "execution_count": 30,
     "metadata": {},
     "output_type": "execute_result"
    },
    {
     "data": {
      "image/png": "[encoded data removed]",
      "text/plain": [
       "<Figure size 1008x432 with 1 Axes>"
      ]
     },
     "metadata": {
      "needs_background": "light"
     },
     "output_type": "display_data"
    }
   ],
   "source": [
    "plt.figure(figsize=(14,6))\n",
    "sns.boxplot(x=\"object_type\", y=\"number\", data=df_rest_data, palette='rainbow')\n",
    "plt.ylim(-10, 210)\n",
    "plt.xticks(rotation=80)\n",
    "plt.title('Cреднее количество посадочных мест для каждого вида объекта общественного питания')\n"
   ]
  },
  {
   "cell_type": "markdown",
   "metadata": {},
   "source": [
    "**Cтоловая** представляет в среднем самое большое количество посадочных мест - 103 шт. \n",
    "По графику boxplot видим, что у 25% столовых (нижний квартиль) посадочных мест около 50 шт. \n",
    "Верхний квартиль - около 200 шт посадочных мест.\n",
    "    \n",
    "На втором месте **рестораны**. В среднем в ресторане 80 посадочных мест.\n",
    "По графику boxplot видим, что у 25% ресторанов (нижний квартиль) посадочных мест около 45 шт. \n",
    "Верхний квартиль - около 120 шт посадочных мест. \n",
    "    \n",
    "На третьем месте идет следующая группа: **бар, буфет, кафе**. В этих заведениях в среднем около 30-35 посадочных мест. По графику boxplot видим, что у 25% заведений этой группы (нижний квартиль) посадочных мест около 20 шт. \n",
    "Отличие в верхнем квартиле. Если для кафе и баров верхний квартель  - около 50 шт посадочных мест, то у буфета он выше - около 80.\n",
    "    \n",
    "Последняя группа: **кафетерий, предприятие быстрого обслуживания, закусочная, магазин (отдел кулинарии)**. Для нее характерны минимальные количества посадочных мест.  По графику boxplot видим, что у заведений этой группы нижний квартиль- 0 посадочных мест. Верхний квартиль у кафетерия, закусочной и магазина (отдел кулинарии) не привышает 13 пасадочных мест, у предприятие быстрого обслуживания - 25 посадочных мест. Среднее значение для этой группы от 0 до 5.      \n",
    "    \n",
    "    \n"
   ]
  },
  {
   "cell_type": "markdown",
   "metadata": {},
   "source": [
    "### 2.6. Выделите в отдельный столбец информацию об улице из столбца address<a class=\"anchor\" id=\"2-6-bullet\"></a>"
   ]
  },
  {
   "cell_type": "code",
   "execution_count": 31,
   "metadata": {},
   "outputs": [],
   "source": [
    "df_rest_data['street'] = ''\n",
    "def streets(row):\n",
    "    address = row[4]\n",
    "    address = address.split(', ')\n",
    "    street = address[1]\n",
    "    if  (((street.count('поселение') > 0) | \n",
    "          (street.count('поселок') > 0) |\n",
    "          (street.count('деревня') > 0) |\n",
    "          (street.count('город') > 0)) & \n",
    "         (len(address)>2)):\n",
    "        address[1] = address[2]\n",
    "    row[6] = address[1]\n",
    "    return row"
   ]
  },
  {
   "cell_type": "code",
   "execution_count": 32,
   "metadata": {},
   "outputs": [],
   "source": [
    "df_rest_data = df_rest_data.apply(streets, axis=1)"
   ]
  },
  {
   "cell_type": "code",
   "execution_count": 33,
   "metadata": {},
   "outputs": [
    {
     "data": {
      "text/html": [
       "<div>\n",
       "<style scoped>\n",
       "    .dataframe tbody tr th:only-of-type {\n",
       "        vertical-align: middle;\n",
       "    }\n",
       "\n",
       "    .dataframe tbody tr th {\n",
       "        vertical-align: top;\n",
       "    }\n",
       "\n",
       "    .dataframe thead th {\n",
       "        text-align: right;\n",
       "    }\n",
       "</style>\n",
       "<table border=\"1\" class=\"dataframe\">\n",
       "  <thead>\n",
       "    <tr style=\"text-align: right;\">\n",
       "      <th></th>\n",
       "      <th>id</th>\n",
       "      <th>object_name</th>\n",
       "      <th>chain</th>\n",
       "      <th>object_type</th>\n",
       "      <th>address</th>\n",
       "      <th>number</th>\n",
       "      <th>street</th>\n",
       "    </tr>\n",
       "  </thead>\n",
       "  <tbody>\n",
       "    <tr>\n",
       "      <td>0</td>\n",
       "      <td>151635</td>\n",
       "      <td>СМЕТАНА</td>\n",
       "      <td>нет</td>\n",
       "      <td>кафе</td>\n",
       "      <td>город Москва, улица Егора Абакумова, дом 9</td>\n",
       "      <td>48</td>\n",
       "      <td>улица Егора Абакумова</td>\n",
       "    </tr>\n",
       "    <tr>\n",
       "      <td>1</td>\n",
       "      <td>77874</td>\n",
       "      <td>Родник</td>\n",
       "      <td>нет</td>\n",
       "      <td>кафе</td>\n",
       "      <td>город Москва, улица Талалихина, дом 2/1, корпус 1</td>\n",
       "      <td>35</td>\n",
       "      <td>улица Талалихина</td>\n",
       "    </tr>\n",
       "    <tr>\n",
       "      <td>2</td>\n",
       "      <td>24309</td>\n",
       "      <td>Кафе «Академия»</td>\n",
       "      <td>нет</td>\n",
       "      <td>кафе</td>\n",
       "      <td>город Москва, Абельмановская улица, дом 6</td>\n",
       "      <td>95</td>\n",
       "      <td>Абельмановская улица</td>\n",
       "    </tr>\n",
       "    <tr>\n",
       "      <td>3</td>\n",
       "      <td>21894</td>\n",
       "      <td>ПИЦЦЕТОРИЯ</td>\n",
       "      <td>да</td>\n",
       "      <td>кафе</td>\n",
       "      <td>город Москва, Абрамцевская улица, дом 1</td>\n",
       "      <td>40</td>\n",
       "      <td>Абрамцевская улица</td>\n",
       "    </tr>\n",
       "    <tr>\n",
       "      <td>4</td>\n",
       "      <td>119365</td>\n",
       "      <td>Кафе «Вишневая метель»</td>\n",
       "      <td>нет</td>\n",
       "      <td>кафе</td>\n",
       "      <td>город Москва, Абрамцевская улица, дом 9, корпус 1</td>\n",
       "      <td>50</td>\n",
       "      <td>Абрамцевская улица</td>\n",
       "    </tr>\n",
       "  </tbody>\n",
       "</table>\n",
       "</div>"
      ],
      "text/plain": [
       "       id             object_name chain object_type  \\\n",
       "0  151635                 СМЕТАНА   нет        кафе   \n",
       "1   77874                  Родник   нет        кафе   \n",
       "2   24309         Кафе «Академия»   нет        кафе   \n",
       "3   21894              ПИЦЦЕТОРИЯ    да        кафе   \n",
       "4  119365  Кафе «Вишневая метель»   нет        кафе   \n",
       "\n",
       "                                             address  number  \\\n",
       "0         город Москва, улица Егора Абакумова, дом 9      48   \n",
       "1  город Москва, улица Талалихина, дом 2/1, корпус 1      35   \n",
       "2          город Москва, Абельмановская улица, дом 6      95   \n",
       "3            город Москва, Абрамцевская улица, дом 1      40   \n",
       "4  город Москва, Абрамцевская улица, дом 9, корпус 1      50   \n",
       "\n",
       "                  street  \n",
       "0  улица Егора Абакумова  \n",
       "1       улица Талалихина  \n",
       "2   Абельмановская улица  \n",
       "3     Абрамцевская улица  \n",
       "4     Абрамцевская улица  "
      ]
     },
     "execution_count": 33,
     "metadata": {},
     "output_type": "execute_result"
    }
   ],
   "source": [
    "df_rest_data.head(5)"
   ]
  },
  {
   "cell_type": "markdown",
   "metadata": {},
   "source": [
    "    Загрузим таблицу с улицами, районами и административными округами Москвы,\n",
    "    объединим ее с датафреймом ресторанов."
   ]
  },
  {
   "cell_type": "code",
   "execution_count": 34,
   "metadata": {},
   "outputs": [],
   "source": [
    "region_moscow = pd.read_excel('region_moscow.xlsx')"
   ]
  },
  {
   "cell_type": "code",
   "execution_count": 35,
   "metadata": {},
   "outputs": [
    {
     "data": {
      "text/html": [
       "<div>\n",
       "<style scoped>\n",
       "    .dataframe tbody tr th:only-of-type {\n",
       "        vertical-align: middle;\n",
       "    }\n",
       "\n",
       "    .dataframe tbody tr th {\n",
       "        vertical-align: top;\n",
       "    }\n",
       "\n",
       "    .dataframe thead th {\n",
       "        text-align: right;\n",
       "    }\n",
       "</style>\n",
       "<table border=\"1\" class=\"dataframe\">\n",
       "  <thead>\n",
       "    <tr style=\"text-align: right;\">\n",
       "      <th></th>\n",
       "      <th>street</th>\n",
       "      <th>district</th>\n",
       "      <th>quantity_district</th>\n",
       "      <th>region</th>\n",
       "      <th>quantity_region</th>\n",
       "    </tr>\n",
       "  </thead>\n",
       "  <tbody>\n",
       "    <tr>\n",
       "      <td>0</td>\n",
       "      <td>проспект Мира</td>\n",
       "      <td>Северо-Восточный, Центральный</td>\n",
       "      <td>2</td>\n",
       "      <td>Алексеевский, Марьина роща, Мещанский, Останк...</td>\n",
       "      <td>7</td>\n",
       "    </tr>\n",
       "    <tr>\n",
       "      <td>1</td>\n",
       "      <td>Профсоюзная улица</td>\n",
       "      <td>Юго-Западный</td>\n",
       "      <td>1</td>\n",
       "      <td>Академический, Коньково, Обручевский, Тёплый С...</td>\n",
       "      <td>6</td>\n",
       "    </tr>\n",
       "    <tr>\n",
       "      <td>2</td>\n",
       "      <td>Ленинградский проспект</td>\n",
       "      <td>Северный</td>\n",
       "      <td>1</td>\n",
       "      <td>Аэропорт, Беговой, Сокол, Хорошёвский</td>\n",
       "      <td>4</td>\n",
       "    </tr>\n",
       "    <tr>\n",
       "      <td>3</td>\n",
       "      <td>Пресненская набережная</td>\n",
       "      <td>Центральный</td>\n",
       "      <td>1</td>\n",
       "      <td>Пресненский</td>\n",
       "      <td>1</td>\n",
       "    </tr>\n",
       "    <tr>\n",
       "      <td>4</td>\n",
       "      <td>Варшавское шоссе</td>\n",
       "      <td>Юго-Западный</td>\n",
       "      <td>1</td>\n",
       "      <td>Северное Бутово, Южное Бутово, Донской, Нагат...</td>\n",
       "      <td>8</td>\n",
       "    </tr>\n",
       "  </tbody>\n",
       "</table>\n",
       "</div>"
      ],
      "text/plain": [
       "                   street                         district  quantity_district  \\\n",
       "0           проспект Мира   Северо-Восточный, Центральный                   2   \n",
       "1       Профсоюзная улица                     Юго-Западный                  1   \n",
       "2  Ленинградский проспект                         Северный                  1   \n",
       "3  Пресненская набережная                      Центральный                  1   \n",
       "4        Варшавское шоссе                     Юго-Западный                  1   \n",
       "\n",
       "                                              region  quantity_region  \n",
       "0   Алексеевский, Марьина роща, Мещанский, Останк...                7  \n",
       "1  Академический, Коньково, Обручевский, Тёплый С...                6  \n",
       "2              Аэропорт, Беговой, Сокол, Хорошёвский                4  \n",
       "3                                        Пресненский                1  \n",
       "4   Северное Бутово, Южное Бутово, Донской, Нагат...                8  "
      ]
     },
     "execution_count": 35,
     "metadata": {},
     "output_type": "execute_result"
    }
   ],
   "source": [
    "region_moscow.head()"
   ]
  },
  {
   "cell_type": "code",
   "execution_count": 36,
   "metadata": {},
   "outputs": [
    {
     "data": {
      "text/html": [
       "<div>\n",
       "<style scoped>\n",
       "    .dataframe tbody tr th:only-of-type {\n",
       "        vertical-align: middle;\n",
       "    }\n",
       "\n",
       "    .dataframe tbody tr th {\n",
       "        vertical-align: top;\n",
       "    }\n",
       "\n",
       "    .dataframe thead th {\n",
       "        text-align: right;\n",
       "    }\n",
       "</style>\n",
       "<table border=\"1\" class=\"dataframe\">\n",
       "  <thead>\n",
       "    <tr style=\"text-align: right;\">\n",
       "      <th></th>\n",
       "      <th>id</th>\n",
       "      <th>object_name</th>\n",
       "      <th>chain</th>\n",
       "      <th>object_type</th>\n",
       "      <th>address</th>\n",
       "      <th>number</th>\n",
       "      <th>street</th>\n",
       "      <th>district</th>\n",
       "      <th>quantity_district</th>\n",
       "      <th>region</th>\n",
       "      <th>quantity_region</th>\n",
       "    </tr>\n",
       "  </thead>\n",
       "  <tbody>\n",
       "    <tr>\n",
       "      <td>0</td>\n",
       "      <td>22139</td>\n",
       "      <td>ХуанХэ</td>\n",
       "      <td>нет</td>\n",
       "      <td>ресторан</td>\n",
       "      <td>город Москва, 1-й Балтийский переулок, дом 3/25</td>\n",
       "      <td>60</td>\n",
       "      <td>1-й Балтийский переулок</td>\n",
       "      <td>Северный</td>\n",
       "      <td>1</td>\n",
       "      <td>Аэропорт</td>\n",
       "      <td>1</td>\n",
       "    </tr>\n",
       "    <tr>\n",
       "      <td>1</td>\n",
       "      <td>25833</td>\n",
       "      <td>АЗЕРБАЙДЖАН</td>\n",
       "      <td>нет</td>\n",
       "      <td>ресторан</td>\n",
       "      <td>город Москва, улица Демьяна Бедного, дом 4</td>\n",
       "      <td>180</td>\n",
       "      <td>улица Демьяна Бедного</td>\n",
       "      <td>Северо-Западный</td>\n",
       "      <td>1</td>\n",
       "      <td>Хорошёво-Мневники</td>\n",
       "      <td>1</td>\n",
       "    </tr>\n",
       "    <tr>\n",
       "      <td>2</td>\n",
       "      <td>155973</td>\n",
       "      <td>Кафе «Андерсон»</td>\n",
       "      <td>да</td>\n",
       "      <td>кафе</td>\n",
       "      <td>город Москва, Варшавское шоссе, дом 2</td>\n",
       "      <td>150</td>\n",
       "      <td>Варшавское шоссе</td>\n",
       "      <td>Юго-Западный</td>\n",
       "      <td>1</td>\n",
       "      <td>Северное Бутово, Южное Бутово, Донской, Нагат...</td>\n",
       "      <td>8</td>\n",
       "    </tr>\n",
       "    <tr>\n",
       "      <td>3</td>\n",
       "      <td>23618</td>\n",
       "      <td>Кафе «Subway»</td>\n",
       "      <td>да</td>\n",
       "      <td>кафе</td>\n",
       "      <td>город Москва, Варшавское шоссе, дом 7, корпус 1</td>\n",
       "      <td>36</td>\n",
       "      <td>Варшавское шоссе</td>\n",
       "      <td>Юго-Западный</td>\n",
       "      <td>1</td>\n",
       "      <td>Северное Бутово, Южное Бутово, Донской, Нагат...</td>\n",
       "      <td>8</td>\n",
       "    </tr>\n",
       "    <tr>\n",
       "      <td>4</td>\n",
       "      <td>155852</td>\n",
       "      <td>Кафе «Ламаджо»</td>\n",
       "      <td>нет</td>\n",
       "      <td>кафе</td>\n",
       "      <td>город Москва, Варшавское шоссе, дом 29</td>\n",
       "      <td>30</td>\n",
       "      <td>Варшавское шоссе</td>\n",
       "      <td>Юго-Западный</td>\n",
       "      <td>1</td>\n",
       "      <td>Северное Бутово, Южное Бутово, Донской, Нагат...</td>\n",
       "      <td>8</td>\n",
       "    </tr>\n",
       "  </tbody>\n",
       "</table>\n",
       "</div>"
      ],
      "text/plain": [
       "       id      object_name chain object_type  \\\n",
       "0   22139           ХуанХэ   нет    ресторан   \n",
       "1   25833      АЗЕРБАЙДЖАН   нет    ресторан   \n",
       "2  155973  Кафе «Андерсон»    да        кафе   \n",
       "3   23618    Кафе «Subway»    да        кафе   \n",
       "4  155852   Кафе «Ламаджо»   нет        кафе   \n",
       "\n",
       "                                           address  number  \\\n",
       "0  город Москва, 1-й Балтийский переулок, дом 3/25      60   \n",
       "1       город Москва, улица Демьяна Бедного, дом 4     180   \n",
       "2            город Москва, Варшавское шоссе, дом 2     150   \n",
       "3  город Москва, Варшавское шоссе, дом 7, корпус 1      36   \n",
       "4           город Москва, Варшавское шоссе, дом 29      30   \n",
       "\n",
       "                    street         district  quantity_district  \\\n",
       "0  1-й Балтийский переулок         Северный                  1   \n",
       "1    улица Демьяна Бедного  Северо-Западный                  1   \n",
       "2         Варшавское шоссе     Юго-Западный                  1   \n",
       "3         Варшавское шоссе     Юго-Западный                  1   \n",
       "4         Варшавское шоссе     Юго-Западный                  1   \n",
       "\n",
       "                                              region  quantity_region  \n",
       "0                                           Аэропорт                1  \n",
       "1                                  Хорошёво-Мневники                1  \n",
       "2   Северное Бутово, Южное Бутово, Донской, Нагат...                8  \n",
       "3   Северное Бутово, Южное Бутово, Донской, Нагат...                8  \n",
       "4   Северное Бутово, Южное Бутово, Донской, Нагат...                8  "
      ]
     },
     "execution_count": 36,
     "metadata": {},
     "output_type": "execute_result"
    }
   ],
   "source": [
    "df_rest_data_region = df_rest_data.merge(region_moscow,on='street')\n",
    "df_rest_data_region.head()"
   ]
  },
  {
   "cell_type": "markdown",
   "metadata": {},
   "source": [
    "### 2.7. Топ-10 улиц по количеству объектов общественного питания.<a class=\"anchor\" id=\"2-7-bullet\"></a>"
   ]
  },
  {
   "cell_type": "code",
   "execution_count": 37,
   "metadata": {},
   "outputs": [
    {
     "data": {
      "text/plain": [
       "(array([0, 1, 2, 3, 4, 5, 6, 7, 8, 9]), <a list of 10 Text xticklabel objects>)"
      ]
     },
     "execution_count": 37,
     "metadata": {},
     "output_type": "execute_result"
    },
    {
     "data": {
      "image/png": "[encoded data removed]",
      "text/plain": [
       "<Figure size 720x432 with 1 Axes>"
      ]
     },
     "metadata": {
      "needs_background": "light"
     },
     "output_type": "display_data"
    }
   ],
   "source": [
    "rest_streets_top10 = df_rest_data_region.pivot_table(index='street', values='id', aggfunc='count').round().sort_values(by='id', ascending=False).head(10)\n",
    "rest_streets_top10.plot(kind='bar', grid=True, figsize=(10, 6), color='#216353')\n",
    "plt.title('Топ-10 улиц по количеству объектов общественного питания')\n",
    "plt.xticks(rotation=90)"
   ]
  },
  {
   "cell_type": "markdown",
   "metadata": {},
   "source": [
    "    Посмотрим, в каких районах Москвы находятся эти улицы"
   ]
  },
  {
   "cell_type": "code",
   "execution_count": 38,
   "metadata": {},
   "outputs": [
    {
     "data": {
      "text/html": [
       "<div>\n",
       "<style scoped>\n",
       "    .dataframe tbody tr th:only-of-type {\n",
       "        vertical-align: middle;\n",
       "    }\n",
       "\n",
       "    .dataframe tbody tr th {\n",
       "        vertical-align: top;\n",
       "    }\n",
       "\n",
       "    .dataframe thead th {\n",
       "        text-align: right;\n",
       "    }\n",
       "</style>\n",
       "<table border=\"1\" class=\"dataframe\">\n",
       "  <thead>\n",
       "    <tr style=\"text-align: right;\">\n",
       "      <th></th>\n",
       "      <th>street</th>\n",
       "      <th>quantity_region</th>\n",
       "      <th>region</th>\n",
       "      <th>id</th>\n",
       "    </tr>\n",
       "  </thead>\n",
       "  <tbody>\n",
       "    <tr>\n",
       "      <td>75</td>\n",
       "      <td>проспект Мира</td>\n",
       "      <td>7</td>\n",
       "      <td>Алексеевский, Марьина роща, Мещанский, Останкинский, Ростокино, Свиблово, Ярославский</td>\n",
       "      <td>204</td>\n",
       "    </tr>\n",
       "    <tr>\n",
       "      <td>66</td>\n",
       "      <td>Профсоюзная улица</td>\n",
       "      <td>6</td>\n",
       "      <td>Академический, Коньково, Обручевский, Тёплый Стан, Черёмушки, Ясенево</td>\n",
       "      <td>182</td>\n",
       "    </tr>\n",
       "    <tr>\n",
       "      <td>63</td>\n",
       "      <td>Ленинградский проспект</td>\n",
       "      <td>4</td>\n",
       "      <td>Аэропорт, Беговой, Сокол, Хорошёвский</td>\n",
       "      <td>171</td>\n",
       "    </tr>\n",
       "    <tr>\n",
       "      <td>65</td>\n",
       "      <td>Пресненская набережная</td>\n",
       "      <td>1</td>\n",
       "      <td>Пресненский</td>\n",
       "      <td>167</td>\n",
       "    </tr>\n",
       "    <tr>\n",
       "      <td>59</td>\n",
       "      <td>Варшавское шоссе</td>\n",
       "      <td>8</td>\n",
       "      <td>Северное Бутово, Южное Бутово, Донской, Нагатино-Садовники, Нагорный, Северное Чертаново, Центральное Чертаново, Южное Чертаново</td>\n",
       "      <td>164</td>\n",
       "    </tr>\n",
       "    <tr>\n",
       "      <td>64</td>\n",
       "      <td>Ленинский проспект</td>\n",
       "      <td>8</td>\n",
       "      <td>Гагаринский, Донской, Ломоносовский, Обручевский, Проспект Вернадского, Тёплый Стан, Тропарёво-Никулино, Якиманка</td>\n",
       "      <td>147</td>\n",
       "    </tr>\n",
       "    <tr>\n",
       "      <td>74</td>\n",
       "      <td>проспект Вернадского</td>\n",
       "      <td>5</td>\n",
       "      <td>Гагаринский, Ломоносовский, Проспект Вернадского, Раменки, Тропарёво-Никулино</td>\n",
       "      <td>132</td>\n",
       "    </tr>\n",
       "    <tr>\n",
       "      <td>62</td>\n",
       "      <td>Кутузовский проспект</td>\n",
       "      <td>2</td>\n",
       "      <td>Дорогомилово, Фили-Давыдково</td>\n",
       "      <td>114</td>\n",
       "    </tr>\n",
       "    <tr>\n",
       "      <td>60</td>\n",
       "      <td>Каширское шоссе</td>\n",
       "      <td>4</td>\n",
       "      <td>Москворечье-Сабурово, Нагатино-Садовники, Северное Орехово-Борисово, Южное Орехово-Борисово</td>\n",
       "      <td>112</td>\n",
       "    </tr>\n",
       "    <tr>\n",
       "      <td>61</td>\n",
       "      <td>Кировоградская улица</td>\n",
       "      <td>3</td>\n",
       "      <td>Северное Чертаново, Центральное Чертаново, Южное Чертаново</td>\n",
       "      <td>110</td>\n",
       "    </tr>\n",
       "  </tbody>\n",
       "</table>\n",
       "</div>"
      ],
      "text/plain": [
       "                    street  quantity_region  \\\n",
       "75  проспект Мира           7                 \n",
       "66  Профсоюзная улица       6                 \n",
       "63  Ленинградский проспект  4                 \n",
       "65  Пресненская набережная  1                 \n",
       "59  Варшавское шоссе        8                 \n",
       "64  Ленинский проспект      8                 \n",
       "74  проспект Вернадского    5                 \n",
       "62  Кутузовский проспект    2                 \n",
       "60  Каширское шоссе         4                 \n",
       "61  Кировоградская улица    3                 \n",
       "\n",
       "                                                                                                                                region  \\\n",
       "75   Алексеевский, Марьина роща, Мещанский, Останкинский, Ростокино, Свиблово, Ярославский                                               \n",
       "66  Академический, Коньково, Обручевский, Тёплый Стан, Черёмушки, Ясенево                                                                \n",
       "63   Аэропорт, Беговой, Сокол, Хорошёвский                                                                                               \n",
       "65  Пресненский                                                                                                                          \n",
       "59   Северное Бутово, Южное Бутово, Донской, Нагатино-Садовники, Нагорный, Северное Чертаново, Центральное Чертаново, Южное Чертаново    \n",
       "64  Гагаринский, Донской, Ломоносовский, Обручевский, Проспект Вернадского, Тёплый Стан, Тропарёво-Никулино, Якиманка                    \n",
       "74  Гагаринский, Ломоносовский, Проспект Вернадского, Раменки, Тропарёво-Никулино                                                        \n",
       "62  Дорогомилово, Фили-Давыдково                                                                                                         \n",
       "60  Москворечье-Сабурово, Нагатино-Садовники, Северное Орехово-Борисово, Южное Орехово-Борисово                                          \n",
       "61   Северное Чертаново, Центральное Чертаново, Южное Чертаново                                                                          \n",
       "\n",
       "     id  \n",
       "75  204  \n",
       "66  182  \n",
       "63  171  \n",
       "65  167  \n",
       "59  164  \n",
       "64  147  \n",
       "74  132  \n",
       "62  114  \n",
       "60  112  \n",
       "61  110  "
      ]
     },
     "execution_count": 38,
     "metadata": {},
     "output_type": "execute_result"
    }
   ],
   "source": [
    "rest_streets = df_rest_data_region.groupby(['street', 'quantity_region', 'region'])['id'].count().reset_index().sort_values(by='id', ascending=False)\n",
    "pd.set_option('display.max_colwidth', -1)\n",
    "rest_streets.head(10)"
   ]
  },
  {
   "cell_type": "markdown",
   "metadata": {},
   "source": [
    "    Улицы, на которых больше остальных располагаются объекты общественного питания,\n",
    "    проходят через несколько районов Москвы. Варшавское шоссе и Ленинский проспект\n",
    "    растягиваются на 8 районов, проспект Мира на 7 районов. Исключение составляет только\n",
    "    Пресненская набережная - находится в одном районе. Соответственно у данных улиц большая\n",
    "    протяженность, что объясняет большое количество заведений, расположенных на них.    "
   ]
  },
  {
   "cell_type": "markdown",
   "metadata": {},
   "source": [
    "### 2.8. Распределение количества посадочных мест для улиц с большим количеством объектов общественного питания<a class=\"anchor\" id=\"2-8-bullet\"></a>"
   ]
  },
  {
   "cell_type": "code",
   "execution_count": 39,
   "metadata": {},
   "outputs": [],
   "source": [
    "top_10_streets_list = ['проспект Мира', 'Профсоюзная улица', 'Ленинградский проспект', 'Пресненская набережная', 'Варшавское шоссе', 'Ленинский проспект', 'проспект Вернадского', 'Кутузовский проспект', 'Каширское шоссе', 'Кировоградская улица']"
   ]
  },
  {
   "cell_type": "code",
   "execution_count": 40,
   "metadata": {},
   "outputs": [],
   "source": [
    "top_10_streets_table = df_rest_data_region.query('street in @top_10_streets_list')"
   ]
  },
  {
   "cell_type": "code",
   "execution_count": 41,
   "metadata": {},
   "outputs": [
    {
     "data": {
      "text/html": [
       "<div>\n",
       "<style scoped>\n",
       "    .dataframe tbody tr th:only-of-type {\n",
       "        vertical-align: middle;\n",
       "    }\n",
       "\n",
       "    .dataframe tbody tr th {\n",
       "        vertical-align: top;\n",
       "    }\n",
       "\n",
       "    .dataframe thead tr th {\n",
       "        text-align: left;\n",
       "    }\n",
       "\n",
       "    .dataframe thead tr:last-of-type th {\n",
       "        text-align: right;\n",
       "    }\n",
       "</style>\n",
       "<table border=\"1\" class=\"dataframe\">\n",
       "  <thead>\n",
       "    <tr>\n",
       "      <th></th>\n",
       "      <th>id</th>\n",
       "      <th>number</th>\n",
       "    </tr>\n",
       "    <tr>\n",
       "      <th></th>\n",
       "      <th>count</th>\n",
       "      <th>median</th>\n",
       "    </tr>\n",
       "    <tr>\n",
       "      <th>street</th>\n",
       "      <th></th>\n",
       "      <th></th>\n",
       "    </tr>\n",
       "  </thead>\n",
       "  <tbody>\n",
       "    <tr>\n",
       "      <td>Варшавское шоссе</td>\n",
       "      <td>164</td>\n",
       "      <td>30.0</td>\n",
       "    </tr>\n",
       "    <tr>\n",
       "      <td>Каширское шоссе</td>\n",
       "      <td>112</td>\n",
       "      <td>25.0</td>\n",
       "    </tr>\n",
       "    <tr>\n",
       "      <td>Кировоградская улица</td>\n",
       "      <td>110</td>\n",
       "      <td>30.0</td>\n",
       "    </tr>\n",
       "    <tr>\n",
       "      <td>Кутузовский проспект</td>\n",
       "      <td>114</td>\n",
       "      <td>40.0</td>\n",
       "    </tr>\n",
       "    <tr>\n",
       "      <td>Ленинградский проспект</td>\n",
       "      <td>171</td>\n",
       "      <td>40.0</td>\n",
       "    </tr>\n",
       "  </tbody>\n",
       "</table>\n",
       "</div>"
      ],
      "text/plain": [
       "                          id number\n",
       "                       count median\n",
       "street                             \n",
       "Варшавское шоссе        164   30.0 \n",
       "Каширское шоссе         112   25.0 \n",
       "Кировоградская улица    110   30.0 \n",
       "Кутузовский проспект    114   40.0 \n",
       "Ленинградский проспект  171   40.0 "
      ]
     },
     "execution_count": 41,
     "metadata": {},
     "output_type": "execute_result"
    }
   ],
   "source": [
    "cor_top_10_streets = top_10_streets_table.groupby(['street']).agg({'id':['count'], 'number':['median']})\n",
    "cor_top_10_streets.head()"
   ]
  },
  {
   "cell_type": "code",
   "execution_count": 42,
   "metadata": {},
   "outputs": [
    {
     "data": {
      "text/plain": [
       "(0, 250)"
      ]
     },
     "execution_count": 42,
     "metadata": {},
     "output_type": "execute_result"
    },
    {
     "data": {
      "image/png": "[encoded data removed]",
      "text/plain": [
       "<Figure size 432x432 with 3 Axes>"
      ]
     },
     "metadata": {
      "needs_background": "light"
     },
     "output_type": "display_data"
    }
   ],
   "source": [
    "sns.jointplot(x=\"number\", y=\"id\", data=cor_top_10_streets, kind='reg', color='#216353')\n",
    "plt.ylim(0, 250)"
   ]
  },
  {
   "cell_type": "markdown",
   "metadata": {},
   "source": [
    "    Видим не большую положительную линейную корреляцию.\n",
    "    Чем больше заведений на улице, тем больше посадочных мест в этих заведениях. "
   ]
  },
  {
   "cell_type": "markdown",
   "metadata": {},
   "source": [
    "### 2.9. Найдите число улиц с одним объектом общественного питания. В каких районах Москвы находятся эти улицы?<a class=\"anchor\" id=\"2-9-bullet\"></a>"
   ]
  },
  {
   "cell_type": "code",
   "execution_count": 43,
   "metadata": {},
   "outputs": [],
   "source": [
    "streets_one_rest = df_rest_data.groupby('street')['id'].count().reset_index()"
   ]
  },
  {
   "cell_type": "code",
   "execution_count": 44,
   "metadata": {},
   "outputs": [],
   "source": [
    "qty = streets_one_rest[streets_one_rest['id'] == 1]"
   ]
  },
  {
   "cell_type": "code",
   "execution_count": 45,
   "metadata": {},
   "outputs": [
    {
     "data": {
      "text/plain": [
       "722"
      ]
     },
     "execution_count": 45,
     "metadata": {},
     "output_type": "execute_result"
    }
   ],
   "source": [
    "qty['street'].count()"
   ]
  },
  {
   "cell_type": "markdown",
   "metadata": {},
   "source": [
    "    В датафрейме 722 улицы, на которых располагается 1 объект общественного питания.\n",
    "    Посмотрим, в каких районах они находятся. "
   ]
  },
  {
   "cell_type": "code",
   "execution_count": 46,
   "metadata": {},
   "outputs": [
    {
     "data": {
      "text/html": [
       "<div>\n",
       "<style scoped>\n",
       "    .dataframe tbody tr th:only-of-type {\n",
       "        vertical-align: middle;\n",
       "    }\n",
       "\n",
       "    .dataframe tbody tr th {\n",
       "        vertical-align: top;\n",
       "    }\n",
       "\n",
       "    .dataframe thead th {\n",
       "        text-align: right;\n",
       "    }\n",
       "</style>\n",
       "<table border=\"1\" class=\"dataframe\">\n",
       "  <thead>\n",
       "    <tr style=\"text-align: right;\">\n",
       "      <th></th>\n",
       "      <th>street</th>\n",
       "      <th>region</th>\n",
       "      <th>district</th>\n",
       "      <th>id</th>\n",
       "    </tr>\n",
       "  </thead>\n",
       "  <tbody>\n",
       "    <tr>\n",
       "      <td>0</td>\n",
       "      <td>1-й Балтийский переулок</td>\n",
       "      <td>Аэропорт</td>\n",
       "      <td>Северный</td>\n",
       "      <td>1</td>\n",
       "    </tr>\n",
       "    <tr>\n",
       "      <td>1</td>\n",
       "      <td>1-й Басманный переулок</td>\n",
       "      <td>Басманный, Красносельский</td>\n",
       "      <td>Центральный</td>\n",
       "      <td>1</td>\n",
       "    </tr>\n",
       "    <tr>\n",
       "      <td>2</td>\n",
       "      <td>1-й Ботанический проезд</td>\n",
       "      <td>Свиблово</td>\n",
       "      <td>Северо-Восточный</td>\n",
       "      <td>1</td>\n",
       "    </tr>\n",
       "    <tr>\n",
       "      <td>3</td>\n",
       "      <td>1-й Вешняковский проезд</td>\n",
       "      <td>Рязанский</td>\n",
       "      <td>Юго-Восточный</td>\n",
       "      <td>1</td>\n",
       "    </tr>\n",
       "    <tr>\n",
       "      <td>4</td>\n",
       "      <td>1-й Голутвинский переулок</td>\n",
       "      <td>Якиманка</td>\n",
       "      <td>Центральный</td>\n",
       "      <td>1</td>\n",
       "    </tr>\n",
       "  </tbody>\n",
       "</table>\n",
       "</div>"
      ],
      "text/plain": [
       "                      street                     region          district  id\n",
       "0  1-й Балтийский переулок    Аэропорт                   Северный          1 \n",
       "1  1-й Басманный переулок     Басманный, Красносельский  Центральный       1 \n",
       "2  1-й Ботанический проезд    Свиблово                   Северо-Восточный  1 \n",
       "3  1-й Вешняковский проезд    Рязанский                  Юго-Восточный     1 \n",
       "4  1-й Голутвинский переулок  Якиманка                   Центральный       1 "
      ]
     },
     "execution_count": 46,
     "metadata": {},
     "output_type": "execute_result"
    }
   ],
   "source": [
    "one_rest_streets_with_region = df_rest_data_region.groupby(['street', 'region', 'district'])['id'].count().reset_index()\n",
    "one_rest_streets_with_region = one_rest_streets_with_region[one_rest_streets_with_region['id'] == 1]\n",
    "one_rest_streets_with_region.head(5) "
   ]
  },
  {
   "cell_type": "code",
   "execution_count": 47,
   "metadata": {},
   "outputs": [
    {
     "data": {
      "text/plain": [
       "77"
      ]
     },
     "execution_count": 47,
     "metadata": {},
     "output_type": "execute_result"
    }
   ],
   "source": [
    "one_rest_streets_with_region['region'].nunique()"
   ]
  },
  {
   "cell_type": "code",
   "execution_count": 48,
   "metadata": {},
   "outputs": [
    {
     "name": "stdout",
     "output_type": "stream",
     "text": [
      "['Аэропорт' 'Басманный, Красносельский' 'Свиблово' 'Рязанский' 'Якиманка'\n",
      " 'поселение Троицк' 'Хамовники' 'Соколиная Гора' 'Даниловский район'\n",
      " ' Даниловский ' 'Красносельский и Мещанский  ' ' Таганский' 'Пресненский'\n",
      " 'Печатники' 'Сокольники' 'Замоскворечье' 'Хорошёвский' 'Арбат'\n",
      " ' Алексеевский' 'Текстильщики' 'Ростокино' 'Раменки' 'Хорошёво-Мневники'\n",
      " 'Якиманка ' 'Покровское-Стрешнево' 'Марьина роща' 'Богородское'\n",
      " 'Нижегородский' 'Тверской' 'Лосиноостровский' 'Преображенское'\n",
      " 'Ново-Переделкино' 'Хорошево-Мневники' 'Гольяново' 'Измайлово'\n",
      " 'Восточное Измайлово' 'Беговой' 'Донской' 'Лефортово' 'Красносельский'\n",
      " 'Хорошевский' 'Войковский' 'Бутырский' 'Южное Тушино' ' Коптево'\n",
      " 'Отрадное' 'Преображенский' 'Южное Бутово' 'Митино' 'Северное Бутово'\n",
      " 'Ясенево' 'Капотня' 'Фили-Давыдково' 'Алексеевский'\n",
      " 'Москворечье-Сабурово' 'Можайский' 'Можайский район' 'Южнопортовый'\n",
      " 'Некрасовка' 'Щукино' 'Таганский' 'Косино-Ухтомский' 'Царицыно'\n",
      " 'Дорогомилово' 'Тимирязевский' 'поселение Московский' 'Басманный'\n",
      " 'Даниловский' 'Очаково-Матвеевское' 'Котловка' 'Ярославский'\n",
      " 'Бабушкинский' 'Мещанский' 'Выхино-Жулебино' 'Люблино' 'Солнцево'\n",
      " 'Нижегородский район']\n"
     ]
    }
   ],
   "source": [
    "print(one_rest_streets_with_region['region'].unique())"
   ]
  },
  {
   "cell_type": "markdown",
   "metadata": {},
   "source": [
    "    Улицы, на которых располагается всего 1 объект общественного питания, находятся практически\n",
    "    на всей территории Москвы, а именно в 77 районах. Посмотрим, в каких административных\n",
    "    округах находятся данные районы."
   ]
  },
  {
   "cell_type": "code",
   "execution_count": 49,
   "metadata": {},
   "outputs": [
    {
     "data": {
      "text/plain": [
       "11"
      ]
     },
     "execution_count": 49,
     "metadata": {},
     "output_type": "execute_result"
    }
   ],
   "source": [
    "one_rest_streets_with_region['district'].nunique()"
   ]
  },
  {
   "cell_type": "code",
   "execution_count": 58,
   "metadata": {},
   "outputs": [],
   "source": [
    "sns.set_palette('coolwarm')"
   ]
  },
  {
   "cell_type": "code",
   "execution_count": 65,
   "metadata": {},
   "outputs": [
    {
     "data": {
      "text/plain": [
       "<matplotlib.legend.Legend at 0x7f0f19244550>"
      ]
     },
     "execution_count": 65,
     "metadata": {},
     "output_type": "execute_result"
    },
    {
     "data": {
      "image/png": "[encoded data removed]",
      "text/plain": [
       "<Figure size 576x576 with 1 Axes>"
      ]
     },
     "metadata": {},
     "output_type": "display_data"
    }
   ],
   "source": [
    "one_rest_streets_with_region['district'].value_counts(ascending=False).plot(y='district', kind='pie', figsize=(8, 8), wedgeprops={'lw':1, 'ls':'--','edgecolor':\"k\"}, autopct='%1.1f%%')\n",
    "plt.legend(loc=(01.00, 01.01))"
   ]
  },
  {
   "cell_type": "markdown",
   "metadata": {},
   "source": [
    "    На первом месте Центральный АО, который расположен в центре города - 21.1%.\n",
    "    Можно предположить, что улицы, на которых расположены по одному заведению  - это небольшие\n",
    "    переулки в центре города."
   ]
  },
  {
   "cell_type": "markdown",
   "metadata": {},
   "source": [
    "### Шаг 3. Выводы<a class=\"anchor\" id=\"3-bullet\"></a>"
   ]
  },
  {
   "cell_type": "markdown",
   "metadata": {},
   "source": [
    "1. В таблице встречается 10393 шт. уникальных названий. По численности первые три места занимают \"общие названия\" - Столовая, Кафе, Шаурма. Т.е. места, у которых нет или не указано имя. На 4ом и 5ом месте по количеству заведений находятся сети общественного питания  KFC и  Шоколадница.\n",
    "    \n",
    "\n",
    "2. Cоотношение видов объектов общественного питания по количеству: \n",
    "\n",
    "   * Самую большую долю в видах объектов общественного питания по количеству занимают кафе - 39,7%\n",
    "   * На втором месте столовая - 16,8 %\n",
    "   * На третьем месте ресторан- 14,9 %\n",
    "   * На четвертом месте предприятия быстрого обслуживания - 12,5%\n",
    "   * Доля остальных видов объектов - меньше 6% (бар, буфет, кафетерий, закусочная, магазин\n",
    "    (отдел кулинарии))\n",
    "\n",
    "\n",
    "3. Соотношение сетевых и несетевых заведений по количеству:\n",
    " \n",
    "    * не сетевые объекты питания - 12398 шт.\n",
    "    * сетевые объекты питания - 2968 шт.\n",
    "\n",
    "Таким образом, в Москве в 4 раза больше несетевых заведений.\n",
    "\n",
    "4. Виды объектов общественного питания, для которых характерно сетевое распространение:\n",
    "\n",
    "    * Сетевое распространение характерно в первую очередь для предприятий быстрого питания. 41% объктов являются сетевыми.     \n",
    "    * На втором месте магазины (отдел кулинарии) - 29 % объектов являются сетевыми.\n",
    "    * На третьем месте рестораны и кафе  - 24% и 23 % соответственно\n",
    "    \n",
    "\n",
    "5. Зависимость посадочных мест в заведениях сети от количества заведений в этой сети:\n",
    "    \n",
    "    Согласно данным в сетевых заведеняих может и не быть посадочных мест. Например, в торговых центрах в фудкорах, где еть точка выдачи заказа и общий зал с посадочными местами, которые не закреплены за отдельным кафе/предприятием общественного питания. Или например, окно выдачи в сетях быстрого питания.\n",
    "    \n",
    "    Заведения, у которых нет или одно посадочное место:\n",
    "\n",
    "    * В основном это предприятие быстрого обслуживания - 45,9%. Они расположене в фудкоре - зона питания в торговом центре, аэропорту или, в некоторых случаях, отдельном здании (например, \"Депо\"), где посетителям предлагают услуги сразу несколько предприятий питания, имеющих общий зал для питания.\n",
    "    * На втором месте кафе - 19,4 %\n",
    "    * На третьем месте магазины (отдел кулинарии) - 13,1%\n",
    "    \n",
    "   Анализ количества посадочных мест для всех сетевых заведений:\n",
    "    \n",
    "    * У 25% сетевых заведений количество посадочных мест не превышает - 15 шт.\n",
    "    * Среднее количество посадочных мест для сетевых заведений - 40 шт.\n",
    "    * У 75% сетевых заведений количество посадочных мест не превышает - 72 шт.\n",
    "    * У 90% сетевых заведений количество посадочных мест не превышает - 120 шт.\n",
    "\n",
    "\n",
    "\n",
    "При анализе было выявлено, что у одной сети может быть несколько видов объектов общественного питания и в зависимости от вида будет различатся среднее количсество посадочных мест.\n",
    "\n",
    "* Так в сети KFC 63.9% это предприятия быстрого обслуживания со средним количеством посадочных мест - 50 шт.\n",
    "* На втором месте в сети KFC: рестораны. 19,4% со средним количеством посадочных мест - 40 шт.\n",
    "* И на третьем месте в сети KFC: кафе. 16,8% со средним количеством посадочных мест - 35 шт.\n",
    "\n",
    "\n",
    "При анализе взаимосвязи между количестовом заведений в сети и количеством посадочных мест в этих заведениях, получили отрицательную линейную корреляцию. Чем меньше завидений в сети, тем больше в них посадочных мест и наоборот, чем больше заведений в сети, тем меньше посадочных мест.\n",
    "\n",
    "6.  Cреднее количество посадочных мест для каждого вида объекта общественного питания.  \n",
    "\n",
    "*Cтоловая* представляет в среднем самое большое количество посадочных мест - 103 шт. \n",
    "У 25% столовых (нижний квартиль) посадочных мест около 50 шт. \n",
    "Верхний квартиль - около 200 шт посадочных мест.\n",
    "    \n",
    "На втором месте *рестораны*. В среднем в ресторане 80 посадочных мест.\n",
    "У 25% ресторанов (нижний квартиль) посадочных мест около 45 шт. \n",
    "Верхний квартиль - около 120 шт посадочных мест. \n",
    "    \n",
    "На третьем месте идет следующая группа: *бар, буфет, кафе*. В этих заведениях в среднем около 30-35 посадочных мест. У 25% заведений этой группы (нижний квартиль) посадочных мест около 20 шт. \n",
    "Отличие в верхнем квартиле. Если для кафе и баров верхний квартель  - около 50 шт посадочных мест, то у буфета он выше - около 80.\n",
    "    \n",
    "Последняя группа: *кафетерий, предприятие быстрого обслуживания, закусочная, магазин (отдел кулинарии)*. Для нее характерны минимальные количества посадочных мест. У заведений этой группы нижний квартиль- 0 посадочных мест. Верхний квартиль у кафетерия, закусочной и магазина (отдел кулинарии) не привышает 13 пасадочных мест, у предприятие быстрого обслуживания - 25 посадочных мест. Среднее значение для этой группы от 0 до 5. \n",
    "\n",
    "7. Топ-10 улиц по количеству объектов общественного питания:\n",
    "    \n",
    "Проспект Мира, Профсоюзная улица, Ленинградский проспект, Пресненская набережная, Варшавское шоссе, Ленинский проспект, проспект Вернадского, Кутузовский проспект, Каширское шоссе, Кировоградская улица.\n",
    "\n",
    "Данные улицы проходят через несколько районов Москвы. Например, Варшавское шоссе и Ленинский проспект растягиваются на 8 районов, проспект Мира на 7 районов. Исключение составляет только Пресненская набережная - находится в одном районе. Соответственно у данных улиц большая протяженность, что объясняет большое количество заведений, расположенных на них.    \n",
    "\n",
    "8. Распределение количества посадочных мест для улиц с большим количеством объектов общественного питания:\n",
    "    \n",
    "Видим не большую положительную линейную корреляцию. Чем больше заведений на улице, тем больше посадочных мест в этих заведениях. \n",
    "    \n",
    "\n",
    "9. Улицы с одним объектом общественного питания: \n",
    "\n",
    "В датафрейме 722 улицы, на которых располагается 1 объект общественного питания. Данные улицы, находятся практически на всей территории Москвы, а именно в 77 районах. Эти районы располагаются во всех  административных округах. \n",
    "\n",
    "На первом месте по количеству улиц с одним заведением общественного питания находится - Центральный административный округ, который расположен в центре города - 21.1%. Можно предположить, что улицы, на которых расположены по одному заведению  - это небольшие переулки в центре города.\n",
    "    \n",
    "Статистика по районам:\n",
    "- Центральный - 21,1%\n",
    "- Юго-Восточный - 13%\n",
    "- Северо-Восточный - 11,4%\n",
    "- Восточный - 11,4%\n",
    "- Западный - 11,4%\n",
    "- Северо-Западный - 11,4%\n",
    "- Северный - 8,94%\n",
    "- Южный - 5,69%\n",
    "- Юго-Западный - 4,07 %\n",
    "- Троицкий - 0,8%\n",
    "- Новомосковский - 0,8%\n",
    "    \n",
    "    \n",
    "    \n",
    "10. Для выбора месторасположения кафе информации о улицах с 1 заведением или самым большим количеством заведений не достаточно. Необходимо также учитывать следующие факторы:\n",
    "    \n",
    "    \n",
    "\n",
    "* Ценовой сегмент нашего кафе: демократический или дорогое модное заведение. Исходя из этого нужно выбирать район / улицу. Анализировать ближайших конкурентов в ценовом сегменте.\n",
    "* Количество людей, проходящих в единицу времени непосредственно рядом со входом в кафе.\n",
    "* Транспортная доступность ( в том числе общественным транспортном), возможности для парковки автомобилей\n",
    "* Состав проживающих, работающих и просто случайных людей в районе деятельности. Это важно, поскольку, например, если разместиться в офисном районе, то бывает, довольно сложно заполнить кафе в выходные дни.\n",
    "* Анализ объектов рядом – есть ли бизнес-центры, учреждения, вузы, торговые центры и т.д.)\n",
    "* Неизвестна кухня заведения (европейская, азиатская и т.д.) Когда первый интерес к роботам пропадет, посетители будут оценивать кухню заведения. Необходимо понимать какие конкуренты и в каком количестве будут находится поблизости с новым кафе. Нет смысла открывать 8ой суши бар.\n"
   ]
  }
 ],
 "metadata": {
  "kernelspec": {
   "display_name": "Python 3",
   "language": "python",
   "name": "python3"
  },
  "language_info": {
   "codemirror_mode": {
    "name": "ipython",
    "version": 3
   },
   "file_extension": ".py",
   "mimetype": "text/x-python",
   "name": "python",
   "nbconvert_exporter": "python",
   "pygments_lexer": "ipython3",
   "version": "3.7.6"
  }
 },
 "nbformat": 4,
 "nbformat_minor": 2
}
