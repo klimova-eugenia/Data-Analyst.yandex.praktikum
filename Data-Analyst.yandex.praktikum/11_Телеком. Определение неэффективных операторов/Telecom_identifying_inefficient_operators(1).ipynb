{
 "cells": [
  {
   "cell_type": "markdown",
   "metadata": {},
   "source": [
    "# Телеком — Определение неэффективных операторов"
   ]
  },
  {
   "cell_type": "markdown",
   "metadata": {},
   "source": [
    "Задача поставлена продуктовым менеджером из отдел продуктовой разработки.\n",
    "\n",
    "Сервис \"Нупозвони\" разрабатывает новый функционал, который будет выдавать руководителю информацию о наиболее неэффективных операторах. Неэффективными операторами считаются те, у которых большое число пропущенных входящих вызовов (внутренних и внешних), а также высокое время ожидания ответа при входящих вызовах. Также такие операторы могут совершать малое число исходящих вызовов, если оператор работает на исходящий обзвон.\n",
    "\n",
    "Необходимо определить критерии неэффективности, выявить закономерности, проверить гипотезы. \n",
    "\n",
    "Выявление неэффективных сотрудников позволит увеличить ценность сервиса для клиента, а значит потенциально увеличит время жизни клиента. Так же совместно с HR будет сформирована система мотивации операторов."
   ]
  },
  {
   "cell_type": "markdown",
   "metadata": {},
   "source": [
    "### Содержание\n",
    "\n",
    "* [Шаг 1. Изучение общей информации. Предобработка данных](#1-bullet)\n",
    "* [Шаг 2.  Исследовательский анализ](#2-bullet)\n",
    "* 2.1. [Количество операторов у клиентов](#2-1-bullet)\n",
    "* 2.2. [Время ожидания входящих внешних вызовов. Критерий определения неэффективных операторов](#2-2-bullet)\n",
    "* 2.3. [Доля пропущенных звонков по операторам. Критерий определения неэффективных операторов](#2-3-bullet)\n",
    "* 2.4. [Количество исходящих звонков. Критерий определения неэффективных операторов](#2-4-bullet)\n",
    "* [Шаг 3. Проверка гипотез](#3-bullet)\n",
    "* 3.1. [Проверка гипотезы о различии времени ожидания ответа на входящий звонок в зависимости от тарифного плана](#3-1-bullet)\n",
    "* 3.2. [Проверка гипотезы о различии числа пропущенных входящих вызовов в зависимости от тарифного плана](#3-2-bullet)\n",
    "* 3.3. [Проверка гипотезы о различии числа исходящих вызовов в зависимости от тарифного плана](#3-3-bullet)\n",
    "* [Шаг 4. Выводы и рекомендации](#4-bullet)"
   ]
  },
  {
   "cell_type": "markdown",
   "metadata": {},
   "source": [
    "### Шаг 1. Изучение общей информации. Предобработка данных<a class=\"anchor\" id=\"1-bullet\"></a>"
   ]
  },
  {
   "cell_type": "code",
   "execution_count": 1,
   "metadata": {},
   "outputs": [],
   "source": [
    "import pandas as pd\n",
    "import matplotlib.pyplot as plt\n",
    "import seaborn as sns\n",
    "import numpy as np\n",
    "import math as mth\n",
    "from scipy import stats as st"
   ]
  },
  {
   "cell_type": "code",
   "execution_count": 2,
   "metadata": {},
   "outputs": [],
   "source": [
    "telecom_clients = pd.read_csv('telecom_clients.csv')"
   ]
  },
  {
   "cell_type": "code",
   "execution_count": 3,
   "metadata": {},
   "outputs": [],
   "source": [
    "telecom_dataset = pd.read_csv('telecom_dataset.csv')"
   ]
  },
  {
   "cell_type": "code",
   "execution_count": 4,
   "metadata": {},
   "outputs": [
    {
     "data": {
      "text/html": [
       "<div>\n",
       "<style scoped>\n",
       "    .dataframe tbody tr th:only-of-type {\n",
       "        vertical-align: middle;\n",
       "    }\n",
       "\n",
       "    .dataframe tbody tr th {\n",
       "        vertical-align: top;\n",
       "    }\n",
       "\n",
       "    .dataframe thead th {\n",
       "        text-align: right;\n",
       "    }\n",
       "</style>\n",
       "<table border=\"1\" class=\"dataframe\">\n",
       "  <thead>\n",
       "    <tr style=\"text-align: right;\">\n",
       "      <th></th>\n",
       "      <th>user_id</th>\n",
       "      <th>tariff_plan</th>\n",
       "      <th>date_start</th>\n",
       "    </tr>\n",
       "  </thead>\n",
       "  <tbody>\n",
       "    <tr>\n",
       "      <td>0</td>\n",
       "      <td>166713</td>\n",
       "      <td>A</td>\n",
       "      <td>2019-08-15</td>\n",
       "    </tr>\n",
       "    <tr>\n",
       "      <td>1</td>\n",
       "      <td>166901</td>\n",
       "      <td>A</td>\n",
       "      <td>2019-08-23</td>\n",
       "    </tr>\n",
       "    <tr>\n",
       "      <td>2</td>\n",
       "      <td>168527</td>\n",
       "      <td>A</td>\n",
       "      <td>2019-10-29</td>\n",
       "    </tr>\n",
       "    <tr>\n",
       "      <td>3</td>\n",
       "      <td>167097</td>\n",
       "      <td>A</td>\n",
       "      <td>2019-09-01</td>\n",
       "    </tr>\n",
       "    <tr>\n",
       "      <td>4</td>\n",
       "      <td>168193</td>\n",
       "      <td>A</td>\n",
       "      <td>2019-10-16</td>\n",
       "    </tr>\n",
       "  </tbody>\n",
       "</table>\n",
       "</div>"
      ],
      "text/plain": [
       "   user_id tariff_plan  date_start\n",
       "0   166713           A  2019-08-15\n",
       "1   166901           A  2019-08-23\n",
       "2   168527           A  2019-10-29\n",
       "3   167097           A  2019-09-01\n",
       "4   168193           A  2019-10-16"
      ]
     },
     "execution_count": 4,
     "metadata": {},
     "output_type": "execute_result"
    }
   ],
   "source": [
    "telecom_clients.head()"
   ]
  },
  {
   "cell_type": "markdown",
   "metadata": {},
   "source": [
    "\n",
    "    \n",
    "Датасет telecom_clients.csv содержит колонки:\n",
    "* user_id — Идентификатор клиентского аккаунта в сервисе\n",
    "* tariff_plan — Текущий тарифный план клиента\n",
    "* date_start — Дата регистрации клиентв в сервисе\n",
    "\n",
    "Отличие тарифных планов (А, В, С)\n",
    "- Базовая стоимость тарифного плана A - 5000 условных единиц (у.е.)\n",
    "- Базовая стоимость тарифного плана B - 2000 условных единиц (у.е.)\n",
    "- Базовая стоимость тарифного плана C - 1000 условных единиц (у.е.)\n",
    "- Входящие звонки на всех тарифах - бесплатные\n",
    "    \n",
    "Внутренние звонки на всех тарифах - бесплатные до 2000 минут разговоров в месяц, после чего\n",
    "тарифицируются:\n",
    "* Тарифный план A - 0.1 условных единиц за минуту\n",
    "* Тарифный план B - 0.15 условных единиц за минуту\n",
    "* Тарифный план C - 0.3 условных единиц за минуту\n",
    "    \n",
    "Исходящие (не внутренние) звонки:\n",
    "* Тарифный план A - 0.4 условных единиц за минуту\n",
    "* Тарифный план B - 0.5 условных единиц за минуту\n",
    "* Тарифный план C - 0.7 условных единиц за минуту\n",
    "    \n",
    "За каждого оператора клиент платит 100 условных единиц на любом тарифе дополнительно к\n",
    "базовой стоимости тарифного плана и тарификации за звонки"
   ]
  },
  {
   "cell_type": "code",
   "execution_count": 5,
   "metadata": {},
   "outputs": [
    {
     "name": "stdout",
     "output_type": "stream",
     "text": [
      "<class 'pandas.core.frame.DataFrame'>\n",
      "RangeIndex: 732 entries, 0 to 731\n",
      "Data columns (total 3 columns):\n",
      "user_id        732 non-null int64\n",
      "tariff_plan    732 non-null object\n",
      "date_start     732 non-null object\n",
      "dtypes: int64(1), object(2)\n",
      "memory usage: 17.3+ KB\n"
     ]
    }
   ],
   "source": [
    "telecom_clients.info()"
   ]
  },
  {
   "cell_type": "markdown",
   "metadata": {},
   "source": [
    "\n",
    "    \n",
    "* В датасете 732 строки и три колонки.\n",
    "* пропущенных значений нет.\n",
    "* в колонке \"date_start\" необходимо изменить тип данных, перевести значения из строки в дату"
   ]
  },
  {
   "cell_type": "code",
   "execution_count": 6,
   "metadata": {},
   "outputs": [],
   "source": [
    "telecom_clients['date_start'] = pd.to_datetime(telecom_clients['date_start'], format='%Y-%m-%d')"
   ]
  },
  {
   "cell_type": "code",
   "execution_count": 7,
   "metadata": {},
   "outputs": [
    {
     "name": "stdout",
     "output_type": "stream",
     "text": [
      "<class 'pandas.core.frame.DataFrame'>\n",
      "RangeIndex: 732 entries, 0 to 731\n",
      "Data columns (total 3 columns):\n",
      "user_id        732 non-null int64\n",
      "tariff_plan    732 non-null object\n",
      "date_start     732 non-null datetime64[ns]\n",
      "dtypes: datetime64[ns](1), int64(1), object(1)\n",
      "memory usage: 17.3+ KB\n"
     ]
    }
   ],
   "source": [
    "telecom_clients.info()"
   ]
  },
  {
   "cell_type": "code",
   "execution_count": 8,
   "metadata": {},
   "outputs": [
    {
     "data": {
      "text/plain": [
       "0"
      ]
     },
     "execution_count": 8,
     "metadata": {},
     "output_type": "execute_result"
    }
   ],
   "source": [
    "telecom_clients.duplicated().sum()"
   ]
  },
  {
   "cell_type": "markdown",
   "metadata": {},
   "source": [
    "\n",
    "    \n",
    "Дупликаты в датасете telecom_clients отсутствуют"
   ]
  },
  {
   "cell_type": "code",
   "execution_count": 9,
   "metadata": {},
   "outputs": [
    {
     "data": {
      "text/html": [
       "<div>\n",
       "<style scoped>\n",
       "    .dataframe tbody tr th:only-of-type {\n",
       "        vertical-align: middle;\n",
       "    }\n",
       "\n",
       "    .dataframe tbody tr th {\n",
       "        vertical-align: top;\n",
       "    }\n",
       "\n",
       "    .dataframe thead th {\n",
       "        text-align: right;\n",
       "    }\n",
       "</style>\n",
       "<table border=\"1\" class=\"dataframe\">\n",
       "  <thead>\n",
       "    <tr style=\"text-align: right;\">\n",
       "      <th></th>\n",
       "      <th>user_id</th>\n",
       "      <th>date</th>\n",
       "      <th>direction</th>\n",
       "      <th>internal</th>\n",
       "      <th>operator_id</th>\n",
       "      <th>is_missed_call</th>\n",
       "      <th>calls_count</th>\n",
       "      <th>call_duration</th>\n",
       "      <th>total_call_duration</th>\n",
       "    </tr>\n",
       "  </thead>\n",
       "  <tbody>\n",
       "    <tr>\n",
       "      <td>0</td>\n",
       "      <td>166377</td>\n",
       "      <td>2019-08-04 00:00:00+03:00</td>\n",
       "      <td>in</td>\n",
       "      <td>False</td>\n",
       "      <td>NaN</td>\n",
       "      <td>True</td>\n",
       "      <td>2</td>\n",
       "      <td>0</td>\n",
       "      <td>4</td>\n",
       "    </tr>\n",
       "    <tr>\n",
       "      <td>1</td>\n",
       "      <td>166377</td>\n",
       "      <td>2019-08-05 00:00:00+03:00</td>\n",
       "      <td>out</td>\n",
       "      <td>True</td>\n",
       "      <td>880022.0</td>\n",
       "      <td>True</td>\n",
       "      <td>3</td>\n",
       "      <td>0</td>\n",
       "      <td>5</td>\n",
       "    </tr>\n",
       "    <tr>\n",
       "      <td>2</td>\n",
       "      <td>166377</td>\n",
       "      <td>2019-08-05 00:00:00+03:00</td>\n",
       "      <td>out</td>\n",
       "      <td>True</td>\n",
       "      <td>880020.0</td>\n",
       "      <td>True</td>\n",
       "      <td>1</td>\n",
       "      <td>0</td>\n",
       "      <td>1</td>\n",
       "    </tr>\n",
       "    <tr>\n",
       "      <td>3</td>\n",
       "      <td>166377</td>\n",
       "      <td>2019-08-05 00:00:00+03:00</td>\n",
       "      <td>out</td>\n",
       "      <td>True</td>\n",
       "      <td>880020.0</td>\n",
       "      <td>False</td>\n",
       "      <td>1</td>\n",
       "      <td>10</td>\n",
       "      <td>18</td>\n",
       "    </tr>\n",
       "    <tr>\n",
       "      <td>4</td>\n",
       "      <td>166377</td>\n",
       "      <td>2019-08-05 00:00:00+03:00</td>\n",
       "      <td>out</td>\n",
       "      <td>False</td>\n",
       "      <td>880022.0</td>\n",
       "      <td>True</td>\n",
       "      <td>3</td>\n",
       "      <td>0</td>\n",
       "      <td>25</td>\n",
       "    </tr>\n",
       "  </tbody>\n",
       "</table>\n",
       "</div>"
      ],
      "text/plain": [
       "   user_id                       date direction internal  operator_id  \\\n",
       "0   166377  2019-08-04 00:00:00+03:00        in    False          NaN   \n",
       "1   166377  2019-08-05 00:00:00+03:00       out     True     880022.0   \n",
       "2   166377  2019-08-05 00:00:00+03:00       out     True     880020.0   \n",
       "3   166377  2019-08-05 00:00:00+03:00       out     True     880020.0   \n",
       "4   166377  2019-08-05 00:00:00+03:00       out    False     880022.0   \n",
       "\n",
       "   is_missed_call  calls_count  call_duration  total_call_duration  \n",
       "0            True            2              0                    4  \n",
       "1            True            3              0                    5  \n",
       "2            True            1              0                    1  \n",
       "3           False            1             10                   18  \n",
       "4            True            3              0                   25  "
      ]
     },
     "execution_count": 9,
     "metadata": {},
     "output_type": "execute_result"
    }
   ],
   "source": [
    "telecom_dataset.head()"
   ]
  },
  {
   "cell_type": "markdown",
   "metadata": {},
   "source": [
    "\n",
    "    \n",
    "Датасет telecom_dataset.csv содержит колонки:\n",
    "- user_id — Идентификатор клиентского аккаунта в сервисе\n",
    "- date — Дата статистики\n",
    "- direction — Направление вызовов (out - исходящий вызов, in — входящий вызов)\n",
    "- internal — Является ли звонок внутренним звонком между операторами клиента\n",
    "- operator_id — Идентификатор оператора\n",
    "- is_missed_call — Является ли звонок пропущенным\n",
    "- calls_count — Количество звонков\n",
    "- call_duration — Длительность звонка (без учета времени ожидания)\n",
    "- total_call_duration — Длительность звонка (с учетом времени ожидания)"
   ]
  },
  {
   "cell_type": "code",
   "execution_count": 10,
   "metadata": {},
   "outputs": [
    {
     "name": "stdout",
     "output_type": "stream",
     "text": [
      "<class 'pandas.core.frame.DataFrame'>\n",
      "RangeIndex: 53902 entries, 0 to 53901\n",
      "Data columns (total 9 columns):\n",
      "user_id                53902 non-null int64\n",
      "date                   53902 non-null object\n",
      "direction              53902 non-null object\n",
      "internal               53785 non-null object\n",
      "operator_id            45730 non-null float64\n",
      "is_missed_call         53902 non-null bool\n",
      "calls_count            53902 non-null int64\n",
      "call_duration          53902 non-null int64\n",
      "total_call_duration    53902 non-null int64\n",
      "dtypes: bool(1), float64(1), int64(4), object(3)\n",
      "memory usage: 3.3+ MB\n"
     ]
    }
   ],
   "source": [
    "telecom_dataset.info()"
   ]
  },
  {
   "cell_type": "markdown",
   "metadata": {},
   "source": [
    "\n",
    "    \n",
    "* В датасете 53902 строки и 9 колонок.\n",
    "* пропущенные значения в двух колонках \"internal\" и \"operator_id\".\n",
    "* в колонке \"date\" необходимо изменить тип данных, перевести значения из строки в дату"
   ]
  },
  {
   "cell_type": "code",
   "execution_count": 11,
   "metadata": {},
   "outputs": [],
   "source": [
    "telecom_dataset['date'] = pd.to_datetime(telecom_dataset['date']).dt.tz_localize(None)"
   ]
  },
  {
   "cell_type": "code",
   "execution_count": 12,
   "metadata": {},
   "outputs": [
    {
     "name": "stdout",
     "output_type": "stream",
     "text": [
      "<class 'pandas.core.frame.DataFrame'>\n",
      "RangeIndex: 53902 entries, 0 to 53901\n",
      "Data columns (total 9 columns):\n",
      "user_id                53902 non-null int64\n",
      "date                   53902 non-null datetime64[ns]\n",
      "direction              53902 non-null object\n",
      "internal               53785 non-null object\n",
      "operator_id            45730 non-null float64\n",
      "is_missed_call         53902 non-null bool\n",
      "calls_count            53902 non-null int64\n",
      "call_duration          53902 non-null int64\n",
      "total_call_duration    53902 non-null int64\n",
      "dtypes: bool(1), datetime64[ns](1), float64(1), int64(4), object(2)\n",
      "memory usage: 3.3+ MB\n"
     ]
    }
   ],
   "source": [
    "telecom_dataset.info()"
   ]
  },
  {
   "cell_type": "markdown",
   "metadata": {},
   "source": [
    "\n",
    "    \n",
    "    Цель проекта - определить неэффективных операторов.\n",
    "    У 8172 клиентов не определены операторы. Это 15,16% от общего количества клиентов.\n",
    "    Так как нет какой-либо логической возможности заменить пропущенные значения, принято решение удалить пропущенные \n",
    "    значение. Не смотря на то, что это большой объем данных."
   ]
  },
  {
   "cell_type": "code",
   "execution_count": 13,
   "metadata": {},
   "outputs": [],
   "source": [
    "telecom_dataset.dropna(subset = ['operator_id'], inplace = True)"
   ]
  },
  {
   "cell_type": "code",
   "execution_count": 14,
   "metadata": {},
   "outputs": [
    {
     "name": "stdout",
     "output_type": "stream",
     "text": [
      "<class 'pandas.core.frame.DataFrame'>\n",
      "Int64Index: 45730 entries, 1 to 53900\n",
      "Data columns (total 9 columns):\n",
      "user_id                45730 non-null int64\n",
      "date                   45730 non-null datetime64[ns]\n",
      "direction              45730 non-null object\n",
      "internal               45670 non-null object\n",
      "operator_id            45730 non-null float64\n",
      "is_missed_call         45730 non-null bool\n",
      "calls_count            45730 non-null int64\n",
      "call_duration          45730 non-null int64\n",
      "total_call_duration    45730 non-null int64\n",
      "dtypes: bool(1), datetime64[ns](1), float64(1), int64(4), object(2)\n",
      "memory usage: 3.2+ MB\n"
     ]
    }
   ],
   "source": [
    "telecom_dataset.info()"
   ]
  },
  {
   "cell_type": "markdown",
   "metadata": {},
   "source": [
    "\n",
    "    \n",
    "     Остались пропущенные значения в колонке \"internal\" - 60 шт., что составляет 0,13% от данных"
   ]
  },
  {
   "cell_type": "code",
   "execution_count": 15,
   "metadata": {},
   "outputs": [
    {
     "data": {
      "text/html": [
       "<div>\n",
       "<style scoped>\n",
       "    .dataframe tbody tr th:only-of-type {\n",
       "        vertical-align: middle;\n",
       "    }\n",
       "\n",
       "    .dataframe tbody tr th {\n",
       "        vertical-align: top;\n",
       "    }\n",
       "\n",
       "    .dataframe thead th {\n",
       "        text-align: right;\n",
       "    }\n",
       "</style>\n",
       "<table border=\"1\" class=\"dataframe\">\n",
       "  <thead>\n",
       "    <tr style=\"text-align: right;\">\n",
       "      <th></th>\n",
       "      <th>user_id</th>\n",
       "      <th>date</th>\n",
       "      <th>direction</th>\n",
       "      <th>internal</th>\n",
       "      <th>operator_id</th>\n",
       "      <th>is_missed_call</th>\n",
       "      <th>calls_count</th>\n",
       "      <th>call_duration</th>\n",
       "      <th>total_call_duration</th>\n",
       "    </tr>\n",
       "  </thead>\n",
       "  <tbody>\n",
       "    <tr>\n",
       "      <td>1924</td>\n",
       "      <td>166406</td>\n",
       "      <td>2019-09-02</td>\n",
       "      <td>in</td>\n",
       "      <td>NaN</td>\n",
       "      <td>879898.0</td>\n",
       "      <td>False</td>\n",
       "      <td>1</td>\n",
       "      <td>2</td>\n",
       "      <td>9</td>\n",
       "    </tr>\n",
       "    <tr>\n",
       "      <td>6210</td>\n",
       "      <td>166541</td>\n",
       "      <td>2019-09-26</td>\n",
       "      <td>in</td>\n",
       "      <td>NaN</td>\n",
       "      <td>908960.0</td>\n",
       "      <td>False</td>\n",
       "      <td>1</td>\n",
       "      <td>393</td>\n",
       "      <td>423</td>\n",
       "    </tr>\n",
       "    <tr>\n",
       "      <td>6216</td>\n",
       "      <td>166541</td>\n",
       "      <td>2019-09-26</td>\n",
       "      <td>in</td>\n",
       "      <td>NaN</td>\n",
       "      <td>908958.0</td>\n",
       "      <td>False</td>\n",
       "      <td>2</td>\n",
       "      <td>547</td>\n",
       "      <td>612</td>\n",
       "    </tr>\n",
       "    <tr>\n",
       "      <td>7528</td>\n",
       "      <td>166604</td>\n",
       "      <td>2019-11-01</td>\n",
       "      <td>in</td>\n",
       "      <td>NaN</td>\n",
       "      <td>893402.0</td>\n",
       "      <td>False</td>\n",
       "      <td>1</td>\n",
       "      <td>94</td>\n",
       "      <td>117</td>\n",
       "    </tr>\n",
       "    <tr>\n",
       "      <td>8650</td>\n",
       "      <td>166658</td>\n",
       "      <td>2019-09-24</td>\n",
       "      <td>in</td>\n",
       "      <td>NaN</td>\n",
       "      <td>890404.0</td>\n",
       "      <td>False</td>\n",
       "      <td>1</td>\n",
       "      <td>150</td>\n",
       "      <td>157</td>\n",
       "    </tr>\n",
       "  </tbody>\n",
       "</table>\n",
       "</div>"
      ],
      "text/plain": [
       "      user_id       date direction internal  operator_id  is_missed_call  \\\n",
       "1924   166406 2019-09-02        in      NaN     879898.0           False   \n",
       "6210   166541 2019-09-26        in      NaN     908960.0           False   \n",
       "6216   166541 2019-09-26        in      NaN     908958.0           False   \n",
       "7528   166604 2019-11-01        in      NaN     893402.0           False   \n",
       "8650   166658 2019-09-24        in      NaN     890404.0           False   \n",
       "\n",
       "      calls_count  call_duration  total_call_duration  \n",
       "1924            1              2                    9  \n",
       "6210            1            393                  423  \n",
       "6216            2            547                  612  \n",
       "7528            1             94                  117  \n",
       "8650            1            150                  157  "
      ]
     },
     "execution_count": 15,
     "metadata": {},
     "output_type": "execute_result"
    }
   ],
   "source": [
    "telecom_dataset.query('internal.isnull()').head()"
   ]
  },
  {
   "cell_type": "markdown",
   "metadata": {},
   "source": [
    "\n",
    "    \n",
    "* По колонке \"user_id\" не удалось выявить взаимосвязи - у 30 уникальных пользователей пропущены значения, у 56,6% пользователей это единственный звонок без определения \"внутренний / внешний\".\n",
    "* По колонке \"date\" не удалось выявить взаимосвязи - 36 разных дат, в которых встречается пропущенное значение. В 52,7% случаев, в этот день выявлен только 1 звонок без определения \"внутренний / внешний\".\n",
    "* По колонке 'operator_id' не удалось выявить взаимосвязи - у 41 уникальных оператора имеются звоники, без определения \"внутренний / внешний\". В 68,29% случаях, у этих операторов выявлен 1 звонок без определения \"внутренний / внешний\"  \n",
    "\n",
    "Все звонки с пропущенными значениями в колонке \"internal\" - являются входящими. Один из критериев определения неэффективных операторов является - число пропущенных вызовов. Посмотрим, сколько принятых и пропущенных звонков."
   ]
  },
  {
   "cell_type": "code",
   "execution_count": 16,
   "metadata": {},
   "outputs": [
    {
     "data": {
      "text/plain": [
       "False    59\n",
       "True      1\n",
       "Name: is_missed_call, dtype: int64"
      ]
     },
     "execution_count": 16,
     "metadata": {},
     "output_type": "execute_result"
    }
   ],
   "source": [
    "telecom_dataset.query('internal.isnull()')['is_missed_call'].value_counts()"
   ]
  },
  {
   "cell_type": "markdown",
   "metadata": {},
   "source": [
    "    \n",
    "    59 звонков принято и всего 1 пропущенный. Так как логически эти пропуски не восстановить,\n",
    "    а объем пропущенных значений составляет 0,13%, а из непринятых всего 1 звонок, было принято решение их удалить. "
   ]
  },
  {
   "cell_type": "code",
   "execution_count": 17,
   "metadata": {},
   "outputs": [],
   "source": [
    "telecom_dataset.dropna(subset = ['internal'], inplace = True)"
   ]
  },
  {
   "cell_type": "code",
   "execution_count": 18,
   "metadata": {},
   "outputs": [
    {
     "name": "stdout",
     "output_type": "stream",
     "text": [
      "<class 'pandas.core.frame.DataFrame'>\n",
      "Int64Index: 45670 entries, 1 to 53900\n",
      "Data columns (total 9 columns):\n",
      "user_id                45670 non-null int64\n",
      "date                   45670 non-null datetime64[ns]\n",
      "direction              45670 non-null object\n",
      "internal               45670 non-null object\n",
      "operator_id            45670 non-null float64\n",
      "is_missed_call         45670 non-null bool\n",
      "calls_count            45670 non-null int64\n",
      "call_duration          45670 non-null int64\n",
      "total_call_duration    45670 non-null int64\n",
      "dtypes: bool(1), datetime64[ns](1), float64(1), int64(4), object(2)\n",
      "memory usage: 3.2+ MB\n"
     ]
    }
   ],
   "source": [
    "telecom_dataset.info()"
   ]
  },
  {
   "cell_type": "markdown",
   "metadata": {},
   "source": [
    "    Проверим датасет на наличие дупликатов."
   ]
  },
  {
   "cell_type": "code",
   "execution_count": 19,
   "metadata": {},
   "outputs": [
    {
     "data": {
      "text/plain": [
       "4179"
      ]
     },
     "execution_count": 19,
     "metadata": {},
     "output_type": "execute_result"
    }
   ],
   "source": [
    "telecom_dataset.duplicated().sum()"
   ]
  },
  {
   "cell_type": "markdown",
   "metadata": {},
   "source": [
    "    В датасете много дубликатов ( 9,15% от общего количества строк). В колонке ['date'] предполагалось, что будут\n",
    "    указаны даты и время. Так как вместо времени везде стояло значение \"00:00:00+03:00\", трудно определить это \n",
    "    действительно дубликаты или аналогичные действия были совершены в один день, но в разное время. \n",
    "    Принято решение, удалить дубликаты"
   ]
  },
  {
   "cell_type": "code",
   "execution_count": 20,
   "metadata": {},
   "outputs": [
    {
     "data": {
      "text/html": [
       "<div>\n",
       "<style scoped>\n",
       "    .dataframe tbody tr th:only-of-type {\n",
       "        vertical-align: middle;\n",
       "    }\n",
       "\n",
       "    .dataframe tbody tr th {\n",
       "        vertical-align: top;\n",
       "    }\n",
       "\n",
       "    .dataframe thead th {\n",
       "        text-align: right;\n",
       "    }\n",
       "</style>\n",
       "<table border=\"1\" class=\"dataframe\">\n",
       "  <thead>\n",
       "    <tr style=\"text-align: right;\">\n",
       "      <th></th>\n",
       "      <th>user_id</th>\n",
       "      <th>date</th>\n",
       "      <th>direction</th>\n",
       "      <th>internal</th>\n",
       "      <th>operator_id</th>\n",
       "      <th>is_missed_call</th>\n",
       "      <th>calls_count</th>\n",
       "      <th>call_duration</th>\n",
       "      <th>total_call_duration</th>\n",
       "    </tr>\n",
       "  </thead>\n",
       "  <tbody>\n",
       "    <tr>\n",
       "      <td>0</td>\n",
       "      <td>166377</td>\n",
       "      <td>2019-08-05</td>\n",
       "      <td>out</td>\n",
       "      <td>True</td>\n",
       "      <td>880022.0</td>\n",
       "      <td>True</td>\n",
       "      <td>3</td>\n",
       "      <td>0</td>\n",
       "      <td>5</td>\n",
       "    </tr>\n",
       "    <tr>\n",
       "      <td>1</td>\n",
       "      <td>166377</td>\n",
       "      <td>2019-08-05</td>\n",
       "      <td>out</td>\n",
       "      <td>True</td>\n",
       "      <td>880020.0</td>\n",
       "      <td>True</td>\n",
       "      <td>1</td>\n",
       "      <td>0</td>\n",
       "      <td>1</td>\n",
       "    </tr>\n",
       "    <tr>\n",
       "      <td>2</td>\n",
       "      <td>166377</td>\n",
       "      <td>2019-08-05</td>\n",
       "      <td>out</td>\n",
       "      <td>True</td>\n",
       "      <td>880020.0</td>\n",
       "      <td>False</td>\n",
       "      <td>1</td>\n",
       "      <td>10</td>\n",
       "      <td>18</td>\n",
       "    </tr>\n",
       "    <tr>\n",
       "      <td>3</td>\n",
       "      <td>166377</td>\n",
       "      <td>2019-08-05</td>\n",
       "      <td>out</td>\n",
       "      <td>False</td>\n",
       "      <td>880022.0</td>\n",
       "      <td>True</td>\n",
       "      <td>3</td>\n",
       "      <td>0</td>\n",
       "      <td>25</td>\n",
       "    </tr>\n",
       "    <tr>\n",
       "      <td>4</td>\n",
       "      <td>166377</td>\n",
       "      <td>2019-08-05</td>\n",
       "      <td>out</td>\n",
       "      <td>False</td>\n",
       "      <td>880020.0</td>\n",
       "      <td>False</td>\n",
       "      <td>2</td>\n",
       "      <td>3</td>\n",
       "      <td>29</td>\n",
       "    </tr>\n",
       "    <tr>\n",
       "      <td>...</td>\n",
       "      <td>...</td>\n",
       "      <td>...</td>\n",
       "      <td>...</td>\n",
       "      <td>...</td>\n",
       "      <td>...</td>\n",
       "      <td>...</td>\n",
       "      <td>...</td>\n",
       "      <td>...</td>\n",
       "      <td>...</td>\n",
       "    </tr>\n",
       "    <tr>\n",
       "      <td>41486</td>\n",
       "      <td>168606</td>\n",
       "      <td>2019-11-09</td>\n",
       "      <td>out</td>\n",
       "      <td>False</td>\n",
       "      <td>957922.0</td>\n",
       "      <td>False</td>\n",
       "      <td>4</td>\n",
       "      <td>551</td>\n",
       "      <td>593</td>\n",
       "    </tr>\n",
       "    <tr>\n",
       "      <td>41487</td>\n",
       "      <td>168606</td>\n",
       "      <td>2019-11-10</td>\n",
       "      <td>out</td>\n",
       "      <td>True</td>\n",
       "      <td>957922.0</td>\n",
       "      <td>False</td>\n",
       "      <td>1</td>\n",
       "      <td>0</td>\n",
       "      <td>25</td>\n",
       "    </tr>\n",
       "    <tr>\n",
       "      <td>41488</td>\n",
       "      <td>168606</td>\n",
       "      <td>2019-11-10</td>\n",
       "      <td>out</td>\n",
       "      <td>True</td>\n",
       "      <td>957922.0</td>\n",
       "      <td>True</td>\n",
       "      <td>1</td>\n",
       "      <td>0</td>\n",
       "      <td>38</td>\n",
       "    </tr>\n",
       "    <tr>\n",
       "      <td>41489</td>\n",
       "      <td>168606</td>\n",
       "      <td>2019-11-11</td>\n",
       "      <td>out</td>\n",
       "      <td>True</td>\n",
       "      <td>957922.0</td>\n",
       "      <td>False</td>\n",
       "      <td>2</td>\n",
       "      <td>479</td>\n",
       "      <td>501</td>\n",
       "    </tr>\n",
       "    <tr>\n",
       "      <td>41490</td>\n",
       "      <td>168606</td>\n",
       "      <td>2019-11-15</td>\n",
       "      <td>out</td>\n",
       "      <td>True</td>\n",
       "      <td>957922.0</td>\n",
       "      <td>False</td>\n",
       "      <td>4</td>\n",
       "      <td>3130</td>\n",
       "      <td>3190</td>\n",
       "    </tr>\n",
       "  </tbody>\n",
       "</table>\n",
       "<p>41491 rows × 9 columns</p>\n",
       "</div>"
      ],
      "text/plain": [
       "       user_id       date direction internal  operator_id  is_missed_call  \\\n",
       "0       166377 2019-08-05       out     True     880022.0            True   \n",
       "1       166377 2019-08-05       out     True     880020.0            True   \n",
       "2       166377 2019-08-05       out     True     880020.0           False   \n",
       "3       166377 2019-08-05       out    False     880022.0            True   \n",
       "4       166377 2019-08-05       out    False     880020.0           False   \n",
       "...        ...        ...       ...      ...          ...             ...   \n",
       "41486   168606 2019-11-09       out    False     957922.0           False   \n",
       "41487   168606 2019-11-10       out     True     957922.0           False   \n",
       "41488   168606 2019-11-10       out     True     957922.0            True   \n",
       "41489   168606 2019-11-11       out     True     957922.0           False   \n",
       "41490   168606 2019-11-15       out     True     957922.0           False   \n",
       "\n",
       "       calls_count  call_duration  total_call_duration  \n",
       "0                3              0                    5  \n",
       "1                1              0                    1  \n",
       "2                1             10                   18  \n",
       "3                3              0                   25  \n",
       "4                2              3                   29  \n",
       "...            ...            ...                  ...  \n",
       "41486            4            551                  593  \n",
       "41487            1              0                   25  \n",
       "41488            1              0                   38  \n",
       "41489            2            479                  501  \n",
       "41490            4           3130                 3190  \n",
       "\n",
       "[41491 rows x 9 columns]"
      ]
     },
     "execution_count": 20,
     "metadata": {},
     "output_type": "execute_result"
    }
   ],
   "source": [
    "telecom_dataset.drop_duplicates().reset_index(drop = True)"
   ]
  },
  {
   "cell_type": "markdown",
   "metadata": {},
   "source": [
    "**Cоздадим колонку ['waiting_time'], в которой вычислим время ожидания.**"
   ]
  },
  {
   "cell_type": "code",
   "execution_count": 21,
   "metadata": {},
   "outputs": [],
   "source": [
    "telecom_dataset['waiting_time'] = telecom_dataset['total_call_duration'] - telecom_dataset['call_duration']"
   ]
  },
  {
   "cell_type": "markdown",
   "metadata": {},
   "source": [
    "\n",
    "**Создадим столбец ['avg_wait_time_per_call'], в котором будет расчитано среднее время ожидания** "
   ]
  },
  {
   "cell_type": "code",
   "execution_count": 22,
   "metadata": {},
   "outputs": [
    {
     "data": {
      "text/html": [
       "<div>\n",
       "<style scoped>\n",
       "    .dataframe tbody tr th:only-of-type {\n",
       "        vertical-align: middle;\n",
       "    }\n",
       "\n",
       "    .dataframe tbody tr th {\n",
       "        vertical-align: top;\n",
       "    }\n",
       "\n",
       "    .dataframe thead th {\n",
       "        text-align: right;\n",
       "    }\n",
       "</style>\n",
       "<table border=\"1\" class=\"dataframe\">\n",
       "  <thead>\n",
       "    <tr style=\"text-align: right;\">\n",
       "      <th></th>\n",
       "      <th>user_id</th>\n",
       "      <th>date</th>\n",
       "      <th>direction</th>\n",
       "      <th>internal</th>\n",
       "      <th>operator_id</th>\n",
       "      <th>is_missed_call</th>\n",
       "      <th>calls_count</th>\n",
       "      <th>call_duration</th>\n",
       "      <th>total_call_duration</th>\n",
       "      <th>waiting_time</th>\n",
       "      <th>avg_wait_time_per_call</th>\n",
       "    </tr>\n",
       "  </thead>\n",
       "  <tbody>\n",
       "    <tr>\n",
       "      <td>1</td>\n",
       "      <td>166377</td>\n",
       "      <td>2019-08-05</td>\n",
       "      <td>out</td>\n",
       "      <td>True</td>\n",
       "      <td>880022.0</td>\n",
       "      <td>True</td>\n",
       "      <td>3</td>\n",
       "      <td>0</td>\n",
       "      <td>5</td>\n",
       "      <td>5</td>\n",
       "      <td>1.666667</td>\n",
       "    </tr>\n",
       "    <tr>\n",
       "      <td>2</td>\n",
       "      <td>166377</td>\n",
       "      <td>2019-08-05</td>\n",
       "      <td>out</td>\n",
       "      <td>True</td>\n",
       "      <td>880020.0</td>\n",
       "      <td>True</td>\n",
       "      <td>1</td>\n",
       "      <td>0</td>\n",
       "      <td>1</td>\n",
       "      <td>1</td>\n",
       "      <td>1.000000</td>\n",
       "    </tr>\n",
       "    <tr>\n",
       "      <td>3</td>\n",
       "      <td>166377</td>\n",
       "      <td>2019-08-05</td>\n",
       "      <td>out</td>\n",
       "      <td>True</td>\n",
       "      <td>880020.0</td>\n",
       "      <td>False</td>\n",
       "      <td>1</td>\n",
       "      <td>10</td>\n",
       "      <td>18</td>\n",
       "      <td>8</td>\n",
       "      <td>8.000000</td>\n",
       "    </tr>\n",
       "    <tr>\n",
       "      <td>4</td>\n",
       "      <td>166377</td>\n",
       "      <td>2019-08-05</td>\n",
       "      <td>out</td>\n",
       "      <td>False</td>\n",
       "      <td>880022.0</td>\n",
       "      <td>True</td>\n",
       "      <td>3</td>\n",
       "      <td>0</td>\n",
       "      <td>25</td>\n",
       "      <td>25</td>\n",
       "      <td>8.333333</td>\n",
       "    </tr>\n",
       "    <tr>\n",
       "      <td>5</td>\n",
       "      <td>166377</td>\n",
       "      <td>2019-08-05</td>\n",
       "      <td>out</td>\n",
       "      <td>False</td>\n",
       "      <td>880020.0</td>\n",
       "      <td>False</td>\n",
       "      <td>2</td>\n",
       "      <td>3</td>\n",
       "      <td>29</td>\n",
       "      <td>26</td>\n",
       "      <td>13.000000</td>\n",
       "    </tr>\n",
       "  </tbody>\n",
       "</table>\n",
       "</div>"
      ],
      "text/plain": [
       "   user_id       date direction internal  operator_id  is_missed_call  \\\n",
       "1   166377 2019-08-05       out     True     880022.0            True   \n",
       "2   166377 2019-08-05       out     True     880020.0            True   \n",
       "3   166377 2019-08-05       out     True     880020.0           False   \n",
       "4   166377 2019-08-05       out    False     880022.0            True   \n",
       "5   166377 2019-08-05       out    False     880020.0           False   \n",
       "\n",
       "   calls_count  call_duration  total_call_duration  waiting_time  \\\n",
       "1            3              0                    5             5   \n",
       "2            1              0                    1             1   \n",
       "3            1             10                   18             8   \n",
       "4            3              0                   25            25   \n",
       "5            2              3                   29            26   \n",
       "\n",
       "   avg_wait_time_per_call  \n",
       "1                1.666667  \n",
       "2                1.000000  \n",
       "3                8.000000  \n",
       "4                8.333333  \n",
       "5               13.000000  "
      ]
     },
     "execution_count": 22,
     "metadata": {},
     "output_type": "execute_result"
    }
   ],
   "source": [
    "telecom_dataset['avg_wait_time_per_call'] = telecom_dataset['waiting_time'] / telecom_dataset['calls_count']\n",
    "telecom_dataset.head()"
   ]
  },
  {
   "cell_type": "code",
   "execution_count": 23,
   "metadata": {},
   "outputs": [
    {
     "data": {
      "text/plain": [
       "count    13953.000000\n",
       "mean        16.493897\n",
       "std         13.531959\n",
       "min          0.000000\n",
       "25%          7.666667\n",
       "50%         13.000000\n",
       "75%         21.432432\n",
       "max        261.000000\n",
       "Name: avg_wait_time_per_call, dtype: float64"
      ]
     },
     "execution_count": 23,
     "metadata": {},
     "output_type": "execute_result"
    }
   ],
   "source": [
    "telecom_dataset[telecom_dataset['direction'] == \"in\"]['avg_wait_time_per_call'].describe()"
   ]
  },
  {
   "cell_type": "markdown",
   "metadata": {},
   "source": [
    "   \n",
    "Среднее время ожидания при звонке - 13 секунд.\n",
    "    \n",
    "25% пользователь ожидали не более 7,6 секунд.\n",
    "    \n",
    "75 % ожидали не более 21,4 секунды\n",
    "    \n",
    "самый большой выброс в данных - 261 секунды ( или 4,35 минуты).\n",
    "    \n",
    "стандартное отклонение - 13,5 секунды. Так как стандартное отклонение велико, в наборе данных могут быть серьёзные аномалии или выбросы."
   ]
  },
  {
   "cell_type": "markdown",
   "metadata": {},
   "source": [
    "  \n",
    "**преобразуем категориальные переменные в двух колонках в числовые значения: False = 0, True = 1** "
   ]
  },
  {
   "cell_type": "code",
   "execution_count": 24,
   "metadata": {},
   "outputs": [
    {
     "data": {
      "text/plain": [
       "False    39861\n",
       "True      5809\n",
       "Name: internal, dtype: int64"
      ]
     },
     "execution_count": 24,
     "metadata": {},
     "output_type": "execute_result"
    }
   ],
   "source": [
    "telecom_dataset['internal'].value_counts()"
   ]
  },
  {
   "cell_type": "code",
   "execution_count": 25,
   "metadata": {},
   "outputs": [
    {
     "data": {
      "text/plain": [
       "0    39861\n",
       "1     5809\n",
       "Name: internal, dtype: int64"
      ]
     },
     "execution_count": 25,
     "metadata": {},
     "output_type": "execute_result"
    }
   ],
   "source": [
    "from sklearn.preprocessing import LabelEncoder\n",
    "encoder =  LabelEncoder() # создаём переменную класса LabelEncoder - кодировщик\n",
    "telecom_dataset['internal'] = encoder.fit_transform(telecom_dataset['internal']) # используем кодировщик, чтобы \"перевести\" строковые названия в числа\n",
    "telecom_dataset['internal'].value_counts()"
   ]
  },
  {
   "cell_type": "code",
   "execution_count": 26,
   "metadata": {},
   "outputs": [
    {
     "data": {
      "text/plain": [
       "False    30153\n",
       "True     15517\n",
       "Name: is_missed_call, dtype: int64"
      ]
     },
     "execution_count": 26,
     "metadata": {},
     "output_type": "execute_result"
    }
   ],
   "source": [
    "telecom_dataset['is_missed_call'].value_counts()"
   ]
  },
  {
   "cell_type": "code",
   "execution_count": 27,
   "metadata": {},
   "outputs": [
    {
     "data": {
      "text/plain": [
       "0    30153\n",
       "1    15517\n",
       "Name: is_missed_call, dtype: int64"
      ]
     },
     "execution_count": 27,
     "metadata": {},
     "output_type": "execute_result"
    }
   ],
   "source": [
    "encoder =  LabelEncoder() # создаём переменную класса LabelEncoder - кодировщик\n",
    "telecom_dataset['is_missed_call'] = encoder.fit_transform(telecom_dataset['is_missed_call']) # используем кодировщик, чтобы \"перевести\" строковые названия в числа\n",
    "telecom_dataset['is_missed_call'].value_counts()"
   ]
  },
  {
   "cell_type": "markdown",
   "metadata": {},
   "source": [
    "### Шаг 2.  Исследовательский анализ<a class=\"anchor\" id=\"2-bullet\"></a>"
   ]
  },
  {
   "cell_type": "markdown",
   "metadata": {},
   "source": [
    "### 2.1. Определить какое количество операторов у клиентов<a class=\"anchor\" id=\"2-1-bullet\"></a>"
   ]
  },
  {
   "cell_type": "code",
   "execution_count": 28,
   "metadata": {},
   "outputs": [
    {
     "data": {
      "text/plain": [
       "290"
      ]
     },
     "execution_count": 28,
     "metadata": {},
     "output_type": "execute_result"
    }
   ],
   "source": [
    "telecom_dataset['user_id'].nunique()"
   ]
  },
  {
   "cell_type": "code",
   "execution_count": 29,
   "metadata": {},
   "outputs": [
    {
     "data": {
      "text/plain": [
       "1092"
      ]
     },
     "execution_count": 29,
     "metadata": {},
     "output_type": "execute_result"
    }
   ],
   "source": [
    "telecom_dataset['operator_id'].nunique()"
   ]
  },
  {
   "cell_type": "markdown",
   "metadata": {},
   "source": [
    "    В датасете 290 клиентов и 1092 оператора"
   ]
  },
  {
   "cell_type": "code",
   "execution_count": 30,
   "metadata": {},
   "outputs": [
    {
     "data": {
      "text/plain": [
       "count    290.000000\n",
       "mean       3.765517\n",
       "std        5.717712\n",
       "min        1.000000\n",
       "25%        1.000000\n",
       "50%        2.000000\n",
       "75%        4.000000\n",
       "max       50.000000\n",
       "Name: operator_id, dtype: float64"
      ]
     },
     "execution_count": 30,
     "metadata": {},
     "output_type": "execute_result"
    }
   ],
   "source": [
    "telecom_dataset.groupby('user_id')['operator_id'].nunique().describe()"
   ]
  },
  {
   "cell_type": "markdown",
   "metadata": {},
   "source": [
    "\n",
    "В среднем у каждого клиента по 3,77 оператора\n",
    "    \n",
    "Если посмотреть на медиану, то у каждого клиента по 2 оператора.\n",
    "    \n",
    "Стандартное отклонение - 5,71, говорит нам о наличии серьёзных аномалий или выбросах.\n",
    "    \n",
    "У 75% клиентов не больше 4-х операторов.\n",
    "    \n",
    "Максимальное значение - 50 операторов. \n",
    "    \n",
    "Посмотрим на диаграмму размаха"
   ]
  },
  {
   "cell_type": "code",
   "execution_count": 31,
   "metadata": {},
   "outputs": [
    {
     "data": {
      "text/plain": [
       "<matplotlib.axes._subplots.AxesSubplot at 0x7fe4d0558510>"
      ]
     },
     "execution_count": 31,
     "metadata": {},
     "output_type": "execute_result"
    },
    {
     "data": {
      "image/png": "[encoded data removed]",
      "text/plain": [
       "<Figure size 432x432 with 1 Axes>"
      ]
     },
     "metadata": {
      "needs_background": "light"
     },
     "output_type": "display_data"
    }
   ],
   "source": [
    "cnt_operators = telecom_dataset.groupby('user_id')['operator_id'].nunique().reset_index()\n",
    "cnt_operators.columns = ['user_id','quantity_of_operators']\n",
    "cnt_operators.boxplot(column='quantity_of_operators', figsize=(6,6))"
   ]
  },
  {
   "cell_type": "code",
   "execution_count": 32,
   "metadata": {},
   "outputs": [
    {
     "data": {
      "text/plain": [
       "(0, 9)"
      ]
     },
     "execution_count": 32,
     "metadata": {},
     "output_type": "execute_result"
    },
    {
     "data": {
      "image/png": "[encoded data removed]",
      "text/plain": [
       "<Figure size 432x432 with 1 Axes>"
      ]
     },
     "metadata": {
      "needs_background": "light"
     },
     "output_type": "display_data"
    }
   ],
   "source": [
    "cnt_operators.boxplot(column='quantity_of_operators', figsize=(6,6))\n",
    "plt.ylim(0,9)"
   ]
  },
  {
   "cell_type": "markdown",
   "metadata": {},
   "source": [
    "\n",
    "    \n",
    "Выбросы начинаются после 8 операторов на клиента.\n",
    "    \n",
    "Посмотрим показатели по очищенным от выбросов данных"
   ]
  },
  {
   "cell_type": "code",
   "execution_count": 33,
   "metadata": {},
   "outputs": [
    {
     "data": {
      "text/plain": [
       "count    275.000000\n",
       "mean       2.672727\n",
       "std        2.103651\n",
       "min        1.000000\n",
       "25%        1.000000\n",
       "50%        2.000000\n",
       "75%        4.000000\n",
       "max       12.000000\n",
       "Name: quantity_of_operators, dtype: float64"
      ]
     },
     "execution_count": 33,
     "metadata": {},
     "output_type": "execute_result"
    }
   ],
   "source": [
    "cnt_operators_cor = cnt_operators.query('quantity_of_operators <= quantity_of_operators.quantile(0.95)')\n",
    "cnt_operators_cor['quantity_of_operators'].describe()"
   ]
  },
  {
   "cell_type": "code",
   "execution_count": 103,
   "metadata": {},
   "outputs": [
    {
     "data": {
      "text/plain": [
       "Text(0.5, 1.0, 'Количество операторов у клиентов')"
      ]
     },
     "execution_count": 103,
     "metadata": {},
     "output_type": "execute_result"
    },
    {
     "data": {
      "image/png": "[encoded data removed]",
      "text/plain": [
       "<Figure size 432x288 with 1 Axes>"
      ]
     },
     "metadata": {
      "needs_background": "light"
     },
     "output_type": "display_data"
    }
   ],
   "source": [
    "sns.distplot(cnt_operators_cor['quantity_of_operators'], norm_hist=True, bins = range(12), label='0')\n",
    "plt.title('Количество операторов у клиентов')"
   ]
  },
  {
   "cell_type": "markdown",
   "metadata": {},
   "source": [
    "\n",
    "По очищенным данным:\n",
    "    \n",
    "У большинства клиентов от 1 до 2 операторов.\n",
    "    \n",
    "У 50% клиентов не более 2ух операторов\n",
    "    \n",
    "у 75% клиентов не больше 4 операторов.\n",
    "    \n",
    "Максимальное значение операторов по выборке без выбросов - 12\n",
    "    "
   ]
  },
  {
   "cell_type": "markdown",
   "metadata": {},
   "source": [
    "**Соотношение входящих и исходящих звонков**"
   ]
  },
  {
   "cell_type": "code",
   "execution_count": 35,
   "metadata": {},
   "outputs": [
    {
     "data": {
      "text/plain": [
       "out    31717\n",
       "in     13953\n",
       "Name: direction, dtype: int64"
      ]
     },
     "execution_count": 35,
     "metadata": {},
     "output_type": "execute_result"
    }
   ],
   "source": [
    "telecom_dataset['direction'].value_counts()"
   ]
  },
  {
   "cell_type": "markdown",
   "metadata": {},
   "source": [
    "В датасете 69,45% звонков исходящих, и 30,55% звонков входящих. "
   ]
  },
  {
   "cell_type": "markdown",
   "metadata": {},
   "source": [
    "**Может ли оператор работать и со входящими и с исходящими звонками?**"
   ]
  },
  {
   "cell_type": "code",
   "execution_count": 36,
   "metadata": {},
   "outputs": [
    {
     "data": {
      "text/plain": [
       "544"
      ]
     },
     "execution_count": 36,
     "metadata": {},
     "output_type": "execute_result"
    }
   ],
   "source": [
    "operator_in_2_groups = telecom_dataset.groupby('operator_id').agg({'direction':'nunique'})\n",
    "\n",
    "operator_in_2_groups_filter = operator_in_2_groups[operator_in_2_groups['direction'] == 2].reset_index()\n",
    "operator_in_2_groups_filter['operator_id'].nunique()"
   ]
  },
  {
   "cell_type": "markdown",
   "metadata": {},
   "source": [
    "\n",
    "    544 оператора из 1092 работают как с исходящими, так и с входящими звонками.\n",
    "    (49,82% от общего количества операторов)\n",
    "    \n",
    "    Соответственно 50,18% операторов работают только с одной группой звонков."
   ]
  },
  {
   "cell_type": "markdown",
   "metadata": {},
   "source": [
    "### 2.2. Исследовать время ожидания входящих внешних вызовов. На основе исследования распределения данных выявить критерии определения неэффективных операторов. Определить порог после которого, время ожидания будет считаться высоким.<a class=\"anchor\" id=\"2-2-bullet\"></a>"
   ]
  },
  {
   "cell_type": "code",
   "execution_count": 37,
   "metadata": {},
   "outputs": [
    {
     "data": {
      "text/html": [
       "<div>\n",
       "<style scoped>\n",
       "    .dataframe tbody tr th:only-of-type {\n",
       "        vertical-align: middle;\n",
       "    }\n",
       "\n",
       "    .dataframe tbody tr th {\n",
       "        vertical-align: top;\n",
       "    }\n",
       "\n",
       "    .dataframe thead th {\n",
       "        text-align: right;\n",
       "    }\n",
       "</style>\n",
       "<table border=\"1\" class=\"dataframe\">\n",
       "  <thead>\n",
       "    <tr style=\"text-align: right;\">\n",
       "      <th></th>\n",
       "      <th>user_id</th>\n",
       "      <th>date</th>\n",
       "      <th>direction</th>\n",
       "      <th>internal</th>\n",
       "      <th>operator_id</th>\n",
       "      <th>is_missed_call</th>\n",
       "      <th>calls_count</th>\n",
       "      <th>call_duration</th>\n",
       "      <th>total_call_duration</th>\n",
       "      <th>waiting_time</th>\n",
       "      <th>avg_wait_time_per_call</th>\n",
       "    </tr>\n",
       "  </thead>\n",
       "  <tbody>\n",
       "    <tr>\n",
       "      <td>26</td>\n",
       "      <td>166377</td>\n",
       "      <td>2019-08-12</td>\n",
       "      <td>in</td>\n",
       "      <td>0</td>\n",
       "      <td>880028.0</td>\n",
       "      <td>0</td>\n",
       "      <td>1</td>\n",
       "      <td>407</td>\n",
       "      <td>411</td>\n",
       "      <td>4</td>\n",
       "      <td>4.0</td>\n",
       "    </tr>\n",
       "    <tr>\n",
       "      <td>34</td>\n",
       "      <td>166377</td>\n",
       "      <td>2019-08-13</td>\n",
       "      <td>in</td>\n",
       "      <td>0</td>\n",
       "      <td>880028.0</td>\n",
       "      <td>0</td>\n",
       "      <td>1</td>\n",
       "      <td>88</td>\n",
       "      <td>102</td>\n",
       "      <td>14</td>\n",
       "      <td>14.0</td>\n",
       "    </tr>\n",
       "    <tr>\n",
       "      <td>37</td>\n",
       "      <td>166377</td>\n",
       "      <td>2019-08-14</td>\n",
       "      <td>in</td>\n",
       "      <td>0</td>\n",
       "      <td>880026.0</td>\n",
       "      <td>0</td>\n",
       "      <td>2</td>\n",
       "      <td>197</td>\n",
       "      <td>218</td>\n",
       "      <td>21</td>\n",
       "      <td>10.5</td>\n",
       "    </tr>\n",
       "    <tr>\n",
       "      <td>39</td>\n",
       "      <td>166377</td>\n",
       "      <td>2019-08-14</td>\n",
       "      <td>in</td>\n",
       "      <td>0</td>\n",
       "      <td>880028.0</td>\n",
       "      <td>0</td>\n",
       "      <td>1</td>\n",
       "      <td>33</td>\n",
       "      <td>37</td>\n",
       "      <td>4</td>\n",
       "      <td>4.0</td>\n",
       "    </tr>\n",
       "    <tr>\n",
       "      <td>49</td>\n",
       "      <td>166377</td>\n",
       "      <td>2019-08-15</td>\n",
       "      <td>in</td>\n",
       "      <td>0</td>\n",
       "      <td>880028.0</td>\n",
       "      <td>0</td>\n",
       "      <td>1</td>\n",
       "      <td>23</td>\n",
       "      <td>27</td>\n",
       "      <td>4</td>\n",
       "      <td>4.0</td>\n",
       "    </tr>\n",
       "  </tbody>\n",
       "</table>\n",
       "</div>"
      ],
      "text/plain": [
       "    user_id       date direction  internal  operator_id  is_missed_call  \\\n",
       "26   166377 2019-08-12        in         0     880028.0               0   \n",
       "34   166377 2019-08-13        in         0     880028.0               0   \n",
       "37   166377 2019-08-14        in         0     880026.0               0   \n",
       "39   166377 2019-08-14        in         0     880028.0               0   \n",
       "49   166377 2019-08-15        in         0     880028.0               0   \n",
       "\n",
       "    calls_count  call_duration  total_call_duration  waiting_time  \\\n",
       "26            1            407                  411             4   \n",
       "34            1             88                  102            14   \n",
       "37            2            197                  218            21   \n",
       "39            1             33                   37             4   \n",
       "49            1             23                   27             4   \n",
       "\n",
       "    avg_wait_time_per_call  \n",
       "26                     4.0  \n",
       "34                    14.0  \n",
       "37                    10.5  \n",
       "39                     4.0  \n",
       "49                     4.0  "
      ]
     },
     "execution_count": 37,
     "metadata": {},
     "output_type": "execute_result"
    }
   ],
   "source": [
    "incoming_calls = telecom_dataset[telecom_dataset['direction'] == \"in\"]\n",
    "incoming_calls.head()"
   ]
  },
  {
   "cell_type": "code",
   "execution_count": 38,
   "metadata": {},
   "outputs": [
    {
     "data": {
      "text/html": [
       "<div>\n",
       "<style scoped>\n",
       "    .dataframe tbody tr th:only-of-type {\n",
       "        vertical-align: middle;\n",
       "    }\n",
       "\n",
       "    .dataframe tbody tr th {\n",
       "        vertical-align: top;\n",
       "    }\n",
       "\n",
       "    .dataframe thead th {\n",
       "        text-align: right;\n",
       "    }\n",
       "</style>\n",
       "<table border=\"1\" class=\"dataframe\">\n",
       "  <thead>\n",
       "    <tr style=\"text-align: right;\">\n",
       "      <th></th>\n",
       "      <th>user_id</th>\n",
       "      <th>date</th>\n",
       "      <th>direction</th>\n",
       "      <th>internal</th>\n",
       "      <th>operator_id</th>\n",
       "      <th>is_missed_call</th>\n",
       "      <th>calls_count</th>\n",
       "      <th>call_duration</th>\n",
       "      <th>total_call_duration</th>\n",
       "      <th>waiting_time</th>\n",
       "      <th>avg_wait_time_per_call</th>\n",
       "    </tr>\n",
       "  </thead>\n",
       "  <tbody>\n",
       "    <tr>\n",
       "      <td>26</td>\n",
       "      <td>166377</td>\n",
       "      <td>2019-08-12</td>\n",
       "      <td>in</td>\n",
       "      <td>0</td>\n",
       "      <td>880028.0</td>\n",
       "      <td>0</td>\n",
       "      <td>1</td>\n",
       "      <td>407</td>\n",
       "      <td>411</td>\n",
       "      <td>4</td>\n",
       "      <td>4.0</td>\n",
       "    </tr>\n",
       "    <tr>\n",
       "      <td>34</td>\n",
       "      <td>166377</td>\n",
       "      <td>2019-08-13</td>\n",
       "      <td>in</td>\n",
       "      <td>0</td>\n",
       "      <td>880028.0</td>\n",
       "      <td>0</td>\n",
       "      <td>1</td>\n",
       "      <td>88</td>\n",
       "      <td>102</td>\n",
       "      <td>14</td>\n",
       "      <td>14.0</td>\n",
       "    </tr>\n",
       "    <tr>\n",
       "      <td>37</td>\n",
       "      <td>166377</td>\n",
       "      <td>2019-08-14</td>\n",
       "      <td>in</td>\n",
       "      <td>0</td>\n",
       "      <td>880026.0</td>\n",
       "      <td>0</td>\n",
       "      <td>2</td>\n",
       "      <td>197</td>\n",
       "      <td>218</td>\n",
       "      <td>21</td>\n",
       "      <td>10.5</td>\n",
       "    </tr>\n",
       "    <tr>\n",
       "      <td>39</td>\n",
       "      <td>166377</td>\n",
       "      <td>2019-08-14</td>\n",
       "      <td>in</td>\n",
       "      <td>0</td>\n",
       "      <td>880028.0</td>\n",
       "      <td>0</td>\n",
       "      <td>1</td>\n",
       "      <td>33</td>\n",
       "      <td>37</td>\n",
       "      <td>4</td>\n",
       "      <td>4.0</td>\n",
       "    </tr>\n",
       "    <tr>\n",
       "      <td>49</td>\n",
       "      <td>166377</td>\n",
       "      <td>2019-08-15</td>\n",
       "      <td>in</td>\n",
       "      <td>0</td>\n",
       "      <td>880028.0</td>\n",
       "      <td>0</td>\n",
       "      <td>1</td>\n",
       "      <td>23</td>\n",
       "      <td>27</td>\n",
       "      <td>4</td>\n",
       "      <td>4.0</td>\n",
       "    </tr>\n",
       "  </tbody>\n",
       "</table>\n",
       "</div>"
      ],
      "text/plain": [
       "    user_id       date direction  internal  operator_id  is_missed_call  \\\n",
       "26   166377 2019-08-12        in         0     880028.0               0   \n",
       "34   166377 2019-08-13        in         0     880028.0               0   \n",
       "37   166377 2019-08-14        in         0     880026.0               0   \n",
       "39   166377 2019-08-14        in         0     880028.0               0   \n",
       "49   166377 2019-08-15        in         0     880028.0               0   \n",
       "\n",
       "    calls_count  call_duration  total_call_duration  waiting_time  \\\n",
       "26            1            407                  411             4   \n",
       "34            1             88                  102            14   \n",
       "37            2            197                  218            21   \n",
       "39            1             33                   37             4   \n",
       "49            1             23                   27             4   \n",
       "\n",
       "    avg_wait_time_per_call  \n",
       "26                     4.0  \n",
       "34                    14.0  \n",
       "37                    10.5  \n",
       "39                     4.0  \n",
       "49                     4.0  "
      ]
     },
     "execution_count": 38,
     "metadata": {},
     "output_type": "execute_result"
    }
   ],
   "source": [
    "outer_incoming_calls = incoming_calls[incoming_calls['internal'] == 0]\n",
    "outer_incoming_calls.head()"
   ]
  },
  {
   "cell_type": "code",
   "execution_count": 39,
   "metadata": {},
   "outputs": [
    {
     "data": {
      "text/plain": [
       "count    13535.000000\n",
       "mean        16.577937\n",
       "std         13.565961\n",
       "min          0.000000\n",
       "25%          7.732057\n",
       "50%         13.000000\n",
       "75%         21.500000\n",
       "max        261.000000\n",
       "Name: avg_wait_time_per_call, dtype: float64"
      ]
     },
     "execution_count": 39,
     "metadata": {},
     "output_type": "execute_result"
    }
   ],
   "source": [
    "outer_incoming_calls['avg_wait_time_per_call'].describe()"
   ]
  },
  {
   "cell_type": "markdown",
   "metadata": {},
   "source": [
    "\n",
    "среднее время ожидания у входящего внешнего звонка - 16.58\n",
    "    \n",
    "стандартное отклонение - 13.57 говорит о выбрасах и анамалиях в выборке\n",
    "\n",
    "у 25% входящих внешних звонков время ожидания составило - 7.73 секунды\n",
    "    \n",
    "у 50% входящих внешних звонков время ожидания составило - 13 секунд\n",
    "    \n",
    "у 75% входящих внешних звонков время ожидания составило - 21.5 секунды\n",
    "        \n",
    "максимальное значение - 261 секунда\n",
    "    \n",
    "Посмотрим на диаграмму размаха\n"
   ]
  },
  {
   "cell_type": "code",
   "execution_count": 40,
   "metadata": {},
   "outputs": [
    {
     "data": {
      "text/plain": [
       "<matplotlib.axes._subplots.AxesSubplot at 0x7fe4d0329a10>"
      ]
     },
     "execution_count": 40,
     "metadata": {},
     "output_type": "execute_result"
    },
    {
     "data": {
      "image/png": "[encoded data removed]",
      "text/plain": [
       "<Figure size 432x432 with 1 Axes>"
      ]
     },
     "metadata": {
      "needs_background": "light"
     },
     "output_type": "display_data"
    }
   ],
   "source": [
    "outer_incoming_calls.boxplot(column='avg_wait_time_per_call', figsize=(6,6))"
   ]
  },
  {
   "cell_type": "code",
   "execution_count": 41,
   "metadata": {},
   "outputs": [
    {
     "data": {
      "text/plain": [
       "(0, 43)"
      ]
     },
     "execution_count": 41,
     "metadata": {},
     "output_type": "execute_result"
    },
    {
     "data": {
      "image/png": "[encoded data removed]",
      "text/plain": [
       "<Figure size 432x432 with 1 Axes>"
      ]
     },
     "metadata": {
      "needs_background": "light"
     },
     "output_type": "display_data"
    }
   ],
   "source": [
    "outer_incoming_calls.boxplot(column='avg_wait_time_per_call', figsize=(6,6))\n",
    "plt.ylim(0, 43)"
   ]
  },
  {
   "cell_type": "code",
   "execution_count": 42,
   "metadata": {},
   "outputs": [
    {
     "data": {
      "text/plain": [
       "array([40.5])"
      ]
     },
     "execution_count": 42,
     "metadata": {},
     "output_type": "execute_result"
    }
   ],
   "source": [
    "np.percentile(outer_incoming_calls['avg_wait_time_per_call'], [95])"
   ]
  },
  {
   "cell_type": "code",
   "execution_count": 43,
   "metadata": {},
   "outputs": [
    {
     "data": {
      "text/plain": [
       "count    12867.000000\n",
       "mean        14.509734\n",
       "std          9.012814\n",
       "min          0.000000\n",
       "25%          7.500000\n",
       "50%         12.333333\n",
       "75%         20.000000\n",
       "max         40.500000\n",
       "Name: avg_wait_time_per_call, dtype: float64"
      ]
     },
     "execution_count": 43,
     "metadata": {},
     "output_type": "execute_result"
    }
   ],
   "source": [
    "outer_incoming_calls = outer_incoming_calls.query('avg_wait_time_per_call <= avg_wait_time_per_call.quantile(0.95)')\n",
    "outer_incoming_calls['avg_wait_time_per_call'].describe()"
   ]
  },
  {
   "cell_type": "code",
   "execution_count": 104,
   "metadata": {},
   "outputs": [
    {
     "data": {
      "text/plain": [
       "Text(0.5, 1.0, 'Время ожидания входящих внешних вызовов')"
      ]
     },
     "execution_count": 104,
     "metadata": {},
     "output_type": "execute_result"
    },
    {
     "data": {
      "image/png": "[encoded data removed]",
      "text/plain": [
       "<Figure size 432x288 with 1 Axes>"
      ]
     },
     "metadata": {
      "needs_background": "light"
     },
     "output_type": "display_data"
    }
   ],
   "source": [
    "sns.distplot(outer_incoming_calls['avg_wait_time_per_call'],  norm_hist=True, bins = range(40))\n",
    "plt.title('Время ожидания входящих внешних вызовов')"
   ]
  },
  {
   "cell_type": "code",
   "execution_count": 45,
   "metadata": {},
   "outputs": [
    {
     "data": {
      "text/plain": [
       "array([13.75, 15.  ])"
      ]
     },
     "execution_count": 45,
     "metadata": {},
     "output_type": "execute_result"
    }
   ],
   "source": [
    "np.percentile(outer_incoming_calls['avg_wait_time_per_call'], [55, 60])"
   ]
  },
  {
   "cell_type": "markdown",
   "metadata": {},
   "source": [
    "\n",
    "По очищенным данным:\n",
    "    \n",
    "среднее время ожидания у входящего внешнего звонка - 14,5 секунды\n",
    "    \n",
    "у 25% входящих внешних звонков время ожидания составило - 7.5 секунды\n",
    "    \n",
    "у 50% входящих внешних звонков время ожидания составило - 12,3 секунды\n",
    "    \n",
    "у 75% входящих внешних звонков время ожидания составило - 20 секунд\n",
    "        \n",
    "Выбросы были от 40,5 до 261 секунды\n",
    "    \n",
    "    \n",
    "*Сделаем порог в **15 секунд**, после которого время ожидания будет считаться высоким. Соответственно, операторы отвечающие на внешний входящий звонок, более 15 секунд будут считаться не эффективными.*\n"
   ]
  },
  {
   "cell_type": "code",
   "execution_count": 46,
   "metadata": {},
   "outputs": [
    {
     "data": {
      "text/html": [
       "<div>\n",
       "<style scoped>\n",
       "    .dataframe tbody tr th:only-of-type {\n",
       "        vertical-align: middle;\n",
       "    }\n",
       "\n",
       "    .dataframe tbody tr th {\n",
       "        vertical-align: top;\n",
       "    }\n",
       "\n",
       "    .dataframe thead th {\n",
       "        text-align: right;\n",
       "    }\n",
       "</style>\n",
       "<table border=\"1\" class=\"dataframe\">\n",
       "  <thead>\n",
       "    <tr style=\"text-align: right;\">\n",
       "      <th></th>\n",
       "      <th>operator_id</th>\n",
       "      <th>avg_wait_time_per_call</th>\n",
       "    </tr>\n",
       "  </thead>\n",
       "  <tbody>\n",
       "    <tr>\n",
       "      <td>0</td>\n",
       "      <td>879896.0</td>\n",
       "      <td>11.378190</td>\n",
       "    </tr>\n",
       "    <tr>\n",
       "      <td>1</td>\n",
       "      <td>879898.0</td>\n",
       "      <td>10.385278</td>\n",
       "    </tr>\n",
       "    <tr>\n",
       "      <td>2</td>\n",
       "      <td>880020.0</td>\n",
       "      <td>7.250000</td>\n",
       "    </tr>\n",
       "    <tr>\n",
       "      <td>3</td>\n",
       "      <td>880022.0</td>\n",
       "      <td>14.000000</td>\n",
       "    </tr>\n",
       "    <tr>\n",
       "      <td>4</td>\n",
       "      <td>880026.0</td>\n",
       "      <td>5.991228</td>\n",
       "    </tr>\n",
       "  </tbody>\n",
       "</table>\n",
       "</div>"
      ],
      "text/plain": [
       "   operator_id  avg_wait_time_per_call\n",
       "0     879896.0               11.378190\n",
       "1     879898.0               10.385278\n",
       "2     880020.0                7.250000\n",
       "3     880022.0               14.000000\n",
       "4     880026.0                5.991228"
      ]
     },
     "execution_count": 46,
     "metadata": {},
     "output_type": "execute_result"
    }
   ],
   "source": [
    "check_incoming_calls = outer_incoming_calls.groupby('operator_id')['avg_wait_time_per_call'].mean().reset_index()\n",
    "check_incoming_calls.head()"
   ]
  },
  {
   "cell_type": "markdown",
   "metadata": {},
   "source": [
    "\n",
    "    \n",
    "**Функция, определяющая операторов, которые отвечают на звонки более 15 секунд**"
   ]
  },
  {
   "cell_type": "code",
   "execution_count": 47,
   "metadata": {},
   "outputs": [],
   "source": [
    "def check_avg_wait_time_per_call(avg_wait_time_per_call):\n",
    "    if avg_wait_time_per_call > 15:\n",
    "        return 'не эффективно'\n",
    "    else:\n",
    "        return 'в допуске'\n",
    " \n",
    "check_incoming_calls['check'] = check_incoming_calls['avg_wait_time_per_call'].apply(check_avg_wait_time_per_call)"
   ]
  },
  {
   "cell_type": "code",
   "execution_count": 48,
   "metadata": {},
   "outputs": [
    {
     "data": {
      "text/html": [
       "<div>\n",
       "<style scoped>\n",
       "    .dataframe tbody tr th:only-of-type {\n",
       "        vertical-align: middle;\n",
       "    }\n",
       "\n",
       "    .dataframe tbody tr th {\n",
       "        vertical-align: top;\n",
       "    }\n",
       "\n",
       "    .dataframe thead th {\n",
       "        text-align: right;\n",
       "    }\n",
       "</style>\n",
       "<table border=\"1\" class=\"dataframe\">\n",
       "  <thead>\n",
       "    <tr style=\"text-align: right;\">\n",
       "      <th></th>\n",
       "      <th>operator_id</th>\n",
       "      <th>avg_wait_time_per_call</th>\n",
       "      <th>check</th>\n",
       "    </tr>\n",
       "  </thead>\n",
       "  <tbody>\n",
       "    <tr>\n",
       "      <td>0</td>\n",
       "      <td>879896.0</td>\n",
       "      <td>11.378190</td>\n",
       "      <td>в допуске</td>\n",
       "    </tr>\n",
       "    <tr>\n",
       "      <td>1</td>\n",
       "      <td>879898.0</td>\n",
       "      <td>10.385278</td>\n",
       "      <td>в допуске</td>\n",
       "    </tr>\n",
       "    <tr>\n",
       "      <td>2</td>\n",
       "      <td>880020.0</td>\n",
       "      <td>7.250000</td>\n",
       "      <td>в допуске</td>\n",
       "    </tr>\n",
       "    <tr>\n",
       "      <td>3</td>\n",
       "      <td>880022.0</td>\n",
       "      <td>14.000000</td>\n",
       "      <td>в допуске</td>\n",
       "    </tr>\n",
       "    <tr>\n",
       "      <td>4</td>\n",
       "      <td>880026.0</td>\n",
       "      <td>5.991228</td>\n",
       "      <td>в допуске</td>\n",
       "    </tr>\n",
       "    <tr>\n",
       "      <td>5</td>\n",
       "      <td>880028.0</td>\n",
       "      <td>6.304444</td>\n",
       "      <td>в допуске</td>\n",
       "    </tr>\n",
       "    <tr>\n",
       "      <td>6</td>\n",
       "      <td>882476.0</td>\n",
       "      <td>15.500000</td>\n",
       "      <td>не эффективно</td>\n",
       "    </tr>\n",
       "    <tr>\n",
       "      <td>7</td>\n",
       "      <td>882478.0</td>\n",
       "      <td>13.000000</td>\n",
       "      <td>в допуске</td>\n",
       "    </tr>\n",
       "    <tr>\n",
       "      <td>8</td>\n",
       "      <td>882680.0</td>\n",
       "      <td>15.218699</td>\n",
       "      <td>не эффективно</td>\n",
       "    </tr>\n",
       "    <tr>\n",
       "      <td>9</td>\n",
       "      <td>882684.0</td>\n",
       "      <td>15.998179</td>\n",
       "      <td>не эффективно</td>\n",
       "    </tr>\n",
       "  </tbody>\n",
       "</table>\n",
       "</div>"
      ],
      "text/plain": [
       "   operator_id  avg_wait_time_per_call          check\n",
       "0     879896.0               11.378190      в допуске\n",
       "1     879898.0               10.385278      в допуске\n",
       "2     880020.0                7.250000      в допуске\n",
       "3     880022.0               14.000000      в допуске\n",
       "4     880026.0                5.991228      в допуске\n",
       "5     880028.0                6.304444      в допуске\n",
       "6     882476.0               15.500000  не эффективно\n",
       "7     882478.0               13.000000      в допуске\n",
       "8     882680.0               15.218699  не эффективно\n",
       "9     882684.0               15.998179  не эффективно"
      ]
     },
     "execution_count": 48,
     "metadata": {},
     "output_type": "execute_result"
    }
   ],
   "source": [
    "check_incoming_calls.head(10)"
   ]
  },
  {
   "cell_type": "markdown",
   "metadata": {},
   "source": [
    "### 2.3. Исследовать долю пропущенных звонков по операторам. На основе исследования распределения данных выявить критерии определения неэффективных операторов. Определить порог после которого, число пропущенных входящих вызовов будет считаться большим.<a class=\"anchor\" id=\"2-3-bullet\"></a>"
   ]
  },
  {
   "cell_type": "code",
   "execution_count": 49,
   "metadata": {},
   "outputs": [
    {
     "data": {
      "text/plain": [
       "0    30153\n",
       "1    15517\n",
       "Name: is_missed_call, dtype: int64"
      ]
     },
     "execution_count": 49,
     "metadata": {},
     "output_type": "execute_result"
    }
   ],
   "source": [
    "telecom_dataset['is_missed_call'].value_counts()"
   ]
  },
  {
   "cell_type": "markdown",
   "metadata": {},
   "source": [
    "\n",
    "    В датасете 66,02% - принятых звонков и 33,98% не принятых звонков."
   ]
  },
  {
   "cell_type": "code",
   "execution_count": 50,
   "metadata": {},
   "outputs": [
    {
     "data": {
      "text/plain": [
       "count                   45670\n",
       "unique                    118\n",
       "top       2019-11-25 00:00:00\n",
       "freq                     1083\n",
       "first     2019-08-02 00:00:00\n",
       "last      2019-11-28 00:00:00\n",
       "Name: date, dtype: object"
      ]
     },
     "execution_count": 50,
     "metadata": {},
     "output_type": "execute_result"
    }
   ],
   "source": [
    "telecom_dataset['date'].describe()"
   ]
  },
  {
   "cell_type": "markdown",
   "metadata": {},
   "source": [
    "    Данные взяты с 2019-08-02 по 2019-11-28 за 119 календарных дня. Брать общее количество пропущенных звонков\n",
    "    по операторам и сравнивать их не корректно, так как операторы работали разное количество дней. Поэтому для каждого\n",
    "    оператора будет посчитаны пропущенные звонки за каждый день и выведено среднее количество пропущенных за день."
   ]
  },
  {
   "cell_type": "code",
   "execution_count": 51,
   "metadata": {},
   "outputs": [
    {
     "data": {
      "text/html": [
       "<div>\n",
       "<style scoped>\n",
       "    .dataframe tbody tr th:only-of-type {\n",
       "        vertical-align: middle;\n",
       "    }\n",
       "\n",
       "    .dataframe tbody tr th {\n",
       "        vertical-align: top;\n",
       "    }\n",
       "\n",
       "    .dataframe thead th {\n",
       "        text-align: right;\n",
       "    }\n",
       "</style>\n",
       "<table border=\"1\" class=\"dataframe\">\n",
       "  <thead>\n",
       "    <tr style=\"text-align: right;\">\n",
       "      <th></th>\n",
       "      <th>index</th>\n",
       "      <th>user_id</th>\n",
       "      <th>date</th>\n",
       "      <th>direction</th>\n",
       "      <th>internal</th>\n",
       "      <th>operator_id</th>\n",
       "      <th>is_missed_call</th>\n",
       "      <th>calls_count</th>\n",
       "      <th>call_duration</th>\n",
       "      <th>total_call_duration</th>\n",
       "      <th>waiting_time</th>\n",
       "      <th>avg_wait_time_per_call</th>\n",
       "    </tr>\n",
       "  </thead>\n",
       "  <tbody>\n",
       "    <tr>\n",
       "      <td>0</td>\n",
       "      <td>1</td>\n",
       "      <td>166377</td>\n",
       "      <td>2019-08-05</td>\n",
       "      <td>out</td>\n",
       "      <td>1</td>\n",
       "      <td>880022.0</td>\n",
       "      <td>1</td>\n",
       "      <td>3</td>\n",
       "      <td>0</td>\n",
       "      <td>5</td>\n",
       "      <td>5</td>\n",
       "      <td>1.666667</td>\n",
       "    </tr>\n",
       "    <tr>\n",
       "      <td>1</td>\n",
       "      <td>2</td>\n",
       "      <td>166377</td>\n",
       "      <td>2019-08-05</td>\n",
       "      <td>out</td>\n",
       "      <td>1</td>\n",
       "      <td>880020.0</td>\n",
       "      <td>1</td>\n",
       "      <td>1</td>\n",
       "      <td>0</td>\n",
       "      <td>1</td>\n",
       "      <td>1</td>\n",
       "      <td>1.000000</td>\n",
       "    </tr>\n",
       "    <tr>\n",
       "      <td>2</td>\n",
       "      <td>4</td>\n",
       "      <td>166377</td>\n",
       "      <td>2019-08-05</td>\n",
       "      <td>out</td>\n",
       "      <td>0</td>\n",
       "      <td>880022.0</td>\n",
       "      <td>1</td>\n",
       "      <td>3</td>\n",
       "      <td>0</td>\n",
       "      <td>25</td>\n",
       "      <td>25</td>\n",
       "      <td>8.333333</td>\n",
       "    </tr>\n",
       "    <tr>\n",
       "      <td>3</td>\n",
       "      <td>6</td>\n",
       "      <td>166377</td>\n",
       "      <td>2019-08-05</td>\n",
       "      <td>out</td>\n",
       "      <td>0</td>\n",
       "      <td>880020.0</td>\n",
       "      <td>1</td>\n",
       "      <td>8</td>\n",
       "      <td>0</td>\n",
       "      <td>50</td>\n",
       "      <td>50</td>\n",
       "      <td>6.250000</td>\n",
       "    </tr>\n",
       "    <tr>\n",
       "      <td>4</td>\n",
       "      <td>8</td>\n",
       "      <td>166377</td>\n",
       "      <td>2019-08-05</td>\n",
       "      <td>out</td>\n",
       "      <td>0</td>\n",
       "      <td>880020.0</td>\n",
       "      <td>1</td>\n",
       "      <td>8</td>\n",
       "      <td>0</td>\n",
       "      <td>50</td>\n",
       "      <td>50</td>\n",
       "      <td>6.250000</td>\n",
       "    </tr>\n",
       "  </tbody>\n",
       "</table>\n",
       "</div>"
      ],
      "text/plain": [
       "   index  user_id       date direction  internal  operator_id  is_missed_call  \\\n",
       "0      1   166377 2019-08-05       out         1     880022.0               1   \n",
       "1      2   166377 2019-08-05       out         1     880020.0               1   \n",
       "2      4   166377 2019-08-05       out         0     880022.0               1   \n",
       "3      6   166377 2019-08-05       out         0     880020.0               1   \n",
       "4      8   166377 2019-08-05       out         0     880020.0               1   \n",
       "\n",
       "   calls_count  call_duration  total_call_duration  waiting_time  \\\n",
       "0            3              0                    5             5   \n",
       "1            1              0                    1             1   \n",
       "2            3              0                   25            25   \n",
       "3            8              0                   50            50   \n",
       "4            8              0                   50            50   \n",
       "\n",
       "   avg_wait_time_per_call  \n",
       "0                1.666667  \n",
       "1                1.000000  \n",
       "2                8.333333  \n",
       "3                6.250000  \n",
       "4                6.250000  "
      ]
     },
     "execution_count": 51,
     "metadata": {},
     "output_type": "execute_result"
    }
   ],
   "source": [
    "telecom_missed_call = telecom_dataset[telecom_dataset['is_missed_call'] == 1].reset_index()\n",
    "telecom_missed_call.head()"
   ]
  },
  {
   "cell_type": "code",
   "execution_count": 52,
   "metadata": {},
   "outputs": [
    {
     "data": {
      "text/html": [
       "<div>\n",
       "<style scoped>\n",
       "    .dataframe tbody tr th:only-of-type {\n",
       "        vertical-align: middle;\n",
       "    }\n",
       "\n",
       "    .dataframe tbody tr th {\n",
       "        vertical-align: top;\n",
       "    }\n",
       "\n",
       "    .dataframe thead th {\n",
       "        text-align: right;\n",
       "    }\n",
       "</style>\n",
       "<table border=\"1\" class=\"dataframe\">\n",
       "  <thead>\n",
       "    <tr style=\"text-align: right;\">\n",
       "      <th></th>\n",
       "      <th>operator_id</th>\n",
       "      <th>date</th>\n",
       "      <th>calls_count</th>\n",
       "    </tr>\n",
       "  </thead>\n",
       "  <tbody>\n",
       "    <tr>\n",
       "      <td>0</td>\n",
       "      <td>879896.0</td>\n",
       "      <td>2019-08-02</td>\n",
       "      <td>8.0</td>\n",
       "    </tr>\n",
       "    <tr>\n",
       "      <td>1</td>\n",
       "      <td>879896.0</td>\n",
       "      <td>2019-08-03</td>\n",
       "      <td>7.0</td>\n",
       "    </tr>\n",
       "    <tr>\n",
       "      <td>2</td>\n",
       "      <td>879896.0</td>\n",
       "      <td>2019-08-04</td>\n",
       "      <td>1.0</td>\n",
       "    </tr>\n",
       "    <tr>\n",
       "      <td>3</td>\n",
       "      <td>879896.0</td>\n",
       "      <td>2019-08-05</td>\n",
       "      <td>1.0</td>\n",
       "    </tr>\n",
       "    <tr>\n",
       "      <td>4</td>\n",
       "      <td>879896.0</td>\n",
       "      <td>2019-08-06</td>\n",
       "      <td>4.0</td>\n",
       "    </tr>\n",
       "  </tbody>\n",
       "</table>\n",
       "</div>"
      ],
      "text/plain": [
       "   operator_id       date  calls_count\n",
       "0     879896.0 2019-08-02          8.0\n",
       "1     879896.0 2019-08-03          7.0\n",
       "2     879896.0 2019-08-04          1.0\n",
       "3     879896.0 2019-08-05          1.0\n",
       "4     879896.0 2019-08-06          4.0"
      ]
     },
     "execution_count": 52,
     "metadata": {},
     "output_type": "execute_result"
    }
   ],
   "source": [
    "cnt_missed_call = telecom_missed_call.groupby(['operator_id', 'date'])['calls_count'].mean().reset_index()\n",
    "cnt_missed_call.head()"
   ]
  },
  {
   "cell_type": "code",
   "execution_count": 53,
   "metadata": {},
   "outputs": [
    {
     "data": {
      "text/plain": [
       "count    12321.000000\n",
       "mean        20.053187\n",
       "std         76.380174\n",
       "min          1.000000\n",
       "25%          2.000000\n",
       "50%          5.000000\n",
       "75%         16.000000\n",
       "max       4817.000000\n",
       "Name: calls_count, dtype: float64"
      ]
     },
     "execution_count": 53,
     "metadata": {},
     "output_type": "execute_result"
    }
   ],
   "source": [
    "cnt_missed_call['calls_count'].describe()"
   ]
  },
  {
   "cell_type": "markdown",
   "metadata": {},
   "source": [
    "\n",
    "Среднее количество пропущенных звонков в день у операторов - 20\n",
    "    \n",
    "Стандартная ошибка - 76.38 говорит о сильных выбросах и аномалиях.\n",
    "    \n",
    "25% операторов пропускают до 2 звонков в день.\n",
    "    \n",
    "у 50% операторов количество пропущенных звонков не превысило 5-ти\n",
    "    \n",
    "у 75% операторов количество пропущенных звонков не превысило 16-ти\n",
    "    \n",
    "максимальный выброс - 4817 пропущенных звонков. Если у оператора 12 часовой рабочий день, он должен был пропускать звонок каждые 9 секунд, что является не возможным.\n",
    "    \n",
    "Посмотрим на диаграмму размаха"
   ]
  },
  {
   "cell_type": "code",
   "execution_count": 54,
   "metadata": {},
   "outputs": [
    {
     "data": {
      "text/plain": [
       "<matplotlib.axes._subplots.AxesSubplot at 0x7fe4cda366d0>"
      ]
     },
     "execution_count": 54,
     "metadata": {},
     "output_type": "execute_result"
    },
    {
     "data": {
      "image/png": "[encoded data removed]",
      "text/plain": [
       "<Figure size 432x432 with 1 Axes>"
      ]
     },
     "metadata": {
      "needs_background": "light"
     },
     "output_type": "display_data"
    }
   ],
   "source": [
    "cnt_missed_call.boxplot(column='calls_count', figsize=(6,6))"
   ]
  },
  {
   "cell_type": "code",
   "execution_count": 55,
   "metadata": {},
   "outputs": [
    {
     "data": {
      "text/plain": [
       "(0, 37.5)"
      ]
     },
     "execution_count": 55,
     "metadata": {},
     "output_type": "execute_result"
    },
    {
     "data": {
      "image/png": "[encoded data removed]",
      "text/plain": [
       "<Figure size 432x432 with 1 Axes>"
      ]
     },
     "metadata": {
      "needs_background": "light"
     },
     "output_type": "display_data"
    }
   ],
   "source": [
    "cnt_missed_call.boxplot(column='calls_count', figsize=(6,6))\n",
    "plt.ylim(0, 37.5)"
   ]
  },
  {
   "cell_type": "code",
   "execution_count": 56,
   "metadata": {},
   "outputs": [
    {
     "data": {
      "text/plain": [
       "count    11711.000000\n",
       "mean        10.809209\n",
       "std         14.855648\n",
       "min          1.000000\n",
       "25%          2.000000\n",
       "50%          4.000000\n",
       "75%         13.000000\n",
       "max         74.000000\n",
       "Name: calls_count, dtype: float64"
      ]
     },
     "execution_count": 56,
     "metadata": {},
     "output_type": "execute_result"
    }
   ],
   "source": [
    "cnt_missed_call_cor = cnt_missed_call.query('calls_count <= calls_count.quantile(0.95)')\n",
    "cnt_missed_call_cor['calls_count'].describe()"
   ]
  },
  {
   "cell_type": "code",
   "execution_count": 107,
   "metadata": {},
   "outputs": [
    {
     "data": {
      "text/plain": [
       "Text(0.5, 1.0, 'Количество пропущенных звонков в день')"
      ]
     },
     "execution_count": 107,
     "metadata": {},
     "output_type": "execute_result"
    },
    {
     "data": {
      "image/png": "[encoded data removed]",
      "text/plain": [
       "<Figure size 432x288 with 1 Axes>"
      ]
     },
     "metadata": {
      "needs_background": "light"
     },
     "output_type": "display_data"
    }
   ],
   "source": [
    "sns.distplot(cnt_missed_call_cor['calls_count'], norm_hist=True, bins = range(20))\n",
    "plt.title('Количество пропущенных звонков в день')"
   ]
  },
  {
   "cell_type": "code",
   "execution_count": 58,
   "metadata": {},
   "outputs": [
    {
     "data": {
      "text/plain": [
       "array([5., 7.])"
      ]
     },
     "execution_count": 58,
     "metadata": {},
     "output_type": "execute_result"
    }
   ],
   "source": [
    "np.percentile(cnt_missed_call_cor['calls_count'], [55, 60])"
   ]
  },
  {
   "cell_type": "markdown",
   "metadata": {},
   "source": [
    "\n",
    "    \n",
    "**По очищенным данным**\n",
    "    \n",
    "Большинство значений находятся в диапозоне от 0 до 5\n",
    "    \n",
    "Среднее количество пропущенных звонка в день у операторов - 10,81\n",
    "        \n",
    "25% операторов пропускают до 2 звонков в день.\n",
    "    \n",
    "у 50% операторов количество пропущенных звонков не превысило 4-ех\n",
    "    \n",
    "у 75% операторов количество пропущенных звонков не превысило 13-ти\n",
    "    \n",
    "максимальное количество пропущенных звонков - 74\n",
    "    \n",
    "*Сделаем порог в **6 звонков**, после которого количество пропущенных звонков будет считаться большим. Соответственно, операторы, пропускающие 5 звонков в день, будут считаться не эффективными.*"
   ]
  },
  {
   "cell_type": "markdown",
   "metadata": {},
   "source": [
    "\n",
    "    \n",
    "**Функция, определяющая операторов, которые пропускают более 5 звонков в день**"
   ]
  },
  {
   "cell_type": "code",
   "execution_count": 59,
   "metadata": {},
   "outputs": [],
   "source": [
    "def cnt_missed_call(calls_count):\n",
    "    if calls_count > 6:\n",
    "        return 'не эффективно'\n",
    "    else:\n",
    "        return 'в допуске'\n",
    " \n",
    "cnt_missed_call_cor['check'] = cnt_missed_call_cor['calls_count'].apply(cnt_missed_call)"
   ]
  },
  {
   "cell_type": "code",
   "execution_count": 60,
   "metadata": {},
   "outputs": [
    {
     "data": {
      "text/html": [
       "<div>\n",
       "<style scoped>\n",
       "    .dataframe tbody tr th:only-of-type {\n",
       "        vertical-align: middle;\n",
       "    }\n",
       "\n",
       "    .dataframe tbody tr th {\n",
       "        vertical-align: top;\n",
       "    }\n",
       "\n",
       "    .dataframe thead th {\n",
       "        text-align: right;\n",
       "    }\n",
       "</style>\n",
       "<table border=\"1\" class=\"dataframe\">\n",
       "  <thead>\n",
       "    <tr style=\"text-align: right;\">\n",
       "      <th></th>\n",
       "      <th>operator_id</th>\n",
       "      <th>date</th>\n",
       "      <th>calls_count</th>\n",
       "      <th>check</th>\n",
       "    </tr>\n",
       "  </thead>\n",
       "  <tbody>\n",
       "    <tr>\n",
       "      <td>0</td>\n",
       "      <td>879896.0</td>\n",
       "      <td>2019-08-02</td>\n",
       "      <td>8.0</td>\n",
       "      <td>не эффективно</td>\n",
       "    </tr>\n",
       "    <tr>\n",
       "      <td>1</td>\n",
       "      <td>879896.0</td>\n",
       "      <td>2019-08-03</td>\n",
       "      <td>7.0</td>\n",
       "      <td>не эффективно</td>\n",
       "    </tr>\n",
       "    <tr>\n",
       "      <td>2</td>\n",
       "      <td>879896.0</td>\n",
       "      <td>2019-08-04</td>\n",
       "      <td>1.0</td>\n",
       "      <td>в допуске</td>\n",
       "    </tr>\n",
       "    <tr>\n",
       "      <td>3</td>\n",
       "      <td>879896.0</td>\n",
       "      <td>2019-08-05</td>\n",
       "      <td>1.0</td>\n",
       "      <td>в допуске</td>\n",
       "    </tr>\n",
       "    <tr>\n",
       "      <td>4</td>\n",
       "      <td>879896.0</td>\n",
       "      <td>2019-08-06</td>\n",
       "      <td>4.0</td>\n",
       "      <td>в допуске</td>\n",
       "    </tr>\n",
       "  </tbody>\n",
       "</table>\n",
       "</div>"
      ],
      "text/plain": [
       "   operator_id       date  calls_count          check\n",
       "0     879896.0 2019-08-02          8.0  не эффективно\n",
       "1     879896.0 2019-08-03          7.0  не эффективно\n",
       "2     879896.0 2019-08-04          1.0      в допуске\n",
       "3     879896.0 2019-08-05          1.0      в допуске\n",
       "4     879896.0 2019-08-06          4.0      в допуске"
      ]
     },
     "execution_count": 60,
     "metadata": {},
     "output_type": "execute_result"
    }
   ],
   "source": [
    "cnt_missed_call_cor.head()"
   ]
  },
  {
   "cell_type": "markdown",
   "metadata": {},
   "source": [
    "### 2.4. Исследовать количество исходящих звонков. На основе исследования распределения данных выявить критерии определения неэффективных операторов. Определить порог до которого, число исходящих вызовов будет считаться не достаточным.<a class=\"anchor\" id=\"2-4-bullet\"></a>"
   ]
  },
  {
   "cell_type": "code",
   "execution_count": 61,
   "metadata": {},
   "outputs": [
    {
     "data": {
      "text/html": [
       "<div>\n",
       "<style scoped>\n",
       "    .dataframe tbody tr th:only-of-type {\n",
       "        vertical-align: middle;\n",
       "    }\n",
       "\n",
       "    .dataframe tbody tr th {\n",
       "        vertical-align: top;\n",
       "    }\n",
       "\n",
       "    .dataframe thead th {\n",
       "        text-align: right;\n",
       "    }\n",
       "</style>\n",
       "<table border=\"1\" class=\"dataframe\">\n",
       "  <thead>\n",
       "    <tr style=\"text-align: right;\">\n",
       "      <th></th>\n",
       "      <th>index</th>\n",
       "      <th>user_id</th>\n",
       "      <th>date</th>\n",
       "      <th>direction</th>\n",
       "      <th>internal</th>\n",
       "      <th>operator_id</th>\n",
       "      <th>is_missed_call</th>\n",
       "      <th>calls_count</th>\n",
       "      <th>call_duration</th>\n",
       "      <th>total_call_duration</th>\n",
       "      <th>waiting_time</th>\n",
       "      <th>avg_wait_time_per_call</th>\n",
       "    </tr>\n",
       "  </thead>\n",
       "  <tbody>\n",
       "    <tr>\n",
       "      <td>0</td>\n",
       "      <td>1</td>\n",
       "      <td>166377</td>\n",
       "      <td>2019-08-05</td>\n",
       "      <td>out</td>\n",
       "      <td>1</td>\n",
       "      <td>880022.0</td>\n",
       "      <td>1</td>\n",
       "      <td>3</td>\n",
       "      <td>0</td>\n",
       "      <td>5</td>\n",
       "      <td>5</td>\n",
       "      <td>1.666667</td>\n",
       "    </tr>\n",
       "    <tr>\n",
       "      <td>1</td>\n",
       "      <td>2</td>\n",
       "      <td>166377</td>\n",
       "      <td>2019-08-05</td>\n",
       "      <td>out</td>\n",
       "      <td>1</td>\n",
       "      <td>880020.0</td>\n",
       "      <td>1</td>\n",
       "      <td>1</td>\n",
       "      <td>0</td>\n",
       "      <td>1</td>\n",
       "      <td>1</td>\n",
       "      <td>1.000000</td>\n",
       "    </tr>\n",
       "    <tr>\n",
       "      <td>2</td>\n",
       "      <td>3</td>\n",
       "      <td>166377</td>\n",
       "      <td>2019-08-05</td>\n",
       "      <td>out</td>\n",
       "      <td>1</td>\n",
       "      <td>880020.0</td>\n",
       "      <td>0</td>\n",
       "      <td>1</td>\n",
       "      <td>10</td>\n",
       "      <td>18</td>\n",
       "      <td>8</td>\n",
       "      <td>8.000000</td>\n",
       "    </tr>\n",
       "    <tr>\n",
       "      <td>3</td>\n",
       "      <td>4</td>\n",
       "      <td>166377</td>\n",
       "      <td>2019-08-05</td>\n",
       "      <td>out</td>\n",
       "      <td>0</td>\n",
       "      <td>880022.0</td>\n",
       "      <td>1</td>\n",
       "      <td>3</td>\n",
       "      <td>0</td>\n",
       "      <td>25</td>\n",
       "      <td>25</td>\n",
       "      <td>8.333333</td>\n",
       "    </tr>\n",
       "    <tr>\n",
       "      <td>4</td>\n",
       "      <td>5</td>\n",
       "      <td>166377</td>\n",
       "      <td>2019-08-05</td>\n",
       "      <td>out</td>\n",
       "      <td>0</td>\n",
       "      <td>880020.0</td>\n",
       "      <td>0</td>\n",
       "      <td>2</td>\n",
       "      <td>3</td>\n",
       "      <td>29</td>\n",
       "      <td>26</td>\n",
       "      <td>13.000000</td>\n",
       "    </tr>\n",
       "  </tbody>\n",
       "</table>\n",
       "</div>"
      ],
      "text/plain": [
       "   index  user_id       date direction  internal  operator_id  is_missed_call  \\\n",
       "0      1   166377 2019-08-05       out         1     880022.0               1   \n",
       "1      2   166377 2019-08-05       out         1     880020.0               1   \n",
       "2      3   166377 2019-08-05       out         1     880020.0               0   \n",
       "3      4   166377 2019-08-05       out         0     880022.0               1   \n",
       "4      5   166377 2019-08-05       out         0     880020.0               0   \n",
       "\n",
       "   calls_count  call_duration  total_call_duration  waiting_time  \\\n",
       "0            3              0                    5             5   \n",
       "1            1              0                    1             1   \n",
       "2            1             10                   18             8   \n",
       "3            3              0                   25            25   \n",
       "4            2              3                   29            26   \n",
       "\n",
       "   avg_wait_time_per_call  \n",
       "0                1.666667  \n",
       "1                1.000000  \n",
       "2                8.000000  \n",
       "3                8.333333  \n",
       "4               13.000000  "
      ]
     },
     "execution_count": 61,
     "metadata": {},
     "output_type": "execute_result"
    }
   ],
   "source": [
    "outgoing_calls = telecom_dataset[telecom_dataset['direction'] == \"out\"].reset_index()\n",
    "outgoing_calls.head(5)"
   ]
  },
  {
   "cell_type": "code",
   "execution_count": 62,
   "metadata": {},
   "outputs": [
    {
     "data": {
      "text/html": [
       "<div>\n",
       "<style scoped>\n",
       "    .dataframe tbody tr th:only-of-type {\n",
       "        vertical-align: middle;\n",
       "    }\n",
       "\n",
       "    .dataframe tbody tr th {\n",
       "        vertical-align: top;\n",
       "    }\n",
       "\n",
       "    .dataframe thead th {\n",
       "        text-align: right;\n",
       "    }\n",
       "</style>\n",
       "<table border=\"1\" class=\"dataframe\">\n",
       "  <thead>\n",
       "    <tr style=\"text-align: right;\">\n",
       "      <th></th>\n",
       "      <th>operator_id</th>\n",
       "      <th>date</th>\n",
       "      <th>calls_count</th>\n",
       "    </tr>\n",
       "  </thead>\n",
       "  <tbody>\n",
       "    <tr>\n",
       "      <td>0</td>\n",
       "      <td>879896.0</td>\n",
       "      <td>2019-08-02</td>\n",
       "      <td>4.333333</td>\n",
       "    </tr>\n",
       "    <tr>\n",
       "      <td>1</td>\n",
       "      <td>879896.0</td>\n",
       "      <td>2019-08-03</td>\n",
       "      <td>5.000000</td>\n",
       "    </tr>\n",
       "    <tr>\n",
       "      <td>2</td>\n",
       "      <td>879896.0</td>\n",
       "      <td>2019-08-04</td>\n",
       "      <td>1.000000</td>\n",
       "    </tr>\n",
       "    <tr>\n",
       "      <td>3</td>\n",
       "      <td>879896.0</td>\n",
       "      <td>2019-08-05</td>\n",
       "      <td>9.333333</td>\n",
       "    </tr>\n",
       "    <tr>\n",
       "      <td>4</td>\n",
       "      <td>879896.0</td>\n",
       "      <td>2019-08-06</td>\n",
       "      <td>16.200000</td>\n",
       "    </tr>\n",
       "    <tr>\n",
       "      <td>...</td>\n",
       "      <td>...</td>\n",
       "      <td>...</td>\n",
       "      <td>...</td>\n",
       "    </tr>\n",
       "    <tr>\n",
       "      <td>15108</td>\n",
       "      <td>972412.0</td>\n",
       "      <td>2019-11-27</td>\n",
       "      <td>13.000000</td>\n",
       "    </tr>\n",
       "    <tr>\n",
       "      <td>15109</td>\n",
       "      <td>972412.0</td>\n",
       "      <td>2019-11-28</td>\n",
       "      <td>17.000000</td>\n",
       "    </tr>\n",
       "    <tr>\n",
       "      <td>15110</td>\n",
       "      <td>972460.0</td>\n",
       "      <td>2019-11-27</td>\n",
       "      <td>2.750000</td>\n",
       "    </tr>\n",
       "    <tr>\n",
       "      <td>15111</td>\n",
       "      <td>972460.0</td>\n",
       "      <td>2019-11-28</td>\n",
       "      <td>19.000000</td>\n",
       "    </tr>\n",
       "    <tr>\n",
       "      <td>15112</td>\n",
       "      <td>973120.0</td>\n",
       "      <td>2019-11-27</td>\n",
       "      <td>1.500000</td>\n",
       "    </tr>\n",
       "  </tbody>\n",
       "</table>\n",
       "<p>15113 rows × 3 columns</p>\n",
       "</div>"
      ],
      "text/plain": [
       "       operator_id       date  calls_count\n",
       "0         879896.0 2019-08-02     4.333333\n",
       "1         879896.0 2019-08-03     5.000000\n",
       "2         879896.0 2019-08-04     1.000000\n",
       "3         879896.0 2019-08-05     9.333333\n",
       "4         879896.0 2019-08-06    16.200000\n",
       "...            ...        ...          ...\n",
       "15108     972412.0 2019-11-27    13.000000\n",
       "15109     972412.0 2019-11-28    17.000000\n",
       "15110     972460.0 2019-11-27     2.750000\n",
       "15111     972460.0 2019-11-28    19.000000\n",
       "15112     973120.0 2019-11-27     1.500000\n",
       "\n",
       "[15113 rows x 3 columns]"
      ]
     },
     "execution_count": 62,
     "metadata": {},
     "output_type": "execute_result"
    }
   ],
   "source": [
    "cnt_outgoing_calls_per_day = outgoing_calls.groupby(['operator_id', 'date'])['calls_count'].mean().reset_index()\n",
    "cnt_outgoing_calls_per_day"
   ]
  },
  {
   "cell_type": "code",
   "execution_count": 63,
   "metadata": {},
   "outputs": [
    {
     "data": {
      "text/plain": [
       "count    15113.000000\n",
       "mean        19.496696\n",
       "std         62.646601\n",
       "min          1.000000\n",
       "25%          2.000000\n",
       "50%          5.000000\n",
       "75%         16.000000\n",
       "max       2511.000000\n",
       "Name: calls_count, dtype: float64"
      ]
     },
     "execution_count": 63,
     "metadata": {},
     "output_type": "execute_result"
    }
   ],
   "source": [
    "cnt_outgoing_calls_per_day['calls_count'].describe()"
   ]
  },
  {
   "cell_type": "code",
   "execution_count": 64,
   "metadata": {},
   "outputs": [
    {
     "data": {
      "text/plain": [
       "<matplotlib.axes._subplots.AxesSubplot at 0x7fe4cd9cc910>"
      ]
     },
     "execution_count": 64,
     "metadata": {},
     "output_type": "execute_result"
    },
    {
     "data": {
      "image/png": "[encoded data removed]",
      "text/plain": [
       "<Figure size 432x432 with 1 Axes>"
      ]
     },
     "metadata": {
      "needs_background": "light"
     },
     "output_type": "display_data"
    }
   ],
   "source": [
    "cnt_outgoing_calls_per_day.boxplot(column='calls_count', figsize=(6,6))"
   ]
  },
  {
   "cell_type": "markdown",
   "metadata": {},
   "source": [
    "\n",
    "Среднее значение по выборке - 19 звонков\n",
    "    \n",
    "Стандартное отклонение - 62,7 говорит нам об анамалиях и выбросах.\n",
    "    \n",
    "25% операторов совершают не более 2ух звонков в день\n",
    "    \n",
    "25% операторов совершают не более 5 звонков в день\n",
    "    \n",
    "25% операторов совершают не более 16 звонков в день\n",
    "    \n",
    "максимальный выброс - 2511 звонков. Предположим, что у оператора 12 часовой рабочий день. Чтобы совершить такое количество звонков, он должен без перерыва совершать звонок через каждые 3 секунды. Данная цифра анамально.\n",
    "    \n",
    "Приблизим boxplot, чтобы посмотреть, где заканчиваются нормальные значения и начинаются выбросы.\n"
   ]
  },
  {
   "cell_type": "code",
   "execution_count": 65,
   "metadata": {},
   "outputs": [
    {
     "data": {
      "text/plain": [
       "(0, 37.5)"
      ]
     },
     "execution_count": 65,
     "metadata": {},
     "output_type": "execute_result"
    },
    {
     "data": {
      "image/png": "[encoded data removed]",
      "text/plain": [
       "<Figure size 432x432 with 1 Axes>"
      ]
     },
     "metadata": {
      "needs_background": "light"
     },
     "output_type": "display_data"
    }
   ],
   "source": [
    "cnt_outgoing_calls_per_day.boxplot(column='calls_count', figsize=(6,6))\n",
    "plt.ylim(0,37.5)"
   ]
  },
  {
   "cell_type": "code",
   "execution_count": 66,
   "metadata": {},
   "outputs": [
    {
     "data": {
      "text/plain": [
       "count    14362.000000\n",
       "mean        10.624050\n",
       "std         13.949063\n",
       "min          1.000000\n",
       "25%          2.000000\n",
       "50%          4.500000\n",
       "75%         13.333333\n",
       "max         69.500000\n",
       "Name: calls_count, dtype: float64"
      ]
     },
     "execution_count": 66,
     "metadata": {},
     "output_type": "execute_result"
    }
   ],
   "source": [
    "cnt_outgoing_calls_per_day_cor = cnt_outgoing_calls_per_day.query('calls_count <= calls_count.quantile(0.95)')\n",
    "cnt_outgoing_calls_per_day_cor['calls_count'].describe()"
   ]
  },
  {
   "cell_type": "code",
   "execution_count": 67,
   "metadata": {},
   "outputs": [
    {
     "data": {
      "text/plain": [
       "Text(0.5, 1.0, 'Количество исходящих звонков в день')"
      ]
     },
     "execution_count": 67,
     "metadata": {},
     "output_type": "execute_result"
    },
    {
     "data": {
      "image/png": "[encoded data removed]",
      "text/plain": [
       "<Figure size 432x288 with 1 Axes>"
      ]
     },
     "metadata": {
      "needs_background": "light"
     },
     "output_type": "display_data"
    }
   ],
   "source": [
    "sns.distplot(cnt_outgoing_calls_per_day_cor['calls_count'], bins=20)\n",
    "plt.title('Количество исходящих звонков в день')"
   ]
  },
  {
   "cell_type": "code",
   "execution_count": 68,
   "metadata": {},
   "outputs": [
    {
     "data": {
      "text/plain": [
       "array([5.5       , 6.75      , 7.33333333])"
      ]
     },
     "execution_count": 68,
     "metadata": {},
     "output_type": "execute_result"
    }
   ],
   "source": [
    "np.percentile(cnt_outgoing_calls_per_day_cor['calls_count'], [55, 60, 62])"
   ]
  },
  {
   "cell_type": "markdown",
   "metadata": {},
   "source": [
    "\n",
    "    \n",
    "По очищенным данным:\n",
    "    \n",
    "Большинство значений находится в диапозоне от 1 до 5\n",
    "    \n",
    "Среднее значение по выборке - 10,62 исходящих звонков в день\n",
    "\n",
    "25% операторов совершают не более 2ух звонков в день\n",
    "\n",
    "50% операторов совершают не более 4,5 звонков в день\n",
    "\n",
    "75% операторов совершают не более 13,3 звонков в день\n",
    "    \n",
    "максимальное количество звонков в день - 69,5\n",
    "    \n",
    "*Сделаем порог в **7 звонков**, до которого количество исходящих звонков будет считаться не достаточным. Соответственно, операторы, совершившие менее 6 звонков в день, будут считаться не эффективными.*"
   ]
  },
  {
   "cell_type": "markdown",
   "metadata": {},
   "source": [
    "\n",
    "    \n",
    "**Функция, определяющая операторов, у которых количество исходящих звонков меньше 6**"
   ]
  },
  {
   "cell_type": "code",
   "execution_count": 69,
   "metadata": {},
   "outputs": [],
   "source": [
    "pd.options.mode.chained_assignment = None"
   ]
  },
  {
   "cell_type": "code",
   "execution_count": 70,
   "metadata": {},
   "outputs": [],
   "source": [
    "def cnt_outgoing_calls(calls_count):\n",
    "    if calls_count < 7:\n",
    "        return 'не эффективно'\n",
    "    else:\n",
    "        return 'в допуске'\n",
    " \n",
    "cnt_outgoing_calls_per_day_cor['check'] = cnt_outgoing_calls_per_day_cor['calls_count'].apply(cnt_outgoing_calls)"
   ]
  },
  {
   "cell_type": "code",
   "execution_count": 71,
   "metadata": {},
   "outputs": [
    {
     "data": {
      "text/html": [
       "<div>\n",
       "<style scoped>\n",
       "    .dataframe tbody tr th:only-of-type {\n",
       "        vertical-align: middle;\n",
       "    }\n",
       "\n",
       "    .dataframe tbody tr th {\n",
       "        vertical-align: top;\n",
       "    }\n",
       "\n",
       "    .dataframe thead th {\n",
       "        text-align: right;\n",
       "    }\n",
       "</style>\n",
       "<table border=\"1\" class=\"dataframe\">\n",
       "  <thead>\n",
       "    <tr style=\"text-align: right;\">\n",
       "      <th></th>\n",
       "      <th>operator_id</th>\n",
       "      <th>date</th>\n",
       "      <th>calls_count</th>\n",
       "      <th>check</th>\n",
       "    </tr>\n",
       "  </thead>\n",
       "  <tbody>\n",
       "    <tr>\n",
       "      <td>0</td>\n",
       "      <td>879896.0</td>\n",
       "      <td>2019-08-02</td>\n",
       "      <td>4.333333</td>\n",
       "      <td>не эффективно</td>\n",
       "    </tr>\n",
       "    <tr>\n",
       "      <td>1</td>\n",
       "      <td>879896.0</td>\n",
       "      <td>2019-08-03</td>\n",
       "      <td>5.000000</td>\n",
       "      <td>не эффективно</td>\n",
       "    </tr>\n",
       "    <tr>\n",
       "      <td>2</td>\n",
       "      <td>879896.0</td>\n",
       "      <td>2019-08-04</td>\n",
       "      <td>1.000000</td>\n",
       "      <td>не эффективно</td>\n",
       "    </tr>\n",
       "    <tr>\n",
       "      <td>3</td>\n",
       "      <td>879896.0</td>\n",
       "      <td>2019-08-05</td>\n",
       "      <td>9.333333</td>\n",
       "      <td>в допуске</td>\n",
       "    </tr>\n",
       "    <tr>\n",
       "      <td>4</td>\n",
       "      <td>879896.0</td>\n",
       "      <td>2019-08-06</td>\n",
       "      <td>16.200000</td>\n",
       "      <td>в допуске</td>\n",
       "    </tr>\n",
       "  </tbody>\n",
       "</table>\n",
       "</div>"
      ],
      "text/plain": [
       "   operator_id       date  calls_count          check\n",
       "0     879896.0 2019-08-02     4.333333  не эффективно\n",
       "1     879896.0 2019-08-03     5.000000  не эффективно\n",
       "2     879896.0 2019-08-04     1.000000  не эффективно\n",
       "3     879896.0 2019-08-05     9.333333      в допуске\n",
       "4     879896.0 2019-08-06    16.200000      в допуске"
      ]
     },
     "execution_count": 71,
     "metadata": {},
     "output_type": "execute_result"
    }
   ],
   "source": [
    "cnt_outgoing_calls_per_day_cor.head()"
   ]
  },
  {
   "cell_type": "markdown",
   "metadata": {},
   "source": [
    "### Шаг 3. Проверка гипотез<a class=\"anchor\" id=\"3-bullet\"></a>"
   ]
  },
  {
   "cell_type": "code",
   "execution_count": 72,
   "metadata": {},
   "outputs": [
    {
     "data": {
      "text/html": [
       "<div>\n",
       "<style scoped>\n",
       "    .dataframe tbody tr th:only-of-type {\n",
       "        vertical-align: middle;\n",
       "    }\n",
       "\n",
       "    .dataframe tbody tr th {\n",
       "        vertical-align: top;\n",
       "    }\n",
       "\n",
       "    .dataframe thead th {\n",
       "        text-align: right;\n",
       "    }\n",
       "</style>\n",
       "<table border=\"1\" class=\"dataframe\">\n",
       "  <thead>\n",
       "    <tr style=\"text-align: right;\">\n",
       "      <th></th>\n",
       "      <th>user_id</th>\n",
       "      <th>date</th>\n",
       "      <th>direction</th>\n",
       "      <th>internal</th>\n",
       "      <th>operator_id</th>\n",
       "      <th>is_missed_call</th>\n",
       "      <th>calls_count</th>\n",
       "      <th>call_duration</th>\n",
       "      <th>total_call_duration</th>\n",
       "      <th>waiting_time</th>\n",
       "      <th>avg_wait_time_per_call</th>\n",
       "      <th>tariff_plan</th>\n",
       "      <th>date_start</th>\n",
       "    </tr>\n",
       "  </thead>\n",
       "  <tbody>\n",
       "    <tr>\n",
       "      <td>0</td>\n",
       "      <td>166377</td>\n",
       "      <td>2019-08-05</td>\n",
       "      <td>out</td>\n",
       "      <td>1</td>\n",
       "      <td>880022.0</td>\n",
       "      <td>1</td>\n",
       "      <td>3</td>\n",
       "      <td>0</td>\n",
       "      <td>5</td>\n",
       "      <td>5</td>\n",
       "      <td>1.666667</td>\n",
       "      <td>B</td>\n",
       "      <td>2019-08-01</td>\n",
       "    </tr>\n",
       "    <tr>\n",
       "      <td>1</td>\n",
       "      <td>166377</td>\n",
       "      <td>2019-08-05</td>\n",
       "      <td>out</td>\n",
       "      <td>1</td>\n",
       "      <td>880020.0</td>\n",
       "      <td>1</td>\n",
       "      <td>1</td>\n",
       "      <td>0</td>\n",
       "      <td>1</td>\n",
       "      <td>1</td>\n",
       "      <td>1.000000</td>\n",
       "      <td>B</td>\n",
       "      <td>2019-08-01</td>\n",
       "    </tr>\n",
       "    <tr>\n",
       "      <td>2</td>\n",
       "      <td>166377</td>\n",
       "      <td>2019-08-05</td>\n",
       "      <td>out</td>\n",
       "      <td>1</td>\n",
       "      <td>880020.0</td>\n",
       "      <td>0</td>\n",
       "      <td>1</td>\n",
       "      <td>10</td>\n",
       "      <td>18</td>\n",
       "      <td>8</td>\n",
       "      <td>8.000000</td>\n",
       "      <td>B</td>\n",
       "      <td>2019-08-01</td>\n",
       "    </tr>\n",
       "    <tr>\n",
       "      <td>3</td>\n",
       "      <td>166377</td>\n",
       "      <td>2019-08-05</td>\n",
       "      <td>out</td>\n",
       "      <td>0</td>\n",
       "      <td>880022.0</td>\n",
       "      <td>1</td>\n",
       "      <td>3</td>\n",
       "      <td>0</td>\n",
       "      <td>25</td>\n",
       "      <td>25</td>\n",
       "      <td>8.333333</td>\n",
       "      <td>B</td>\n",
       "      <td>2019-08-01</td>\n",
       "    </tr>\n",
       "    <tr>\n",
       "      <td>4</td>\n",
       "      <td>166377</td>\n",
       "      <td>2019-08-05</td>\n",
       "      <td>out</td>\n",
       "      <td>0</td>\n",
       "      <td>880020.0</td>\n",
       "      <td>0</td>\n",
       "      <td>2</td>\n",
       "      <td>3</td>\n",
       "      <td>29</td>\n",
       "      <td>26</td>\n",
       "      <td>13.000000</td>\n",
       "      <td>B</td>\n",
       "      <td>2019-08-01</td>\n",
       "    </tr>\n",
       "  </tbody>\n",
       "</table>\n",
       "</div>"
      ],
      "text/plain": [
       "   user_id       date direction  internal  operator_id  is_missed_call  \\\n",
       "0   166377 2019-08-05       out         1     880022.0               1   \n",
       "1   166377 2019-08-05       out         1     880020.0               1   \n",
       "2   166377 2019-08-05       out         1     880020.0               0   \n",
       "3   166377 2019-08-05       out         0     880022.0               1   \n",
       "4   166377 2019-08-05       out         0     880020.0               0   \n",
       "\n",
       "   calls_count  call_duration  total_call_duration  waiting_time  \\\n",
       "0            3              0                    5             5   \n",
       "1            1              0                    1             1   \n",
       "2            1             10                   18             8   \n",
       "3            3              0                   25            25   \n",
       "4            2              3                   29            26   \n",
       "\n",
       "   avg_wait_time_per_call tariff_plan date_start  \n",
       "0                1.666667           B 2019-08-01  \n",
       "1                1.000000           B 2019-08-01  \n",
       "2                8.000000           B 2019-08-01  \n",
       "3                8.333333           B 2019-08-01  \n",
       "4               13.000000           B 2019-08-01  "
      ]
     },
     "execution_count": 72,
     "metadata": {},
     "output_type": "execute_result"
    }
   ],
   "source": [
    "telecom = telecom_dataset.merge(telecom_clients, on='user_id', how='inner')\n",
    "telecom.head()"
   ]
  },
  {
   "cell_type": "code",
   "execution_count": 73,
   "metadata": {},
   "outputs": [
    {
     "name": "stdout",
     "output_type": "stream",
     "text": [
      "<class 'pandas.core.frame.DataFrame'>\n",
      "Int64Index: 45670 entries, 0 to 45669\n",
      "Data columns (total 13 columns):\n",
      "user_id                   45670 non-null int64\n",
      "date                      45670 non-null datetime64[ns]\n",
      "direction                 45670 non-null object\n",
      "internal                  45670 non-null int64\n",
      "operator_id               45670 non-null float64\n",
      "is_missed_call            45670 non-null int64\n",
      "calls_count               45670 non-null int64\n",
      "call_duration             45670 non-null int64\n",
      "total_call_duration       45670 non-null int64\n",
      "waiting_time              45670 non-null int64\n",
      "avg_wait_time_per_call    45670 non-null float64\n",
      "tariff_plan               45670 non-null object\n",
      "date_start                45670 non-null datetime64[ns]\n",
      "dtypes: datetime64[ns](2), float64(2), int64(7), object(2)\n",
      "memory usage: 4.9+ MB\n"
     ]
    }
   ],
   "source": [
    "telecom.info()"
   ]
  },
  {
   "cell_type": "code",
   "execution_count": 74,
   "metadata": {},
   "outputs": [
    {
     "data": {
      "text/plain": [
       "tariff_plan\n",
       "A     32\n",
       "B    101\n",
       "C    157\n",
       "Name: user_id, dtype: int64"
      ]
     },
     "execution_count": 74,
     "metadata": {},
     "output_type": "execute_result"
    }
   ],
   "source": [
    "telecom.groupby('tariff_plan')['user_id'].nunique()"
   ]
  },
  {
   "cell_type": "markdown",
   "metadata": {},
   "source": [
    "\n",
    "    \n",
    "В датасете всего 32 уникальных пользователя, которые используют тариф А ( 11,03%)\n",
    "\n",
    "101 уникальный пользователь использует тариф В (34,83%)\n",
    "    \n",
    "157 уникальный пользователь использует тариф С (54.14%) "
   ]
  },
  {
   "cell_type": "markdown",
   "metadata": {},
   "source": [
    "### 3.1. Проверка гипотезы о различии времени ожидания ответа на входящий звонок в зависимости от тарифного плана<a class=\"anchor\" id=\"3-1-bullet\"></a>"
   ]
  },
  {
   "cell_type": "code",
   "execution_count": 75,
   "metadata": {},
   "outputs": [
    {
     "data": {
      "text/html": [
       "<div>\n",
       "<style scoped>\n",
       "    .dataframe tbody tr th:only-of-type {\n",
       "        vertical-align: middle;\n",
       "    }\n",
       "\n",
       "    .dataframe tbody tr th {\n",
       "        vertical-align: top;\n",
       "    }\n",
       "\n",
       "    .dataframe thead th {\n",
       "        text-align: right;\n",
       "    }\n",
       "</style>\n",
       "<table border=\"1\" class=\"dataframe\">\n",
       "  <thead>\n",
       "    <tr style=\"text-align: right;\">\n",
       "      <th></th>\n",
       "      <th>user_id</th>\n",
       "      <th>date</th>\n",
       "      <th>direction</th>\n",
       "      <th>internal</th>\n",
       "      <th>operator_id</th>\n",
       "      <th>is_missed_call</th>\n",
       "      <th>calls_count</th>\n",
       "      <th>call_duration</th>\n",
       "      <th>total_call_duration</th>\n",
       "      <th>waiting_time</th>\n",
       "      <th>avg_wait_time_per_call</th>\n",
       "      <th>tariff_plan</th>\n",
       "      <th>date_start</th>\n",
       "    </tr>\n",
       "  </thead>\n",
       "  <tbody>\n",
       "    <tr>\n",
       "      <td>0</td>\n",
       "      <td>166377</td>\n",
       "      <td>2019-08-05</td>\n",
       "      <td>out</td>\n",
       "      <td>1</td>\n",
       "      <td>880022.0</td>\n",
       "      <td>1</td>\n",
       "      <td>3</td>\n",
       "      <td>0</td>\n",
       "      <td>5</td>\n",
       "      <td>5</td>\n",
       "      <td>1.666667</td>\n",
       "      <td>B</td>\n",
       "      <td>2019-08-01</td>\n",
       "    </tr>\n",
       "    <tr>\n",
       "      <td>1</td>\n",
       "      <td>166377</td>\n",
       "      <td>2019-08-05</td>\n",
       "      <td>out</td>\n",
       "      <td>1</td>\n",
       "      <td>880020.0</td>\n",
       "      <td>1</td>\n",
       "      <td>1</td>\n",
       "      <td>0</td>\n",
       "      <td>1</td>\n",
       "      <td>1</td>\n",
       "      <td>1.000000</td>\n",
       "      <td>B</td>\n",
       "      <td>2019-08-01</td>\n",
       "    </tr>\n",
       "    <tr>\n",
       "      <td>2</td>\n",
       "      <td>166377</td>\n",
       "      <td>2019-08-05</td>\n",
       "      <td>out</td>\n",
       "      <td>1</td>\n",
       "      <td>880020.0</td>\n",
       "      <td>0</td>\n",
       "      <td>1</td>\n",
       "      <td>10</td>\n",
       "      <td>18</td>\n",
       "      <td>8</td>\n",
       "      <td>8.000000</td>\n",
       "      <td>B</td>\n",
       "      <td>2019-08-01</td>\n",
       "    </tr>\n",
       "    <tr>\n",
       "      <td>3</td>\n",
       "      <td>166377</td>\n",
       "      <td>2019-08-05</td>\n",
       "      <td>out</td>\n",
       "      <td>0</td>\n",
       "      <td>880022.0</td>\n",
       "      <td>1</td>\n",
       "      <td>3</td>\n",
       "      <td>0</td>\n",
       "      <td>25</td>\n",
       "      <td>25</td>\n",
       "      <td>8.333333</td>\n",
       "      <td>B</td>\n",
       "      <td>2019-08-01</td>\n",
       "    </tr>\n",
       "    <tr>\n",
       "      <td>4</td>\n",
       "      <td>166377</td>\n",
       "      <td>2019-08-05</td>\n",
       "      <td>out</td>\n",
       "      <td>0</td>\n",
       "      <td>880020.0</td>\n",
       "      <td>0</td>\n",
       "      <td>2</td>\n",
       "      <td>3</td>\n",
       "      <td>29</td>\n",
       "      <td>26</td>\n",
       "      <td>13.000000</td>\n",
       "      <td>B</td>\n",
       "      <td>2019-08-01</td>\n",
       "    </tr>\n",
       "  </tbody>\n",
       "</table>\n",
       "</div>"
      ],
      "text/plain": [
       "   user_id       date direction  internal  operator_id  is_missed_call  \\\n",
       "0   166377 2019-08-05       out         1     880022.0               1   \n",
       "1   166377 2019-08-05       out         1     880020.0               1   \n",
       "2   166377 2019-08-05       out         1     880020.0               0   \n",
       "3   166377 2019-08-05       out         0     880022.0               1   \n",
       "4   166377 2019-08-05       out         0     880020.0               0   \n",
       "\n",
       "   calls_count  call_duration  total_call_duration  waiting_time  \\\n",
       "0            3              0                    5             5   \n",
       "1            1              0                    1             1   \n",
       "2            1             10                   18             8   \n",
       "3            3              0                   25            25   \n",
       "4            2              3                   29            26   \n",
       "\n",
       "   avg_wait_time_per_call tariff_plan date_start  \n",
       "0                1.666667           B 2019-08-01  \n",
       "1                1.000000           B 2019-08-01  \n",
       "2                8.000000           B 2019-08-01  \n",
       "3                8.333333           B 2019-08-01  \n",
       "4               13.000000           B 2019-08-01  "
      ]
     },
     "execution_count": 75,
     "metadata": {},
     "output_type": "execute_result"
    }
   ],
   "source": [
    "telecom_avg_time = telecom.query('avg_wait_time_per_call <= 42')\n",
    "telecom_avg_time.head()"
   ]
  },
  {
   "cell_type": "code",
   "execution_count": 76,
   "metadata": {},
   "outputs": [
    {
     "data": {
      "text/plain": [
       "count    13078.000000\n",
       "mean        16.158125\n",
       "std          9.269104\n",
       "min          0.000000\n",
       "25%          8.717532\n",
       "50%         16.000000\n",
       "75%         22.000000\n",
       "max         42.000000\n",
       "Name: avg_wait_time_per_call, dtype: float64"
      ]
     },
     "execution_count": 76,
     "metadata": {},
     "output_type": "execute_result"
    }
   ],
   "source": [
    "sample_A = telecom_avg_time[telecom_avg_time['tariff_plan'] == 'A']['avg_wait_time_per_call'].reset_index()\n",
    "sample_A['avg_wait_time_per_call'].describe()"
   ]
  },
  {
   "cell_type": "code",
   "execution_count": 77,
   "metadata": {},
   "outputs": [
    {
     "data": {
      "text/plain": [
       "count    15239.000000\n",
       "mean        15.591886\n",
       "std          9.485725\n",
       "min          0.000000\n",
       "25%          9.000000\n",
       "50%         14.000000\n",
       "75%         20.800000\n",
       "max         42.000000\n",
       "Name: avg_wait_time_per_call, dtype: float64"
      ]
     },
     "execution_count": 77,
     "metadata": {},
     "output_type": "execute_result"
    }
   ],
   "source": [
    "sample_B = telecom_avg_time[telecom_avg_time['tariff_plan'] == 'B']['avg_wait_time_per_call'].reset_index()\n",
    "sample_B['avg_wait_time_per_call'].describe()"
   ]
  },
  {
   "cell_type": "code",
   "execution_count": 78,
   "metadata": {},
   "outputs": [
    {
     "data": {
      "text/plain": [
       "count    15934.000000\n",
       "mean        14.411680\n",
       "std          9.025517\n",
       "min          0.000000\n",
       "25%          7.500000\n",
       "50%         13.545455\n",
       "75%         19.500000\n",
       "max         42.000000\n",
       "Name: avg_wait_time_per_call, dtype: float64"
      ]
     },
     "execution_count": 78,
     "metadata": {},
     "output_type": "execute_result"
    }
   ],
   "source": [
    "sample_С = telecom_avg_time[telecom_avg_time['tariff_plan'] == 'C']['avg_wait_time_per_call'].reset_index()\n",
    "sample_С['avg_wait_time_per_call'].describe()"
   ]
  },
  {
   "cell_type": "markdown",
   "metadata": {},
   "source": [
    "\n",
    "    \n",
    "Посмотрим на график, который характеризует форму распределения"
   ]
  },
  {
   "cell_type": "code",
   "execution_count": 79,
   "metadata": {},
   "outputs": [
    {
     "data": {
      "image/png": "[encoded data removed]",
      "text/plain": [
       "<Figure size 432x288 with 1 Axes>"
      ]
     },
     "metadata": {
      "needs_background": "light"
     },
     "output_type": "display_data"
    }
   ],
   "source": [
    "sns.violinplot(x=\"tariff_plan\", y=\"avg_wait_time_per_call\", data=telecom_avg_time, palette='rainbow');"
   ]
  },
  {
   "cell_type": "markdown",
   "metadata": {},
   "source": [
    "\n",
    "    \n",
    "Медиана в тарифе В (14 сек.) и С (13.5 сек) находится приблизительно на одном уровне, в тарифе А выше (16 сек).\n",
    "    \n",
    "Первый квартиль в тарифе С (7,5 сек) ниже, чем в тарифе А (8.7 сек) и В (9 сек)\n",
    "    \n",
    "Третий квартиль в тарифе С ниже (19,5 сек), чем в тарифе А (22 сек) и В (20 сек)\n",
    "    \n",
    "В тарифе В - один пик. Большинство данных собраны в районе 13 секунд\n",
    "    \n",
    "В трафике С - два пика. Большинство данных собраны в районе 8 и 16 секунд\n",
    "    \n",
    "В трафике А - два пика. Большинство данных собраны в районе 9 и 18 секунд\n",
    "    \n",
    "**По текущим данным быстрее всех отвечают операторы на тарифе С, потом В. Медленнее отвечают операторы на тарифе А**\n",
    "    \n",
    "Проверим гипотезу о разнице между тарифами при помощи стат.значимости"
   ]
  },
  {
   "cell_type": "markdown",
   "metadata": {},
   "source": [
    "\n",
    "    \n",
    "***Нулевая Гипотеза*** - нет статистически значимой разницы между тарифами по времени ожидания ответа на входящий звонок \n",
    "    \n",
    "***Альтернативная гипотеза*** - существует статистически значимая разница между разными тарифами по времени ожидания ответа на входящий звонок."
   ]
  },
  {
   "cell_type": "markdown",
   "metadata": {},
   "source": [
    "**Непараметрический тест Уилкоксона-Манна-Уитни**\n",
    "\n",
    "***тест устойчив к выбросам и анамалиям***\n",
    "\n",
    "    Непараметрических метод заключается том, что он работает с рангами, — номерами значений   в   упорядоченном ряду, —     никак не учитывая сами значения. Поэтому к ним прибегаем тогда, когда работа с самими значениями невозможна из-за       выбросов, сильно сдвигающих параметрические результаты.\n",
    "    В исследовательскому анализе данных были обнаружены выбросы и анамалии в данных."
   ]
  },
  {
   "cell_type": "code",
   "execution_count": 80,
   "metadata": {},
   "outputs": [],
   "source": [
    "sample_A = telecom[telecom['tariff_plan'] == 'A']['avg_wait_time_per_call']\n",
    "sample_B = telecom[telecom['tariff_plan'] == 'B']['avg_wait_time_per_call']\n",
    "sample_C = telecom[telecom['tariff_plan'] == 'C']['avg_wait_time_per_call']"
   ]
  },
  {
   "cell_type": "markdown",
   "metadata": {},
   "source": [
    "***Функция для проведения теста Уилкоксона-Манна-Уитни***"
   ]
  },
  {
   "cell_type": "code",
   "execution_count": 81,
   "metadata": {},
   "outputs": [],
   "source": [
    "def mannwhitneyu_test(a, b, c):\n",
    "    alpha = .05\n",
    "    results_AB_mannwhitneyu = st.mannwhitneyu(sample_A, sample_B)\n",
    "    results_BC_mannwhitneyu = st.mannwhitneyu(sample_B, sample_C)\n",
    "    results_AC_mannwhitneyu = st.mannwhitneyu(sample_A, sample_C)\n",
    "    print('p-значение для сравнения групп А и B: ', results_AB_mannwhitneyu.pvalue)\n",
    "    print('p-значение для сравнения групп B и C: ', results_BC_mannwhitneyu.pvalue)\n",
    "    print('p-значение для сравнения групп А и C: ', results_AC_mannwhitneyu.pvalue)\n",
    "    if (results_AB_mannwhitneyu.pvalue < alpha):\n",
    "        print(\"Отвергаем нулевую гипотезу для сравнения тарифов А и B: разница статистически значима\")\n",
    "    else:\n",
    "        print(\"Не получилось отвергнуть нулевую гипотезу для сравнения тарифов А и B, вывод о различии сделать нельзя\")\n",
    "\n",
    "    if (results_BC_mannwhitneyu.pvalue < alpha):\n",
    "        print(\"Отвергаем нулевую гипотезу для сравнения тарифов B и C: разница статистически значима\")\n",
    "    else:\n",
    "        print(\"Не получилось отвергнуть нулевую гипотезу для сравнения тарифов B и C, вывод о различии сделать нельзя\")\n",
    "\n",
    "    if (results_AC_mannwhitneyu.pvalue < alpha):\n",
    "        print(\"Отвергаем нулевую гипотезу для сравнения тарифов А и C: разница статистически значима\")\n",
    "    else:\n",
    "        print(\"Не получилось отвергнуть нулевую гипотезу для сравнения тарифов А и C, вывод о различии сделать нельзя\")"
   ]
  },
  {
   "cell_type": "code",
   "execution_count": 82,
   "metadata": {},
   "outputs": [
    {
     "name": "stdout",
     "output_type": "stream",
     "text": [
      "p-значение для сравнения групп А и B:  2.3552090724152685e-07\n",
      "p-значение для сравнения групп B и C:  3.3747251947516817e-31\n",
      "p-значение для сравнения групп А и C:  7.228678215357944e-63\n",
      "Отвергаем нулевую гипотезу для сравнения тарифов А и B: разница статистически значима\n",
      "Отвергаем нулевую гипотезу для сравнения тарифов B и C: разница статистически значима\n",
      "Отвергаем нулевую гипотезу для сравнения тарифов А и C: разница статистически значима\n"
     ]
    }
   ],
   "source": [
    "mannwhitneyu_test(sample_A, sample_B, sample_C)"
   ]
  },
  {
   "cell_type": "markdown",
   "metadata": {},
   "source": [
    "### 3.2. Проверка гипотезы о различии числа пропущенных входящих вызовов в зависимости от тарифного плана.<a class=\"anchor\" id=\"3-2-bullet\"></a>"
   ]
  },
  {
   "cell_type": "code",
   "execution_count": 83,
   "metadata": {},
   "outputs": [
    {
     "data": {
      "text/html": [
       "<div>\n",
       "<style scoped>\n",
       "    .dataframe tbody tr th:only-of-type {\n",
       "        vertical-align: middle;\n",
       "    }\n",
       "\n",
       "    .dataframe tbody tr th {\n",
       "        vertical-align: top;\n",
       "    }\n",
       "\n",
       "    .dataframe thead th {\n",
       "        text-align: right;\n",
       "    }\n",
       "</style>\n",
       "<table border=\"1\" class=\"dataframe\">\n",
       "  <thead>\n",
       "    <tr style=\"text-align: right;\">\n",
       "      <th></th>\n",
       "      <th>index</th>\n",
       "      <th>user_id</th>\n",
       "      <th>date</th>\n",
       "      <th>direction</th>\n",
       "      <th>internal</th>\n",
       "      <th>operator_id</th>\n",
       "      <th>is_missed_call</th>\n",
       "      <th>calls_count</th>\n",
       "      <th>call_duration</th>\n",
       "      <th>total_call_duration</th>\n",
       "      <th>waiting_time</th>\n",
       "      <th>avg_wait_time_per_call</th>\n",
       "      <th>tariff_plan</th>\n",
       "      <th>date_start</th>\n",
       "    </tr>\n",
       "  </thead>\n",
       "  <tbody>\n",
       "    <tr>\n",
       "      <td>0</td>\n",
       "      <td>0</td>\n",
       "      <td>166377</td>\n",
       "      <td>2019-08-05</td>\n",
       "      <td>out</td>\n",
       "      <td>1</td>\n",
       "      <td>880022.0</td>\n",
       "      <td>1</td>\n",
       "      <td>3</td>\n",
       "      <td>0</td>\n",
       "      <td>5</td>\n",
       "      <td>5</td>\n",
       "      <td>1.666667</td>\n",
       "      <td>B</td>\n",
       "      <td>2019-08-01</td>\n",
       "    </tr>\n",
       "    <tr>\n",
       "      <td>1</td>\n",
       "      <td>1</td>\n",
       "      <td>166377</td>\n",
       "      <td>2019-08-05</td>\n",
       "      <td>out</td>\n",
       "      <td>1</td>\n",
       "      <td>880020.0</td>\n",
       "      <td>1</td>\n",
       "      <td>1</td>\n",
       "      <td>0</td>\n",
       "      <td>1</td>\n",
       "      <td>1</td>\n",
       "      <td>1.000000</td>\n",
       "      <td>B</td>\n",
       "      <td>2019-08-01</td>\n",
       "    </tr>\n",
       "    <tr>\n",
       "      <td>2</td>\n",
       "      <td>3</td>\n",
       "      <td>166377</td>\n",
       "      <td>2019-08-05</td>\n",
       "      <td>out</td>\n",
       "      <td>0</td>\n",
       "      <td>880022.0</td>\n",
       "      <td>1</td>\n",
       "      <td>3</td>\n",
       "      <td>0</td>\n",
       "      <td>25</td>\n",
       "      <td>25</td>\n",
       "      <td>8.333333</td>\n",
       "      <td>B</td>\n",
       "      <td>2019-08-01</td>\n",
       "    </tr>\n",
       "    <tr>\n",
       "      <td>3</td>\n",
       "      <td>5</td>\n",
       "      <td>166377</td>\n",
       "      <td>2019-08-05</td>\n",
       "      <td>out</td>\n",
       "      <td>0</td>\n",
       "      <td>880020.0</td>\n",
       "      <td>1</td>\n",
       "      <td>8</td>\n",
       "      <td>0</td>\n",
       "      <td>50</td>\n",
       "      <td>50</td>\n",
       "      <td>6.250000</td>\n",
       "      <td>B</td>\n",
       "      <td>2019-08-01</td>\n",
       "    </tr>\n",
       "    <tr>\n",
       "      <td>4</td>\n",
       "      <td>6</td>\n",
       "      <td>166377</td>\n",
       "      <td>2019-08-05</td>\n",
       "      <td>out</td>\n",
       "      <td>0</td>\n",
       "      <td>880020.0</td>\n",
       "      <td>1</td>\n",
       "      <td>8</td>\n",
       "      <td>0</td>\n",
       "      <td>50</td>\n",
       "      <td>50</td>\n",
       "      <td>6.250000</td>\n",
       "      <td>B</td>\n",
       "      <td>2019-08-01</td>\n",
       "    </tr>\n",
       "  </tbody>\n",
       "</table>\n",
       "</div>"
      ],
      "text/plain": [
       "   index  user_id       date direction  internal  operator_id  is_missed_call  \\\n",
       "0      0   166377 2019-08-05       out         1     880022.0               1   \n",
       "1      1   166377 2019-08-05       out         1     880020.0               1   \n",
       "2      3   166377 2019-08-05       out         0     880022.0               1   \n",
       "3      5   166377 2019-08-05       out         0     880020.0               1   \n",
       "4      6   166377 2019-08-05       out         0     880020.0               1   \n",
       "\n",
       "   calls_count  call_duration  total_call_duration  waiting_time  \\\n",
       "0            3              0                    5             5   \n",
       "1            1              0                    1             1   \n",
       "2            3              0                   25            25   \n",
       "3            8              0                   50            50   \n",
       "4            8              0                   50            50   \n",
       "\n",
       "   avg_wait_time_per_call tariff_plan date_start  \n",
       "0                1.666667           B 2019-08-01  \n",
       "1                1.000000           B 2019-08-01  \n",
       "2                8.333333           B 2019-08-01  \n",
       "3                6.250000           B 2019-08-01  \n",
       "4                6.250000           B 2019-08-01  "
      ]
     },
     "execution_count": 83,
     "metadata": {},
     "output_type": "execute_result"
    }
   ],
   "source": [
    "telecom_missed_call = telecom[telecom['is_missed_call'] == 1].reset_index()\n",
    "telecom_missed_call.head()"
   ]
  },
  {
   "cell_type": "code",
   "execution_count": 84,
   "metadata": {},
   "outputs": [
    {
     "data": {
      "text/html": [
       "<div>\n",
       "<style scoped>\n",
       "    .dataframe tbody tr th:only-of-type {\n",
       "        vertical-align: middle;\n",
       "    }\n",
       "\n",
       "    .dataframe tbody tr th {\n",
       "        vertical-align: top;\n",
       "    }\n",
       "\n",
       "    .dataframe thead th {\n",
       "        text-align: right;\n",
       "    }\n",
       "</style>\n",
       "<table border=\"1\" class=\"dataframe\">\n",
       "  <thead>\n",
       "    <tr style=\"text-align: right;\">\n",
       "      <th></th>\n",
       "      <th>tariff_plan</th>\n",
       "      <th>date</th>\n",
       "      <th>calls_count</th>\n",
       "    </tr>\n",
       "  </thead>\n",
       "  <tbody>\n",
       "    <tr>\n",
       "      <td>0</td>\n",
       "      <td>A</td>\n",
       "      <td>2019-08-12</td>\n",
       "      <td>332</td>\n",
       "    </tr>\n",
       "    <tr>\n",
       "      <td>1</td>\n",
       "      <td>A</td>\n",
       "      <td>2019-08-13</td>\n",
       "      <td>370</td>\n",
       "    </tr>\n",
       "    <tr>\n",
       "      <td>2</td>\n",
       "      <td>A</td>\n",
       "      <td>2019-08-14</td>\n",
       "      <td>417</td>\n",
       "    </tr>\n",
       "    <tr>\n",
       "      <td>3</td>\n",
       "      <td>A</td>\n",
       "      <td>2019-08-15</td>\n",
       "      <td>382</td>\n",
       "    </tr>\n",
       "    <tr>\n",
       "      <td>4</td>\n",
       "      <td>A</td>\n",
       "      <td>2019-08-16</td>\n",
       "      <td>515</td>\n",
       "    </tr>\n",
       "  </tbody>\n",
       "</table>\n",
       "</div>"
      ],
      "text/plain": [
       "  tariff_plan       date  calls_count\n",
       "0           A 2019-08-12          332\n",
       "1           A 2019-08-13          370\n",
       "2           A 2019-08-14          417\n",
       "3           A 2019-08-15          382\n",
       "4           A 2019-08-16          515"
      ]
     },
     "execution_count": 84,
     "metadata": {},
     "output_type": "execute_result"
    }
   ],
   "source": [
    "telecom_missed_call = telecom_missed_call.groupby(['tariff_plan', 'date'])['calls_count'].sum().reset_index()\n",
    "telecom_missed_call.head()"
   ]
  },
  {
   "cell_type": "code",
   "execution_count": 85,
   "metadata": {},
   "outputs": [
    {
     "data": {
      "text/plain": [
       "(0, 2600)"
      ]
     },
     "execution_count": 85,
     "metadata": {},
     "output_type": "execute_result"
    },
    {
     "data": {
      "image/png": "[encoded data removed]",
      "text/plain": [
       "<Figure size 432x432 with 1 Axes>"
      ]
     },
     "metadata": {
      "needs_background": "light"
     },
     "output_type": "display_data"
    }
   ],
   "source": [
    "telecom_missed_call.boxplot(column='calls_count', figsize=(6,6))\n",
    "plt.ylim(0,2600)"
   ]
  },
  {
   "cell_type": "code",
   "execution_count": 86,
   "metadata": {},
   "outputs": [],
   "source": [
    "telecom_missed_call_cor = telecom_missed_call.query('calls_count <= 2600')"
   ]
  },
  {
   "cell_type": "code",
   "execution_count": 87,
   "metadata": {},
   "outputs": [
    {
     "data": {
      "text/plain": [
       "count      89.000000\n",
       "mean     1180.820225\n",
       "std       717.061674\n",
       "min       132.000000\n",
       "25%       595.000000\n",
       "50%      1059.000000\n",
       "75%      1729.000000\n",
       "max      2576.000000\n",
       "Name: calls_count, dtype: float64"
      ]
     },
     "execution_count": 87,
     "metadata": {},
     "output_type": "execute_result"
    }
   ],
   "source": [
    "sample_A = telecom_missed_call_cor[telecom_missed_call_cor['tariff_plan'] == 'A'].reset_index()\n",
    "sample_A['calls_count'].describe()"
   ]
  },
  {
   "cell_type": "code",
   "execution_count": 88,
   "metadata": {},
   "outputs": [
    {
     "data": {
      "text/plain": [
       "count     118.000000\n",
       "mean      403.525424\n",
       "std       370.013992\n",
       "min         1.000000\n",
       "25%        98.250000\n",
       "50%       302.500000\n",
       "75%       616.750000\n",
       "max      1213.000000\n",
       "Name: calls_count, dtype: float64"
      ]
     },
     "execution_count": 88,
     "metadata": {},
     "output_type": "execute_result"
    }
   ],
   "source": [
    "sample_B = telecom_missed_call_cor[telecom_missed_call_cor['tariff_plan'] == 'B'].reset_index()\n",
    "sample_B['calls_count'].describe()"
   ]
  },
  {
   "cell_type": "code",
   "execution_count": 89,
   "metadata": {},
   "outputs": [
    {
     "data": {
      "text/plain": [
       "count     104.000000\n",
       "mean      669.903846\n",
       "std       570.339679\n",
       "min         1.000000\n",
       "25%       161.000000\n",
       "50%       608.500000\n",
       "75%       946.750000\n",
       "max      2365.000000\n",
       "Name: calls_count, dtype: float64"
      ]
     },
     "execution_count": 89,
     "metadata": {},
     "output_type": "execute_result"
    }
   ],
   "source": [
    "sample_C = telecom_missed_call_cor[telecom_missed_call_cor['tariff_plan'] == 'C'].reset_index()\n",
    "sample_C['calls_count'].describe()"
   ]
  },
  {
   "cell_type": "code",
   "execution_count": 90,
   "metadata": {},
   "outputs": [
    {
     "data": {
      "image/png": "[encoded data removed]",
      "text/plain": [
       "<Figure size 432x288 with 1 Axes>"
      ]
     },
     "metadata": {
      "needs_background": "light"
     },
     "output_type": "display_data"
    }
   ],
   "source": [
    "sns.violinplot(x=\"tariff_plan\", y=\"calls_count\", data=telecom_missed_call_cor, palette='rainbow');"
   ]
  },
  {
   "cell_type": "markdown",
   "metadata": {},
   "source": [
    "\n",
    "    \n",
    "Медиана в тарифе А (1059 звонков)значительно выше, чем в тарифе С (608,5 зв.). Медиана в тарифе С выше, чем в тарифе В (302,5 звонков)\n",
    "    \n",
    "Первый квартиль в тарифе А (595 зв.) значительно выше, чем в тарифе С (161 зв.). Первый квартиль в тарифе С выше, чем в тарифе В (98,3 зв.)\n",
    "    \n",
    "Третий квартиль в тарифе А (1729 зв.) значительно выше, чем в тарифе С (946,75). Третий квартиль в тарифе С выше, чем в тарифе В (616,8 зв.)\n",
    "    \n",
    "В тарифе В - один значительный пик. Большинство данных собраны в районе 100 звонков. Далее есть не значительный пик в районе 1000 звонков. Максимальное значение - 1213\n",
    "    \n",
    "В трафике С - два пика. Большинство данных собраны в районе 100 и 800 звонков. Максимальное количество 2365\n",
    "    \n",
    "В трафике А - нет значительных пиков.\n",
    "Максимальное количество 2576\n",
    "    \n",
    "**По текущим данным меньше всего пропускают входящие звонки операторы на тарифе В, потом С.Больше всего не отвеченных звонков у операторов на тарифе А**\n",
    "    \n",
    "Проверим гипотезу о разнице между тарифами при помощи стат.значимости\n",
    "    \n"
   ]
  },
  {
   "cell_type": "markdown",
   "metadata": {},
   "source": [
    "\n",
    "\n",
    "***Нулевая Гипотеза*** - нет статистически значимой разницы между тарифами по числу пропущенных входящих вызовов \n",
    "    \n",
    "***Альтернативная гипотеза*** - существует статистически значимая разница между разными тарифами по числу пропущенных входящих вызовов"
   ]
  },
  {
   "cell_type": "markdown",
   "metadata": {},
   "source": [
    "**Непараметрический тест Уилкоксона-Манна-Уитни**\n"
   ]
  },
  {
   "cell_type": "code",
   "execution_count": 91,
   "metadata": {},
   "outputs": [],
   "source": [
    "sample_A = telecom_missed_call[telecom_missed_call['tariff_plan'] == 'A']['calls_count']\n",
    "sample_B = telecom_missed_call[telecom_missed_call['tariff_plan'] == 'B']['calls_count']\n",
    "sample_C = telecom_missed_call[telecom_missed_call['tariff_plan'] == 'C']['calls_count']"
   ]
  },
  {
   "cell_type": "code",
   "execution_count": 92,
   "metadata": {},
   "outputs": [
    {
     "name": "stdout",
     "output_type": "stream",
     "text": [
      "p-значение для сравнения групп А и B:  1.4387176727598636e-21\n",
      "p-значение для сравнения групп B и C:  0.0004035037572698628\n",
      "p-значение для сравнения групп А и C:  1.186758321924151e-10\n",
      "Отвергаем нулевую гипотезу для сравнения тарифов А и B: разница статистически значима\n",
      "Отвергаем нулевую гипотезу для сравнения тарифов B и C: разница статистически значима\n",
      "Отвергаем нулевую гипотезу для сравнения тарифов А и C: разница статистически значима\n"
     ]
    }
   ],
   "source": [
    "mannwhitneyu_test(sample_A, sample_B, sample_C)"
   ]
  },
  {
   "cell_type": "markdown",
   "metadata": {},
   "source": [
    "### 3.3. Проверка гипотезы о различии числа исходящих вызовов в зависимости от тарифного плана.<a class=\"anchor\" id=\"3-3-bullet\"></a>"
   ]
  },
  {
   "cell_type": "code",
   "execution_count": 93,
   "metadata": {},
   "outputs": [
    {
     "data": {
      "text/html": [
       "<div>\n",
       "<style scoped>\n",
       "    .dataframe tbody tr th:only-of-type {\n",
       "        vertical-align: middle;\n",
       "    }\n",
       "\n",
       "    .dataframe tbody tr th {\n",
       "        vertical-align: top;\n",
       "    }\n",
       "\n",
       "    .dataframe thead th {\n",
       "        text-align: right;\n",
       "    }\n",
       "</style>\n",
       "<table border=\"1\" class=\"dataframe\">\n",
       "  <thead>\n",
       "    <tr style=\"text-align: right;\">\n",
       "      <th></th>\n",
       "      <th>index</th>\n",
       "      <th>user_id</th>\n",
       "      <th>date</th>\n",
       "      <th>direction</th>\n",
       "      <th>internal</th>\n",
       "      <th>operator_id</th>\n",
       "      <th>is_missed_call</th>\n",
       "      <th>calls_count</th>\n",
       "      <th>call_duration</th>\n",
       "      <th>total_call_duration</th>\n",
       "      <th>waiting_time</th>\n",
       "      <th>avg_wait_time_per_call</th>\n",
       "      <th>tariff_plan</th>\n",
       "      <th>date_start</th>\n",
       "    </tr>\n",
       "  </thead>\n",
       "  <tbody>\n",
       "    <tr>\n",
       "      <td>0</td>\n",
       "      <td>0</td>\n",
       "      <td>166377</td>\n",
       "      <td>2019-08-05</td>\n",
       "      <td>out</td>\n",
       "      <td>1</td>\n",
       "      <td>880022.0</td>\n",
       "      <td>1</td>\n",
       "      <td>3</td>\n",
       "      <td>0</td>\n",
       "      <td>5</td>\n",
       "      <td>5</td>\n",
       "      <td>1.666667</td>\n",
       "      <td>B</td>\n",
       "      <td>2019-08-01</td>\n",
       "    </tr>\n",
       "    <tr>\n",
       "      <td>1</td>\n",
       "      <td>1</td>\n",
       "      <td>166377</td>\n",
       "      <td>2019-08-05</td>\n",
       "      <td>out</td>\n",
       "      <td>1</td>\n",
       "      <td>880020.0</td>\n",
       "      <td>1</td>\n",
       "      <td>1</td>\n",
       "      <td>0</td>\n",
       "      <td>1</td>\n",
       "      <td>1</td>\n",
       "      <td>1.000000</td>\n",
       "      <td>B</td>\n",
       "      <td>2019-08-01</td>\n",
       "    </tr>\n",
       "    <tr>\n",
       "      <td>2</td>\n",
       "      <td>2</td>\n",
       "      <td>166377</td>\n",
       "      <td>2019-08-05</td>\n",
       "      <td>out</td>\n",
       "      <td>1</td>\n",
       "      <td>880020.0</td>\n",
       "      <td>0</td>\n",
       "      <td>1</td>\n",
       "      <td>10</td>\n",
       "      <td>18</td>\n",
       "      <td>8</td>\n",
       "      <td>8.000000</td>\n",
       "      <td>B</td>\n",
       "      <td>2019-08-01</td>\n",
       "    </tr>\n",
       "    <tr>\n",
       "      <td>3</td>\n",
       "      <td>3</td>\n",
       "      <td>166377</td>\n",
       "      <td>2019-08-05</td>\n",
       "      <td>out</td>\n",
       "      <td>0</td>\n",
       "      <td>880022.0</td>\n",
       "      <td>1</td>\n",
       "      <td>3</td>\n",
       "      <td>0</td>\n",
       "      <td>25</td>\n",
       "      <td>25</td>\n",
       "      <td>8.333333</td>\n",
       "      <td>B</td>\n",
       "      <td>2019-08-01</td>\n",
       "    </tr>\n",
       "    <tr>\n",
       "      <td>4</td>\n",
       "      <td>4</td>\n",
       "      <td>166377</td>\n",
       "      <td>2019-08-05</td>\n",
       "      <td>out</td>\n",
       "      <td>0</td>\n",
       "      <td>880020.0</td>\n",
       "      <td>0</td>\n",
       "      <td>2</td>\n",
       "      <td>3</td>\n",
       "      <td>29</td>\n",
       "      <td>26</td>\n",
       "      <td>13.000000</td>\n",
       "      <td>B</td>\n",
       "      <td>2019-08-01</td>\n",
       "    </tr>\n",
       "  </tbody>\n",
       "</table>\n",
       "</div>"
      ],
      "text/plain": [
       "   index  user_id       date direction  internal  operator_id  is_missed_call  \\\n",
       "0      0   166377 2019-08-05       out         1     880022.0               1   \n",
       "1      1   166377 2019-08-05       out         1     880020.0               1   \n",
       "2      2   166377 2019-08-05       out         1     880020.0               0   \n",
       "3      3   166377 2019-08-05       out         0     880022.0               1   \n",
       "4      4   166377 2019-08-05       out         0     880020.0               0   \n",
       "\n",
       "   calls_count  call_duration  total_call_duration  waiting_time  \\\n",
       "0            3              0                    5             5   \n",
       "1            1              0                    1             1   \n",
       "2            1             10                   18             8   \n",
       "3            3              0                   25            25   \n",
       "4            2              3                   29            26   \n",
       "\n",
       "   avg_wait_time_per_call tariff_plan date_start  \n",
       "0                1.666667           B 2019-08-01  \n",
       "1                1.000000           B 2019-08-01  \n",
       "2                8.000000           B 2019-08-01  \n",
       "3                8.333333           B 2019-08-01  \n",
       "4               13.000000           B 2019-08-01  "
      ]
     },
     "execution_count": 93,
     "metadata": {},
     "output_type": "execute_result"
    }
   ],
   "source": [
    "telecom_outgoing_calls = telecom[telecom['direction'] == \"out\"].reset_index()\n",
    "telecom_outgoing_calls.head(5)"
   ]
  },
  {
   "cell_type": "code",
   "execution_count": 94,
   "metadata": {},
   "outputs": [
    {
     "data": {
      "text/html": [
       "<div>\n",
       "<style scoped>\n",
       "    .dataframe tbody tr th:only-of-type {\n",
       "        vertical-align: middle;\n",
       "    }\n",
       "\n",
       "    .dataframe tbody tr th {\n",
       "        vertical-align: top;\n",
       "    }\n",
       "\n",
       "    .dataframe thead th {\n",
       "        text-align: right;\n",
       "    }\n",
       "</style>\n",
       "<table border=\"1\" class=\"dataframe\">\n",
       "  <thead>\n",
       "    <tr style=\"text-align: right;\">\n",
       "      <th></th>\n",
       "      <th>tariff_plan</th>\n",
       "      <th>date</th>\n",
       "      <th>calls_count</th>\n",
       "    </tr>\n",
       "  </thead>\n",
       "  <tbody>\n",
       "    <tr>\n",
       "      <td>0</td>\n",
       "      <td>A</td>\n",
       "      <td>2019-08-12</td>\n",
       "      <td>332</td>\n",
       "    </tr>\n",
       "    <tr>\n",
       "      <td>1</td>\n",
       "      <td>A</td>\n",
       "      <td>2019-08-13</td>\n",
       "      <td>370</td>\n",
       "    </tr>\n",
       "    <tr>\n",
       "      <td>2</td>\n",
       "      <td>A</td>\n",
       "      <td>2019-08-14</td>\n",
       "      <td>417</td>\n",
       "    </tr>\n",
       "    <tr>\n",
       "      <td>3</td>\n",
       "      <td>A</td>\n",
       "      <td>2019-08-15</td>\n",
       "      <td>382</td>\n",
       "    </tr>\n",
       "    <tr>\n",
       "      <td>4</td>\n",
       "      <td>A</td>\n",
       "      <td>2019-08-16</td>\n",
       "      <td>515</td>\n",
       "    </tr>\n",
       "  </tbody>\n",
       "</table>\n",
       "</div>"
      ],
      "text/plain": [
       "  tariff_plan       date  calls_count\n",
       "0           A 2019-08-12          332\n",
       "1           A 2019-08-13          370\n",
       "2           A 2019-08-14          417\n",
       "3           A 2019-08-15          382\n",
       "4           A 2019-08-16          515"
      ]
     },
     "execution_count": 94,
     "metadata": {},
     "output_type": "execute_result"
    }
   ],
   "source": [
    "telecom_outgoing_calls = telecom_outgoing_calls.groupby(['tariff_plan', 'date'])['calls_count'].sum().reset_index()\n",
    "telecom_missed_call.head()"
   ]
  },
  {
   "cell_type": "code",
   "execution_count": 95,
   "metadata": {},
   "outputs": [
    {
     "data": {
      "text/plain": [
       "(0, 6100)"
      ]
     },
     "execution_count": 95,
     "metadata": {},
     "output_type": "execute_result"
    },
    {
     "data": {
      "image/png": "[encoded data removed]",
      "text/plain": [
       "<Figure size 432x432 with 1 Axes>"
      ]
     },
     "metadata": {
      "needs_background": "light"
     },
     "output_type": "display_data"
    }
   ],
   "source": [
    "telecom_outgoing_calls.boxplot(column='calls_count', figsize=(6,6))\n",
    "plt.ylim(0,6100)"
   ]
  },
  {
   "cell_type": "code",
   "execution_count": 96,
   "metadata": {},
   "outputs": [],
   "source": [
    "telecom_outgoing_calls_cor = telecom_outgoing_calls.query('calls_count <= 6000')"
   ]
  },
  {
   "cell_type": "code",
   "execution_count": 97,
   "metadata": {},
   "outputs": [
    {
     "data": {
      "text/plain": [
       "count      91.000000\n",
       "mean     2783.153846\n",
       "std      1611.440059\n",
       "min       268.000000\n",
       "25%      1477.500000\n",
       "50%      2506.000000\n",
       "75%      3906.500000\n",
       "max      5980.000000\n",
       "Name: calls_count, dtype: float64"
      ]
     },
     "execution_count": 97,
     "metadata": {},
     "output_type": "execute_result"
    }
   ],
   "source": [
    "sample_A = telecom_outgoing_calls_cor[telecom_outgoing_calls_cor['tariff_plan'] == 'A']['calls_count'].reset_index()\n",
    "sample_A['calls_count'].describe()"
   ]
  },
  {
   "cell_type": "code",
   "execution_count": 98,
   "metadata": {},
   "outputs": [
    {
     "data": {
      "text/plain": [
       "count     118.000000\n",
       "mean     1027.466102\n",
       "std       919.611045\n",
       "min         2.000000\n",
       "25%       216.750000\n",
       "50%       843.000000\n",
       "75%      1607.000000\n",
       "max      3043.000000\n",
       "Name: calls_count, dtype: float64"
      ]
     },
     "execution_count": 98,
     "metadata": {},
     "output_type": "execute_result"
    }
   ],
   "source": [
    "sample_B = telecom_outgoing_calls_cor[telecom_outgoing_calls_cor['tariff_plan'] == 'B']['calls_count'].reset_index()\n",
    "sample_B['calls_count'].describe()"
   ]
  },
  {
   "cell_type": "code",
   "execution_count": 99,
   "metadata": {},
   "outputs": [
    {
     "data": {
      "text/plain": [
       "count     107.000000\n",
       "mean     1450.719626\n",
       "std      1198.183954\n",
       "min         1.000000\n",
       "25%       334.500000\n",
       "50%      1404.000000\n",
       "75%      2225.500000\n",
       "max      4923.000000\n",
       "Name: calls_count, dtype: float64"
      ]
     },
     "execution_count": 99,
     "metadata": {},
     "output_type": "execute_result"
    }
   ],
   "source": [
    "sample_C = telecom_outgoing_calls_cor[telecom_outgoing_calls_cor['tariff_plan'] == 'C']['calls_count'].reset_index()\n",
    "sample_C['calls_count'].describe()"
   ]
  },
  {
   "cell_type": "code",
   "execution_count": 100,
   "metadata": {},
   "outputs": [
    {
     "data": {
      "image/png": "[encoded data removed]",
      "text/plain": [
       "<Figure size 432x288 with 1 Axes>"
      ]
     },
     "metadata": {
      "needs_background": "light"
     },
     "output_type": "display_data"
    }
   ],
   "source": [
    "sns.violinplot(x=\"tariff_plan\", y=\"calls_count\", data=telecom_outgoing_calls_cor, palette='rainbow');"
   ]
  },
  {
   "cell_type": "markdown",
   "metadata": {},
   "source": [
    "\n",
    "    \n",
    "Медиана в тарифе А (2506 звонков) значительно выше, чем в тарифе С (1404 зв.). Медиана в тарифе С выше, чем в тарифе В (843 зв.)\n",
    "    \n",
    "Первый квартиль в тарифе А (1477,5 зв.) значительно выше, чем в тарифе С (334,5 зв.). Первый квартиль в тарифе С выше, чем в тарифе В (216,75 зв.)\n",
    "    \n",
    "Третий квартиль в тарифе А (3906 зв.) значительно выше, чем в тарифе С (2225,5 зв.). Третий квартиль в тарифе С выше, чем в тарифе В (1607 зв.)\n",
    "    \n",
    "В тарифе В - один значительный пик. Большинство данных собраны в районе 425 звонков. Далее есть не значительный пик в районе 2550 звонков. Максимальное значение - 3043\n",
    "    \n",
    "В трафике С - два пика. Большинство данных собраны в районе 300 и 2000 звонков. Максимальное количество 4329\n",
    "    \n",
    "В трафике А - нет значительных пиков.\n",
    "Максимальное количество 5980\n",
    "    \n",
    "**По текущим данным операторы тарифа А совершают больше всего исходящих звонков, потом на тарифе С. Меньше всего исходящих звонков у операторов на тарифе В**\n",
    "    \n",
    "Проверим гипотезу о разнице между тарифами при помощи стат.значимости"
   ]
  },
  {
   "cell_type": "markdown",
   "metadata": {},
   "source": [
    "\n",
    "\n",
    "***Нулевая Гипотеза*** - нет статистически значимой разницы между тарифами по числу исходящих вызовов \n",
    "    \n",
    "***Альтернативная гипотеза*** - существует статистически значимая разница между разными тарифами по исходящих вызовов"
   ]
  },
  {
   "cell_type": "markdown",
   "metadata": {},
   "source": [
    "**Непараметрический тест Уилкоксона-Манна-Уитни**\n"
   ]
  },
  {
   "cell_type": "code",
   "execution_count": 101,
   "metadata": {},
   "outputs": [],
   "source": [
    "sample_A = telecom_outgoing_calls[telecom_outgoing_calls['tariff_plan'] == 'A']['calls_count']\n",
    "sample_B = telecom_outgoing_calls[telecom_outgoing_calls['tariff_plan'] == 'B']['calls_count']\n",
    "sample_C = telecom_outgoing_calls[telecom_outgoing_calls['tariff_plan'] == 'C']['calls_count']"
   ]
  },
  {
   "cell_type": "code",
   "execution_count": 102,
   "metadata": {},
   "outputs": [
    {
     "name": "stdout",
     "output_type": "stream",
     "text": [
      "p-значение для сравнения групп А и B:  1.426769856884665e-20\n",
      "p-значение для сравнения групп B и C:  0.010973532139469387\n",
      "p-значение для сравнения групп А и C:  6.575909670210996e-13\n",
      "Отвергаем нулевую гипотезу для сравнения тарифов А и B: разница статистически значима\n",
      "Отвергаем нулевую гипотезу для сравнения тарифов B и C: разница статистически значима\n",
      "Отвергаем нулевую гипотезу для сравнения тарифов А и C: разница статистически значима\n"
     ]
    }
   ],
   "source": [
    "mannwhitneyu_test(sample_A, sample_B, sample_C)"
   ]
  },
  {
   "cell_type": "markdown",
   "metadata": {},
   "source": [
    "### Шаг 4. Выводы и рекомендации<a class=\"anchor\" id=\"4-bullet\"></a>"
   ]
  },
  {
   "cell_type": "markdown",
   "metadata": {},
   "source": [
    "\n",
    "    \n",
    "**1. Количество операторов у клиентов:**    \n",
    "  \n",
    "* У 50% клиентов не более 2ух операторов;    \n",
    "* у 75% клиентов не больше 4 операторов.\n",
    "    \n",
    "**2. Могут ли операторы работать с исходящими и входящими звонками:**\n",
    "    \n",
    "* 49,82% операторов работают как с исходящими, так и с входящими звонками.\n",
    "* 50,18% операторов работают только с одной группой звонков.\n",
    "    \n",
    "**3. Критерий определения неэффективных операторов - время ожидания ответа на входящий внешний звонок**\n",
    "    \n",
    "Определен порог в **15 секунд**, после которого время ожидания будет считаться высоким. Соответственно, операторы отвечающие на внешний входящий звонок, более 15 секунд будут считаться не эффективными.\n",
    "    \n",
    "**4. Критерий определения неэффективных операторов - количество пропущенных звонков**\n",
    "    \n",
    "Определен порог в **6 звонков**, после которого количество пропущенных звонков будет считаться большим. Соответственно, операторы, пропускающие более 5 звонков в день, будут считаться не эффективными.\n",
    "    \n",
    "**5.  Критерий определения неэффективных операторов - количество исходящих звонков**\n",
    "    \n",
    "Определен порог в **7 звонков**, до которого количество исходящих звонков будет считаться не достаточным. Соответственно, операторы, совершившие менее 6 звонков в день, будут считаться не эффективными.\n",
    "    \n",
    "**6. Проверка гипотез**\n",
    "    \n",
    "**6.1. Проверка гипотезы о различии времени ожидания ответа на входящий звонок в зависимости от тарифного плана**\n",
    "    \n",
    "    Отвергаем нулевую гипотезу для сравнения тарифов А и B: разница статистически значима\n",
    "    Отвергаем нулевую гипотезу для сравнения тарифов B и C: разница статистически значима\n",
    "    Отвергаем нулевую гипотезу для сравнения тарифов А и C: разница статистически значима\n",
    "    \n",
    "*По текущим данным быстрее всех отвечают операторы на тарифе С, потом В. Медленнее отвечают операторы на тарифе А*\n",
    "    \n",
    "**6.2. Проверка гипотезы о различии числа пропущенных входящих вызовов в зависимости от тарифного плана.**\n",
    "    \n",
    "    Отвергаем нулевую гипотезу для сравнения тарифов А и B: разница статистически значима\n",
    "    Отвергаем нулевую гипотезу для сравнения тарифов B и C: разница статистически значима\n",
    "    Отвергаем нулевую гипотезу для сравнения тарифов А и C: разница статистически значима\n",
    "    \n",
    "*По текущим данным меньше всего пропускают входящие звонки операторы на тарифе В, потом С.Больше всего не\n",
    "отвеченных звонков у операторов на тарифе А*\n",
    "    \n",
    "**6.3. Проверка гипотезы о различии числа исходящих вызовов в зависимости от тарифного плана.**\n",
    "    \n",
    "    Отвергаем нулевую гипотезу для сравнения тарифов А и B: разница статистически значима\n",
    "    Отвергаем нулевую гипотезу для сравнения тарифов B и C: разница статистически значима\n",
    "    Отвергаем нулевую гипотезу для сравнения тарифов А и C: разница статистически значима\n",
    "    \n",
    "*По текущим данным операторы тарифа А совершают больше всего исходящих звонков, потом на тарифе С. Меньше всего исходящих звонков у операторов на тарифе В*\n",
    "    \n",
    "**Общий вывод по операторам**\n",
    "    \n",
    "* Операторы тарифа **А** ориентированы на исходящие звонки. По данному критерию в этой группе лучший показателей. По входящим звонкам у операторов тарифа А худшие показатели по обоим критериям: время ожидания ответа и количество пропущенных звонков.\n",
    "    \n",
    "    \n",
    "* Операторы тарифа **В** ориентированы на входящие звонки. Лучший показатель по критерию \"число пропущенных звонков\", второе место по показателю \"время ожидания ответа\". Зато по критерию \"количесто исходящих звонков\" показали худший результат.\n",
    "    \n",
    "    \n",
    "* Операторы тарифа **С** ориентированы как на входящие, так и на исходящие звонки. Второе место по критериям \"количество исходящих звонков\" и \"количество пропущенных звонков\". По критерию \"время ожидания\" заняли первое место\n"
   ]
  }
 ],
 "metadata": {
  "kernelspec": {
   "display_name": "Python 3",
   "language": "python",
   "name": "python3"
  },
  "language_info": {
   "codemirror_mode": {
    "name": "ipython",
    "version": 3
   },
   "file_extension": ".py",
   "mimetype": "text/x-python",
   "name": "python",
   "nbconvert_exporter": "python",
   "pygments_lexer": "ipython3",
   "version": "3.7.6"
  }
 },
 "nbformat": 4,
 "nbformat_minor": 4
}
